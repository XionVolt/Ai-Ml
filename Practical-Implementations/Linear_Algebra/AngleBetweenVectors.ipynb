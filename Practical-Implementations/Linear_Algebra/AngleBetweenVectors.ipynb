{
 "cells": [
  {
   "cell_type": "markdown",
   "metadata": {},
   "source": [
    "## Use Case: Finding the Angle Between Two Vectors\n",
    "You can use np.arccos() to compute the angle between two vectors using the dot product formula:\n",
    "```math \n",
    "\\theta = \\cos^{-1} \\left( \\frac{a \\cdot b}{\\lvert{a}\\rvert \\cdot \\lvert{b}\\rvert} \\right)"
   ]
  },
  {
   "cell_type": "code",
   "execution_count": 6,
   "metadata": {},
   "outputs": [
    {
     "name": "stdout",
     "output_type": "stream",
     "text": [
      "Angle in radians: 1.5707963267948966\n",
      "Angle in degrees: 90.0\n"
     ]
    }
   ],
   "source": [
    "# Compute the Angle Between Two 2D Vectors\n",
    "\n",
    "import numpy as np\n",
    "\n",
    "# Define two vectors\n",
    "a = np.array([1, 0])\n",
    "b = np.array([0, 1])\n",
    "\n",
    "# Compute dot product\n",
    "dot_product = np.dot(a, b)\n",
    "\n",
    "# Compute magnitudes (norms)\n",
    "norm_a = np.linalg.norm(a)\n",
    "norm_b = np.linalg.norm(b)\n",
    "\n",
    "# Compute angle in radians\n",
    "theta = np.arccos(dot_product / (norm_a * norm_b))\n",
    "\n",
    "# Convert to degrees\n",
    "theta_degrees = np.degrees(theta)\n",
    "\n",
    "print(\"Angle in radians:\", theta)\n",
    "print(\"Angle in degrees:\", theta_degrees)\n"
   ]
  },
  {
   "cell_type": "markdown",
   "metadata": {},
   "source": [
    "## Radians Explanation\n",
    "\n",
    "#### 📌 What Are Radians?\n",
    "\n",
    "A radian is a unit of angular measure based on the radius of a circle. It represents the angle subtended at the center of a circle by an arc ***equal in length to the radius*** of the circle.\n",
    "\n",
    "[See this clip to see 1 radian, and more about radiant](https://youtu.be/TGC4K6AMf7Y?si=W_eCwHnWLF0nYjNQ&t=107)\n",
    "\n",
    "Mathematically, \n",
    "```math\n",
    "\\theta_{radian} = S/r \\text{  ( where S is the arc that subtends the angle, and r is radius of that circle ) }\n",
    "```\n",
    "\n",
    "🔹 Key Facts About Radians:\n",
    "\n",
    "- One full circle = 2𝜋 radians (≈ 6.283 radians).\n",
    "- Half a circle (180°) = 𝜋 radians (≈ 3.1416 radians).\n",
    "- Quarter circle (90°) = 𝜋/2 radians (≈ 1.5708 radians).\n",
    "- 1 radian ≈ 57.2958 degrees (since 180∘ = 𝜋 radians).\n",
    "\n",
    "🔥 Radians vs Degrees:\n",
    "\n",
    "| Degrees (°) | Radians |\n",
    "|------------|------------|\n",
    "| 0°  | 0 rad |\n",
    "| 30° | 𝜋/6 rad |\n",
    "| 45° | 𝜋/4 rad |\n",
    "| 60° | 𝜋/3 rad |\n",
    "| 90° | 𝜋/2 rad |\n",
    "| 180° | 𝜋 rad |\n",
    "| 270° | 3𝜋/2 rad |\n",
    "| 360° | 2𝜋 rad |\n",
    "\n",
    "\n",
    "✅ Converting Between Degrees and Radians in Python\n",
    "\n",
    "Use numpy.radians() and numpy.degrees() for conversion:\n",
    "\n",
    "```python\n",
    "import numpy as np\n",
    "\n",
    "# Convert degrees to radians\n",
    "radians = np.radians(180)\n",
    "print(radians)  # Output: 3.141592653589793 (π)\n",
    "\n",
    "# Convert radians to degrees\n",
    "degrees = np.degrees(np.pi / 2)\n",
    "print(degrees)  # Output: 90.0\n",
    "```\n",
    "\n",
    "## Why Use Radians?\n",
    "\n",
    "Radians are more natural in mathematics and physics, especially in trigonometry and calculus, where functions like sin, cos, and tan work best in radian mode. 🚀\n",
    "\n"
   ]
  },
  {
   "cell_type": "code",
   "execution_count": 5,
   "metadata": {},
   "outputs": [
    {
     "data": {
      "text/plain": [
       "np.float64(90.0)"
      ]
     },
     "execution_count": 5,
     "metadata": {},
     "output_type": "execute_result"
    }
   ],
   "source": [
    "np.degrees(1.5707963267948966)"
   ]
  }
 ],
 "metadata": {
  "kernelspec": {
   "display_name": "Python 3",
   "language": "python",
   "name": "python3"
  },
  "language_info": {
   "codemirror_mode": {
    "name": "ipython",
    "version": 3
   },
   "file_extension": ".py",
   "mimetype": "text/x-python",
   "name": "python",
   "nbconvert_exporter": "python",
   "pygments_lexer": "ipython3",
   "version": "3.13.2"
  }
 },
 "nbformat": 4,
 "nbformat_minor": 2
}
