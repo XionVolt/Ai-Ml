{
 "cells": [
  {
   "cell_type": "markdown",
   "metadata": {},
   "source": [
    "```\n",
    "            Coefficient matrix  |    Variables     =  Constant vector             \n",
    "2x+5y=-3        | 2 5 |               | x |            | -3 |                      \n",
    "4x+0y=0   ->    | 4 0 |               | y |            |  0 |                      \n",
    "                  A                     b          =      v                        \n",
    "```"
   ]
  },
  {
   "cell_type": "markdown",
   "metadata": {},
   "source": [
    "#### So we have to find x and y variables , basically we have to find vector `b` for it \n",
    "##### As we know we can do : b = A <sup>-1</sup>.v ; to find `b`"
   ]
  },
  {
   "cell_type": "code",
   "execution_count": 11,
   "metadata": {},
   "outputs": [
    {
     "data": {
      "text/plain": [
       "'x_Variable 0.0, y_Variable -0.6000000000000001'"
      ]
     },
     "execution_count": 11,
     "metadata": {},
     "output_type": "execute_result"
    }
   ],
   "source": [
    "import numpy as np\n",
    "A = np.array([[2,5],\n",
    "              [4,0]])\n",
    "if np.linalg.det(A) != 0: # because if determinant is 0 , inverse is not possible\n",
    "  A_inverse = np.linalg.inv(A)\n",
    "vector_V = np.array([-3,0])\n",
    "b = A_inverse @ vector_V\n",
    "x,y=b\n",
    "f'x_Variable {x}, y_Variable {y}'"
   ]
  }
 ],
 "metadata": {
  "kernelspec": {
   "display_name": "Python 3",
   "language": "python",
   "name": "python3"
  },
  "language_info": {
   "codemirror_mode": {
    "name": "ipython",
    "version": 3
   },
   "file_extension": ".py",
   "mimetype": "text/x-python",
   "name": "python",
   "nbconvert_exporter": "python",
   "pygments_lexer": "ipython3",
   "version": "3.11.3"
  }
 },
 "nbformat": 4,
 "nbformat_minor": 2
}
