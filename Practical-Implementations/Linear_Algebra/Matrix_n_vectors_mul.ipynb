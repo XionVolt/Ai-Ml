{
 "cells": [
  {
   "cell_type": "markdown",
   "metadata": {},
   "source": [
    "# In python we can multiplty matrix and vector or matrix using numpy , like this: \n"
   ]
  },
  {
   "cell_type": "code",
   "execution_count": 1,
   "metadata": {},
   "outputs": [],
   "source": [
    "import numpy as np"
   ]
  },
  {
   "cell_type": "code",
   "execution_count": 10,
   "metadata": {},
   "outputs": [
    {
     "data": {
      "text/plain": [
       "array([[27, 19, 46, 36],\n",
       "       [16, 44, 12, 68],\n",
       "       [14,  5, 27,  7]])"
      ]
     },
     "execution_count": 10,
     "metadata": {},
     "output_type": "execute_result"
    }
   ],
   "source": [
    "# Matrix\n",
    "A = np.array([[2, 5, 3],\n",
    "              [4, 0, 8],\n",
    "              [1, 3, 0]])\n",
    "    \n",
    "\n",
    "# Matrix and matrix multiplication\n",
    "B = np.array([[2, 5, 3,1],\n",
    "              [4, 0, 8,2],\n",
    "              [1, 3, 0,8],\n",
    "              ])\n",
    "A@B # so its different form A*B because if we did that Python will think B as scalar and instead of multiplying A matrix by B matrix , it scales the A matrix by B times \n",
    "# instead of A@B we can also do this \n",
    "# np.dot(A, B) "
   ]
  },
  {
   "cell_type": "code",
   "execution_count": 6,
   "metadata": {},
   "outputs": [
    {
     "data": {
      "text/plain": [
       "array([48, 60, 16])"
      ]
     },
     "execution_count": 6,
     "metadata": {},
     "output_type": "execute_result"
    }
   ],
   "source": [
    "# Matrix and vector multiplication\n",
    "vec = np.array([1,5,7])\n",
    "transformed_vec = A@vec\n",
    "transformed_vec"
   ]
  }
 ],
 "metadata": {
  "kernelspec": {
   "display_name": "Python 3",
   "language": "python",
   "name": "python3"
  },
  "language_info": {
   "codemirror_mode": {
    "name": "ipython",
    "version": 3
   },
   "file_extension": ".py",
   "mimetype": "text/x-python",
   "name": "python",
   "nbconvert_exporter": "python",
   "pygments_lexer": "ipython3",
   "version": "3.11.3"
  }
 },
 "nbformat": 4,
 "nbformat_minor": 2
}
