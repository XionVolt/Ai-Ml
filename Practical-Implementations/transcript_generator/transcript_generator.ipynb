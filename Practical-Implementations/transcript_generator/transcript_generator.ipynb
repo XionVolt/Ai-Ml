{
 "cells": [
  {
   "cell_type": "markdown",
   "metadata": {},
   "source": [
    "## Install Dependencies"
   ]
  },
  {
   "cell_type": "code",
   "execution_count": null,
   "metadata": {},
   "outputs": [],
   "source": [
    "# by putting ! in front of the command(in ipynb files), we are executing it in the terminal\n",
    "\"\"\"\n",
    "For Speech to Text\n",
    "\"\"\"\n",
    "!pip install openai-whisper\n",
    "\n",
    "\n",
    "\n",
    "\"\"\"\n",
    "youtube-dl is a command-line program to download videos from YouTube and other video sites, and it can also be used \n",
    "as a Python module to integrate video downloading functionality into Python scripts\n",
    "\"\"\"\n",
    "!pip install yt-dlp"
   ]
  },
  {
   "cell_type": "code",
   "execution_count": null,
   "metadata": {},
   "outputs": [
    {
     "name": "stdout",
     "output_type": "stream",
     "text": [
      "[youtube] Extracting URL: https://youtu.be/ljMy32SxQ5w?si=tc1Yqbfx7h9uSyVH&t=18\n",
      "[youtube] ljMy32SxQ5w: Downloading webpage\n",
      "[youtube] ljMy32SxQ5w: Downloading tv client config\n",
      "[youtube] ljMy32SxQ5w: Downloading player 91201489\n",
      "[youtube] ljMy32SxQ5w: Downloading tv player API JSON\n",
      "[youtube] ljMy32SxQ5w: Downloading ios player API JSON\n",
      "[youtube] ljMy32SxQ5w: Downloading m3u8 information\n",
      "[info] ljMy32SxQ5w: Downloading 1 format(s): 140\n",
      "[download] Destination: Instinct ｜ Meaning of instinct.m4a\n",
      "[download] 100% of    1.00MiB in 00:00:00 at 3.47MiB/s   Downloaded: Instinct ｜ Meaning of instinct.m4a\n",
      "\n",
      "[FixupM4a] Correcting container of \"Instinct ｜ Meaning of instinct.m4a\"\n",
      "Running: ffmpeg -i \"Instinct ｜ Meaning of instinct.m4a\" -vn -acodec libmp3lame -ab 192k -ar 44100 -y \"output.wav\"\n"
     ]
    }
   ],
   "source": [
    "import yt_dlp , os\n",
    "video_url = input(\"Enter the URL of the YouTube video: \")\n",
    "\n",
    "'''\n",
    "%(title)s → This gets replaced with the title of the YouTube video.\n",
    "%(ext)s → This gets replaced with the file extension (like .mp4, .mp3, etc.).\n",
    "The . in between → Ensures the filename is formatted like video_title.mp3 (or the correct extension).\n",
    "'''\n",
    "\n",
    "\n",
    "downloaded_filename = None  # Global variable to store filename\n",
    "\n",
    "def my_hook(d):\n",
    "    global downloaded_filename\n",
    "    if d['status'] == 'finished':  # Capture filename when download completes\n",
    "        downloaded_filename = d['filename']\n",
    "        print(f\"Downloaded: {downloaded_filename}\")\n",
    "\n",
    "ydl_opts = {\n",
    "    'format': 'bestaudio/best',\n",
    "    'outtmpl': '%(title)s.%(ext)s',  # Save filename as Title.extension\n",
    "    'progress_hooks': [my_hook]  # Attach hook to capture filename\n",
    "}\n",
    "\n",
    "# yt_dlp stand for \n",
    "with yt_dlp.YoutubeDL(ydl_opts) as ydl:\n",
    "    ydl.download([video_url])\n",
    "\n",
    "# Now, use the captured filename in ffmpeg command\n",
    "if downloaded_filename:\n",
    "    ffmpeg_cmd = f'ffmpeg -i \"{downloaded_filename}\" -vn -acodec libmp3lame -ab 192k -ar 44100 -y \"output.wav\"'\n",
    "    print(\"Running:\", ffmpeg_cmd)\n",
    "    os.system(ffmpeg_cmd)\n",
    "\n",
    "    # Clean up downloaded file\n",
    "    os.remove(downloaded_filename)\n",
    "\n",
    "# so now we finally have to do audio text , save it in file and boom we got transcript"
   ]
  },
  {
   "cell_type": "markdown",
   "metadata": {},
   "source": [
    "### FFmpeg Command Breakdown\n",
    "\n",
    "- `-i \"{downloaded_filename}\"`: Specifies the input file (the downloaded video).\n",
    "- `-vn`: Removes the video stream, keeping only the audio.\n",
    "- `-acodec libmp3lame`: Uses the MP3 codec for audio conversion.\n",
    "- `-ab 192k`: Sets the audio bitrate to 192kbps.\n",
    "- `-ar 44100`: Sets the audio sample rate to 44.1kHz.\n",
    "- `-y \"output.wav\"`: Saves the output as \"output.wav\", overwriting if it already exists.\n",
    "\n",
    "### Execution\n",
    "- `os.system(ffmpeg_cmd)`: Basically executes this command in terminal.\n"
   ]
  },
  {
   "cell_type": "code",
   "execution_count": null,
   "metadata": {},
   "outputs": [],
   "source": [
    "# Convert audio to text\n",
    "import whisper\n",
    "# Whisper provides different models with varying sizes and accuracy: \n",
    "# whisper.load_model will automatically install base(or any you specify) model\n",
    "model = whisper.load_model(\"base\")\n",
    "result = model.transcribe(\"output.wav\",fp16=False)\n",
    "\n",
    "\"\"\" \n",
    "Basically result[\"segments\"] is a list of segments where Whisper breaks the audio into small parts and transcribes each one separately.\n",
    "It contains timestamps, text, and confidence scores for each segment\n",
    "Each item in result[\"segments\"] is a dictionary with:\n",
    "Key Meaning\n",
    "\n",
    "Each item in result[\"segments\"] is a dictionary with:\n",
    "start - Segment start time (in seconds)\n",
    "end\t- Segment end time (in seconds)\n",
    "text - The transcribed text for this segment\n",
    "no_speech_prob - Probability of no speech detected\n",
    "and more ..., which you read on docs(lot of docs available on internet)\n",
    "\"\"\"\n",
    "# result['text'] give text that \n",
    "with open(\"transcript.txt\", \"w\") as f:\n",
    "    for segment in result[\"segments\"]:\n",
    "        f.write(f\"[{segment['start']:.2f}s] {segment['text']}  [{segment['end']:.2f}]\\n\\n\")\n",
    "\n",
    "\n",
    "# If lot of empty lines are coming in transcribed output: \n",
    "\"\"\" \n",
    "Filter Out Low-Confidence Segments\n",
    "\n",
    "filtered_text = \"\"\n",
    "for segment in result[\"segments\"]:\n",
    "    if segment[\"no_speech_prob\"] < 0.5:  # Only keep confident speech\n",
    "        # that file written logic here!!\n",
    "\"\"\"\n",
    "# os.remove(\"output.wav\")"
   ]
  },
  {
   "cell_type": "markdown",
   "metadata": {},
   "source": [
    "#### What it achieve until: Can process short audios(especially if they are not songs) , Take longer time for long audios"
   ]
  }
 ],
 "metadata": {
  "kernelspec": {
   "display_name": "Python 3",
   "language": "python",
   "name": "python3"
  },
  "language_info": {
   "codemirror_mode": {
    "name": "ipython",
    "version": 3
   },
   "file_extension": ".py",
   "mimetype": "text/x-python",
   "name": "python",
   "nbconvert_exporter": "python",
   "pygments_lexer": "ipython3",
   "version": "3.12.4"
  }
 },
 "nbformat": 4,
 "nbformat_minor": 2
}
