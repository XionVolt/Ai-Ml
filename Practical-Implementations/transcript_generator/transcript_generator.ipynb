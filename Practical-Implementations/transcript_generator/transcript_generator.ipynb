{
 "cells": [
  {
   "cell_type": "markdown",
   "metadata": {},
   "source": [
    "## 0. Install and Import Dependencies"
   ]
  },
  {
   "cell_type": "code",
   "execution_count": null,
   "metadata": {},
   "outputs": [],
   "source": [
    "# by putting ! in front of the command(in ipynb files), we are executing it in the terminal\n",
    "import os\n",
    "\"\"\"\n",
    "The IBM Watson module for Python, also known as watson-developer-cloud, is a client library that allows developers \n",
    "to interact with IBM Watson services in Python and is available via pip.\n",
    "This library provides access to various IBM Watson APIs, enabling functionalities such as speech-to-text through \n",
    "its WebSocket interface.\n",
    "\"\"\"\n",
    "!pip install ibm_watson\n",
    "\n",
    "\n",
    "# for extracting audio from downloaded video\n",
    "!pip install moviepy\n",
    "\n",
    "\"\"\"\n",
    "youtube-dl is a command-line program to download videos from YouTube and other video sites, and it can also be used \n",
    "as a Python module to integrate video downloading functionality into Python scripts\n",
    "\"\"\"\n",
    "!pip install yt-dlp"
   ]
  },
  {
   "cell_type": "code",
   "execution_count": null,
   "metadata": {},
   "outputs": [
    {
     "name": "stdout",
     "output_type": "stream",
     "text": [
      "[youtube] Extracting URL: https://youtu.be/EcCTIExsqmI?si=fZcQYeGqET3eBXXN\n",
      "[youtube] EcCTIExsqmI: Downloading webpage\n",
      "[youtube] EcCTIExsqmI: Downloading tv client config\n",
      "[youtube] EcCTIExsqmI: Downloading player f6e09c70\n",
      "[youtube] EcCTIExsqmI: Downloading tv player API JSON\n",
      "[youtube] EcCTIExsqmI: Downloading ios player API JSON\n",
      "[youtube] EcCTIExsqmI: Downloading m3u8 information\n",
      "[info] EcCTIExsqmI: Downloading 1 format(s): 251\n",
      "[download] Learn TypeScript Generics In 13 Minutes.webm has already been downloaded\n",
      "[download] 100% of   11.39MiBDownloaded: Learn TypeScript Generics In 13 Minutes.webm\n",
      "\n",
      "Running: ffmpeg -i \"Learn TypeScript Generics In 13 Minutes.webm\" -vn -acodec libmp3lame -ab 192k -ar 44100 -y \"output.wav\"\n"
     ]
    }
   ],
   "source": [
    "import yt_dlp\n",
    "video_url = \"https://youtu.be/EcCTIExsqmI?si=fZcQYeGqET3eBXXN\"\n",
    "\n",
    "'''\n",
    "%(title)s → This gets replaced with the title of the YouTube video.\n",
    "%(ext)s → This gets replaced with the file extension (like .mp4, .mp3, etc.).\n",
    "The . in between → Ensures the filename is formatted like video_title.mp3 (or the correct extension).\n",
    "'''\n",
    "\n",
    "\n",
    "downloaded_filename = None  # Global variable to store filename\n",
    "\n",
    "def my_hook(d):\n",
    "    global downloaded_filename\n",
    "    if d['status'] == 'finished':  # Capture filename when download completes\n",
    "        downloaded_filename = d['filename']\n",
    "        print(f\"Downloaded: {downloaded_filename}\")\n",
    "\n",
    "ydl_opts = {\n",
    "    'format': 'bestaudio/best',\n",
    "    'outtmpl': '%(title)s.%(ext)s',  # Save filename as Title.extension\n",
    "    'progress_hooks': [my_hook]  # Attach hook to capture filename\n",
    "}\n",
    "\n",
    "with yt_dlp.YoutubeDL(ydl_opts) as ydl:\n",
    "    ydl.download([video_url])\n",
    "\n",
    "# Now, use the captured filename in ffmpeg command\n",
    "if downloaded_filename:\n",
    "    ffmpeg_cmd = f'ffmpeg -i \"{downloaded_filename}\" -vn -acodec libmp3lame -ab 192k -ar 44100 -y \"output.wav\"'\n",
    "    print(\"Running:\", ffmpeg_cmd)\n",
    "    os.system(ffmpeg_cmd)\n",
    "\n",
    "    # Clean up downloaded file\n",
    "    os.remove(downloaded_filename)\n",
    "\n",
    "# so now we finally have to do audio text , save it in file and boom we got transcript"
   ]
  }
 ],
 "metadata": {
  "kernelspec": {
   "display_name": "Python 3",
   "language": "python",
   "name": "python3"
  },
  "language_info": {
   "codemirror_mode": {
    "name": "ipython",
    "version": 3
   },
   "file_extension": ".py",
   "mimetype": "text/x-python",
   "name": "python",
   "nbconvert_exporter": "python",
   "pygments_lexer": "ipython3",
   "version": "3.12.4"
  }
 },
 "nbformat": 4,
 "nbformat_minor": 2
}
