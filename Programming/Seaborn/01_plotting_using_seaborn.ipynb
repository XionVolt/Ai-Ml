{
 "cells": [
  {
   "cell_type": "markdown",
   "id": "0aaf25ee",
   "metadata": {},
   "source": [
    "# [Why seaborn](https://www.youtube.com/live/DWVLRhnuGqI?si=boYC0r4mmFghDJK7&t=397)"
   ]
  },
  {
   "cell_type": "code",
   "execution_count": 7,
   "id": "f1ecdebd",
   "metadata": {},
   "outputs": [],
   "source": [
    "import numpy as np\n",
    "import pandas as pd\n",
    "import matplotlib.pyplot as plt\n",
    "import seaborn as sns\n",
    "import plotly.express as px"
   ]
  },
  {
   "cell_type": "code",
   "execution_count": null,
   "id": "50bbefd6",
   "metadata": {},
   "outputs": [],
   "source": [
    "# Types of Functions -> https://www.youtube.com/live/DWVLRhnuGqI?si=k7-681D1UP-4XkFr&t=547\n",
    "# 1. Figure Level\n",
    "# 2. Axes Level\n"
   ]
  },
  {
   "cell_type": "code",
   "execution_count": null,
   "id": "5d0ec203",
   "metadata": {},
   "outputs": [],
   "source": [
    "# 6 different types of graphs classification in seaborn -> https://www.youtube.com/live/DWVLRhnuGqI?si=6Xxt-RnjsrkrWk7E&t=797"
   ]
  },
  {
   "cell_type": "markdown",
   "id": "0400029f",
   "metadata": {},
   "source": [
    "# 1. [Relational Plot](https://www.youtube.com/live/DWVLRhnuGqI?si=a4jxJv_BpCoXizW9&t=1187)\n",
    "- to see the statistical relation between 2 or more variables\n",
    "- Bivariate analysis\n",
    "\n",
    "Plots under this section\n",
    "- scatterplot\n",
    "- lineplot"
   ]
  },
  {
   "cell_type": "code",
   "execution_count": 9,
   "id": "660e6a6a",
   "metadata": {},
   "outputs": [
    {
     "data": {
      "application/vnd.microsoft.datawrangler.viewer.v0+json": {
       "columns": [
        {
         "name": "index",
         "rawType": "int64",
         "type": "integer"
        },
        {
         "name": "total_bill",
         "rawType": "float64",
         "type": "float"
        },
        {
         "name": "tip",
         "rawType": "float64",
         "type": "float"
        },
        {
         "name": "sex",
         "rawType": "category",
         "type": "unknown"
        },
        {
         "name": "smoker",
         "rawType": "category",
         "type": "unknown"
        },
        {
         "name": "day",
         "rawType": "category",
         "type": "unknown"
        },
        {
         "name": "time",
         "rawType": "category",
         "type": "unknown"
        },
        {
         "name": "size",
         "rawType": "int64",
         "type": "integer"
        }
       ],
       "conversionMethod": "pd.DataFrame",
       "ref": "1b3df31e-52b0-44e9-8b89-2a25bb6f0d35",
       "rows": [
        [
         "0",
         "16.99",
         "1.01",
         "Female",
         "No",
         "Sun",
         "Dinner",
         "2"
        ],
        [
         "1",
         "10.34",
         "1.66",
         "Male",
         "No",
         "Sun",
         "Dinner",
         "3"
        ],
        [
         "2",
         "21.01",
         "3.5",
         "Male",
         "No",
         "Sun",
         "Dinner",
         "3"
        ],
        [
         "3",
         "23.68",
         "3.31",
         "Male",
         "No",
         "Sun",
         "Dinner",
         "2"
        ],
        [
         "4",
         "24.59",
         "3.61",
         "Female",
         "No",
         "Sun",
         "Dinner",
         "4"
        ],
        [
         "5",
         "25.29",
         "4.71",
         "Male",
         "No",
         "Sun",
         "Dinner",
         "4"
        ],
        [
         "6",
         "8.77",
         "2.0",
         "Male",
         "No",
         "Sun",
         "Dinner",
         "2"
        ],
        [
         "7",
         "26.88",
         "3.12",
         "Male",
         "No",
         "Sun",
         "Dinner",
         "4"
        ],
        [
         "8",
         "15.04",
         "1.96",
         "Male",
         "No",
         "Sun",
         "Dinner",
         "2"
        ],
        [
         "9",
         "14.78",
         "3.23",
         "Male",
         "No",
         "Sun",
         "Dinner",
         "2"
        ],
        [
         "10",
         "10.27",
         "1.71",
         "Male",
         "No",
         "Sun",
         "Dinner",
         "2"
        ],
        [
         "11",
         "35.26",
         "5.0",
         "Female",
         "No",
         "Sun",
         "Dinner",
         "4"
        ],
        [
         "12",
         "15.42",
         "1.57",
         "Male",
         "No",
         "Sun",
         "Dinner",
         "2"
        ],
        [
         "13",
         "18.43",
         "3.0",
         "Male",
         "No",
         "Sun",
         "Dinner",
         "4"
        ],
        [
         "14",
         "14.83",
         "3.02",
         "Female",
         "No",
         "Sun",
         "Dinner",
         "2"
        ],
        [
         "15",
         "21.58",
         "3.92",
         "Male",
         "No",
         "Sun",
         "Dinner",
         "2"
        ],
        [
         "16",
         "10.33",
         "1.67",
         "Female",
         "No",
         "Sun",
         "Dinner",
         "3"
        ],
        [
         "17",
         "16.29",
         "3.71",
         "Male",
         "No",
         "Sun",
         "Dinner",
         "3"
        ],
        [
         "18",
         "16.97",
         "3.5",
         "Female",
         "No",
         "Sun",
         "Dinner",
         "3"
        ],
        [
         "19",
         "20.65",
         "3.35",
         "Male",
         "No",
         "Sat",
         "Dinner",
         "3"
        ],
        [
         "20",
         "17.92",
         "4.08",
         "Male",
         "No",
         "Sat",
         "Dinner",
         "2"
        ],
        [
         "21",
         "20.29",
         "2.75",
         "Female",
         "No",
         "Sat",
         "Dinner",
         "2"
        ],
        [
         "22",
         "15.77",
         "2.23",
         "Female",
         "No",
         "Sat",
         "Dinner",
         "2"
        ],
        [
         "23",
         "39.42",
         "7.58",
         "Male",
         "No",
         "Sat",
         "Dinner",
         "4"
        ],
        [
         "24",
         "19.82",
         "3.18",
         "Male",
         "No",
         "Sat",
         "Dinner",
         "2"
        ],
        [
         "25",
         "17.81",
         "2.34",
         "Male",
         "No",
         "Sat",
         "Dinner",
         "4"
        ],
        [
         "26",
         "13.37",
         "2.0",
         "Male",
         "No",
         "Sat",
         "Dinner",
         "2"
        ],
        [
         "27",
         "12.69",
         "2.0",
         "Male",
         "No",
         "Sat",
         "Dinner",
         "2"
        ],
        [
         "28",
         "21.7",
         "4.3",
         "Male",
         "No",
         "Sat",
         "Dinner",
         "2"
        ],
        [
         "29",
         "19.65",
         "3.0",
         "Female",
         "No",
         "Sat",
         "Dinner",
         "2"
        ],
        [
         "30",
         "9.55",
         "1.45",
         "Male",
         "No",
         "Sat",
         "Dinner",
         "2"
        ],
        [
         "31",
         "18.35",
         "2.5",
         "Male",
         "No",
         "Sat",
         "Dinner",
         "4"
        ],
        [
         "32",
         "15.06",
         "3.0",
         "Female",
         "No",
         "Sat",
         "Dinner",
         "2"
        ],
        [
         "33",
         "20.69",
         "2.45",
         "Female",
         "No",
         "Sat",
         "Dinner",
         "4"
        ],
        [
         "34",
         "17.78",
         "3.27",
         "Male",
         "No",
         "Sat",
         "Dinner",
         "2"
        ],
        [
         "35",
         "24.06",
         "3.6",
         "Male",
         "No",
         "Sat",
         "Dinner",
         "3"
        ],
        [
         "36",
         "16.31",
         "2.0",
         "Male",
         "No",
         "Sat",
         "Dinner",
         "3"
        ],
        [
         "37",
         "16.93",
         "3.07",
         "Female",
         "No",
         "Sat",
         "Dinner",
         "3"
        ],
        [
         "38",
         "18.69",
         "2.31",
         "Male",
         "No",
         "Sat",
         "Dinner",
         "3"
        ],
        [
         "39",
         "31.27",
         "5.0",
         "Male",
         "No",
         "Sat",
         "Dinner",
         "3"
        ],
        [
         "40",
         "16.04",
         "2.24",
         "Male",
         "No",
         "Sat",
         "Dinner",
         "3"
        ],
        [
         "41",
         "17.46",
         "2.54",
         "Male",
         "No",
         "Sun",
         "Dinner",
         "2"
        ],
        [
         "42",
         "13.94",
         "3.06",
         "Male",
         "No",
         "Sun",
         "Dinner",
         "2"
        ],
        [
         "43",
         "9.68",
         "1.32",
         "Male",
         "No",
         "Sun",
         "Dinner",
         "2"
        ],
        [
         "44",
         "30.4",
         "5.6",
         "Male",
         "No",
         "Sun",
         "Dinner",
         "4"
        ],
        [
         "45",
         "18.29",
         "3.0",
         "Male",
         "No",
         "Sun",
         "Dinner",
         "2"
        ],
        [
         "46",
         "22.23",
         "5.0",
         "Male",
         "No",
         "Sun",
         "Dinner",
         "2"
        ],
        [
         "47",
         "32.4",
         "6.0",
         "Male",
         "No",
         "Sun",
         "Dinner",
         "4"
        ],
        [
         "48",
         "28.55",
         "2.05",
         "Male",
         "No",
         "Sun",
         "Dinner",
         "3"
        ],
        [
         "49",
         "18.04",
         "3.0",
         "Male",
         "No",
         "Sun",
         "Dinner",
         "2"
        ]
       ],
       "shape": {
        "columns": 7,
        "rows": 244
       }
      },
      "text/html": [
       "<div>\n",
       "<style scoped>\n",
       "    .dataframe tbody tr th:only-of-type {\n",
       "        vertical-align: middle;\n",
       "    }\n",
       "\n",
       "    .dataframe tbody tr th {\n",
       "        vertical-align: top;\n",
       "    }\n",
       "\n",
       "    .dataframe thead th {\n",
       "        text-align: right;\n",
       "    }\n",
       "</style>\n",
       "<table border=\"1\" class=\"dataframe\">\n",
       "  <thead>\n",
       "    <tr style=\"text-align: right;\">\n",
       "      <th></th>\n",
       "      <th>total_bill</th>\n",
       "      <th>tip</th>\n",
       "      <th>sex</th>\n",
       "      <th>smoker</th>\n",
       "      <th>day</th>\n",
       "      <th>time</th>\n",
       "      <th>size</th>\n",
       "    </tr>\n",
       "  </thead>\n",
       "  <tbody>\n",
       "    <tr>\n",
       "      <th>0</th>\n",
       "      <td>16.99</td>\n",
       "      <td>1.01</td>\n",
       "      <td>Female</td>\n",
       "      <td>No</td>\n",
       "      <td>Sun</td>\n",
       "      <td>Dinner</td>\n",
       "      <td>2</td>\n",
       "    </tr>\n",
       "    <tr>\n",
       "      <th>1</th>\n",
       "      <td>10.34</td>\n",
       "      <td>1.66</td>\n",
       "      <td>Male</td>\n",
       "      <td>No</td>\n",
       "      <td>Sun</td>\n",
       "      <td>Dinner</td>\n",
       "      <td>3</td>\n",
       "    </tr>\n",
       "    <tr>\n",
       "      <th>2</th>\n",
       "      <td>21.01</td>\n",
       "      <td>3.50</td>\n",
       "      <td>Male</td>\n",
       "      <td>No</td>\n",
       "      <td>Sun</td>\n",
       "      <td>Dinner</td>\n",
       "      <td>3</td>\n",
       "    </tr>\n",
       "    <tr>\n",
       "      <th>3</th>\n",
       "      <td>23.68</td>\n",
       "      <td>3.31</td>\n",
       "      <td>Male</td>\n",
       "      <td>No</td>\n",
       "      <td>Sun</td>\n",
       "      <td>Dinner</td>\n",
       "      <td>2</td>\n",
       "    </tr>\n",
       "    <tr>\n",
       "      <th>4</th>\n",
       "      <td>24.59</td>\n",
       "      <td>3.61</td>\n",
       "      <td>Female</td>\n",
       "      <td>No</td>\n",
       "      <td>Sun</td>\n",
       "      <td>Dinner</td>\n",
       "      <td>4</td>\n",
       "    </tr>\n",
       "    <tr>\n",
       "      <th>...</th>\n",
       "      <td>...</td>\n",
       "      <td>...</td>\n",
       "      <td>...</td>\n",
       "      <td>...</td>\n",
       "      <td>...</td>\n",
       "      <td>...</td>\n",
       "      <td>...</td>\n",
       "    </tr>\n",
       "    <tr>\n",
       "      <th>239</th>\n",
       "      <td>29.03</td>\n",
       "      <td>5.92</td>\n",
       "      <td>Male</td>\n",
       "      <td>No</td>\n",
       "      <td>Sat</td>\n",
       "      <td>Dinner</td>\n",
       "      <td>3</td>\n",
       "    </tr>\n",
       "    <tr>\n",
       "      <th>240</th>\n",
       "      <td>27.18</td>\n",
       "      <td>2.00</td>\n",
       "      <td>Female</td>\n",
       "      <td>Yes</td>\n",
       "      <td>Sat</td>\n",
       "      <td>Dinner</td>\n",
       "      <td>2</td>\n",
       "    </tr>\n",
       "    <tr>\n",
       "      <th>241</th>\n",
       "      <td>22.67</td>\n",
       "      <td>2.00</td>\n",
       "      <td>Male</td>\n",
       "      <td>Yes</td>\n",
       "      <td>Sat</td>\n",
       "      <td>Dinner</td>\n",
       "      <td>2</td>\n",
       "    </tr>\n",
       "    <tr>\n",
       "      <th>242</th>\n",
       "      <td>17.82</td>\n",
       "      <td>1.75</td>\n",
       "      <td>Male</td>\n",
       "      <td>No</td>\n",
       "      <td>Sat</td>\n",
       "      <td>Dinner</td>\n",
       "      <td>2</td>\n",
       "    </tr>\n",
       "    <tr>\n",
       "      <th>243</th>\n",
       "      <td>18.78</td>\n",
       "      <td>3.00</td>\n",
       "      <td>Female</td>\n",
       "      <td>No</td>\n",
       "      <td>Thur</td>\n",
       "      <td>Dinner</td>\n",
       "      <td>2</td>\n",
       "    </tr>\n",
       "  </tbody>\n",
       "</table>\n",
       "<p>244 rows × 7 columns</p>\n",
       "</div>"
      ],
      "text/plain": [
       "     total_bill   tip     sex smoker   day    time  size\n",
       "0         16.99  1.01  Female     No   Sun  Dinner     2\n",
       "1         10.34  1.66    Male     No   Sun  Dinner     3\n",
       "2         21.01  3.50    Male     No   Sun  Dinner     3\n",
       "3         23.68  3.31    Male     No   Sun  Dinner     2\n",
       "4         24.59  3.61  Female     No   Sun  Dinner     4\n",
       "..          ...   ...     ...    ...   ...     ...   ...\n",
       "239       29.03  5.92    Male     No   Sat  Dinner     3\n",
       "240       27.18  2.00  Female    Yes   Sat  Dinner     2\n",
       "241       22.67  2.00    Male    Yes   Sat  Dinner     2\n",
       "242       17.82  1.75    Male     No   Sat  Dinner     2\n",
       "243       18.78  3.00  Female     No  Thur  Dinner     2\n",
       "\n",
       "[244 rows x 7 columns]"
      ]
     },
     "execution_count": 9,
     "metadata": {},
     "output_type": "execute_result"
    }
   ],
   "source": [
    "# scatter plot\n",
    "tips = sns.load_dataset('tips')\n",
    "tips"
   ]
  },
  {
   "cell_type": "code",
   "execution_count": 20,
   "id": "03c287a2",
   "metadata": {},
   "outputs": [
    {
     "data": {
      "text/plain": [
       "<Axes: xlabel='total_bill', ylabel='tip'>"
      ]
     },
     "execution_count": 20,
     "metadata": {},
     "output_type": "execute_result"
    },
    {
     "data": {
      "image/png": "[encoded data removed]",
      "text/plain": [
       "<Figure size 640x480 with 1 Axes>"
      ]
     },
     "metadata": {},
     "output_type": "display_data"
    }
   ],
   "source": [
    "# scatter plot(axes level function) -> https://www.youtube.com/live/DWVLRhnuGqI?si=x0oQKluDDlQm_ba5&t=1517\n",
    "\n",
    "sns.set_style(\"whitegrid\", {\"grid.color\": \"green\"}) # so in this way you can adjust style of graph\n",
    "\n",
    "sns.scatterplot(data=tips, x='total_bill', y='tip')"
   ]
  },
  {
   "cell_type": "code",
   "execution_count": null,
   "id": "ad202bc2",
   "metadata": {},
   "outputs": [],
   "source": [
    "# Which one to use from scatter vs line plot -> https://www.youtube.com/live/DWVLRhnuGqI?si=8rMUs9GfvJf6pQ0j&t=1717 "
   ]
  },
  {
   "cell_type": "code",
   "execution_count": null,
   "id": "95257faa",
   "metadata": {},
   "outputs": [],
   "source": [
    "# hue,style,size params of scatterplot -> https://www.youtube.com/live/DWVLRhnuGqI?si=RZGCGWT1Oe7b2i_R&t=1817"
   ]
  },
  {
   "cell_type": "code",
   "execution_count": 59,
   "id": "a1a400a6",
   "metadata": {},
   "outputs": [
    {
     "data": {
      "text/plain": [
       "<Axes: xlabel='total_bill', ylabel='tip'>"
      ]
     },
     "execution_count": 59,
     "metadata": {},
     "output_type": "execute_result"
    },
    {
     "data": {
      "image/png": "[encoded data removed]",
      "text/plain": [
       "<Figure size 640x480 with 1 Axes>"
      ]
     },
     "metadata": {},
     "output_type": "display_data"
    }
   ],
   "source": [
    "# there is something called hue parameter inside scatterplot, that works like c parameter in matplotlib, cmap is viridis\n",
    "sns.scatterplot(data=tips,x='total_bill',y='tip',hue='smoker',palette='viridis')"
   ]
  },
  {
   "cell_type": "code",
   "execution_count": 67,
   "id": "8d98e27d",
   "metadata": {},
   "outputs": [
    {
     "data": {
      "text/plain": [
       "<Axes: xlabel='total_bill', ylabel='tip'>"
      ]
     },
     "execution_count": 67,
     "metadata": {},
     "output_type": "execute_result"
    },
    {
     "data": {
      "image/png": "[encoded data removed]",
      "text/plain": [
       "<Figure size 640x480 with 1 Axes>"
      ]
     },
     "metadata": {},
     "output_type": "display_data"
    }
   ],
   "source": [
    "# style and size params\n",
    "\n",
    "sns.scatterplot(data=tips,x='total_bill',y='tip',hue='smoker',palette='viridis',style='time',size='size')\n",
    "# so style parameter gives extra information in the graph, its like s parameter in matplotlib in scatterplot, but more powerful\n",
    "# and size param can be thought of replica of s param"
   ]
  },
  {
   "cell_type": "markdown",
   "id": "b0e03550",
   "metadata": {},
   "source": [
    "- Figure Level vs Axes Level"
   ]
  },
  {
   "cell_type": "code",
   "execution_count": null,
   "id": "44c04f4a",
   "metadata": {},
   "outputs": [],
   "source": [
    "# relplot is same as scatterplot, but difference is relplot is figure level\n",
    "\n",
    "# and if you note: figure often comes in square figure, while axes level comes in more rectangular\n",
    "\n",
    "sns.relplot(data=tips, x='total_bill', y='tip')"
   ]
  },
  {
   "cell_type": "code",
   "execution_count": 62,
   "id": "baa598e3",
   "metadata": {},
   "outputs": [
    {
     "data": {
      "text/plain": [
       "<seaborn.axisgrid.FacetGrid at 0x1fd4d6a56d0>"
      ]
     },
     "execution_count": 62,
     "metadata": {},
     "output_type": "execute_result"
    },
    {
     "data": {
      "image/png": "[encoded data removed]",
      "text/plain": [
       "<Figure size 500x500 with 1 Axes>"
      ]
     },
     "metadata": {},
     "output_type": "display_data"
    }
   ],
   "source": [
    "# so in figure plots, you just have to use only one `replplot`, and you can change the kind parameter to change the type of graph\n",
    "sns.relplot(data=tips,x='total_bill',y='tip',kind='line')"
   ]
  },
  {
   "cell_type": "code",
   "execution_count": null,
   "id": "9d9bb169",
   "metadata": {},
   "outputs": [],
   "source": [
    "# line plot -> https://www.youtube.com/live/DWVLRhnuGqI?si=H556v2iN0U3rSfJ6&t=2067\n"
   ]
  },
  {
   "cell_type": "code",
   "execution_count": 69,
   "id": "833b936f",
   "metadata": {},
   "outputs": [
    {
     "data": {
      "application/vnd.microsoft.datawrangler.viewer.v0+json": {
       "columns": [
        {
         "name": "index",
         "rawType": "int64",
         "type": "integer"
        },
        {
         "name": "country",
         "rawType": "object",
         "type": "string"
        },
        {
         "name": "continent",
         "rawType": "object",
         "type": "string"
        },
        {
         "name": "year",
         "rawType": "int64",
         "type": "integer"
        },
        {
         "name": "lifeExp",
         "rawType": "float64",
         "type": "float"
        },
        {
         "name": "pop",
         "rawType": "int64",
         "type": "integer"
        },
        {
         "name": "gdpPercap",
         "rawType": "float64",
         "type": "float"
        },
        {
         "name": "iso_alpha",
         "rawType": "object",
         "type": "string"
        },
        {
         "name": "iso_num",
         "rawType": "int64",
         "type": "integer"
        }
       ],
       "conversionMethod": "pd.DataFrame",
       "ref": "457e5873-ef24-4075-b252-68f481b05d3f",
       "rows": [
        [
         "0",
         "Afghanistan",
         "Asia",
         "1952",
         "28.801",
         "8425333",
         "779.4453145",
         "AFG",
         "4"
        ],
        [
         "1",
         "Afghanistan",
         "Asia",
         "1957",
         "30.332",
         "9240934",
         "820.8530296",
         "AFG",
         "4"
        ],
        [
         "2",
         "Afghanistan",
         "Asia",
         "1962",
         "31.997",
         "10267083",
         "853.1007099999998",
         "AFG",
         "4"
        ],
        [
         "3",
         "Afghanistan",
         "Asia",
         "1967",
         "34.02",
         "11537966",
         "836.1971382",
         "AFG",
         "4"
        ],
        [
         "4",
         "Afghanistan",
         "Asia",
         "1972",
         "36.088",
         "13079460",
         "739.9811057999998",
         "AFG",
         "4"
        ],
        [
         "5",
         "Afghanistan",
         "Asia",
         "1977",
         "38.438",
         "14880372",
         "786.11336",
         "AFG",
         "4"
        ],
        [
         "6",
         "Afghanistan",
         "Asia",
         "1982",
         "39.854",
         "12881816",
         "978.0114388",
         "AFG",
         "4"
        ],
        [
         "7",
         "Afghanistan",
         "Asia",
         "1987",
         "40.822",
         "13867957",
         "852.3959447999998",
         "AFG",
         "4"
        ],
        [
         "8",
         "Afghanistan",
         "Asia",
         "1992",
         "41.674",
         "16317921",
         "649.3413952000002",
         "AFG",
         "4"
        ],
        [
         "9",
         "Afghanistan",
         "Asia",
         "1997",
         "41.76300000000001",
         "22227415",
         "635.341351",
         "AFG",
         "4"
        ],
        [
         "10",
         "Afghanistan",
         "Asia",
         "2002",
         "42.129",
         "25268405",
         "726.7340548",
         "AFG",
         "4"
        ],
        [
         "11",
         "Afghanistan",
         "Asia",
         "2007",
         "43.828",
         "31889923",
         "974.5803384",
         "AFG",
         "4"
        ],
        [
         "12",
         "Albania",
         "Europe",
         "1952",
         "55.23",
         "1282697",
         "1601.056136",
         "ALB",
         "8"
        ],
        [
         "13",
         "Albania",
         "Europe",
         "1957",
         "59.28",
         "1476505",
         "1942.284244",
         "ALB",
         "8"
        ],
        [
         "14",
         "Albania",
         "Europe",
         "1962",
         "64.82",
         "1728137",
         "2312.888958",
         "ALB",
         "8"
        ],
        [
         "15",
         "Albania",
         "Europe",
         "1967",
         "66.22",
         "1984060",
         "2760.196931",
         "ALB",
         "8"
        ],
        [
         "16",
         "Albania",
         "Europe",
         "1972",
         "67.69",
         "2263554",
         "3313.422188",
         "ALB",
         "8"
        ],
        [
         "17",
         "Albania",
         "Europe",
         "1977",
         "68.93",
         "2509048",
         "3533.003910000001",
         "ALB",
         "8"
        ],
        [
         "18",
         "Albania",
         "Europe",
         "1982",
         "70.42",
         "2780097",
         "3630.880722",
         "ALB",
         "8"
        ],
        [
         "19",
         "Albania",
         "Europe",
         "1987",
         "72.0",
         "3075321",
         "3738.932735",
         "ALB",
         "8"
        ],
        [
         "20",
         "Albania",
         "Europe",
         "1992",
         "71.581",
         "3326498",
         "2497.437901",
         "ALB",
         "8"
        ],
        [
         "21",
         "Albania",
         "Europe",
         "1997",
         "72.95",
         "3428038",
         "3193.054604",
         "ALB",
         "8"
        ],
        [
         "22",
         "Albania",
         "Europe",
         "2002",
         "75.65100000000002",
         "3508512",
         "4604.211737",
         "ALB",
         "8"
        ],
        [
         "23",
         "Albania",
         "Europe",
         "2007",
         "76.423",
         "3600523",
         "5937.029525999998",
         "ALB",
         "8"
        ],
        [
         "24",
         "Algeria",
         "Africa",
         "1952",
         "43.077",
         "9279525",
         "2449.008185",
         "DZA",
         "12"
        ],
        [
         "25",
         "Algeria",
         "Africa",
         "1957",
         "45.685",
         "10270856",
         "3013.976023",
         "DZA",
         "12"
        ],
        [
         "26",
         "Algeria",
         "Africa",
         "1962",
         "48.303",
         "11000948",
         "2550.81688",
         "DZA",
         "12"
        ],
        [
         "27",
         "Algeria",
         "Africa",
         "1967",
         "51.407",
         "12760499",
         "3246.991771",
         "DZA",
         "12"
        ],
        [
         "28",
         "Algeria",
         "Africa",
         "1972",
         "54.518",
         "14760787",
         "4182.663766",
         "DZA",
         "12"
        ],
        [
         "29",
         "Algeria",
         "Africa",
         "1977",
         "58.014",
         "17152804",
         "4910.416756000001",
         "DZA",
         "12"
        ],
        [
         "30",
         "Algeria",
         "Africa",
         "1982",
         "61.368",
         "20033753",
         "5745.160213",
         "DZA",
         "12"
        ],
        [
         "31",
         "Algeria",
         "Africa",
         "1987",
         "65.79899999999999",
         "23254956",
         "5681.358539",
         "DZA",
         "12"
        ],
        [
         "32",
         "Algeria",
         "Africa",
         "1992",
         "67.744",
         "26298373",
         "5023.216647",
         "DZA",
         "12"
        ],
        [
         "33",
         "Algeria",
         "Africa",
         "1997",
         "69.152",
         "29072015",
         "4797.295051",
         "DZA",
         "12"
        ],
        [
         "34",
         "Algeria",
         "Africa",
         "2002",
         "70.994",
         "31287142",
         "5288.040382",
         "DZA",
         "12"
        ],
        [
         "35",
         "Algeria",
         "Africa",
         "2007",
         "72.301",
         "33333216",
         "6223.367465",
         "DZA",
         "12"
        ],
        [
         "36",
         "Angola",
         "Africa",
         "1952",
         "30.015",
         "4232095",
         "3520.610273",
         "AGO",
         "24"
        ],
        [
         "37",
         "Angola",
         "Africa",
         "1957",
         "31.999",
         "4561361",
         "3827.940465",
         "AGO",
         "24"
        ],
        [
         "38",
         "Angola",
         "Africa",
         "1962",
         "34.0",
         "4826015",
         "4269.276742",
         "AGO",
         "24"
        ],
        [
         "39",
         "Angola",
         "Africa",
         "1967",
         "35.985",
         "5247469",
         "5522.776375",
         "AGO",
         "24"
        ],
        [
         "40",
         "Angola",
         "Africa",
         "1972",
         "37.928",
         "5894858",
         "5473.288004999999",
         "AGO",
         "24"
        ],
        [
         "41",
         "Angola",
         "Africa",
         "1977",
         "39.483",
         "6162675",
         "3008.647355",
         "AGO",
         "24"
        ],
        [
         "42",
         "Angola",
         "Africa",
         "1982",
         "39.942",
         "7016384",
         "2756.953672",
         "AGO",
         "24"
        ],
        [
         "43",
         "Angola",
         "Africa",
         "1987",
         "39.906",
         "7874230",
         "2430.208311",
         "AGO",
         "24"
        ],
        [
         "44",
         "Angola",
         "Africa",
         "1992",
         "40.647",
         "8735988",
         "2627.845685",
         "AGO",
         "24"
        ],
        [
         "45",
         "Angola",
         "Africa",
         "1997",
         "40.963",
         "9875024",
         "2277.140884",
         "AGO",
         "24"
        ],
        [
         "46",
         "Angola",
         "Africa",
         "2002",
         "41.003",
         "10866106",
         "2773.287312",
         "AGO",
         "24"
        ],
        [
         "47",
         "Angola",
         "Africa",
         "2007",
         "42.731",
         "12420476",
         "4797.231267",
         "AGO",
         "24"
        ],
        [
         "48",
         "Argentina",
         "Americas",
         "1952",
         "62.485",
         "17876956",
         "5911.315053",
         "ARG",
         "32"
        ],
        [
         "49",
         "Argentina",
         "Americas",
         "1957",
         "64.399",
         "19610538",
         "6856.8562120000015",
         "ARG",
         "32"
        ]
       ],
       "shape": {
        "columns": 8,
        "rows": 1704
       }
      },
      "text/html": [
       "<div>\n",
       "<style scoped>\n",
       "    .dataframe tbody tr th:only-of-type {\n",
       "        vertical-align: middle;\n",
       "    }\n",
       "\n",
       "    .dataframe tbody tr th {\n",
       "        vertical-align: top;\n",
       "    }\n",
       "\n",
       "    .dataframe thead th {\n",
       "        text-align: right;\n",
       "    }\n",
       "</style>\n",
       "<table border=\"1\" class=\"dataframe\">\n",
       "  <thead>\n",
       "    <tr style=\"text-align: right;\">\n",
       "      <th></th>\n",
       "      <th>country</th>\n",
       "      <th>continent</th>\n",
       "      <th>year</th>\n",
       "      <th>lifeExp</th>\n",
       "      <th>pop</th>\n",
       "      <th>gdpPercap</th>\n",
       "      <th>iso_alpha</th>\n",
       "      <th>iso_num</th>\n",
       "    </tr>\n",
       "  </thead>\n",
       "  <tbody>\n",
       "    <tr>\n",
       "      <th>0</th>\n",
       "      <td>Afghanistan</td>\n",
       "      <td>Asia</td>\n",
       "      <td>1952</td>\n",
       "      <td>28.801</td>\n",
       "      <td>8425333</td>\n",
       "      <td>779.445314</td>\n",
       "      <td>AFG</td>\n",
       "      <td>4</td>\n",
       "    </tr>\n",
       "    <tr>\n",
       "      <th>1</th>\n",
       "      <td>Afghanistan</td>\n",
       "      <td>Asia</td>\n",
       "      <td>1957</td>\n",
       "      <td>30.332</td>\n",
       "      <td>9240934</td>\n",
       "      <td>820.853030</td>\n",
       "      <td>AFG</td>\n",
       "      <td>4</td>\n",
       "    </tr>\n",
       "    <tr>\n",
       "      <th>2</th>\n",
       "      <td>Afghanistan</td>\n",
       "      <td>Asia</td>\n",
       "      <td>1962</td>\n",
       "      <td>31.997</td>\n",
       "      <td>10267083</td>\n",
       "      <td>853.100710</td>\n",
       "      <td>AFG</td>\n",
       "      <td>4</td>\n",
       "    </tr>\n",
       "    <tr>\n",
       "      <th>3</th>\n",
       "      <td>Afghanistan</td>\n",
       "      <td>Asia</td>\n",
       "      <td>1967</td>\n",
       "      <td>34.020</td>\n",
       "      <td>11537966</td>\n",
       "      <td>836.197138</td>\n",
       "      <td>AFG</td>\n",
       "      <td>4</td>\n",
       "    </tr>\n",
       "    <tr>\n",
       "      <th>4</th>\n",
       "      <td>Afghanistan</td>\n",
       "      <td>Asia</td>\n",
       "      <td>1972</td>\n",
       "      <td>36.088</td>\n",
       "      <td>13079460</td>\n",
       "      <td>739.981106</td>\n",
       "      <td>AFG</td>\n",
       "      <td>4</td>\n",
       "    </tr>\n",
       "    <tr>\n",
       "      <th>...</th>\n",
       "      <td>...</td>\n",
       "      <td>...</td>\n",
       "      <td>...</td>\n",
       "      <td>...</td>\n",
       "      <td>...</td>\n",
       "      <td>...</td>\n",
       "      <td>...</td>\n",
       "      <td>...</td>\n",
       "    </tr>\n",
       "    <tr>\n",
       "      <th>1699</th>\n",
       "      <td>Zimbabwe</td>\n",
       "      <td>Africa</td>\n",
       "      <td>1987</td>\n",
       "      <td>62.351</td>\n",
       "      <td>9216418</td>\n",
       "      <td>706.157306</td>\n",
       "      <td>ZWE</td>\n",
       "      <td>716</td>\n",
       "    </tr>\n",
       "    <tr>\n",
       "      <th>1700</th>\n",
       "      <td>Zimbabwe</td>\n",
       "      <td>Africa</td>\n",
       "      <td>1992</td>\n",
       "      <td>60.377</td>\n",
       "      <td>10704340</td>\n",
       "      <td>693.420786</td>\n",
       "      <td>ZWE</td>\n",
       "      <td>716</td>\n",
       "    </tr>\n",
       "    <tr>\n",
       "      <th>1701</th>\n",
       "      <td>Zimbabwe</td>\n",
       "      <td>Africa</td>\n",
       "      <td>1997</td>\n",
       "      <td>46.809</td>\n",
       "      <td>11404948</td>\n",
       "      <td>792.449960</td>\n",
       "      <td>ZWE</td>\n",
       "      <td>716</td>\n",
       "    </tr>\n",
       "    <tr>\n",
       "      <th>1702</th>\n",
       "      <td>Zimbabwe</td>\n",
       "      <td>Africa</td>\n",
       "      <td>2002</td>\n",
       "      <td>39.989</td>\n",
       "      <td>11926563</td>\n",
       "      <td>672.038623</td>\n",
       "      <td>ZWE</td>\n",
       "      <td>716</td>\n",
       "    </tr>\n",
       "    <tr>\n",
       "      <th>1703</th>\n",
       "      <td>Zimbabwe</td>\n",
       "      <td>Africa</td>\n",
       "      <td>2007</td>\n",
       "      <td>43.487</td>\n",
       "      <td>12311143</td>\n",
       "      <td>469.709298</td>\n",
       "      <td>ZWE</td>\n",
       "      <td>716</td>\n",
       "    </tr>\n",
       "  </tbody>\n",
       "</table>\n",
       "<p>1704 rows × 8 columns</p>\n",
       "</div>"
      ],
      "text/plain": [
       "          country continent  year  lifeExp       pop   gdpPercap iso_alpha  \\\n",
       "0     Afghanistan      Asia  1952   28.801   8425333  779.445314       AFG   \n",
       "1     Afghanistan      Asia  1957   30.332   9240934  820.853030       AFG   \n",
       "2     Afghanistan      Asia  1962   31.997  10267083  853.100710       AFG   \n",
       "3     Afghanistan      Asia  1967   34.020  11537966  836.197138       AFG   \n",
       "4     Afghanistan      Asia  1972   36.088  13079460  739.981106       AFG   \n",
       "...           ...       ...   ...      ...       ...         ...       ...   \n",
       "1699     Zimbabwe    Africa  1987   62.351   9216418  706.157306       ZWE   \n",
       "1700     Zimbabwe    Africa  1992   60.377  10704340  693.420786       ZWE   \n",
       "1701     Zimbabwe    Africa  1997   46.809  11404948  792.449960       ZWE   \n",
       "1702     Zimbabwe    Africa  2002   39.989  11926563  672.038623       ZWE   \n",
       "1703     Zimbabwe    Africa  2007   43.487  12311143  469.709298       ZWE   \n",
       "\n",
       "      iso_num  \n",
       "0           4  \n",
       "1           4  \n",
       "2           4  \n",
       "3           4  \n",
       "4           4  \n",
       "...       ...  \n",
       "1699      716  \n",
       "1700      716  \n",
       "1701      716  \n",
       "1702      716  \n",
       "1703      716  \n",
       "\n",
       "[1704 rows x 8 columns]"
      ]
     },
     "execution_count": 69,
     "metadata": {},
     "output_type": "execute_result"
    }
   ],
   "source": [
    "gap = px.data.gapminder()\n",
    "gap"
   ]
  },
  {
   "cell_type": "code",
   "execution_count": 110,
   "id": "3a709002",
   "metadata": {},
   "outputs": [
    {
     "data": {
      "text/plain": [
       "<seaborn.axisgrid.FacetGrid at 0x1fd53221e50>"
      ]
     },
     "execution_count": 110,
     "metadata": {},
     "output_type": "execute_result"
    },
    {
     "data": {
      "image/png": "[encoded data removed]",
      "text/plain": [
       "<Figure size 500x500 with 1 Axes>"
      ]
     },
     "metadata": {},
     "output_type": "display_data"
    }
   ],
   "source": [
    "# we will use figure level function, insteas `sns.lineplot()`, which is axes level\n",
    "\n",
    "sns.relplot(kind='line', data=gap[gap['country'] == 'Brazil'], x='year', y='lifeExp',marker='o')"
   ]
  },
  {
   "cell_type": "code",
   "execution_count": 109,
   "id": "8da13c8e",
   "metadata": {},
   "outputs": [
    {
     "data": {
      "application/vnd.microsoft.datawrangler.viewer.v0+json": {
       "columns": [
        {
         "name": "index",
         "rawType": "int64",
         "type": "integer"
        },
        {
         "name": "country",
         "rawType": "object",
         "type": "string"
        },
        {
         "name": "continent",
         "rawType": "object",
         "type": "string"
        },
        {
         "name": "year",
         "rawType": "int64",
         "type": "integer"
        },
        {
         "name": "lifeExp",
         "rawType": "float64",
         "type": "float"
        },
        {
         "name": "pop",
         "rawType": "int64",
         "type": "integer"
        },
        {
         "name": "gdpPercap",
         "rawType": "float64",
         "type": "float"
        },
        {
         "name": "iso_alpha",
         "rawType": "object",
         "type": "string"
        },
        {
         "name": "iso_num",
         "rawType": "int64",
         "type": "integer"
        }
       ],
       "conversionMethod": "pd.DataFrame",
       "ref": "071e5afd-fff2-4621-acdb-18e27803c6ea",
       "rows": [
        [
         "168",
         "Brazil",
         "Americas",
         "1952",
         "50.917",
         "56602560",
         "2108.944355",
         "BRA",
         "76"
        ],
        [
         "169",
         "Brazil",
         "Americas",
         "1957",
         "53.285",
         "65551171",
         "2487.365989",
         "BRA",
         "76"
        ],
        [
         "170",
         "Brazil",
         "Americas",
         "1962",
         "55.665",
         "76039390",
         "3336.585802",
         "BRA",
         "76"
        ],
        [
         "171",
         "Brazil",
         "Americas",
         "1967",
         "57.632",
         "88049823",
         "3429.864357",
         "BRA",
         "76"
        ],
        [
         "172",
         "Brazil",
         "Americas",
         "1972",
         "59.504",
         "100840058",
         "4985.711467",
         "BRA",
         "76"
        ],
        [
         "173",
         "Brazil",
         "Americas",
         "1977",
         "61.489",
         "114313951",
         "6660.118654",
         "BRA",
         "76"
        ],
        [
         "174",
         "Brazil",
         "Americas",
         "1982",
         "63.33600000000001",
         "128962939",
         "7030.835878",
         "BRA",
         "76"
        ],
        [
         "175",
         "Brazil",
         "Americas",
         "1987",
         "65.205",
         "142938076",
         "7807.095818000002",
         "BRA",
         "76"
        ],
        [
         "176",
         "Brazil",
         "Americas",
         "1992",
         "67.057",
         "155975974",
         "6950.283020999998",
         "BRA",
         "76"
        ],
        [
         "177",
         "Brazil",
         "Americas",
         "1997",
         "69.388",
         "168546719",
         "7957.980823999998",
         "BRA",
         "76"
        ],
        [
         "178",
         "Brazil",
         "Americas",
         "2002",
         "71.006",
         "179914212",
         "8131.212843000001",
         "BRA",
         "76"
        ],
        [
         "179",
         "Brazil",
         "Americas",
         "2007",
         "72.39",
         "190010647",
         "9065.800825",
         "BRA",
         "76"
        ],
        [
         "816",
         "Kenya",
         "Africa",
         "1952",
         "42.27",
         "6464046",
         "853.5409189999998",
         "KEN",
         "404"
        ],
        [
         "817",
         "Kenya",
         "Africa",
         "1957",
         "44.68600000000001",
         "7454779",
         "944.4383152",
         "KEN",
         "404"
        ],
        [
         "818",
         "Kenya",
         "Africa",
         "1962",
         "47.949",
         "8678557",
         "896.9663732",
         "KEN",
         "404"
        ],
        [
         "819",
         "Kenya",
         "Africa",
         "1967",
         "50.654",
         "10191512",
         "1056.736457",
         "KEN",
         "404"
        ],
        [
         "820",
         "Kenya",
         "Africa",
         "1972",
         "53.559",
         "12044785",
         "1222.359968",
         "KEN",
         "404"
        ],
        [
         "821",
         "Kenya",
         "Africa",
         "1977",
         "56.155",
         "14500404",
         "1267.613204",
         "KEN",
         "404"
        ],
        [
         "822",
         "Kenya",
         "Africa",
         "1982",
         "58.76600000000001",
         "17661452",
         "1348.225791",
         "KEN",
         "404"
        ],
        [
         "823",
         "Kenya",
         "Africa",
         "1987",
         "59.339",
         "21198082",
         "1361.936856",
         "KEN",
         "404"
        ],
        [
         "824",
         "Kenya",
         "Africa",
         "1992",
         "59.285",
         "25020539",
         "1341.9217210000004",
         "KEN",
         "404"
        ],
        [
         "825",
         "Kenya",
         "Africa",
         "1997",
         "54.407",
         "28263827",
         "1360.4850210000004",
         "KEN",
         "404"
        ],
        [
         "826",
         "Kenya",
         "Africa",
         "2002",
         "50.992",
         "31386842",
         "1287.514732",
         "KEN",
         "404"
        ],
        [
         "827",
         "Kenya",
         "Africa",
         "2007",
         "54.11",
         "35610177",
         "1463.249282",
         "KEN",
         "404"
        ],
        [
         "1272",
         "Romania",
         "Europe",
         "1952",
         "61.05",
         "16630000",
         "3144.613186",
         "ROU",
         "642"
        ],
        [
         "1273",
         "Romania",
         "Europe",
         "1957",
         "64.1",
         "17829327",
         "3943.370225",
         "ROU",
         "642"
        ],
        [
         "1274",
         "Romania",
         "Europe",
         "1962",
         "66.8",
         "18680721",
         "4734.997586",
         "ROU",
         "642"
        ],
        [
         "1275",
         "Romania",
         "Europe",
         "1967",
         "66.8",
         "19284814",
         "6470.866545",
         "ROU",
         "642"
        ],
        [
         "1276",
         "Romania",
         "Europe",
         "1972",
         "69.21",
         "20662648",
         "8011.4144019999985",
         "ROU",
         "642"
        ],
        [
         "1277",
         "Romania",
         "Europe",
         "1977",
         "69.46",
         "21658597",
         "9356.39724",
         "ROU",
         "642"
        ],
        [
         "1278",
         "Romania",
         "Europe",
         "1982",
         "69.66",
         "22356726",
         "9605.314053",
         "ROU",
         "642"
        ],
        [
         "1279",
         "Romania",
         "Europe",
         "1987",
         "69.53",
         "22686371",
         "9696.273295",
         "ROU",
         "642"
        ],
        [
         "1280",
         "Romania",
         "Europe",
         "1992",
         "69.36",
         "22797027",
         "6598.409903",
         "ROU",
         "642"
        ],
        [
         "1281",
         "Romania",
         "Europe",
         "1997",
         "69.72",
         "22562458",
         "7346.547556999999",
         "ROU",
         "642"
        ],
        [
         "1282",
         "Romania",
         "Europe",
         "2002",
         "71.322",
         "22404337",
         "7885.360081",
         "ROU",
         "642"
        ],
        [
         "1283",
         "Romania",
         "Europe",
         "2007",
         "72.476",
         "22276056",
         "10808.47561",
         "ROU",
         "642"
        ]
       ],
       "shape": {
        "columns": 8,
        "rows": 36
       }
      },
      "text/html": [
       "<div>\n",
       "<style scoped>\n",
       "    .dataframe tbody tr th:only-of-type {\n",
       "        vertical-align: middle;\n",
       "    }\n",
       "\n",
       "    .dataframe tbody tr th {\n",
       "        vertical-align: top;\n",
       "    }\n",
       "\n",
       "    .dataframe thead th {\n",
       "        text-align: right;\n",
       "    }\n",
       "</style>\n",
       "<table border=\"1\" class=\"dataframe\">\n",
       "  <thead>\n",
       "    <tr style=\"text-align: right;\">\n",
       "      <th></th>\n",
       "      <th>country</th>\n",
       "      <th>continent</th>\n",
       "      <th>year</th>\n",
       "      <th>lifeExp</th>\n",
       "      <th>pop</th>\n",
       "      <th>gdpPercap</th>\n",
       "      <th>iso_alpha</th>\n",
       "      <th>iso_num</th>\n",
       "    </tr>\n",
       "  </thead>\n",
       "  <tbody>\n",
       "    <tr>\n",
       "      <th>168</th>\n",
       "      <td>Brazil</td>\n",
       "      <td>Americas</td>\n",
       "      <td>1952</td>\n",
       "      <td>50.917</td>\n",
       "      <td>56602560</td>\n",
       "      <td>2108.944355</td>\n",
       "      <td>BRA</td>\n",
       "      <td>76</td>\n",
       "    </tr>\n",
       "    <tr>\n",
       "      <th>169</th>\n",
       "      <td>Brazil</td>\n",
       "      <td>Americas</td>\n",
       "      <td>1957</td>\n",
       "      <td>53.285</td>\n",
       "      <td>65551171</td>\n",
       "      <td>2487.365989</td>\n",
       "      <td>BRA</td>\n",
       "      <td>76</td>\n",
       "    </tr>\n",
       "    <tr>\n",
       "      <th>170</th>\n",
       "      <td>Brazil</td>\n",
       "      <td>Americas</td>\n",
       "      <td>1962</td>\n",
       "      <td>55.665</td>\n",
       "      <td>76039390</td>\n",
       "      <td>3336.585802</td>\n",
       "      <td>BRA</td>\n",
       "      <td>76</td>\n",
       "    </tr>\n",
       "    <tr>\n",
       "      <th>171</th>\n",
       "      <td>Brazil</td>\n",
       "      <td>Americas</td>\n",
       "      <td>1967</td>\n",
       "      <td>57.632</td>\n",
       "      <td>88049823</td>\n",
       "      <td>3429.864357</td>\n",
       "      <td>BRA</td>\n",
       "      <td>76</td>\n",
       "    </tr>\n",
       "    <tr>\n",
       "      <th>172</th>\n",
       "      <td>Brazil</td>\n",
       "      <td>Americas</td>\n",
       "      <td>1972</td>\n",
       "      <td>59.504</td>\n",
       "      <td>100840058</td>\n",
       "      <td>4985.711467</td>\n",
       "      <td>BRA</td>\n",
       "      <td>76</td>\n",
       "    </tr>\n",
       "    <tr>\n",
       "      <th>173</th>\n",
       "      <td>Brazil</td>\n",
       "      <td>Americas</td>\n",
       "      <td>1977</td>\n",
       "      <td>61.489</td>\n",
       "      <td>114313951</td>\n",
       "      <td>6660.118654</td>\n",
       "      <td>BRA</td>\n",
       "      <td>76</td>\n",
       "    </tr>\n",
       "    <tr>\n",
       "      <th>174</th>\n",
       "      <td>Brazil</td>\n",
       "      <td>Americas</td>\n",
       "      <td>1982</td>\n",
       "      <td>63.336</td>\n",
       "      <td>128962939</td>\n",
       "      <td>7030.835878</td>\n",
       "      <td>BRA</td>\n",
       "      <td>76</td>\n",
       "    </tr>\n",
       "    <tr>\n",
       "      <th>175</th>\n",
       "      <td>Brazil</td>\n",
       "      <td>Americas</td>\n",
       "      <td>1987</td>\n",
       "      <td>65.205</td>\n",
       "      <td>142938076</td>\n",
       "      <td>7807.095818</td>\n",
       "      <td>BRA</td>\n",
       "      <td>76</td>\n",
       "    </tr>\n",
       "    <tr>\n",
       "      <th>176</th>\n",
       "      <td>Brazil</td>\n",
       "      <td>Americas</td>\n",
       "      <td>1992</td>\n",
       "      <td>67.057</td>\n",
       "      <td>155975974</td>\n",
       "      <td>6950.283021</td>\n",
       "      <td>BRA</td>\n",
       "      <td>76</td>\n",
       "    </tr>\n",
       "    <tr>\n",
       "      <th>177</th>\n",
       "      <td>Brazil</td>\n",
       "      <td>Americas</td>\n",
       "      <td>1997</td>\n",
       "      <td>69.388</td>\n",
       "      <td>168546719</td>\n",
       "      <td>7957.980824</td>\n",
       "      <td>BRA</td>\n",
       "      <td>76</td>\n",
       "    </tr>\n",
       "    <tr>\n",
       "      <th>178</th>\n",
       "      <td>Brazil</td>\n",
       "      <td>Americas</td>\n",
       "      <td>2002</td>\n",
       "      <td>71.006</td>\n",
       "      <td>179914212</td>\n",
       "      <td>8131.212843</td>\n",
       "      <td>BRA</td>\n",
       "      <td>76</td>\n",
       "    </tr>\n",
       "    <tr>\n",
       "      <th>179</th>\n",
       "      <td>Brazil</td>\n",
       "      <td>Americas</td>\n",
       "      <td>2007</td>\n",
       "      <td>72.390</td>\n",
       "      <td>190010647</td>\n",
       "      <td>9065.800825</td>\n",
       "      <td>BRA</td>\n",
       "      <td>76</td>\n",
       "    </tr>\n",
       "    <tr>\n",
       "      <th>816</th>\n",
       "      <td>Kenya</td>\n",
       "      <td>Africa</td>\n",
       "      <td>1952</td>\n",
       "      <td>42.270</td>\n",
       "      <td>6464046</td>\n",
       "      <td>853.540919</td>\n",
       "      <td>KEN</td>\n",
       "      <td>404</td>\n",
       "    </tr>\n",
       "    <tr>\n",
       "      <th>817</th>\n",
       "      <td>Kenya</td>\n",
       "      <td>Africa</td>\n",
       "      <td>1957</td>\n",
       "      <td>44.686</td>\n",
       "      <td>7454779</td>\n",
       "      <td>944.438315</td>\n",
       "      <td>KEN</td>\n",
       "      <td>404</td>\n",
       "    </tr>\n",
       "    <tr>\n",
       "      <th>818</th>\n",
       "      <td>Kenya</td>\n",
       "      <td>Africa</td>\n",
       "      <td>1962</td>\n",
       "      <td>47.949</td>\n",
       "      <td>8678557</td>\n",
       "      <td>896.966373</td>\n",
       "      <td>KEN</td>\n",
       "      <td>404</td>\n",
       "    </tr>\n",
       "    <tr>\n",
       "      <th>819</th>\n",
       "      <td>Kenya</td>\n",
       "      <td>Africa</td>\n",
       "      <td>1967</td>\n",
       "      <td>50.654</td>\n",
       "      <td>10191512</td>\n",
       "      <td>1056.736457</td>\n",
       "      <td>KEN</td>\n",
       "      <td>404</td>\n",
       "    </tr>\n",
       "    <tr>\n",
       "      <th>820</th>\n",
       "      <td>Kenya</td>\n",
       "      <td>Africa</td>\n",
       "      <td>1972</td>\n",
       "      <td>53.559</td>\n",
       "      <td>12044785</td>\n",
       "      <td>1222.359968</td>\n",
       "      <td>KEN</td>\n",
       "      <td>404</td>\n",
       "    </tr>\n",
       "    <tr>\n",
       "      <th>821</th>\n",
       "      <td>Kenya</td>\n",
       "      <td>Africa</td>\n",
       "      <td>1977</td>\n",
       "      <td>56.155</td>\n",
       "      <td>14500404</td>\n",
       "      <td>1267.613204</td>\n",
       "      <td>KEN</td>\n",
       "      <td>404</td>\n",
       "    </tr>\n",
       "    <tr>\n",
       "      <th>822</th>\n",
       "      <td>Kenya</td>\n",
       "      <td>Africa</td>\n",
       "      <td>1982</td>\n",
       "      <td>58.766</td>\n",
       "      <td>17661452</td>\n",
       "      <td>1348.225791</td>\n",
       "      <td>KEN</td>\n",
       "      <td>404</td>\n",
       "    </tr>\n",
       "    <tr>\n",
       "      <th>823</th>\n",
       "      <td>Kenya</td>\n",
       "      <td>Africa</td>\n",
       "      <td>1987</td>\n",
       "      <td>59.339</td>\n",
       "      <td>21198082</td>\n",
       "      <td>1361.936856</td>\n",
       "      <td>KEN</td>\n",
       "      <td>404</td>\n",
       "    </tr>\n",
       "    <tr>\n",
       "      <th>824</th>\n",
       "      <td>Kenya</td>\n",
       "      <td>Africa</td>\n",
       "      <td>1992</td>\n",
       "      <td>59.285</td>\n",
       "      <td>25020539</td>\n",
       "      <td>1341.921721</td>\n",
       "      <td>KEN</td>\n",
       "      <td>404</td>\n",
       "    </tr>\n",
       "    <tr>\n",
       "      <th>825</th>\n",
       "      <td>Kenya</td>\n",
       "      <td>Africa</td>\n",
       "      <td>1997</td>\n",
       "      <td>54.407</td>\n",
       "      <td>28263827</td>\n",
       "      <td>1360.485021</td>\n",
       "      <td>KEN</td>\n",
       "      <td>404</td>\n",
       "    </tr>\n",
       "    <tr>\n",
       "      <th>826</th>\n",
       "      <td>Kenya</td>\n",
       "      <td>Africa</td>\n",
       "      <td>2002</td>\n",
       "      <td>50.992</td>\n",
       "      <td>31386842</td>\n",
       "      <td>1287.514732</td>\n",
       "      <td>KEN</td>\n",
       "      <td>404</td>\n",
       "    </tr>\n",
       "    <tr>\n",
       "      <th>827</th>\n",
       "      <td>Kenya</td>\n",
       "      <td>Africa</td>\n",
       "      <td>2007</td>\n",
       "      <td>54.110</td>\n",
       "      <td>35610177</td>\n",
       "      <td>1463.249282</td>\n",
       "      <td>KEN</td>\n",
       "      <td>404</td>\n",
       "    </tr>\n",
       "    <tr>\n",
       "      <th>1272</th>\n",
       "      <td>Romania</td>\n",
       "      <td>Europe</td>\n",
       "      <td>1952</td>\n",
       "      <td>61.050</td>\n",
       "      <td>16630000</td>\n",
       "      <td>3144.613186</td>\n",
       "      <td>ROU</td>\n",
       "      <td>642</td>\n",
       "    </tr>\n",
       "    <tr>\n",
       "      <th>1273</th>\n",
       "      <td>Romania</td>\n",
       "      <td>Europe</td>\n",
       "      <td>1957</td>\n",
       "      <td>64.100</td>\n",
       "      <td>17829327</td>\n",
       "      <td>3943.370225</td>\n",
       "      <td>ROU</td>\n",
       "      <td>642</td>\n",
       "    </tr>\n",
       "    <tr>\n",
       "      <th>1274</th>\n",
       "      <td>Romania</td>\n",
       "      <td>Europe</td>\n",
       "      <td>1962</td>\n",
       "      <td>66.800</td>\n",
       "      <td>18680721</td>\n",
       "      <td>4734.997586</td>\n",
       "      <td>ROU</td>\n",
       "      <td>642</td>\n",
       "    </tr>\n",
       "    <tr>\n",
       "      <th>1275</th>\n",
       "      <td>Romania</td>\n",
       "      <td>Europe</td>\n",
       "      <td>1967</td>\n",
       "      <td>66.800</td>\n",
       "      <td>19284814</td>\n",
       "      <td>6470.866545</td>\n",
       "      <td>ROU</td>\n",
       "      <td>642</td>\n",
       "    </tr>\n",
       "    <tr>\n",
       "      <th>1276</th>\n",
       "      <td>Romania</td>\n",
       "      <td>Europe</td>\n",
       "      <td>1972</td>\n",
       "      <td>69.210</td>\n",
       "      <td>20662648</td>\n",
       "      <td>8011.414402</td>\n",
       "      <td>ROU</td>\n",
       "      <td>642</td>\n",
       "    </tr>\n",
       "    <tr>\n",
       "      <th>1277</th>\n",
       "      <td>Romania</td>\n",
       "      <td>Europe</td>\n",
       "      <td>1977</td>\n",
       "      <td>69.460</td>\n",
       "      <td>21658597</td>\n",
       "      <td>9356.397240</td>\n",
       "      <td>ROU</td>\n",
       "      <td>642</td>\n",
       "    </tr>\n",
       "    <tr>\n",
       "      <th>1278</th>\n",
       "      <td>Romania</td>\n",
       "      <td>Europe</td>\n",
       "      <td>1982</td>\n",
       "      <td>69.660</td>\n",
       "      <td>22356726</td>\n",
       "      <td>9605.314053</td>\n",
       "      <td>ROU</td>\n",
       "      <td>642</td>\n",
       "    </tr>\n",
       "    <tr>\n",
       "      <th>1279</th>\n",
       "      <td>Romania</td>\n",
       "      <td>Europe</td>\n",
       "      <td>1987</td>\n",
       "      <td>69.530</td>\n",
       "      <td>22686371</td>\n",
       "      <td>9696.273295</td>\n",
       "      <td>ROU</td>\n",
       "      <td>642</td>\n",
       "    </tr>\n",
       "    <tr>\n",
       "      <th>1280</th>\n",
       "      <td>Romania</td>\n",
       "      <td>Europe</td>\n",
       "      <td>1992</td>\n",
       "      <td>69.360</td>\n",
       "      <td>22797027</td>\n",
       "      <td>6598.409903</td>\n",
       "      <td>ROU</td>\n",
       "      <td>642</td>\n",
       "    </tr>\n",
       "    <tr>\n",
       "      <th>1281</th>\n",
       "      <td>Romania</td>\n",
       "      <td>Europe</td>\n",
       "      <td>1997</td>\n",
       "      <td>69.720</td>\n",
       "      <td>22562458</td>\n",
       "      <td>7346.547557</td>\n",
       "      <td>ROU</td>\n",
       "      <td>642</td>\n",
       "    </tr>\n",
       "    <tr>\n",
       "      <th>1282</th>\n",
       "      <td>Romania</td>\n",
       "      <td>Europe</td>\n",
       "      <td>2002</td>\n",
       "      <td>71.322</td>\n",
       "      <td>22404337</td>\n",
       "      <td>7885.360081</td>\n",
       "      <td>ROU</td>\n",
       "      <td>642</td>\n",
       "    </tr>\n",
       "    <tr>\n",
       "      <th>1283</th>\n",
       "      <td>Romania</td>\n",
       "      <td>Europe</td>\n",
       "      <td>2007</td>\n",
       "      <td>72.476</td>\n",
       "      <td>22276056</td>\n",
       "      <td>10808.475610</td>\n",
       "      <td>ROU</td>\n",
       "      <td>642</td>\n",
       "    </tr>\n",
       "  </tbody>\n",
       "</table>\n",
       "</div>"
      ],
      "text/plain": [
       "      country continent  year  lifeExp        pop     gdpPercap iso_alpha  \\\n",
       "168    Brazil  Americas  1952   50.917   56602560   2108.944355       BRA   \n",
       "169    Brazil  Americas  1957   53.285   65551171   2487.365989       BRA   \n",
       "170    Brazil  Americas  1962   55.665   76039390   3336.585802       BRA   \n",
       "171    Brazil  Americas  1967   57.632   88049823   3429.864357       BRA   \n",
       "172    Brazil  Americas  1972   59.504  100840058   4985.711467       BRA   \n",
       "173    Brazil  Americas  1977   61.489  114313951   6660.118654       BRA   \n",
       "174    Brazil  Americas  1982   63.336  128962939   7030.835878       BRA   \n",
       "175    Brazil  Americas  1987   65.205  142938076   7807.095818       BRA   \n",
       "176    Brazil  Americas  1992   67.057  155975974   6950.283021       BRA   \n",
       "177    Brazil  Americas  1997   69.388  168546719   7957.980824       BRA   \n",
       "178    Brazil  Americas  2002   71.006  179914212   8131.212843       BRA   \n",
       "179    Brazil  Americas  2007   72.390  190010647   9065.800825       BRA   \n",
       "816     Kenya    Africa  1952   42.270    6464046    853.540919       KEN   \n",
       "817     Kenya    Africa  1957   44.686    7454779    944.438315       KEN   \n",
       "818     Kenya    Africa  1962   47.949    8678557    896.966373       KEN   \n",
       "819     Kenya    Africa  1967   50.654   10191512   1056.736457       KEN   \n",
       "820     Kenya    Africa  1972   53.559   12044785   1222.359968       KEN   \n",
       "821     Kenya    Africa  1977   56.155   14500404   1267.613204       KEN   \n",
       "822     Kenya    Africa  1982   58.766   17661452   1348.225791       KEN   \n",
       "823     Kenya    Africa  1987   59.339   21198082   1361.936856       KEN   \n",
       "824     Kenya    Africa  1992   59.285   25020539   1341.921721       KEN   \n",
       "825     Kenya    Africa  1997   54.407   28263827   1360.485021       KEN   \n",
       "826     Kenya    Africa  2002   50.992   31386842   1287.514732       KEN   \n",
       "827     Kenya    Africa  2007   54.110   35610177   1463.249282       KEN   \n",
       "1272  Romania    Europe  1952   61.050   16630000   3144.613186       ROU   \n",
       "1273  Romania    Europe  1957   64.100   17829327   3943.370225       ROU   \n",
       "1274  Romania    Europe  1962   66.800   18680721   4734.997586       ROU   \n",
       "1275  Romania    Europe  1967   66.800   19284814   6470.866545       ROU   \n",
       "1276  Romania    Europe  1972   69.210   20662648   8011.414402       ROU   \n",
       "1277  Romania    Europe  1977   69.460   21658597   9356.397240       ROU   \n",
       "1278  Romania    Europe  1982   69.660   22356726   9605.314053       ROU   \n",
       "1279  Romania    Europe  1987   69.530   22686371   9696.273295       ROU   \n",
       "1280  Romania    Europe  1992   69.360   22797027   6598.409903       ROU   \n",
       "1281  Romania    Europe  1997   69.720   22562458   7346.547557       ROU   \n",
       "1282  Romania    Europe  2002   71.322   22404337   7885.360081       ROU   \n",
       "1283  Romania    Europe  2007   72.476   22276056  10808.475610       ROU   \n",
       "\n",
       "      iso_num  \n",
       "168        76  \n",
       "169        76  \n",
       "170        76  \n",
       "171        76  \n",
       "172        76  \n",
       "173        76  \n",
       "174        76  \n",
       "175        76  \n",
       "176        76  \n",
       "177        76  \n",
       "178        76  \n",
       "179        76  \n",
       "816       404  \n",
       "817       404  \n",
       "818       404  \n",
       "819       404  \n",
       "820       404  \n",
       "821       404  \n",
       "822       404  \n",
       "823       404  \n",
       "824       404  \n",
       "825       404  \n",
       "826       404  \n",
       "827       404  \n",
       "1272      642  \n",
       "1273      642  \n",
       "1274      642  \n",
       "1275      642  \n",
       "1276      642  \n",
       "1277      642  \n",
       "1278      642  \n",
       "1279      642  \n",
       "1280      642  \n",
       "1281      642  \n",
       "1282      642  \n",
       "1283      642  "
      ]
     },
     "execution_count": 109,
     "metadata": {},
     "output_type": "execute_result"
    }
   ],
   "source": [
    "# hue,style in lineplot\n",
    "gap[gap['country'].isin(['Brazil','Romania','Kenya'])]"
   ]
  },
  {
   "cell_type": "code",
   "execution_count": null,
   "id": "03b0f0cc",
   "metadata": {},
   "outputs": [
    {
     "data": {
      "text/plain": [
       "<seaborn.axisgrid.FacetGrid at 0x1fd53222350>"
      ]
     },
     "execution_count": 104,
     "metadata": {},
     "output_type": "execute_result"
    },
    {
     "data": {
      "image/png": "[encoded data removed]",
      "text/plain": [
       "<Figure size 616.125x500 with 1 Axes>"
      ]
     },
     "metadata": {},
     "output_type": "display_data"
    }
   ],
   "source": [
    "# so hue param is used to plot graph of multiple categories, and it give each color to each category\n",
    "\n",
    "sns.relplot(kind='line',data=gap[gap['country'].isin(['Brazil','Romania','Kenya'])],x='year',y='lifeExp',hue='country')\n",
    "\n",
    "# one more thing that diff in figure level and axes level, about legend, in fig level legend will outside the graph, while in axes level legend will inside"
   ]
  },
  {
   "cell_type": "code",
   "execution_count": 106,
   "id": "7919e2ec",
   "metadata": {},
   "outputs": [
    {
     "data": {
      "text/plain": [
       "<seaborn.axisgrid.FacetGrid at 0x1fd53368e10>"
      ]
     },
     "execution_count": 106,
     "metadata": {},
     "output_type": "execute_result"
    },
    {
     "data": {
      "image/png": "[encoded data removed]",
      "text/plain": [
       "<Figure size 618.625x500 with 1 Axes>"
      ]
     },
     "metadata": {},
     "output_type": "display_data"
    }
   ],
   "source": [
    "# there is also style parameter, that change the styles of lines based on given values -> https://www.youtube.com/live/DWVLRhnuGqI?si=4xFAZ8U2OEK7ZvkT&t=2647\n",
    "\n",
    "sns.relplot(kind='line',data=gap[gap['country'].isin(['Brazil','Romania','Kenya'])],x='year',y='lifeExp',hue='country', style='continent')\n"
   ]
  },
  {
   "cell_type": "code",
   "execution_count": 108,
   "id": "b32f5660",
   "metadata": {},
   "outputs": [
    {
     "data": {
      "text/plain": [
       "<seaborn.axisgrid.FacetGrid at 0x1fd535edf90>"
      ]
     },
     "execution_count": 108,
     "metadata": {},
     "output_type": "execute_result"
    },
    {
     "data": {
      "image/png": "[encoded data removed]",
      "text/plain": [
       "<Figure size 618.625x500 with 1 Axes>"
      ]
     },
     "metadata": {},
     "output_type": "display_data"
    }
   ],
   "source": [
    "# we also have size, that increase the size of line based on given values\n",
    "sns.relplot(kind='line',data=gap[gap['country'].isin(['Brazil','Romania','Kenya'])],x='year',y='lifeExp',hue='country', style='continent',size='iso_num')\n"
   ]
  },
  {
   "cell_type": "code",
   "execution_count": null,
   "id": "eeef60b5",
   "metadata": {},
   "outputs": [],
   "source": [
    "# facet plot"
   ]
  }
 ],
 "metadata": {
  "kernelspec": {
   "display_name": "Python 3",
   "language": "python",
   "name": "python3"
  },
  "language_info": {
   "codemirror_mode": {
    "name": "ipython",
    "version": 3
   },
   "file_extension": ".py",
   "mimetype": "text/x-python",
   "name": "python",
   "nbconvert_exporter": "python",
   "pygments_lexer": "ipython3",
   "version": "3.13.2"
  }
 },
 "nbformat": 4,
 "nbformat_minor": 5
}
