{
 "cells": [
  {
   "cell_type": "markdown",
   "id": "9bf5ee49",
   "metadata": {},
   "source": [
    "[See this video to understand the concept of, `date and time in pandas`](https://www.youtube.com/live/UE6DmRQJ2w8?si=7m2ubkCtatmLLj6u&t=4257)"
   ]
  },
  {
   "cell_type": "code",
   "execution_count": 1,
   "id": "32578f30",
   "metadata": {},
   "outputs": [],
   "source": [
    "import numpy as np\n",
    "import pandas as pd"
   ]
  },
  {
   "cell_type": "markdown",
   "id": "942591e1",
   "metadata": {},
   "source": [
    "# TimeStamp Object"
   ]
  },
  {
   "cell_type": "code",
   "execution_count": 2,
   "id": "e8b86546",
   "metadata": {},
   "outputs": [],
   "source": [
    "# TimeStamp Object -> https://www.youtube.com/live/UE6DmRQJ2w8?si=lLCXcE57CtRSTlz7&t=4557\n"
   ]
  },
  {
   "cell_type": "code",
   "execution_count": 3,
   "id": "a09ec5b2",
   "metadata": {},
   "outputs": [
    {
     "data": {
      "text/plain": [
       "Timestamp('2025-01-01 00:00:00')"
      ]
     },
     "execution_count": 3,
     "metadata": {},
     "output_type": "execute_result"
    }
   ],
   "source": [
    "# pd.Timestamp() # let's you create TimeStamp objects \n",
    "ts1 =  pd.Timestamp('2025/1/1') # Creating a TimeStamp object for January 1, 2025\n",
    "ts1"
   ]
  },
  {
   "cell_type": "code",
   "execution_count": 4,
   "id": "44c8700d",
   "metadata": {},
   "outputs": [
    {
     "name": "stdout",
     "output_type": "stream",
     "text": [
      "2\n",
      "False\n",
      "January\n"
     ]
    }
   ],
   "source": [
    "\n",
    "print(ts1.weekday())  # Now you cna perform all sort of method on this dat eobject\n",
    "print(ts1.is_leap_year)  \n",
    "print(ts1.month_name()) \n"
   ]
  },
  {
   "cell_type": "code",
   "execution_count": 5,
   "id": "30168b6c",
   "metadata": {},
   "outputs": [
    {
     "data": {
      "text/plain": [
       "Timestamp('2025-01-01 00:00:00')"
      ]
     },
     "execution_count": 5,
     "metadata": {},
     "output_type": "execute_result"
    }
   ],
   "source": [
    "pd.Timestamp('2025')"
   ]
  },
  {
   "cell_type": "code",
   "execution_count": 6,
   "id": "fb8f3f48",
   "metadata": {},
   "outputs": [
    {
     "data": {
      "text/plain": [
       "Timestamp('2025-01-31 12:00:00')"
      ]
     },
     "execution_count": 6,
     "metadata": {},
     "output_type": "execute_result"
    }
   ],
   "source": [
    "pd.Timestamp('2025-jan-31, 12:00PM')"
   ]
  },
  {
   "cell_type": "markdown",
   "id": "3b150221",
   "metadata": {},
   "source": [
    "# [video about `datetime.datetime` of vanilla python](https://www.youtube.com/live/UE6DmRQJ2w8?si=FDz-y3H26eWYEBmv&t=5007)"
   ]
  },
  {
   "cell_type": "code",
   "execution_count": 7,
   "id": "8ca627d7",
   "metadata": {},
   "outputs": [
    {
     "data": {
      "text/plain": [
       "datetime.datetime(2025, 1, 1, 12, 0)"
      ]
     },
     "execution_count": 7,
     "metadata": {},
     "output_type": "execute_result"
    }
   ],
   "source": [
    "import datetime as dt\n",
    "\n",
    "dt1 = dt.datetime(2025, 1, 1, 12, 0)  # Creating a datetime object for January 1, 2025 at 12 PM\n",
    "dt1"
   ]
  },
  {
   "cell_type": "code",
   "execution_count": 8,
   "id": "bf17cb76",
   "metadata": {},
   "outputs": [
    {
     "data": {
      "text/plain": [
       "2"
      ]
     },
     "execution_count": 8,
     "metadata": {},
     "output_type": "execute_result"
    }
   ],
   "source": [
    "dt1.weekday()  # You can perform all sort of method on this dat eobject"
   ]
  },
  {
   "cell_type": "code",
   "execution_count": 9,
   "id": "ed0fad38",
   "metadata": {},
   "outputs": [
    {
     "data": {
      "text/plain": [
       "(2025, 1, 1, 12, 0, 0)"
      ]
     },
     "execution_count": 9,
     "metadata": {},
     "output_type": "execute_result"
    }
   ],
   "source": [
    "# fetching attributes\n",
    "dt1.year, dt1.month, dt1.day, dt1.hour, dt1.minute, dt1.second"
   ]
  },
  {
   "cell_type": "code",
   "execution_count": 10,
   "id": "dec2cbf2",
   "metadata": {},
   "outputs": [],
   "source": [
    "# Why pandas datetime over vanilla python datetime? -> https://www.youtube.com/live/UE6DmRQJ2w8?si=z50m2MOr6JZA8mCx&t=5337"
   ]
  },
  {
   "cell_type": "markdown",
   "id": "d020d442",
   "metadata": {},
   "source": [
    "# numpy dateTime"
   ]
  },
  {
   "cell_type": "code",
   "execution_count": 11,
   "id": "de678e8f",
   "metadata": {},
   "outputs": [
    {
     "data": {
      "text/plain": [
       "array(['2025-01-01', '2025-01-02', '2025-01-03', '2025-01-04',\n",
       "       '2025-01-05', '2025-01-06', '2025-01-07', '2025-01-08',\n",
       "       '2025-01-09', '2025-01-10', '2025-01-11', '2025-01-12',\n",
       "       '2025-01-13', '2025-01-14', '2025-01-15', '2025-01-16',\n",
       "       '2025-01-17', '2025-01-18', '2025-01-19', '2025-01-20',\n",
       "       '2025-01-21', '2025-01-22', '2025-01-23', '2025-01-24',\n",
       "       '2025-01-25', '2025-01-26', '2025-01-27', '2025-01-28',\n",
       "       '2025-01-29', '2025-01-30', '2025-01-31', '2025-02-01',\n",
       "       '2025-02-02', '2025-02-03', '2025-02-04', '2025-02-05',\n",
       "       '2025-02-06', '2025-02-07', '2025-02-08', '2025-02-09',\n",
       "       '2025-02-10', '2025-02-11', '2025-02-12', '2025-02-13',\n",
       "       '2025-02-14', '2025-02-15', '2025-02-16', '2025-02-17',\n",
       "       '2025-02-18', '2025-02-19', '2025-02-20', '2025-02-21',\n",
       "       '2025-02-22', '2025-02-23', '2025-02-24', '2025-02-25',\n",
       "       '2025-02-26', '2025-02-27', '2025-02-28', '2025-03-01',\n",
       "       '2025-03-02', '2025-03-03', '2025-03-04', '2025-03-05',\n",
       "       '2025-03-06', '2025-03-07', '2025-03-08', '2025-03-09',\n",
       "       '2025-03-10', '2025-03-11', '2025-03-12', '2025-03-13',\n",
       "       '2025-03-14', '2025-03-15', '2025-03-16', '2025-03-17',\n",
       "       '2025-03-18', '2025-03-19', '2025-03-20', '2025-03-21',\n",
       "       '2025-03-22', '2025-03-23', '2025-03-24', '2025-03-25',\n",
       "       '2025-03-26', '2025-03-27', '2025-03-28', '2025-03-29',\n",
       "       '2025-03-30', '2025-03-31', '2025-04-01', '2025-04-02',\n",
       "       '2025-04-03', '2025-04-04', '2025-04-05', '2025-04-06',\n",
       "       '2025-04-07', '2025-04-08', '2025-04-09', '2025-04-10',\n",
       "       '2025-04-11', '2025-04-12', '2025-04-13', '2025-04-14',\n",
       "       '2025-04-15', '2025-04-16', '2025-04-17', '2025-04-18',\n",
       "       '2025-04-19', '2025-04-20', '2025-04-21', '2025-04-22',\n",
       "       '2025-04-23', '2025-04-24', '2025-04-25', '2025-04-26',\n",
       "       '2025-04-27', '2025-04-28', '2025-04-29', '2025-04-30',\n",
       "       '2025-05-01', '2025-05-02', '2025-05-03', '2025-05-04',\n",
       "       '2025-05-05', '2025-05-06', '2025-05-07', '2025-05-08',\n",
       "       '2025-05-09', '2025-05-10', '2025-05-11', '2025-05-12',\n",
       "       '2025-05-13', '2025-05-14', '2025-05-15', '2025-05-16',\n",
       "       '2025-05-17', '2025-05-18', '2025-05-19', '2025-05-20',\n",
       "       '2025-05-21', '2025-05-22', '2025-05-23', '2025-05-24',\n",
       "       '2025-05-25', '2025-05-26', '2025-05-27', '2025-05-28',\n",
       "       '2025-05-29', '2025-05-30', '2025-05-31', '2025-06-01',\n",
       "       '2025-06-02', '2025-06-03', '2025-06-04', '2025-06-05',\n",
       "       '2025-06-06', '2025-06-07', '2025-06-08', '2025-06-09',\n",
       "       '2025-06-10', '2025-06-11', '2025-06-12', '2025-06-13',\n",
       "       '2025-06-14', '2025-06-15', '2025-06-16', '2025-06-17',\n",
       "       '2025-06-18', '2025-06-19', '2025-06-20', '2025-06-21',\n",
       "       '2025-06-22', '2025-06-23', '2025-06-24', '2025-06-25',\n",
       "       '2025-06-26', '2025-06-27', '2025-06-28', '2025-06-29',\n",
       "       '2025-06-30', '2025-07-01', '2025-07-02', '2025-07-03',\n",
       "       '2025-07-04', '2025-07-05', '2025-07-06', '2025-07-07',\n",
       "       '2025-07-08', '2025-07-09', '2025-07-10', '2025-07-11',\n",
       "       '2025-07-12', '2025-07-13', '2025-07-14', '2025-07-15',\n",
       "       '2025-07-16', '2025-07-17', '2025-07-18', '2025-07-19',\n",
       "       '2025-07-20', '2025-07-21', '2025-07-22', '2025-07-23',\n",
       "       '2025-07-24', '2025-07-25', '2025-07-26', '2025-07-27',\n",
       "       '2025-07-28', '2025-07-29', '2025-07-30', '2025-07-31',\n",
       "       '2025-08-01', '2025-08-02', '2025-08-03', '2025-08-04',\n",
       "       '2025-08-05', '2025-08-06', '2025-08-07', '2025-08-08',\n",
       "       '2025-08-09', '2025-08-10', '2025-08-11', '2025-08-12',\n",
       "       '2025-08-13', '2025-08-14', '2025-08-15', '2025-08-16',\n",
       "       '2025-08-17', '2025-08-18', '2025-08-19', '2025-08-20',\n",
       "       '2025-08-21', '2025-08-22', '2025-08-23', '2025-08-24',\n",
       "       '2025-08-25', '2025-08-26', '2025-08-27', '2025-08-28',\n",
       "       '2025-08-29', '2025-08-30', '2025-08-31', '2025-09-01',\n",
       "       '2025-09-02', '2025-09-03', '2025-09-04', '2025-09-05',\n",
       "       '2025-09-06', '2025-09-07', '2025-09-08', '2025-09-09',\n",
       "       '2025-09-10', '2025-09-11', '2025-09-12', '2025-09-13',\n",
       "       '2025-09-14', '2025-09-15', '2025-09-16', '2025-09-17',\n",
       "       '2025-09-18', '2025-09-19', '2025-09-20', '2025-09-21',\n",
       "       '2025-09-22', '2025-09-23', '2025-09-24', '2025-09-25',\n",
       "       '2025-09-26', '2025-09-27', '2025-09-28', '2025-09-29',\n",
       "       '2025-09-30', '2025-10-01', '2025-10-02', '2025-10-03',\n",
       "       '2025-10-04', '2025-10-05', '2025-10-06', '2025-10-07',\n",
       "       '2025-10-08', '2025-10-09', '2025-10-10', '2025-10-11',\n",
       "       '2025-10-12', '2025-10-13', '2025-10-14', '2025-10-15',\n",
       "       '2025-10-16', '2025-10-17', '2025-10-18', '2025-10-19',\n",
       "       '2025-10-20', '2025-10-21', '2025-10-22', '2025-10-23',\n",
       "       '2025-10-24', '2025-10-25', '2025-10-26', '2025-10-27',\n",
       "       '2025-10-28', '2025-10-29', '2025-10-30', '2025-10-31',\n",
       "       '2025-11-01', '2025-11-02', '2025-11-03', '2025-11-04',\n",
       "       '2025-11-05', '2025-11-06', '2025-11-07', '2025-11-08',\n",
       "       '2025-11-09', '2025-11-10', '2025-11-11', '2025-11-12',\n",
       "       '2025-11-13', '2025-11-14', '2025-11-15', '2025-11-16',\n",
       "       '2025-11-17', '2025-11-18', '2025-11-19', '2025-11-20',\n",
       "       '2025-11-21', '2025-11-22', '2025-11-23', '2025-11-24',\n",
       "       '2025-11-25', '2025-11-26', '2025-11-27', '2025-11-28',\n",
       "       '2025-11-29', '2025-11-30', '2025-12-01', '2025-12-02',\n",
       "       '2025-12-03', '2025-12-04', '2025-12-05', '2025-12-06',\n",
       "       '2025-12-07', '2025-12-08', '2025-12-09', '2025-12-10',\n",
       "       '2025-12-11', '2025-12-12', '2025-12-13', '2025-12-14',\n",
       "       '2025-12-15', '2025-12-16', '2025-12-17', '2025-12-18',\n",
       "       '2025-12-19', '2025-12-20', '2025-12-21', '2025-12-22',\n",
       "       '2025-12-23', '2025-12-24', '2025-12-25', '2025-12-26',\n",
       "       '2025-12-27', '2025-12-28', '2025-12-29', '2025-12-30'],\n",
       "      dtype='datetime64[D]')"
      ]
     },
     "execution_count": 11,
     "metadata": {},
     "output_type": "execute_result"
    }
   ],
   "source": [
    "np.arange('2025-01-01', '2025-12-31', dtype='datetime64') # creating a year dates using numpy"
   ]
  },
  {
   "cell_type": "code",
   "execution_count": 12,
   "id": "cfaa6616",
   "metadata": {},
   "outputs": [
    {
     "data": {
      "text/plain": [
       "array(['2025-01-01', '2025-01-02', '2025-01-03', '2025-01-04',\n",
       "       '2025-01-05', '2025-01-06', '2025-01-07'], dtype='datetime64[D]')"
      ]
     },
     "execution_count": 12,
     "metadata": {},
     "output_type": "execute_result"
    }
   ],
   "source": [
    "npDate = np.datetime64('2025-01-01') \n",
    "np.arange(7) + npDate"
   ]
  },
  {
   "cell_type": "markdown",
   "id": "f6a5f251",
   "metadata": {},
   "source": [
    "# DatetimeIndex Objects"
   ]
  },
  {
   "cell_type": "code",
   "execution_count": 13,
   "id": "fabe0e4c",
   "metadata": {},
   "outputs": [],
   "source": [
    "# DatetimeIndex ->  https://www.youtube.com/live/UE6DmRQJ2w8?si=-MfCFw27CutBxFbE&t=5447"
   ]
  },
  {
   "cell_type": "code",
   "execution_count": 14,
   "id": "4909f8fd",
   "metadata": {},
   "outputs": [
    {
     "data": {
      "text/plain": [
       "DatetimeIndex(['2025-01-01 19:00:00', '2025-02-02 00:00:00',\n",
       "               '2025-03-03 00:00:00'],\n",
       "              dtype='datetime64[ns]', freq=None)"
      ]
     },
     "execution_count": 14,
     "metadata": {},
     "output_type": "execute_result"
    }
   ],
   "source": [
    "pd.DatetimeIndex(['2025/1/1 7PM', '2025/2/2', '2025/3/3'])"
   ]
  },
  {
   "cell_type": "code",
   "execution_count": 15,
   "id": "98ab8476",
   "metadata": {},
   "outputs": [
    {
     "data": {
      "text/plain": [
       "pandas.core.indexes.datetimes.DatetimeIndex"
      ]
     },
     "execution_count": 15,
     "metadata": {},
     "output_type": "execute_result"
    }
   ],
   "source": [
    "type(pd.DatetimeIndex(['2025/1/1 7PM', '2025/2/2', '2025/3/3']))\n"
   ]
  },
  {
   "cell_type": "code",
   "execution_count": 16,
   "id": "bccfc93a",
   "metadata": {},
   "outputs": [
    {
     "data": {
      "text/plain": [
       "Timestamp('2025-01-01 19:00:00')"
      ]
     },
     "execution_count": 16,
     "metadata": {},
     "output_type": "execute_result"
    }
   ],
   "source": [
    "pd.DatetimeIndex(['2025/1/1 7PM', '2025/2/2', '2025/3/3'])[0]\n"
   ]
  },
  {
   "cell_type": "code",
   "execution_count": 17,
   "id": "37190c6d",
   "metadata": {},
   "outputs": [
    {
     "data": {
      "text/plain": [
       "DatetimeIndex(['2025-01-01 12:00:00', '2025-01-02 12:00:00',\n",
       "               '2025-01-03 19:00:00'],\n",
       "              dtype='datetime64[ns]', freq=None)"
      ]
     },
     "execution_count": 17,
     "metadata": {},
     "output_type": "execute_result"
    }
   ],
   "source": [
    "# using vanilla python datetime object in DatetimeIndex, similarly pd.Timestamp object can also be used in DatetimeIndex\n",
    "                # Y M D H M S \n",
    "dt2 = dt.datetime(2025, 1, 1, 12, 0)\n",
    "pd.DatetimeIndex([dt2, dt2 + dt.timedelta(days=1), dt2 + dt.timedelta(days=2,hours=7)])\n",
    "# time delta is used to specify the difference between two dates"
   ]
  },
  {
   "cell_type": "code",
   "execution_count": 18,
   "id": "be486f4c",
   "metadata": {},
   "outputs": [
    {
     "data": {
      "text/plain": [
       "2025-01-01 19:00:00   -0.295753\n",
       "2025-02-02 19:00:00    0.850466\n",
       "2025-03-03 00:00:00    0.861205\n",
       "dtype: float64"
      ]
     },
     "execution_count": 18,
     "metadata": {},
     "output_type": "execute_result"
    }
   ],
   "source": [
    "# now using `DatetimeIndex` with pandas series (we can alsos use in datframe too)\n",
    "pd.Series(np.random.randn(3), index=pd.DatetimeIndex(['2025/1/1 7PM', pd.Timestamp('2025/2/2, 7PM '), '2025/3/3']))\n"
   ]
  },
  {
   "cell_type": "markdown",
   "id": "1d3b2692",
   "metadata": {},
   "source": [
    "# [`date_range` function, click for video](https://www.youtube.com/live/UE6DmRQJ2w8?si=hD1fM8xZxbcQpD_o&t=5867)"
   ]
  },
  {
   "cell_type": "code",
   "execution_count": 19,
   "id": "36832d54",
   "metadata": {},
   "outputs": [
    {
     "name": "stderr",
     "output_type": "stream",
     "text": [
      "C:\\Users\\Vedansh\\AppData\\Local\\Temp\\ipykernel_34904\\3337465318.py:1: FutureWarning: 'H' is deprecated and will be removed in a future version, please use 'h' instead.\n",
      "  pd.date_range('2025-01-01', '2025-12-31', freq='3D 1H')\n"
     ]
    },
    {
     "data": {
      "text/plain": [
       "' so frequency parameter is used to specify the difference between two dates, in this case 3 days and 1 hour, \\nbetween two dates '"
      ]
     },
     "execution_count": 19,
     "metadata": {},
     "output_type": "execute_result"
    }
   ],
   "source": [
    "pd.date_range('2025-01-01', '2025-12-31', freq='3D 1H')\n",
    "\"\"\" so frequency parameter is used to specify the difference between two dates, in this case 3 days and 1 hour, \n",
    "between two dates \"\"\"\n",
    "# so basically when end param is specified, freq will work like sort od differnce between dates "
   ]
  },
  {
   "cell_type": "code",
   "execution_count": null,
   "id": "3b759add",
   "metadata": {},
   "outputs": [
    {
     "data": {
      "text/plain": [
       "DatetimeIndex(['2025-01-01', '2025-01-02', '2025-01-03'], dtype='datetime64[ns]', freq='D')"
      ]
     },
     "execution_count": 20,
     "metadata": {},
     "output_type": "execute_result"
    }
   ],
   "source": [
    "\"\"\"periods parameter specifies the number of periods between start and end dates(if end date is provided), if not\n",
    "it will generate n dates(n = `periods` param value) from start('start' param value) date\"\"\"\n",
    "# -> https://www.youtube.com/live/UE6DmRQJ2w8?si=4JPGmbZmH-y2GaEz&t=6237\n",
    "pd.date_range(start='2025-01-01', periods=3) # by default `freq` is daily, means 1 day differnce"
   ]
  },
  {
   "cell_type": "code",
   "execution_count": 21,
   "id": "81a3eece",
   "metadata": {},
   "outputs": [
    {
     "name": "stdout",
     "output_type": "stream",
     "text": [
      "DatetimeIndex(['2025-01-01', '2025-01-02', '2025-01-03'], dtype='datetime64[ns]', freq='D')\n",
      "Index(['January', 'January', 'January'], dtype='object')\n",
      "Index(['Wednesday', 'Thursday', 'Friday'], dtype='object')\n"
     ]
    }
   ],
   "source": [
    "# Now all sort of function that available for datetime objects also can be used on `DatetimeIndex` object\n",
    "print(pd.date_range('2025-01-01', periods=3))\n",
    "\n",
    "print(pd.date_range('2025-01-01', periods=3).month_name())\n",
    "print(pd.date_range('2025-01-01', periods=3).day_name())"
   ]
  },
  {
   "cell_type": "code",
   "execution_count": 22,
   "id": "c4bc3d35",
   "metadata": {},
   "outputs": [
    {
     "name": "stdout",
     "output_type": "stream",
     "text": [
      "DatetimeIndex(['2025-01-01', '2025-01-02', '2025-01-03'], dtype='datetime64[ns]', freq='D')\n"
     ]
    }
   ],
   "source": [
    "print(pd.date_range('2025-01-01', periods=3)) # by default it will show in day level, means 1 day differnce"
   ]
  },
  {
   "cell_type": "code",
   "execution_count": 23,
   "id": "2ef1f572",
   "metadata": {},
   "outputs": [
    {
     "data": {
      "text/plain": [
       "DatetimeIndex(['2025-01-01', '2025-01-02', '2025-01-03', '2025-01-06',\n",
       "               '2025-01-07', '2025-01-08', '2025-01-09', '2025-01-10',\n",
       "               '2025-01-13', '2025-01-14', '2025-01-15', '2025-01-16',\n",
       "               '2025-01-17', '2025-01-20', '2025-01-21', '2025-01-22',\n",
       "               '2025-01-23', '2025-01-24', '2025-01-27', '2025-01-28',\n",
       "               '2025-01-29', '2025-01-30', '2025-01-31', '2025-02-03',\n",
       "               '2025-02-04', '2025-02-05', '2025-02-06', '2025-02-07',\n",
       "               '2025-02-10', '2025-02-11', '2025-02-12'],\n",
       "              dtype='datetime64[ns]', freq='B')"
      ]
     },
     "execution_count": 23,
     "metadata": {},
     "output_type": "execute_result"
    }
   ],
   "source": [
    "# let's say we only want business days (Mon-Fri)\n",
    "\n",
    "business_days = pd.date_range('2025-01-01', periods=31, freq='B') # means 31 business days from 2025-01-01\n",
    "business_days\n"
   ]
  },
  {
   "cell_type": "code",
   "execution_count": 24,
   "id": "77a9bf49",
   "metadata": {},
   "outputs": [
    {
     "data": {
      "text/plain": [
       "DatetimeIndex(['2025-01-02', '2025-01-09'], dtype='datetime64[ns]', freq='W-THU')"
      ]
     },
     "execution_count": 24,
     "metadata": {},
     "output_type": "execute_result"
    }
   ],
   "source": [
    "# one week per day(used to get only day from a week) -> https://www.youtube.com/live/UE6DmRQJ2w8?si=RFw2ybKrX0S2BoIo&t=6047\n",
    "\n",
    "pd.date_range('2025-01-01', periods=2, freq='W-THU')  # means only Thursday 2 times, from 2025-01-01"
   ]
  },
  {
   "cell_type": "code",
   "execution_count": 25,
   "id": "f592d0a6",
   "metadata": {},
   "outputs": [
    {
     "data": {
      "text/plain": [
       "DatetimeIndex(['2025-01-31', '2025-02-28'], dtype='datetime64[ns]', freq='ME')"
      ]
     },
     "execution_count": 25,
     "metadata": {},
     "output_type": "execute_result"
    }
   ],
   "source": [
    "# Only month end, MS for month start, ME for month end\n",
    "\n",
    "pd.date_range('2025-01-01', periods=2, freq='ME') # means 2 months end from 2025-01-01"
   ]
  },
  {
   "cell_type": "code",
   "execution_count": 26,
   "id": "6f171495",
   "metadata": {},
   "outputs": [
    {
     "name": "stderr",
     "output_type": "stream",
     "text": [
      "C:\\Users\\Vedansh\\AppData\\Local\\Temp\\ipykernel_34904\\1831928916.py:3: FutureWarning: 'A' is deprecated and will be removed in a future version, please use 'YE' instead.\n",
      "  pd.date_range('2025-01-01', periods=2, freq='A') # means 2 years end from 2025-01-01\n"
     ]
    },
    {
     "data": {
      "text/plain": [
       "DatetimeIndex(['2025-12-31', '2026-12-31'], dtype='datetime64[ns]', freq='YE-DEC')"
      ]
     },
     "execution_count": 26,
     "metadata": {},
     "output_type": "execute_result"
    }
   ],
   "source": [
    "# A - Year End\n",
    "\n",
    "pd.date_range('2025-01-01', periods=2, freq='A') # means 2 years end from 2025-01-01"
   ]
  },
  {
   "cell_type": "markdown",
   "id": "eca9fec9",
   "metadata": {},
   "source": [
    "# [`to_datetime` function can convert string to datetime object, SEE video for more info](https://www.youtube.com/live/UE6DmRQJ2w8?si=_kxG_qfUGqmgQZEe&t=6307)"
   ]
  },
  {
   "cell_type": "code",
   "execution_count": 56,
   "id": "174387f9",
   "metadata": {},
   "outputs": [
    {
     "data": {
      "text/plain": [
       "0   2025-01-01\n",
       "1   2025-01-02\n",
       "2   2025-01-03\n",
       "3   2025-01-04\n",
       "4   2025-01-05\n",
       "5   2025-01-06\n",
       "6   2025-01-07\n",
       "dtype: datetime64[ns]"
      ]
     },
     "execution_count": 56,
     "metadata": {},
     "output_type": "execute_result"
    }
   ],
   "source": [
    "# converts existing objects to pandas timestamps/datetimeindex object\n",
    "\n",
    "\n",
    "# simple series exmaple\n",
    "\n",
    "s = pd.Series(['2025-01-01', '2025-01-02', '2025-01-03', '2025-01-04', '2025-01-05', '2025-01-06', '2025-01-07'])\n",
    "s = pd.to_datetime(s) # so here we convert string series data to pandas datetime series\n",
    "# now we can perform all sort of pandas datetime operations on this series, but use `dt` accesssor\n",
    "s"
   ]
  },
  {
   "cell_type": "code",
   "execution_count": 57,
   "id": "8bcfd707",
   "metadata": {},
   "outputs": [
    {
     "data": {
      "text/plain": [
       "0    Wednesday\n",
       "1     Thursday\n",
       "2       Friday\n",
       "3     Saturday\n",
       "4       Sunday\n",
       "5       Monday\n",
       "6      Tuesday\n",
       "dtype: object"
      ]
     },
     "execution_count": 57,
     "metadata": {},
     "output_type": "execute_result"
    }
   ],
   "source": [
    "s.dt.day_name() # now we can get day names for each date in series"
   ]
  },
  {
   "cell_type": "code",
   "execution_count": 29,
   "id": "5b795d62",
   "metadata": {},
   "outputs": [
    {
     "data": {
      "text/plain": [
       "0    2025\n",
       "1    2025\n",
       "2    2025\n",
       "3    2025\n",
       "4    2025\n",
       "5    2025\n",
       "6    2025\n",
       "dtype: int32"
      ]
     },
     "execution_count": 29,
     "metadata": {},
     "output_type": "execute_result"
    }
   ],
   "source": [
    "s.dt.year"
   ]
  },
  {
   "cell_type": "code",
   "execution_count": null,
   "id": "da4a2759",
   "metadata": {},
   "outputs": [
    {
     "data": {
      "text/plain": [
       "0   2025-01-01\n",
       "1          NaT\n",
       "dtype: datetime64[ns]"
      ]
     },
     "execution_count": 30,
     "metadata": {},
     "output_type": "execute_result"
    }
   ],
   "source": [
    "# with errors -> https://www.youtube.com/live/UE6DmRQJ2w8?si=ixbMKWkBpXX9JBB4&t=6517\n",
    "s = pd.Series(['2025/1/1','2025,1,177'])\n",
    "pd.to_datetime(s, errors='coerce') # NaT stands for `not a time`, and when you will do datetime operation on NaT, it will return NaN"
   ]
  },
  {
   "cell_type": "code",
   "execution_count": 31,
   "id": "eaaa5905",
   "metadata": {},
   "outputs": [
    {
     "data": {
      "text/plain": [
       "0    2025.0\n",
       "1       NaN\n",
       "dtype: float64"
      ]
     },
     "execution_count": 31,
     "metadata": {},
     "output_type": "execute_result"
    }
   ],
   "source": [
    "pd.to_datetime(s, errors='coerce').dt.year"
   ]
  },
  {
   "cell_type": "code",
   "execution_count": 32,
   "id": "4117b6e6",
   "metadata": {},
   "outputs": [],
   "source": [
    "# usefulness of this funtion -> https://www.youtube.com/live/UE6DmRQJ2w8?si=QxG2m6Am9EYUBaUK&t=6637"
   ]
  },
  {
   "cell_type": "code",
   "execution_count": 33,
   "id": "56772d0c",
   "metadata": {},
   "outputs": [],
   "source": [
    "# More example of pandas datetime operations -> https://www.youtube.com/live/UE6DmRQJ2w8?si=tkiK4oCdFhQeJU32&t=6637"
   ]
  },
  {
   "cell_type": "code",
   "execution_count": null,
   "id": "cce9a574",
   "metadata": {},
   "outputs": [],
   "source": [
    "# plot graphs -> https://www.youtube.com/live/UE6DmRQJ2w8?si=m46rbtJJS22uQQcf&t=6847"
   ]
  }
 ],
 "metadata": {
  "kernelspec": {
   "display_name": "Python 3",
   "language": "python",
   "name": "python3"
  },
  "language_info": {
   "codemirror_mode": {
    "name": "ipython",
    "version": 3
   },
   "file_extension": ".py",
   "mimetype": "text/x-python",
   "name": "python",
   "nbconvert_exporter": "python",
   "pygments_lexer": "ipython3",
   "version": "3.13.2"
  }
 },
 "nbformat": 4,
 "nbformat_minor": 5
}
