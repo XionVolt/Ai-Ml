{
 "cells": [
  {
   "cell_type": "code",
   "execution_count": 3,
   "id": "11bc2ecb",
   "metadata": {},
   "outputs": [],
   "source": [
    "import pandas as pd\n",
    "import numpy as np"
   ]
  },
  {
   "cell_type": "code",
   "execution_count": 4,
   "id": "f8cd4746",
   "metadata": {},
   "outputs": [],
   "source": [
    "toydata1 = pd.DataFrame({\n",
    "    'A': ['foo', 'bar', 'foo', 'bar', 'foo', 'bar', 'foo', 'foo'],\n",
    "    'B': ['one', 'one', 'two', 'three', 'two', 'two', 'one', 'three'],\n",
    "    'C': np.random.randn(8),\n",
    "    'D': np.random.randn(8)\n",
    "})\n",
    "\n",
    "\n",
    "toydata2 = pd.DataFrame({\n",
    "    'Z': ['foo', 'bar', 'foo', 'bar', 'foo', 'bar', 'foo', 'foo'],\n",
    "    'A': ['one', 'one', 'two', 'three', 'two', 'two', 'one', 'three'],\n",
    "    'X': np.random.randn(8),\n",
    "    'W': np.random.randn(8)\n",
    "})\n"
   ]
  },
  {
   "cell_type": "code",
   "execution_count": 5,
   "id": "8a68a3ba",
   "metadata": {},
   "outputs": [
    {
     "data": {
      "application/vnd.microsoft.datawrangler.viewer.v0+json": {
       "columns": [
        {
         "name": "index",
         "rawType": "int64",
         "type": "integer"
        },
        {
         "name": "A",
         "rawType": "object",
         "type": "string"
        },
        {
         "name": "B",
         "rawType": "object",
         "type": "unknown"
        },
        {
         "name": "C",
         "rawType": "float64",
         "type": "float"
        },
        {
         "name": "D",
         "rawType": "float64",
         "type": "float"
        },
        {
         "name": "Z",
         "rawType": "object",
         "type": "unknown"
        },
        {
         "name": "X",
         "rawType": "float64",
         "type": "float"
        },
        {
         "name": "W",
         "rawType": "float64",
         "type": "float"
        }
       ],
       "conversionMethod": "pd.DataFrame",
       "ref": "62cf66ba-0476-4d04-abcc-36f9b704d2fd",
       "rows": [
        [
         "0",
         "foo",
         "one",
         "-1.1717761042137749",
         "-0.24507763281115547",
         null,
         null,
         null
        ],
        [
         "1",
         "bar",
         "one",
         "0.5807679848063713",
         "0.8345345405870372",
         null,
         null,
         null
        ],
        [
         "2",
         "foo",
         "two",
         "-1.251127851648389",
         "-0.588755990655136",
         null,
         null,
         null
        ],
        [
         "3",
         "bar",
         "three",
         "-0.756040232008105",
         "0.34990139007801996",
         null,
         null,
         null
        ],
        [
         "4",
         "foo",
         "two",
         "-0.41711666433489886",
         "-0.6741771740929886",
         null,
         null,
         null
        ],
        [
         "5",
         "bar",
         "two",
         "0.6626874791728873",
         "1.1426510266109065",
         null,
         null,
         null
        ],
        [
         "6",
         "foo",
         "one",
         "-0.4667778335254747",
         "0.21854606750964045",
         null,
         null,
         null
        ],
        [
         "7",
         "foo",
         "three",
         "0.9606572703554833",
         "0.11276625836941608",
         null,
         null,
         null
        ],
        [
         "8",
         "one",
         null,
         null,
         null,
         "foo",
         "-0.0922281986933221",
         "0.6351465279330394"
        ],
        [
         "9",
         "one",
         null,
         null,
         null,
         "bar",
         "1.8485933765306561",
         "-0.27597141491618016"
        ],
        [
         "10",
         "two",
         null,
         null,
         null,
         "foo",
         "0.6926515683701546",
         "-0.8876290288081012"
        ],
        [
         "11",
         "three",
         null,
         null,
         null,
         "bar",
         "0.03598712618269778",
         "-0.930013088349406"
        ],
        [
         "12",
         "two",
         null,
         null,
         null,
         "foo",
         "-0.5061348996744973",
         "-1.0517842216379794"
        ],
        [
         "13",
         "two",
         null,
         null,
         null,
         "bar",
         "-1.4882561155204328",
         "0.010820031487608281"
        ],
        [
         "14",
         "one",
         null,
         null,
         null,
         "foo",
         "0.9723339186182569",
         "0.5140922774717154"
        ],
        [
         "15",
         "three",
         null,
         null,
         null,
         "foo",
         "-0.0525368031809057",
         "-0.2291807414660279"
        ]
       ],
       "shape": {
        "columns": 7,
        "rows": 16
       }
      },
      "text/html": [
       "<div>\n",
       "<style scoped>\n",
       "    .dataframe tbody tr th:only-of-type {\n",
       "        vertical-align: middle;\n",
       "    }\n",
       "\n",
       "    .dataframe tbody tr th {\n",
       "        vertical-align: top;\n",
       "    }\n",
       "\n",
       "    .dataframe thead th {\n",
       "        text-align: right;\n",
       "    }\n",
       "</style>\n",
       "<table border=\"1\" class=\"dataframe\">\n",
       "  <thead>\n",
       "    <tr style=\"text-align: right;\">\n",
       "      <th></th>\n",
       "      <th>A</th>\n",
       "      <th>B</th>\n",
       "      <th>C</th>\n",
       "      <th>D</th>\n",
       "      <th>Z</th>\n",
       "      <th>X</th>\n",
       "      <th>W</th>\n",
       "    </tr>\n",
       "  </thead>\n",
       "  <tbody>\n",
       "    <tr>\n",
       "      <th>0</th>\n",
       "      <td>foo</td>\n",
       "      <td>one</td>\n",
       "      <td>-1.171776</td>\n",
       "      <td>-0.245078</td>\n",
       "      <td>NaN</td>\n",
       "      <td>NaN</td>\n",
       "      <td>NaN</td>\n",
       "    </tr>\n",
       "    <tr>\n",
       "      <th>1</th>\n",
       "      <td>bar</td>\n",
       "      <td>one</td>\n",
       "      <td>0.580768</td>\n",
       "      <td>0.834535</td>\n",
       "      <td>NaN</td>\n",
       "      <td>NaN</td>\n",
       "      <td>NaN</td>\n",
       "    </tr>\n",
       "    <tr>\n",
       "      <th>2</th>\n",
       "      <td>foo</td>\n",
       "      <td>two</td>\n",
       "      <td>-1.251128</td>\n",
       "      <td>-0.588756</td>\n",
       "      <td>NaN</td>\n",
       "      <td>NaN</td>\n",
       "      <td>NaN</td>\n",
       "    </tr>\n",
       "    <tr>\n",
       "      <th>3</th>\n",
       "      <td>bar</td>\n",
       "      <td>three</td>\n",
       "      <td>-0.756040</td>\n",
       "      <td>0.349901</td>\n",
       "      <td>NaN</td>\n",
       "      <td>NaN</td>\n",
       "      <td>NaN</td>\n",
       "    </tr>\n",
       "    <tr>\n",
       "      <th>4</th>\n",
       "      <td>foo</td>\n",
       "      <td>two</td>\n",
       "      <td>-0.417117</td>\n",
       "      <td>-0.674177</td>\n",
       "      <td>NaN</td>\n",
       "      <td>NaN</td>\n",
       "      <td>NaN</td>\n",
       "    </tr>\n",
       "    <tr>\n",
       "      <th>5</th>\n",
       "      <td>bar</td>\n",
       "      <td>two</td>\n",
       "      <td>0.662687</td>\n",
       "      <td>1.142651</td>\n",
       "      <td>NaN</td>\n",
       "      <td>NaN</td>\n",
       "      <td>NaN</td>\n",
       "    </tr>\n",
       "    <tr>\n",
       "      <th>6</th>\n",
       "      <td>foo</td>\n",
       "      <td>one</td>\n",
       "      <td>-0.466778</td>\n",
       "      <td>0.218546</td>\n",
       "      <td>NaN</td>\n",
       "      <td>NaN</td>\n",
       "      <td>NaN</td>\n",
       "    </tr>\n",
       "    <tr>\n",
       "      <th>7</th>\n",
       "      <td>foo</td>\n",
       "      <td>three</td>\n",
       "      <td>0.960657</td>\n",
       "      <td>0.112766</td>\n",
       "      <td>NaN</td>\n",
       "      <td>NaN</td>\n",
       "      <td>NaN</td>\n",
       "    </tr>\n",
       "    <tr>\n",
       "      <th>8</th>\n",
       "      <td>one</td>\n",
       "      <td>NaN</td>\n",
       "      <td>NaN</td>\n",
       "      <td>NaN</td>\n",
       "      <td>foo</td>\n",
       "      <td>-0.092228</td>\n",
       "      <td>0.635147</td>\n",
       "    </tr>\n",
       "    <tr>\n",
       "      <th>9</th>\n",
       "      <td>one</td>\n",
       "      <td>NaN</td>\n",
       "      <td>NaN</td>\n",
       "      <td>NaN</td>\n",
       "      <td>bar</td>\n",
       "      <td>1.848593</td>\n",
       "      <td>-0.275971</td>\n",
       "    </tr>\n",
       "    <tr>\n",
       "      <th>10</th>\n",
       "      <td>two</td>\n",
       "      <td>NaN</td>\n",
       "      <td>NaN</td>\n",
       "      <td>NaN</td>\n",
       "      <td>foo</td>\n",
       "      <td>0.692652</td>\n",
       "      <td>-0.887629</td>\n",
       "    </tr>\n",
       "    <tr>\n",
       "      <th>11</th>\n",
       "      <td>three</td>\n",
       "      <td>NaN</td>\n",
       "      <td>NaN</td>\n",
       "      <td>NaN</td>\n",
       "      <td>bar</td>\n",
       "      <td>0.035987</td>\n",
       "      <td>-0.930013</td>\n",
       "    </tr>\n",
       "    <tr>\n",
       "      <th>12</th>\n",
       "      <td>two</td>\n",
       "      <td>NaN</td>\n",
       "      <td>NaN</td>\n",
       "      <td>NaN</td>\n",
       "      <td>foo</td>\n",
       "      <td>-0.506135</td>\n",
       "      <td>-1.051784</td>\n",
       "    </tr>\n",
       "    <tr>\n",
       "      <th>13</th>\n",
       "      <td>two</td>\n",
       "      <td>NaN</td>\n",
       "      <td>NaN</td>\n",
       "      <td>NaN</td>\n",
       "      <td>bar</td>\n",
       "      <td>-1.488256</td>\n",
       "      <td>0.010820</td>\n",
       "    </tr>\n",
       "    <tr>\n",
       "      <th>14</th>\n",
       "      <td>one</td>\n",
       "      <td>NaN</td>\n",
       "      <td>NaN</td>\n",
       "      <td>NaN</td>\n",
       "      <td>foo</td>\n",
       "      <td>0.972334</td>\n",
       "      <td>0.514092</td>\n",
       "    </tr>\n",
       "    <tr>\n",
       "      <th>15</th>\n",
       "      <td>three</td>\n",
       "      <td>NaN</td>\n",
       "      <td>NaN</td>\n",
       "      <td>NaN</td>\n",
       "      <td>foo</td>\n",
       "      <td>-0.052537</td>\n",
       "      <td>-0.229181</td>\n",
       "    </tr>\n",
       "  </tbody>\n",
       "</table>\n",
       "</div>"
      ],
      "text/plain": [
       "        A      B         C         D    Z         X         W\n",
       "0     foo    one -1.171776 -0.245078  NaN       NaN       NaN\n",
       "1     bar    one  0.580768  0.834535  NaN       NaN       NaN\n",
       "2     foo    two -1.251128 -0.588756  NaN       NaN       NaN\n",
       "3     bar  three -0.756040  0.349901  NaN       NaN       NaN\n",
       "4     foo    two -0.417117 -0.674177  NaN       NaN       NaN\n",
       "5     bar    two  0.662687  1.142651  NaN       NaN       NaN\n",
       "6     foo    one -0.466778  0.218546  NaN       NaN       NaN\n",
       "7     foo  three  0.960657  0.112766  NaN       NaN       NaN\n",
       "8     one    NaN       NaN       NaN  foo -0.092228  0.635147\n",
       "9     one    NaN       NaN       NaN  bar  1.848593 -0.275971\n",
       "10    two    NaN       NaN       NaN  foo  0.692652 -0.887629\n",
       "11  three    NaN       NaN       NaN  bar  0.035987 -0.930013\n",
       "12    two    NaN       NaN       NaN  foo -0.506135 -1.051784\n",
       "13    two    NaN       NaN       NaN  bar -1.488256  0.010820\n",
       "14    one    NaN       NaN       NaN  foo  0.972334  0.514092\n",
       "15  three    NaN       NaN       NaN  foo -0.052537 -0.229181"
      ]
     },
     "execution_count": 5,
     "metadata": {},
     "output_type": "execute_result"
    }
   ],
   "source": [
    "# so here it concatenates both dataframes into one, and the columns are not in A, stack horizontally as a new columns\n",
    "#understand pd.concat -> https://www.youtube.com/live/Ssy1EfK5S-o?si=SvBENrR8nhoB7_mq&t=777\n",
    "pd.concat([toydata1, toydata2],ignore_index=True) \n",
    "# axis=1 for stacking horizontally (column-wise) -> https://www.youtube.com/live/Ssy1EfK5S-o?si=lcSNHS-EXiZwLhOP&t=1627"
   ]
  },
  {
   "cell_type": "code",
   "execution_count": 6,
   "id": "c078346c",
   "metadata": {},
   "outputs": [
    {
     "data": {
      "application/vnd.microsoft.datawrangler.viewer.v0+json": {
       "columns": [
        {
         "name": "(None, None)",
         "rawType": "object",
         "type": "unknown"
        },
        {
         "name": "A",
         "rawType": "object",
         "type": "string"
        },
        {
         "name": "B",
         "rawType": "object",
         "type": "unknown"
        },
        {
         "name": "C",
         "rawType": "float64",
         "type": "float"
        },
        {
         "name": "D",
         "rawType": "float64",
         "type": "float"
        },
        {
         "name": "Z",
         "rawType": "object",
         "type": "unknown"
        },
        {
         "name": "X",
         "rawType": "float64",
         "type": "float"
        },
        {
         "name": "W",
         "rawType": "float64",
         "type": "float"
        }
       ],
       "conversionMethod": "pd.DataFrame",
       "ref": "62604a57-49f8-4e40-8b74-29afeebbba6b",
       "rows": [
        [
         "('toydata1', 0)",
         "foo",
         "one",
         "-1.1717761042137749",
         "-0.24507763281115547",
         null,
         null,
         null
        ],
        [
         "('toydata1', 1)",
         "bar",
         "one",
         "0.5807679848063713",
         "0.8345345405870372",
         null,
         null,
         null
        ],
        [
         "('toydata1', 2)",
         "foo",
         "two",
         "-1.251127851648389",
         "-0.588755990655136",
         null,
         null,
         null
        ],
        [
         "('toydata1', 3)",
         "bar",
         "three",
         "-0.756040232008105",
         "0.34990139007801996",
         null,
         null,
         null
        ],
        [
         "('toydata1', 4)",
         "foo",
         "two",
         "-0.41711666433489886",
         "-0.6741771740929886",
         null,
         null,
         null
        ],
        [
         "('toydata1', 5)",
         "bar",
         "two",
         "0.6626874791728873",
         "1.1426510266109065",
         null,
         null,
         null
        ],
        [
         "('toydata1', 6)",
         "foo",
         "one",
         "-0.4667778335254747",
         "0.21854606750964045",
         null,
         null,
         null
        ],
        [
         "('toydata1', 7)",
         "foo",
         "three",
         "0.9606572703554833",
         "0.11276625836941608",
         null,
         null,
         null
        ],
        [
         "('toydata2', 0)",
         "one",
         null,
         null,
         null,
         "foo",
         "-0.0922281986933221",
         "0.6351465279330394"
        ],
        [
         "('toydata2', 1)",
         "one",
         null,
         null,
         null,
         "bar",
         "1.8485933765306561",
         "-0.27597141491618016"
        ],
        [
         "('toydata2', 2)",
         "two",
         null,
         null,
         null,
         "foo",
         "0.6926515683701546",
         "-0.8876290288081012"
        ],
        [
         "('toydata2', 3)",
         "three",
         null,
         null,
         null,
         "bar",
         "0.03598712618269778",
         "-0.930013088349406"
        ],
        [
         "('toydata2', 4)",
         "two",
         null,
         null,
         null,
         "foo",
         "-0.5061348996744973",
         "-1.0517842216379794"
        ],
        [
         "('toydata2', 5)",
         "two",
         null,
         null,
         null,
         "bar",
         "-1.4882561155204328",
         "0.010820031487608281"
        ],
        [
         "('toydata2', 6)",
         "one",
         null,
         null,
         null,
         "foo",
         "0.9723339186182569",
         "0.5140922774717154"
        ],
        [
         "('toydata2', 7)",
         "three",
         null,
         null,
         null,
         "foo",
         "-0.0525368031809057",
         "-0.2291807414660279"
        ]
       ],
       "shape": {
        "columns": 7,
        "rows": 16
       }
      },
      "text/html": [
       "<div>\n",
       "<style scoped>\n",
       "    .dataframe tbody tr th:only-of-type {\n",
       "        vertical-align: middle;\n",
       "    }\n",
       "\n",
       "    .dataframe tbody tr th {\n",
       "        vertical-align: top;\n",
       "    }\n",
       "\n",
       "    .dataframe thead th {\n",
       "        text-align: right;\n",
       "    }\n",
       "</style>\n",
       "<table border=\"1\" class=\"dataframe\">\n",
       "  <thead>\n",
       "    <tr style=\"text-align: right;\">\n",
       "      <th></th>\n",
       "      <th></th>\n",
       "      <th>A</th>\n",
       "      <th>B</th>\n",
       "      <th>C</th>\n",
       "      <th>D</th>\n",
       "      <th>Z</th>\n",
       "      <th>X</th>\n",
       "      <th>W</th>\n",
       "    </tr>\n",
       "  </thead>\n",
       "  <tbody>\n",
       "    <tr>\n",
       "      <th rowspan=\"8\" valign=\"top\">toydata1</th>\n",
       "      <th>0</th>\n",
       "      <td>foo</td>\n",
       "      <td>one</td>\n",
       "      <td>-1.171776</td>\n",
       "      <td>-0.245078</td>\n",
       "      <td>NaN</td>\n",
       "      <td>NaN</td>\n",
       "      <td>NaN</td>\n",
       "    </tr>\n",
       "    <tr>\n",
       "      <th>1</th>\n",
       "      <td>bar</td>\n",
       "      <td>one</td>\n",
       "      <td>0.580768</td>\n",
       "      <td>0.834535</td>\n",
       "      <td>NaN</td>\n",
       "      <td>NaN</td>\n",
       "      <td>NaN</td>\n",
       "    </tr>\n",
       "    <tr>\n",
       "      <th>2</th>\n",
       "      <td>foo</td>\n",
       "      <td>two</td>\n",
       "      <td>-1.251128</td>\n",
       "      <td>-0.588756</td>\n",
       "      <td>NaN</td>\n",
       "      <td>NaN</td>\n",
       "      <td>NaN</td>\n",
       "    </tr>\n",
       "    <tr>\n",
       "      <th>3</th>\n",
       "      <td>bar</td>\n",
       "      <td>three</td>\n",
       "      <td>-0.756040</td>\n",
       "      <td>0.349901</td>\n",
       "      <td>NaN</td>\n",
       "      <td>NaN</td>\n",
       "      <td>NaN</td>\n",
       "    </tr>\n",
       "    <tr>\n",
       "      <th>4</th>\n",
       "      <td>foo</td>\n",
       "      <td>two</td>\n",
       "      <td>-0.417117</td>\n",
       "      <td>-0.674177</td>\n",
       "      <td>NaN</td>\n",
       "      <td>NaN</td>\n",
       "      <td>NaN</td>\n",
       "    </tr>\n",
       "    <tr>\n",
       "      <th>5</th>\n",
       "      <td>bar</td>\n",
       "      <td>two</td>\n",
       "      <td>0.662687</td>\n",
       "      <td>1.142651</td>\n",
       "      <td>NaN</td>\n",
       "      <td>NaN</td>\n",
       "      <td>NaN</td>\n",
       "    </tr>\n",
       "    <tr>\n",
       "      <th>6</th>\n",
       "      <td>foo</td>\n",
       "      <td>one</td>\n",
       "      <td>-0.466778</td>\n",
       "      <td>0.218546</td>\n",
       "      <td>NaN</td>\n",
       "      <td>NaN</td>\n",
       "      <td>NaN</td>\n",
       "    </tr>\n",
       "    <tr>\n",
       "      <th>7</th>\n",
       "      <td>foo</td>\n",
       "      <td>three</td>\n",
       "      <td>0.960657</td>\n",
       "      <td>0.112766</td>\n",
       "      <td>NaN</td>\n",
       "      <td>NaN</td>\n",
       "      <td>NaN</td>\n",
       "    </tr>\n",
       "    <tr>\n",
       "      <th rowspan=\"8\" valign=\"top\">toydata2</th>\n",
       "      <th>0</th>\n",
       "      <td>one</td>\n",
       "      <td>NaN</td>\n",
       "      <td>NaN</td>\n",
       "      <td>NaN</td>\n",
       "      <td>foo</td>\n",
       "      <td>-0.092228</td>\n",
       "      <td>0.635147</td>\n",
       "    </tr>\n",
       "    <tr>\n",
       "      <th>1</th>\n",
       "      <td>one</td>\n",
       "      <td>NaN</td>\n",
       "      <td>NaN</td>\n",
       "      <td>NaN</td>\n",
       "      <td>bar</td>\n",
       "      <td>1.848593</td>\n",
       "      <td>-0.275971</td>\n",
       "    </tr>\n",
       "    <tr>\n",
       "      <th>2</th>\n",
       "      <td>two</td>\n",
       "      <td>NaN</td>\n",
       "      <td>NaN</td>\n",
       "      <td>NaN</td>\n",
       "      <td>foo</td>\n",
       "      <td>0.692652</td>\n",
       "      <td>-0.887629</td>\n",
       "    </tr>\n",
       "    <tr>\n",
       "      <th>3</th>\n",
       "      <td>three</td>\n",
       "      <td>NaN</td>\n",
       "      <td>NaN</td>\n",
       "      <td>NaN</td>\n",
       "      <td>bar</td>\n",
       "      <td>0.035987</td>\n",
       "      <td>-0.930013</td>\n",
       "    </tr>\n",
       "    <tr>\n",
       "      <th>4</th>\n",
       "      <td>two</td>\n",
       "      <td>NaN</td>\n",
       "      <td>NaN</td>\n",
       "      <td>NaN</td>\n",
       "      <td>foo</td>\n",
       "      <td>-0.506135</td>\n",
       "      <td>-1.051784</td>\n",
       "    </tr>\n",
       "    <tr>\n",
       "      <th>5</th>\n",
       "      <td>two</td>\n",
       "      <td>NaN</td>\n",
       "      <td>NaN</td>\n",
       "      <td>NaN</td>\n",
       "      <td>bar</td>\n",
       "      <td>-1.488256</td>\n",
       "      <td>0.010820</td>\n",
       "    </tr>\n",
       "    <tr>\n",
       "      <th>6</th>\n",
       "      <td>one</td>\n",
       "      <td>NaN</td>\n",
       "      <td>NaN</td>\n",
       "      <td>NaN</td>\n",
       "      <td>foo</td>\n",
       "      <td>0.972334</td>\n",
       "      <td>0.514092</td>\n",
       "    </tr>\n",
       "    <tr>\n",
       "      <th>7</th>\n",
       "      <td>three</td>\n",
       "      <td>NaN</td>\n",
       "      <td>NaN</td>\n",
       "      <td>NaN</td>\n",
       "      <td>foo</td>\n",
       "      <td>-0.052537</td>\n",
       "      <td>-0.229181</td>\n",
       "    </tr>\n",
       "  </tbody>\n",
       "</table>\n",
       "</div>"
      ],
      "text/plain": [
       "                A      B         C         D    Z         X         W\n",
       "toydata1 0    foo    one -1.171776 -0.245078  NaN       NaN       NaN\n",
       "         1    bar    one  0.580768  0.834535  NaN       NaN       NaN\n",
       "         2    foo    two -1.251128 -0.588756  NaN       NaN       NaN\n",
       "         3    bar  three -0.756040  0.349901  NaN       NaN       NaN\n",
       "         4    foo    two -0.417117 -0.674177  NaN       NaN       NaN\n",
       "         5    bar    two  0.662687  1.142651  NaN       NaN       NaN\n",
       "         6    foo    one -0.466778  0.218546  NaN       NaN       NaN\n",
       "         7    foo  three  0.960657  0.112766  NaN       NaN       NaN\n",
       "toydata2 0    one    NaN       NaN       NaN  foo -0.092228  0.635147\n",
       "         1    one    NaN       NaN       NaN  bar  1.848593 -0.275971\n",
       "         2    two    NaN       NaN       NaN  foo  0.692652 -0.887629\n",
       "         3  three    NaN       NaN       NaN  bar  0.035987 -0.930013\n",
       "         4    two    NaN       NaN       NaN  foo -0.506135 -1.051784\n",
       "         5    two    NaN       NaN       NaN  bar -1.488256  0.010820\n",
       "         6    one    NaN       NaN       NaN  foo  0.972334  0.514092\n",
       "         7  three    NaN       NaN       NaN  foo -0.052537 -0.229181"
      ]
     },
     "execution_count": 6,
     "metadata": {},
     "output_type": "execute_result"
    }
   ],
   "source": [
    "# keep original index but ignore_index(understand `multiIndex DataFrame`) -> https://www.youtube.com/live/Ssy1EfK5S-o?si=IhABX3jwrG1CDM7E&t=1227 \n",
    "pd.concat([toydata1, toydata2],keys=['toydata1','toydata2']) \n",
    " "
   ]
  },
  {
   "cell_type": "code",
   "execution_count": 7,
   "id": "00764240",
   "metadata": {},
   "outputs": [
    {
     "data": {
      "application/vnd.microsoft.datawrangler.viewer.v0+json": {
       "columns": [
        {
         "name": "index",
         "rawType": "int64",
         "type": "integer"
        },
        {
         "name": "A",
         "rawType": "object",
         "type": "string"
        },
        {
         "name": "B",
         "rawType": "object",
         "type": "string"
        },
        {
         "name": "C",
         "rawType": "float64",
         "type": "float"
        },
        {
         "name": "D",
         "rawType": "float64",
         "type": "float"
        },
        {
         "name": "Z",
         "rawType": "object",
         "type": "unknown"
        },
        {
         "name": "X",
         "rawType": "float64",
         "type": "float"
        },
        {
         "name": "W",
         "rawType": "float64",
         "type": "float"
        }
       ],
       "conversionMethod": "pd.DataFrame",
       "ref": "65620396-f1ec-4502-809a-6fcee938eb17",
       "rows": [
        [
         "0",
         "foo",
         "one",
         "-1.1717761042137749",
         "-0.24507763281115547",
         null,
         null,
         null
        ],
        [
         "1",
         "bar",
         "one",
         "0.5807679848063713",
         "0.8345345405870372",
         null,
         null,
         null
        ],
        [
         "2",
         "foo",
         "two",
         "-1.251127851648389",
         "-0.588755990655136",
         null,
         null,
         null
        ],
        [
         "3",
         "bar",
         "three",
         "-0.756040232008105",
         "0.34990139007801996",
         null,
         null,
         null
        ],
        [
         "4",
         "foo",
         "two",
         "-0.41711666433489886",
         "-0.6741771740929886",
         null,
         null,
         null
        ],
        [
         "5",
         "bar",
         "two",
         "0.6626874791728873",
         "1.1426510266109065",
         null,
         null,
         null
        ],
        [
         "6",
         "foo",
         "one",
         "-0.4667778335254747",
         "0.21854606750964045",
         null,
         null,
         null
        ],
        [
         "7",
         "foo",
         "three",
         "0.9606572703554833",
         "0.11276625836941608",
         null,
         null,
         null
        ]
       ],
       "shape": {
        "columns": 7,
        "rows": 8
       }
      },
      "text/html": [
       "<div>\n",
       "<style scoped>\n",
       "    .dataframe tbody tr th:only-of-type {\n",
       "        vertical-align: middle;\n",
       "    }\n",
       "\n",
       "    .dataframe tbody tr th {\n",
       "        vertical-align: top;\n",
       "    }\n",
       "\n",
       "    .dataframe thead th {\n",
       "        text-align: right;\n",
       "    }\n",
       "</style>\n",
       "<table border=\"1\" class=\"dataframe\">\n",
       "  <thead>\n",
       "    <tr style=\"text-align: right;\">\n",
       "      <th></th>\n",
       "      <th>A</th>\n",
       "      <th>B</th>\n",
       "      <th>C</th>\n",
       "      <th>D</th>\n",
       "      <th>Z</th>\n",
       "      <th>X</th>\n",
       "      <th>W</th>\n",
       "    </tr>\n",
       "  </thead>\n",
       "  <tbody>\n",
       "    <tr>\n",
       "      <th>0</th>\n",
       "      <td>foo</td>\n",
       "      <td>one</td>\n",
       "      <td>-1.171776</td>\n",
       "      <td>-0.245078</td>\n",
       "      <td>NaN</td>\n",
       "      <td>NaN</td>\n",
       "      <td>NaN</td>\n",
       "    </tr>\n",
       "    <tr>\n",
       "      <th>1</th>\n",
       "      <td>bar</td>\n",
       "      <td>one</td>\n",
       "      <td>0.580768</td>\n",
       "      <td>0.834535</td>\n",
       "      <td>NaN</td>\n",
       "      <td>NaN</td>\n",
       "      <td>NaN</td>\n",
       "    </tr>\n",
       "    <tr>\n",
       "      <th>2</th>\n",
       "      <td>foo</td>\n",
       "      <td>two</td>\n",
       "      <td>-1.251128</td>\n",
       "      <td>-0.588756</td>\n",
       "      <td>NaN</td>\n",
       "      <td>NaN</td>\n",
       "      <td>NaN</td>\n",
       "    </tr>\n",
       "    <tr>\n",
       "      <th>3</th>\n",
       "      <td>bar</td>\n",
       "      <td>three</td>\n",
       "      <td>-0.756040</td>\n",
       "      <td>0.349901</td>\n",
       "      <td>NaN</td>\n",
       "      <td>NaN</td>\n",
       "      <td>NaN</td>\n",
       "    </tr>\n",
       "    <tr>\n",
       "      <th>4</th>\n",
       "      <td>foo</td>\n",
       "      <td>two</td>\n",
       "      <td>-0.417117</td>\n",
       "      <td>-0.674177</td>\n",
       "      <td>NaN</td>\n",
       "      <td>NaN</td>\n",
       "      <td>NaN</td>\n",
       "    </tr>\n",
       "    <tr>\n",
       "      <th>5</th>\n",
       "      <td>bar</td>\n",
       "      <td>two</td>\n",
       "      <td>0.662687</td>\n",
       "      <td>1.142651</td>\n",
       "      <td>NaN</td>\n",
       "      <td>NaN</td>\n",
       "      <td>NaN</td>\n",
       "    </tr>\n",
       "    <tr>\n",
       "      <th>6</th>\n",
       "      <td>foo</td>\n",
       "      <td>one</td>\n",
       "      <td>-0.466778</td>\n",
       "      <td>0.218546</td>\n",
       "      <td>NaN</td>\n",
       "      <td>NaN</td>\n",
       "      <td>NaN</td>\n",
       "    </tr>\n",
       "    <tr>\n",
       "      <th>7</th>\n",
       "      <td>foo</td>\n",
       "      <td>three</td>\n",
       "      <td>0.960657</td>\n",
       "      <td>0.112766</td>\n",
       "      <td>NaN</td>\n",
       "      <td>NaN</td>\n",
       "      <td>NaN</td>\n",
       "    </tr>\n",
       "  </tbody>\n",
       "</table>\n",
       "</div>"
      ],
      "text/plain": [
       "     A      B         C         D    Z   X   W\n",
       "0  foo    one -1.171776 -0.245078  NaN NaN NaN\n",
       "1  bar    one  0.580768  0.834535  NaN NaN NaN\n",
       "2  foo    two -1.251128 -0.588756  NaN NaN NaN\n",
       "3  bar  three -0.756040  0.349901  NaN NaN NaN\n",
       "4  foo    two -0.417117 -0.674177  NaN NaN NaN\n",
       "5  bar    two  0.662687  1.142651  NaN NaN NaN\n",
       "6  foo    one -0.466778  0.218546  NaN NaN NaN\n",
       "7  foo  three  0.960657  0.112766  NaN NaN NaN"
      ]
     },
     "execution_count": 7,
     "metadata": {},
     "output_type": "execute_result"
    }
   ],
   "source": [
    "# multindex df indexing -> https://www.youtube.com/live/Ssy1EfK5S-o?si=rf1BY9gX-0n9iUVO&t=1397\n",
    "\n",
    "pd.concat([toydata1, toydata2],keys=['toydata1','toydata2']).loc['toydata1']\n"
   ]
  },
  {
   "cell_type": "code",
   "execution_count": 8,
   "id": "d7b242bb",
   "metadata": {},
   "outputs": [],
   "source": [
    "# pd.merge (inner/outer/left/right join) -> https://www.youtube.com/live/Ssy1EfK5S-o?si=xgr-ZrHeTzmPVmcw&t=1847\n",
    "toydata4 = pd.DataFrame({\n",
    "    'key': ['foo1', 'foo2', 'bar'],\n",
    "    'lval': [1, 2, 3]\n",
    "})\n",
    "\n",
    "toydata5 = pd.DataFrame({\n",
    "    'key': ['foo1', 'bar', 'foo2','outlier'],\n",
    "    'rval': [7,4, 5, 6]\n",
    "})\n"
   ]
  },
  {
   "cell_type": "code",
   "execution_count": 9,
   "id": "1f0fe8d6",
   "metadata": {},
   "outputs": [
    {
     "data": {
      "application/vnd.microsoft.datawrangler.viewer.v0+json": {
       "columns": [
        {
         "name": "index",
         "rawType": "int64",
         "type": "integer"
        },
        {
         "name": "key",
         "rawType": "object",
         "type": "string"
        },
        {
         "name": "lval",
         "rawType": "int64",
         "type": "integer"
        },
        {
         "name": "rval",
         "rawType": "int64",
         "type": "integer"
        }
       ],
       "conversionMethod": "pd.DataFrame",
       "ref": "318f23fa-e26b-41f5-810e-09d69301c914",
       "rows": [
        [
         "0",
         "foo1",
         "1",
         "7"
        ],
        [
         "1",
         "foo2",
         "2",
         "5"
        ],
        [
         "2",
         "bar",
         "3",
         "4"
        ]
       ],
       "shape": {
        "columns": 3,
        "rows": 3
       }
      },
      "text/html": [
       "<div>\n",
       "<style scoped>\n",
       "    .dataframe tbody tr th:only-of-type {\n",
       "        vertical-align: middle;\n",
       "    }\n",
       "\n",
       "    .dataframe tbody tr th {\n",
       "        vertical-align: top;\n",
       "    }\n",
       "\n",
       "    .dataframe thead th {\n",
       "        text-align: right;\n",
       "    }\n",
       "</style>\n",
       "<table border=\"1\" class=\"dataframe\">\n",
       "  <thead>\n",
       "    <tr style=\"text-align: right;\">\n",
       "      <th></th>\n",
       "      <th>key</th>\n",
       "      <th>lval</th>\n",
       "      <th>rval</th>\n",
       "    </tr>\n",
       "  </thead>\n",
       "  <tbody>\n",
       "    <tr>\n",
       "      <th>0</th>\n",
       "      <td>foo1</td>\n",
       "      <td>1</td>\n",
       "      <td>7</td>\n",
       "    </tr>\n",
       "    <tr>\n",
       "      <th>1</th>\n",
       "      <td>foo2</td>\n",
       "      <td>2</td>\n",
       "      <td>5</td>\n",
       "    </tr>\n",
       "    <tr>\n",
       "      <th>2</th>\n",
       "      <td>bar</td>\n",
       "      <td>3</td>\n",
       "      <td>4</td>\n",
       "    </tr>\n",
       "  </tbody>\n",
       "</table>\n",
       "</div>"
      ],
      "text/plain": [
       "    key  lval  rval\n",
       "0  foo1     1     7\n",
       "1  foo2     2     5\n",
       "2   bar     3     4"
      ]
     },
     "execution_count": 9,
     "metadata": {},
     "output_type": "execute_result"
    }
   ],
   "source": [
    "# inner join/join -> https://www.youtube.com/live/Ssy1EfK5S-o?si=b0DxCV3P5BURhWAe&t=1987\n",
    "# Make good toydataset for understanding pd.merge \n",
    "toydata4.merge(toydata5, on='key', how='inner') # default is inner join\n",
    "# so we get only those values in new df, that are present in both dataframes(key column), and the rest are dropped\n"
   ]
  },
  {
   "cell_type": "code",
   "execution_count": 14,
   "id": "b93a5849",
   "metadata": {},
   "outputs": [
    {
     "data": {
      "application/vnd.microsoft.datawrangler.viewer.v0+json": {
       "columns": [
        {
         "name": "index",
         "rawType": "int64",
         "type": "integer"
        },
        {
         "name": "key",
         "rawType": "object",
         "type": "string"
        },
        {
         "name": "lval_x",
         "rawType": "int64",
         "type": "integer"
        },
        {
         "name": "lval_y",
         "rawType": "int64",
         "type": "integer"
        }
       ],
       "conversionMethod": "pd.DataFrame",
       "ref": "ff3215c1-cea6-4b72-92c8-e31daf6a6ac7",
       "rows": [
        [
         "0",
         "foo1",
         "1",
         "1"
        ],
        [
         "1",
         "foo2",
         "2",
         "2"
        ],
        [
         "2",
         "bar",
         "3",
         "3"
        ]
       ],
       "shape": {
        "columns": 3,
        "rows": 3
       }
      },
      "text/html": [
       "<div>\n",
       "<style scoped>\n",
       "    .dataframe tbody tr th:only-of-type {\n",
       "        vertical-align: middle;\n",
       "    }\n",
       "\n",
       "    .dataframe tbody tr th {\n",
       "        vertical-align: top;\n",
       "    }\n",
       "\n",
       "    .dataframe thead th {\n",
       "        text-align: right;\n",
       "    }\n",
       "</style>\n",
       "<table border=\"1\" class=\"dataframe\">\n",
       "  <thead>\n",
       "    <tr style=\"text-align: right;\">\n",
       "      <th></th>\n",
       "      <th>key</th>\n",
       "      <th>lval_x</th>\n",
       "      <th>lval_y</th>\n",
       "    </tr>\n",
       "  </thead>\n",
       "  <tbody>\n",
       "    <tr>\n",
       "      <th>0</th>\n",
       "      <td>foo1</td>\n",
       "      <td>1</td>\n",
       "      <td>1</td>\n",
       "    </tr>\n",
       "    <tr>\n",
       "      <th>1</th>\n",
       "      <td>foo2</td>\n",
       "      <td>2</td>\n",
       "      <td>2</td>\n",
       "    </tr>\n",
       "    <tr>\n",
       "      <th>2</th>\n",
       "      <td>bar</td>\n",
       "      <td>3</td>\n",
       "      <td>3</td>\n",
       "    </tr>\n",
       "  </tbody>\n",
       "</table>\n",
       "</div>"
      ],
      "text/plain": [
       "    key  lval_x  lval_y\n",
       "0  foo1       1       1\n",
       "1  foo2       2       2\n",
       "2   bar       3       3"
      ]
     },
     "execution_count": 14,
     "metadata": {},
     "output_type": "execute_result"
    }
   ],
   "source": [
    "# left join -> https://www.youtube.com/live/Ssy1EfK5S-o?si=NGoZSUpGgjZBe7CF&t=2797\n",
    "toydata4.merge(toydata4, on='key', how='left') # left join"
   ]
  },
  {
   "cell_type": "code",
   "execution_count": 15,
   "id": "a42ec9fb",
   "metadata": {},
   "outputs": [
    {
     "data": {
      "application/vnd.microsoft.datawrangler.viewer.v0+json": {
       "columns": [
        {
         "name": "index",
         "rawType": "int64",
         "type": "integer"
        },
        {
         "name": "key",
         "rawType": "object",
         "type": "string"
        },
        {
         "name": "lval",
         "rawType": "float64",
         "type": "float"
        },
        {
         "name": "rval",
         "rawType": "int64",
         "type": "integer"
        }
       ],
       "conversionMethod": "pd.DataFrame",
       "ref": "1cdb45d6-3bb4-4a47-bf7e-bc1fa2bad1e5",
       "rows": [
        [
         "0",
         "foo1",
         "1.0",
         "7"
        ],
        [
         "1",
         "bar",
         "3.0",
         "4"
        ],
        [
         "2",
         "foo2",
         "2.0",
         "5"
        ],
        [
         "3",
         "outlier",
         null,
         "6"
        ]
       ],
       "shape": {
        "columns": 3,
        "rows": 4
       }
      },
      "text/html": [
       "<div>\n",
       "<style scoped>\n",
       "    .dataframe tbody tr th:only-of-type {\n",
       "        vertical-align: middle;\n",
       "    }\n",
       "\n",
       "    .dataframe tbody tr th {\n",
       "        vertical-align: top;\n",
       "    }\n",
       "\n",
       "    .dataframe thead th {\n",
       "        text-align: right;\n",
       "    }\n",
       "</style>\n",
       "<table border=\"1\" class=\"dataframe\">\n",
       "  <thead>\n",
       "    <tr style=\"text-align: right;\">\n",
       "      <th></th>\n",
       "      <th>key</th>\n",
       "      <th>lval</th>\n",
       "      <th>rval</th>\n",
       "    </tr>\n",
       "  </thead>\n",
       "  <tbody>\n",
       "    <tr>\n",
       "      <th>0</th>\n",
       "      <td>foo1</td>\n",
       "      <td>1.0</td>\n",
       "      <td>7</td>\n",
       "    </tr>\n",
       "    <tr>\n",
       "      <th>1</th>\n",
       "      <td>bar</td>\n",
       "      <td>3.0</td>\n",
       "      <td>4</td>\n",
       "    </tr>\n",
       "    <tr>\n",
       "      <th>2</th>\n",
       "      <td>foo2</td>\n",
       "      <td>2.0</td>\n",
       "      <td>5</td>\n",
       "    </tr>\n",
       "    <tr>\n",
       "      <th>3</th>\n",
       "      <td>outlier</td>\n",
       "      <td>NaN</td>\n",
       "      <td>6</td>\n",
       "    </tr>\n",
       "  </tbody>\n",
       "</table>\n",
       "</div>"
      ],
      "text/plain": [
       "       key  lval  rval\n",
       "0     foo1   1.0     7\n",
       "1      bar   3.0     4\n",
       "2     foo2   2.0     5\n",
       "3  outlier   NaN     6"
      ]
     },
     "execution_count": 15,
     "metadata": {},
     "output_type": "execute_result"
    }
   ],
   "source": [
    "# right join -> \n",
    "toydata4.merge(toydata5, on='key', how='right') # right join"
   ]
  }
 ],
 "metadata": {
  "kernelspec": {
   "display_name": "Python 3",
   "language": "python",
   "name": "python3"
  },
  "language_info": {
   "codemirror_mode": {
    "name": "ipython",
    "version": 3
   },
   "file_extension": ".py",
   "mimetype": "text/x-python",
   "name": "python",
   "nbconvert_exporter": "python",
   "pygments_lexer": "ipython3",
   "version": "3.13.2"
  }
 },
 "nbformat": 4,
 "nbformat_minor": 5
}
