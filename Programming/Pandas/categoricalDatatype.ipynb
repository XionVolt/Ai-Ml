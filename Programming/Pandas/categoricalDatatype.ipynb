{
 "cells": [
  {
   "cell_type": "markdown",
   "id": "4105d9a7",
   "metadata": {},
   "source": [
    "# Categorical DataType\n",
    "\n",
    "## Description: A categorical variable is a type of variable that has a limited number of distinct categories or levels(that we use for classification).\n",
    "\n",
    "Categoricals are a pandas data type corresponding to categorical variables in statistics. A categorical variable takes on a limited, and usually fixed, number of possible values (categories; levels in R). Examples are gender, social class, blood type, country affiliation, observation time or rating via Likert scales.\n",
    "\n",
    "In contrast to statistical categorical variables, categorical data might have an order (e.g. ‘strongly agree’ vs ‘agree’ or ‘first observation’ vs. ‘second observation’), but numerical operations (additions, divisions, …) are not possible.\n",
    "\n",
    "## Importance:\n",
    "The categorical data type is useful in the following cases:\n",
    "\n",
    "- A string variable consisting of only a few different values. Converting such a string variable to a categorical variable will save some memory, see [here](https://pandas.pydata.org/docs/user_guide/categorical.html#categorical-memory).\n",
    "\n",
    "- The lexical order of a variable is not the same as the logical order (“one”, “two”, “three”). By converting to a categorical and specifying an order on the categories, sorting and min/max will use the logical order instead of the lexical order, [see here about Sorting and order](https://pandas.pydata.org/docs/user_guide/categorical.html#categorical-sort).\n",
    "\n",
    "- As a signal to other Python libraries that this column should be treated as a categorical variable (e.g. to use suitable statistical methods or plot types).\n"
   ]
  },
  {
   "cell_type": "code",
   "execution_count": 65,
   "id": "12c2f776",
   "metadata": {},
   "outputs": [
    {
     "name": "stdout",
     "output_type": "stream",
     "text": [
      "foo    10\n",
      "bar     5\n",
      "coo     5\n",
      "x00     5\n",
      "Name: count, dtype: int64\n",
      "332\n"
     ]
    },
    {
     "data": {
      "text/plain": [
       "0     bar\n",
       "1     foo\n",
       "2     coo\n",
       "3     foo\n",
       "4     x00\n",
       "5     bar\n",
       "6     foo\n",
       "7     coo\n",
       "8     foo\n",
       "9     x00\n",
       "10    bar\n",
       "11    foo\n",
       "12    coo\n",
       "13    foo\n",
       "14    x00\n",
       "15    bar\n",
       "16    foo\n",
       "17    coo\n",
       "18    foo\n",
       "19    x00\n",
       "20    bar\n",
       "21    foo\n",
       "22    coo\n",
       "23    foo\n",
       "24    x00\n",
       "dtype: category\n",
       "Categories (4, object): ['bar', 'coo', 'foo', 'x00']"
      ]
     },
     "execution_count": 65,
     "metadata": {},
     "output_type": "execute_result"
    },
    {
     "data": {
      "image/png": "[encoded data removed]",
      "text/plain": [
       "<Figure size 640x480 with 1 Axes>"
      ]
     },
     "metadata": {},
     "output_type": "display_data"
    }
   ],
   "source": [
    "import pandas as pd\n",
    "s = pd.Series([\"bar\",\"foo\",'coo','foo','x00'] * 5)\n",
    "print(s.value_counts())\n",
    "print(s.memory_usage())\n",
    "categorical_s = s.astype(\"category\")\n",
    "categorical_s.value_counts().plot(kind='pie')\n",
    "categorical_s # so it divide all values into 4 distinct categories."
   ]
  },
  {
   "cell_type": "code",
   "execution_count": null,
   "id": "0e02b437",
   "metadata": {},
   "outputs": [
    {
     "name": "stdout",
     "output_type": "stream",
     "text": [
      "bar x00 \n",
      "0    foo\n",
      "dtype: category\n",
      "Categories (4, object): ['bar' < 'coo' < 'foo' < 'x00']\n",
      "0     bar\n",
      "1     foo\n",
      "2     coo\n",
      "3     foo\n",
      "4     x00\n",
      "5     bar\n",
      "6     foo\n",
      "7     coo\n",
      "8     foo\n",
      "9     x00\n",
      "10    bar\n",
      "11    foo\n",
      "12    coo\n",
      "13    foo\n",
      "14    x00\n",
      "15    bar\n",
      "16    foo\n",
      "17    coo\n",
      "18    foo\n",
      "19    x00\n",
      "20    bar\n",
      "21    foo\n",
      "22    coo\n",
      "23    foo\n",
      "24    x00\n",
      "dtype: category\n",
      "Categories (4, object): ['bar' < 'coo' < 'foo' < 'x00']\n"
     ]
    }
   ],
   "source": [
    "# after making the series categorical to categorical_ordered, we can use.min(),max(),mode() on categorical datatype series(column) too\n",
    "structured_cat_s = categorical_s.cat.as_ordered()\n",
    "print(structured_cat_s.min(), structured_cat_s.max(),f'\\n{structured_cat_s.mode()}')\n",
    "print(structured_cat_s)"
   ]
  },
  {
   "cell_type": "code",
   "execution_count": null,
   "id": "0959de67",
   "metadata": {},
   "outputs": [
    {
     "data": {
      "text/plain": [
       "'apple'"
      ]
     },
     "execution_count": 69,
     "metadata": {},
     "output_type": "execute_result"
    }
   ],
   "source": [
    "# categorical_s.cat.as_unordered().max() # gives error:\n",
    "\"\"\"Categorical is not ordered for operation max\n",
    "you can use .as_ordered() to change the Categorical to an ordered one \"\"\""
   ]
  }
 ],
 "metadata": {
  "kernelspec": {
   "display_name": "Python 3",
   "language": "python",
   "name": "python3"
  },
  "language_info": {
   "codemirror_mode": {
    "name": "ipython",
    "version": 3
   },
   "file_extension": ".py",
   "mimetype": "text/x-python",
   "name": "python",
   "nbconvert_exporter": "python",
   "pygments_lexer": "ipython3",
   "version": "3.13.2"
  }
 },
 "nbformat": 4,
 "nbformat_minor": 5
}
