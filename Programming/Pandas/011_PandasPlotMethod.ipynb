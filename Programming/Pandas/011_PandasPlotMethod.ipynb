{
 "cells": [
  {
   "cell_type": "markdown",
   "id": "b6d9d4b1",
   "metadata": {},
   "source": [
    "# [Understand Pandas Plot function](https://www.youtube.com/live/7YDc5xU9CQQ?si=yTVfIWyv32PQu5x3&t=6017)\n"
   ]
  },
  {
   "cell_type": "code",
   "execution_count": 5,
   "id": "ff40eb8b",
   "metadata": {},
   "outputs": [
    {
     "data": {
      "text/plain": [
       "<Axes: >"
      ]
     },
     "execution_count": 5,
     "metadata": {},
     "output_type": "execute_result"
    },
    {
     "data": {
      "image/png": "[encoded data removed]",
      "text/plain": [
       "<Figure size 640x480 with 1 Axes>"
      ]
     },
     "metadata": {},
     "output_type": "display_data"
    }
   ],
   "source": [
    "# on a series\n",
    "import numpy as np\n",
    "import pandas as pd\n",
    "ser1 = pd.Series([7, 5, 7, 6.7], index=['USA', 'Germany', 'USSR', 'Japan'])\n",
    "ser1.plot(kind='bar')"
   ]
  },
  {
   "cell_type": "code",
   "execution_count": 6,
   "id": "9dad29e5",
   "metadata": {},
   "outputs": [
    {
     "data": {
      "text/plain": [
       "<Axes: >"
      ]
     },
     "execution_count": 6,
     "metadata": {},
     "output_type": "execute_result"
    },
    {
     "data": {
      "image/png": "[encoded data removed]",
      "text/plain": [
       "<Figure size 640x480 with 1 Axes>"
      ]
     },
     "metadata": {},
     "output_type": "display_data"
    }
   ],
   "source": [
    "ser1.plot(kind='pie')"
   ]
  },
  {
   "cell_type": "code",
   "execution_count": 7,
   "id": "f573a3a4",
   "metadata": {},
   "outputs": [],
   "source": [
    "# on a dataframe\n",
    "# Examples -> https://www.youtube.com/live/7YDc5xU9CQQ?si=0hpl70MPkrSKHiug&t=6177\n",
    "import seaborn as sns\n",
    "tips = sns.load_dataset('tips')\n"
   ]
  },
  {
   "cell_type": "code",
   "execution_count": 8,
   "id": "1c08333b",
   "metadata": {},
   "outputs": [
    {
     "data": {
      "application/vnd.microsoft.datawrangler.viewer.v0+json": {
       "columns": [
        {
         "name": "index",
         "rawType": "int64",
         "type": "integer"
        },
        {
         "name": "total_bill",
         "rawType": "float64",
         "type": "float"
        },
        {
         "name": "tip",
         "rawType": "float64",
         "type": "float"
        },
        {
         "name": "sex",
         "rawType": "category",
         "type": "unknown"
        },
        {
         "name": "smoker",
         "rawType": "category",
         "type": "unknown"
        },
        {
         "name": "day",
         "rawType": "category",
         "type": "unknown"
        },
        {
         "name": "time",
         "rawType": "category",
         "type": "unknown"
        },
        {
         "name": "size",
         "rawType": "int64",
         "type": "integer"
        }
       ],
       "conversionMethod": "pd.DataFrame",
       "ref": "ceed423c-c7ab-4ef2-b52d-6df4469c8b0d",
       "rows": [
        [
         "0",
         "16.99",
         "1.01",
         "Female",
         "No",
         "Sun",
         "Dinner",
         "2"
        ],
        [
         "1",
         "10.34",
         "1.66",
         "Male",
         "No",
         "Sun",
         "Dinner",
         "3"
        ],
        [
         "2",
         "21.01",
         "3.5",
         "Male",
         "No",
         "Sun",
         "Dinner",
         "3"
        ],
        [
         "3",
         "23.68",
         "3.31",
         "Male",
         "No",
         "Sun",
         "Dinner",
         "2"
        ],
        [
         "4",
         "24.59",
         "3.61",
         "Female",
         "No",
         "Sun",
         "Dinner",
         "4"
        ],
        [
         "5",
         "25.29",
         "4.71",
         "Male",
         "No",
         "Sun",
         "Dinner",
         "4"
        ],
        [
         "6",
         "8.77",
         "2.0",
         "Male",
         "No",
         "Sun",
         "Dinner",
         "2"
        ],
        [
         "7",
         "26.88",
         "3.12",
         "Male",
         "No",
         "Sun",
         "Dinner",
         "4"
        ],
        [
         "8",
         "15.04",
         "1.96",
         "Male",
         "No",
         "Sun",
         "Dinner",
         "2"
        ],
        [
         "9",
         "14.78",
         "3.23",
         "Male",
         "No",
         "Sun",
         "Dinner",
         "2"
        ],
        [
         "10",
         "10.27",
         "1.71",
         "Male",
         "No",
         "Sun",
         "Dinner",
         "2"
        ],
        [
         "11",
         "35.26",
         "5.0",
         "Female",
         "No",
         "Sun",
         "Dinner",
         "4"
        ],
        [
         "12",
         "15.42",
         "1.57",
         "Male",
         "No",
         "Sun",
         "Dinner",
         "2"
        ],
        [
         "13",
         "18.43",
         "3.0",
         "Male",
         "No",
         "Sun",
         "Dinner",
         "4"
        ],
        [
         "14",
         "14.83",
         "3.02",
         "Female",
         "No",
         "Sun",
         "Dinner",
         "2"
        ],
        [
         "15",
         "21.58",
         "3.92",
         "Male",
         "No",
         "Sun",
         "Dinner",
         "2"
        ],
        [
         "16",
         "10.33",
         "1.67",
         "Female",
         "No",
         "Sun",
         "Dinner",
         "3"
        ],
        [
         "17",
         "16.29",
         "3.71",
         "Male",
         "No",
         "Sun",
         "Dinner",
         "3"
        ],
        [
         "18",
         "16.97",
         "3.5",
         "Female",
         "No",
         "Sun",
         "Dinner",
         "3"
        ],
        [
         "19",
         "20.65",
         "3.35",
         "Male",
         "No",
         "Sat",
         "Dinner",
         "3"
        ],
        [
         "20",
         "17.92",
         "4.08",
         "Male",
         "No",
         "Sat",
         "Dinner",
         "2"
        ],
        [
         "21",
         "20.29",
         "2.75",
         "Female",
         "No",
         "Sat",
         "Dinner",
         "2"
        ],
        [
         "22",
         "15.77",
         "2.23",
         "Female",
         "No",
         "Sat",
         "Dinner",
         "2"
        ],
        [
         "23",
         "39.42",
         "7.58",
         "Male",
         "No",
         "Sat",
         "Dinner",
         "4"
        ],
        [
         "24",
         "19.82",
         "3.18",
         "Male",
         "No",
         "Sat",
         "Dinner",
         "2"
        ],
        [
         "25",
         "17.81",
         "2.34",
         "Male",
         "No",
         "Sat",
         "Dinner",
         "4"
        ],
        [
         "26",
         "13.37",
         "2.0",
         "Male",
         "No",
         "Sat",
         "Dinner",
         "2"
        ],
        [
         "27",
         "12.69",
         "2.0",
         "Male",
         "No",
         "Sat",
         "Dinner",
         "2"
        ],
        [
         "28",
         "21.7",
         "4.3",
         "Male",
         "No",
         "Sat",
         "Dinner",
         "2"
        ],
        [
         "29",
         "19.65",
         "3.0",
         "Female",
         "No",
         "Sat",
         "Dinner",
         "2"
        ],
        [
         "30",
         "9.55",
         "1.45",
         "Male",
         "No",
         "Sat",
         "Dinner",
         "2"
        ],
        [
         "31",
         "18.35",
         "2.5",
         "Male",
         "No",
         "Sat",
         "Dinner",
         "4"
        ],
        [
         "32",
         "15.06",
         "3.0",
         "Female",
         "No",
         "Sat",
         "Dinner",
         "2"
        ],
        [
         "33",
         "20.69",
         "2.45",
         "Female",
         "No",
         "Sat",
         "Dinner",
         "4"
        ],
        [
         "34",
         "17.78",
         "3.27",
         "Male",
         "No",
         "Sat",
         "Dinner",
         "2"
        ],
        [
         "35",
         "24.06",
         "3.6",
         "Male",
         "No",
         "Sat",
         "Dinner",
         "3"
        ],
        [
         "36",
         "16.31",
         "2.0",
         "Male",
         "No",
         "Sat",
         "Dinner",
         "3"
        ],
        [
         "37",
         "16.93",
         "3.07",
         "Female",
         "No",
         "Sat",
         "Dinner",
         "3"
        ],
        [
         "38",
         "18.69",
         "2.31",
         "Male",
         "No",
         "Sat",
         "Dinner",
         "3"
        ],
        [
         "39",
         "31.27",
         "5.0",
         "Male",
         "No",
         "Sat",
         "Dinner",
         "3"
        ],
        [
         "40",
         "16.04",
         "2.24",
         "Male",
         "No",
         "Sat",
         "Dinner",
         "3"
        ],
        [
         "41",
         "17.46",
         "2.54",
         "Male",
         "No",
         "Sun",
         "Dinner",
         "2"
        ],
        [
         "42",
         "13.94",
         "3.06",
         "Male",
         "No",
         "Sun",
         "Dinner",
         "2"
        ],
        [
         "43",
         "9.68",
         "1.32",
         "Male",
         "No",
         "Sun",
         "Dinner",
         "2"
        ],
        [
         "44",
         "30.4",
         "5.6",
         "Male",
         "No",
         "Sun",
         "Dinner",
         "4"
        ],
        [
         "45",
         "18.29",
         "3.0",
         "Male",
         "No",
         "Sun",
         "Dinner",
         "2"
        ],
        [
         "46",
         "22.23",
         "5.0",
         "Male",
         "No",
         "Sun",
         "Dinner",
         "2"
        ],
        [
         "47",
         "32.4",
         "6.0",
         "Male",
         "No",
         "Sun",
         "Dinner",
         "4"
        ],
        [
         "48",
         "28.55",
         "2.05",
         "Male",
         "No",
         "Sun",
         "Dinner",
         "3"
        ],
        [
         "49",
         "18.04",
         "3.0",
         "Male",
         "No",
         "Sun",
         "Dinner",
         "2"
        ]
       ],
       "shape": {
        "columns": 7,
        "rows": 244
       }
      },
      "text/html": [
       "<div>\n",
       "<style scoped>\n",
       "    .dataframe tbody tr th:only-of-type {\n",
       "        vertical-align: middle;\n",
       "    }\n",
       "\n",
       "    .dataframe tbody tr th {\n",
       "        vertical-align: top;\n",
       "    }\n",
       "\n",
       "    .dataframe thead th {\n",
       "        text-align: right;\n",
       "    }\n",
       "</style>\n",
       "<table border=\"1\" class=\"dataframe\">\n",
       "  <thead>\n",
       "    <tr style=\"text-align: right;\">\n",
       "      <th></th>\n",
       "      <th>total_bill</th>\n",
       "      <th>tip</th>\n",
       "      <th>sex</th>\n",
       "      <th>smoker</th>\n",
       "      <th>day</th>\n",
       "      <th>time</th>\n",
       "      <th>size</th>\n",
       "    </tr>\n",
       "  </thead>\n",
       "  <tbody>\n",
       "    <tr>\n",
       "      <th>0</th>\n",
       "      <td>16.99</td>\n",
       "      <td>1.01</td>\n",
       "      <td>Female</td>\n",
       "      <td>No</td>\n",
       "      <td>Sun</td>\n",
       "      <td>Dinner</td>\n",
       "      <td>2</td>\n",
       "    </tr>\n",
       "    <tr>\n",
       "      <th>1</th>\n",
       "      <td>10.34</td>\n",
       "      <td>1.66</td>\n",
       "      <td>Male</td>\n",
       "      <td>No</td>\n",
       "      <td>Sun</td>\n",
       "      <td>Dinner</td>\n",
       "      <td>3</td>\n",
       "    </tr>\n",
       "    <tr>\n",
       "      <th>2</th>\n",
       "      <td>21.01</td>\n",
       "      <td>3.50</td>\n",
       "      <td>Male</td>\n",
       "      <td>No</td>\n",
       "      <td>Sun</td>\n",
       "      <td>Dinner</td>\n",
       "      <td>3</td>\n",
       "    </tr>\n",
       "    <tr>\n",
       "      <th>3</th>\n",
       "      <td>23.68</td>\n",
       "      <td>3.31</td>\n",
       "      <td>Male</td>\n",
       "      <td>No</td>\n",
       "      <td>Sun</td>\n",
       "      <td>Dinner</td>\n",
       "      <td>2</td>\n",
       "    </tr>\n",
       "    <tr>\n",
       "      <th>4</th>\n",
       "      <td>24.59</td>\n",
       "      <td>3.61</td>\n",
       "      <td>Female</td>\n",
       "      <td>No</td>\n",
       "      <td>Sun</td>\n",
       "      <td>Dinner</td>\n",
       "      <td>4</td>\n",
       "    </tr>\n",
       "    <tr>\n",
       "      <th>...</th>\n",
       "      <td>...</td>\n",
       "      <td>...</td>\n",
       "      <td>...</td>\n",
       "      <td>...</td>\n",
       "      <td>...</td>\n",
       "      <td>...</td>\n",
       "      <td>...</td>\n",
       "    </tr>\n",
       "    <tr>\n",
       "      <th>239</th>\n",
       "      <td>29.03</td>\n",
       "      <td>5.92</td>\n",
       "      <td>Male</td>\n",
       "      <td>No</td>\n",
       "      <td>Sat</td>\n",
       "      <td>Dinner</td>\n",
       "      <td>3</td>\n",
       "    </tr>\n",
       "    <tr>\n",
       "      <th>240</th>\n",
       "      <td>27.18</td>\n",
       "      <td>2.00</td>\n",
       "      <td>Female</td>\n",
       "      <td>Yes</td>\n",
       "      <td>Sat</td>\n",
       "      <td>Dinner</td>\n",
       "      <td>2</td>\n",
       "    </tr>\n",
       "    <tr>\n",
       "      <th>241</th>\n",
       "      <td>22.67</td>\n",
       "      <td>2.00</td>\n",
       "      <td>Male</td>\n",
       "      <td>Yes</td>\n",
       "      <td>Sat</td>\n",
       "      <td>Dinner</td>\n",
       "      <td>2</td>\n",
       "    </tr>\n",
       "    <tr>\n",
       "      <th>242</th>\n",
       "      <td>17.82</td>\n",
       "      <td>1.75</td>\n",
       "      <td>Male</td>\n",
       "      <td>No</td>\n",
       "      <td>Sat</td>\n",
       "      <td>Dinner</td>\n",
       "      <td>2</td>\n",
       "    </tr>\n",
       "    <tr>\n",
       "      <th>243</th>\n",
       "      <td>18.78</td>\n",
       "      <td>3.00</td>\n",
       "      <td>Female</td>\n",
       "      <td>No</td>\n",
       "      <td>Thur</td>\n",
       "      <td>Dinner</td>\n",
       "      <td>2</td>\n",
       "    </tr>\n",
       "  </tbody>\n",
       "</table>\n",
       "<p>244 rows × 7 columns</p>\n",
       "</div>"
      ],
      "text/plain": [
       "     total_bill   tip     sex smoker   day    time  size\n",
       "0         16.99  1.01  Female     No   Sun  Dinner     2\n",
       "1         10.34  1.66    Male     No   Sun  Dinner     3\n",
       "2         21.01  3.50    Male     No   Sun  Dinner     3\n",
       "3         23.68  3.31    Male     No   Sun  Dinner     2\n",
       "4         24.59  3.61  Female     No   Sun  Dinner     4\n",
       "..          ...   ...     ...    ...   ...     ...   ...\n",
       "239       29.03  5.92    Male     No   Sat  Dinner     3\n",
       "240       27.18  2.00  Female    Yes   Sat  Dinner     2\n",
       "241       22.67  2.00    Male    Yes   Sat  Dinner     2\n",
       "242       17.82  1.75    Male     No   Sat  Dinner     2\n",
       "243       18.78  3.00  Female     No  Thur  Dinner     2\n",
       "\n",
       "[244 rows x 7 columns]"
      ]
     },
     "execution_count": 8,
     "metadata": {},
     "output_type": "execute_result"
    }
   ],
   "source": [
    "tips"
   ]
  },
  {
   "cell_type": "code",
   "execution_count": 33,
   "id": "a17ac4a9",
   "metadata": {},
   "outputs": [
    {
     "data": {
      "text/plain": [
       "<Axes: title={'center': 'bill vs tip'}, xlabel='total_bill', ylabel='tip'>"
      ]
     },
     "execution_count": 33,
     "metadata": {},
     "output_type": "execute_result"
    },
    {
     "data": {
      "image/png": "[encoded data removed]",
      "text/plain": [
       "<Figure size 1200x700 with 2 Axes>"
      ]
     },
     "metadata": {},
     "output_type": "display_data"
    }
   ],
   "source": [
    "tips.plot(kind='scatter',x='total_bill',y='tip',title='bill vs tip',c='sex',cmap='viridis',s=tips['size']**4,figsize=(12,7))"
   ]
  },
  {
   "cell_type": "code",
   "execution_count": 35,
   "id": "80d819d7",
   "metadata": {},
   "outputs": [
    {
     "data": {
      "application/vnd.microsoft.datawrangler.viewer.v0+json": {
       "columns": [
        {
         "name": "index",
         "rawType": "int64",
         "type": "integer"
        },
        {
         "name": "Date",
         "rawType": "object",
         "type": "string"
        },
        {
         "name": "MSFT",
         "rawType": "float64",
         "type": "float"
        },
        {
         "name": "FB",
         "rawType": "float64",
         "type": "float"
        },
        {
         "name": "AAPL",
         "rawType": "float64",
         "type": "float"
        }
       ],
       "conversionMethod": "pd.DataFrame",
       "ref": "655439d8-3c6a-440c-875c-f6484ffe69d8",
       "rows": [
        [
         "0",
         "2021-05-24",
         "249.679993",
         "328.730011",
         "124.610001"
        ],
        [
         "1",
         "2021-05-31",
         "250.789993",
         "330.350006",
         "125.889999"
        ],
        [
         "2",
         "2021-06-07",
         "257.890015",
         "331.26001",
         "127.349998"
        ],
        [
         "3",
         "2021-06-14",
         "259.429993",
         "329.660004",
         "130.460007"
        ],
        [
         "4",
         "2021-06-21",
         "265.019989",
         "341.369995",
         "133.110001"
        ],
        [
         "5",
         "2021-06-28",
         "277.649994",
         "354.700012",
         "139.960007"
        ],
        [
         "6",
         "2021-07-05",
         "277.940002",
         "350.420013",
         "145.110001"
        ],
        [
         "7",
         "2021-07-12",
         "280.75",
         "341.160004",
         "146.389999"
        ],
        [
         "8",
         "2021-07-19",
         "289.670013",
         "369.790009",
         "148.559998"
        ],
        [
         "9",
         "2021-07-26",
         "284.910004",
         "356.299988",
         "145.860001"
        ],
        [
         "10",
         "2021-08-02",
         "289.459991",
         "363.51001",
         "146.139999"
        ],
        [
         "11",
         "2021-08-09",
         "292.850006",
         "363.179993",
         "149.100006"
        ],
        [
         "12",
         "2021-08-16",
         "304.359985",
         "359.369995",
         "148.190002"
        ],
        [
         "13",
         "2021-08-23",
         "299.720001",
         "372.630005",
         "148.600006"
        ],
        [
         "14",
         "2021-08-30",
         "301.140015",
         "376.26001",
         "154.300003"
        ],
        [
         "15",
         "2021-09-06",
         "295.709991",
         "378.690002",
         "148.970001"
        ],
        [
         "16",
         "2021-09-13",
         "299.869995",
         "364.720001",
         "146.059998"
        ],
        [
         "17",
         "2021-09-20",
         "299.350006",
         "352.959991",
         "146.919998"
        ],
        [
         "18",
         "2021-09-27",
         "289.100006",
         "343.01001",
         "142.649994"
        ],
        [
         "19",
         "2021-10-04",
         "294.850006",
         "330.049988",
         "142.899994"
        ],
        [
         "20",
         "2021-10-11",
         "304.209991",
         "324.76001",
         "144.839996"
        ],
        [
         "21",
         "2021-10-18",
         "309.160004",
         "324.609985",
         "148.690002"
        ],
        [
         "22",
         "2021-10-25",
         "331.619995",
         "323.570007",
         "149.800003"
        ],
        [
         "23",
         "2021-11-01",
         "336.059998",
         "341.130005",
         "151.279999"
        ],
        [
         "24",
         "2021-11-08",
         "336.720001",
         "340.890015",
         "149.990005"
        ],
        [
         "25",
         "2021-11-15",
         "343.109985",
         "345.299988",
         "160.550003"
        ],
        [
         "26",
         "2021-11-22",
         "329.679993",
         "333.119995",
         "156.809998"
        ],
        [
         "27",
         "2021-11-29",
         "323.01001",
         "306.839996",
         "161.839996"
        ],
        [
         "28",
         "2021-12-06",
         "342.540009",
         "329.75",
         "179.449997"
        ],
        [
         "29",
         "2021-12-13",
         "323.799988",
         "333.790009",
         "171.139999"
        ],
        [
         "30",
         "2021-12-20",
         "334.690002",
         "335.23999",
         "176.279999"
        ],
        [
         "31",
         "2021-12-27",
         "336.320007",
         "336.350006",
         "177.570007"
        ],
        [
         "32",
         "2022-01-03",
         "314.040009",
         "331.790009",
         "172.169998"
        ],
        [
         "33",
         "2022-01-10",
         "310.200012",
         "331.899994",
         "173.070007"
        ],
        [
         "34",
         "2022-01-17",
         "296.029999",
         "303.170013",
         "162.410004"
        ],
        [
         "35",
         "2022-01-24",
         "308.26001",
         "301.709991",
         "170.330002"
        ],
        [
         "36",
         "2022-01-31",
         "305.940002",
         "237.089996",
         "172.389999"
        ],
        [
         "37",
         "2022-02-07",
         "295.040009",
         "219.550003",
         "168.639999"
        ],
        [
         "38",
         "2022-02-14",
         "287.929993",
         "206.160004",
         "167.300003"
        ],
        [
         "39",
         "2022-02-21",
         "297.309998",
         "210.479996",
         "164.850006"
        ],
        [
         "40",
         "2022-02-28",
         "289.859985",
         "200.059998",
         "163.169998"
        ],
        [
         "41",
         "2022-03-07",
         "280.070007",
         "187.610001",
         "154.729996"
        ],
        [
         "42",
         "2022-03-14",
         "300.429993",
         "216.490005",
         "163.979996"
        ],
        [
         "43",
         "2022-03-21",
         "303.679993",
         "221.820007",
         "174.720001"
        ],
        [
         "44",
         "2022-03-28",
         "309.420013",
         "224.850006",
         "174.309998"
        ],
        [
         "45",
         "2022-04-04",
         "296.970001",
         "222.330002",
         "170.089996"
        ],
        [
         "46",
         "2022-04-11",
         "279.829987",
         "210.179993",
         "165.289993"
        ],
        [
         "47",
         "2022-04-18",
         "274.029999",
         "184.110001",
         "161.789993"
        ],
        [
         "48",
         "2022-04-25",
         "277.519989",
         "200.470001",
         "157.649994"
        ],
        [
         "49",
         "2022-05-02",
         "274.730011",
         "203.770004",
         "157.279999"
        ]
       ],
       "shape": {
        "columns": 4,
        "rows": 52
       }
      },
      "text/html": [
       "<div>\n",
       "<style scoped>\n",
       "    .dataframe tbody tr th:only-of-type {\n",
       "        vertical-align: middle;\n",
       "    }\n",
       "\n",
       "    .dataframe tbody tr th {\n",
       "        vertical-align: top;\n",
       "    }\n",
       "\n",
       "    .dataframe thead th {\n",
       "        text-align: right;\n",
       "    }\n",
       "</style>\n",
       "<table border=\"1\" class=\"dataframe\">\n",
       "  <thead>\n",
       "    <tr style=\"text-align: right;\">\n",
       "      <th></th>\n",
       "      <th>Date</th>\n",
       "      <th>MSFT</th>\n",
       "      <th>FB</th>\n",
       "      <th>AAPL</th>\n",
       "    </tr>\n",
       "  </thead>\n",
       "  <tbody>\n",
       "    <tr>\n",
       "      <th>0</th>\n",
       "      <td>2021-05-24</td>\n",
       "      <td>249.679993</td>\n",
       "      <td>328.730011</td>\n",
       "      <td>124.610001</td>\n",
       "    </tr>\n",
       "    <tr>\n",
       "      <th>1</th>\n",
       "      <td>2021-05-31</td>\n",
       "      <td>250.789993</td>\n",
       "      <td>330.350006</td>\n",
       "      <td>125.889999</td>\n",
       "    </tr>\n",
       "    <tr>\n",
       "      <th>2</th>\n",
       "      <td>2021-06-07</td>\n",
       "      <td>257.890015</td>\n",
       "      <td>331.260010</td>\n",
       "      <td>127.349998</td>\n",
       "    </tr>\n",
       "    <tr>\n",
       "      <th>3</th>\n",
       "      <td>2021-06-14</td>\n",
       "      <td>259.429993</td>\n",
       "      <td>329.660004</td>\n",
       "      <td>130.460007</td>\n",
       "    </tr>\n",
       "    <tr>\n",
       "      <th>4</th>\n",
       "      <td>2021-06-21</td>\n",
       "      <td>265.019989</td>\n",
       "      <td>341.369995</td>\n",
       "      <td>133.110001</td>\n",
       "    </tr>\n",
       "    <tr>\n",
       "      <th>5</th>\n",
       "      <td>2021-06-28</td>\n",
       "      <td>277.649994</td>\n",
       "      <td>354.700012</td>\n",
       "      <td>139.960007</td>\n",
       "    </tr>\n",
       "    <tr>\n",
       "      <th>6</th>\n",
       "      <td>2021-07-05</td>\n",
       "      <td>277.940002</td>\n",
       "      <td>350.420013</td>\n",
       "      <td>145.110001</td>\n",
       "    </tr>\n",
       "    <tr>\n",
       "      <th>7</th>\n",
       "      <td>2021-07-12</td>\n",
       "      <td>280.750000</td>\n",
       "      <td>341.160004</td>\n",
       "      <td>146.389999</td>\n",
       "    </tr>\n",
       "    <tr>\n",
       "      <th>8</th>\n",
       "      <td>2021-07-19</td>\n",
       "      <td>289.670013</td>\n",
       "      <td>369.790009</td>\n",
       "      <td>148.559998</td>\n",
       "    </tr>\n",
       "    <tr>\n",
       "      <th>9</th>\n",
       "      <td>2021-07-26</td>\n",
       "      <td>284.910004</td>\n",
       "      <td>356.299988</td>\n",
       "      <td>145.860001</td>\n",
       "    </tr>\n",
       "    <tr>\n",
       "      <th>10</th>\n",
       "      <td>2021-08-02</td>\n",
       "      <td>289.459991</td>\n",
       "      <td>363.510010</td>\n",
       "      <td>146.139999</td>\n",
       "    </tr>\n",
       "    <tr>\n",
       "      <th>11</th>\n",
       "      <td>2021-08-09</td>\n",
       "      <td>292.850006</td>\n",
       "      <td>363.179993</td>\n",
       "      <td>149.100006</td>\n",
       "    </tr>\n",
       "    <tr>\n",
       "      <th>12</th>\n",
       "      <td>2021-08-16</td>\n",
       "      <td>304.359985</td>\n",
       "      <td>359.369995</td>\n",
       "      <td>148.190002</td>\n",
       "    </tr>\n",
       "    <tr>\n",
       "      <th>13</th>\n",
       "      <td>2021-08-23</td>\n",
       "      <td>299.720001</td>\n",
       "      <td>372.630005</td>\n",
       "      <td>148.600006</td>\n",
       "    </tr>\n",
       "    <tr>\n",
       "      <th>14</th>\n",
       "      <td>2021-08-30</td>\n",
       "      <td>301.140015</td>\n",
       "      <td>376.260010</td>\n",
       "      <td>154.300003</td>\n",
       "    </tr>\n",
       "    <tr>\n",
       "      <th>15</th>\n",
       "      <td>2021-09-06</td>\n",
       "      <td>295.709991</td>\n",
       "      <td>378.690002</td>\n",
       "      <td>148.970001</td>\n",
       "    </tr>\n",
       "    <tr>\n",
       "      <th>16</th>\n",
       "      <td>2021-09-13</td>\n",
       "      <td>299.869995</td>\n",
       "      <td>364.720001</td>\n",
       "      <td>146.059998</td>\n",
       "    </tr>\n",
       "    <tr>\n",
       "      <th>17</th>\n",
       "      <td>2021-09-20</td>\n",
       "      <td>299.350006</td>\n",
       "      <td>352.959991</td>\n",
       "      <td>146.919998</td>\n",
       "    </tr>\n",
       "    <tr>\n",
       "      <th>18</th>\n",
       "      <td>2021-09-27</td>\n",
       "      <td>289.100006</td>\n",
       "      <td>343.010010</td>\n",
       "      <td>142.649994</td>\n",
       "    </tr>\n",
       "    <tr>\n",
       "      <th>19</th>\n",
       "      <td>2021-10-04</td>\n",
       "      <td>294.850006</td>\n",
       "      <td>330.049988</td>\n",
       "      <td>142.899994</td>\n",
       "    </tr>\n",
       "    <tr>\n",
       "      <th>20</th>\n",
       "      <td>2021-10-11</td>\n",
       "      <td>304.209991</td>\n",
       "      <td>324.760010</td>\n",
       "      <td>144.839996</td>\n",
       "    </tr>\n",
       "    <tr>\n",
       "      <th>21</th>\n",
       "      <td>2021-10-18</td>\n",
       "      <td>309.160004</td>\n",
       "      <td>324.609985</td>\n",
       "      <td>148.690002</td>\n",
       "    </tr>\n",
       "    <tr>\n",
       "      <th>22</th>\n",
       "      <td>2021-10-25</td>\n",
       "      <td>331.619995</td>\n",
       "      <td>323.570007</td>\n",
       "      <td>149.800003</td>\n",
       "    </tr>\n",
       "    <tr>\n",
       "      <th>23</th>\n",
       "      <td>2021-11-01</td>\n",
       "      <td>336.059998</td>\n",
       "      <td>341.130005</td>\n",
       "      <td>151.279999</td>\n",
       "    </tr>\n",
       "    <tr>\n",
       "      <th>24</th>\n",
       "      <td>2021-11-08</td>\n",
       "      <td>336.720001</td>\n",
       "      <td>340.890015</td>\n",
       "      <td>149.990005</td>\n",
       "    </tr>\n",
       "    <tr>\n",
       "      <th>25</th>\n",
       "      <td>2021-11-15</td>\n",
       "      <td>343.109985</td>\n",
       "      <td>345.299988</td>\n",
       "      <td>160.550003</td>\n",
       "    </tr>\n",
       "    <tr>\n",
       "      <th>26</th>\n",
       "      <td>2021-11-22</td>\n",
       "      <td>329.679993</td>\n",
       "      <td>333.119995</td>\n",
       "      <td>156.809998</td>\n",
       "    </tr>\n",
       "    <tr>\n",
       "      <th>27</th>\n",
       "      <td>2021-11-29</td>\n",
       "      <td>323.010010</td>\n",
       "      <td>306.839996</td>\n",
       "      <td>161.839996</td>\n",
       "    </tr>\n",
       "    <tr>\n",
       "      <th>28</th>\n",
       "      <td>2021-12-06</td>\n",
       "      <td>342.540009</td>\n",
       "      <td>329.750000</td>\n",
       "      <td>179.449997</td>\n",
       "    </tr>\n",
       "    <tr>\n",
       "      <th>29</th>\n",
       "      <td>2021-12-13</td>\n",
       "      <td>323.799988</td>\n",
       "      <td>333.790009</td>\n",
       "      <td>171.139999</td>\n",
       "    </tr>\n",
       "    <tr>\n",
       "      <th>30</th>\n",
       "      <td>2021-12-20</td>\n",
       "      <td>334.690002</td>\n",
       "      <td>335.239990</td>\n",
       "      <td>176.279999</td>\n",
       "    </tr>\n",
       "    <tr>\n",
       "      <th>31</th>\n",
       "      <td>2021-12-27</td>\n",
       "      <td>336.320007</td>\n",
       "      <td>336.350006</td>\n",
       "      <td>177.570007</td>\n",
       "    </tr>\n",
       "    <tr>\n",
       "      <th>32</th>\n",
       "      <td>2022-01-03</td>\n",
       "      <td>314.040009</td>\n",
       "      <td>331.790009</td>\n",
       "      <td>172.169998</td>\n",
       "    </tr>\n",
       "    <tr>\n",
       "      <th>33</th>\n",
       "      <td>2022-01-10</td>\n",
       "      <td>310.200012</td>\n",
       "      <td>331.899994</td>\n",
       "      <td>173.070007</td>\n",
       "    </tr>\n",
       "    <tr>\n",
       "      <th>34</th>\n",
       "      <td>2022-01-17</td>\n",
       "      <td>296.029999</td>\n",
       "      <td>303.170013</td>\n",
       "      <td>162.410004</td>\n",
       "    </tr>\n",
       "    <tr>\n",
       "      <th>35</th>\n",
       "      <td>2022-01-24</td>\n",
       "      <td>308.260010</td>\n",
       "      <td>301.709991</td>\n",
       "      <td>170.330002</td>\n",
       "    </tr>\n",
       "    <tr>\n",
       "      <th>36</th>\n",
       "      <td>2022-01-31</td>\n",
       "      <td>305.940002</td>\n",
       "      <td>237.089996</td>\n",
       "      <td>172.389999</td>\n",
       "    </tr>\n",
       "    <tr>\n",
       "      <th>37</th>\n",
       "      <td>2022-02-07</td>\n",
       "      <td>295.040009</td>\n",
       "      <td>219.550003</td>\n",
       "      <td>168.639999</td>\n",
       "    </tr>\n",
       "    <tr>\n",
       "      <th>38</th>\n",
       "      <td>2022-02-14</td>\n",
       "      <td>287.929993</td>\n",
       "      <td>206.160004</td>\n",
       "      <td>167.300003</td>\n",
       "    </tr>\n",
       "    <tr>\n",
       "      <th>39</th>\n",
       "      <td>2022-02-21</td>\n",
       "      <td>297.309998</td>\n",
       "      <td>210.479996</td>\n",
       "      <td>164.850006</td>\n",
       "    </tr>\n",
       "    <tr>\n",
       "      <th>40</th>\n",
       "      <td>2022-02-28</td>\n",
       "      <td>289.859985</td>\n",
       "      <td>200.059998</td>\n",
       "      <td>163.169998</td>\n",
       "    </tr>\n",
       "    <tr>\n",
       "      <th>41</th>\n",
       "      <td>2022-03-07</td>\n",
       "      <td>280.070007</td>\n",
       "      <td>187.610001</td>\n",
       "      <td>154.729996</td>\n",
       "    </tr>\n",
       "    <tr>\n",
       "      <th>42</th>\n",
       "      <td>2022-03-14</td>\n",
       "      <td>300.429993</td>\n",
       "      <td>216.490005</td>\n",
       "      <td>163.979996</td>\n",
       "    </tr>\n",
       "    <tr>\n",
       "      <th>43</th>\n",
       "      <td>2022-03-21</td>\n",
       "      <td>303.679993</td>\n",
       "      <td>221.820007</td>\n",
       "      <td>174.720001</td>\n",
       "    </tr>\n",
       "    <tr>\n",
       "      <th>44</th>\n",
       "      <td>2022-03-28</td>\n",
       "      <td>309.420013</td>\n",
       "      <td>224.850006</td>\n",
       "      <td>174.309998</td>\n",
       "    </tr>\n",
       "    <tr>\n",
       "      <th>45</th>\n",
       "      <td>2022-04-04</td>\n",
       "      <td>296.970001</td>\n",
       "      <td>222.330002</td>\n",
       "      <td>170.089996</td>\n",
       "    </tr>\n",
       "    <tr>\n",
       "      <th>46</th>\n",
       "      <td>2022-04-11</td>\n",
       "      <td>279.829987</td>\n",
       "      <td>210.179993</td>\n",
       "      <td>165.289993</td>\n",
       "    </tr>\n",
       "    <tr>\n",
       "      <th>47</th>\n",
       "      <td>2022-04-18</td>\n",
       "      <td>274.029999</td>\n",
       "      <td>184.110001</td>\n",
       "      <td>161.789993</td>\n",
       "    </tr>\n",
       "    <tr>\n",
       "      <th>48</th>\n",
       "      <td>2022-04-25</td>\n",
       "      <td>277.519989</td>\n",
       "      <td>200.470001</td>\n",
       "      <td>157.649994</td>\n",
       "    </tr>\n",
       "    <tr>\n",
       "      <th>49</th>\n",
       "      <td>2022-05-02</td>\n",
       "      <td>274.730011</td>\n",
       "      <td>203.770004</td>\n",
       "      <td>157.279999</td>\n",
       "    </tr>\n",
       "    <tr>\n",
       "      <th>50</th>\n",
       "      <td>2022-05-09</td>\n",
       "      <td>261.119995</td>\n",
       "      <td>198.619995</td>\n",
       "      <td>147.110001</td>\n",
       "    </tr>\n",
       "    <tr>\n",
       "      <th>51</th>\n",
       "      <td>2022-05-16</td>\n",
       "      <td>252.559998</td>\n",
       "      <td>193.539993</td>\n",
       "      <td>137.589996</td>\n",
       "    </tr>\n",
       "  </tbody>\n",
       "</table>\n",
       "</div>"
      ],
      "text/plain": [
       "          Date        MSFT          FB        AAPL\n",
       "0   2021-05-24  249.679993  328.730011  124.610001\n",
       "1   2021-05-31  250.789993  330.350006  125.889999\n",
       "2   2021-06-07  257.890015  331.260010  127.349998\n",
       "3   2021-06-14  259.429993  329.660004  130.460007\n",
       "4   2021-06-21  265.019989  341.369995  133.110001\n",
       "5   2021-06-28  277.649994  354.700012  139.960007\n",
       "6   2021-07-05  277.940002  350.420013  145.110001\n",
       "7   2021-07-12  280.750000  341.160004  146.389999\n",
       "8   2021-07-19  289.670013  369.790009  148.559998\n",
       "9   2021-07-26  284.910004  356.299988  145.860001\n",
       "10  2021-08-02  289.459991  363.510010  146.139999\n",
       "11  2021-08-09  292.850006  363.179993  149.100006\n",
       "12  2021-08-16  304.359985  359.369995  148.190002\n",
       "13  2021-08-23  299.720001  372.630005  148.600006\n",
       "14  2021-08-30  301.140015  376.260010  154.300003\n",
       "15  2021-09-06  295.709991  378.690002  148.970001\n",
       "16  2021-09-13  299.869995  364.720001  146.059998\n",
       "17  2021-09-20  299.350006  352.959991  146.919998\n",
       "18  2021-09-27  289.100006  343.010010  142.649994\n",
       "19  2021-10-04  294.850006  330.049988  142.899994\n",
       "20  2021-10-11  304.209991  324.760010  144.839996\n",
       "21  2021-10-18  309.160004  324.609985  148.690002\n",
       "22  2021-10-25  331.619995  323.570007  149.800003\n",
       "23  2021-11-01  336.059998  341.130005  151.279999\n",
       "24  2021-11-08  336.720001  340.890015  149.990005\n",
       "25  2021-11-15  343.109985  345.299988  160.550003\n",
       "26  2021-11-22  329.679993  333.119995  156.809998\n",
       "27  2021-11-29  323.010010  306.839996  161.839996\n",
       "28  2021-12-06  342.540009  329.750000  179.449997\n",
       "29  2021-12-13  323.799988  333.790009  171.139999\n",
       "30  2021-12-20  334.690002  335.239990  176.279999\n",
       "31  2021-12-27  336.320007  336.350006  177.570007\n",
       "32  2022-01-03  314.040009  331.790009  172.169998\n",
       "33  2022-01-10  310.200012  331.899994  173.070007\n",
       "34  2022-01-17  296.029999  303.170013  162.410004\n",
       "35  2022-01-24  308.260010  301.709991  170.330002\n",
       "36  2022-01-31  305.940002  237.089996  172.389999\n",
       "37  2022-02-07  295.040009  219.550003  168.639999\n",
       "38  2022-02-14  287.929993  206.160004  167.300003\n",
       "39  2022-02-21  297.309998  210.479996  164.850006\n",
       "40  2022-02-28  289.859985  200.059998  163.169998\n",
       "41  2022-03-07  280.070007  187.610001  154.729996\n",
       "42  2022-03-14  300.429993  216.490005  163.979996\n",
       "43  2022-03-21  303.679993  221.820007  174.720001\n",
       "44  2022-03-28  309.420013  224.850006  174.309998\n",
       "45  2022-04-04  296.970001  222.330002  170.089996\n",
       "46  2022-04-11  279.829987  210.179993  165.289993\n",
       "47  2022-04-18  274.029999  184.110001  161.789993\n",
       "48  2022-04-25  277.519989  200.470001  157.649994\n",
       "49  2022-05-02  274.730011  203.770004  157.279999\n",
       "50  2022-05-09  261.119995  198.619995  147.110001\n",
       "51  2022-05-16  252.559998  193.539993  137.589996"
      ]
     },
     "execution_count": 35,
     "metadata": {},
     "output_type": "execute_result"
    }
   ],
   "source": [
    "# line plot using pandas plot method\n",
    "stocks = pd.read_csv('https://raw.githubusercontent.com/m-mehdi/pandas_tutorials/main/weekly_stocks.csv')\n",
    "stocks"
   ]
  },
  {
   "cell_type": "code",
   "execution_count": 40,
   "id": "4a1754e7",
   "metadata": {},
   "outputs": [
    {
     "data": {
      "text/plain": [
       "<Axes: >"
      ]
     },
     "execution_count": 40,
     "metadata": {},
     "output_type": "execute_result"
    },
    {
     "data": {
      "image/png": "[encoded data removed]",
      "text/plain": [
       "<Figure size 640x480 with 1 Axes>"
      ]
     },
     "metadata": {},
     "output_type": "display_data"
    }
   ],
   "source": [
    "stocks['MSFT'].plot() # kind=line, therefore it by default make line plot"
   ]
  },
  {
   "cell_type": "code",
   "execution_count": 56,
   "id": "cc4acb89",
   "metadata": {},
   "outputs": [
    {
     "data": {
      "text/plain": [
       "<Axes: >"
      ]
     },
     "execution_count": 56,
     "metadata": {},
     "output_type": "execute_result"
    },
    {
     "data": {
      "image/png": "[encoded data removed]",
      "text/plain": [
       "<Figure size 640x480 with 1 Axes>"
      ]
     },
     "metadata": {},
     "output_type": "display_data"
    }
   ],
   "source": [
    "# can do also in df\n",
    "stocks.plot(marker='o')\n"
   ]
  },
  {
   "cell_type": "code",
   "execution_count": 57,
   "id": "32cd3f38",
   "metadata": {},
   "outputs": [
    {
     "data": {
      "application/vnd.microsoft.datawrangler.viewer.v0+json": {
       "columns": [
        {
         "name": "index",
         "rawType": "int64",
         "type": "integer"
        },
        {
         "name": "batsman",
         "rawType": "object",
         "type": "string"
        },
        {
         "name": "2015",
         "rawType": "int64",
         "type": "integer"
        },
        {
         "name": "2016",
         "rawType": "int64",
         "type": "integer"
        },
        {
         "name": "2017",
         "rawType": "int64",
         "type": "integer"
        }
       ],
       "conversionMethod": "pd.DataFrame",
       "ref": "ca0b13cd-22ba-4679-b226-eaf8b818eb82",
       "rows": [
        [
         "0",
         "AB de Villiers",
         "513",
         "687",
         "216"
        ],
        [
         "1",
         "DA Warner",
         "562",
         "848",
         "641"
        ],
        [
         "2",
         "MS Dhoni",
         "372",
         "284",
         "290"
        ],
        [
         "3",
         "RG Sharma",
         "482",
         "489",
         "333"
        ],
        [
         "4",
         "V Kohli",
         "505",
         "973",
         "308"
        ]
       ],
       "shape": {
        "columns": 4,
        "rows": 5
       }
      },
      "text/html": [
       "<div>\n",
       "<style scoped>\n",
       "    .dataframe tbody tr th:only-of-type {\n",
       "        vertical-align: middle;\n",
       "    }\n",
       "\n",
       "    .dataframe tbody tr th {\n",
       "        vertical-align: top;\n",
       "    }\n",
       "\n",
       "    .dataframe thead th {\n",
       "        text-align: right;\n",
       "    }\n",
       "</style>\n",
       "<table border=\"1\" class=\"dataframe\">\n",
       "  <thead>\n",
       "    <tr style=\"text-align: right;\">\n",
       "      <th></th>\n",
       "      <th>batsman</th>\n",
       "      <th>2015</th>\n",
       "      <th>2016</th>\n",
       "      <th>2017</th>\n",
       "    </tr>\n",
       "  </thead>\n",
       "  <tbody>\n",
       "    <tr>\n",
       "      <th>0</th>\n",
       "      <td>AB de Villiers</td>\n",
       "      <td>513</td>\n",
       "      <td>687</td>\n",
       "      <td>216</td>\n",
       "    </tr>\n",
       "    <tr>\n",
       "      <th>1</th>\n",
       "      <td>DA Warner</td>\n",
       "      <td>562</td>\n",
       "      <td>848</td>\n",
       "      <td>641</td>\n",
       "    </tr>\n",
       "    <tr>\n",
       "      <th>2</th>\n",
       "      <td>MS Dhoni</td>\n",
       "      <td>372</td>\n",
       "      <td>284</td>\n",
       "      <td>290</td>\n",
       "    </tr>\n",
       "    <tr>\n",
       "      <th>3</th>\n",
       "      <td>RG Sharma</td>\n",
       "      <td>482</td>\n",
       "      <td>489</td>\n",
       "      <td>333</td>\n",
       "    </tr>\n",
       "    <tr>\n",
       "      <th>4</th>\n",
       "      <td>V Kohli</td>\n",
       "      <td>505</td>\n",
       "      <td>973</td>\n",
       "      <td>308</td>\n",
       "    </tr>\n",
       "  </tbody>\n",
       "</table>\n",
       "</div>"
      ],
      "text/plain": [
       "          batsman  2015  2016  2017\n",
       "0  AB de Villiers   513   687   216\n",
       "1       DA Warner   562   848   641\n",
       "2        MS Dhoni   372   284   290\n",
       "3       RG Sharma   482   489   333\n",
       "4         V Kohli   505   973   308"
      ]
     },
     "execution_count": 57,
     "metadata": {},
     "output_type": "execute_result"
    }
   ],
   "source": [
    "# bar chart -> https://www.youtube.com/live/7YDc5xU9CQQ?si=Xz7c6E5TK23BGaBJ&t=6647\n",
    "temp = pd.DataFrame({'batsman':['AB de Villiers', 'DA Warner', 'MS Dhoni', 'RG Sharma', 'V Kohli'], '2015':[513, 562, 372, 482, 505], '2016':[687, 848, 284, 489, 973], '2017':[216, 641, 290, 333, 308]})\n",
    "\n",
    "temp"
   ]
  },
  {
   "cell_type": "code",
   "execution_count": 60,
   "id": "a9b51b3f",
   "metadata": {},
   "outputs": [
    {
     "data": {
      "text/plain": [
       "RangeIndex(start=0, stop=5, step=1)"
      ]
     },
     "execution_count": 60,
     "metadata": {},
     "output_type": "execute_result"
    }
   ],
   "source": [
    "temp"
   ]
  },
  {
   "cell_type": "code",
   "execution_count": 73,
   "id": "0f06c53c",
   "metadata": {},
   "outputs": [
    {
     "name": "stderr",
     "output_type": "stream",
     "text": [
      "C:\\Users\\Vedansh\\AppData\\Local\\Temp\\ipykernel_37512\\3658001355.py:1: FutureWarning: The default of observed=False is deprecated and will be changed to True in a future version of pandas. Pass observed=False to retain current behavior or observed=True to adopt the future default and silence this warning.\n",
      "  tips.groupby('sex')['tip'].mean().plot(kind='bar', title='average tip by gender')\n"
     ]
    },
    {
     "data": {
      "text/plain": [
       "<Axes: title={'center': 'average tip by gender'}, xlabel='sex'>"
      ]
     },
     "execution_count": 73,
     "metadata": {},
     "output_type": "execute_result"
    },
    {
     "data": {
      "image/png": "[encoded data removed]",
      "text/plain": [
       "<Figure size 640x480 with 1 Axes>"
      ]
     },
     "metadata": {},
     "output_type": "display_data"
    }
   ],
   "source": [
    "tips.groupby('sex')['tip'].mean().plot(kind='bar', title='average tip by gender') "
   ]
  },
  {
   "cell_type": "code",
   "execution_count": 67,
   "id": "8884b4bb",
   "metadata": {},
   "outputs": [
    {
     "data": {
      "text/plain": [
       "<Axes: >"
      ]
     },
     "execution_count": 67,
     "metadata": {},
     "output_type": "execute_result"
    },
    {
     "data": {
      "image/png": "[encoded data removed]",
      "text/plain": [
       "<Figure size 640x480 with 1 Axes>"
      ]
     },
     "metadata": {},
     "output_type": "display_data"
    }
   ],
   "source": [
    "temp.plot(kind='bar')"
   ]
  },
  {
   "cell_type": "code",
   "execution_count": 78,
   "id": "03cbf62e",
   "metadata": {},
   "outputs": [
    {
     "data": {
      "text/plain": [
       "<Axes: >"
      ]
     },
     "execution_count": 78,
     "metadata": {},
     "output_type": "execute_result"
    },
    {
     "data": {
      "image/png": "[encoded data removed]",
      "text/plain": [
       "<Figure size 640x480 with 1 Axes>"
      ]
     },
     "metadata": {},
     "output_type": "display_data"
    }
   ],
   "source": [
    "# we can also easily plot stack bar graph\n",
    "temp.plot(kind='bar',stacked=True,width=0.7)"
   ]
  },
  {
   "cell_type": "code",
   "execution_count": 96,
   "id": "e1237fb4",
   "metadata": {},
   "outputs": [
    {
     "data": {
      "application/vnd.microsoft.datawrangler.viewer.v0+json": {
       "columns": [
        {
         "name": "index",
         "rawType": "int64",
         "type": "integer"
        },
        {
         "name": "Date",
         "rawType": "object",
         "type": "string"
        },
        {
         "name": "MSFT",
         "rawType": "float64",
         "type": "float"
        },
        {
         "name": "FB",
         "rawType": "float64",
         "type": "float"
        },
        {
         "name": "AAPL",
         "rawType": "float64",
         "type": "float"
        }
       ],
       "conversionMethod": "pd.DataFrame",
       "ref": "73bce394-e5c3-40e7-bc86-8cd7fcff8832",
       "rows": [
        [
         "0",
         "2021-05-24",
         "249.679993",
         "328.730011",
         "124.610001"
        ],
        [
         "1",
         "2021-05-31",
         "250.789993",
         "330.350006",
         "125.889999"
        ],
        [
         "2",
         "2021-06-07",
         "257.890015",
         "331.26001",
         "127.349998"
        ],
        [
         "3",
         "2021-06-14",
         "259.429993",
         "329.660004",
         "130.460007"
        ],
        [
         "4",
         "2021-06-21",
         "265.019989",
         "341.369995",
         "133.110001"
        ],
        [
         "5",
         "2021-06-28",
         "277.649994",
         "354.700012",
         "139.960007"
        ],
        [
         "6",
         "2021-07-05",
         "277.940002",
         "350.420013",
         "145.110001"
        ],
        [
         "7",
         "2021-07-12",
         "280.75",
         "341.160004",
         "146.389999"
        ],
        [
         "8",
         "2021-07-19",
         "289.670013",
         "369.790009",
         "148.559998"
        ],
        [
         "9",
         "2021-07-26",
         "284.910004",
         "356.299988",
         "145.860001"
        ],
        [
         "10",
         "2021-08-02",
         "289.459991",
         "363.51001",
         "146.139999"
        ],
        [
         "11",
         "2021-08-09",
         "292.850006",
         "363.179993",
         "149.100006"
        ],
        [
         "12",
         "2021-08-16",
         "304.359985",
         "359.369995",
         "148.190002"
        ],
        [
         "13",
         "2021-08-23",
         "299.720001",
         "372.630005",
         "148.600006"
        ],
        [
         "14",
         "2021-08-30",
         "301.140015",
         "376.26001",
         "154.300003"
        ],
        [
         "15",
         "2021-09-06",
         "295.709991",
         "378.690002",
         "148.970001"
        ],
        [
         "16",
         "2021-09-13",
         "299.869995",
         "364.720001",
         "146.059998"
        ],
        [
         "17",
         "2021-09-20",
         "299.350006",
         "352.959991",
         "146.919998"
        ],
        [
         "18",
         "2021-09-27",
         "289.100006",
         "343.01001",
         "142.649994"
        ],
        [
         "19",
         "2021-10-04",
         "294.850006",
         "330.049988",
         "142.899994"
        ],
        [
         "20",
         "2021-10-11",
         "304.209991",
         "324.76001",
         "144.839996"
        ],
        [
         "21",
         "2021-10-18",
         "309.160004",
         "324.609985",
         "148.690002"
        ],
        [
         "22",
         "2021-10-25",
         "331.619995",
         "323.570007",
         "149.800003"
        ],
        [
         "23",
         "2021-11-01",
         "336.059998",
         "341.130005",
         "151.279999"
        ],
        [
         "24",
         "2021-11-08",
         "336.720001",
         "340.890015",
         "149.990005"
        ],
        [
         "25",
         "2021-11-15",
         "343.109985",
         "345.299988",
         "160.550003"
        ],
        [
         "26",
         "2021-11-22",
         "329.679993",
         "333.119995",
         "156.809998"
        ],
        [
         "27",
         "2021-11-29",
         "323.01001",
         "306.839996",
         "161.839996"
        ],
        [
         "28",
         "2021-12-06",
         "342.540009",
         "329.75",
         "179.449997"
        ],
        [
         "29",
         "2021-12-13",
         "323.799988",
         "333.790009",
         "171.139999"
        ],
        [
         "30",
         "2021-12-20",
         "334.690002",
         "335.23999",
         "176.279999"
        ],
        [
         "31",
         "2021-12-27",
         "336.320007",
         "336.350006",
         "177.570007"
        ],
        [
         "32",
         "2022-01-03",
         "314.040009",
         "331.790009",
         "172.169998"
        ],
        [
         "33",
         "2022-01-10",
         "310.200012",
         "331.899994",
         "173.070007"
        ],
        [
         "34",
         "2022-01-17",
         "296.029999",
         "303.170013",
         "162.410004"
        ],
        [
         "35",
         "2022-01-24",
         "308.26001",
         "301.709991",
         "170.330002"
        ],
        [
         "36",
         "2022-01-31",
         "305.940002",
         "237.089996",
         "172.389999"
        ],
        [
         "37",
         "2022-02-07",
         "295.040009",
         "219.550003",
         "168.639999"
        ],
        [
         "38",
         "2022-02-14",
         "287.929993",
         "206.160004",
         "167.300003"
        ],
        [
         "39",
         "2022-02-21",
         "297.309998",
         "210.479996",
         "164.850006"
        ],
        [
         "40",
         "2022-02-28",
         "289.859985",
         "200.059998",
         "163.169998"
        ],
        [
         "41",
         "2022-03-07",
         "280.070007",
         "187.610001",
         "154.729996"
        ],
        [
         "42",
         "2022-03-14",
         "300.429993",
         "216.490005",
         "163.979996"
        ],
        [
         "43",
         "2022-03-21",
         "303.679993",
         "221.820007",
         "174.720001"
        ],
        [
         "44",
         "2022-03-28",
         "309.420013",
         "224.850006",
         "174.309998"
        ],
        [
         "45",
         "2022-04-04",
         "296.970001",
         "222.330002",
         "170.089996"
        ],
        [
         "46",
         "2022-04-11",
         "279.829987",
         "210.179993",
         "165.289993"
        ],
        [
         "47",
         "2022-04-18",
         "274.029999",
         "184.110001",
         "161.789993"
        ],
        [
         "48",
         "2022-04-25",
         "277.519989",
         "200.470001",
         "157.649994"
        ],
        [
         "49",
         "2022-05-02",
         "274.730011",
         "203.770004",
         "157.279999"
        ]
       ],
       "shape": {
        "columns": 4,
        "rows": 52
       }
      },
      "text/html": [
       "<div>\n",
       "<style scoped>\n",
       "    .dataframe tbody tr th:only-of-type {\n",
       "        vertical-align: middle;\n",
       "    }\n",
       "\n",
       "    .dataframe tbody tr th {\n",
       "        vertical-align: top;\n",
       "    }\n",
       "\n",
       "    .dataframe thead th {\n",
       "        text-align: right;\n",
       "    }\n",
       "</style>\n",
       "<table border=\"1\" class=\"dataframe\">\n",
       "  <thead>\n",
       "    <tr style=\"text-align: right;\">\n",
       "      <th></th>\n",
       "      <th>Date</th>\n",
       "      <th>MSFT</th>\n",
       "      <th>FB</th>\n",
       "      <th>AAPL</th>\n",
       "    </tr>\n",
       "  </thead>\n",
       "  <tbody>\n",
       "    <tr>\n",
       "      <th>0</th>\n",
       "      <td>2021-05-24</td>\n",
       "      <td>249.679993</td>\n",
       "      <td>328.730011</td>\n",
       "      <td>124.610001</td>\n",
       "    </tr>\n",
       "    <tr>\n",
       "      <th>1</th>\n",
       "      <td>2021-05-31</td>\n",
       "      <td>250.789993</td>\n",
       "      <td>330.350006</td>\n",
       "      <td>125.889999</td>\n",
       "    </tr>\n",
       "    <tr>\n",
       "      <th>2</th>\n",
       "      <td>2021-06-07</td>\n",
       "      <td>257.890015</td>\n",
       "      <td>331.260010</td>\n",
       "      <td>127.349998</td>\n",
       "    </tr>\n",
       "    <tr>\n",
       "      <th>3</th>\n",
       "      <td>2021-06-14</td>\n",
       "      <td>259.429993</td>\n",
       "      <td>329.660004</td>\n",
       "      <td>130.460007</td>\n",
       "    </tr>\n",
       "    <tr>\n",
       "      <th>4</th>\n",
       "      <td>2021-06-21</td>\n",
       "      <td>265.019989</td>\n",
       "      <td>341.369995</td>\n",
       "      <td>133.110001</td>\n",
       "    </tr>\n",
       "    <tr>\n",
       "      <th>5</th>\n",
       "      <td>2021-06-28</td>\n",
       "      <td>277.649994</td>\n",
       "      <td>354.700012</td>\n",
       "      <td>139.960007</td>\n",
       "    </tr>\n",
       "    <tr>\n",
       "      <th>6</th>\n",
       "      <td>2021-07-05</td>\n",
       "      <td>277.940002</td>\n",
       "      <td>350.420013</td>\n",
       "      <td>145.110001</td>\n",
       "    </tr>\n",
       "    <tr>\n",
       "      <th>7</th>\n",
       "      <td>2021-07-12</td>\n",
       "      <td>280.750000</td>\n",
       "      <td>341.160004</td>\n",
       "      <td>146.389999</td>\n",
       "    </tr>\n",
       "    <tr>\n",
       "      <th>8</th>\n",
       "      <td>2021-07-19</td>\n",
       "      <td>289.670013</td>\n",
       "      <td>369.790009</td>\n",
       "      <td>148.559998</td>\n",
       "    </tr>\n",
       "    <tr>\n",
       "      <th>9</th>\n",
       "      <td>2021-07-26</td>\n",
       "      <td>284.910004</td>\n",
       "      <td>356.299988</td>\n",
       "      <td>145.860001</td>\n",
       "    </tr>\n",
       "    <tr>\n",
       "      <th>10</th>\n",
       "      <td>2021-08-02</td>\n",
       "      <td>289.459991</td>\n",
       "      <td>363.510010</td>\n",
       "      <td>146.139999</td>\n",
       "    </tr>\n",
       "    <tr>\n",
       "      <th>11</th>\n",
       "      <td>2021-08-09</td>\n",
       "      <td>292.850006</td>\n",
       "      <td>363.179993</td>\n",
       "      <td>149.100006</td>\n",
       "    </tr>\n",
       "    <tr>\n",
       "      <th>12</th>\n",
       "      <td>2021-08-16</td>\n",
       "      <td>304.359985</td>\n",
       "      <td>359.369995</td>\n",
       "      <td>148.190002</td>\n",
       "    </tr>\n",
       "    <tr>\n",
       "      <th>13</th>\n",
       "      <td>2021-08-23</td>\n",
       "      <td>299.720001</td>\n",
       "      <td>372.630005</td>\n",
       "      <td>148.600006</td>\n",
       "    </tr>\n",
       "    <tr>\n",
       "      <th>14</th>\n",
       "      <td>2021-08-30</td>\n",
       "      <td>301.140015</td>\n",
       "      <td>376.260010</td>\n",
       "      <td>154.300003</td>\n",
       "    </tr>\n",
       "    <tr>\n",
       "      <th>15</th>\n",
       "      <td>2021-09-06</td>\n",
       "      <td>295.709991</td>\n",
       "      <td>378.690002</td>\n",
       "      <td>148.970001</td>\n",
       "    </tr>\n",
       "    <tr>\n",
       "      <th>16</th>\n",
       "      <td>2021-09-13</td>\n",
       "      <td>299.869995</td>\n",
       "      <td>364.720001</td>\n",
       "      <td>146.059998</td>\n",
       "    </tr>\n",
       "    <tr>\n",
       "      <th>17</th>\n",
       "      <td>2021-09-20</td>\n",
       "      <td>299.350006</td>\n",
       "      <td>352.959991</td>\n",
       "      <td>146.919998</td>\n",
       "    </tr>\n",
       "    <tr>\n",
       "      <th>18</th>\n",
       "      <td>2021-09-27</td>\n",
       "      <td>289.100006</td>\n",
       "      <td>343.010010</td>\n",
       "      <td>142.649994</td>\n",
       "    </tr>\n",
       "    <tr>\n",
       "      <th>19</th>\n",
       "      <td>2021-10-04</td>\n",
       "      <td>294.850006</td>\n",
       "      <td>330.049988</td>\n",
       "      <td>142.899994</td>\n",
       "    </tr>\n",
       "    <tr>\n",
       "      <th>20</th>\n",
       "      <td>2021-10-11</td>\n",
       "      <td>304.209991</td>\n",
       "      <td>324.760010</td>\n",
       "      <td>144.839996</td>\n",
       "    </tr>\n",
       "    <tr>\n",
       "      <th>21</th>\n",
       "      <td>2021-10-18</td>\n",
       "      <td>309.160004</td>\n",
       "      <td>324.609985</td>\n",
       "      <td>148.690002</td>\n",
       "    </tr>\n",
       "    <tr>\n",
       "      <th>22</th>\n",
       "      <td>2021-10-25</td>\n",
       "      <td>331.619995</td>\n",
       "      <td>323.570007</td>\n",
       "      <td>149.800003</td>\n",
       "    </tr>\n",
       "    <tr>\n",
       "      <th>23</th>\n",
       "      <td>2021-11-01</td>\n",
       "      <td>336.059998</td>\n",
       "      <td>341.130005</td>\n",
       "      <td>151.279999</td>\n",
       "    </tr>\n",
       "    <tr>\n",
       "      <th>24</th>\n",
       "      <td>2021-11-08</td>\n",
       "      <td>336.720001</td>\n",
       "      <td>340.890015</td>\n",
       "      <td>149.990005</td>\n",
       "    </tr>\n",
       "    <tr>\n",
       "      <th>25</th>\n",
       "      <td>2021-11-15</td>\n",
       "      <td>343.109985</td>\n",
       "      <td>345.299988</td>\n",
       "      <td>160.550003</td>\n",
       "    </tr>\n",
       "    <tr>\n",
       "      <th>26</th>\n",
       "      <td>2021-11-22</td>\n",
       "      <td>329.679993</td>\n",
       "      <td>333.119995</td>\n",
       "      <td>156.809998</td>\n",
       "    </tr>\n",
       "    <tr>\n",
       "      <th>27</th>\n",
       "      <td>2021-11-29</td>\n",
       "      <td>323.010010</td>\n",
       "      <td>306.839996</td>\n",
       "      <td>161.839996</td>\n",
       "    </tr>\n",
       "    <tr>\n",
       "      <th>28</th>\n",
       "      <td>2021-12-06</td>\n",
       "      <td>342.540009</td>\n",
       "      <td>329.750000</td>\n",
       "      <td>179.449997</td>\n",
       "    </tr>\n",
       "    <tr>\n",
       "      <th>29</th>\n",
       "      <td>2021-12-13</td>\n",
       "      <td>323.799988</td>\n",
       "      <td>333.790009</td>\n",
       "      <td>171.139999</td>\n",
       "    </tr>\n",
       "    <tr>\n",
       "      <th>30</th>\n",
       "      <td>2021-12-20</td>\n",
       "      <td>334.690002</td>\n",
       "      <td>335.239990</td>\n",
       "      <td>176.279999</td>\n",
       "    </tr>\n",
       "    <tr>\n",
       "      <th>31</th>\n",
       "      <td>2021-12-27</td>\n",
       "      <td>336.320007</td>\n",
       "      <td>336.350006</td>\n",
       "      <td>177.570007</td>\n",
       "    </tr>\n",
       "    <tr>\n",
       "      <th>32</th>\n",
       "      <td>2022-01-03</td>\n",
       "      <td>314.040009</td>\n",
       "      <td>331.790009</td>\n",
       "      <td>172.169998</td>\n",
       "    </tr>\n",
       "    <tr>\n",
       "      <th>33</th>\n",
       "      <td>2022-01-10</td>\n",
       "      <td>310.200012</td>\n",
       "      <td>331.899994</td>\n",
       "      <td>173.070007</td>\n",
       "    </tr>\n",
       "    <tr>\n",
       "      <th>34</th>\n",
       "      <td>2022-01-17</td>\n",
       "      <td>296.029999</td>\n",
       "      <td>303.170013</td>\n",
       "      <td>162.410004</td>\n",
       "    </tr>\n",
       "    <tr>\n",
       "      <th>35</th>\n",
       "      <td>2022-01-24</td>\n",
       "      <td>308.260010</td>\n",
       "      <td>301.709991</td>\n",
       "      <td>170.330002</td>\n",
       "    </tr>\n",
       "    <tr>\n",
       "      <th>36</th>\n",
       "      <td>2022-01-31</td>\n",
       "      <td>305.940002</td>\n",
       "      <td>237.089996</td>\n",
       "      <td>172.389999</td>\n",
       "    </tr>\n",
       "    <tr>\n",
       "      <th>37</th>\n",
       "      <td>2022-02-07</td>\n",
       "      <td>295.040009</td>\n",
       "      <td>219.550003</td>\n",
       "      <td>168.639999</td>\n",
       "    </tr>\n",
       "    <tr>\n",
       "      <th>38</th>\n",
       "      <td>2022-02-14</td>\n",
       "      <td>287.929993</td>\n",
       "      <td>206.160004</td>\n",
       "      <td>167.300003</td>\n",
       "    </tr>\n",
       "    <tr>\n",
       "      <th>39</th>\n",
       "      <td>2022-02-21</td>\n",
       "      <td>297.309998</td>\n",
       "      <td>210.479996</td>\n",
       "      <td>164.850006</td>\n",
       "    </tr>\n",
       "    <tr>\n",
       "      <th>40</th>\n",
       "      <td>2022-02-28</td>\n",
       "      <td>289.859985</td>\n",
       "      <td>200.059998</td>\n",
       "      <td>163.169998</td>\n",
       "    </tr>\n",
       "    <tr>\n",
       "      <th>41</th>\n",
       "      <td>2022-03-07</td>\n",
       "      <td>280.070007</td>\n",
       "      <td>187.610001</td>\n",
       "      <td>154.729996</td>\n",
       "    </tr>\n",
       "    <tr>\n",
       "      <th>42</th>\n",
       "      <td>2022-03-14</td>\n",
       "      <td>300.429993</td>\n",
       "      <td>216.490005</td>\n",
       "      <td>163.979996</td>\n",
       "    </tr>\n",
       "    <tr>\n",
       "      <th>43</th>\n",
       "      <td>2022-03-21</td>\n",
       "      <td>303.679993</td>\n",
       "      <td>221.820007</td>\n",
       "      <td>174.720001</td>\n",
       "    </tr>\n",
       "    <tr>\n",
       "      <th>44</th>\n",
       "      <td>2022-03-28</td>\n",
       "      <td>309.420013</td>\n",
       "      <td>224.850006</td>\n",
       "      <td>174.309998</td>\n",
       "    </tr>\n",
       "    <tr>\n",
       "      <th>45</th>\n",
       "      <td>2022-04-04</td>\n",
       "      <td>296.970001</td>\n",
       "      <td>222.330002</td>\n",
       "      <td>170.089996</td>\n",
       "    </tr>\n",
       "    <tr>\n",
       "      <th>46</th>\n",
       "      <td>2022-04-11</td>\n",
       "      <td>279.829987</td>\n",
       "      <td>210.179993</td>\n",
       "      <td>165.289993</td>\n",
       "    </tr>\n",
       "    <tr>\n",
       "      <th>47</th>\n",
       "      <td>2022-04-18</td>\n",
       "      <td>274.029999</td>\n",
       "      <td>184.110001</td>\n",
       "      <td>161.789993</td>\n",
       "    </tr>\n",
       "    <tr>\n",
       "      <th>48</th>\n",
       "      <td>2022-04-25</td>\n",
       "      <td>277.519989</td>\n",
       "      <td>200.470001</td>\n",
       "      <td>157.649994</td>\n",
       "    </tr>\n",
       "    <tr>\n",
       "      <th>49</th>\n",
       "      <td>2022-05-02</td>\n",
       "      <td>274.730011</td>\n",
       "      <td>203.770004</td>\n",
       "      <td>157.279999</td>\n",
       "    </tr>\n",
       "    <tr>\n",
       "      <th>50</th>\n",
       "      <td>2022-05-09</td>\n",
       "      <td>261.119995</td>\n",
       "      <td>198.619995</td>\n",
       "      <td>147.110001</td>\n",
       "    </tr>\n",
       "    <tr>\n",
       "      <th>51</th>\n",
       "      <td>2022-05-16</td>\n",
       "      <td>252.559998</td>\n",
       "      <td>193.539993</td>\n",
       "      <td>137.589996</td>\n",
       "    </tr>\n",
       "  </tbody>\n",
       "</table>\n",
       "</div>"
      ],
      "text/plain": [
       "          Date        MSFT          FB        AAPL\n",
       "0   2021-05-24  249.679993  328.730011  124.610001\n",
       "1   2021-05-31  250.789993  330.350006  125.889999\n",
       "2   2021-06-07  257.890015  331.260010  127.349998\n",
       "3   2021-06-14  259.429993  329.660004  130.460007\n",
       "4   2021-06-21  265.019989  341.369995  133.110001\n",
       "5   2021-06-28  277.649994  354.700012  139.960007\n",
       "6   2021-07-05  277.940002  350.420013  145.110001\n",
       "7   2021-07-12  280.750000  341.160004  146.389999\n",
       "8   2021-07-19  289.670013  369.790009  148.559998\n",
       "9   2021-07-26  284.910004  356.299988  145.860001\n",
       "10  2021-08-02  289.459991  363.510010  146.139999\n",
       "11  2021-08-09  292.850006  363.179993  149.100006\n",
       "12  2021-08-16  304.359985  359.369995  148.190002\n",
       "13  2021-08-23  299.720001  372.630005  148.600006\n",
       "14  2021-08-30  301.140015  376.260010  154.300003\n",
       "15  2021-09-06  295.709991  378.690002  148.970001\n",
       "16  2021-09-13  299.869995  364.720001  146.059998\n",
       "17  2021-09-20  299.350006  352.959991  146.919998\n",
       "18  2021-09-27  289.100006  343.010010  142.649994\n",
       "19  2021-10-04  294.850006  330.049988  142.899994\n",
       "20  2021-10-11  304.209991  324.760010  144.839996\n",
       "21  2021-10-18  309.160004  324.609985  148.690002\n",
       "22  2021-10-25  331.619995  323.570007  149.800003\n",
       "23  2021-11-01  336.059998  341.130005  151.279999\n",
       "24  2021-11-08  336.720001  340.890015  149.990005\n",
       "25  2021-11-15  343.109985  345.299988  160.550003\n",
       "26  2021-11-22  329.679993  333.119995  156.809998\n",
       "27  2021-11-29  323.010010  306.839996  161.839996\n",
       "28  2021-12-06  342.540009  329.750000  179.449997\n",
       "29  2021-12-13  323.799988  333.790009  171.139999\n",
       "30  2021-12-20  334.690002  335.239990  176.279999\n",
       "31  2021-12-27  336.320007  336.350006  177.570007\n",
       "32  2022-01-03  314.040009  331.790009  172.169998\n",
       "33  2022-01-10  310.200012  331.899994  173.070007\n",
       "34  2022-01-17  296.029999  303.170013  162.410004\n",
       "35  2022-01-24  308.260010  301.709991  170.330002\n",
       "36  2022-01-31  305.940002  237.089996  172.389999\n",
       "37  2022-02-07  295.040009  219.550003  168.639999\n",
       "38  2022-02-14  287.929993  206.160004  167.300003\n",
       "39  2022-02-21  297.309998  210.479996  164.850006\n",
       "40  2022-02-28  289.859985  200.059998  163.169998\n",
       "41  2022-03-07  280.070007  187.610001  154.729996\n",
       "42  2022-03-14  300.429993  216.490005  163.979996\n",
       "43  2022-03-21  303.679993  221.820007  174.720001\n",
       "44  2022-03-28  309.420013  224.850006  174.309998\n",
       "45  2022-04-04  296.970001  222.330002  170.089996\n",
       "46  2022-04-11  279.829987  210.179993  165.289993\n",
       "47  2022-04-18  274.029999  184.110001  161.789993\n",
       "48  2022-04-25  277.519989  200.470001  157.649994\n",
       "49  2022-05-02  274.730011  203.770004  157.279999\n",
       "50  2022-05-09  261.119995  198.619995  147.110001\n",
       "51  2022-05-16  252.559998  193.539993  137.589996"
      ]
     },
     "execution_count": 96,
     "metadata": {},
     "output_type": "execute_result"
    }
   ],
   "source": [
    "# histogram \n",
    "stocks"
   ]
  },
  {
   "cell_type": "code",
   "execution_count": null,
   "id": "17043238",
   "metadata": {},
   "outputs": [
    {
     "data": {
      "text/plain": [
       "<Axes: ylabel='Frequency'>"
      ]
     },
     "execution_count": 97,
     "metadata": {},
     "output_type": "execute_result"
    },
    {
     "data": {
      "image/png": "[encoded data removed]",
      "text/plain": [
       "<Figure size 640x480 with 1 Axes>"
      ]
     },
     "metadata": {},
     "output_type": "display_data"
    }
   ],
   "source": [
    "stocks.plot(kind='hist') # basically this telling us how many times for each column particaular value occured, \n",
    "# for example, in AAPL values < 150 have frequency 25"
   ]
  },
  {
   "cell_type": "code",
   "execution_count": null,
   "id": "bbf22f6c",
   "metadata": {},
   "outputs": [
    {
     "data": {
      "text/plain": [
       "array([<Axes: ylabel='Frequency'>, <Axes: ylabel='Frequency'>,\n",
       "       <Axes: ylabel='Frequency'>], dtype=object)"
      ]
     },
     "execution_count": 92,
     "metadata": {},
     "output_type": "execute_result"
    },
    {
     "data": {
      "image/png": "[encoded data removed]",
      "text/plain": [
       "<Figure size 1200x700 with 3 Axes>"
      ]
     },
     "metadata": {},
     "output_type": "display_data"
    }
   ],
   "source": [
    "stocks.plot(kind='hist',bins=10,subplots=True,figsize=(12,7)) # subplot = True will make graph separately for each column"
   ]
  },
  {
   "cell_type": "code",
   "execution_count": 142,
   "id": "f2f97ba6",
   "metadata": {},
   "outputs": [
    {
     "name": "stderr",
     "output_type": "stream",
     "text": [
      "C:\\Users\\Vedansh\\AppData\\Local\\Temp\\ipykernel_37512\\13854349.py:2: FutureWarning: The default of observed=False is deprecated and will be changed to True in a future version of pandas. Pass observed=False to retain current behavior or observed=True to adopt the future default and silence this warning.\n",
      "  tips.groupby(['sex','smoker'])['total_bill'].sum().reindex(index=[('Male', 'Yes'), ('Male', 'No'), ('Female', 'Yes'), ('Female', 'No')]).plot(kind='pie',autopct='%1.1f%%')\n"
     ]
    },
    {
     "data": {
      "text/plain": [
       "<Axes: ylabel='total_bill'>"
      ]
     },
     "execution_count": 142,
     "metadata": {},
     "output_type": "execute_result"
    },
    {
     "data": {
      "image/png": "[encoded data removed]",
      "text/plain": [
       "<Figure size 640x480 with 1 Axes>"
      ]
     },
     "metadata": {},
     "output_type": "display_data"
    }
   ],
   "source": [
    "# pie chart\n",
    "tips.groupby(['sex','smoker'])['total_bill'].sum().reindex(index=[('Male', 'Yes'), ('Male', 'No'), ('Female', 'Yes'), ('Female', 'No')]).plot(kind='pie',autopct='%1.1f%%')"
   ]
  },
  {
   "cell_type": "code",
   "execution_count": null,
   "id": "b7e2376f",
   "metadata": {},
   "outputs": [
    {
     "data": {
      "text/plain": [
       "array([<Axes: ylabel='Frequency'>, <Axes: ylabel='Frequency'>,\n",
       "       <Axes: ylabel='Frequency'>], dtype=object)"
      ]
     },
     "execution_count": 145,
     "metadata": {},
     "output_type": "execute_result"
    },
    {
     "data": {
      "image/png": "[encoded data removed]",
      "text/plain": [
       "<Figure size 640x480 with 3 Axes>"
      ]
     },
     "metadata": {},
     "output_type": "display_data"
    }
   ],
   "source": [
    "# multiple pie charts -> https://www.youtube.com/live/7YDc5xU9CQQ?si=r0kgMHtvOfEX27D3&t=7347\n",
    "stocks.plot(kind='hist',subplots=True) # so subplots=True will make graph separately for each column"
   ]
  },
  {
   "cell_type": "code",
   "execution_count": null,
   "id": "a7ef47b9",
   "metadata": {},
   "outputs": [
    {
     "name": "stderr",
     "output_type": "stream",
     "text": [
      "C:\\Users\\Vedansh\\AppData\\Local\\Temp\\ipykernel_37512\\653357059.py:2: FutureWarning: The default value of observed=False is deprecated and will change to observed=True in a future version of pandas. Specify observed=False to silence this warning and retain the current behavior\n",
      "  tips.pivot_table(index=['day','time'], columns=['sex','smoker'],values='total_bill',aggfunc='sum')\n"
     ]
    },
    {
     "data": {
      "application/vnd.microsoft.datawrangler.viewer.v0+json": {
       "columns": [
        {
         "name": "('day', 'time')",
         "rawType": "object",
         "type": "unknown"
        },
        {
         "name": "('Male', 'Yes')",
         "rawType": "float64",
         "type": "float"
        },
        {
         "name": "('Male', 'No')",
         "rawType": "float64",
         "type": "float"
        },
        {
         "name": "('Female', 'Yes')",
         "rawType": "float64",
         "type": "float"
        },
        {
         "name": "('Female', 'No')",
         "rawType": "float64",
         "type": "float"
        }
       ],
       "conversionMethod": "pd.DataFrame",
       "ref": "0a218d43-2320-4eee-8b81-be3f398d5d60",
       "rows": [
        [
         "('Thur', 'Lunch')",
         "191.71",
         "369.73",
         "134.53",
         "381.58"
        ],
        [
         "('Thur', 'Dinner')",
         "0.0",
         "0.0",
         "0.0",
         "18.78"
        ],
        [
         "('Fri', 'Lunch')",
         "34.16",
         "0.0",
         "39.78",
         "15.98"
        ],
        [
         "('Fri', 'Dinner')",
         "129.46",
         "34.95",
         "48.8",
         "22.75"
        ],
        [
         "('Sat', 'Lunch')",
         "0.0",
         "0.0",
         "0.0",
         "0.0"
        ],
        [
         "('Sat', 'Dinner')",
         "589.62",
         "637.73",
         "304.0",
         "247.05"
        ],
        [
         "('Sun', 'Lunch')",
         "0.0",
         "0.0",
         "0.0",
         "0.0"
        ],
        [
         "('Sun', 'Dinner')",
         "392.12",
         "877.34",
         "66.16",
         "291.54"
        ]
       ],
       "shape": {
        "columns": 4,
        "rows": 8
       }
      },
      "text/html": [
       "<div>\n",
       "<style scoped>\n",
       "    .dataframe tbody tr th:only-of-type {\n",
       "        vertical-align: middle;\n",
       "    }\n",
       "\n",
       "    .dataframe tbody tr th {\n",
       "        vertical-align: top;\n",
       "    }\n",
       "\n",
       "    .dataframe thead tr th {\n",
       "        text-align: left;\n",
       "    }\n",
       "\n",
       "    .dataframe thead tr:last-of-type th {\n",
       "        text-align: right;\n",
       "    }\n",
       "</style>\n",
       "<table border=\"1\" class=\"dataframe\">\n",
       "  <thead>\n",
       "    <tr>\n",
       "      <th></th>\n",
       "      <th>sex</th>\n",
       "      <th colspan=\"2\" halign=\"left\">Male</th>\n",
       "      <th colspan=\"2\" halign=\"left\">Female</th>\n",
       "    </tr>\n",
       "    <tr>\n",
       "      <th></th>\n",
       "      <th>smoker</th>\n",
       "      <th>Yes</th>\n",
       "      <th>No</th>\n",
       "      <th>Yes</th>\n",
       "      <th>No</th>\n",
       "    </tr>\n",
       "    <tr>\n",
       "      <th>day</th>\n",
       "      <th>time</th>\n",
       "      <th></th>\n",
       "      <th></th>\n",
       "      <th></th>\n",
       "      <th></th>\n",
       "    </tr>\n",
       "  </thead>\n",
       "  <tbody>\n",
       "    <tr>\n",
       "      <th rowspan=\"2\" valign=\"top\">Thur</th>\n",
       "      <th>Lunch</th>\n",
       "      <td>191.71</td>\n",
       "      <td>369.73</td>\n",
       "      <td>134.53</td>\n",
       "      <td>381.58</td>\n",
       "    </tr>\n",
       "    <tr>\n",
       "      <th>Dinner</th>\n",
       "      <td>0.00</td>\n",
       "      <td>0.00</td>\n",
       "      <td>0.00</td>\n",
       "      <td>18.78</td>\n",
       "    </tr>\n",
       "    <tr>\n",
       "      <th rowspan=\"2\" valign=\"top\">Fri</th>\n",
       "      <th>Lunch</th>\n",
       "      <td>34.16</td>\n",
       "      <td>0.00</td>\n",
       "      <td>39.78</td>\n",
       "      <td>15.98</td>\n",
       "    </tr>\n",
       "    <tr>\n",
       "      <th>Dinner</th>\n",
       "      <td>129.46</td>\n",
       "      <td>34.95</td>\n",
       "      <td>48.80</td>\n",
       "      <td>22.75</td>\n",
       "    </tr>\n",
       "    <tr>\n",
       "      <th rowspan=\"2\" valign=\"top\">Sat</th>\n",
       "      <th>Lunch</th>\n",
       "      <td>0.00</td>\n",
       "      <td>0.00</td>\n",
       "      <td>0.00</td>\n",
       "      <td>0.00</td>\n",
       "    </tr>\n",
       "    <tr>\n",
       "      <th>Dinner</th>\n",
       "      <td>589.62</td>\n",
       "      <td>637.73</td>\n",
       "      <td>304.00</td>\n",
       "      <td>247.05</td>\n",
       "    </tr>\n",
       "    <tr>\n",
       "      <th rowspan=\"2\" valign=\"top\">Sun</th>\n",
       "      <th>Lunch</th>\n",
       "      <td>0.00</td>\n",
       "      <td>0.00</td>\n",
       "      <td>0.00</td>\n",
       "      <td>0.00</td>\n",
       "    </tr>\n",
       "    <tr>\n",
       "      <th>Dinner</th>\n",
       "      <td>392.12</td>\n",
       "      <td>877.34</td>\n",
       "      <td>66.16</td>\n",
       "      <td>291.54</td>\n",
       "    </tr>\n",
       "  </tbody>\n",
       "</table>\n",
       "</div>"
      ],
      "text/plain": [
       "sex            Male          Female        \n",
       "smoker          Yes      No     Yes      No\n",
       "day  time                                  \n",
       "Thur Lunch   191.71  369.73  134.53  381.58\n",
       "     Dinner    0.00    0.00    0.00   18.78\n",
       "Fri  Lunch    34.16    0.00   39.78   15.98\n",
       "     Dinner  129.46   34.95   48.80   22.75\n",
       "Sat  Lunch     0.00    0.00    0.00    0.00\n",
       "     Dinner  589.62  637.73  304.00  247.05\n",
       "Sun  Lunch     0.00    0.00    0.00    0.00\n",
       "     Dinner  392.12  877.34   66.16  291.54"
      ]
     },
     "execution_count": 147,
     "metadata": {},
     "output_type": "execute_result"
    }
   ],
   "source": [
    "# plotting on multindex dataframes -> https://www.youtube.com/live/7YDc5xU9CQQ?si=FtABK7Dyo-TUqMVZ&t=7457\n",
    "tips.pivot_table(index=['day','time'], columns=['sex','smoker'],values='total_bill',aggfunc='sum')"
   ]
  },
  {
   "cell_type": "code",
   "execution_count": 150,
   "id": "93b71f1e",
   "metadata": {},
   "outputs": [
    {
     "name": "stderr",
     "output_type": "stream",
     "text": [
      "C:\\Users\\Vedansh\\AppData\\Local\\Temp\\ipykernel_37512\\2874496414.py:1: FutureWarning: The default value of observed=False is deprecated and will change to observed=True in a future version of pandas. Specify observed=False to silence this warning and retain the current behavior\n",
      "  tips.pivot_table(index=['day','time'], columns=['sex','smoker'],values='total_bill',aggfunc='sum').plot(kind='bar')\n"
     ]
    },
    {
     "data": {
      "text/plain": [
       "<Axes: xlabel='day,time'>"
      ]
     },
     "execution_count": 150,
     "metadata": {},
     "output_type": "execute_result"
    },
    {
     "data": {
      "image/png": "[encoded data removed]",
      "text/plain": [
       "<Figure size 640x480 with 1 Axes>"
      ]
     },
     "metadata": {},
     "output_type": "display_data"
    }
   ],
   "source": [
    "tips.pivot_table(index=['day','time'], columns=['sex','smoker'],values='total_bill',aggfunc='sum').plot(kind='bar')"
   ]
  },
  {
   "cell_type": "code",
   "execution_count": null,
   "id": "a1e25b47",
   "metadata": {},
   "outputs": [
    {
     "name": "stderr",
     "output_type": "stream",
     "text": [
      "C:\\Users\\Vedansh\\AppData\\Local\\Temp\\ipykernel_37512\\1919823957.py:1: FutureWarning: The default value of observed=False is deprecated and will change to observed=True in a future version of pandas. Specify observed=False to silence this warning and retain the current behavior\n",
      "  tips.pivot_table(index=['day','time'], columns=['sex','smoker'],values='total_bill',aggfunc='sum').plot(kind='bar',subplots=True)\n"
     ]
    },
    {
     "data": {
      "text/plain": [
       "array([<Axes: title={'center': '(Male, Yes)'}, xlabel='day,time'>,\n",
       "       <Axes: title={'center': '(Male, No)'}, xlabel='day,time'>,\n",
       "       <Axes: title={'center': '(Female, Yes)'}, xlabel='day,time'>,\n",
       "       <Axes: title={'center': '(Female, No)'}, xlabel='day,time'>],\n",
       "      dtype=object)"
      ]
     },
     "execution_count": 151,
     "metadata": {},
     "output_type": "execute_result"
    },
    {
     "data": {
      "image/png": "[encoded data removed]",
      "text/plain": [
       "<Figure size 640x480 with 4 Axes>"
      ]
     },
     "metadata": {},
     "output_type": "display_data"
    }
   ],
   "source": [
    "tips.pivot_table(index=['day','time'], columns=['sex','smoker'],values='total_bill',aggfunc='sum').plot(kind='bar',subplots=True)\n",
    "# so this will make separate graph for each combination(every column)"
   ]
  }
 ],
 "metadata": {
  "kernelspec": {
   "display_name": "Python 3",
   "language": "python",
   "name": "python3"
  },
  "language_info": {
   "codemirror_mode": {
    "name": "ipython",
    "version": 3
   },
   "file_extension": ".py",
   "mimetype": "text/x-python",
   "name": "python",
   "nbconvert_exporter": "python",
   "pygments_lexer": "ipython3",
   "version": "3.13.2"
  }
 },
 "nbformat": 4,
 "nbformat_minor": 5
}
