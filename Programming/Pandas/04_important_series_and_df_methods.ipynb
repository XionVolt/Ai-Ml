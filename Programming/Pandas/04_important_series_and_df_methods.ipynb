{
 "cells": [
  {
   "cell_type": "code",
   "execution_count": null,
   "id": "babfe759",
   "metadata": {},
   "outputs": [],
   "source": [
    "# value_counts (series and dataframe) -> https://www.youtube.com/live/zTa4MIrGTIE?si=lJzXh08i8a-sZjMn&t=457\n",
    "# sort_values (series and dataframe) -> https://www.youtube.com/live/zTa4MIrGTIE?si=Ln2ayAqaxgoLUyWU&t=1657\n",
    "# rank (series) -> https://www.youtube.com/live/zTa4MIrGTIE?si=C5bVkyZ5y3URWq3k&t=2197\n",
    "# sort_index (series and dataframe) -> https://www.youtube.com/live/zTa4MIrGTIE?si=CC2yqbX4WRf4ya2t&t=2577\n",
    "# set_index (dataframe) -> https://www.youtube.com/live/zTa4MIrGTIE?si=xXseRDnoyBgDd7JK&t=2937\n",
    "# rename -> (series and dataframe)\n",
    "# reset_index -> (series and dataframe) https://www.youtube.com/live/zTa4MIrGTIE?si=uR5FRVTfJweDPj3D&t=3087\n",
    "# unique ->  (series) https://www.youtube.com/live/zTa4MIrGTIE?si=HtI0I4tK4WxbwvEV&t=3707\n",
    "# nunique -> (series) https://www.youtube.com/live/zTa4MIrGTIE?si=XV5sqkUg0z9DP6Rx&t=3907\n",
    "# isnull(s and d)/notnull(s and d)/hasnans(s)  -> https://www.youtube.com/live/zTa4MIrGTIE?si=cW8_QtOVLy0ptij0&t=4137\n",
    "# dropna -> (series and dataframe) ->https://www.youtube.com/live/zTa4MIrGTIE?si=xUYJHm4HZaywRkVC&t=4497\n",
    "# fillna -> (series and dataframe) -> https://www.youtube.com/live/zTa4MIrGTIE?si=kkLOhQ8N-YsIRXfT&t=5057\n",
    "#       `----> ffill, bfill,  -> (series and dataframe) -> forward fill, backward fill\n",
    "# duplicated (series and dataframe) -> https://www.youtube.com/live/zTa4MIrGTIE?si=Ifq1aBzUrmRa9akD&t=5417\n",
    "# drop_duplicates (series and dataframe) -> https://www.youtube.com/live/zTa4MIrGTIE?si=s608srdGOMkaSnOL&t=5387\n",
    "# drop\n",
    "# apply\n",
    "# isin\n",
    "# corr\n",
    "# nlargest -> nsmallest\n",
    "# insert\n",
    "# copy\n"
   ]
  },
  {
   "cell_type": "code",
   "execution_count": 4,
   "id": "a55baa8c",
   "metadata": {},
   "outputs": [],
   "source": [
    "import numpy as np\n",
    "import pandas as pd"
   ]
  },
  {
   "cell_type": "code",
   "execution_count": 5,
   "id": "a498c68c",
   "metadata": {},
   "outputs": [
    {
     "data": {
      "application/vnd.microsoft.datawrangler.viewer.v0+json": {
       "columns": [
        {
         "name": "index",
         "rawType": "int64",
         "type": "integer"
        },
        {
         "name": "Language",
         "rawType": "object",
         "type": "string"
        },
        {
         "name": "Year",
         "rawType": "int64",
         "type": "integer"
        },
        {
         "name": "Feeling",
         "rawType": "object",
         "type": "string"
        }
       ],
       "conversionMethod": "pd.DataFrame",
       "ref": "65863f7e-96f1-4aaa-97ed-612ba1f74953",
       "rows": [
        [
         "0",
         "Python",
         "1992",
         "Golden💛"
        ],
        [
         "1",
         "JS",
         "1995",
         "WebGod🕸️"
        ],
        [
         "2",
         "C++",
         "1986",
         "Pointers👈🏻👉🏻👈🏻🫵🏻👆🏻👇🏻"
        ],
        [
         "3",
         "C",
         "1980",
         "Creator⚡"
        ]
       ],
       "shape": {
        "columns": 3,
        "rows": 4
       }
      },
      "text/html": [
       "<div>\n",
       "<style scoped>\n",
       "    .dataframe tbody tr th:only-of-type {\n",
       "        vertical-align: middle;\n",
       "    }\n",
       "\n",
       "    .dataframe tbody tr th {\n",
       "        vertical-align: top;\n",
       "    }\n",
       "\n",
       "    .dataframe thead th {\n",
       "        text-align: right;\n",
       "    }\n",
       "</style>\n",
       "<table border=\"1\" class=\"dataframe\">\n",
       "  <thead>\n",
       "    <tr style=\"text-align: right;\">\n",
       "      <th></th>\n",
       "      <th>Language</th>\n",
       "      <th>Year</th>\n",
       "      <th>Feeling</th>\n",
       "    </tr>\n",
       "  </thead>\n",
       "  <tbody>\n",
       "    <tr>\n",
       "      <th>0</th>\n",
       "      <td>Python</td>\n",
       "      <td>1992</td>\n",
       "      <td>Golden💛</td>\n",
       "    </tr>\n",
       "    <tr>\n",
       "      <th>1</th>\n",
       "      <td>JS</td>\n",
       "      <td>1995</td>\n",
       "      <td>WebGod🕸️</td>\n",
       "    </tr>\n",
       "    <tr>\n",
       "      <th>2</th>\n",
       "      <td>C++</td>\n",
       "      <td>1986</td>\n",
       "      <td>Pointers👈🏻👉🏻👈🏻🫵🏻👆🏻👇🏻</td>\n",
       "    </tr>\n",
       "    <tr>\n",
       "      <th>3</th>\n",
       "      <td>C</td>\n",
       "      <td>1980</td>\n",
       "      <td>Creator⚡</td>\n",
       "    </tr>\n",
       "  </tbody>\n",
       "</table>\n",
       "</div>"
      ],
      "text/plain": [
       "  Language  Year               Feeling\n",
       "0   Python  1992               Golden💛\n",
       "1       JS  1995              WebGod🕸️\n",
       "2      C++  1986  Pointers👈🏻👉🏻👈🏻🫵🏻👆🏻👇🏻\n",
       "3        C  1980              Creator⚡"
      ]
     },
     "execution_count": 5,
     "metadata": {},
     "output_type": "execute_result"
    }
   ],
   "source": [
    "\n",
    "langs = pd.read_csv('languages_perferences.csv')\n",
    "langs"
   ]
  },
  {
   "cell_type": "code",
   "execution_count": 6,
   "id": "f7a17fb4",
   "metadata": {},
   "outputs": [
    {
     "data": {
      "text/plain": [
       "Language  Year  Feeling             \n",
       "C         1980  Creator⚡                1\n",
       "C++       1986  Pointers👈🏻👉🏻👈🏻🫵🏻👆🏻👇🏻    1\n",
       "JS        1995  WebGod🕸️                1\n",
       "Python    1992  Golden💛                 1\n",
       "Name: count, dtype: int64"
      ]
     },
     "execution_count": 6,
     "metadata": {},
     "output_type": "execute_result"
    }
   ],
   "source": [
    "# value_counts (series and dataframe) , so in series it tell how many times each value occur, and in df it tells how many times each row occurs\n",
    "langs.value_counts()"
   ]
  },
  {
   "cell_type": "code",
   "execution_count": 7,
   "id": "0fab0fc7",
   "metadata": {},
   "outputs": [
    {
     "data": {
      "application/vnd.microsoft.datawrangler.viewer.v0+json": {
       "columns": [
        {
         "name": "index",
         "rawType": "int64",
         "type": "integer"
        },
        {
         "name": "Language",
         "rawType": "object",
         "type": "string"
        },
        {
         "name": "Year",
         "rawType": "int64",
         "type": "integer"
        },
        {
         "name": "Feeling",
         "rawType": "object",
         "type": "string"
        }
       ],
       "conversionMethod": "pd.DataFrame",
       "ref": "a2ceea67-1b54-44b0-ad38-eca266624160",
       "rows": [
        [
         "1",
         "JS",
         "1995",
         "WebGod🕸️"
        ],
        [
         "0",
         "Python",
         "1992",
         "Golden💛"
        ],
        [
         "2",
         "C++",
         "1986",
         "Pointers👈🏻👉🏻👈🏻🫵🏻👆🏻👇🏻"
        ],
        [
         "3",
         "C",
         "1980",
         "Creator⚡"
        ]
       ],
       "shape": {
        "columns": 3,
        "rows": 4
       }
      },
      "text/html": [
       "<div>\n",
       "<style scoped>\n",
       "    .dataframe tbody tr th:only-of-type {\n",
       "        vertical-align: middle;\n",
       "    }\n",
       "\n",
       "    .dataframe tbody tr th {\n",
       "        vertical-align: top;\n",
       "    }\n",
       "\n",
       "    .dataframe thead th {\n",
       "        text-align: right;\n",
       "    }\n",
       "</style>\n",
       "<table border=\"1\" class=\"dataframe\">\n",
       "  <thead>\n",
       "    <tr style=\"text-align: right;\">\n",
       "      <th></th>\n",
       "      <th>Language</th>\n",
       "      <th>Year</th>\n",
       "      <th>Feeling</th>\n",
       "    </tr>\n",
       "  </thead>\n",
       "  <tbody>\n",
       "    <tr>\n",
       "      <th>1</th>\n",
       "      <td>JS</td>\n",
       "      <td>1995</td>\n",
       "      <td>WebGod🕸️</td>\n",
       "    </tr>\n",
       "    <tr>\n",
       "      <th>0</th>\n",
       "      <td>Python</td>\n",
       "      <td>1992</td>\n",
       "      <td>Golden💛</td>\n",
       "    </tr>\n",
       "    <tr>\n",
       "      <th>2</th>\n",
       "      <td>C++</td>\n",
       "      <td>1986</td>\n",
       "      <td>Pointers👈🏻👉🏻👈🏻🫵🏻👆🏻👇🏻</td>\n",
       "    </tr>\n",
       "    <tr>\n",
       "      <th>3</th>\n",
       "      <td>C</td>\n",
       "      <td>1980</td>\n",
       "      <td>Creator⚡</td>\n",
       "    </tr>\n",
       "  </tbody>\n",
       "</table>\n",
       "</div>"
      ],
      "text/plain": [
       "  Language  Year               Feeling\n",
       "1       JS  1995              WebGod🕸️\n",
       "0   Python  1992               Golden💛\n",
       "2      C++  1986  Pointers👈🏻👉🏻👈🏻🫵🏻👆🏻👇🏻\n",
       "3        C  1980              Creator⚡"
      ]
     },
     "execution_count": 7,
     "metadata": {},
     "output_type": "execute_result"
    }
   ],
   "source": [
    "\n",
    "# sort values\n",
    "langs.sort_values(by='Year',ascending=False) # if we not give by parameter then it will sort by first column by default\n",
    "# if yourr df has missing values and you wanna sort them then use `na_position='first'` or `na_position='last'` is default"
   ]
  },
  {
   "cell_type": "code",
   "execution_count": 8,
   "id": "a00d05d3",
   "metadata": {},
   "outputs": [
    {
     "data": {
      "application/vnd.microsoft.datawrangler.viewer.v0+json": {
       "columns": [
        {
         "name": "index",
         "rawType": "int64",
         "type": "integer"
        },
        {
         "name": "Language",
         "rawType": "object",
         "type": "string"
        },
        {
         "name": "Year",
         "rawType": "int64",
         "type": "integer"
        },
        {
         "name": "Feeling",
         "rawType": "object",
         "type": "string"
        }
       ],
       "conversionMethod": "pd.DataFrame",
       "ref": "2aec238d-1bc6-4bdc-a581-8f874c625a4b",
       "rows": [
        [
         "1",
         "JS",
         "1995",
         "WebGod🕸️"
        ],
        [
         "0",
         "Python",
         "1992",
         "Golden💛"
        ],
        [
         "2",
         "C++",
         "1986",
         "Pointers👈🏻👉🏻👈🏻🫵🏻👆🏻👇🏻"
        ],
        [
         "3",
         "C",
         "1980",
         "Creator⚡"
        ]
       ],
       "shape": {
        "columns": 3,
        "rows": 4
       }
      },
      "text/html": [
       "<div>\n",
       "<style scoped>\n",
       "    .dataframe tbody tr th:only-of-type {\n",
       "        vertical-align: middle;\n",
       "    }\n",
       "\n",
       "    .dataframe tbody tr th {\n",
       "        vertical-align: top;\n",
       "    }\n",
       "\n",
       "    .dataframe thead th {\n",
       "        text-align: right;\n",
       "    }\n",
       "</style>\n",
       "<table border=\"1\" class=\"dataframe\">\n",
       "  <thead>\n",
       "    <tr style=\"text-align: right;\">\n",
       "      <th></th>\n",
       "      <th>Language</th>\n",
       "      <th>Year</th>\n",
       "      <th>Feeling</th>\n",
       "    </tr>\n",
       "  </thead>\n",
       "  <tbody>\n",
       "    <tr>\n",
       "      <th>1</th>\n",
       "      <td>JS</td>\n",
       "      <td>1995</td>\n",
       "      <td>WebGod🕸️</td>\n",
       "    </tr>\n",
       "    <tr>\n",
       "      <th>0</th>\n",
       "      <td>Python</td>\n",
       "      <td>1992</td>\n",
       "      <td>Golden💛</td>\n",
       "    </tr>\n",
       "    <tr>\n",
       "      <th>2</th>\n",
       "      <td>C++</td>\n",
       "      <td>1986</td>\n",
       "      <td>Pointers👈🏻👉🏻👈🏻🫵🏻👆🏻👇🏻</td>\n",
       "    </tr>\n",
       "    <tr>\n",
       "      <th>3</th>\n",
       "      <td>C</td>\n",
       "      <td>1980</td>\n",
       "      <td>Creator⚡</td>\n",
       "    </tr>\n",
       "  </tbody>\n",
       "</table>\n",
       "</div>"
      ],
      "text/plain": [
       "  Language  Year               Feeling\n",
       "1       JS  1995              WebGod🕸️\n",
       "0   Python  1992               Golden💛\n",
       "2      C++  1986  Pointers👈🏻👉🏻👈🏻🫵🏻👆🏻👇🏻\n",
       "3        C  1980              Creator⚡"
      ]
     },
     "execution_count": 8,
     "metadata": {},
     "output_type": "execute_result"
    }
   ],
   "source": [
    "# you can also specify by multiple columns, see this example in the video clip ->  https://www.youtube.com/live/zTa4MIrGTIE?si=h0sz8gsWgtqdCguD&t=1877\n",
    "\n",
    "# here we say if by year(descending) if value is same then sort by language(ascending)\n",
    "langs.sort_values(by=['Year','Language'],ascending=[False,True]) \n"
   ]
  },
  {
   "cell_type": "code",
   "execution_count": 9,
   "id": "cbfdd89e",
   "metadata": {},
   "outputs": [
    {
     "data": {
      "application/vnd.microsoft.datawrangler.viewer.v0+json": {
       "columns": [
        {
         "name": "index",
         "rawType": "int64",
         "type": "integer"
        },
        {
         "name": "Language",
         "rawType": "object",
         "type": "string"
        },
        {
         "name": "Year",
         "rawType": "int64",
         "type": "integer"
        },
        {
         "name": "Feeling",
         "rawType": "object",
         "type": "string"
        },
        {
         "name": "rank",
         "rawType": "float64",
         "type": "float"
        }
       ],
       "conversionMethod": "pd.DataFrame",
       "ref": "518c399b-f83e-40f1-9b78-2b9b585e59a6",
       "rows": [
        [
         "0",
         "Python",
         "1992",
         "Golden💛",
         "2.0"
        ],
        [
         "1",
         "JS",
         "1995",
         "WebGod🕸️",
         "1.0"
        ],
        [
         "2",
         "C++",
         "1986",
         "Pointers👈🏻👉🏻👈🏻🫵🏻👆🏻👇🏻",
         "3.0"
        ],
        [
         "3",
         "C",
         "1980",
         "Creator⚡",
         "4.0"
        ]
       ],
       "shape": {
        "columns": 4,
        "rows": 4
       }
      },
      "text/html": [
       "<div>\n",
       "<style scoped>\n",
       "    .dataframe tbody tr th:only-of-type {\n",
       "        vertical-align: middle;\n",
       "    }\n",
       "\n",
       "    .dataframe tbody tr th {\n",
       "        vertical-align: top;\n",
       "    }\n",
       "\n",
       "    .dataframe thead th {\n",
       "        text-align: right;\n",
       "    }\n",
       "</style>\n",
       "<table border=\"1\" class=\"dataframe\">\n",
       "  <thead>\n",
       "    <tr style=\"text-align: right;\">\n",
       "      <th></th>\n",
       "      <th>Language</th>\n",
       "      <th>Year</th>\n",
       "      <th>Feeling</th>\n",
       "      <th>rank</th>\n",
       "    </tr>\n",
       "  </thead>\n",
       "  <tbody>\n",
       "    <tr>\n",
       "      <th>0</th>\n",
       "      <td>Python</td>\n",
       "      <td>1992</td>\n",
       "      <td>Golden💛</td>\n",
       "      <td>2.0</td>\n",
       "    </tr>\n",
       "    <tr>\n",
       "      <th>1</th>\n",
       "      <td>JS</td>\n",
       "      <td>1995</td>\n",
       "      <td>WebGod🕸️</td>\n",
       "      <td>1.0</td>\n",
       "    </tr>\n",
       "    <tr>\n",
       "      <th>2</th>\n",
       "      <td>C++</td>\n",
       "      <td>1986</td>\n",
       "      <td>Pointers👈🏻👉🏻👈🏻🫵🏻👆🏻👇🏻</td>\n",
       "      <td>3.0</td>\n",
       "    </tr>\n",
       "    <tr>\n",
       "      <th>3</th>\n",
       "      <td>C</td>\n",
       "      <td>1980</td>\n",
       "      <td>Creator⚡</td>\n",
       "      <td>4.0</td>\n",
       "    </tr>\n",
       "  </tbody>\n",
       "</table>\n",
       "</div>"
      ],
      "text/plain": [
       "  Language  Year               Feeling  rank\n",
       "0   Python  1992               Golden💛   2.0\n",
       "1       JS  1995              WebGod🕸️   1.0\n",
       "2      C++  1986  Pointers👈🏻👉🏻👈🏻🫵🏻👆🏻👇🏻   3.0\n",
       "3        C  1980              Creator⚡   4.0"
      ]
     },
     "execution_count": 9,
     "metadata": {},
     "output_type": "execute_result"
    }
   ],
   "source": [
    "# rank (series) -> https://www.youtube.com/live/zTa4MIrGTIE?si=C5bVkyZ5y3URWq3k&t=2197\n",
    "\n",
    "langs['rank'] = langs['Year'].rank(ascending=False) # ascending false means highest values comes in top rank\n",
    "langs\n"
   ]
  },
  {
   "cell_type": "code",
   "execution_count": 10,
   "id": "9b11d8c3",
   "metadata": {},
   "outputs": [
    {
     "data": {
      "application/vnd.microsoft.datawrangler.viewer.v0+json": {
       "columns": [
        {
         "name": "index",
         "rawType": "int64",
         "type": "integer"
        },
        {
         "name": "Language",
         "rawType": "object",
         "type": "string"
        },
        {
         "name": "Year",
         "rawType": "int64",
         "type": "integer"
        },
        {
         "name": "Feeling",
         "rawType": "object",
         "type": "string"
        },
        {
         "name": "rank",
         "rawType": "float64",
         "type": "float"
        }
       ],
       "conversionMethod": "pd.DataFrame",
       "ref": "e0ea99a3-35a7-47c3-8b50-129c8aa014e6",
       "rows": [
        [
         "3",
         "C",
         "1980",
         "Creator⚡",
         "4.0"
        ],
        [
         "2",
         "C++",
         "1986",
         "Pointers👈🏻👉🏻👈🏻🫵🏻👆🏻👇🏻",
         "3.0"
        ],
        [
         "1",
         "JS",
         "1995",
         "WebGod🕸️",
         "1.0"
        ],
        [
         "0",
         "Python",
         "1992",
         "Golden💛",
         "2.0"
        ]
       ],
       "shape": {
        "columns": 4,
        "rows": 4
       }
      },
      "text/html": [
       "<div>\n",
       "<style scoped>\n",
       "    .dataframe tbody tr th:only-of-type {\n",
       "        vertical-align: middle;\n",
       "    }\n",
       "\n",
       "    .dataframe tbody tr th {\n",
       "        vertical-align: top;\n",
       "    }\n",
       "\n",
       "    .dataframe thead th {\n",
       "        text-align: right;\n",
       "    }\n",
       "</style>\n",
       "<table border=\"1\" class=\"dataframe\">\n",
       "  <thead>\n",
       "    <tr style=\"text-align: right;\">\n",
       "      <th></th>\n",
       "      <th>Language</th>\n",
       "      <th>Year</th>\n",
       "      <th>Feeling</th>\n",
       "      <th>rank</th>\n",
       "    </tr>\n",
       "  </thead>\n",
       "  <tbody>\n",
       "    <tr>\n",
       "      <th>3</th>\n",
       "      <td>C</td>\n",
       "      <td>1980</td>\n",
       "      <td>Creator⚡</td>\n",
       "      <td>4.0</td>\n",
       "    </tr>\n",
       "    <tr>\n",
       "      <th>2</th>\n",
       "      <td>C++</td>\n",
       "      <td>1986</td>\n",
       "      <td>Pointers👈🏻👉🏻👈🏻🫵🏻👆🏻👇🏻</td>\n",
       "      <td>3.0</td>\n",
       "    </tr>\n",
       "    <tr>\n",
       "      <th>1</th>\n",
       "      <td>JS</td>\n",
       "      <td>1995</td>\n",
       "      <td>WebGod🕸️</td>\n",
       "      <td>1.0</td>\n",
       "    </tr>\n",
       "    <tr>\n",
       "      <th>0</th>\n",
       "      <td>Python</td>\n",
       "      <td>1992</td>\n",
       "      <td>Golden💛</td>\n",
       "      <td>2.0</td>\n",
       "    </tr>\n",
       "  </tbody>\n",
       "</table>\n",
       "</div>"
      ],
      "text/plain": [
       "  Language  Year               Feeling  rank\n",
       "3        C  1980              Creator⚡   4.0\n",
       "2      C++  1986  Pointers👈🏻👉🏻👈🏻🫵🏻👆🏻👇🏻   3.0\n",
       "1       JS  1995              WebGod🕸️   1.0\n",
       "0   Python  1992               Golden💛   2.0"
      ]
     },
     "execution_count": 10,
     "metadata": {},
     "output_type": "execute_result"
    }
   ],
   "source": [
    "# sort index (series and dataframe) -> https://www.youtube.com/live/zTa4MIrGTIE?si=CC2yqbX4WRf4ya2t&t=2577\n",
    "\n",
    "langs.sort_index(ascending=False) # sort by index in descending order"
   ]
  },
  {
   "cell_type": "code",
   "execution_count": 11,
   "id": "bc7c2849",
   "metadata": {},
   "outputs": [
    {
     "data": {
      "application/vnd.microsoft.datawrangler.viewer.v0+json": {
       "columns": [
        {
         "name": "Language",
         "rawType": "object",
         "type": "string"
        },
        {
         "name": "Year",
         "rawType": "int64",
         "type": "integer"
        },
        {
         "name": "Feeling",
         "rawType": "object",
         "type": "string"
        },
        {
         "name": "rank",
         "rawType": "float64",
         "type": "float"
        }
       ],
       "conversionMethod": "pd.DataFrame",
       "ref": "b03a781d-b786-4444-9602-115b32442faa",
       "rows": [
        [
         "Python",
         "1992",
         "Golden💛",
         "2.0"
        ],
        [
         "JS",
         "1995",
         "WebGod🕸️",
         "1.0"
        ],
        [
         "C++",
         "1986",
         "Pointers👈🏻👉🏻👈🏻🫵🏻👆🏻👇🏻",
         "3.0"
        ],
        [
         "C",
         "1980",
         "Creator⚡",
         "4.0"
        ]
       ],
       "shape": {
        "columns": 3,
        "rows": 4
       }
      },
      "text/html": [
       "<div>\n",
       "<style scoped>\n",
       "    .dataframe tbody tr th:only-of-type {\n",
       "        vertical-align: middle;\n",
       "    }\n",
       "\n",
       "    .dataframe tbody tr th {\n",
       "        vertical-align: top;\n",
       "    }\n",
       "\n",
       "    .dataframe thead th {\n",
       "        text-align: right;\n",
       "    }\n",
       "</style>\n",
       "<table border=\"1\" class=\"dataframe\">\n",
       "  <thead>\n",
       "    <tr style=\"text-align: right;\">\n",
       "      <th></th>\n",
       "      <th>Year</th>\n",
       "      <th>Feeling</th>\n",
       "      <th>rank</th>\n",
       "    </tr>\n",
       "    <tr>\n",
       "      <th>Language</th>\n",
       "      <th></th>\n",
       "      <th></th>\n",
       "      <th></th>\n",
       "    </tr>\n",
       "  </thead>\n",
       "  <tbody>\n",
       "    <tr>\n",
       "      <th>Python</th>\n",
       "      <td>1992</td>\n",
       "      <td>Golden💛</td>\n",
       "      <td>2.0</td>\n",
       "    </tr>\n",
       "    <tr>\n",
       "      <th>JS</th>\n",
       "      <td>1995</td>\n",
       "      <td>WebGod🕸️</td>\n",
       "      <td>1.0</td>\n",
       "    </tr>\n",
       "    <tr>\n",
       "      <th>C++</th>\n",
       "      <td>1986</td>\n",
       "      <td>Pointers👈🏻👉🏻👈🏻🫵🏻👆🏻👇🏻</td>\n",
       "      <td>3.0</td>\n",
       "    </tr>\n",
       "    <tr>\n",
       "      <th>C</th>\n",
       "      <td>1980</td>\n",
       "      <td>Creator⚡</td>\n",
       "      <td>4.0</td>\n",
       "    </tr>\n",
       "  </tbody>\n",
       "</table>\n",
       "</div>"
      ],
      "text/plain": [
       "          Year               Feeling  rank\n",
       "Language                                  \n",
       "Python    1992               Golden💛   2.0\n",
       "JS        1995              WebGod🕸️   1.0\n",
       "C++       1986  Pointers👈🏻👉🏻👈🏻🫵🏻👆🏻👇🏻   3.0\n",
       "C         1980              Creator⚡   4.0"
      ]
     },
     "execution_count": 11,
     "metadata": {},
     "output_type": "execute_result"
    }
   ],
   "source": [
    "# set_index (dataframe) -> https://www.youtube.com/live/zTa4MIrGTIE?si=xXseRDnoyBgDd7JK&t\n",
    "\n",
    "langs.set_index('Language')\n"
   ]
  },
  {
   "cell_type": "code",
   "execution_count": 17,
   "id": "79aee94b",
   "metadata": {},
   "outputs": [
    {
     "data": {
      "application/vnd.microsoft.datawrangler.viewer.v0+json": {
       "columns": [
        {
         "name": "index",
         "rawType": "int64",
         "type": "integer"
        },
        {
         "name": "Language_name",
         "rawType": "object",
         "type": "string"
        },
        {
         "name": "Year_of_release",
         "rawType": "int64",
         "type": "integer"
        },
        {
         "name": "Feeling",
         "rawType": "object",
         "type": "string"
        },
        {
         "name": "Rank_by_year",
         "rawType": "float64",
         "type": "float"
        }
       ],
       "conversionMethod": "pd.DataFrame",
       "ref": "7ed44486-8d73-44d2-bb74-1422bcc42693",
       "rows": [
        [
         "0",
         "Python",
         "1992",
         "Golden💛",
         "2.0"
        ],
        [
         "1",
         "JS",
         "1995",
         "WebGod🕸️",
         "1.0"
        ],
        [
         "2",
         "C++",
         "1986",
         "Pointers👈🏻👉🏻👈🏻🫵🏻👆🏻👇🏻",
         "3.0"
        ],
        [
         "3",
         "C",
         "1980",
         "Creator⚡",
         "4.0"
        ]
       ],
       "shape": {
        "columns": 4,
        "rows": 4
       }
      },
      "text/html": [
       "<div>\n",
       "<style scoped>\n",
       "    .dataframe tbody tr th:only-of-type {\n",
       "        vertical-align: middle;\n",
       "    }\n",
       "\n",
       "    .dataframe tbody tr th {\n",
       "        vertical-align: top;\n",
       "    }\n",
       "\n",
       "    .dataframe thead th {\n",
       "        text-align: right;\n",
       "    }\n",
       "</style>\n",
       "<table border=\"1\" class=\"dataframe\">\n",
       "  <thead>\n",
       "    <tr style=\"text-align: right;\">\n",
       "      <th></th>\n",
       "      <th>Language_name</th>\n",
       "      <th>Year_of_release</th>\n",
       "      <th>Feeling</th>\n",
       "      <th>Rank_by_year</th>\n",
       "    </tr>\n",
       "  </thead>\n",
       "  <tbody>\n",
       "    <tr>\n",
       "      <th>0</th>\n",
       "      <td>Python</td>\n",
       "      <td>1992</td>\n",
       "      <td>Golden💛</td>\n",
       "      <td>2.0</td>\n",
       "    </tr>\n",
       "    <tr>\n",
       "      <th>1</th>\n",
       "      <td>JS</td>\n",
       "      <td>1995</td>\n",
       "      <td>WebGod🕸️</td>\n",
       "      <td>1.0</td>\n",
       "    </tr>\n",
       "    <tr>\n",
       "      <th>2</th>\n",
       "      <td>C++</td>\n",
       "      <td>1986</td>\n",
       "      <td>Pointers👈🏻👉🏻👈🏻🫵🏻👆🏻👇🏻</td>\n",
       "      <td>3.0</td>\n",
       "    </tr>\n",
       "    <tr>\n",
       "      <th>3</th>\n",
       "      <td>C</td>\n",
       "      <td>1980</td>\n",
       "      <td>Creator⚡</td>\n",
       "      <td>4.0</td>\n",
       "    </tr>\n",
       "  </tbody>\n",
       "</table>\n",
       "</div>"
      ],
      "text/plain": [
       "  Language_name  Year_of_release               Feeling  Rank_by_year\n",
       "0        Python             1992               Golden💛           2.0\n",
       "1            JS             1995              WebGod🕸️           1.0\n",
       "2           C++             1986  Pointers👈🏻👉🏻👈🏻🫵🏻👆🏻👇🏻           3.0\n",
       "3             C             1980              Creator⚡           4.0"
      ]
     },
     "execution_count": 17,
     "metadata": {},
     "output_type": "execute_result"
    }
   ],
   "source": [
    "# rename index -> rename indexes in dataframe\n",
    "\n",
    "langs.rename(index={0:'Py',1:'JS',2:'C++',3:'C'})\n",
    "\n",
    "# rename columns in dataframe\n",
    "\n",
    "langs.rename(columns={'Language':'Language_name','Year':'Year_of_release','rank':'Rank_by_year'})\n"
   ]
  },
  {
   "cell_type": "code",
   "execution_count": 14,
   "id": "990778ec",
   "metadata": {},
   "outputs": [
    {
     "data": {
      "application/vnd.microsoft.datawrangler.viewer.v0+json": {
       "columns": [
        {
         "name": "index",
         "rawType": "int64",
         "type": "integer"
        },
        {
         "name": "index",
         "rawType": "object",
         "type": "string"
        },
        {
         "name": "Language",
         "rawType": "object",
         "type": "string"
        },
        {
         "name": "Year",
         "rawType": "int64",
         "type": "integer"
        },
        {
         "name": "Feeling",
         "rawType": "object",
         "type": "string"
        },
        {
         "name": "rank",
         "rawType": "float64",
         "type": "float"
        }
       ],
       "conversionMethod": "pd.DataFrame",
       "ref": "982ae88e-164f-4b6f-80e6-2b23bf50000f",
       "rows": [
        [
         "0",
         "Py",
         "Python",
         "1992",
         "Golden💛",
         "2.0"
        ],
        [
         "1",
         "JS",
         "JS",
         "1995",
         "WebGod🕸️",
         "1.0"
        ],
        [
         "2",
         "C++",
         "C++",
         "1986",
         "Pointers👈🏻👉🏻👈🏻🫵🏻👆🏻👇🏻",
         "3.0"
        ],
        [
         "3",
         "C",
         "C",
         "1980",
         "Creator⚡",
         "4.0"
        ]
       ],
       "shape": {
        "columns": 5,
        "rows": 4
       }
      },
      "text/html": [
       "<div>\n",
       "<style scoped>\n",
       "    .dataframe tbody tr th:only-of-type {\n",
       "        vertical-align: middle;\n",
       "    }\n",
       "\n",
       "    .dataframe tbody tr th {\n",
       "        vertical-align: top;\n",
       "    }\n",
       "\n",
       "    .dataframe thead th {\n",
       "        text-align: right;\n",
       "    }\n",
       "</style>\n",
       "<table border=\"1\" class=\"dataframe\">\n",
       "  <thead>\n",
       "    <tr style=\"text-align: right;\">\n",
       "      <th></th>\n",
       "      <th>index</th>\n",
       "      <th>Language</th>\n",
       "      <th>Year</th>\n",
       "      <th>Feeling</th>\n",
       "      <th>rank</th>\n",
       "    </tr>\n",
       "  </thead>\n",
       "  <tbody>\n",
       "    <tr>\n",
       "      <th>0</th>\n",
       "      <td>Py</td>\n",
       "      <td>Python</td>\n",
       "      <td>1992</td>\n",
       "      <td>Golden💛</td>\n",
       "      <td>2.0</td>\n",
       "    </tr>\n",
       "    <tr>\n",
       "      <th>1</th>\n",
       "      <td>JS</td>\n",
       "      <td>JS</td>\n",
       "      <td>1995</td>\n",
       "      <td>WebGod🕸️</td>\n",
       "      <td>1.0</td>\n",
       "    </tr>\n",
       "    <tr>\n",
       "      <th>2</th>\n",
       "      <td>C++</td>\n",
       "      <td>C++</td>\n",
       "      <td>1986</td>\n",
       "      <td>Pointers👈🏻👉🏻👈🏻🫵🏻👆🏻👇🏻</td>\n",
       "      <td>3.0</td>\n",
       "    </tr>\n",
       "    <tr>\n",
       "      <th>3</th>\n",
       "      <td>C</td>\n",
       "      <td>C</td>\n",
       "      <td>1980</td>\n",
       "      <td>Creator⚡</td>\n",
       "      <td>4.0</td>\n",
       "    </tr>\n",
       "  </tbody>\n",
       "</table>\n",
       "</div>"
      ],
      "text/plain": [
       "  index Language  Year               Feeling  rank\n",
       "0    Py   Python  1992               Golden💛   2.0\n",
       "1    JS       JS  1995              WebGod🕸️   1.0\n",
       "2   C++      C++  1986  Pointers👈🏻👉🏻👈🏻🫵🏻👆🏻👇🏻   3.0\n",
       "3     C        C  1980              Creator⚡   4.0"
      ]
     },
     "execution_count": 14,
     "metadata": {},
     "output_type": "execute_result"
    }
   ],
   "source": [
    "# reset_index -> https://www.youtube.com/live/zTa4MIrGTIE?si=uR5FRVTfJweDPj3D&t=30\n",
    "langs.rename(index={0:'Py',1:'JS',2:'C++',3:'C'}).reset_index()\n",
    "# series to dataframe using reset_index(), so we can also use this method to convert series to dataframe, like we do with `to_frame()` method\n",
    "\n",
    "\n",
    "# how to replace existing index without lossing it -> https://www.youtube.com/live/zTa4MIrGTIE?si=tBcaZvgfg4Vqzn0j&t=3237\n",
    "\n",
    "\n",
    "\n",
    "\n"
   ]
  },
  {
   "cell_type": "code",
   "execution_count": 31,
   "id": "aef8a8ec",
   "metadata": {},
   "outputs": [
    {
     "data": {
      "text/plain": [
       "array([ 1.,  2.,  3.,  4.,  5., nan])"
      ]
     },
     "execution_count": 31,
     "metadata": {},
     "output_type": "execute_result"
    }
   ],
   "source": [
    "# unique ->  (series) https://www.youtube.com/live/zTa4MIrGTIE?si=HtI0I4tK4WxbwvEV&t=3707\n",
    "series1 = pd.Series([1, 2, 3, 3, 4, 4, 4, 5, 5, 5, 5,np.nan, np.nan]) # will treat all missing values as one\n",
    "series1.unique() # gives unique values, in list(after removing duplicates)\n",
    "\n",
    "# series1.drop_duplicates(keep='first') # keep='first' or 'last' or False , same but give in series"
   ]
  },
  {
   "cell_type": "code",
   "execution_count": null,
   "id": "9b3373c4",
   "metadata": {},
   "outputs": [
    {
     "data": {
      "text/plain": [
       "5"
      ]
     },
     "execution_count": 32,
     "metadata": {},
     "output_type": "execute_result"
    }
   ],
   "source": [
    "# nunique, will tell number of unique values, in series((after removing duplicates)) \n",
    "# does not include NaN values\n",
    "series1.nunique()"
   ]
  },
  {
   "cell_type": "code",
   "execution_count": null,
   "id": "58688b54",
   "metadata": {},
   "outputs": [
    {
     "data": {
      "application/vnd.microsoft.datawrangler.viewer.v0+json": {
       "columns": [
        {
         "name": "index",
         "rawType": "int64",
         "type": "integer"
        },
        {
         "name": "Language",
         "rawType": "bool",
         "type": "boolean"
        },
        {
         "name": "Year",
         "rawType": "bool",
         "type": "boolean"
        },
        {
         "name": "Feeling",
         "rawType": "bool",
         "type": "boolean"
        },
        {
         "name": "rank",
         "rawType": "bool",
         "type": "boolean"
        }
       ],
       "conversionMethod": "pd.DataFrame",
       "ref": "6bfd1090-e7db-4b90-8c99-7d2705de377b",
       "rows": [
        [
         "0",
         "False",
         "False",
         "False",
         "False"
        ],
        [
         "1",
         "False",
         "False",
         "False",
         "False"
        ],
        [
         "2",
         "False",
         "False",
         "False",
         "False"
        ],
        [
         "3",
         "False",
         "False",
         "False",
         "False"
        ]
       ],
       "shape": {
        "columns": 4,
        "rows": 4
       }
      },
      "text/html": [
       "<div>\n",
       "<style scoped>\n",
       "    .dataframe tbody tr th:only-of-type {\n",
       "        vertical-align: middle;\n",
       "    }\n",
       "\n",
       "    .dataframe tbody tr th {\n",
       "        vertical-align: top;\n",
       "    }\n",
       "\n",
       "    .dataframe thead th {\n",
       "        text-align: right;\n",
       "    }\n",
       "</style>\n",
       "<table border=\"1\" class=\"dataframe\">\n",
       "  <thead>\n",
       "    <tr style=\"text-align: right;\">\n",
       "      <th></th>\n",
       "      <th>Language</th>\n",
       "      <th>Year</th>\n",
       "      <th>Feeling</th>\n",
       "      <th>rank</th>\n",
       "    </tr>\n",
       "  </thead>\n",
       "  <tbody>\n",
       "    <tr>\n",
       "      <th>0</th>\n",
       "      <td>False</td>\n",
       "      <td>False</td>\n",
       "      <td>False</td>\n",
       "      <td>False</td>\n",
       "    </tr>\n",
       "    <tr>\n",
       "      <th>1</th>\n",
       "      <td>False</td>\n",
       "      <td>False</td>\n",
       "      <td>False</td>\n",
       "      <td>False</td>\n",
       "    </tr>\n",
       "    <tr>\n",
       "      <th>2</th>\n",
       "      <td>False</td>\n",
       "      <td>False</td>\n",
       "      <td>False</td>\n",
       "      <td>False</td>\n",
       "    </tr>\n",
       "    <tr>\n",
       "      <th>3</th>\n",
       "      <td>False</td>\n",
       "      <td>False</td>\n",
       "      <td>False</td>\n",
       "      <td>False</td>\n",
       "    </tr>\n",
       "  </tbody>\n",
       "</table>\n",
       "</div>"
      ],
      "text/plain": [
       "   Language   Year  Feeling   rank\n",
       "0     False  False    False  False\n",
       "1     False  False    False  False\n",
       "2     False  False    False  False\n",
       "3     False  False    False  False"
      ]
     },
     "execution_count": 33,
     "metadata": {},
     "output_type": "execute_result"
    }
   ],
   "source": [
    "# isnull , will true if null otherwise false\n",
    "langs.isnull()"
   ]
  },
  {
   "cell_type": "code",
   "execution_count": null,
   "id": "88e7bb14",
   "metadata": {},
   "outputs": [
    {
     "data": {
      "application/vnd.microsoft.datawrangler.viewer.v0+json": {
       "columns": [
        {
         "name": "index",
         "rawType": "int64",
         "type": "integer"
        },
        {
         "name": "Language",
         "rawType": "bool",
         "type": "boolean"
        },
        {
         "name": "Year",
         "rawType": "bool",
         "type": "boolean"
        },
        {
         "name": "Feeling",
         "rawType": "bool",
         "type": "boolean"
        },
        {
         "name": "rank",
         "rawType": "bool",
         "type": "boolean"
        }
       ],
       "conversionMethod": "pd.DataFrame",
       "ref": "e7a15470-e4bf-41de-8591-4fc0ebea80f7",
       "rows": [
        [
         "0",
         "True",
         "True",
         "True",
         "True"
        ],
        [
         "1",
         "True",
         "True",
         "True",
         "True"
        ],
        [
         "2",
         "True",
         "True",
         "True",
         "True"
        ],
        [
         "3",
         "True",
         "True",
         "True",
         "True"
        ]
       ],
       "shape": {
        "columns": 4,
        "rows": 4
       }
      },
      "text/html": [
       "<div>\n",
       "<style scoped>\n",
       "    .dataframe tbody tr th:only-of-type {\n",
       "        vertical-align: middle;\n",
       "    }\n",
       "\n",
       "    .dataframe tbody tr th {\n",
       "        vertical-align: top;\n",
       "    }\n",
       "\n",
       "    .dataframe thead th {\n",
       "        text-align: right;\n",
       "    }\n",
       "</style>\n",
       "<table border=\"1\" class=\"dataframe\">\n",
       "  <thead>\n",
       "    <tr style=\"text-align: right;\">\n",
       "      <th></th>\n",
       "      <th>Language</th>\n",
       "      <th>Year</th>\n",
       "      <th>Feeling</th>\n",
       "      <th>rank</th>\n",
       "    </tr>\n",
       "  </thead>\n",
       "  <tbody>\n",
       "    <tr>\n",
       "      <th>0</th>\n",
       "      <td>True</td>\n",
       "      <td>True</td>\n",
       "      <td>True</td>\n",
       "      <td>True</td>\n",
       "    </tr>\n",
       "    <tr>\n",
       "      <th>1</th>\n",
       "      <td>True</td>\n",
       "      <td>True</td>\n",
       "      <td>True</td>\n",
       "      <td>True</td>\n",
       "    </tr>\n",
       "    <tr>\n",
       "      <th>2</th>\n",
       "      <td>True</td>\n",
       "      <td>True</td>\n",
       "      <td>True</td>\n",
       "      <td>True</td>\n",
       "    </tr>\n",
       "    <tr>\n",
       "      <th>3</th>\n",
       "      <td>True</td>\n",
       "      <td>True</td>\n",
       "      <td>True</td>\n",
       "      <td>True</td>\n",
       "    </tr>\n",
       "  </tbody>\n",
       "</table>\n",
       "</div>"
      ],
      "text/plain": [
       "   Language  Year  Feeling  rank\n",
       "0      True  True     True  True\n",
       "1      True  True     True  True\n",
       "2      True  True     True  True\n",
       "3      True  True     True  True"
      ]
     },
     "execution_count": 40,
     "metadata": {},
     "output_type": "execute_result"
    }
   ],
   "source": [
    "langs.notnull() # same as isnull but opposite, will true if not null otherwise false"
   ]
  },
  {
   "cell_type": "code",
   "execution_count": 43,
   "id": "30e5e680",
   "metadata": {},
   "outputs": [
    {
     "data": {
      "text/plain": [
       "False"
      ]
     },
     "execution_count": 43,
     "metadata": {},
     "output_type": "execute_result"
    }
   ],
   "source": [
    "# hasnans, will true if column has even a single missing value otherwise false (works on series only)\n",
    "langs['Language'].hasnans # means langs['Language'] not any missing values"
   ]
  },
  {
   "cell_type": "code",
   "execution_count": null,
   "id": "2d3463a4",
   "metadata": {},
   "outputs": [
    {
     "data": {
      "application/vnd.microsoft.datawrangler.viewer.v0+json": {
       "columns": [
        {
         "name": "index",
         "rawType": "object",
         "type": "string"
        },
        {
         "name": "one",
         "rawType": "float64",
         "type": "float"
        },
        {
         "name": "two",
         "rawType": "float64",
         "type": "float"
        },
        {
         "name": "three",
         "rawType": "float64",
         "type": "float"
        }
       ],
       "conversionMethod": "pd.DataFrame",
       "ref": "55cd0faa-1aea-487a-9c07-f738b0a029be",
       "rows": [
        [
         "a",
         "0.625095466604667",
         "0.8972138009695755",
         null
        ],
        [
         "c",
         null,
         null,
         null
        ],
        [
         "e",
         "0.005265304565574724",
         "0.8212284183827663",
         null
        ],
        [
         "f",
         "0.4679349528437208",
         "0.3030324268193135",
         "0.2784256121007733"
        ],
        [
         "h",
         "0.2548695876541246",
         "0.4450763058826466",
         null
        ]
       ],
       "shape": {
        "columns": 3,
        "rows": 5
       }
      },
      "text/html": [
       "<div>\n",
       "<style scoped>\n",
       "    .dataframe tbody tr th:only-of-type {\n",
       "        vertical-align: middle;\n",
       "    }\n",
       "\n",
       "    .dataframe tbody tr th {\n",
       "        vertical-align: top;\n",
       "    }\n",
       "\n",
       "    .dataframe thead th {\n",
       "        text-align: right;\n",
       "    }\n",
       "</style>\n",
       "<table border=\"1\" class=\"dataframe\">\n",
       "  <thead>\n",
       "    <tr style=\"text-align: right;\">\n",
       "      <th></th>\n",
       "      <th>one</th>\n",
       "      <th>two</th>\n",
       "      <th>three</th>\n",
       "    </tr>\n",
       "  </thead>\n",
       "  <tbody>\n",
       "    <tr>\n",
       "      <th>a</th>\n",
       "      <td>0.625095</td>\n",
       "      <td>0.897214</td>\n",
       "      <td>NaN</td>\n",
       "    </tr>\n",
       "    <tr>\n",
       "      <th>c</th>\n",
       "      <td>NaN</td>\n",
       "      <td>NaN</td>\n",
       "      <td>NaN</td>\n",
       "    </tr>\n",
       "    <tr>\n",
       "      <th>e</th>\n",
       "      <td>0.005265</td>\n",
       "      <td>0.821228</td>\n",
       "      <td>NaN</td>\n",
       "    </tr>\n",
       "    <tr>\n",
       "      <th>f</th>\n",
       "      <td>0.467935</td>\n",
       "      <td>0.303032</td>\n",
       "      <td>0.278426</td>\n",
       "    </tr>\n",
       "    <tr>\n",
       "      <th>h</th>\n",
       "      <td>0.254870</td>\n",
       "      <td>0.445076</td>\n",
       "      <td>NaN</td>\n",
       "    </tr>\n",
       "  </tbody>\n",
       "</table>\n",
       "</div>"
      ],
      "text/plain": [
       "        one       two     three\n",
       "a  0.625095  0.897214       NaN\n",
       "c       NaN       NaN       NaN\n",
       "e  0.005265  0.821228       NaN\n",
       "f  0.467935  0.303032  0.278426\n",
       "h  0.254870  0.445076       NaN"
      ]
     },
     "execution_count": 86,
     "metadata": {},
     "output_type": "execute_result"
    }
   ],
   "source": [
    "# dropna -> (series and dataframe) ->https://www.youtube.com/live/zTa4MIrGTIE?si=xUYJHm4HZaywRkVC\n",
    "# make an dataframe of missing values\n",
    "\n",
    "# in series it remove all missing values\n",
    "\n",
    "\"\"\" in dataframe it takes `how` parameter (default is 'any' means any row that contains even single missing value will\n",
    " be dropped), which , if `how` = all it will drop rows only if all values in that row are missing,\n",
    " and `subset` which takes column names (list) and then drop rows where in given columns has missing values\n",
    " \"\"\"\n",
    "\n",
    "rng = np.random.default_rng(7)\n",
    "a = rng.random(size=(5,3))\n",
    "a[1] = np.nan\n",
    "a[::2,-1] = np.nan\n",
    "df = pd.DataFrame(a, index=['a', 'c', 'e', 'f', 'h'], columns=['one', 'two', 'three'])\n",
    "df # will drop rows with any missing values"
   ]
  },
  {
   "cell_type": "code",
   "execution_count": 88,
   "id": "8dbc72eb",
   "metadata": {},
   "outputs": [
    {
     "data": {
      "application/vnd.microsoft.datawrangler.viewer.v0+json": {
       "columns": [
        {
         "name": "index",
         "rawType": "object",
         "type": "string"
        },
        {
         "name": "one",
         "rawType": "float64",
         "type": "float"
        },
        {
         "name": "two",
         "rawType": "float64",
         "type": "float"
        },
        {
         "name": "three",
         "rawType": "float64",
         "type": "float"
        }
       ],
       "conversionMethod": "pd.DataFrame",
       "ref": "d2e090ba-80d4-4cc2-8096-5add088bc9f8",
       "rows": [
        [
         "a",
         "0.625095466604667",
         "0.8972138009695755",
         null
        ],
        [
         "e",
         "0.005265304565574724",
         "0.8212284183827663",
         null
        ],
        [
         "f",
         "0.4679349528437208",
         "0.3030324268193135",
         "0.2784256121007733"
        ],
        [
         "h",
         "0.2548695876541246",
         "0.4450763058826466",
         null
        ]
       ],
       "shape": {
        "columns": 3,
        "rows": 4
       }
      },
      "text/html": [
       "<div>\n",
       "<style scoped>\n",
       "    .dataframe tbody tr th:only-of-type {\n",
       "        vertical-align: middle;\n",
       "    }\n",
       "\n",
       "    .dataframe tbody tr th {\n",
       "        vertical-align: top;\n",
       "    }\n",
       "\n",
       "    .dataframe thead th {\n",
       "        text-align: right;\n",
       "    }\n",
       "</style>\n",
       "<table border=\"1\" class=\"dataframe\">\n",
       "  <thead>\n",
       "    <tr style=\"text-align: right;\">\n",
       "      <th></th>\n",
       "      <th>one</th>\n",
       "      <th>two</th>\n",
       "      <th>three</th>\n",
       "    </tr>\n",
       "  </thead>\n",
       "  <tbody>\n",
       "    <tr>\n",
       "      <th>a</th>\n",
       "      <td>0.625095</td>\n",
       "      <td>0.897214</td>\n",
       "      <td>NaN</td>\n",
       "    </tr>\n",
       "    <tr>\n",
       "      <th>e</th>\n",
       "      <td>0.005265</td>\n",
       "      <td>0.821228</td>\n",
       "      <td>NaN</td>\n",
       "    </tr>\n",
       "    <tr>\n",
       "      <th>f</th>\n",
       "      <td>0.467935</td>\n",
       "      <td>0.303032</td>\n",
       "      <td>0.278426</td>\n",
       "    </tr>\n",
       "    <tr>\n",
       "      <th>h</th>\n",
       "      <td>0.254870</td>\n",
       "      <td>0.445076</td>\n",
       "      <td>NaN</td>\n",
       "    </tr>\n",
       "  </tbody>\n",
       "</table>\n",
       "</div>"
      ],
      "text/plain": [
       "        one       two     three\n",
       "a  0.625095  0.897214       NaN\n",
       "e  0.005265  0.821228       NaN\n",
       "f  0.467935  0.303032  0.278426\n",
       "h  0.254870  0.445076       NaN"
      ]
     },
     "execution_count": 88,
     "metadata": {},
     "output_type": "execute_result"
    }
   ],
   "source": [
    "df.dropna(how='all') # will drop rows with all missing values"
   ]
  },
  {
   "cell_type": "code",
   "execution_count": null,
   "id": "385b7519",
   "metadata": {},
   "outputs": [
    {
     "data": {
      "application/vnd.microsoft.datawrangler.viewer.v0+json": {
       "columns": [
        {
         "name": "index",
         "rawType": "object",
         "type": "string"
        },
        {
         "name": "one",
         "rawType": "float64",
         "type": "float"
        },
        {
         "name": "two",
         "rawType": "float64",
         "type": "float"
        },
        {
         "name": "three",
         "rawType": "float64",
         "type": "float"
        }
       ],
       "conversionMethod": "pd.DataFrame",
       "ref": "83fcb2b1-2a40-4b80-8739-5b30944e4444",
       "rows": [
        [
         "f",
         "0.4679349528437208",
         "0.3030324268193135",
         "0.2784256121007733"
        ]
       ],
       "shape": {
        "columns": 3,
        "rows": 1
       }
      },
      "text/html": [
       "<div>\n",
       "<style scoped>\n",
       "    .dataframe tbody tr th:only-of-type {\n",
       "        vertical-align: middle;\n",
       "    }\n",
       "\n",
       "    .dataframe tbody tr th {\n",
       "        vertical-align: top;\n",
       "    }\n",
       "\n",
       "    .dataframe thead th {\n",
       "        text-align: right;\n",
       "    }\n",
       "</style>\n",
       "<table border=\"1\" class=\"dataframe\">\n",
       "  <thead>\n",
       "    <tr style=\"text-align: right;\">\n",
       "      <th></th>\n",
       "      <th>one</th>\n",
       "      <th>two</th>\n",
       "      <th>three</th>\n",
       "    </tr>\n",
       "  </thead>\n",
       "  <tbody>\n",
       "    <tr>\n",
       "      <th>f</th>\n",
       "      <td>0.467935</td>\n",
       "      <td>0.303032</td>\n",
       "      <td>0.278426</td>\n",
       "    </tr>\n",
       "  </tbody>\n",
       "</table>\n",
       "</div>"
      ],
      "text/plain": [
       "        one       two     three\n",
       "f  0.467935  0.303032  0.278426"
      ]
     },
     "execution_count": 91,
     "metadata": {},
     "output_type": "execute_result"
    }
   ],
   "source": [
    "df.dropna(subset=['three','one']) # will drop rows where 'three' or 'one' column has missing values,\n",
    "df.dropna(subset=['three']) # will drop rows where 'three' column has missing values"
   ]
  },
  {
   "cell_type": "code",
   "execution_count": null,
   "id": "9bc2e671",
   "metadata": {},
   "outputs": [
    {
     "data": {
      "application/vnd.microsoft.datawrangler.viewer.v0+json": {
       "columns": [
        {
         "name": "index",
         "rawType": "object",
         "type": "string"
        },
        {
         "name": "one",
         "rawType": "float64",
         "type": "float"
        },
        {
         "name": "two",
         "rawType": "float64",
         "type": "float"
        },
        {
         "name": "three",
         "rawType": "float64",
         "type": "float"
        }
       ],
       "conversionMethod": "pd.DataFrame",
       "ref": "33ae513d-a672-4de2-aad7-7f65fa7ee60d",
       "rows": [
        [
         "a",
         "0.625095466604667",
         "0.8972138009695755",
         null
        ],
        [
         "c",
         "0.625095466604667",
         "0.8972138009695755",
         null
        ],
        [
         "e",
         "0.005265304565574724",
         "0.8212284183827663",
         null
        ],
        [
         "f",
         "0.4679349528437208",
         "0.3030324268193135",
         "0.2784256121007733"
        ],
        [
         "h",
         "0.2548695876541246",
         "0.4450763058826466",
         "0.2784256121007733"
        ]
       ],
       "shape": {
        "columns": 3,
        "rows": 5
       }
      },
      "text/html": [
       "<div>\n",
       "<style scoped>\n",
       "    .dataframe tbody tr th:only-of-type {\n",
       "        vertical-align: middle;\n",
       "    }\n",
       "\n",
       "    .dataframe tbody tr th {\n",
       "        vertical-align: top;\n",
       "    }\n",
       "\n",
       "    .dataframe thead th {\n",
       "        text-align: right;\n",
       "    }\n",
       "</style>\n",
       "<table border=\"1\" class=\"dataframe\">\n",
       "  <thead>\n",
       "    <tr style=\"text-align: right;\">\n",
       "      <th></th>\n",
       "      <th>one</th>\n",
       "      <th>two</th>\n",
       "      <th>three</th>\n",
       "    </tr>\n",
       "  </thead>\n",
       "  <tbody>\n",
       "    <tr>\n",
       "      <th>a</th>\n",
       "      <td>0.625095</td>\n",
       "      <td>0.897214</td>\n",
       "      <td>NaN</td>\n",
       "    </tr>\n",
       "    <tr>\n",
       "      <th>c</th>\n",
       "      <td>0.625095</td>\n",
       "      <td>0.897214</td>\n",
       "      <td>NaN</td>\n",
       "    </tr>\n",
       "    <tr>\n",
       "      <th>e</th>\n",
       "      <td>0.005265</td>\n",
       "      <td>0.821228</td>\n",
       "      <td>NaN</td>\n",
       "    </tr>\n",
       "    <tr>\n",
       "      <th>f</th>\n",
       "      <td>0.467935</td>\n",
       "      <td>0.303032</td>\n",
       "      <td>0.278426</td>\n",
       "    </tr>\n",
       "    <tr>\n",
       "      <th>h</th>\n",
       "      <td>0.254870</td>\n",
       "      <td>0.445076</td>\n",
       "      <td>0.278426</td>\n",
       "    </tr>\n",
       "  </tbody>\n",
       "</table>\n",
       "</div>"
      ],
      "text/plain": [
       "        one       two     three\n",
       "a  0.625095  0.897214       NaN\n",
       "c  0.625095  0.897214       NaN\n",
       "e  0.005265  0.821228       NaN\n",
       "f  0.467935  0.303032  0.278426\n",
       "h  0.254870  0.445076  0.278426"
      ]
     },
     "execution_count": 95,
     "metadata": {},
     "output_type": "execute_result"
    }
   ],
   "source": [
    "df.ffill() # will replace all missing values with previous non-missing value in the same column"
   ]
  },
  {
   "cell_type": "code",
   "execution_count": 96,
   "id": "3f5c2680",
   "metadata": {},
   "outputs": [
    {
     "data": {
      "application/vnd.microsoft.datawrangler.viewer.v0+json": {
       "columns": [
        {
         "name": "index",
         "rawType": "object",
         "type": "string"
        },
        {
         "name": "one",
         "rawType": "float64",
         "type": "float"
        },
        {
         "name": "two",
         "rawType": "float64",
         "type": "float"
        },
        {
         "name": "three",
         "rawType": "float64",
         "type": "float"
        }
       ],
       "conversionMethod": "pd.DataFrame",
       "ref": "9c3f88cb-fbc6-4d6b-885c-83895f31375d",
       "rows": [
        [
         "a",
         "0.625095466604667",
         "0.8972138009695755",
         "0.2784256121007733"
        ],
        [
         "c",
         "0.005265304565574724",
         "0.8212284183827663",
         "0.2784256121007733"
        ],
        [
         "e",
         "0.005265304565574724",
         "0.8212284183827663",
         "0.2784256121007733"
        ],
        [
         "f",
         "0.4679349528437208",
         "0.3030324268193135",
         "0.2784256121007733"
        ],
        [
         "h",
         "0.2548695876541246",
         "0.4450763058826466",
         null
        ]
       ],
       "shape": {
        "columns": 3,
        "rows": 5
       }
      },
      "text/html": [
       "<div>\n",
       "<style scoped>\n",
       "    .dataframe tbody tr th:only-of-type {\n",
       "        vertical-align: middle;\n",
       "    }\n",
       "\n",
       "    .dataframe tbody tr th {\n",
       "        vertical-align: top;\n",
       "    }\n",
       "\n",
       "    .dataframe thead th {\n",
       "        text-align: right;\n",
       "    }\n",
       "</style>\n",
       "<table border=\"1\" class=\"dataframe\">\n",
       "  <thead>\n",
       "    <tr style=\"text-align: right;\">\n",
       "      <th></th>\n",
       "      <th>one</th>\n",
       "      <th>two</th>\n",
       "      <th>three</th>\n",
       "    </tr>\n",
       "  </thead>\n",
       "  <tbody>\n",
       "    <tr>\n",
       "      <th>a</th>\n",
       "      <td>0.625095</td>\n",
       "      <td>0.897214</td>\n",
       "      <td>0.278426</td>\n",
       "    </tr>\n",
       "    <tr>\n",
       "      <th>c</th>\n",
       "      <td>0.005265</td>\n",
       "      <td>0.821228</td>\n",
       "      <td>0.278426</td>\n",
       "    </tr>\n",
       "    <tr>\n",
       "      <th>e</th>\n",
       "      <td>0.005265</td>\n",
       "      <td>0.821228</td>\n",
       "      <td>0.278426</td>\n",
       "    </tr>\n",
       "    <tr>\n",
       "      <th>f</th>\n",
       "      <td>0.467935</td>\n",
       "      <td>0.303032</td>\n",
       "      <td>0.278426</td>\n",
       "    </tr>\n",
       "    <tr>\n",
       "      <th>h</th>\n",
       "      <td>0.254870</td>\n",
       "      <td>0.445076</td>\n",
       "      <td>NaN</td>\n",
       "    </tr>\n",
       "  </tbody>\n",
       "</table>\n",
       "</div>"
      ],
      "text/plain": [
       "        one       two     three\n",
       "a  0.625095  0.897214  0.278426\n",
       "c  0.005265  0.821228  0.278426\n",
       "e  0.005265  0.821228  0.278426\n",
       "f  0.467935  0.303032  0.278426\n",
       "h  0.254870  0.445076       NaN"
      ]
     },
     "execution_count": 96,
     "metadata": {},
     "output_type": "execute_result"
    }
   ],
   "source": [
    "df.bfill() # will replace all missing values with next non-missing value in the same column"
   ]
  },
  {
   "cell_type": "code",
   "execution_count": null,
   "id": "c5bbee18",
   "metadata": {},
   "outputs": [
    {
     "data": {
      "text/plain": [
       "a    False\n",
       "c    False\n",
       "e    False\n",
       "f    False\n",
       "h    False\n",
       "dtype: bool"
      ]
     },
     "execution_count": 97,
     "metadata": {},
     "output_type": "execute_result"
    }
   ],
   "source": [
    "df.duplicated() # will return True if row is duplicated otherwise False"
   ]
  },
  {
   "cell_type": "code",
   "execution_count": null,
   "id": "63449a64",
   "metadata": {},
   "outputs": [],
   "source": [
    "# drop duplicates -> (series and dataframe) \n",
    "# drop duplicates remove duplicated rows, \n",
    "# param `keep` parameter (default is 'first' means first occurrence of duplicated row will be kept, \n",
    "# 'last' means last occurrence will be kept, \n",
    "# 'False' means all duplicates will be dropped)\n"
   ]
  }
 ],
 "metadata": {
  "kernelspec": {
   "display_name": "Python 3",
   "language": "python",
   "name": "python3"
  },
  "language_info": {
   "codemirror_mode": {
    "name": "ipython",
    "version": 3
   },
   "file_extension": ".py",
   "mimetype": "text/x-python",
   "name": "python",
   "nbconvert_exporter": "python",
   "pygments_lexer": "ipython3",
   "version": "3.13.2"
  }
 },
 "nbformat": 4,
 "nbformat_minor": 5
}
