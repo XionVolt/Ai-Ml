{
 "cells": [
  {
   "cell_type": "markdown",
   "id": "b02f3373",
   "metadata": {},
   "source": [
    "- # [See this video to understand difference between copy and view](https://youtu.be/pFsOMSzj6JI?si=AdXAf94t-RyTsb1f)\n",
    "    - [`copy()` method of series](https://youtu.be/pFsOMSzj6JI?si=DZ6mDqGpH1e5aOJA&t=47)\n",
    "    - [Assignment by reference](https://youtu.be/pFsOMSzj6JI?si=_r2AVBNLCLmWA1ko&t=67)\n",
    "    - [`inplace` parameter in `replace` function](https://youtu.be/pFsOMSzj6JI?si=O9Sa0MUDIoYiZIkP&t=157)"
   ]
  },
  {
   "cell_type": "code",
   "execution_count": 29,
   "id": "85152e42",
   "metadata": {},
   "outputs": [
    {
     "data": {
      "text/plain": [
       "0    a\n",
       "1    b\n",
       "2    c\n",
       "3    d\n",
       "dtype: string"
      ]
     },
     "execution_count": 29,
     "metadata": {},
     "output_type": "execute_result"
    }
   ],
   "source": [
    "import pandas as pd\n",
    "foo = pd.Series(['a', 'b', 'c', 'd'],dtype='string')\n",
    "bar = foo.loc[foo > 'a']\n",
    "bar\n",
    "\n",
    "bar[0] = 'z'\n",
    "foo # loc not change, if you not assign foo values to bar with indexing"
   ]
  },
  {
   "cell_type": "code",
   "execution_count": 30,
   "id": "66fc4ec4",
   "metadata": {},
   "outputs": [
    {
     "data": {
      "text/plain": [
       "0    z\n",
       "1    b\n",
       "2    c\n",
       "3    d\n",
       "dtype: string"
      ]
     },
     "execution_count": 30,
     "metadata": {},
     "output_type": "execute_result"
    }
   ],
   "source": [
    "bar = foo.loc[:]\n",
    "bar[0] = 'z'\n",
    "foo # loc change, when you assign foo values to bar with indexing"
   ]
  }
 ],
 "metadata": {
  "kernelspec": {
   "display_name": "Python 3",
   "language": "python",
   "name": "python3"
  },
  "language_info": {
   "codemirror_mode": {
    "name": "ipython",
    "version": 3
   },
   "file_extension": ".py",
   "mimetype": "text/x-python",
   "name": "python",
   "nbconvert_exporter": "python",
   "pygments_lexer": "ipython3",
   "version": "3.13.2"
  }
 },
 "nbformat": 4,
 "nbformat_minor": 5
}
