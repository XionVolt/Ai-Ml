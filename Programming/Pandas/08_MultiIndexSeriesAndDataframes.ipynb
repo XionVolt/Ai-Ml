{
 "cells": [
  {
   "cell_type": "markdown",
   "id": "ae95439e",
   "metadata": {},
   "source": [
    "# Proof of Series is 1d and datframe is 2d "
   ]
  },
  {
   "cell_type": "code",
   "execution_count": 1,
   "id": "d6189ca4",
   "metadata": {},
   "outputs": [],
   "source": [
    "# https://www.youtube.com/live/QzoRUwz8DoM?si=XHO68I1HnUD5tsWZ&t=847"
   ]
  },
  {
   "cell_type": "code",
   "execution_count": 2,
   "id": "089ad8e0",
   "metadata": {},
   "outputs": [],
   "source": [
    "import pandas as pd\n",
    "import numpy as np"
   ]
  },
  {
   "cell_type": "markdown",
   "id": "4c8418b7",
   "metadata": {},
   "source": [
    "# Having multiple index in series"
   ]
  },
  {
   "cell_type": "code",
   "execution_count": 3,
   "id": "54ab9c4f",
   "metadata": {},
   "outputs": [
    {
     "name": "stdout",
     "output_type": "stream",
     "text": [
      "(cse, 2019)     47\n",
      "(csed, 2020)    93\n",
      "(ecse, 2021)    33\n",
      "(csed, 2022)    89\n",
      "(cse, 2023)     88\n",
      "(rcse, 2024)    72\n",
      "(csed, 2025)    18\n",
      "dtype: int32\n",
      "|------------------------|\n",
      "18\n"
     ]
    }
   ],
   "source": [
    "index_val = [('cse',2019), ('csed',2020), ('ecse',2021), ('csed',2022), ('cse',2023),('rcse',2024), ('csed',2025)]\n",
    "series = pd.Series(np.random.randint(1,100,7), index=index_val)\n",
    "print(series)\n",
    "print('|------------------------|')\n",
    "print(series[('csed', 2025)]) "
   ]
  },
  {
   "cell_type": "code",
   "execution_count": 4,
   "id": "134530e4",
   "metadata": {},
   "outputs": [],
   "source": [
    "# Why making multindex series in this way is not a good option ? -> https://www.youtube.com/live/QzoRUwz8DoM?si=ykdCCJD2x3T0JRqY&t=1187\n",
    "# because we can't access by single index like for example: Only `csed` or `2025`"
   ]
  },
  {
   "cell_type": "code",
   "execution_count": 5,
   "id": "9ae7fcd5",
   "metadata": {},
   "outputs": [],
   "source": [
    "# The correct way of making multindex series is to use `pd.MultiIndex.from_tuples` or pd.MultiIndex.from_product` -> \n",
    "# https://www.youtube.com/live/QzoRUwz8DoM?si=tAYvRJUTiSWxtSFO&t=1247"
   ]
  },
  {
   "cell_type": "code",
   "execution_count": 6,
   "id": "fa41e497",
   "metadata": {},
   "outputs": [
    {
     "name": "stdout",
     "output_type": "stream",
     "text": [
      "MultiIndex([( 'cse', 2019),\n",
      "            ('csed', 2020),\n",
      "            ('ecse', 2021),\n",
      "            ('csed', 2022),\n",
      "            ( 'cse', 2023),\n",
      "            ('rcse', 2024),\n",
      "            ('csed', 2025)],\n",
      "           )\n",
      "[['cse', 'csed', 'ecse', 'rcse'], [2019, 2020, 2021, 2022, 2023, 2024, 2025]]\n",
      "Index(['cse', 'csed', 'ecse', 'rcse'], dtype='object')\n",
      "Index([2019, 2020, 2021, 2022, 2023, 2024, 2025], dtype='int64')\n"
     ]
    }
   ],
   "source": [
    "# 1. Using `pd.MultiIndex.from_tuples` to create a multi-index series\n",
    "\n",
    "index_val = [('cse',2019), ('csed',2020), ('ecse',2021), ('csed',2022), ('cse',2023),('rcse',2024), ('csed',2025)]\n",
    "multi_index1 = pd.MultiIndex.from_tuples(index_val)\n",
    "print(multi_index1)\n",
    "print(multi_index1.levels) # level gives all the unique values in the \n",
    "print(multi_index1.levels[0])\n",
    "print(multi_index1.levels[1])"
   ]
  },
  {
   "cell_type": "code",
   "execution_count": 7,
   "id": "ef1329de",
   "metadata": {},
   "outputs": [
    {
     "name": "stdout",
     "output_type": "stream",
     "text": [
      "MultiIndex([( 'cse', 2024),\n",
      "            ( 'cse', 2025),\n",
      "            ('csed', 2024),\n",
      "            ('csed', 2025),\n",
      "            ('ecse', 2024),\n",
      "            ('ecse', 2025),\n",
      "            ('rcse', 2024),\n",
      "            ('rcse', 2025)],\n",
      "           )\n",
      "[['cse', 'csed', 'ecse', 'rcse'], [2024, 2025]]\n"
     ]
    }
   ],
   "source": [
    "# 2. Using `pd.MultiIndex.from_product` to create a multi-index series\n",
    "# so it will associate each value in the first list with all the values in the second list\n",
    "\n",
    "index_val =  [('cse', 'csed', 'ecse', 'rcse'), (2024, 2025)]\n",
    "multi_index2 = pd.MultiIndex.from_product(index_val)\n",
    "print(multi_index2)\n",
    "\n",
    "print(multi_index2.levels)"
   ]
  },
  {
   "cell_type": "code",
   "execution_count": 8,
   "id": "ec416325",
   "metadata": {},
   "outputs": [
    {
     "data": {
      "text/plain": [
       "cse   2024     6\n",
       "      2025    78\n",
       "csed  2024    63\n",
       "      2025    55\n",
       "ecse  2024    79\n",
       "      2025    25\n",
       "rcse  2024    86\n",
       "      2025    34\n",
       "dtype: int64"
      ]
     },
     "execution_count": 8,
     "metadata": {},
     "output_type": "execute_result"
    }
   ],
   "source": [
    "# creating a series with multindex object that we make above\n",
    "rng = np.random.default_rng(77) # for reproducibility\n",
    "multiIndex = pd.Series(rng.integers(1,100,8), index=multi_index2)\n",
    "# so its like a hierarical tree structure, see -> https://www.youtube.com/live/QzoRUwz8DoM?si=HVVyVHUMJJw-WmjA&t=1547\n",
    "multiIndex"
   ]
  },
  {
   "cell_type": "code",
   "execution_count": 9,
   "id": "fae1b2c5",
   "metadata": {},
   "outputs": [
    {
     "data": {
      "text/plain": [
       "2024    63\n",
       "2025    55\n",
       "dtype: int64"
      ]
     },
     "execution_count": 9,
     "metadata": {},
     "output_type": "execute_result"
    }
   ],
   "source": [
    "# how to fetch items from multiIndex series ?\n",
    "multiIndex.loc[('csed')] # so it will give all the values of cse in 2024"
   ]
  },
  {
   "cell_type": "code",
   "execution_count": 10,
   "id": "6ba13b22",
   "metadata": {},
   "outputs": [
    {
     "data": {
      "text/plain": [
       "np.int64(55)"
      ]
     },
     "execution_count": 10,
     "metadata": {},
     "output_type": "execute_result"
    }
   ],
   "source": [
    "multiIndex.loc[('csed',2025)] # so it will give all the values of cse in 2024"
   ]
  },
  {
   "cell_type": "code",
   "execution_count": 11,
   "id": "c78fb720",
   "metadata": {},
   "outputs": [
    {
     "data": {
      "application/vnd.microsoft.datawrangler.viewer.v0+json": {
       "columns": [
        {
         "name": "index",
         "rawType": "object",
         "type": "string"
        },
        {
         "name": "2024",
         "rawType": "int64",
         "type": "integer"
        },
        {
         "name": "2025",
         "rawType": "int64",
         "type": "integer"
        }
       ],
       "conversionMethod": "pd.DataFrame",
       "ref": "5b658d3c-faf9-4c47-9181-985293e1c01e",
       "rows": [
        [
         "cse",
         "6",
         "78"
        ],
        [
         "csed",
         "63",
         "55"
        ],
        [
         "ecse",
         "79",
         "25"
        ],
        [
         "rcse",
         "86",
         "34"
        ]
       ],
       "shape": {
        "columns": 2,
        "rows": 4
       }
      },
      "text/html": [
       "<div>\n",
       "<style scoped>\n",
       "    .dataframe tbody tr th:only-of-type {\n",
       "        vertical-align: middle;\n",
       "    }\n",
       "\n",
       "    .dataframe tbody tr th {\n",
       "        vertical-align: top;\n",
       "    }\n",
       "\n",
       "    .dataframe thead th {\n",
       "        text-align: right;\n",
       "    }\n",
       "</style>\n",
       "<table border=\"1\" class=\"dataframe\">\n",
       "  <thead>\n",
       "    <tr style=\"text-align: right;\">\n",
       "      <th></th>\n",
       "      <th>2024</th>\n",
       "      <th>2025</th>\n",
       "    </tr>\n",
       "  </thead>\n",
       "  <tbody>\n",
       "    <tr>\n",
       "      <th>cse</th>\n",
       "      <td>6</td>\n",
       "      <td>78</td>\n",
       "    </tr>\n",
       "    <tr>\n",
       "      <th>csed</th>\n",
       "      <td>63</td>\n",
       "      <td>55</td>\n",
       "    </tr>\n",
       "    <tr>\n",
       "      <th>ecse</th>\n",
       "      <td>79</td>\n",
       "      <td>25</td>\n",
       "    </tr>\n",
       "    <tr>\n",
       "      <th>rcse</th>\n",
       "      <td>86</td>\n",
       "      <td>34</td>\n",
       "    </tr>\n",
       "  </tbody>\n",
       "</table>\n",
       "</div>"
      ],
      "text/plain": [
       "      2024  2025\n",
       "cse      6    78\n",
       "csed    63    55\n",
       "ecse    79    25\n",
       "rcse    86    34"
      ]
     },
     "execution_count": 11,
     "metadata": {},
     "output_type": "execute_result"
    }
   ],
   "source": [
    "# multindex series to dataframe using \n",
    "# `unstack` method\n",
    "multiIndex.unstack()\n",
    "# so it will give the values of `cse`,`csed`,`ecse`,`rcse` of 2024 and 2025 in a dataframe format"
   ]
  },
  {
   "cell_type": "code",
   "execution_count": 12,
   "id": "9379e318",
   "metadata": {},
   "outputs": [
    {
     "data": {
      "text/plain": [
       "cse   2019    1\n",
       "csed  2020    2\n",
       "ecse  2021    3\n",
       "csed  2022    4\n",
       "cse   2023    5\n",
       "rcse  2024    6\n",
       "csed  2025    7\n",
       "dtype: int64"
      ]
     },
     "execution_count": 12,
     "metadata": {},
     "output_type": "execute_result"
    }
   ],
   "source": [
    "pd.Series(index=multi_index1, data=[1,2,3,4,5,6,7]) # so it will give the values of cse in 2024 and 2025 in a dataframe format"
   ]
  },
  {
   "cell_type": "code",
   "execution_count": 13,
   "id": "14c4c270",
   "metadata": {},
   "outputs": [
    {
     "data": {
      "application/vnd.microsoft.datawrangler.viewer.v0+json": {
       "columns": [
        {
         "name": "index",
         "rawType": "object",
         "type": "string"
        },
        {
         "name": "2019",
         "rawType": "float64",
         "type": "float"
        },
        {
         "name": "2020",
         "rawType": "float64",
         "type": "float"
        },
        {
         "name": "2021",
         "rawType": "float64",
         "type": "float"
        },
        {
         "name": "2022",
         "rawType": "float64",
         "type": "float"
        },
        {
         "name": "2023",
         "rawType": "float64",
         "type": "float"
        },
        {
         "name": "2024",
         "rawType": "float64",
         "type": "float"
        },
        {
         "name": "2025",
         "rawType": "float64",
         "type": "float"
        }
       ],
       "conversionMethod": "pd.DataFrame",
       "ref": "c163ba5b-52b2-444b-b178-dcf59c30d32a",
       "rows": [
        [
         "cse",
         "1.0",
         null,
         null,
         null,
         "5.0",
         null,
         null
        ],
        [
         "csed",
         null,
         "2.0",
         null,
         "4.0",
         null,
         null,
         "7.0"
        ],
        [
         "ecse",
         null,
         null,
         "3.0",
         null,
         null,
         null,
         null
        ],
        [
         "rcse",
         null,
         null,
         null,
         null,
         null,
         "6.0",
         null
        ]
       ],
       "shape": {
        "columns": 7,
        "rows": 4
       }
      },
      "text/html": [
       "<div>\n",
       "<style scoped>\n",
       "    .dataframe tbody tr th:only-of-type {\n",
       "        vertical-align: middle;\n",
       "    }\n",
       "\n",
       "    .dataframe tbody tr th {\n",
       "        vertical-align: top;\n",
       "    }\n",
       "\n",
       "    .dataframe thead th {\n",
       "        text-align: right;\n",
       "    }\n",
       "</style>\n",
       "<table border=\"1\" class=\"dataframe\">\n",
       "  <thead>\n",
       "    <tr style=\"text-align: right;\">\n",
       "      <th></th>\n",
       "      <th>2019</th>\n",
       "      <th>2020</th>\n",
       "      <th>2021</th>\n",
       "      <th>2022</th>\n",
       "      <th>2023</th>\n",
       "      <th>2024</th>\n",
       "      <th>2025</th>\n",
       "    </tr>\n",
       "  </thead>\n",
       "  <tbody>\n",
       "    <tr>\n",
       "      <th>cse</th>\n",
       "      <td>1.0</td>\n",
       "      <td>NaN</td>\n",
       "      <td>NaN</td>\n",
       "      <td>NaN</td>\n",
       "      <td>5.0</td>\n",
       "      <td>NaN</td>\n",
       "      <td>NaN</td>\n",
       "    </tr>\n",
       "    <tr>\n",
       "      <th>csed</th>\n",
       "      <td>NaN</td>\n",
       "      <td>2.0</td>\n",
       "      <td>NaN</td>\n",
       "      <td>4.0</td>\n",
       "      <td>NaN</td>\n",
       "      <td>NaN</td>\n",
       "      <td>7.0</td>\n",
       "    </tr>\n",
       "    <tr>\n",
       "      <th>ecse</th>\n",
       "      <td>NaN</td>\n",
       "      <td>NaN</td>\n",
       "      <td>3.0</td>\n",
       "      <td>NaN</td>\n",
       "      <td>NaN</td>\n",
       "      <td>NaN</td>\n",
       "      <td>NaN</td>\n",
       "    </tr>\n",
       "    <tr>\n",
       "      <th>rcse</th>\n",
       "      <td>NaN</td>\n",
       "      <td>NaN</td>\n",
       "      <td>NaN</td>\n",
       "      <td>NaN</td>\n",
       "      <td>NaN</td>\n",
       "      <td>6.0</td>\n",
       "      <td>NaN</td>\n",
       "    </tr>\n",
       "  </tbody>\n",
       "</table>\n",
       "</div>"
      ],
      "text/plain": [
       "      2019  2020  2021  2022  2023  2024  2025\n",
       "cse    1.0   NaN   NaN   NaN   5.0   NaN   NaN\n",
       "csed   NaN   2.0   NaN   4.0   NaN   NaN   7.0\n",
       "ecse   NaN   NaN   3.0   NaN   NaN   NaN   NaN\n",
       "rcse   NaN   NaN   NaN   NaN   NaN   6.0   NaN"
      ]
     },
     "execution_count": 13,
     "metadata": {},
     "output_type": "execute_result"
    }
   ],
   "source": [
    "# multindex series to dataframe, using `unstack` method\n",
    "\n",
    "pd.Series(index=multi_index1, data=[1,2,3,4,5,6,7]).unstack() # so it will give the values of cse in 2024 and 2025 in a dataframe format"
   ]
  },
  {
   "cell_type": "code",
   "execution_count": 14,
   "id": "b83fa29e",
   "metadata": {},
   "outputs": [
    {
     "data": {
      "text/plain": [
       "cse   2019    1.0\n",
       "      2023    5.0\n",
       "csed  2020    2.0\n",
       "      2022    4.0\n",
       "      2025    7.0\n",
       "ecse  2021    3.0\n",
       "rcse  2024    6.0\n",
       "dtype: float64"
      ]
     },
     "execution_count": 14,
     "metadata": {},
     "output_type": "execute_result"
    }
   ],
   "source": [
    "# dataframe to multindex series using `stack` method\n",
    "pd.Series(index=multi_index1, data=[1,2,3,4,5,6,7]).unstack().stack()\n",
    "\n",
    "# Note: stack() and unstack() method explain in detail in below section"
   ]
  },
  {
   "cell_type": "markdown",
   "id": "4f7631cd",
   "metadata": {},
   "source": [
    "## [But Why to use multi index series? 🤔](https://www.youtube.com/live/QzoRUwz8DoM?si=7RidvYCQQtHNAuqQ&t=2017)"
   ]
  },
  {
   "cell_type": "markdown",
   "id": "3d951d7f",
   "metadata": {},
   "source": [
    "## multiIndex dataframes"
   ]
  },
  {
   "cell_type": "code",
   "execution_count": 15,
   "id": "493b6245",
   "metadata": {},
   "outputs": [],
   "source": [
    "# multindex dataframes -> https://www.youtube.com/live/QzoRUwz8DoM?si=3ITFbPdL4nivLYYH&t=2137"
   ]
  },
  {
   "cell_type": "code",
   "execution_count": 16,
   "id": "8750fa8c",
   "metadata": {},
   "outputs": [
    {
     "data": {
      "text/plain": [
       "MultiIndex([( 'cse', 2019),\n",
       "            ('csed', 2020),\n",
       "            ('ecse', 2021),\n",
       "            ('csed', 2022),\n",
       "            ( 'cse', 2023),\n",
       "            ('rcse', 2024),\n",
       "            ('csed', 2025)],\n",
       "           )"
      ]
     },
     "execution_count": 16,
     "metadata": {},
     "output_type": "execute_result"
    }
   ],
   "source": [
    "multi_index1"
   ]
  },
  {
   "cell_type": "code",
   "execution_count": 17,
   "id": "b53099d7",
   "metadata": {},
   "outputs": [
    {
     "name": "stdout",
     "output_type": "stream",
     "text": [
      "<class 'pandas.core.frame.DataFrame'>\n",
      "MultiIndex: 7 entries, ('cse', np.int64(2019)) to ('csed', np.int64(2025))\n",
      "Data columns (total 3 columns):\n",
      " #   Column       Non-Null Count  Dtype\n",
      "---  ------       --------------  -----\n",
      " 0   avg_package  7 non-null      int64\n",
      " 1   avg_salary   7 non-null      int64\n",
      " 2   avg_ability  7 non-null      int64\n",
      "dtypes: int64(3)\n",
      "memory usage: 774.0+ bytes\n"
     ]
    },
    {
     "data": {
      "application/vnd.microsoft.datawrangler.viewer.v0+json": {
       "columns": [
        {
         "name": "(None, None)",
         "rawType": "object",
         "type": "unknown"
        },
        {
         "name": "avg_package",
         "rawType": "int64",
         "type": "integer"
        },
        {
         "name": "avg_salary",
         "rawType": "int64",
         "type": "integer"
        },
        {
         "name": "avg_ability",
         "rawType": "int64",
         "type": "integer"
        }
       ],
       "conversionMethod": "pd.DataFrame",
       "ref": "63857e51-6c97-4daf-8b1a-082b5f27b7ce",
       "rows": [
        [
         "('cse', np.int64(2019))",
         "1",
         "2",
         "3"
        ],
        [
         "('csed', np.int64(2020))",
         "4",
         "5",
         "6"
        ],
        [
         "('ecse', np.int64(2021))",
         "7",
         "8",
         "9"
        ],
        [
         "('csed', np.int64(2022))",
         "10",
         "11",
         "12"
        ],
        [
         "('cse', np.int64(2023))",
         "13",
         "14",
         "15"
        ],
        [
         "('rcse', np.int64(2024))",
         "16",
         "17",
         "18"
        ],
        [
         "('csed', np.int64(2025))",
         "19",
         "20",
         "21"
        ]
       ],
       "shape": {
        "columns": 3,
        "rows": 7
       }
      },
      "text/html": [
       "<div>\n",
       "<style scoped>\n",
       "    .dataframe tbody tr th:only-of-type {\n",
       "        vertical-align: middle;\n",
       "    }\n",
       "\n",
       "    .dataframe tbody tr th {\n",
       "        vertical-align: top;\n",
       "    }\n",
       "\n",
       "    .dataframe thead th {\n",
       "        text-align: right;\n",
       "    }\n",
       "</style>\n",
       "<table border=\"1\" class=\"dataframe\">\n",
       "  <thead>\n",
       "    <tr style=\"text-align: right;\">\n",
       "      <th></th>\n",
       "      <th></th>\n",
       "      <th>avg_package</th>\n",
       "      <th>avg_salary</th>\n",
       "      <th>avg_ability</th>\n",
       "    </tr>\n",
       "  </thead>\n",
       "  <tbody>\n",
       "    <tr>\n",
       "      <th>cse</th>\n",
       "      <th>2019</th>\n",
       "      <td>1</td>\n",
       "      <td>2</td>\n",
       "      <td>3</td>\n",
       "    </tr>\n",
       "    <tr>\n",
       "      <th>csed</th>\n",
       "      <th>2020</th>\n",
       "      <td>4</td>\n",
       "      <td>5</td>\n",
       "      <td>6</td>\n",
       "    </tr>\n",
       "    <tr>\n",
       "      <th>ecse</th>\n",
       "      <th>2021</th>\n",
       "      <td>7</td>\n",
       "      <td>8</td>\n",
       "      <td>9</td>\n",
       "    </tr>\n",
       "    <tr>\n",
       "      <th>csed</th>\n",
       "      <th>2022</th>\n",
       "      <td>10</td>\n",
       "      <td>11</td>\n",
       "      <td>12</td>\n",
       "    </tr>\n",
       "    <tr>\n",
       "      <th>cse</th>\n",
       "      <th>2023</th>\n",
       "      <td>13</td>\n",
       "      <td>14</td>\n",
       "      <td>15</td>\n",
       "    </tr>\n",
       "    <tr>\n",
       "      <th>rcse</th>\n",
       "      <th>2024</th>\n",
       "      <td>16</td>\n",
       "      <td>17</td>\n",
       "      <td>18</td>\n",
       "    </tr>\n",
       "    <tr>\n",
       "      <th>csed</th>\n",
       "      <th>2025</th>\n",
       "      <td>19</td>\n",
       "      <td>20</td>\n",
       "      <td>21</td>\n",
       "    </tr>\n",
       "  </tbody>\n",
       "</table>\n",
       "</div>"
      ],
      "text/plain": [
       "           avg_package  avg_salary  avg_ability\n",
       "cse  2019            1           2            3\n",
       "csed 2020            4           5            6\n",
       "ecse 2021            7           8            9\n",
       "csed 2022           10          11           12\n",
       "cse  2023           13          14           15\n",
       "rcse 2024           16          17           18\n",
       "csed 2025           19          20           21"
      ]
     },
     "execution_count": 17,
     "metadata": {},
     "output_type": "execute_result"
    }
   ],
   "source": [
    "branch_df1 = pd.DataFrame(\n",
    "    [\n",
    "        [1, 2, 3],\n",
    "        [4, 5, 6],\n",
    "        [7, 8, 9],\n",
    "        [10, 11, 12],\n",
    "        [13, 14, 15],\n",
    "        [16, 17, 18],\n",
    "        [19, 20, 21],\n",
    "    ],\n",
    "    index = multi_index1,\n",
    "    columns= ['avg_package', 'avg_salary', 'avg_ability']\n",
    ")\n",
    "branch_df1.info()\n",
    "branch_df1"
   ]
  },
  {
   "cell_type": "code",
   "execution_count": 18,
   "id": "9d9b3c8b",
   "metadata": {},
   "outputs": [],
   "source": [
    "# 1 important thing about indexes and columns in multindexes dataframes, is that pandas not treat indexes and columns as a single entity, so we can access them separately\n",
    "# https://www.youtube.com/live/QzoRUwz8DoM?si=0VRVHTmiM_JLRkeu&t=2417\n",
    "# so we can also make dataframe where columns will have hierarchical structure"
   ]
  },
  {
   "cell_type": "code",
   "execution_count": 19,
   "id": "352380f6",
   "metadata": {},
   "outputs": [
    {
     "data": {
      "application/vnd.microsoft.datawrangler.viewer.v0+json": {
       "columns": [
        {
         "name": "index",
         "rawType": "int64",
         "type": "integer"
        },
        {
         "name": "('delhi', 'avg_package')",
         "rawType": "int64",
         "type": "integer"
        },
        {
         "name": "('delhi', 'students')",
         "rawType": "int64",
         "type": "integer"
        },
        {
         "name": "('mumbai', 'avg_package')",
         "rawType": "int64",
         "type": "integer"
        },
        {
         "name": "('mumbai', 'students')",
         "rawType": "int64",
         "type": "integer"
        }
       ],
       "conversionMethod": "pd.DataFrame",
       "ref": "fb0846d4-60a6-49c7-ae9d-1fee887eac9f",
       "rows": [
        [
         "2019",
         "1",
         "2",
         "10",
         "2"
        ],
        [
         "2020",
         "3",
         "4",
         "0",
         "0"
        ],
        [
         "2021",
         "5",
         "6",
         "10",
         "1"
        ],
        [
         "2022",
         "7",
         "8",
         "0",
         "0"
        ]
       ],
       "shape": {
        "columns": 4,
        "rows": 4
       }
      },
      "text/html": [
       "<div>\n",
       "<style scoped>\n",
       "    .dataframe tbody tr th:only-of-type {\n",
       "        vertical-align: middle;\n",
       "    }\n",
       "\n",
       "    .dataframe tbody tr th {\n",
       "        vertical-align: top;\n",
       "    }\n",
       "\n",
       "    .dataframe thead tr th {\n",
       "        text-align: left;\n",
       "    }\n",
       "</style>\n",
       "<table border=\"1\" class=\"dataframe\">\n",
       "  <thead>\n",
       "    <tr>\n",
       "      <th></th>\n",
       "      <th colspan=\"2\" halign=\"left\">delhi</th>\n",
       "      <th colspan=\"2\" halign=\"left\">mumbai</th>\n",
       "    </tr>\n",
       "    <tr>\n",
       "      <th></th>\n",
       "      <th>avg_package</th>\n",
       "      <th>students</th>\n",
       "      <th>avg_package</th>\n",
       "      <th>students</th>\n",
       "    </tr>\n",
       "  </thead>\n",
       "  <tbody>\n",
       "    <tr>\n",
       "      <th>2019</th>\n",
       "      <td>1</td>\n",
       "      <td>2</td>\n",
       "      <td>10</td>\n",
       "      <td>2</td>\n",
       "    </tr>\n",
       "    <tr>\n",
       "      <th>2020</th>\n",
       "      <td>3</td>\n",
       "      <td>4</td>\n",
       "      <td>0</td>\n",
       "      <td>0</td>\n",
       "    </tr>\n",
       "    <tr>\n",
       "      <th>2021</th>\n",
       "      <td>5</td>\n",
       "      <td>6</td>\n",
       "      <td>10</td>\n",
       "      <td>1</td>\n",
       "    </tr>\n",
       "    <tr>\n",
       "      <th>2022</th>\n",
       "      <td>7</td>\n",
       "      <td>8</td>\n",
       "      <td>0</td>\n",
       "      <td>0</td>\n",
       "    </tr>\n",
       "  </tbody>\n",
       "</table>\n",
       "</div>"
      ],
      "text/plain": [
       "           delhi               mumbai         \n",
       "     avg_package students avg_package students\n",
       "2019           1        2          10        2\n",
       "2020           3        4           0        0\n",
       "2021           5        6          10        1\n",
       "2022           7        8           0        0"
      ]
     },
     "execution_count": 19,
     "metadata": {},
     "output_type": "execute_result"
    }
   ],
   "source": [
    "# multiindex df from columns perspective -> https://www.youtube.com/live/QzoRUwz8DoM?si=adFShaAS0Dqztlmn&t=2547\n",
    "branch_df2 = pd.DataFrame(\n",
    "    [\n",
    "        [1, 2, 10, 2],\n",
    "        [3, 4, 0, 0],\n",
    "        [5, 6, 10, 1],\n",
    "        [7, 8, 0, 0],\n",
    "    ],\n",
    "    index = [2019, 2020, 2021, 2022],\n",
    "    columns = pd.MultiIndex.from_product([['delhi', 'mumbai'], ['avg_package', 'students']])\n",
    ")\n",
    "\n",
    "branch_df2\n"
   ]
  },
  {
   "cell_type": "code",
   "execution_count": 20,
   "id": "b2abb0ff",
   "metadata": {},
   "outputs": [
    {
     "data": {
      "text/plain": [
       "2019    1\n",
       "2020    3\n",
       "2021    5\n",
       "2022    7\n",
       "Name: (delhi, avg_package), dtype: int64"
      ]
     },
     "execution_count": 20,
     "metadata": {},
     "output_type": "execute_result"
    }
   ],
   "source": [
    "branch_df2['delhi','avg_package'] "
   ]
  },
  {
   "cell_type": "code",
   "execution_count": 21,
   "id": "221fab8b",
   "metadata": {},
   "outputs": [
    {
     "data": {
      "text/plain": [
       "delhi   avg_package    7\n",
       "        students       8\n",
       "mumbai  avg_package    0\n",
       "        students       0\n",
       "Name: 2022, dtype: int64"
      ]
     },
     "execution_count": 21,
     "metadata": {},
     "output_type": "execute_result"
    }
   ],
   "source": [
    "branch_df2.loc[2022] # so we get multiIndex series"
   ]
  },
  {
   "cell_type": "code",
   "execution_count": 22,
   "id": "7d3b87f8",
   "metadata": {},
   "outputs": [
    {
     "data": {
      "text/plain": [
       "MultiIndex([( 'cse', 2019),\n",
       "            ('csed', 2020),\n",
       "            ('ecse', 2021),\n",
       "            ('csed', 2022),\n",
       "            ( 'cse', 2023),\n",
       "            ('rcse', 2024),\n",
       "            ('csed', 2025)],\n",
       "           )"
      ]
     },
     "execution_count": 22,
     "metadata": {},
     "output_type": "execute_result"
    }
   ],
   "source": [
    "multi_index1"
   ]
  },
  {
   "cell_type": "code",
   "execution_count": 23,
   "id": "cdd2378f",
   "metadata": {},
   "outputs": [
    {
     "data": {
      "application/vnd.microsoft.datawrangler.viewer.v0+json": {
       "columns": [
        {
         "name": "(None, None)",
         "rawType": "object",
         "type": "unknown"
        },
        {
         "name": "('delhi', 'avg_package')",
         "rawType": "int64",
         "type": "integer"
        },
        {
         "name": "('delhi', 'students')",
         "rawType": "int64",
         "type": "integer"
        },
        {
         "name": "('mumbai', 'avg_package')",
         "rawType": "int64",
         "type": "integer"
        },
        {
         "name": "('mumbai', 'students')",
         "rawType": "int64",
         "type": "integer"
        }
       ],
       "conversionMethod": "pd.DataFrame",
       "ref": "1cd96ca2-76c3-4757-a95f-884046f6e86f",
       "rows": [
        [
         "('cse', np.int64(2019))",
         "1",
         "2",
         "10",
         "2"
        ],
        [
         "('csed', np.int64(2020))",
         "3",
         "4",
         "0",
         "0"
        ],
        [
         "('ecse', np.int64(2021))",
         "5",
         "6",
         "10",
         "1"
        ],
        [
         "('csed', np.int64(2022))",
         "7",
         "8",
         "0",
         "0"
        ],
        [
         "('cse', np.int64(2023))",
         "9",
         "10",
         "0",
         "0"
        ],
        [
         "('rcse', np.int64(2024))",
         "11",
         "12",
         "0",
         "0"
        ],
        [
         "('csed', np.int64(2025))",
         "13",
         "14",
         "0",
         "0"
        ]
       ],
       "shape": {
        "columns": 4,
        "rows": 7
       }
      },
      "text/html": [
       "<div>\n",
       "<style scoped>\n",
       "    .dataframe tbody tr th:only-of-type {\n",
       "        vertical-align: middle;\n",
       "    }\n",
       "\n",
       "    .dataframe tbody tr th {\n",
       "        vertical-align: top;\n",
       "    }\n",
       "\n",
       "    .dataframe thead tr th {\n",
       "        text-align: left;\n",
       "    }\n",
       "</style>\n",
       "<table border=\"1\" class=\"dataframe\">\n",
       "  <thead>\n",
       "    <tr>\n",
       "      <th></th>\n",
       "      <th></th>\n",
       "      <th colspan=\"2\" halign=\"left\">delhi</th>\n",
       "      <th colspan=\"2\" halign=\"left\">mumbai</th>\n",
       "    </tr>\n",
       "    <tr>\n",
       "      <th></th>\n",
       "      <th></th>\n",
       "      <th>avg_package</th>\n",
       "      <th>students</th>\n",
       "      <th>avg_package</th>\n",
       "      <th>students</th>\n",
       "    </tr>\n",
       "  </thead>\n",
       "  <tbody>\n",
       "    <tr>\n",
       "      <th>cse</th>\n",
       "      <th>2019</th>\n",
       "      <td>1</td>\n",
       "      <td>2</td>\n",
       "      <td>10</td>\n",
       "      <td>2</td>\n",
       "    </tr>\n",
       "    <tr>\n",
       "      <th>csed</th>\n",
       "      <th>2020</th>\n",
       "      <td>3</td>\n",
       "      <td>4</td>\n",
       "      <td>0</td>\n",
       "      <td>0</td>\n",
       "    </tr>\n",
       "    <tr>\n",
       "      <th>ecse</th>\n",
       "      <th>2021</th>\n",
       "      <td>5</td>\n",
       "      <td>6</td>\n",
       "      <td>10</td>\n",
       "      <td>1</td>\n",
       "    </tr>\n",
       "    <tr>\n",
       "      <th>csed</th>\n",
       "      <th>2022</th>\n",
       "      <td>7</td>\n",
       "      <td>8</td>\n",
       "      <td>0</td>\n",
       "      <td>0</td>\n",
       "    </tr>\n",
       "    <tr>\n",
       "      <th>cse</th>\n",
       "      <th>2023</th>\n",
       "      <td>9</td>\n",
       "      <td>10</td>\n",
       "      <td>0</td>\n",
       "      <td>0</td>\n",
       "    </tr>\n",
       "    <tr>\n",
       "      <th>rcse</th>\n",
       "      <th>2024</th>\n",
       "      <td>11</td>\n",
       "      <td>12</td>\n",
       "      <td>0</td>\n",
       "      <td>0</td>\n",
       "    </tr>\n",
       "    <tr>\n",
       "      <th>csed</th>\n",
       "      <th>2025</th>\n",
       "      <td>13</td>\n",
       "      <td>14</td>\n",
       "      <td>0</td>\n",
       "      <td>0</td>\n",
       "    </tr>\n",
       "  </tbody>\n",
       "</table>\n",
       "</div>"
      ],
      "text/plain": [
       "                delhi               mumbai         \n",
       "          avg_package students avg_package students\n",
       "cse  2019           1        2          10        2\n",
       "csed 2020           3        4           0        0\n",
       "ecse 2021           5        6          10        1\n",
       "csed 2022           7        8           0        0\n",
       "cse  2023           9       10           0        0\n",
       "rcse 2024          11       12           0        0\n",
       "csed 2025          13       14           0        0"
      ]
     },
     "execution_count": 23,
     "metadata": {},
     "output_type": "execute_result"
    }
   ],
   "source": [
    "# MultiIndex in terms of both rows and columns\n",
    "\n",
    "branch_df3 = pd.DataFrame(\n",
    "    data = [\n",
    "        [1, 2, 10, 2], # we give 8 rows because we have 8 rows in total (in `multi_index1`), and we give 4 columns because we have 4 columns in total \n",
    "        [3, 4, 0, 0],\n",
    "        [5, 6, 10, 1],\n",
    "        [7, 8, 0, 0],\n",
    "        [9, 10, 0, 0],\n",
    "        [11, 12, 0, 0],\n",
    "        [13, 14, 0, 0],\n",
    "    ],\n",
    "    index = multi_index1,\n",
    "    columns = pd.MultiIndex.from_product([['delhi', 'mumbai'], ['avg_package', 'students']])\n",
    ")\n",
    "branch_df3\n",
    "\n",
    "    "
   ]
  },
  {
   "cell_type": "code",
   "execution_count": 24,
   "id": "86026dd2",
   "metadata": {},
   "outputs": [
    {
     "data": {
      "text/plain": [
       "np.int64(1)"
      ]
     },
     "execution_count": 24,
     "metadata": {},
     "output_type": "execute_result"
    }
   ],
   "source": [
    "branch_df3['delhi']['avg_package']['cse'][2019] # so we can say its 4d data(because we 4 indexes to reach a single value) represented in lower dimension(2d) `dataframe` "
   ]
  },
  {
   "cell_type": "markdown",
   "id": "5280a539",
   "metadata": {},
   "source": [
    "## Stacking and unstacking in detail(dataframe methods)"
   ]
  },
  {
   "cell_type": "code",
   "execution_count": 25,
   "id": "0606aa6f",
   "metadata": {},
   "outputs": [
    {
     "data": {
      "application/vnd.microsoft.datawrangler.viewer.v0+json": {
       "columns": [
        {
         "name": "(None, None)",
         "rawType": "object",
         "type": "unknown"
        },
        {
         "name": "avg_package",
         "rawType": "int64",
         "type": "integer"
        },
        {
         "name": "students",
         "rawType": "int64",
         "type": "integer"
        }
       ],
       "conversionMethod": "pd.DataFrame",
       "ref": "ea0a45a9-40d1-44b4-beea-1b7a890d5d0a",
       "rows": [
        [
         "('cse', np.int64(2019))",
         "1",
         "2"
        ],
        [
         "('cse', np.int64(2020))",
         "3",
         "4"
        ],
        [
         "('cse', np.int64(2021))",
         "5",
         "6"
        ],
        [
         "('cse', np.int64(2022))",
         "7",
         "8"
        ],
        [
         "('ece', np.int64(2019))",
         "9",
         "10"
        ],
        [
         "('ece', np.int64(2020))",
         "11",
         "12"
        ],
        [
         "('ece', np.int64(2021))",
         "13",
         "14"
        ],
        [
         "('ece', np.int64(2022))",
         "15",
         "16"
        ]
       ],
       "shape": {
        "columns": 2,
        "rows": 8
       }
      },
      "text/html": [
       "<div>\n",
       "<style scoped>\n",
       "    .dataframe tbody tr th:only-of-type {\n",
       "        vertical-align: middle;\n",
       "    }\n",
       "\n",
       "    .dataframe tbody tr th {\n",
       "        vertical-align: top;\n",
       "    }\n",
       "\n",
       "    .dataframe thead th {\n",
       "        text-align: right;\n",
       "    }\n",
       "</style>\n",
       "<table border=\"1\" class=\"dataframe\">\n",
       "  <thead>\n",
       "    <tr style=\"text-align: right;\">\n",
       "      <th></th>\n",
       "      <th></th>\n",
       "      <th>avg_package</th>\n",
       "      <th>students</th>\n",
       "    </tr>\n",
       "  </thead>\n",
       "  <tbody>\n",
       "    <tr>\n",
       "      <th rowspan=\"4\" valign=\"top\">cse</th>\n",
       "      <th>2019</th>\n",
       "      <td>1</td>\n",
       "      <td>2</td>\n",
       "    </tr>\n",
       "    <tr>\n",
       "      <th>2020</th>\n",
       "      <td>3</td>\n",
       "      <td>4</td>\n",
       "    </tr>\n",
       "    <tr>\n",
       "      <th>2021</th>\n",
       "      <td>5</td>\n",
       "      <td>6</td>\n",
       "    </tr>\n",
       "    <tr>\n",
       "      <th>2022</th>\n",
       "      <td>7</td>\n",
       "      <td>8</td>\n",
       "    </tr>\n",
       "    <tr>\n",
       "      <th rowspan=\"4\" valign=\"top\">ece</th>\n",
       "      <th>2019</th>\n",
       "      <td>9</td>\n",
       "      <td>10</td>\n",
       "    </tr>\n",
       "    <tr>\n",
       "      <th>2020</th>\n",
       "      <td>11</td>\n",
       "      <td>12</td>\n",
       "    </tr>\n",
       "    <tr>\n",
       "      <th>2021</th>\n",
       "      <td>13</td>\n",
       "      <td>14</td>\n",
       "    </tr>\n",
       "    <tr>\n",
       "      <th>2022</th>\n",
       "      <td>15</td>\n",
       "      <td>16</td>\n",
       "    </tr>\n",
       "  </tbody>\n",
       "</table>\n",
       "</div>"
      ],
      "text/plain": [
       "          avg_package  students\n",
       "cse 2019            1         2\n",
       "    2020            3         4\n",
       "    2021            5         6\n",
       "    2022            7         8\n",
       "ece 2019            9        10\n",
       "    2020           11        12\n",
       "    2021           13        14\n",
       "    2022           15        16"
      ]
     },
     "execution_count": 25,
     "metadata": {},
     "output_type": "execute_result"
    }
   ],
   "source": [
    "\n",
    "branch_df4 = pd.DataFrame(\n",
    "        data = [\n",
    "        [1,2],\n",
    "        [3,4],\n",
    "        [5,6],\n",
    "        [7,8],\n",
    "        [9,10],\n",
    "        [11,12],\n",
    "        [13,14],\n",
    "        [15,16],\n",
    "        ],\n",
    "        index = pd.MultiIndex.from_product([['cse','ece'], [2019, 2020, 2021, 2022]]),\n",
    "        columns = ['avg_package', 'students']\n",
    "    )\n",
    "# -> \n",
    "branch_df4\n",
    "\n"
   ]
  },
  {
   "cell_type": "code",
   "execution_count": 26,
   "id": "2fc6dfe1",
   "metadata": {},
   "outputs": [
    {
     "data": {
      "application/vnd.microsoft.datawrangler.viewer.v0+json": {
       "columns": [
        {
         "name": "index",
         "rawType": "object",
         "type": "string"
        },
        {
         "name": "('avg_package', 2019)",
         "rawType": "int64",
         "type": "integer"
        },
        {
         "name": "('avg_package', 2020)",
         "rawType": "int64",
         "type": "integer"
        },
        {
         "name": "('avg_package', 2021)",
         "rawType": "int64",
         "type": "integer"
        },
        {
         "name": "('avg_package', 2022)",
         "rawType": "int64",
         "type": "integer"
        },
        {
         "name": "('students', 2019)",
         "rawType": "int64",
         "type": "integer"
        },
        {
         "name": "('students', 2020)",
         "rawType": "int64",
         "type": "integer"
        },
        {
         "name": "('students', 2021)",
         "rawType": "int64",
         "type": "integer"
        },
        {
         "name": "('students', 2022)",
         "rawType": "int64",
         "type": "integer"
        }
       ],
       "conversionMethod": "pd.DataFrame",
       "ref": "a9ec4322-4313-4d50-9640-7bfb715398ec",
       "rows": [
        [
         "cse",
         "1",
         "3",
         "5",
         "7",
         "2",
         "4",
         "6",
         "8"
        ],
        [
         "ece",
         "9",
         "11",
         "13",
         "15",
         "10",
         "12",
         "14",
         "16"
        ]
       ],
       "shape": {
        "columns": 8,
        "rows": 2
       }
      },
      "text/html": [
       "<div>\n",
       "<style scoped>\n",
       "    .dataframe tbody tr th:only-of-type {\n",
       "        vertical-align: middle;\n",
       "    }\n",
       "\n",
       "    .dataframe tbody tr th {\n",
       "        vertical-align: top;\n",
       "    }\n",
       "\n",
       "    .dataframe thead tr th {\n",
       "        text-align: left;\n",
       "    }\n",
       "</style>\n",
       "<table border=\"1\" class=\"dataframe\">\n",
       "  <thead>\n",
       "    <tr>\n",
       "      <th></th>\n",
       "      <th colspan=\"4\" halign=\"left\">avg_package</th>\n",
       "      <th colspan=\"4\" halign=\"left\">students</th>\n",
       "    </tr>\n",
       "    <tr>\n",
       "      <th></th>\n",
       "      <th>2019</th>\n",
       "      <th>2020</th>\n",
       "      <th>2021</th>\n",
       "      <th>2022</th>\n",
       "      <th>2019</th>\n",
       "      <th>2020</th>\n",
       "      <th>2021</th>\n",
       "      <th>2022</th>\n",
       "    </tr>\n",
       "  </thead>\n",
       "  <tbody>\n",
       "    <tr>\n",
       "      <th>cse</th>\n",
       "      <td>1</td>\n",
       "      <td>3</td>\n",
       "      <td>5</td>\n",
       "      <td>7</td>\n",
       "      <td>2</td>\n",
       "      <td>4</td>\n",
       "      <td>6</td>\n",
       "      <td>8</td>\n",
       "    </tr>\n",
       "    <tr>\n",
       "      <th>ece</th>\n",
       "      <td>9</td>\n",
       "      <td>11</td>\n",
       "      <td>13</td>\n",
       "      <td>15</td>\n",
       "      <td>10</td>\n",
       "      <td>12</td>\n",
       "      <td>14</td>\n",
       "      <td>16</td>\n",
       "    </tr>\n",
       "  </tbody>\n",
       "</table>\n",
       "</div>"
      ],
      "text/plain": [
       "    avg_package                students               \n",
       "           2019 2020 2021 2022     2019 2020 2021 2022\n",
       "cse           1    3    5    7        2    4    6    8\n",
       "ece           9   11   13   15       10   12   14   16"
      ]
     },
     "execution_count": 26,
     "metadata": {},
     "output_type": "execute_result"
    }
   ],
   "source": [
    "# explaanation of what happens on unstack() call on branch_df4 -> https://www.youtube.com/live/QzoRUwz8DoM?si=-ZuQRphEo_AlkBme&t=3027\n",
    "\n",
    "branch_df4.unstack()"
   ]
  },
  {
   "cell_type": "code",
   "execution_count": 27,
   "id": "ab97c75a",
   "metadata": {},
   "outputs": [
    {
     "data": {
      "text/plain": [
       "avg_package  2019  cse     1\n",
       "                   ece     9\n",
       "             2020  cse     3\n",
       "                   ece    11\n",
       "             2021  cse     5\n",
       "                   ece    13\n",
       "             2022  cse     7\n",
       "                   ece    15\n",
       "students     2019  cse     2\n",
       "                   ece    10\n",
       "             2020  cse     4\n",
       "                   ece    12\n",
       "             2021  cse     6\n",
       "                   ece    14\n",
       "             2022  cse     8\n",
       "                   ece    16\n",
       "dtype: int64"
      ]
     },
     "execution_count": 27,
     "metadata": {},
     "output_type": "execute_result"
    }
   ],
   "source": [
    "# Exaplanation of what happens when unstack calls 2 times on branch_df4 - https://www.youtube.com/live/QzoRUwz8DoM?si=jYpMl2Hd-_nsyF89&t=3227\n",
    "branch_df4.unstack().unstack()\n",
    "# from this what we observe is, that `unstack` keeps convert index(last index first) into columns(nested inside previous columns)"
   ]
  },
  {
   "cell_type": "code",
   "execution_count": 28,
   "id": "3fbd7807",
   "metadata": {},
   "outputs": [
    {
     "data": {
      "application/vnd.microsoft.datawrangler.viewer.v0+json": {
       "columns": [
        {
         "name": "(None, None)",
         "rawType": "object",
         "type": "unknown"
        },
        {
         "name": "avg_package",
         "rawType": "int64",
         "type": "integer"
        },
        {
         "name": "students",
         "rawType": "int64",
         "type": "integer"
        }
       ],
       "conversionMethod": "pd.DataFrame",
       "ref": "b6ec04bf-c9a7-48b7-9ed8-a50dc00bef49",
       "rows": [
        [
         "('cse', np.int64(2019))",
         "1",
         "2"
        ],
        [
         "('cse', np.int64(2020))",
         "3",
         "4"
        ],
        [
         "('cse', np.int64(2021))",
         "5",
         "6"
        ],
        [
         "('cse', np.int64(2022))",
         "7",
         "8"
        ],
        [
         "('ece', np.int64(2019))",
         "9",
         "10"
        ],
        [
         "('ece', np.int64(2020))",
         "11",
         "12"
        ],
        [
         "('ece', np.int64(2021))",
         "13",
         "14"
        ],
        [
         "('ece', np.int64(2022))",
         "15",
         "16"
        ]
       ],
       "shape": {
        "columns": 2,
        "rows": 8
       }
      },
      "text/html": [
       "<div>\n",
       "<style scoped>\n",
       "    .dataframe tbody tr th:only-of-type {\n",
       "        vertical-align: middle;\n",
       "    }\n",
       "\n",
       "    .dataframe tbody tr th {\n",
       "        vertical-align: top;\n",
       "    }\n",
       "\n",
       "    .dataframe thead th {\n",
       "        text-align: right;\n",
       "    }\n",
       "</style>\n",
       "<table border=\"1\" class=\"dataframe\">\n",
       "  <thead>\n",
       "    <tr style=\"text-align: right;\">\n",
       "      <th></th>\n",
       "      <th></th>\n",
       "      <th>avg_package</th>\n",
       "      <th>students</th>\n",
       "    </tr>\n",
       "  </thead>\n",
       "  <tbody>\n",
       "    <tr>\n",
       "      <th rowspan=\"4\" valign=\"top\">cse</th>\n",
       "      <th>2019</th>\n",
       "      <td>1</td>\n",
       "      <td>2</td>\n",
       "    </tr>\n",
       "    <tr>\n",
       "      <th>2020</th>\n",
       "      <td>3</td>\n",
       "      <td>4</td>\n",
       "    </tr>\n",
       "    <tr>\n",
       "      <th>2021</th>\n",
       "      <td>5</td>\n",
       "      <td>6</td>\n",
       "    </tr>\n",
       "    <tr>\n",
       "      <th>2022</th>\n",
       "      <td>7</td>\n",
       "      <td>8</td>\n",
       "    </tr>\n",
       "    <tr>\n",
       "      <th rowspan=\"4\" valign=\"top\">ece</th>\n",
       "      <th>2019</th>\n",
       "      <td>9</td>\n",
       "      <td>10</td>\n",
       "    </tr>\n",
       "    <tr>\n",
       "      <th>2020</th>\n",
       "      <td>11</td>\n",
       "      <td>12</td>\n",
       "    </tr>\n",
       "    <tr>\n",
       "      <th>2021</th>\n",
       "      <td>13</td>\n",
       "      <td>14</td>\n",
       "    </tr>\n",
       "    <tr>\n",
       "      <th>2022</th>\n",
       "      <td>15</td>\n",
       "      <td>16</td>\n",
       "    </tr>\n",
       "  </tbody>\n",
       "</table>\n",
       "</div>"
      ],
      "text/plain": [
       "          avg_package  students\n",
       "cse 2019            1         2\n",
       "    2020            3         4\n",
       "    2021            5         6\n",
       "    2022            7         8\n",
       "ece 2019            9        10\n",
       "    2020           11        12\n",
       "    2021           13        14\n",
       "    2022           15        16"
      ]
     },
     "execution_count": 28,
     "metadata": {},
     "output_type": "execute_result"
    }
   ],
   "source": [
    "branch_df4"
   ]
  },
  {
   "cell_type": "code",
   "execution_count": 29,
   "id": "f65ef237",
   "metadata": {},
   "outputs": [
    {
     "data": {
      "text/plain": [
       "cse  2019  avg_package     1\n",
       "           students        2\n",
       "     2020  avg_package     3\n",
       "           students        4\n",
       "     2021  avg_package     5\n",
       "           students        6\n",
       "     2022  avg_package     7\n",
       "           students        8\n",
       "ece  2019  avg_package     9\n",
       "           students       10\n",
       "     2020  avg_package    11\n",
       "           students       12\n",
       "     2021  avg_package    13\n",
       "           students       14\n",
       "     2022  avg_package    15\n",
       "           students       16\n",
       "dtype: int64"
      ]
     },
     "execution_count": 29,
     "metadata": {},
     "output_type": "execute_result"
    }
   ],
   "source": [
    "# now we will do opposite, means `stack` -> https://www.youtube.com/live/QzoRUwz8DoM?si=K2Fo8VB-be616Mjg&t=3417\n",
    "# so stack converts columns into indexes, and it will keep converting columns into indexes(last column first) until all columns are converted into indexes\n",
    "branch_df4.stack()\n"
   ]
  },
  {
   "cell_type": "code",
   "execution_count": 30,
   "id": "2afbc1a3",
   "metadata": {},
   "outputs": [
    {
     "data": {
      "text/plain": [
       "' And one thing more we observe is that if all the columns or rows are converting into indexes or columns respectively, \\nthen it will convert into a series, automatically '"
      ]
     },
     "execution_count": 30,
     "metadata": {},
     "output_type": "execute_result"
    }
   ],
   "source": [
    "\"\"\" And one thing more we observe is that if all the columns or rows are converting into indexes or columns respectively, \n",
    "then it will convert into a series, automatically \"\"\""
   ]
  },
  {
   "cell_type": "code",
   "execution_count": 31,
   "id": "d2ead01c",
   "metadata": {},
   "outputs": [
    {
     "data": {
      "text/plain": [
       "' 2. And then we deciding(using `stack` and `unstack` methods)  how much row(we can say index too) will handle, \\nand how much column will handle  '"
      ]
     },
     "execution_count": 31,
     "metadata": {},
     "output_type": "execute_result"
    }
   ],
   "source": [
    "# so what we done till now in this section, is that :\n",
    "# 1. First we represent higher dimension data in lower dimension using dataframe(2d)\n",
    "\"\"\" 2. And then we deciding(using `stack` and `unstack` methods)  how much row(we can say index too) will handle, \n",
    "and how much column will handle  \"\"\""
   ]
  },
  {
   "cell_type": "markdown",
   "id": "c0014788",
   "metadata": {},
   "source": [
    "## Wroking with multi-index dataframes\n",
    "- [See this video to learn the topics realted to this section](https://www.youtube.com/live/QzoRUwz8DoM?si=gzsSAlxxWBmmIm9k&t=4137)"
   ]
  },
  {
   "cell_type": "code",
   "execution_count": 32,
   "id": "47d4dc27",
   "metadata": {},
   "outputs": [
    {
     "data": {
      "application/vnd.microsoft.datawrangler.viewer.v0+json": {
       "columns": [
        {
         "name": "(None, None)",
         "rawType": "object",
         "type": "unknown"
        },
        {
         "name": "('delhi', 'avg_package')",
         "rawType": "int64",
         "type": "integer"
        },
        {
         "name": "('delhi', 'students')",
         "rawType": "int64",
         "type": "integer"
        },
        {
         "name": "('mumbai', 'avg_package')",
         "rawType": "int64",
         "type": "integer"
        },
        {
         "name": "('mumbai', 'students')",
         "rawType": "int64",
         "type": "integer"
        }
       ],
       "conversionMethod": "pd.DataFrame",
       "ref": "1640242b-8f71-463e-aacd-6d2a55358a10",
       "rows": [
        [
         "('cse', np.int64(2019))",
         "1",
         "2",
         "0",
         "0"
        ],
        [
         "('cse', np.int64(2020))",
         "3",
         "4",
         "0",
         "0"
        ],
        [
         "('cse', np.int64(2021))",
         "5",
         "6",
         "0",
         "0"
        ],
        [
         "('cse', np.int64(2022))",
         "7",
         "8",
         "0",
         "0"
        ],
        [
         "('ece', np.int64(2019))",
         "9",
         "10",
         "0",
         "0"
        ],
        [
         "('ece', np.int64(2020))",
         "11",
         "12",
         "0",
         "0"
        ],
        [
         "('ece', np.int64(2021))",
         "13",
         "14",
         "0",
         "0"
        ],
        [
         "('ece', np.int64(2022))",
         "15",
         "16",
         "0",
         "0"
        ]
       ],
       "shape": {
        "columns": 4,
        "rows": 8
       }
      },
      "text/html": [
       "<div>\n",
       "<style scoped>\n",
       "    .dataframe tbody tr th:only-of-type {\n",
       "        vertical-align: middle;\n",
       "    }\n",
       "\n",
       "    .dataframe tbody tr th {\n",
       "        vertical-align: top;\n",
       "    }\n",
       "\n",
       "    .dataframe thead tr th {\n",
       "        text-align: left;\n",
       "    }\n",
       "</style>\n",
       "<table border=\"1\" class=\"dataframe\">\n",
       "  <thead>\n",
       "    <tr>\n",
       "      <th></th>\n",
       "      <th></th>\n",
       "      <th colspan=\"2\" halign=\"left\">delhi</th>\n",
       "      <th colspan=\"2\" halign=\"left\">mumbai</th>\n",
       "    </tr>\n",
       "    <tr>\n",
       "      <th></th>\n",
       "      <th></th>\n",
       "      <th>avg_package</th>\n",
       "      <th>students</th>\n",
       "      <th>avg_package</th>\n",
       "      <th>students</th>\n",
       "    </tr>\n",
       "  </thead>\n",
       "  <tbody>\n",
       "    <tr>\n",
       "      <th rowspan=\"4\" valign=\"top\">cse</th>\n",
       "      <th>2019</th>\n",
       "      <td>1</td>\n",
       "      <td>2</td>\n",
       "      <td>0</td>\n",
       "      <td>0</td>\n",
       "    </tr>\n",
       "    <tr>\n",
       "      <th>2020</th>\n",
       "      <td>3</td>\n",
       "      <td>4</td>\n",
       "      <td>0</td>\n",
       "      <td>0</td>\n",
       "    </tr>\n",
       "    <tr>\n",
       "      <th>2021</th>\n",
       "      <td>5</td>\n",
       "      <td>6</td>\n",
       "      <td>0</td>\n",
       "      <td>0</td>\n",
       "    </tr>\n",
       "    <tr>\n",
       "      <th>2022</th>\n",
       "      <td>7</td>\n",
       "      <td>8</td>\n",
       "      <td>0</td>\n",
       "      <td>0</td>\n",
       "    </tr>\n",
       "    <tr>\n",
       "      <th rowspan=\"4\" valign=\"top\">ece</th>\n",
       "      <th>2019</th>\n",
       "      <td>9</td>\n",
       "      <td>10</td>\n",
       "      <td>0</td>\n",
       "      <td>0</td>\n",
       "    </tr>\n",
       "    <tr>\n",
       "      <th>2020</th>\n",
       "      <td>11</td>\n",
       "      <td>12</td>\n",
       "      <td>0</td>\n",
       "      <td>0</td>\n",
       "    </tr>\n",
       "    <tr>\n",
       "      <th>2021</th>\n",
       "      <td>13</td>\n",
       "      <td>14</td>\n",
       "      <td>0</td>\n",
       "      <td>0</td>\n",
       "    </tr>\n",
       "    <tr>\n",
       "      <th>2022</th>\n",
       "      <td>15</td>\n",
       "      <td>16</td>\n",
       "      <td>0</td>\n",
       "      <td>0</td>\n",
       "    </tr>\n",
       "  </tbody>\n",
       "</table>\n",
       "</div>"
      ],
      "text/plain": [
       "               delhi               mumbai         \n",
       "         avg_package students avg_package students\n",
       "cse 2019           1        2           0        0\n",
       "    2020           3        4           0        0\n",
       "    2021           5        6           0        0\n",
       "    2022           7        8           0        0\n",
       "ece 2019           9       10           0        0\n",
       "    2020          11       12           0        0\n",
       "    2021          13       14           0        0\n",
       "    2022          15       16           0        0"
      ]
     },
     "execution_count": 32,
     "metadata": {},
     "output_type": "execute_result"
    }
   ],
   "source": [
    "\n",
    "# first we will make 4d dataframe\n",
    "branch_df5 = pd.DataFrame(\n",
    "    data=[\n",
    "        [1,2,0,0],\n",
    "        [3,4,0,0],\n",
    "        [5,6,0,0],\n",
    "        [7,8,0,0],\n",
    "        [9,10,0,0],\n",
    "        [11,12,0,0],\n",
    "        [13,14,0,0],\n",
    "        [15,16,0,0],\n",
    "    ],\n",
    "    index = pd.MultiIndex.from_product([['cse','ece'], [2019, 2020, 2021, 2022]]),\n",
    "    columns = pd.MultiIndex.from_product([['delhi','mumbai'], ['avg_package', 'students']])\n",
    ")\n",
    "branch_df5"
   ]
  },
  {
   "cell_type": "code",
   "execution_count": 33,
   "id": "9d79bcb8",
   "metadata": {},
   "outputs": [
    {
     "data": {
      "application/vnd.microsoft.datawrangler.viewer.v0+json": {
       "columns": [
        {
         "name": "(None, None)",
         "rawType": "object",
         "type": "unknown"
        },
        {
         "name": "('delhi', 'avg_package')",
         "rawType": "int64",
         "type": "integer"
        },
        {
         "name": "('delhi', 'students')",
         "rawType": "int64",
         "type": "integer"
        },
        {
         "name": "('mumbai', 'avg_package')",
         "rawType": "int64",
         "type": "integer"
        },
        {
         "name": "('mumbai', 'students')",
         "rawType": "int64",
         "type": "integer"
        }
       ],
       "conversionMethod": "pd.DataFrame",
       "ref": "a0d5124e-b2dd-44c7-8ac1-75485d8bd778",
       "rows": [
        [
         "('cse', np.int64(2019))",
         "1",
         "2",
         "0",
         "0"
        ],
        [
         "('cse', np.int64(2020))",
         "3",
         "4",
         "0",
         "0"
        ],
        [
         "('cse', np.int64(2021))",
         "5",
         "6",
         "0",
         "0"
        ],
        [
         "('cse', np.int64(2022))",
         "7",
         "8",
         "0",
         "0"
        ],
        [
         "('ece', np.int64(2019))",
         "9",
         "10",
         "0",
         "0"
        ]
       ],
       "shape": {
        "columns": 4,
        "rows": 5
       }
      },
      "text/html": [
       "<div>\n",
       "<style scoped>\n",
       "    .dataframe tbody tr th:only-of-type {\n",
       "        vertical-align: middle;\n",
       "    }\n",
       "\n",
       "    .dataframe tbody tr th {\n",
       "        vertical-align: top;\n",
       "    }\n",
       "\n",
       "    .dataframe thead tr th {\n",
       "        text-align: left;\n",
       "    }\n",
       "</style>\n",
       "<table border=\"1\" class=\"dataframe\">\n",
       "  <thead>\n",
       "    <tr>\n",
       "      <th></th>\n",
       "      <th></th>\n",
       "      <th colspan=\"2\" halign=\"left\">delhi</th>\n",
       "      <th colspan=\"2\" halign=\"left\">mumbai</th>\n",
       "    </tr>\n",
       "    <tr>\n",
       "      <th></th>\n",
       "      <th></th>\n",
       "      <th>avg_package</th>\n",
       "      <th>students</th>\n",
       "      <th>avg_package</th>\n",
       "      <th>students</th>\n",
       "    </tr>\n",
       "  </thead>\n",
       "  <tbody>\n",
       "    <tr>\n",
       "      <th rowspan=\"4\" valign=\"top\">cse</th>\n",
       "      <th>2019</th>\n",
       "      <td>1</td>\n",
       "      <td>2</td>\n",
       "      <td>0</td>\n",
       "      <td>0</td>\n",
       "    </tr>\n",
       "    <tr>\n",
       "      <th>2020</th>\n",
       "      <td>3</td>\n",
       "      <td>4</td>\n",
       "      <td>0</td>\n",
       "      <td>0</td>\n",
       "    </tr>\n",
       "    <tr>\n",
       "      <th>2021</th>\n",
       "      <td>5</td>\n",
       "      <td>6</td>\n",
       "      <td>0</td>\n",
       "      <td>0</td>\n",
       "    </tr>\n",
       "    <tr>\n",
       "      <th>2022</th>\n",
       "      <td>7</td>\n",
       "      <td>8</td>\n",
       "      <td>0</td>\n",
       "      <td>0</td>\n",
       "    </tr>\n",
       "    <tr>\n",
       "      <th>ece</th>\n",
       "      <th>2019</th>\n",
       "      <td>9</td>\n",
       "      <td>10</td>\n",
       "      <td>0</td>\n",
       "      <td>0</td>\n",
       "    </tr>\n",
       "  </tbody>\n",
       "</table>\n",
       "</div>"
      ],
      "text/plain": [
       "               delhi               mumbai         \n",
       "         avg_package students avg_package students\n",
       "cse 2019           1        2           0        0\n",
       "    2020           3        4           0        0\n",
       "    2021           5        6           0        0\n",
       "    2022           7        8           0        0\n",
       "ece 2019           9       10           0        0"
      ]
     },
     "execution_count": 33,
     "metadata": {},
     "output_type": "execute_result"
    }
   ],
   "source": [
    "# head and tail -> https://www.youtube.com/live/QzoRUwz8DoM?si=PoBJPrbyw4JkLU20&t=4097\n",
    "branch_df5.head(5) # so it will give first 5 rows, btw 5 inside head an tail is by default"
   ]
  },
  {
   "cell_type": "code",
   "execution_count": 34,
   "id": "e7306863",
   "metadata": {},
   "outputs": [
    {
     "data": {
      "text/plain": [
       "' so we have 32 values in total, so shape will be (8,4) but if we see the shape of `branch_df5` it is (8,4) but it has 32 values in total,\\nso we can say that it is a 4d data represented in dataframe\\n'"
      ]
     },
     "execution_count": 34,
     "metadata": {},
     "output_type": "execute_result"
    }
   ],
   "source": [
    "# shape -> https://www.youtube.com/live/QzoRUwz8DoM?si=Z5wzEvpiSGrFFZor&t=4117\n",
    "branch_df5.shape # remember we said that we convert higher dimension data into lower dimension, here in 8 rows and 4 columns,\n",
    "\"\"\" so we have 32 values in total, so shape will be (8,4) but if we see the shape of `branch_df5` it is (8,4) but it has 32 values in total,\n",
    "so we can say that it is a 4d data represented in dataframe\n",
    "\"\"\""
   ]
  },
  {
   "cell_type": "code",
   "execution_count": 35,
   "id": "57a803f8",
   "metadata": {},
   "outputs": [
    {
     "name": "stdout",
     "output_type": "stream",
     "text": [
      "<class 'pandas.core.frame.DataFrame'>\n",
      "MultiIndex: 8 entries, ('cse', np.int64(2019)) to ('ece', np.int64(2022))\n",
      "Data columns (total 4 columns):\n",
      " #   Column                 Non-Null Count  Dtype\n",
      "---  ------                 --------------  -----\n",
      " 0   (delhi, avg_package)   8 non-null      int64\n",
      " 1   (delhi, students)      8 non-null      int64\n",
      " 2   (mumbai, avg_package)  8 non-null      int64\n",
      " 3   (mumbai, students)     8 non-null      int64\n",
      "dtypes: int64(4)\n",
      "memory usage: 632.0+ bytes\n"
     ]
    }
   ],
   "source": [
    "# info() -> https://www.youtube.com/live/QzoRUwz8DoM?si=Qs8EU_i5-8Gr6DJ1&t=4137\n",
    "branch_df5.info() "
   ]
  },
  {
   "cell_type": "code",
   "execution_count": 36,
   "id": "b3c8256b",
   "metadata": {},
   "outputs": [
    {
     "data": {
      "text/plain": [
       "cse  2019    False\n",
       "     2020    False\n",
       "     2021    False\n",
       "     2022    False\n",
       "ece  2019    False\n",
       "     2020    False\n",
       "     2021    False\n",
       "     2022    False\n",
       "dtype: bool"
      ]
     },
     "execution_count": 36,
     "metadata": {},
     "output_type": "execute_result"
    }
   ],
   "source": [
    "# duplication check -> https://www.youtube.com/live/QzoRUwz8DoM?si=BBPWzrdn4SVTqPZy&t=4197\n",
    "branch_df5.duplicated() # so it will give the boolean values of each row, if it is duplicated or not"
   ]
  },
  {
   "cell_type": "code",
   "execution_count": 37,
   "id": "55be0ca3",
   "metadata": {},
   "outputs": [
    {
     "data": {
      "application/vnd.microsoft.datawrangler.viewer.v0+json": {
       "columns": [
        {
         "name": "(None, None)",
         "rawType": "object",
         "type": "unknown"
        },
        {
         "name": "('delhi', 'avg_package')",
         "rawType": "bool",
         "type": "boolean"
        },
        {
         "name": "('delhi', 'students')",
         "rawType": "bool",
         "type": "boolean"
        },
        {
         "name": "('mumbai', 'avg_package')",
         "rawType": "bool",
         "type": "boolean"
        },
        {
         "name": "('mumbai', 'students')",
         "rawType": "bool",
         "type": "boolean"
        }
       ],
       "conversionMethod": "pd.DataFrame",
       "ref": "c7cbcae1-c4e7-4c36-a73b-17539401e613",
       "rows": [
        [
         "('cse', np.int64(2019))",
         "False",
         "False",
         "False",
         "False"
        ],
        [
         "('cse', np.int64(2020))",
         "False",
         "False",
         "False",
         "False"
        ],
        [
         "('cse', np.int64(2021))",
         "False",
         "False",
         "False",
         "False"
        ],
        [
         "('cse', np.int64(2022))",
         "False",
         "False",
         "False",
         "False"
        ],
        [
         "('ece', np.int64(2019))",
         "False",
         "False",
         "False",
         "False"
        ],
        [
         "('ece', np.int64(2020))",
         "False",
         "False",
         "False",
         "False"
        ],
        [
         "('ece', np.int64(2021))",
         "False",
         "False",
         "False",
         "False"
        ],
        [
         "('ece', np.int64(2022))",
         "False",
         "False",
         "False",
         "False"
        ]
       ],
       "shape": {
        "columns": 4,
        "rows": 8
       }
      },
      "text/html": [
       "<div>\n",
       "<style scoped>\n",
       "    .dataframe tbody tr th:only-of-type {\n",
       "        vertical-align: middle;\n",
       "    }\n",
       "\n",
       "    .dataframe tbody tr th {\n",
       "        vertical-align: top;\n",
       "    }\n",
       "\n",
       "    .dataframe thead tr th {\n",
       "        text-align: left;\n",
       "    }\n",
       "</style>\n",
       "<table border=\"1\" class=\"dataframe\">\n",
       "  <thead>\n",
       "    <tr>\n",
       "      <th></th>\n",
       "      <th></th>\n",
       "      <th colspan=\"2\" halign=\"left\">delhi</th>\n",
       "      <th colspan=\"2\" halign=\"left\">mumbai</th>\n",
       "    </tr>\n",
       "    <tr>\n",
       "      <th></th>\n",
       "      <th></th>\n",
       "      <th>avg_package</th>\n",
       "      <th>students</th>\n",
       "      <th>avg_package</th>\n",
       "      <th>students</th>\n",
       "    </tr>\n",
       "  </thead>\n",
       "  <tbody>\n",
       "    <tr>\n",
       "      <th rowspan=\"4\" valign=\"top\">cse</th>\n",
       "      <th>2019</th>\n",
       "      <td>False</td>\n",
       "      <td>False</td>\n",
       "      <td>False</td>\n",
       "      <td>False</td>\n",
       "    </tr>\n",
       "    <tr>\n",
       "      <th>2020</th>\n",
       "      <td>False</td>\n",
       "      <td>False</td>\n",
       "      <td>False</td>\n",
       "      <td>False</td>\n",
       "    </tr>\n",
       "    <tr>\n",
       "      <th>2021</th>\n",
       "      <td>False</td>\n",
       "      <td>False</td>\n",
       "      <td>False</td>\n",
       "      <td>False</td>\n",
       "    </tr>\n",
       "    <tr>\n",
       "      <th>2022</th>\n",
       "      <td>False</td>\n",
       "      <td>False</td>\n",
       "      <td>False</td>\n",
       "      <td>False</td>\n",
       "    </tr>\n",
       "    <tr>\n",
       "      <th rowspan=\"4\" valign=\"top\">ece</th>\n",
       "      <th>2019</th>\n",
       "      <td>False</td>\n",
       "      <td>False</td>\n",
       "      <td>False</td>\n",
       "      <td>False</td>\n",
       "    </tr>\n",
       "    <tr>\n",
       "      <th>2020</th>\n",
       "      <td>False</td>\n",
       "      <td>False</td>\n",
       "      <td>False</td>\n",
       "      <td>False</td>\n",
       "    </tr>\n",
       "    <tr>\n",
       "      <th>2021</th>\n",
       "      <td>False</td>\n",
       "      <td>False</td>\n",
       "      <td>False</td>\n",
       "      <td>False</td>\n",
       "    </tr>\n",
       "    <tr>\n",
       "      <th>2022</th>\n",
       "      <td>False</td>\n",
       "      <td>False</td>\n",
       "      <td>False</td>\n",
       "      <td>False</td>\n",
       "    </tr>\n",
       "  </tbody>\n",
       "</table>\n",
       "</div>"
      ],
      "text/plain": [
       "               delhi               mumbai         \n",
       "         avg_package students avg_package students\n",
       "cse 2019       False    False       False    False\n",
       "    2020       False    False       False    False\n",
       "    2021       False    False       False    False\n",
       "    2022       False    False       False    False\n",
       "ece 2019       False    False       False    False\n",
       "    2020       False    False       False    False\n",
       "    2021       False    False       False    False\n",
       "    2022       False    False       False    False"
      ]
     },
     "execution_count": 37,
     "metadata": {},
     "output_type": "execute_result"
    }
   ],
   "source": [
    "# isnull() -> https://www.youtube.com/live/QzoRUwz8DoM?si=NPi9ks0oVDcSf3kH&t=4207\n",
    "branch_df5.isnull() # so it will give the boolean values of each row and column, if it is null or not"
   ]
  },
  {
   "cell_type": "code",
   "execution_count": 38,
   "id": "0c73a8f4",
   "metadata": {},
   "outputs": [
    {
     "data": {
      "text/plain": [
       "delhi   avg_package    7\n",
       "        students       8\n",
       "mumbai  avg_package    0\n",
       "        students       0\n",
       "Name: (cse, 2022), dtype: int64"
      ]
     },
     "execution_count": 38,
     "metadata": {},
     "output_type": "execute_result"
    }
   ],
   "source": [
    "# extracting rows single -> https://www.youtube.com/live/QzoRUwz8DoM?si=0IcDdhBX63VtCZTn&t=4267\n",
    "branch_df5.loc['cse'].loc[2022] # or pass in tuple\n",
    "branch_df5.loc[('cse',2022)] # so it same as what we do in above line"
   ]
  },
  {
   "cell_type": "code",
   "execution_count": 39,
   "id": "94cdba46",
   "metadata": {},
   "outputs": [
    {
     "data": {
      "application/vnd.microsoft.datawrangler.viewer.v0+json": {
       "columns": [
        {
         "name": "(None, None)",
         "rawType": "object",
         "type": "unknown"
        },
        {
         "name": "('delhi', 'avg_package')",
         "rawType": "int64",
         "type": "integer"
        },
        {
         "name": "('delhi', 'students')",
         "rawType": "int64",
         "type": "integer"
        },
        {
         "name": "('mumbai', 'avg_package')",
         "rawType": "int64",
         "type": "integer"
        },
        {
         "name": "('mumbai', 'students')",
         "rawType": "int64",
         "type": "integer"
        }
       ],
       "conversionMethod": "pd.DataFrame",
       "ref": "523868cc-1609-41ca-a72b-1f8152b1cf9c",
       "rows": [
        [
         "('cse', np.int64(2019))",
         "1",
         "2",
         "0",
         "0"
        ],
        [
         "('cse', np.int64(2020))",
         "3",
         "4",
         "0",
         "0"
        ],
        [
         "('cse', np.int64(2021))",
         "5",
         "6",
         "0",
         "0"
        ],
        [
         "('cse', np.int64(2022))",
         "7",
         "8",
         "0",
         "0"
        ],
        [
         "('ece', np.int64(2019))",
         "9",
         "10",
         "0",
         "0"
        ],
        [
         "('ece', np.int64(2020))",
         "11",
         "12",
         "0",
         "0"
        ],
        [
         "('ece', np.int64(2021))",
         "13",
         "14",
         "0",
         "0"
        ],
        [
         "('ece', np.int64(2022))",
         "15",
         "16",
         "0",
         "0"
        ]
       ],
       "shape": {
        "columns": 4,
        "rows": 8
       }
      },
      "text/html": [
       "<div>\n",
       "<style scoped>\n",
       "    .dataframe tbody tr th:only-of-type {\n",
       "        vertical-align: middle;\n",
       "    }\n",
       "\n",
       "    .dataframe tbody tr th {\n",
       "        vertical-align: top;\n",
       "    }\n",
       "\n",
       "    .dataframe thead tr th {\n",
       "        text-align: left;\n",
       "    }\n",
       "</style>\n",
       "<table border=\"1\" class=\"dataframe\">\n",
       "  <thead>\n",
       "    <tr>\n",
       "      <th></th>\n",
       "      <th></th>\n",
       "      <th colspan=\"2\" halign=\"left\">delhi</th>\n",
       "      <th colspan=\"2\" halign=\"left\">mumbai</th>\n",
       "    </tr>\n",
       "    <tr>\n",
       "      <th></th>\n",
       "      <th></th>\n",
       "      <th>avg_package</th>\n",
       "      <th>students</th>\n",
       "      <th>avg_package</th>\n",
       "      <th>students</th>\n",
       "    </tr>\n",
       "  </thead>\n",
       "  <tbody>\n",
       "    <tr>\n",
       "      <th rowspan=\"4\" valign=\"top\">cse</th>\n",
       "      <th>2019</th>\n",
       "      <td>1</td>\n",
       "      <td>2</td>\n",
       "      <td>0</td>\n",
       "      <td>0</td>\n",
       "    </tr>\n",
       "    <tr>\n",
       "      <th>2020</th>\n",
       "      <td>3</td>\n",
       "      <td>4</td>\n",
       "      <td>0</td>\n",
       "      <td>0</td>\n",
       "    </tr>\n",
       "    <tr>\n",
       "      <th>2021</th>\n",
       "      <td>5</td>\n",
       "      <td>6</td>\n",
       "      <td>0</td>\n",
       "      <td>0</td>\n",
       "    </tr>\n",
       "    <tr>\n",
       "      <th>2022</th>\n",
       "      <td>7</td>\n",
       "      <td>8</td>\n",
       "      <td>0</td>\n",
       "      <td>0</td>\n",
       "    </tr>\n",
       "    <tr>\n",
       "      <th rowspan=\"4\" valign=\"top\">ece</th>\n",
       "      <th>2019</th>\n",
       "      <td>9</td>\n",
       "      <td>10</td>\n",
       "      <td>0</td>\n",
       "      <td>0</td>\n",
       "    </tr>\n",
       "    <tr>\n",
       "      <th>2020</th>\n",
       "      <td>11</td>\n",
       "      <td>12</td>\n",
       "      <td>0</td>\n",
       "      <td>0</td>\n",
       "    </tr>\n",
       "    <tr>\n",
       "      <th>2021</th>\n",
       "      <td>13</td>\n",
       "      <td>14</td>\n",
       "      <td>0</td>\n",
       "      <td>0</td>\n",
       "    </tr>\n",
       "    <tr>\n",
       "      <th>2022</th>\n",
       "      <td>15</td>\n",
       "      <td>16</td>\n",
       "      <td>0</td>\n",
       "      <td>0</td>\n",
       "    </tr>\n",
       "  </tbody>\n",
       "</table>\n",
       "</div>"
      ],
      "text/plain": [
       "               delhi               mumbai         \n",
       "         avg_package students avg_package students\n",
       "cse 2019           1        2           0        0\n",
       "    2020           3        4           0        0\n",
       "    2021           5        6           0        0\n",
       "    2022           7        8           0        0\n",
       "ece 2019           9       10           0        0\n",
       "    2020          11       12           0        0\n",
       "    2021          13       14           0        0\n",
       "    2022          15       16           0        0"
      ]
     },
     "execution_count": 39,
     "metadata": {},
     "output_type": "execute_result"
    }
   ],
   "source": [
    "branch_df5"
   ]
  },
  {
   "cell_type": "code",
   "execution_count": 40,
   "id": "0f912b05",
   "metadata": {},
   "outputs": [
    {
     "data": {
      "text/plain": [
       "np.int64(15)"
      ]
     },
     "execution_count": 40,
     "metadata": {},
     "output_type": "execute_result"
    }
   ],
   "source": [
    "# let;s go more specific, we wanna find average package of ece of delhi , in 2022\n",
    "# se we go from less specific to more specific and specific\n",
    "branch_df5.loc[('ece',2022),('delhi','avg_package')]"
   ]
  },
  {
   "cell_type": "code",
   "execution_count": 41,
   "id": "cf06da97",
   "metadata": {},
   "outputs": [
    {
     "data": {
      "application/vnd.microsoft.datawrangler.viewer.v0+json": {
       "columns": [
        {
         "name": "(None, None)",
         "rawType": "object",
         "type": "unknown"
        },
        {
         "name": "('delhi', 'avg_package')",
         "rawType": "int64",
         "type": "integer"
        },
        {
         "name": "('delhi', 'students')",
         "rawType": "int64",
         "type": "integer"
        },
        {
         "name": "('mumbai', 'avg_package')",
         "rawType": "int64",
         "type": "integer"
        },
        {
         "name": "('mumbai', 'students')",
         "rawType": "int64",
         "type": "integer"
        }
       ],
       "conversionMethod": "pd.DataFrame",
       "ref": "00314bb6-cb72-494e-bf8d-58d20ca78a52",
       "rows": [
        [
         "('cse', np.int64(2019))",
         "1",
         "2",
         "0",
         "0"
        ],
        [
         "('cse', np.int64(2021))",
         "5",
         "6",
         "0",
         "0"
        ],
        [
         "('ece', np.int64(2019))",
         "9",
         "10",
         "0",
         "0"
        ]
       ],
       "shape": {
        "columns": 4,
        "rows": 3
       }
      },
      "text/html": [
       "<div>\n",
       "<style scoped>\n",
       "    .dataframe tbody tr th:only-of-type {\n",
       "        vertical-align: middle;\n",
       "    }\n",
       "\n",
       "    .dataframe tbody tr th {\n",
       "        vertical-align: top;\n",
       "    }\n",
       "\n",
       "    .dataframe thead tr th {\n",
       "        text-align: left;\n",
       "    }\n",
       "</style>\n",
       "<table border=\"1\" class=\"dataframe\">\n",
       "  <thead>\n",
       "    <tr>\n",
       "      <th></th>\n",
       "      <th></th>\n",
       "      <th colspan=\"2\" halign=\"left\">delhi</th>\n",
       "      <th colspan=\"2\" halign=\"left\">mumbai</th>\n",
       "    </tr>\n",
       "    <tr>\n",
       "      <th></th>\n",
       "      <th></th>\n",
       "      <th>avg_package</th>\n",
       "      <th>students</th>\n",
       "      <th>avg_package</th>\n",
       "      <th>students</th>\n",
       "    </tr>\n",
       "  </thead>\n",
       "  <tbody>\n",
       "    <tr>\n",
       "      <th rowspan=\"2\" valign=\"top\">cse</th>\n",
       "      <th>2019</th>\n",
       "      <td>1</td>\n",
       "      <td>2</td>\n",
       "      <td>0</td>\n",
       "      <td>0</td>\n",
       "    </tr>\n",
       "    <tr>\n",
       "      <th>2021</th>\n",
       "      <td>5</td>\n",
       "      <td>6</td>\n",
       "      <td>0</td>\n",
       "      <td>0</td>\n",
       "    </tr>\n",
       "    <tr>\n",
       "      <th>ece</th>\n",
       "      <th>2019</th>\n",
       "      <td>9</td>\n",
       "      <td>10</td>\n",
       "      <td>0</td>\n",
       "      <td>0</td>\n",
       "    </tr>\n",
       "  </tbody>\n",
       "</table>\n",
       "</div>"
      ],
      "text/plain": [
       "               delhi               mumbai         \n",
       "         avg_package students avg_package students\n",
       "cse 2019           1        2           0        0\n",
       "    2021           5        6           0        0\n",
       "ece 2019           9       10           0        0"
      ]
     },
     "execution_count": 41,
     "metadata": {},
     "output_type": "execute_result"
    }
   ],
   "source": [
    "# multiple\n",
    "branch_df5.iloc[:5:2]\n",
    "# you can do same with loc -> https://www.youtube.com/live/QzoRUwz8DoM?si=An5qUFCtEsCDQOWb&t=4407"
   ]
  },
  {
   "cell_type": "code",
   "execution_count": 42,
   "id": "aca81c16",
   "metadata": {},
   "outputs": [
    {
     "data": {
      "application/vnd.microsoft.datawrangler.viewer.v0+json": {
       "columns": [
        {
         "name": "(None, None)",
         "rawType": "object",
         "type": "unknown"
        },
        {
         "name": "('delhi', 'avg_package')",
         "rawType": "int64",
         "type": "integer"
        },
        {
         "name": "('delhi', 'students')",
         "rawType": "int64",
         "type": "integer"
        },
        {
         "name": "('mumbai', 'avg_package')",
         "rawType": "int64",
         "type": "integer"
        },
        {
         "name": "('mumbai', 'students')",
         "rawType": "int64",
         "type": "integer"
        }
       ],
       "conversionMethod": "pd.DataFrame",
       "ref": "d218d52f-f42d-4796-ae62-10d002cd7f56",
       "rows": [
        [
         "('cse', np.int64(2019))",
         "1",
         "2",
         "0",
         "0"
        ],
        [
         "('cse', np.int64(2021))",
         "5",
         "6",
         "0",
         "0"
        ],
        [
         "('ece', np.int64(2019))",
         "9",
         "10",
         "0",
         "0"
        ]
       ],
       "shape": {
        "columns": 4,
        "rows": 3
       }
      },
      "text/html": [
       "<div>\n",
       "<style scoped>\n",
       "    .dataframe tbody tr th:only-of-type {\n",
       "        vertical-align: middle;\n",
       "    }\n",
       "\n",
       "    .dataframe tbody tr th {\n",
       "        vertical-align: top;\n",
       "    }\n",
       "\n",
       "    .dataframe thead tr th {\n",
       "        text-align: left;\n",
       "    }\n",
       "</style>\n",
       "<table border=\"1\" class=\"dataframe\">\n",
       "  <thead>\n",
       "    <tr>\n",
       "      <th></th>\n",
       "      <th></th>\n",
       "      <th colspan=\"2\" halign=\"left\">delhi</th>\n",
       "      <th colspan=\"2\" halign=\"left\">mumbai</th>\n",
       "    </tr>\n",
       "    <tr>\n",
       "      <th></th>\n",
       "      <th></th>\n",
       "      <th>avg_package</th>\n",
       "      <th>students</th>\n",
       "      <th>avg_package</th>\n",
       "      <th>students</th>\n",
       "    </tr>\n",
       "  </thead>\n",
       "  <tbody>\n",
       "    <tr>\n",
       "      <th rowspan=\"2\" valign=\"top\">cse</th>\n",
       "      <th>2019</th>\n",
       "      <td>1</td>\n",
       "      <td>2</td>\n",
       "      <td>0</td>\n",
       "      <td>0</td>\n",
       "    </tr>\n",
       "    <tr>\n",
       "      <th>2021</th>\n",
       "      <td>5</td>\n",
       "      <td>6</td>\n",
       "      <td>0</td>\n",
       "      <td>0</td>\n",
       "    </tr>\n",
       "    <tr>\n",
       "      <th>ece</th>\n",
       "      <th>2019</th>\n",
       "      <td>9</td>\n",
       "      <td>10</td>\n",
       "      <td>0</td>\n",
       "      <td>0</td>\n",
       "    </tr>\n",
       "  </tbody>\n",
       "</table>\n",
       "</div>"
      ],
      "text/plain": [
       "               delhi               mumbai         \n",
       "         avg_package students avg_package students\n",
       "cse 2019           1        2           0        0\n",
       "    2021           5        6           0        0\n",
       "ece 2019           9       10           0        0"
      ]
     },
     "execution_count": 42,
     "metadata": {},
     "output_type": "execute_result"
    }
   ],
   "source": [
    "branch_df5.loc[('cse',2019): ('ece',2019):2]\n",
    " # But Note: unlike `iloc` indexing, `loc` indexing is inclusive, so it will include the last index too"
   ]
  },
  {
   "cell_type": "code",
   "execution_count": 43,
   "id": "2910400c",
   "metadata": {},
   "outputs": [
    {
     "data": {
      "application/vnd.microsoft.datawrangler.viewer.v0+json": {
       "columns": [
        {
         "name": "(None, None)",
         "rawType": "object",
         "type": "unknown"
        },
        {
         "name": "avg_package",
         "rawType": "int64",
         "type": "integer"
        },
        {
         "name": "students",
         "rawType": "int64",
         "type": "integer"
        }
       ],
       "conversionMethod": "pd.DataFrame",
       "ref": "4d34d7ae-09a5-4ffc-85a3-f4ef764f027e",
       "rows": [
        [
         "('cse', np.int64(2019))",
         "1",
         "2"
        ],
        [
         "('cse', np.int64(2020))",
         "3",
         "4"
        ],
        [
         "('cse', np.int64(2021))",
         "5",
         "6"
        ],
        [
         "('cse', np.int64(2022))",
         "7",
         "8"
        ],
        [
         "('ece', np.int64(2019))",
         "9",
         "10"
        ],
        [
         "('ece', np.int64(2020))",
         "11",
         "12"
        ],
        [
         "('ece', np.int64(2021))",
         "13",
         "14"
        ],
        [
         "('ece', np.int64(2022))",
         "15",
         "16"
        ]
       ],
       "shape": {
        "columns": 2,
        "rows": 8
       }
      },
      "text/html": [
       "<div>\n",
       "<style scoped>\n",
       "    .dataframe tbody tr th:only-of-type {\n",
       "        vertical-align: middle;\n",
       "    }\n",
       "\n",
       "    .dataframe tbody tr th {\n",
       "        vertical-align: top;\n",
       "    }\n",
       "\n",
       "    .dataframe thead th {\n",
       "        text-align: right;\n",
       "    }\n",
       "</style>\n",
       "<table border=\"1\" class=\"dataframe\">\n",
       "  <thead>\n",
       "    <tr style=\"text-align: right;\">\n",
       "      <th></th>\n",
       "      <th></th>\n",
       "      <th>avg_package</th>\n",
       "      <th>students</th>\n",
       "    </tr>\n",
       "  </thead>\n",
       "  <tbody>\n",
       "    <tr>\n",
       "      <th rowspan=\"4\" valign=\"top\">cse</th>\n",
       "      <th>2019</th>\n",
       "      <td>1</td>\n",
       "      <td>2</td>\n",
       "    </tr>\n",
       "    <tr>\n",
       "      <th>2020</th>\n",
       "      <td>3</td>\n",
       "      <td>4</td>\n",
       "    </tr>\n",
       "    <tr>\n",
       "      <th>2021</th>\n",
       "      <td>5</td>\n",
       "      <td>6</td>\n",
       "    </tr>\n",
       "    <tr>\n",
       "      <th>2022</th>\n",
       "      <td>7</td>\n",
       "      <td>8</td>\n",
       "    </tr>\n",
       "    <tr>\n",
       "      <th rowspan=\"4\" valign=\"top\">ece</th>\n",
       "      <th>2019</th>\n",
       "      <td>9</td>\n",
       "      <td>10</td>\n",
       "    </tr>\n",
       "    <tr>\n",
       "      <th>2020</th>\n",
       "      <td>11</td>\n",
       "      <td>12</td>\n",
       "    </tr>\n",
       "    <tr>\n",
       "      <th>2021</th>\n",
       "      <td>13</td>\n",
       "      <td>14</td>\n",
       "    </tr>\n",
       "    <tr>\n",
       "      <th>2022</th>\n",
       "      <td>15</td>\n",
       "      <td>16</td>\n",
       "    </tr>\n",
       "  </tbody>\n",
       "</table>\n",
       "</div>"
      ],
      "text/plain": [
       "          avg_package  students\n",
       "cse 2019            1         2\n",
       "    2020            3         4\n",
       "    2021            5         6\n",
       "    2022            7         8\n",
       "ece 2019            9        10\n",
       "    2020           11        12\n",
       "    2021           13        14\n",
       "    2022           15        16"
      ]
     },
     "execution_count": 43,
     "metadata": {},
     "output_type": "execute_result"
    }
   ],
   "source": [
    "# Extracting cols\n",
    "# extract only `delhi` column\n",
    "branch_df5['delhi']"
   ]
  },
  {
   "cell_type": "code",
   "execution_count": 44,
   "id": "d55acdfe",
   "metadata": {},
   "outputs": [
    {
     "data": {
      "application/vnd.microsoft.datawrangler.viewer.v0+json": {
       "columns": [
        {
         "name": "(None, None)",
         "rawType": "object",
         "type": "unknown"
        },
        {
         "name": "('delhi', 'students')",
         "rawType": "int64",
         "type": "integer"
        },
        {
         "name": "('mumbai', 'avg_package')",
         "rawType": "int64",
         "type": "integer"
        }
       ],
       "conversionMethod": "pd.DataFrame",
       "ref": "c218b7cb-913f-493b-83bf-dabb04faccd7",
       "rows": [
        [
         "('cse', np.int64(2019))",
         "2",
         "0"
        ],
        [
         "('cse', np.int64(2020))",
         "4",
         "0"
        ],
        [
         "('cse', np.int64(2021))",
         "6",
         "0"
        ],
        [
         "('cse', np.int64(2022))",
         "8",
         "0"
        ],
        [
         "('ece', np.int64(2019))",
         "10",
         "0"
        ],
        [
         "('ece', np.int64(2020))",
         "12",
         "0"
        ],
        [
         "('ece', np.int64(2021))",
         "14",
         "0"
        ],
        [
         "('ece', np.int64(2022))",
         "16",
         "0"
        ]
       ],
       "shape": {
        "columns": 2,
        "rows": 8
       }
      },
      "text/html": [
       "<div>\n",
       "<style scoped>\n",
       "    .dataframe tbody tr th:only-of-type {\n",
       "        vertical-align: middle;\n",
       "    }\n",
       "\n",
       "    .dataframe tbody tr th {\n",
       "        vertical-align: top;\n",
       "    }\n",
       "\n",
       "    .dataframe thead tr th {\n",
       "        text-align: left;\n",
       "    }\n",
       "</style>\n",
       "<table border=\"1\" class=\"dataframe\">\n",
       "  <thead>\n",
       "    <tr>\n",
       "      <th></th>\n",
       "      <th></th>\n",
       "      <th>delhi</th>\n",
       "      <th>mumbai</th>\n",
       "    </tr>\n",
       "    <tr>\n",
       "      <th></th>\n",
       "      <th></th>\n",
       "      <th>students</th>\n",
       "      <th>avg_package</th>\n",
       "    </tr>\n",
       "  </thead>\n",
       "  <tbody>\n",
       "    <tr>\n",
       "      <th rowspan=\"4\" valign=\"top\">cse</th>\n",
       "      <th>2019</th>\n",
       "      <td>2</td>\n",
       "      <td>0</td>\n",
       "    </tr>\n",
       "    <tr>\n",
       "      <th>2020</th>\n",
       "      <td>4</td>\n",
       "      <td>0</td>\n",
       "    </tr>\n",
       "    <tr>\n",
       "      <th>2021</th>\n",
       "      <td>6</td>\n",
       "      <td>0</td>\n",
       "    </tr>\n",
       "    <tr>\n",
       "      <th>2022</th>\n",
       "      <td>8</td>\n",
       "      <td>0</td>\n",
       "    </tr>\n",
       "    <tr>\n",
       "      <th rowspan=\"4\" valign=\"top\">ece</th>\n",
       "      <th>2019</th>\n",
       "      <td>10</td>\n",
       "      <td>0</td>\n",
       "    </tr>\n",
       "    <tr>\n",
       "      <th>2020</th>\n",
       "      <td>12</td>\n",
       "      <td>0</td>\n",
       "    </tr>\n",
       "    <tr>\n",
       "      <th>2021</th>\n",
       "      <td>14</td>\n",
       "      <td>0</td>\n",
       "    </tr>\n",
       "    <tr>\n",
       "      <th>2022</th>\n",
       "      <td>16</td>\n",
       "      <td>0</td>\n",
       "    </tr>\n",
       "  </tbody>\n",
       "</table>\n",
       "</div>"
      ],
      "text/plain": [
       "            delhi      mumbai\n",
       "         students avg_package\n",
       "cse 2019        2           0\n",
       "    2020        4           0\n",
       "    2021        6           0\n",
       "    2022        8           0\n",
       "ece 2019       10           0\n",
       "    2020       12           0\n",
       "    2021       14           0\n",
       "    2022       16           0"
      ]
     },
     "execution_count": 44,
     "metadata": {},
     "output_type": "execute_result"
    }
   ],
   "source": [
    "branch_df5.iloc[:,1:3] "
   ]
  },
  {
   "cell_type": "code",
   "execution_count": 45,
   "id": "a24f04ea",
   "metadata": {},
   "outputs": [
    {
     "data": {
      "application/vnd.microsoft.datawrangler.viewer.v0+json": {
       "columns": [
        {
         "name": "(None, None)",
         "rawType": "object",
         "type": "unknown"
        },
        {
         "name": "('delhi', 'students')",
         "rawType": "int64",
         "type": "integer"
        },
        {
         "name": "('mumbai', 'avg_package')",
         "rawType": "int64",
         "type": "integer"
        }
       ],
       "conversionMethod": "pd.DataFrame",
       "ref": "ea26369a-a6a9-490d-9320-9ae861ec492a",
       "rows": [
        [
         "('cse', np.int64(2019))",
         "2",
         "0"
        ],
        [
         "('ece', np.int64(2019))",
         "10",
         "0"
        ]
       ],
       "shape": {
        "columns": 2,
        "rows": 2
       }
      },
      "text/html": [
       "<div>\n",
       "<style scoped>\n",
       "    .dataframe tbody tr th:only-of-type {\n",
       "        vertical-align: middle;\n",
       "    }\n",
       "\n",
       "    .dataframe tbody tr th {\n",
       "        vertical-align: top;\n",
       "    }\n",
       "\n",
       "    .dataframe thead tr th {\n",
       "        text-align: left;\n",
       "    }\n",
       "</style>\n",
       "<table border=\"1\" class=\"dataframe\">\n",
       "  <thead>\n",
       "    <tr>\n",
       "      <th></th>\n",
       "      <th></th>\n",
       "      <th>delhi</th>\n",
       "      <th>mumbai</th>\n",
       "    </tr>\n",
       "    <tr>\n",
       "      <th></th>\n",
       "      <th></th>\n",
       "      <th>students</th>\n",
       "      <th>avg_package</th>\n",
       "    </tr>\n",
       "  </thead>\n",
       "  <tbody>\n",
       "    <tr>\n",
       "      <th>cse</th>\n",
       "      <th>2019</th>\n",
       "      <td>2</td>\n",
       "      <td>0</td>\n",
       "    </tr>\n",
       "    <tr>\n",
       "      <th>ece</th>\n",
       "      <th>2019</th>\n",
       "      <td>10</td>\n",
       "      <td>0</td>\n",
       "    </tr>\n",
       "  </tbody>\n",
       "</table>\n",
       "</div>"
      ],
      "text/plain": [
       "            delhi      mumbai\n",
       "         students avg_package\n",
       "cse 2019        2           0\n",
       "ece 2019       10           0"
      ]
     },
     "execution_count": 45,
     "metadata": {},
     "output_type": "execute_result"
    }
   ],
   "source": [
    "# let's do indexing in both rows and columns\n",
    "branch_df5.iloc[:5:4,1:3] # with fancy indexing `branch_df5.iloc[[0,4],[1,2]]`"
   ]
  },
  {
   "cell_type": "code",
   "execution_count": 46,
   "id": "c4703b50",
   "metadata": {},
   "outputs": [
    {
     "data": {
      "application/vnd.microsoft.datawrangler.viewer.v0+json": {
       "columns": [
        {
         "name": "(None, None)",
         "rawType": "object",
         "type": "unknown"
        },
        {
         "name": "('delhi', 'avg_package')",
         "rawType": "int64",
         "type": "integer"
        },
        {
         "name": "('delhi', 'students')",
         "rawType": "int64",
         "type": "integer"
        },
        {
         "name": "('mumbai', 'avg_package')",
         "rawType": "int64",
         "type": "integer"
        },
        {
         "name": "('mumbai', 'students')",
         "rawType": "int64",
         "type": "integer"
        }
       ],
       "conversionMethod": "pd.DataFrame",
       "ref": "2dc49696-42de-4208-a94e-ae2069df92d3",
       "rows": [
        [
         "('ece', np.int64(2022))",
         "15",
         "16",
         "0",
         "0"
        ],
        [
         "('ece', np.int64(2021))",
         "13",
         "14",
         "0",
         "0"
        ],
        [
         "('ece', np.int64(2020))",
         "11",
         "12",
         "0",
         "0"
        ],
        [
         "('ece', np.int64(2019))",
         "9",
         "10",
         "0",
         "0"
        ],
        [
         "('cse', np.int64(2022))",
         "7",
         "8",
         "0",
         "0"
        ],
        [
         "('cse', np.int64(2021))",
         "5",
         "6",
         "0",
         "0"
        ],
        [
         "('cse', np.int64(2020))",
         "3",
         "4",
         "0",
         "0"
        ],
        [
         "('cse', np.int64(2019))",
         "1",
         "2",
         "0",
         "0"
        ]
       ],
       "shape": {
        "columns": 4,
        "rows": 8
       }
      },
      "text/html": [
       "<div>\n",
       "<style scoped>\n",
       "    .dataframe tbody tr th:only-of-type {\n",
       "        vertical-align: middle;\n",
       "    }\n",
       "\n",
       "    .dataframe tbody tr th {\n",
       "        vertical-align: top;\n",
       "    }\n",
       "\n",
       "    .dataframe thead tr th {\n",
       "        text-align: left;\n",
       "    }\n",
       "</style>\n",
       "<table border=\"1\" class=\"dataframe\">\n",
       "  <thead>\n",
       "    <tr>\n",
       "      <th></th>\n",
       "      <th></th>\n",
       "      <th colspan=\"2\" halign=\"left\">delhi</th>\n",
       "      <th colspan=\"2\" halign=\"left\">mumbai</th>\n",
       "    </tr>\n",
       "    <tr>\n",
       "      <th></th>\n",
       "      <th></th>\n",
       "      <th>avg_package</th>\n",
       "      <th>students</th>\n",
       "      <th>avg_package</th>\n",
       "      <th>students</th>\n",
       "    </tr>\n",
       "  </thead>\n",
       "  <tbody>\n",
       "    <tr>\n",
       "      <th rowspan=\"4\" valign=\"top\">ece</th>\n",
       "      <th>2022</th>\n",
       "      <td>15</td>\n",
       "      <td>16</td>\n",
       "      <td>0</td>\n",
       "      <td>0</td>\n",
       "    </tr>\n",
       "    <tr>\n",
       "      <th>2021</th>\n",
       "      <td>13</td>\n",
       "      <td>14</td>\n",
       "      <td>0</td>\n",
       "      <td>0</td>\n",
       "    </tr>\n",
       "    <tr>\n",
       "      <th>2020</th>\n",
       "      <td>11</td>\n",
       "      <td>12</td>\n",
       "      <td>0</td>\n",
       "      <td>0</td>\n",
       "    </tr>\n",
       "    <tr>\n",
       "      <th>2019</th>\n",
       "      <td>9</td>\n",
       "      <td>10</td>\n",
       "      <td>0</td>\n",
       "      <td>0</td>\n",
       "    </tr>\n",
       "    <tr>\n",
       "      <th rowspan=\"4\" valign=\"top\">cse</th>\n",
       "      <th>2022</th>\n",
       "      <td>7</td>\n",
       "      <td>8</td>\n",
       "      <td>0</td>\n",
       "      <td>0</td>\n",
       "    </tr>\n",
       "    <tr>\n",
       "      <th>2021</th>\n",
       "      <td>5</td>\n",
       "      <td>6</td>\n",
       "      <td>0</td>\n",
       "      <td>0</td>\n",
       "    </tr>\n",
       "    <tr>\n",
       "      <th>2020</th>\n",
       "      <td>3</td>\n",
       "      <td>4</td>\n",
       "      <td>0</td>\n",
       "      <td>0</td>\n",
       "    </tr>\n",
       "    <tr>\n",
       "      <th>2019</th>\n",
       "      <td>1</td>\n",
       "      <td>2</td>\n",
       "      <td>0</td>\n",
       "      <td>0</td>\n",
       "    </tr>\n",
       "  </tbody>\n",
       "</table>\n",
       "</div>"
      ],
      "text/plain": [
       "               delhi               mumbai         \n",
       "         avg_package students avg_package students\n",
       "ece 2022          15       16           0        0\n",
       "    2021          13       14           0        0\n",
       "    2020          11       12           0        0\n",
       "    2019           9       10           0        0\n",
       "cse 2022           7        8           0        0\n",
       "    2021           5        6           0        0\n",
       "    2020           3        4           0        0\n",
       "    2019           1        2           0        0"
      ]
     },
     "execution_count": 46,
     "metadata": {},
     "output_type": "execute_result"
    }
   ],
   "source": [
    "# sort index of multiIndex dataframe -> https://www.youtube.com/live/QzoRUwz8DoM?si=XlaKEdkWsC-__ZM6&t=4717\n",
    "branch_df5.sort_index(ascending=False) # so it sort all index(of all levels) in descending order\n",
    "\n"
   ]
  },
  {
   "cell_type": "code",
   "execution_count": 47,
   "id": "433866ec",
   "metadata": {},
   "outputs": [
    {
     "data": {
      "application/vnd.microsoft.datawrangler.viewer.v0+json": {
       "columns": [
        {
         "name": "(None, None)",
         "rawType": "object",
         "type": "unknown"
        },
        {
         "name": "('delhi', 'avg_package')",
         "rawType": "int64",
         "type": "integer"
        },
        {
         "name": "('delhi', 'students')",
         "rawType": "int64",
         "type": "integer"
        },
        {
         "name": "('mumbai', 'avg_package')",
         "rawType": "int64",
         "type": "integer"
        },
        {
         "name": "('mumbai', 'students')",
         "rawType": "int64",
         "type": "integer"
        }
       ],
       "conversionMethod": "pd.DataFrame",
       "ref": "af75d6fe-84e6-4bc1-b09b-53a7224f4c32",
       "rows": [
        [
         "('ece', np.int64(2019))",
         "9",
         "10",
         "0",
         "0"
        ],
        [
         "('ece', np.int64(2020))",
         "11",
         "12",
         "0",
         "0"
        ],
        [
         "('ece', np.int64(2021))",
         "13",
         "14",
         "0",
         "0"
        ],
        [
         "('ece', np.int64(2022))",
         "15",
         "16",
         "0",
         "0"
        ],
        [
         "('cse', np.int64(2019))",
         "1",
         "2",
         "0",
         "0"
        ],
        [
         "('cse', np.int64(2020))",
         "3",
         "4",
         "0",
         "0"
        ],
        [
         "('cse', np.int64(2021))",
         "5",
         "6",
         "0",
         "0"
        ],
        [
         "('cse', np.int64(2022))",
         "7",
         "8",
         "0",
         "0"
        ]
       ],
       "shape": {
        "columns": 4,
        "rows": 8
       }
      },
      "text/html": [
       "<div>\n",
       "<style scoped>\n",
       "    .dataframe tbody tr th:only-of-type {\n",
       "        vertical-align: middle;\n",
       "    }\n",
       "\n",
       "    .dataframe tbody tr th {\n",
       "        vertical-align: top;\n",
       "    }\n",
       "\n",
       "    .dataframe thead tr th {\n",
       "        text-align: left;\n",
       "    }\n",
       "</style>\n",
       "<table border=\"1\" class=\"dataframe\">\n",
       "  <thead>\n",
       "    <tr>\n",
       "      <th></th>\n",
       "      <th></th>\n",
       "      <th colspan=\"2\" halign=\"left\">delhi</th>\n",
       "      <th colspan=\"2\" halign=\"left\">mumbai</th>\n",
       "    </tr>\n",
       "    <tr>\n",
       "      <th></th>\n",
       "      <th></th>\n",
       "      <th>avg_package</th>\n",
       "      <th>students</th>\n",
       "      <th>avg_package</th>\n",
       "      <th>students</th>\n",
       "    </tr>\n",
       "  </thead>\n",
       "  <tbody>\n",
       "    <tr>\n",
       "      <th rowspan=\"4\" valign=\"top\">ece</th>\n",
       "      <th>2019</th>\n",
       "      <td>9</td>\n",
       "      <td>10</td>\n",
       "      <td>0</td>\n",
       "      <td>0</td>\n",
       "    </tr>\n",
       "    <tr>\n",
       "      <th>2020</th>\n",
       "      <td>11</td>\n",
       "      <td>12</td>\n",
       "      <td>0</td>\n",
       "      <td>0</td>\n",
       "    </tr>\n",
       "    <tr>\n",
       "      <th>2021</th>\n",
       "      <td>13</td>\n",
       "      <td>14</td>\n",
       "      <td>0</td>\n",
       "      <td>0</td>\n",
       "    </tr>\n",
       "    <tr>\n",
       "      <th>2022</th>\n",
       "      <td>15</td>\n",
       "      <td>16</td>\n",
       "      <td>0</td>\n",
       "      <td>0</td>\n",
       "    </tr>\n",
       "    <tr>\n",
       "      <th rowspan=\"4\" valign=\"top\">cse</th>\n",
       "      <th>2019</th>\n",
       "      <td>1</td>\n",
       "      <td>2</td>\n",
       "      <td>0</td>\n",
       "      <td>0</td>\n",
       "    </tr>\n",
       "    <tr>\n",
       "      <th>2020</th>\n",
       "      <td>3</td>\n",
       "      <td>4</td>\n",
       "      <td>0</td>\n",
       "      <td>0</td>\n",
       "    </tr>\n",
       "    <tr>\n",
       "      <th>2021</th>\n",
       "      <td>5</td>\n",
       "      <td>6</td>\n",
       "      <td>0</td>\n",
       "      <td>0</td>\n",
       "    </tr>\n",
       "    <tr>\n",
       "      <th>2022</th>\n",
       "      <td>7</td>\n",
       "      <td>8</td>\n",
       "      <td>0</td>\n",
       "      <td>0</td>\n",
       "    </tr>\n",
       "  </tbody>\n",
       "</table>\n",
       "</div>"
      ],
      "text/plain": [
       "               delhi               mumbai         \n",
       "         avg_package students avg_package students\n",
       "ece 2019           9       10           0        0\n",
       "    2020          11       12           0        0\n",
       "    2021          13       14           0        0\n",
       "    2022          15       16           0        0\n",
       "cse 2019           1        2           0        0\n",
       "    2020           3        4           0        0\n",
       "    2021           5        6           0        0\n",
       "    2022           7        8           0        0"
      ]
     },
     "execution_count": 47,
     "metadata": {},
     "output_type": "execute_result"
    }
   ],
   "source": [
    "# but what if we wanna sort branch index(level 0 index) in descending order but years(level 2 index) in ascending order\n",
    "branch_df5.sort_index(ascending=[False,True]) "
   ]
  },
  {
   "cell_type": "code",
   "execution_count": 48,
   "id": "05cacafd",
   "metadata": {},
   "outputs": [
    {
     "data": {
      "application/vnd.microsoft.datawrangler.viewer.v0+json": {
       "columns": [
        {
         "name": "(None, None)",
         "rawType": "object",
         "type": "unknown"
        },
        {
         "name": "('delhi', 'avg_package')",
         "rawType": "int64",
         "type": "integer"
        },
        {
         "name": "('delhi', 'students')",
         "rawType": "int64",
         "type": "integer"
        },
        {
         "name": "('mumbai', 'avg_package')",
         "rawType": "int64",
         "type": "integer"
        },
        {
         "name": "('mumbai', 'students')",
         "rawType": "int64",
         "type": "integer"
        }
       ],
       "conversionMethod": "pd.DataFrame",
       "ref": "78745e37-d288-4dc5-bfca-35291ef10df2",
       "rows": [
        [
         "('ece', np.int64(2022))",
         "15",
         "16",
         "0",
         "0"
        ],
        [
         "('cse', np.int64(2022))",
         "7",
         "8",
         "0",
         "0"
        ],
        [
         "('ece', np.int64(2021))",
         "13",
         "14",
         "0",
         "0"
        ],
        [
         "('cse', np.int64(2021))",
         "5",
         "6",
         "0",
         "0"
        ],
        [
         "('ece', np.int64(2020))",
         "11",
         "12",
         "0",
         "0"
        ],
        [
         "('cse', np.int64(2020))",
         "3",
         "4",
         "0",
         "0"
        ],
        [
         "('ece', np.int64(2019))",
         "9",
         "10",
         "0",
         "0"
        ],
        [
         "('cse', np.int64(2019))",
         "1",
         "2",
         "0",
         "0"
        ]
       ],
       "shape": {
        "columns": 4,
        "rows": 8
       }
      },
      "text/html": [
       "<div>\n",
       "<style scoped>\n",
       "    .dataframe tbody tr th:only-of-type {\n",
       "        vertical-align: middle;\n",
       "    }\n",
       "\n",
       "    .dataframe tbody tr th {\n",
       "        vertical-align: top;\n",
       "    }\n",
       "\n",
       "    .dataframe thead tr th {\n",
       "        text-align: left;\n",
       "    }\n",
       "</style>\n",
       "<table border=\"1\" class=\"dataframe\">\n",
       "  <thead>\n",
       "    <tr>\n",
       "      <th></th>\n",
       "      <th></th>\n",
       "      <th colspan=\"2\" halign=\"left\">delhi</th>\n",
       "      <th colspan=\"2\" halign=\"left\">mumbai</th>\n",
       "    </tr>\n",
       "    <tr>\n",
       "      <th></th>\n",
       "      <th></th>\n",
       "      <th>avg_package</th>\n",
       "      <th>students</th>\n",
       "      <th>avg_package</th>\n",
       "      <th>students</th>\n",
       "    </tr>\n",
       "  </thead>\n",
       "  <tbody>\n",
       "    <tr>\n",
       "      <th>ece</th>\n",
       "      <th>2022</th>\n",
       "      <td>15</td>\n",
       "      <td>16</td>\n",
       "      <td>0</td>\n",
       "      <td>0</td>\n",
       "    </tr>\n",
       "    <tr>\n",
       "      <th>cse</th>\n",
       "      <th>2022</th>\n",
       "      <td>7</td>\n",
       "      <td>8</td>\n",
       "      <td>0</td>\n",
       "      <td>0</td>\n",
       "    </tr>\n",
       "    <tr>\n",
       "      <th>ece</th>\n",
       "      <th>2021</th>\n",
       "      <td>13</td>\n",
       "      <td>14</td>\n",
       "      <td>0</td>\n",
       "      <td>0</td>\n",
       "    </tr>\n",
       "    <tr>\n",
       "      <th>cse</th>\n",
       "      <th>2021</th>\n",
       "      <td>5</td>\n",
       "      <td>6</td>\n",
       "      <td>0</td>\n",
       "      <td>0</td>\n",
       "    </tr>\n",
       "    <tr>\n",
       "      <th>ece</th>\n",
       "      <th>2020</th>\n",
       "      <td>11</td>\n",
       "      <td>12</td>\n",
       "      <td>0</td>\n",
       "      <td>0</td>\n",
       "    </tr>\n",
       "    <tr>\n",
       "      <th>cse</th>\n",
       "      <th>2020</th>\n",
       "      <td>3</td>\n",
       "      <td>4</td>\n",
       "      <td>0</td>\n",
       "      <td>0</td>\n",
       "    </tr>\n",
       "    <tr>\n",
       "      <th>ece</th>\n",
       "      <th>2019</th>\n",
       "      <td>9</td>\n",
       "      <td>10</td>\n",
       "      <td>0</td>\n",
       "      <td>0</td>\n",
       "    </tr>\n",
       "    <tr>\n",
       "      <th>cse</th>\n",
       "      <th>2019</th>\n",
       "      <td>1</td>\n",
       "      <td>2</td>\n",
       "      <td>0</td>\n",
       "      <td>0</td>\n",
       "    </tr>\n",
       "  </tbody>\n",
       "</table>\n",
       "</div>"
      ],
      "text/plain": [
       "               delhi               mumbai         \n",
       "         avg_package students avg_package students\n",
       "ece 2022          15       16           0        0\n",
       "cse 2022           7        8           0        0\n",
       "ece 2021          13       14           0        0\n",
       "cse 2021           5        6           0        0\n",
       "ece 2020          11       12           0        0\n",
       "cse 2020           3        4           0        0\n",
       "ece 2019           9       10           0        0\n",
       "cse 2019           1        2           0        0"
      ]
     },
     "execution_count": 48,
     "metadata": {},
     "output_type": "execute_result"
    }
   ],
   "source": [
    "# sort on level1 only\n",
    "branch_df5.sort_index(level=1, ascending=False)"
   ]
  },
  {
   "cell_type": "code",
   "execution_count": 49,
   "id": "82c23ca4",
   "metadata": {},
   "outputs": [
    {
     "data": {
      "application/vnd.microsoft.datawrangler.viewer.v0+json": {
       "columns": [
        {
         "name": "(None, None)",
         "rawType": "object",
         "type": "unknown"
        },
        {
         "name": "('mumbai', 'students')",
         "rawType": "int64",
         "type": "integer"
        },
        {
         "name": "('mumbai', 'avg_package')",
         "rawType": "int64",
         "type": "integer"
        },
        {
         "name": "('delhi', 'students')",
         "rawType": "int64",
         "type": "integer"
        },
        {
         "name": "('delhi', 'avg_package')",
         "rawType": "int64",
         "type": "integer"
        }
       ],
       "conversionMethod": "pd.DataFrame",
       "ref": "2bc6ef0a-b548-40be-a2c0-ad1d657296ff",
       "rows": [
        [
         "('cse', np.int64(2019))",
         "0",
         "0",
         "2",
         "1"
        ],
        [
         "('cse', np.int64(2020))",
         "0",
         "0",
         "4",
         "3"
        ],
        [
         "('cse', np.int64(2021))",
         "0",
         "0",
         "6",
         "5"
        ],
        [
         "('cse', np.int64(2022))",
         "0",
         "0",
         "8",
         "7"
        ],
        [
         "('ece', np.int64(2019))",
         "0",
         "0",
         "10",
         "9"
        ],
        [
         "('ece', np.int64(2020))",
         "0",
         "0",
         "12",
         "11"
        ],
        [
         "('ece', np.int64(2021))",
         "0",
         "0",
         "14",
         "13"
        ],
        [
         "('ece', np.int64(2022))",
         "0",
         "0",
         "16",
         "15"
        ]
       ],
       "shape": {
        "columns": 4,
        "rows": 8
       }
      },
      "text/html": [
       "<div>\n",
       "<style scoped>\n",
       "    .dataframe tbody tr th:only-of-type {\n",
       "        vertical-align: middle;\n",
       "    }\n",
       "\n",
       "    .dataframe tbody tr th {\n",
       "        vertical-align: top;\n",
       "    }\n",
       "\n",
       "    .dataframe thead tr th {\n",
       "        text-align: left;\n",
       "    }\n",
       "</style>\n",
       "<table border=\"1\" class=\"dataframe\">\n",
       "  <thead>\n",
       "    <tr>\n",
       "      <th></th>\n",
       "      <th></th>\n",
       "      <th colspan=\"2\" halign=\"left\">mumbai</th>\n",
       "      <th colspan=\"2\" halign=\"left\">delhi</th>\n",
       "    </tr>\n",
       "    <tr>\n",
       "      <th></th>\n",
       "      <th></th>\n",
       "      <th>students</th>\n",
       "      <th>avg_package</th>\n",
       "      <th>students</th>\n",
       "      <th>avg_package</th>\n",
       "    </tr>\n",
       "  </thead>\n",
       "  <tbody>\n",
       "    <tr>\n",
       "      <th rowspan=\"4\" valign=\"top\">cse</th>\n",
       "      <th>2019</th>\n",
       "      <td>0</td>\n",
       "      <td>0</td>\n",
       "      <td>2</td>\n",
       "      <td>1</td>\n",
       "    </tr>\n",
       "    <tr>\n",
       "      <th>2020</th>\n",
       "      <td>0</td>\n",
       "      <td>0</td>\n",
       "      <td>4</td>\n",
       "      <td>3</td>\n",
       "    </tr>\n",
       "    <tr>\n",
       "      <th>2021</th>\n",
       "      <td>0</td>\n",
       "      <td>0</td>\n",
       "      <td>6</td>\n",
       "      <td>5</td>\n",
       "    </tr>\n",
       "    <tr>\n",
       "      <th>2022</th>\n",
       "      <td>0</td>\n",
       "      <td>0</td>\n",
       "      <td>8</td>\n",
       "      <td>7</td>\n",
       "    </tr>\n",
       "    <tr>\n",
       "      <th rowspan=\"4\" valign=\"top\">ece</th>\n",
       "      <th>2019</th>\n",
       "      <td>0</td>\n",
       "      <td>0</td>\n",
       "      <td>10</td>\n",
       "      <td>9</td>\n",
       "    </tr>\n",
       "    <tr>\n",
       "      <th>2020</th>\n",
       "      <td>0</td>\n",
       "      <td>0</td>\n",
       "      <td>12</td>\n",
       "      <td>11</td>\n",
       "    </tr>\n",
       "    <tr>\n",
       "      <th>2021</th>\n",
       "      <td>0</td>\n",
       "      <td>0</td>\n",
       "      <td>14</td>\n",
       "      <td>13</td>\n",
       "    </tr>\n",
       "    <tr>\n",
       "      <th>2022</th>\n",
       "      <td>0</td>\n",
       "      <td>0</td>\n",
       "      <td>16</td>\n",
       "      <td>15</td>\n",
       "    </tr>\n",
       "  </tbody>\n",
       "</table>\n",
       "</div>"
      ],
      "text/plain": [
       "           mumbai                delhi            \n",
       "         students avg_package students avg_package\n",
       "cse 2019        0           0        2           1\n",
       "    2020        0           0        4           3\n",
       "    2021        0           0        6           5\n",
       "    2022        0           0        8           7\n",
       "ece 2019        0           0       10           9\n",
       "    2020        0           0       12          11\n",
       "    2021        0           0       14          13\n",
       "    2022        0           0       16          15"
      ]
     },
     "execution_count": 49,
     "metadata": {},
     "output_type": "execute_result"
    }
   ],
   "source": [
    "# sorting columns (sort on all columns)\n",
    "branch_df5.sort_index(axis=1,ascending=False)"
   ]
  },
  {
   "cell_type": "code",
   "execution_count": 50,
   "id": "4258121b",
   "metadata": {},
   "outputs": [
    {
     "data": {
      "application/vnd.microsoft.datawrangler.viewer.v0+json": {
       "columns": [
        {
         "name": "(None, None)",
         "rawType": "object",
         "type": "unknown"
        },
        {
         "name": "('delhi', 'avg_package')",
         "rawType": "int64",
         "type": "integer"
        },
        {
         "name": "('delhi', 'students')",
         "rawType": "int64",
         "type": "integer"
        },
        {
         "name": "('mumbai', 'avg_package')",
         "rawType": "int64",
         "type": "integer"
        },
        {
         "name": "('mumbai', 'students')",
         "rawType": "int64",
         "type": "integer"
        }
       ],
       "conversionMethod": "pd.DataFrame",
       "ref": "ba04f480-cbb4-4129-b43a-76df3f64d069",
       "rows": [
        [
         "('cse', np.int64(2019))",
         "1",
         "2",
         "0",
         "0"
        ],
        [
         "('cse', np.int64(2020))",
         "3",
         "4",
         "0",
         "0"
        ],
        [
         "('cse', np.int64(2021))",
         "5",
         "6",
         "0",
         "0"
        ],
        [
         "('cse', np.int64(2022))",
         "7",
         "8",
         "0",
         "0"
        ],
        [
         "('ece', np.int64(2019))",
         "9",
         "10",
         "0",
         "0"
        ],
        [
         "('ece', np.int64(2020))",
         "11",
         "12",
         "0",
         "0"
        ],
        [
         "('ece', np.int64(2021))",
         "13",
         "14",
         "0",
         "0"
        ],
        [
         "('ece', np.int64(2022))",
         "15",
         "16",
         "0",
         "0"
        ]
       ],
       "shape": {
        "columns": 4,
        "rows": 8
       }
      },
      "text/html": [
       "<div>\n",
       "<style scoped>\n",
       "    .dataframe tbody tr th:only-of-type {\n",
       "        vertical-align: middle;\n",
       "    }\n",
       "\n",
       "    .dataframe tbody tr th {\n",
       "        vertical-align: top;\n",
       "    }\n",
       "\n",
       "    .dataframe thead tr th {\n",
       "        text-align: left;\n",
       "    }\n",
       "</style>\n",
       "<table border=\"1\" class=\"dataframe\">\n",
       "  <thead>\n",
       "    <tr>\n",
       "      <th></th>\n",
       "      <th></th>\n",
       "      <th colspan=\"2\" halign=\"left\">delhi</th>\n",
       "      <th colspan=\"2\" halign=\"left\">mumbai</th>\n",
       "    </tr>\n",
       "    <tr>\n",
       "      <th></th>\n",
       "      <th></th>\n",
       "      <th>avg_package</th>\n",
       "      <th>students</th>\n",
       "      <th>avg_package</th>\n",
       "      <th>students</th>\n",
       "    </tr>\n",
       "  </thead>\n",
       "  <tbody>\n",
       "    <tr>\n",
       "      <th rowspan=\"4\" valign=\"top\">cse</th>\n",
       "      <th>2019</th>\n",
       "      <td>1</td>\n",
       "      <td>2</td>\n",
       "      <td>0</td>\n",
       "      <td>0</td>\n",
       "    </tr>\n",
       "    <tr>\n",
       "      <th>2020</th>\n",
       "      <td>3</td>\n",
       "      <td>4</td>\n",
       "      <td>0</td>\n",
       "      <td>0</td>\n",
       "    </tr>\n",
       "    <tr>\n",
       "      <th>2021</th>\n",
       "      <td>5</td>\n",
       "      <td>6</td>\n",
       "      <td>0</td>\n",
       "      <td>0</td>\n",
       "    </tr>\n",
       "    <tr>\n",
       "      <th>2022</th>\n",
       "      <td>7</td>\n",
       "      <td>8</td>\n",
       "      <td>0</td>\n",
       "      <td>0</td>\n",
       "    </tr>\n",
       "    <tr>\n",
       "      <th rowspan=\"4\" valign=\"top\">ece</th>\n",
       "      <th>2019</th>\n",
       "      <td>9</td>\n",
       "      <td>10</td>\n",
       "      <td>0</td>\n",
       "      <td>0</td>\n",
       "    </tr>\n",
       "    <tr>\n",
       "      <th>2020</th>\n",
       "      <td>11</td>\n",
       "      <td>12</td>\n",
       "      <td>0</td>\n",
       "      <td>0</td>\n",
       "    </tr>\n",
       "    <tr>\n",
       "      <th>2021</th>\n",
       "      <td>13</td>\n",
       "      <td>14</td>\n",
       "      <td>0</td>\n",
       "      <td>0</td>\n",
       "    </tr>\n",
       "    <tr>\n",
       "      <th>2022</th>\n",
       "      <td>15</td>\n",
       "      <td>16</td>\n",
       "      <td>0</td>\n",
       "      <td>0</td>\n",
       "    </tr>\n",
       "  </tbody>\n",
       "</table>\n",
       "</div>"
      ],
      "text/plain": [
       "               delhi               mumbai         \n",
       "         avg_package students avg_package students\n",
       "cse 2019           1        2           0        0\n",
       "    2020           3        4           0        0\n",
       "    2021           5        6           0        0\n",
       "    2022           7        8           0        0\n",
       "ece 2019           9       10           0        0\n",
       "    2020          11       12           0        0\n",
       "    2021          13       14           0        0\n",
       "    2022          15       16           0        0"
      ]
     },
     "execution_count": 50,
     "metadata": {},
     "output_type": "execute_result"
    }
   ],
   "source": [
    "branch_df5"
   ]
  },
  {
   "cell_type": "code",
   "execution_count": 51,
   "id": "e0835a5f",
   "metadata": {},
   "outputs": [
    {
     "data": {
      "application/vnd.microsoft.datawrangler.viewer.v0+json": {
       "columns": [
        {
         "name": "(None, None)",
         "rawType": "object",
         "type": "unknown"
        },
        {
         "name": "('cse', 2019)",
         "rawType": "int64",
         "type": "integer"
        },
        {
         "name": "('cse', 2020)",
         "rawType": "int64",
         "type": "integer"
        },
        {
         "name": "('cse', 2021)",
         "rawType": "int64",
         "type": "integer"
        },
        {
         "name": "('cse', 2022)",
         "rawType": "int64",
         "type": "integer"
        },
        {
         "name": "('ece', 2019)",
         "rawType": "int64",
         "type": "integer"
        },
        {
         "name": "('ece', 2020)",
         "rawType": "int64",
         "type": "integer"
        },
        {
         "name": "('ece', 2021)",
         "rawType": "int64",
         "type": "integer"
        },
        {
         "name": "('ece', 2022)",
         "rawType": "int64",
         "type": "integer"
        }
       ],
       "conversionMethod": "pd.DataFrame",
       "ref": "879fe154-f47a-42a7-b925-ce342fd5e366",
       "rows": [
        [
         "('delhi', 'avg_package')",
         "1",
         "3",
         "5",
         "7",
         "9",
         "11",
         "13",
         "15"
        ],
        [
         "('delhi', 'students')",
         "2",
         "4",
         "6",
         "8",
         "10",
         "12",
         "14",
         "16"
        ],
        [
         "('mumbai', 'avg_package')",
         "0",
         "0",
         "0",
         "0",
         "0",
         "0",
         "0",
         "0"
        ],
        [
         "('mumbai', 'students')",
         "0",
         "0",
         "0",
         "0",
         "0",
         "0",
         "0",
         "0"
        ]
       ],
       "shape": {
        "columns": 8,
        "rows": 4
       }
      },
      "text/html": [
       "<div>\n",
       "<style scoped>\n",
       "    .dataframe tbody tr th:only-of-type {\n",
       "        vertical-align: middle;\n",
       "    }\n",
       "\n",
       "    .dataframe tbody tr th {\n",
       "        vertical-align: top;\n",
       "    }\n",
       "\n",
       "    .dataframe thead tr th {\n",
       "        text-align: left;\n",
       "    }\n",
       "</style>\n",
       "<table border=\"1\" class=\"dataframe\">\n",
       "  <thead>\n",
       "    <tr>\n",
       "      <th></th>\n",
       "      <th></th>\n",
       "      <th colspan=\"4\" halign=\"left\">cse</th>\n",
       "      <th colspan=\"4\" halign=\"left\">ece</th>\n",
       "    </tr>\n",
       "    <tr>\n",
       "      <th></th>\n",
       "      <th></th>\n",
       "      <th>2019</th>\n",
       "      <th>2020</th>\n",
       "      <th>2021</th>\n",
       "      <th>2022</th>\n",
       "      <th>2019</th>\n",
       "      <th>2020</th>\n",
       "      <th>2021</th>\n",
       "      <th>2022</th>\n",
       "    </tr>\n",
       "  </thead>\n",
       "  <tbody>\n",
       "    <tr>\n",
       "      <th rowspan=\"2\" valign=\"top\">delhi</th>\n",
       "      <th>avg_package</th>\n",
       "      <td>1</td>\n",
       "      <td>3</td>\n",
       "      <td>5</td>\n",
       "      <td>7</td>\n",
       "      <td>9</td>\n",
       "      <td>11</td>\n",
       "      <td>13</td>\n",
       "      <td>15</td>\n",
       "    </tr>\n",
       "    <tr>\n",
       "      <th>students</th>\n",
       "      <td>2</td>\n",
       "      <td>4</td>\n",
       "      <td>6</td>\n",
       "      <td>8</td>\n",
       "      <td>10</td>\n",
       "      <td>12</td>\n",
       "      <td>14</td>\n",
       "      <td>16</td>\n",
       "    </tr>\n",
       "    <tr>\n",
       "      <th rowspan=\"2\" valign=\"top\">mumbai</th>\n",
       "      <th>avg_package</th>\n",
       "      <td>0</td>\n",
       "      <td>0</td>\n",
       "      <td>0</td>\n",
       "      <td>0</td>\n",
       "      <td>0</td>\n",
       "      <td>0</td>\n",
       "      <td>0</td>\n",
       "      <td>0</td>\n",
       "    </tr>\n",
       "    <tr>\n",
       "      <th>students</th>\n",
       "      <td>0</td>\n",
       "      <td>0</td>\n",
       "      <td>0</td>\n",
       "      <td>0</td>\n",
       "      <td>0</td>\n",
       "      <td>0</td>\n",
       "      <td>0</td>\n",
       "      <td>0</td>\n",
       "    </tr>\n",
       "  </tbody>\n",
       "</table>\n",
       "</div>"
      ],
      "text/plain": [
       "                    cse                 ece               \n",
       "                   2019 2020 2021 2022 2019 2020 2021 2022\n",
       "delhi  avg_package    1    3    5    7    9   11   13   15\n",
       "       students       2    4    6    8   10   12   14   16\n",
       "mumbai avg_package    0    0    0    0    0    0    0    0\n",
       "       students       0    0    0    0    0    0    0    0"
      ]
     },
     "execution_count": 51,
     "metadata": {},
     "output_type": "execute_result"
    }
   ],
   "source": [
    "# transpose -> make columns as index and index as columns\n",
    "branch_df5.T\n"
   ]
  },
  {
   "cell_type": "code",
   "execution_count": 52,
   "id": "d9a9445d",
   "metadata": {},
   "outputs": [
    {
     "data": {
      "application/vnd.microsoft.datawrangler.viewer.v0+json": {
       "columns": [
        {
         "name": "(None, None)",
         "rawType": "object",
         "type": "unknown"
        },
        {
         "name": "('delhi', 'avg_package')",
         "rawType": "int64",
         "type": "integer"
        },
        {
         "name": "('delhi', 'students')",
         "rawType": "int64",
         "type": "integer"
        },
        {
         "name": "('mumbai', 'avg_package')",
         "rawType": "int64",
         "type": "integer"
        },
        {
         "name": "('mumbai', 'students')",
         "rawType": "int64",
         "type": "integer"
        }
       ],
       "conversionMethod": "pd.DataFrame",
       "ref": "9f8ff681-afe1-4bfe-9872-96274f5aa2fb",
       "rows": [
        [
         "(np.int64(2019), 'cse')",
         "1",
         "2",
         "0",
         "0"
        ],
        [
         "(np.int64(2020), 'cse')",
         "3",
         "4",
         "0",
         "0"
        ],
        [
         "(np.int64(2021), 'cse')",
         "5",
         "6",
         "0",
         "0"
        ],
        [
         "(np.int64(2022), 'cse')",
         "7",
         "8",
         "0",
         "0"
        ],
        [
         "(np.int64(2019), 'ece')",
         "9",
         "10",
         "0",
         "0"
        ],
        [
         "(np.int64(2020), 'ece')",
         "11",
         "12",
         "0",
         "0"
        ],
        [
         "(np.int64(2021), 'ece')",
         "13",
         "14",
         "0",
         "0"
        ],
        [
         "(np.int64(2022), 'ece')",
         "15",
         "16",
         "0",
         "0"
        ]
       ],
       "shape": {
        "columns": 4,
        "rows": 8
       }
      },
      "text/html": [
       "<div>\n",
       "<style scoped>\n",
       "    .dataframe tbody tr th:only-of-type {\n",
       "        vertical-align: middle;\n",
       "    }\n",
       "\n",
       "    .dataframe tbody tr th {\n",
       "        vertical-align: top;\n",
       "    }\n",
       "\n",
       "    .dataframe thead tr th {\n",
       "        text-align: left;\n",
       "    }\n",
       "</style>\n",
       "<table border=\"1\" class=\"dataframe\">\n",
       "  <thead>\n",
       "    <tr>\n",
       "      <th></th>\n",
       "      <th></th>\n",
       "      <th colspan=\"2\" halign=\"left\">delhi</th>\n",
       "      <th colspan=\"2\" halign=\"left\">mumbai</th>\n",
       "    </tr>\n",
       "    <tr>\n",
       "      <th></th>\n",
       "      <th></th>\n",
       "      <th>avg_package</th>\n",
       "      <th>students</th>\n",
       "      <th>avg_package</th>\n",
       "      <th>students</th>\n",
       "    </tr>\n",
       "  </thead>\n",
       "  <tbody>\n",
       "    <tr>\n",
       "      <th>2019</th>\n",
       "      <th>cse</th>\n",
       "      <td>1</td>\n",
       "      <td>2</td>\n",
       "      <td>0</td>\n",
       "      <td>0</td>\n",
       "    </tr>\n",
       "    <tr>\n",
       "      <th>2020</th>\n",
       "      <th>cse</th>\n",
       "      <td>3</td>\n",
       "      <td>4</td>\n",
       "      <td>0</td>\n",
       "      <td>0</td>\n",
       "    </tr>\n",
       "    <tr>\n",
       "      <th>2021</th>\n",
       "      <th>cse</th>\n",
       "      <td>5</td>\n",
       "      <td>6</td>\n",
       "      <td>0</td>\n",
       "      <td>0</td>\n",
       "    </tr>\n",
       "    <tr>\n",
       "      <th>2022</th>\n",
       "      <th>cse</th>\n",
       "      <td>7</td>\n",
       "      <td>8</td>\n",
       "      <td>0</td>\n",
       "      <td>0</td>\n",
       "    </tr>\n",
       "    <tr>\n",
       "      <th>2019</th>\n",
       "      <th>ece</th>\n",
       "      <td>9</td>\n",
       "      <td>10</td>\n",
       "      <td>0</td>\n",
       "      <td>0</td>\n",
       "    </tr>\n",
       "    <tr>\n",
       "      <th>2020</th>\n",
       "      <th>ece</th>\n",
       "      <td>11</td>\n",
       "      <td>12</td>\n",
       "      <td>0</td>\n",
       "      <td>0</td>\n",
       "    </tr>\n",
       "    <tr>\n",
       "      <th>2021</th>\n",
       "      <th>ece</th>\n",
       "      <td>13</td>\n",
       "      <td>14</td>\n",
       "      <td>0</td>\n",
       "      <td>0</td>\n",
       "    </tr>\n",
       "    <tr>\n",
       "      <th>2022</th>\n",
       "      <th>ece</th>\n",
       "      <td>15</td>\n",
       "      <td>16</td>\n",
       "      <td>0</td>\n",
       "      <td>0</td>\n",
       "    </tr>\n",
       "  </tbody>\n",
       "</table>\n",
       "</div>"
      ],
      "text/plain": [
       "               delhi               mumbai         \n",
       "         avg_package students avg_package students\n",
       "2019 cse           1        2           0        0\n",
       "2020 cse           3        4           0        0\n",
       "2021 cse           5        6           0        0\n",
       "2022 cse           7        8           0        0\n",
       "2019 ece           9       10           0        0\n",
       "2020 ece          11       12           0        0\n",
       "2021 ece          13       14           0        0\n",
       "2022 ece          15       16           0        0"
      ]
     },
     "execution_count": 52,
     "metadata": {},
     "output_type": "execute_result"
    }
   ],
   "source": [
    "# swap level of indexes\n",
    "branch_df5.swaplevel() # by default axis is 0, so it will swap level 0 and 1, \"on indexes\""
   ]
  },
  {
   "cell_type": "code",
   "execution_count": 53,
   "id": "b188b9cd",
   "metadata": {},
   "outputs": [
    {
     "data": {
      "application/vnd.microsoft.datawrangler.viewer.v0+json": {
       "columns": [
        {
         "name": "(None, None)",
         "rawType": "object",
         "type": "unknown"
        },
        {
         "name": "('avg_package', 'delhi')",
         "rawType": "int64",
         "type": "integer"
        },
        {
         "name": "('students', 'delhi')",
         "rawType": "int64",
         "type": "integer"
        },
        {
         "name": "('avg_package', 'mumbai')",
         "rawType": "int64",
         "type": "integer"
        },
        {
         "name": "('students', 'mumbai')",
         "rawType": "int64",
         "type": "integer"
        }
       ],
       "conversionMethod": "pd.DataFrame",
       "ref": "c5d4f0a2-8f70-4157-b7b9-5a1bb26d78e9",
       "rows": [
        [
         "('cse', np.int64(2019))",
         "1",
         "2",
         "0",
         "0"
        ],
        [
         "('cse', np.int64(2020))",
         "3",
         "4",
         "0",
         "0"
        ],
        [
         "('cse', np.int64(2021))",
         "5",
         "6",
         "0",
         "0"
        ],
        [
         "('cse', np.int64(2022))",
         "7",
         "8",
         "0",
         "0"
        ],
        [
         "('ece', np.int64(2019))",
         "9",
         "10",
         "0",
         "0"
        ],
        [
         "('ece', np.int64(2020))",
         "11",
         "12",
         "0",
         "0"
        ],
        [
         "('ece', np.int64(2021))",
         "13",
         "14",
         "0",
         "0"
        ],
        [
         "('ece', np.int64(2022))",
         "15",
         "16",
         "0",
         "0"
        ]
       ],
       "shape": {
        "columns": 4,
        "rows": 8
       }
      },
      "text/html": [
       "<div>\n",
       "<style scoped>\n",
       "    .dataframe tbody tr th:only-of-type {\n",
       "        vertical-align: middle;\n",
       "    }\n",
       "\n",
       "    .dataframe tbody tr th {\n",
       "        vertical-align: top;\n",
       "    }\n",
       "\n",
       "    .dataframe thead tr th {\n",
       "        text-align: left;\n",
       "    }\n",
       "</style>\n",
       "<table border=\"1\" class=\"dataframe\">\n",
       "  <thead>\n",
       "    <tr>\n",
       "      <th></th>\n",
       "      <th></th>\n",
       "      <th>avg_package</th>\n",
       "      <th>students</th>\n",
       "      <th>avg_package</th>\n",
       "      <th>students</th>\n",
       "    </tr>\n",
       "    <tr>\n",
       "      <th></th>\n",
       "      <th></th>\n",
       "      <th>delhi</th>\n",
       "      <th>delhi</th>\n",
       "      <th>mumbai</th>\n",
       "      <th>mumbai</th>\n",
       "    </tr>\n",
       "  </thead>\n",
       "  <tbody>\n",
       "    <tr>\n",
       "      <th rowspan=\"4\" valign=\"top\">cse</th>\n",
       "      <th>2019</th>\n",
       "      <td>1</td>\n",
       "      <td>2</td>\n",
       "      <td>0</td>\n",
       "      <td>0</td>\n",
       "    </tr>\n",
       "    <tr>\n",
       "      <th>2020</th>\n",
       "      <td>3</td>\n",
       "      <td>4</td>\n",
       "      <td>0</td>\n",
       "      <td>0</td>\n",
       "    </tr>\n",
       "    <tr>\n",
       "      <th>2021</th>\n",
       "      <td>5</td>\n",
       "      <td>6</td>\n",
       "      <td>0</td>\n",
       "      <td>0</td>\n",
       "    </tr>\n",
       "    <tr>\n",
       "      <th>2022</th>\n",
       "      <td>7</td>\n",
       "      <td>8</td>\n",
       "      <td>0</td>\n",
       "      <td>0</td>\n",
       "    </tr>\n",
       "    <tr>\n",
       "      <th rowspan=\"4\" valign=\"top\">ece</th>\n",
       "      <th>2019</th>\n",
       "      <td>9</td>\n",
       "      <td>10</td>\n",
       "      <td>0</td>\n",
       "      <td>0</td>\n",
       "    </tr>\n",
       "    <tr>\n",
       "      <th>2020</th>\n",
       "      <td>11</td>\n",
       "      <td>12</td>\n",
       "      <td>0</td>\n",
       "      <td>0</td>\n",
       "    </tr>\n",
       "    <tr>\n",
       "      <th>2021</th>\n",
       "      <td>13</td>\n",
       "      <td>14</td>\n",
       "      <td>0</td>\n",
       "      <td>0</td>\n",
       "    </tr>\n",
       "    <tr>\n",
       "      <th>2022</th>\n",
       "      <td>15</td>\n",
       "      <td>16</td>\n",
       "      <td>0</td>\n",
       "      <td>0</td>\n",
       "    </tr>\n",
       "  </tbody>\n",
       "</table>\n",
       "</div>"
      ],
      "text/plain": [
       "         avg_package students avg_package students\n",
       "               delhi    delhi      mumbai   mumbai\n",
       "cse 2019           1        2           0        0\n",
       "    2020           3        4           0        0\n",
       "    2021           5        6           0        0\n",
       "    2022           7        8           0        0\n",
       "ece 2019           9       10           0        0\n",
       "    2020          11       12           0        0\n",
       "    2021          13       14           0        0\n",
       "    2022          15       16           0        0"
      ]
     },
     "execution_count": 53,
     "metadata": {},
     "output_type": "execute_result"
    }
   ],
   "source": [
    "# swap level of columns\n",
    "\n",
    "branch_df5.swaplevel(axis=1) # means it will swap level 1 and 2 \"on columns\" "
   ]
  },
  {
   "cell_type": "markdown",
   "id": "1d5a17fd",
   "metadata": {},
   "source": [
    "## Long/Tall vs wide data, and `melt`, `pivot` methods"
   ]
  },
  {
   "cell_type": "code",
   "execution_count": 54,
   "id": "22671665",
   "metadata": {},
   "outputs": [],
   "source": [
    "# Understanding difference between long and wide data -> https://www.youtube.com/live/QzoRUwz8DoM?si=sa7lIJTjXIZ-v5hf&t=5277\n"
   ]
  },
  {
   "cell_type": "code",
   "execution_count": 55,
   "id": "1267b10b",
   "metadata": {},
   "outputs": [],
   "source": [
    "# Wide format -> https://www.youtube.com/live/QzoRUwz8DoM?si=x3AGp4LosVywive9&t=5337"
   ]
  },
  {
   "cell_type": "code",
   "execution_count": 76,
   "id": "1c606828",
   "metadata": {},
   "outputs": [],
   "source": [
    "# --------------------------------------- Melt  ----------------------------------------\n",
    "# Understand `melt` method with examples -> https://www.youtube.com/live/QzoRUwz8DoM?si=lWX6pmjqXGhgyjmO&t=5577\n",
    "# Real world examples ->  https://www.youtube.com/live/QzoRUwz8DoM?si=cY-SJmPT0N5rVnJo&t=6117"
   ]
  },
  {
   "cell_type": "code",
   "execution_count": 57,
   "id": "4e0f18e5",
   "metadata": {},
   "outputs": [
    {
     "data": {
      "application/vnd.microsoft.datawrangler.viewer.v0+json": {
       "columns": [
        {
         "name": "index",
         "rawType": "int64",
         "type": "integer"
        },
        {
         "name": "cse",
         "rawType": "int64",
         "type": "integer"
        }
       ],
       "conversionMethod": "pd.DataFrame",
       "ref": "0bd5dc0a-d3ab-48a8-a9dc-703818964a64",
       "rows": [
        [
         "0",
         "120"
        ]
       ],
       "shape": {
        "columns": 1,
        "rows": 1
       }
      },
      "text/html": [
       "<div>\n",
       "<style scoped>\n",
       "    .dataframe tbody tr th:only-of-type {\n",
       "        vertical-align: middle;\n",
       "    }\n",
       "\n",
       "    .dataframe tbody tr th {\n",
       "        vertical-align: top;\n",
       "    }\n",
       "\n",
       "    .dataframe thead th {\n",
       "        text-align: right;\n",
       "    }\n",
       "</style>\n",
       "<table border=\"1\" class=\"dataframe\">\n",
       "  <thead>\n",
       "    <tr style=\"text-align: right;\">\n",
       "      <th></th>\n",
       "      <th>cse</th>\n",
       "    </tr>\n",
       "  </thead>\n",
       "  <tbody>\n",
       "    <tr>\n",
       "      <th>0</th>\n",
       "      <td>120</td>\n",
       "    </tr>\n",
       "  </tbody>\n",
       "</table>\n",
       "</div>"
      ],
      "text/plain": [
       "   cse\n",
       "0  120"
      ]
     },
     "execution_count": 57,
     "metadata": {},
     "output_type": "execute_result"
    }
   ],
   "source": [
    "# `melt` is used to convert wide format to long format\n",
    "toBeMeltdf = pd.DataFrame({'cse':[120]})\n",
    "toBeMeltdf"
   ]
  },
  {
   "cell_type": "code",
   "execution_count": 58,
   "id": "8e15e112",
   "metadata": {},
   "outputs": [
    {
     "data": {
      "application/vnd.microsoft.datawrangler.viewer.v0+json": {
       "columns": [
        {
         "name": "index",
         "rawType": "int64",
         "type": "integer"
        },
        {
         "name": "variable",
         "rawType": "object",
         "type": "string"
        },
        {
         "name": "value",
         "rawType": "int64",
         "type": "integer"
        }
       ],
       "conversionMethod": "pd.DataFrame",
       "ref": "41438832-9440-4dae-a524-18b698ae4099",
       "rows": [
        [
         "0",
         "cse",
         "120"
        ]
       ],
       "shape": {
        "columns": 2,
        "rows": 1
       }
      },
      "text/html": [
       "<div>\n",
       "<style scoped>\n",
       "    .dataframe tbody tr th:only-of-type {\n",
       "        vertical-align: middle;\n",
       "    }\n",
       "\n",
       "    .dataframe tbody tr th {\n",
       "        vertical-align: top;\n",
       "    }\n",
       "\n",
       "    .dataframe thead th {\n",
       "        text-align: right;\n",
       "    }\n",
       "</style>\n",
       "<table border=\"1\" class=\"dataframe\">\n",
       "  <thead>\n",
       "    <tr style=\"text-align: right;\">\n",
       "      <th></th>\n",
       "      <th>variable</th>\n",
       "      <th>value</th>\n",
       "    </tr>\n",
       "  </thead>\n",
       "  <tbody>\n",
       "    <tr>\n",
       "      <th>0</th>\n",
       "      <td>cse</td>\n",
       "      <td>120</td>\n",
       "    </tr>\n",
       "  </tbody>\n",
       "</table>\n",
       "</div>"
      ],
      "text/plain": [
       "  variable  value\n",
       "0      cse    120"
      ]
     },
     "execution_count": 58,
     "metadata": {},
     "output_type": "execute_result"
    }
   ],
   "source": [
    "toBeMeltdf.melt() \n"
   ]
  },
  {
   "cell_type": "code",
   "execution_count": 59,
   "id": "1a8b43a5",
   "metadata": {},
   "outputs": [
    {
     "data": {
      "application/vnd.microsoft.datawrangler.viewer.v0+json": {
       "columns": [
        {
         "name": "index",
         "rawType": "int64",
         "type": "integer"
        },
        {
         "name": "cse",
         "rawType": "int64",
         "type": "integer"
        },
        {
         "name": "ece",
         "rawType": "int64",
         "type": "integer"
        },
        {
         "name": "mech",
         "rawType": "int64",
         "type": "integer"
        }
       ],
       "conversionMethod": "pd.DataFrame",
       "ref": "363c2927-4ac4-4c3c-877c-b115b654f3f1",
       "rows": [
        [
         "0",
         "120",
         "130",
         "140"
        ]
       ],
       "shape": {
        "columns": 3,
        "rows": 1
       }
      },
      "text/html": [
       "<div>\n",
       "<style scoped>\n",
       "    .dataframe tbody tr th:only-of-type {\n",
       "        vertical-align: middle;\n",
       "    }\n",
       "\n",
       "    .dataframe tbody tr th {\n",
       "        vertical-align: top;\n",
       "    }\n",
       "\n",
       "    .dataframe thead th {\n",
       "        text-align: right;\n",
       "    }\n",
       "</style>\n",
       "<table border=\"1\" class=\"dataframe\">\n",
       "  <thead>\n",
       "    <tr style=\"text-align: right;\">\n",
       "      <th></th>\n",
       "      <th>cse</th>\n",
       "      <th>ece</th>\n",
       "      <th>mech</th>\n",
       "    </tr>\n",
       "  </thead>\n",
       "  <tbody>\n",
       "    <tr>\n",
       "      <th>0</th>\n",
       "      <td>120</td>\n",
       "      <td>130</td>\n",
       "      <td>140</td>\n",
       "    </tr>\n",
       "  </tbody>\n",
       "</table>\n",
       "</div>"
      ],
      "text/plain": [
       "   cse  ece  mech\n",
       "0  120  130   140"
      ]
     },
     "execution_count": 59,
     "metadata": {},
     "output_type": "execute_result"
    }
   ],
   "source": [
    "pd.DataFrame({'cse':[120], 'ece':[130],'mech':[140]})"
   ]
  },
  {
   "cell_type": "code",
   "execution_count": 60,
   "id": "903dfcfa",
   "metadata": {},
   "outputs": [
    {
     "data": {
      "application/vnd.microsoft.datawrangler.viewer.v0+json": {
       "columns": [
        {
         "name": "index",
         "rawType": "int64",
         "type": "integer"
        },
        {
         "name": "branch",
         "rawType": "object",
         "type": "string"
        },
        {
         "name": "no_of_students",
         "rawType": "int64",
         "type": "integer"
        }
       ],
       "conversionMethod": "pd.DataFrame",
       "ref": "ceff06f4-eab3-4538-9848-05c2ed3d343e",
       "rows": [
        [
         "0",
         "cse",
         "120"
        ],
        [
         "1",
         "ece",
         "130"
        ],
        [
         "2",
         "mech",
         "140"
        ]
       ],
       "shape": {
        "columns": 2,
        "rows": 3
       }
      },
      "text/html": [
       "<div>\n",
       "<style scoped>\n",
       "    .dataframe tbody tr th:only-of-type {\n",
       "        vertical-align: middle;\n",
       "    }\n",
       "\n",
       "    .dataframe tbody tr th {\n",
       "        vertical-align: top;\n",
       "    }\n",
       "\n",
       "    .dataframe thead th {\n",
       "        text-align: right;\n",
       "    }\n",
       "</style>\n",
       "<table border=\"1\" class=\"dataframe\">\n",
       "  <thead>\n",
       "    <tr style=\"text-align: right;\">\n",
       "      <th></th>\n",
       "      <th>branch</th>\n",
       "      <th>no_of_students</th>\n",
       "    </tr>\n",
       "  </thead>\n",
       "  <tbody>\n",
       "    <tr>\n",
       "      <th>0</th>\n",
       "      <td>cse</td>\n",
       "      <td>120</td>\n",
       "    </tr>\n",
       "    <tr>\n",
       "      <th>1</th>\n",
       "      <td>ece</td>\n",
       "      <td>130</td>\n",
       "    </tr>\n",
       "    <tr>\n",
       "      <th>2</th>\n",
       "      <td>mech</td>\n",
       "      <td>140</td>\n",
       "    </tr>\n",
       "  </tbody>\n",
       "</table>\n",
       "</div>"
      ],
      "text/plain": [
       "  branch  no_of_students\n",
       "0    cse             120\n",
       "1    ece             130\n",
       "2   mech             140"
      ]
     },
     "execution_count": 60,
     "metadata": {},
     "output_type": "execute_result"
    }
   ],
   "source": [
    "# so you can also provide `var_name` and `value_name` to rename columns, default is 'variable' and 'value' \n",
    "pd.DataFrame({'cse':[120], 'ece':[130],'mech':[140]}).melt(var_name='branch', value_name='no_of_students')"
   ]
  },
  {
   "cell_type": "code",
   "execution_count": 61,
   "id": "4135456a",
   "metadata": {},
   "outputs": [
    {
     "data": {
      "application/vnd.microsoft.datawrangler.viewer.v0+json": {
       "columns": [
        {
         "name": "index",
         "rawType": "int64",
         "type": "integer"
        },
        {
         "name": "branch",
         "rawType": "object",
         "type": "string"
        },
        {
         "name": "2020",
         "rawType": "int64",
         "type": "integer"
        },
        {
         "name": "2021",
         "rawType": "int64",
         "type": "integer"
        },
        {
         "name": "2022",
         "rawType": "int64",
         "type": "integer"
        }
       ],
       "conversionMethod": "pd.DataFrame",
       "ref": "a14d238a-332c-4539-b3bc-1f94841b3a94",
       "rows": [
        [
         "0",
         "cse",
         "100",
         "120",
         "150"
        ],
        [
         "1",
         "ece",
         "150",
         "130",
         "140"
        ],
        [
         "2",
         "mech",
         "60",
         "80",
         "70"
        ]
       ],
       "shape": {
        "columns": 4,
        "rows": 3
       }
      },
      "text/html": [
       "<div>\n",
       "<style scoped>\n",
       "    .dataframe tbody tr th:only-of-type {\n",
       "        vertical-align: middle;\n",
       "    }\n",
       "\n",
       "    .dataframe tbody tr th {\n",
       "        vertical-align: top;\n",
       "    }\n",
       "\n",
       "    .dataframe thead th {\n",
       "        text-align: right;\n",
       "    }\n",
       "</style>\n",
       "<table border=\"1\" class=\"dataframe\">\n",
       "  <thead>\n",
       "    <tr style=\"text-align: right;\">\n",
       "      <th></th>\n",
       "      <th>branch</th>\n",
       "      <th>2020</th>\n",
       "      <th>2021</th>\n",
       "      <th>2022</th>\n",
       "    </tr>\n",
       "  </thead>\n",
       "  <tbody>\n",
       "    <tr>\n",
       "      <th>0</th>\n",
       "      <td>cse</td>\n",
       "      <td>100</td>\n",
       "      <td>120</td>\n",
       "      <td>150</td>\n",
       "    </tr>\n",
       "    <tr>\n",
       "      <th>1</th>\n",
       "      <td>ece</td>\n",
       "      <td>150</td>\n",
       "      <td>130</td>\n",
       "      <td>140</td>\n",
       "    </tr>\n",
       "    <tr>\n",
       "      <th>2</th>\n",
       "      <td>mech</td>\n",
       "      <td>60</td>\n",
       "      <td>80</td>\n",
       "      <td>70</td>\n",
       "    </tr>\n",
       "  </tbody>\n",
       "</table>\n",
       "</div>"
      ],
      "text/plain": [
       "  branch  2020  2021  2022\n",
       "0    cse   100   120   150\n",
       "1    ece   150   130   140\n",
       "2   mech    60    80    70"
      ]
     },
     "execution_count": 61,
     "metadata": {},
     "output_type": "execute_result"
    }
   ],
   "source": [
    "import pandas as pd\n",
    "\n",
    "# prevent specific columns from being included in the melt operation\n",
    "\n",
    "meltdf2 = pd.DataFrame(\n",
    "    {\n",
    "        'branch': ['cse', 'ece', 'mech'],\n",
    "        '2020': [100, 150, 60],\n",
    "        '2021': [120, 130, 80],\n",
    "        '2022': [150, 140, 70]\n",
    "    }\n",
    ")\n",
    "\n",
    "meltdf2"
   ]
  },
  {
   "cell_type": "code",
   "execution_count": 62,
   "id": "286d7cce",
   "metadata": {},
   "outputs": [
    {
     "data": {
      "application/vnd.microsoft.datawrangler.viewer.v0+json": {
       "columns": [
        {
         "name": "index",
         "rawType": "int64",
         "type": "integer"
        },
        {
         "name": "branch",
         "rawType": "object",
         "type": "string"
        },
        {
         "name": "year",
         "rawType": "object",
         "type": "string"
        },
        {
         "name": "no_of_students",
         "rawType": "int64",
         "type": "integer"
        }
       ],
       "conversionMethod": "pd.DataFrame",
       "ref": "e24fd192-ca94-4234-a113-9dae18faad95",
       "rows": [
        [
         "0",
         "cse",
         "2020",
         "100"
        ],
        [
         "1",
         "ece",
         "2020",
         "150"
        ],
        [
         "2",
         "mech",
         "2020",
         "60"
        ],
        [
         "3",
         "cse",
         "2021",
         "120"
        ],
        [
         "4",
         "ece",
         "2021",
         "130"
        ],
        [
         "5",
         "mech",
         "2021",
         "80"
        ],
        [
         "6",
         "cse",
         "2022",
         "150"
        ],
        [
         "7",
         "ece",
         "2022",
         "140"
        ],
        [
         "8",
         "mech",
         "2022",
         "70"
        ]
       ],
       "shape": {
        "columns": 3,
        "rows": 9
       }
      },
      "text/html": [
       "<div>\n",
       "<style scoped>\n",
       "    .dataframe tbody tr th:only-of-type {\n",
       "        vertical-align: middle;\n",
       "    }\n",
       "\n",
       "    .dataframe tbody tr th {\n",
       "        vertical-align: top;\n",
       "    }\n",
       "\n",
       "    .dataframe thead th {\n",
       "        text-align: right;\n",
       "    }\n",
       "</style>\n",
       "<table border=\"1\" class=\"dataframe\">\n",
       "  <thead>\n",
       "    <tr style=\"text-align: right;\">\n",
       "      <th></th>\n",
       "      <th>branch</th>\n",
       "      <th>year</th>\n",
       "      <th>no_of_students</th>\n",
       "    </tr>\n",
       "  </thead>\n",
       "  <tbody>\n",
       "    <tr>\n",
       "      <th>0</th>\n",
       "      <td>cse</td>\n",
       "      <td>2020</td>\n",
       "      <td>100</td>\n",
       "    </tr>\n",
       "    <tr>\n",
       "      <th>1</th>\n",
       "      <td>ece</td>\n",
       "      <td>2020</td>\n",
       "      <td>150</td>\n",
       "    </tr>\n",
       "    <tr>\n",
       "      <th>2</th>\n",
       "      <td>mech</td>\n",
       "      <td>2020</td>\n",
       "      <td>60</td>\n",
       "    </tr>\n",
       "    <tr>\n",
       "      <th>3</th>\n",
       "      <td>cse</td>\n",
       "      <td>2021</td>\n",
       "      <td>120</td>\n",
       "    </tr>\n",
       "    <tr>\n",
       "      <th>4</th>\n",
       "      <td>ece</td>\n",
       "      <td>2021</td>\n",
       "      <td>130</td>\n",
       "    </tr>\n",
       "    <tr>\n",
       "      <th>5</th>\n",
       "      <td>mech</td>\n",
       "      <td>2021</td>\n",
       "      <td>80</td>\n",
       "    </tr>\n",
       "    <tr>\n",
       "      <th>6</th>\n",
       "      <td>cse</td>\n",
       "      <td>2022</td>\n",
       "      <td>150</td>\n",
       "    </tr>\n",
       "    <tr>\n",
       "      <th>7</th>\n",
       "      <td>ece</td>\n",
       "      <td>2022</td>\n",
       "      <td>140</td>\n",
       "    </tr>\n",
       "    <tr>\n",
       "      <th>8</th>\n",
       "      <td>mech</td>\n",
       "      <td>2022</td>\n",
       "      <td>70</td>\n",
       "    </tr>\n",
       "  </tbody>\n",
       "</table>\n",
       "</div>"
      ],
      "text/plain": [
       "  branch  year  no_of_students\n",
       "0    cse  2020             100\n",
       "1    ece  2020             150\n",
       "2   mech  2020              60\n",
       "3    cse  2021             120\n",
       "4    ece  2021             130\n",
       "5   mech  2021              80\n",
       "6    cse  2022             150\n",
       "7    ece  2022             140\n",
       "8   mech  2022              70"
      ]
     },
     "execution_count": 62,
     "metadata": {},
     "output_type": "execute_result"
    }
   ],
   "source": [
    "# we wannna exclude 'branch' column to be come in melt operation\n",
    "meltdf2.melt(id_vars=['branch'], var_name='year', value_name='no_of_students')"
   ]
  },
  {
   "cell_type": "code",
   "execution_count": 63,
   "id": "a6875aeb",
   "metadata": {},
   "outputs": [],
   "source": [
    "# ---------------------------------- Pivot table ---------------------------------------\n",
    "# Understand `pivot table` method with examples -> https://www.youtube.com/live/UE6DmRQJ2w8?si=qYiJLUaFiTKgyJK0&t=407"
   ]
  },
  {
   "cell_type": "code",
   "execution_count": null,
   "id": "aabeb758",
   "metadata": {},
   "outputs": [
    {
     "data": {
      "application/vnd.microsoft.datawrangler.viewer.v0+json": {
       "columns": [
        {
         "name": "index",
         "rawType": "int64",
         "type": "integer"
        },
        {
         "name": "total_bill",
         "rawType": "float64",
         "type": "float"
        },
        {
         "name": "tip",
         "rawType": "float64",
         "type": "float"
        },
        {
         "name": "sex",
         "rawType": "category",
         "type": "unknown"
        },
        {
         "name": "smoker",
         "rawType": "category",
         "type": "unknown"
        },
        {
         "name": "day",
         "rawType": "category",
         "type": "unknown"
        },
        {
         "name": "time",
         "rawType": "category",
         "type": "unknown"
        },
        {
         "name": "size",
         "rawType": "int64",
         "type": "integer"
        }
       ],
       "conversionMethod": "pd.DataFrame",
       "ref": "2f6e08c8-b809-42b4-8a6e-5031369817a5",
       "rows": [
        [
         "0",
         "16.99",
         "1.01",
         "Female",
         "No",
         "Sun",
         "Dinner",
         "2"
        ],
        [
         "1",
         "10.34",
         "1.66",
         "Male",
         "No",
         "Sun",
         "Dinner",
         "3"
        ],
        [
         "2",
         "21.01",
         "3.5",
         "Male",
         "No",
         "Sun",
         "Dinner",
         "3"
        ],
        [
         "3",
         "23.68",
         "3.31",
         "Male",
         "No",
         "Sun",
         "Dinner",
         "2"
        ],
        [
         "4",
         "24.59",
         "3.61",
         "Female",
         "No",
         "Sun",
         "Dinner",
         "4"
        ]
       ],
       "shape": {
        "columns": 7,
        "rows": 5
       }
      },
      "text/html": [
       "<div>\n",
       "<style scoped>\n",
       "    .dataframe tbody tr th:only-of-type {\n",
       "        vertical-align: middle;\n",
       "    }\n",
       "\n",
       "    .dataframe tbody tr th {\n",
       "        vertical-align: top;\n",
       "    }\n",
       "\n",
       "    .dataframe thead th {\n",
       "        text-align: right;\n",
       "    }\n",
       "</style>\n",
       "<table border=\"1\" class=\"dataframe\">\n",
       "  <thead>\n",
       "    <tr style=\"text-align: right;\">\n",
       "      <th></th>\n",
       "      <th>total_bill</th>\n",
       "      <th>tip</th>\n",
       "      <th>sex</th>\n",
       "      <th>smoker</th>\n",
       "      <th>day</th>\n",
       "      <th>time</th>\n",
       "      <th>size</th>\n",
       "    </tr>\n",
       "  </thead>\n",
       "  <tbody>\n",
       "    <tr>\n",
       "      <th>0</th>\n",
       "      <td>16.99</td>\n",
       "      <td>1.01</td>\n",
       "      <td>Female</td>\n",
       "      <td>No</td>\n",
       "      <td>Sun</td>\n",
       "      <td>Dinner</td>\n",
       "      <td>2</td>\n",
       "    </tr>\n",
       "    <tr>\n",
       "      <th>1</th>\n",
       "      <td>10.34</td>\n",
       "      <td>1.66</td>\n",
       "      <td>Male</td>\n",
       "      <td>No</td>\n",
       "      <td>Sun</td>\n",
       "      <td>Dinner</td>\n",
       "      <td>3</td>\n",
       "    </tr>\n",
       "    <tr>\n",
       "      <th>2</th>\n",
       "      <td>21.01</td>\n",
       "      <td>3.50</td>\n",
       "      <td>Male</td>\n",
       "      <td>No</td>\n",
       "      <td>Sun</td>\n",
       "      <td>Dinner</td>\n",
       "      <td>3</td>\n",
       "    </tr>\n",
       "    <tr>\n",
       "      <th>3</th>\n",
       "      <td>23.68</td>\n",
       "      <td>3.31</td>\n",
       "      <td>Male</td>\n",
       "      <td>No</td>\n",
       "      <td>Sun</td>\n",
       "      <td>Dinner</td>\n",
       "      <td>2</td>\n",
       "    </tr>\n",
       "    <tr>\n",
       "      <th>4</th>\n",
       "      <td>24.59</td>\n",
       "      <td>3.61</td>\n",
       "      <td>Female</td>\n",
       "      <td>No</td>\n",
       "      <td>Sun</td>\n",
       "      <td>Dinner</td>\n",
       "      <td>4</td>\n",
       "    </tr>\n",
       "  </tbody>\n",
       "</table>\n",
       "</div>"
      ],
      "text/plain": [
       "   total_bill   tip     sex smoker  day    time  size\n",
       "0       16.99  1.01  Female     No  Sun  Dinner     2\n",
       "1       10.34  1.66    Male     No  Sun  Dinner     3\n",
       "2       21.01  3.50    Male     No  Sun  Dinner     3\n",
       "3       23.68  3.31    Male     No  Sun  Dinner     2\n",
       "4       24.59  3.61  Female     No  Sun  Dinner     4"
      ]
     },
     "execution_count": 67,
     "metadata": {},
     "output_type": "execute_result"
    }
   ],
   "source": [
    "# we gernerally use pivot tables on categotical columns\n",
    "\n",
    "import seaborn as sns\n",
    "artificial_df = sns.load_dataset('tips')\n",
    "# seaborn provide some toy datasets\n",
    "\n",
    "artificial_df.head()"
   ]
  },
  {
   "cell_type": "code",
   "execution_count": 77,
   "id": "3ff1bdd0",
   "metadata": {},
   "outputs": [
    {
     "name": "stderr",
     "output_type": "stream",
     "text": [
      "C:\\Users\\Vedansh\\AppData\\Local\\Temp\\ipykernel_41452\\2247303175.py:1: FutureWarning: The default of observed=False is deprecated and will be changed to True in a future version of pandas. Pass observed=False to retain current behavior or observed=True to adopt the future default and silence this warning.\n",
      "  artificial_df.groupby('sex')['total_bill'].mean()\n"
     ]
    },
    {
     "data": {
      "text/plain": [
       "sex\n",
       "Male      20.744076\n",
       "Female    18.056897\n",
       "Name: total_bill, dtype: float64"
      ]
     },
     "execution_count": 77,
     "metadata": {},
     "output_type": "execute_result"
    }
   ],
   "source": [
    "artificial_df.groupby('sex')['total_bill'].mean()"
   ]
  },
  {
   "cell_type": "code",
   "execution_count": 92,
   "id": "878b1829",
   "metadata": {},
   "outputs": [
    {
     "name": "stderr",
     "output_type": "stream",
     "text": [
      "C:\\Users\\Vedansh\\AppData\\Local\\Temp\\ipykernel_41452\\2487831428.py:1: FutureWarning: The default of observed=False is deprecated and will be changed to True in a future version of pandas. Pass observed=False to retain current behavior or observed=True to adopt the future default and silence this warning.\n",
      "  artificial_df.groupby(['sex', 'smoker'])['total_bill'].mean().unstack().rename(columns={'Yes':'smoker', 'No':'not_smoker'})\n"
     ]
    },
    {
     "data": {
      "application/vnd.microsoft.datawrangler.viewer.v0+json": {
       "columns": [
        {
         "name": "sex",
         "rawType": "category",
         "type": "unknown"
        },
        {
         "name": "smoker",
         "rawType": "float64",
         "type": "float"
        },
        {
         "name": "not_smoker",
         "rawType": "float64",
         "type": "float"
        }
       ],
       "conversionMethod": "pd.DataFrame",
       "ref": "194d6d31-a26e-43fe-82af-a1ab5902d040",
       "rows": [
        [
         "Male",
         "22.284499999999998",
         "19.79123711340206"
        ],
        [
         "Female",
         "17.977878787878787",
         "18.105185185185185"
        ]
       ],
       "shape": {
        "columns": 2,
        "rows": 2
       }
      },
      "text/html": [
       "<div>\n",
       "<style scoped>\n",
       "    .dataframe tbody tr th:only-of-type {\n",
       "        vertical-align: middle;\n",
       "    }\n",
       "\n",
       "    .dataframe tbody tr th {\n",
       "        vertical-align: top;\n",
       "    }\n",
       "\n",
       "    .dataframe thead th {\n",
       "        text-align: right;\n",
       "    }\n",
       "</style>\n",
       "<table border=\"1\" class=\"dataframe\">\n",
       "  <thead>\n",
       "    <tr style=\"text-align: right;\">\n",
       "      <th>smoker</th>\n",
       "      <th>smoker</th>\n",
       "      <th>not_smoker</th>\n",
       "    </tr>\n",
       "    <tr>\n",
       "      <th>sex</th>\n",
       "      <th></th>\n",
       "      <th></th>\n",
       "    </tr>\n",
       "  </thead>\n",
       "  <tbody>\n",
       "    <tr>\n",
       "      <th>Male</th>\n",
       "      <td>22.284500</td>\n",
       "      <td>19.791237</td>\n",
       "    </tr>\n",
       "    <tr>\n",
       "      <th>Female</th>\n",
       "      <td>17.977879</td>\n",
       "      <td>18.105185</td>\n",
       "    </tr>\n",
       "  </tbody>\n",
       "</table>\n",
       "</div>"
      ],
      "text/plain": [
       "smoker     smoker  not_smoker\n",
       "sex                          \n",
       "Male    22.284500   19.791237\n",
       "Female  17.977879   18.105185"
      ]
     },
     "execution_count": 92,
     "metadata": {},
     "output_type": "execute_result"
    }
   ],
   "source": [
    "artificial_df.groupby(['sex', 'smoker'])['total_bill'].mean().unstack().rename(columns={'Yes':'smoker', 'No':'not_smoker'})"
   ]
  },
  {
   "cell_type": "code",
   "execution_count": null,
   "id": "8d1cfebb",
   "metadata": {},
   "outputs": [
    {
     "name": "stderr",
     "output_type": "stream",
     "text": [
      "C:\\Users\\Vedansh\\AppData\\Local\\Temp\\ipykernel_41452\\1441635888.py:2: FutureWarning: The default value of observed=False is deprecated and will change to observed=True in a future version of pandas. Specify observed=False to silence this warning and retain the current behavior\n",
      "  artificial_df.pivot_table(index='sex', columns='smoker', values='total_bill', aggfunc='mean')\n"
     ]
    },
    {
     "data": {
      "application/vnd.microsoft.datawrangler.viewer.v0+json": {
       "columns": [
        {
         "name": "sex",
         "rawType": "category",
         "type": "unknown"
        },
        {
         "name": "Yes",
         "rawType": "float64",
         "type": "float"
        },
        {
         "name": "No",
         "rawType": "float64",
         "type": "float"
        }
       ],
       "conversionMethod": "pd.DataFrame",
       "ref": "d80bc3b7-673d-4168-a1c4-960c7fe32855",
       "rows": [
        [
         "Male",
         "22.284499999999998",
         "19.79123711340206"
        ],
        [
         "Female",
         "17.977878787878787",
         "18.105185185185185"
        ]
       ],
       "shape": {
        "columns": 2,
        "rows": 2
       }
      },
      "text/html": [
       "<div>\n",
       "<style scoped>\n",
       "    .dataframe tbody tr th:only-of-type {\n",
       "        vertical-align: middle;\n",
       "    }\n",
       "\n",
       "    .dataframe tbody tr th {\n",
       "        vertical-align: top;\n",
       "    }\n",
       "\n",
       "    .dataframe thead th {\n",
       "        text-align: right;\n",
       "    }\n",
       "</style>\n",
       "<table border=\"1\" class=\"dataframe\">\n",
       "  <thead>\n",
       "    <tr style=\"text-align: right;\">\n",
       "      <th>smoker</th>\n",
       "      <th>Yes</th>\n",
       "      <th>No</th>\n",
       "    </tr>\n",
       "    <tr>\n",
       "      <th>sex</th>\n",
       "      <th></th>\n",
       "      <th></th>\n",
       "    </tr>\n",
       "  </thead>\n",
       "  <tbody>\n",
       "    <tr>\n",
       "      <th>Male</th>\n",
       "      <td>22.284500</td>\n",
       "      <td>19.791237</td>\n",
       "    </tr>\n",
       "    <tr>\n",
       "      <th>Female</th>\n",
       "      <td>17.977879</td>\n",
       "      <td>18.105185</td>\n",
       "    </tr>\n",
       "  </tbody>\n",
       "</table>\n",
       "</div>"
      ],
      "text/plain": [
       "smoker        Yes         No\n",
       "sex                         \n",
       "Male    22.284500  19.791237\n",
       "Female  17.977879  18.105185"
      ]
     },
     "execution_count": 98,
     "metadata": {},
     "output_type": "execute_result"
    }
   ],
   "source": [
    "# the shortcut of above cell code is pivot table \n",
    "# Understand this by example and explanation ->git  https://www.youtube.com/live/UE6DmRQJ2w8?si=525LQc7USJR1Qwkg&t=857\n",
    "\n",
    "artificial_df.pivot_table(index='sex', columns='smoker', values='total_bill', aggfunc='mean')\n",
    "# by_default also `aggfunc` value is mean, we can use other functions like sum, min, max, std, var, count etc."
   ]
  }
 ],
 "metadata": {
  "kernelspec": {
   "display_name": "Python 3",
   "language": "python",
   "name": "python3"
  },
  "language_info": {
   "codemirror_mode": {
    "name": "ipython",
    "version": 3
   },
   "file_extension": ".py",
   "mimetype": "text/x-python",
   "name": "python",
   "nbconvert_exporter": "python",
   "pygments_lexer": "ipython3",
   "version": "3.13.2"
  }
 },
 "nbformat": 4,
 "nbformat_minor": 5
}
