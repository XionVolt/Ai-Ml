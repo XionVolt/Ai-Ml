{
 "cells": [
  {
   "cell_type": "markdown",
   "id": "ae95439e",
   "metadata": {},
   "source": [
    "# Proof of Series is 1d and datframe is 2d "
   ]
  },
  {
   "cell_type": "code",
   "execution_count": 31,
   "id": "d6189ca4",
   "metadata": {},
   "outputs": [],
   "source": [
    "# https://www.youtube.com/live/QzoRUwz8DoM?si=XHO68I1HnUD5tsWZ&t=847"
   ]
  },
  {
   "cell_type": "code",
   "execution_count": 32,
   "id": "089ad8e0",
   "metadata": {},
   "outputs": [],
   "source": [
    "import pandas as pd\n",
    "import numpy as np"
   ]
  },
  {
   "cell_type": "markdown",
   "id": "4c8418b7",
   "metadata": {},
   "source": [
    "# Having multiple index in series"
   ]
  },
  {
   "cell_type": "code",
   "execution_count": 33,
   "id": "54ab9c4f",
   "metadata": {},
   "outputs": [
    {
     "name": "stdout",
     "output_type": "stream",
     "text": [
      "(cse, 2019)     41\n",
      "(csed, 2020)    91\n",
      "(ecse, 2021)    77\n",
      "(csed, 2022)    63\n",
      "(cse, 2023)     78\n",
      "(rcse, 2024)    27\n",
      "(csed, 2025)    86\n",
      "dtype: int32\n",
      "------------------------\n",
      "86\n"
     ]
    }
   ],
   "source": [
    "index_val = [('cse',2019), ('csed',2020), ('ecse',2021), ('csed',2022), ('cse',2023),('rcse',2024), ('csed',2025)]\n",
    "series = pd.Series(np.random.randint(1,100,7), index=index_val)\n",
    "print(series)\n",
    "print('------------------------')\n",
    "print(series[('csed', 2025)])"
   ]
  },
  {
   "cell_type": "code",
   "execution_count": 34,
   "id": "134530e4",
   "metadata": {},
   "outputs": [],
   "source": [
    "# Why making multindex series in this way is not a good option ? -> https://www.youtube.com/live/QzoRUwz8DoM?si=ykdCCJD2x3T0JRqY&t=1187"
   ]
  },
  {
   "cell_type": "code",
   "execution_count": 35,
   "id": "9ae7fcd5",
   "metadata": {},
   "outputs": [],
   "source": [
    "# The correct way of making multindex series is to use `pd.MultiIndex.from_tuples` or pd.MultiIndex.from_product` -> \n",
    "# https://www.youtube.com/live/QzoRUwz8DoM?si=tAYvRJUTiSWxtSFO&t=1247\n"
   ]
  },
  {
   "cell_type": "code",
   "execution_count": 68,
   "id": "fa41e497",
   "metadata": {},
   "outputs": [
    {
     "name": "stdout",
     "output_type": "stream",
     "text": [
      "MultiIndex([( 'cse', 2019),\n",
      "            ('csed', 2020),\n",
      "            ('ecse', 2021),\n",
      "            ('csed', 2022),\n",
      "            ( 'cse', 2023),\n",
      "            ('rcse', 2024),\n",
      "            ('csed', 2025)],\n",
      "           )\n",
      "[['cse', 'csed', 'ecse', 'rcse'], [2019, 2020, 2021, 2022, 2023, 2024, 2025]]\n",
      "Index(['cse', 'csed', 'ecse', 'rcse'], dtype='object')\n",
      "Index([2019, 2020, 2021, 2022, 2023, 2024, 2025], dtype='int64')\n"
     ]
    }
   ],
   "source": [
    "# 1. Using `pd.MultiIndex.from_tuples` to create a multi-index series\n",
    "\n",
    "index_val = [('cse',2019), ('csed',2020), ('ecse',2021), ('csed',2022), ('cse',2023),('rcse',2024), ('csed',2025)]\n",
    "multi_index1 = pd.MultiIndex.from_tuples(index_val)\n",
    "print(multi_index1)\n",
    "print(multi_index1.levels)\n",
    "print(multi_index1.levels[0])\n",
    "print(multi_index1.levels[1])\n"
   ]
  },
  {
   "cell_type": "code",
   "execution_count": 88,
   "id": "ef1329de",
   "metadata": {},
   "outputs": [
    {
     "name": "stdout",
     "output_type": "stream",
     "text": [
      "MultiIndex([( 'cse', 2024),\n",
      "            ( 'cse', 2025),\n",
      "            ('csed', 2024),\n",
      "            ('csed', 2025),\n",
      "            ('ecse', 2024),\n",
      "            ('ecse', 2025),\n",
      "            ('rcse', 2024),\n",
      "            ('rcse', 2025)],\n",
      "           )\n",
      "[['cse', 'csed', 'ecse', 'rcse'], [2024, 2025]]\n"
     ]
    }
   ],
   "source": [
    "# 2. Using `pd.MultiIndex.from_product` to create a multi-index series\n",
    "# so it give each column(first element of list, means first tuple ) , each value of second element of list (means second tuple)\n",
    "\n",
    "index_val =  [('cse', 'csed', 'ecse', 'rcse'), (2024, 2025)]\n",
    "multi_index2 = pd.MultiIndex.from_product(index_val)\n",
    "print(multi_index2)\n",
    "\n",
    "print(multi_index2.levels)"
   ]
  },
  {
   "cell_type": "code",
   "execution_count": 61,
   "id": "ec416325",
   "metadata": {},
   "outputs": [
    {
     "data": {
      "text/plain": [
       "cse   2024     6\n",
       "      2025    78\n",
       "csed  2024    63\n",
       "      2025    55\n",
       "ecse  2024    79\n",
       "      2025    25\n",
       "rcse  2024    86\n",
       "      2025    34\n",
       "dtype: int64"
      ]
     },
     "execution_count": 61,
     "metadata": {},
     "output_type": "execute_result"
    }
   ],
   "source": [
    "# creating a series with multindex object that we make above\n",
    "rng = np.random.default_rng(77) # for reproducibility\n",
    "multiIndex = pd.Series(rng.integers(1,100,8), index=multi_index2)\n",
    "# so its like a hierarical tree structure, see -> https://www.youtube.com/live/QzoRUwz8DoM?si=HVVyVHUMJJw-WmjA&t=1547\n",
    "multiIndex"
   ]
  },
  {
   "cell_type": "code",
   "execution_count": 64,
   "id": "fae1b2c5",
   "metadata": {},
   "outputs": [
    {
     "data": {
      "text/plain": [
       "2024    63\n",
       "2025    55\n",
       "dtype: int64"
      ]
     },
     "execution_count": 64,
     "metadata": {},
     "output_type": "execute_result"
    }
   ],
   "source": [
    "# how to fetch items from multiIndex series ?\n",
    "multiIndex.loc[('csed')] # so it will give all the values of cse in 2024"
   ]
  },
  {
   "cell_type": "code",
   "execution_count": null,
   "id": "6ba13b22",
   "metadata": {},
   "outputs": [
    {
     "data": {
      "text/plain": [
       "np.int64(55)"
      ]
     },
     "execution_count": 65,
     "metadata": {},
     "output_type": "execute_result"
    }
   ],
   "source": [
    "multiIndex.loc[('csed',2025)] # so it will give all the values of cse in 2024"
   ]
  },
  {
   "cell_type": "code",
   "execution_count": 66,
   "id": "c78fb720",
   "metadata": {},
   "outputs": [
    {
     "data": {
      "application/vnd.microsoft.datawrangler.viewer.v0+json": {
       "columns": [
        {
         "name": "index",
         "rawType": "object",
         "type": "string"
        },
        {
         "name": "2024",
         "rawType": "int64",
         "type": "integer"
        },
        {
         "name": "2025",
         "rawType": "int64",
         "type": "integer"
        }
       ],
       "conversionMethod": "pd.DataFrame",
       "ref": "fa59091e-0dd0-4051-be3e-fb48e1d868e1",
       "rows": [
        [
         "cse",
         "6",
         "78"
        ],
        [
         "csed",
         "63",
         "55"
        ],
        [
         "ecse",
         "79",
         "25"
        ],
        [
         "rcse",
         "86",
         "34"
        ]
       ],
       "shape": {
        "columns": 2,
        "rows": 4
       }
      },
      "text/html": [
       "<div>\n",
       "<style scoped>\n",
       "    .dataframe tbody tr th:only-of-type {\n",
       "        vertical-align: middle;\n",
       "    }\n",
       "\n",
       "    .dataframe tbody tr th {\n",
       "        vertical-align: top;\n",
       "    }\n",
       "\n",
       "    .dataframe thead th {\n",
       "        text-align: right;\n",
       "    }\n",
       "</style>\n",
       "<table border=\"1\" class=\"dataframe\">\n",
       "  <thead>\n",
       "    <tr style=\"text-align: right;\">\n",
       "      <th></th>\n",
       "      <th>2024</th>\n",
       "      <th>2025</th>\n",
       "    </tr>\n",
       "  </thead>\n",
       "  <tbody>\n",
       "    <tr>\n",
       "      <th>cse</th>\n",
       "      <td>6</td>\n",
       "      <td>78</td>\n",
       "    </tr>\n",
       "    <tr>\n",
       "      <th>csed</th>\n",
       "      <td>63</td>\n",
       "      <td>55</td>\n",
       "    </tr>\n",
       "    <tr>\n",
       "      <th>ecse</th>\n",
       "      <td>79</td>\n",
       "      <td>25</td>\n",
       "    </tr>\n",
       "    <tr>\n",
       "      <th>rcse</th>\n",
       "      <td>86</td>\n",
       "      <td>34</td>\n",
       "    </tr>\n",
       "  </tbody>\n",
       "</table>\n",
       "</div>"
      ],
      "text/plain": [
       "      2024  2025\n",
       "cse      6    78\n",
       "csed    63    55\n",
       "ecse    79    25\n",
       "rcse    86    34"
      ]
     },
     "execution_count": 66,
     "metadata": {},
     "output_type": "execute_result"
    }
   ],
   "source": [
    "# multindex series to dataframe using \n",
    "# `unstack` method\n",
    "multiIndex.unstack() # so it will give the values of cse in 2024 and 2025 in a dataframe format"
   ]
  },
  {
   "cell_type": "code",
   "execution_count": 73,
   "id": "9379e318",
   "metadata": {},
   "outputs": [
    {
     "data": {
      "text/plain": [
       "cse   2019    1\n",
       "csed  2020    2\n",
       "ecse  2021    3\n",
       "csed  2022    4\n",
       "cse   2023    5\n",
       "rcse  2024    6\n",
       "csed  2025    7\n",
       "dtype: int64"
      ]
     },
     "execution_count": 73,
     "metadata": {},
     "output_type": "execute_result"
    }
   ],
   "source": [
    "pd.Series(index=multi_index1, data=[1,2,3,4,5,6,7]) # so it will give the values of cse in 2024 and 2025 in a dataframe format"
   ]
  },
  {
   "cell_type": "code",
   "execution_count": 86,
   "id": "14c4c270",
   "metadata": {},
   "outputs": [
    {
     "data": {
      "application/vnd.microsoft.datawrangler.viewer.v0+json": {
       "columns": [
        {
         "name": "index",
         "rawType": "object",
         "type": "string"
        },
        {
         "name": "2019",
         "rawType": "float64",
         "type": "float"
        },
        {
         "name": "2020",
         "rawType": "float64",
         "type": "float"
        },
        {
         "name": "2021",
         "rawType": "float64",
         "type": "float"
        },
        {
         "name": "2022",
         "rawType": "float64",
         "type": "float"
        },
        {
         "name": "2023",
         "rawType": "float64",
         "type": "float"
        },
        {
         "name": "2024",
         "rawType": "float64",
         "type": "float"
        },
        {
         "name": "2025",
         "rawType": "float64",
         "type": "float"
        }
       ],
       "conversionMethod": "pd.DataFrame",
       "ref": "6e477242-1ac0-4826-b2d1-af420ce856a1",
       "rows": [
        [
         "cse",
         "1.0",
         null,
         null,
         null,
         "5.0",
         null,
         null
        ],
        [
         "csed",
         null,
         "2.0",
         null,
         "4.0",
         null,
         null,
         "7.0"
        ],
        [
         "ecse",
         null,
         null,
         "3.0",
         null,
         null,
         null,
         null
        ],
        [
         "rcse",
         null,
         null,
         null,
         null,
         null,
         "6.0",
         null
        ]
       ],
       "shape": {
        "columns": 7,
        "rows": 4
       }
      },
      "text/html": [
       "<div>\n",
       "<style scoped>\n",
       "    .dataframe tbody tr th:only-of-type {\n",
       "        vertical-align: middle;\n",
       "    }\n",
       "\n",
       "    .dataframe tbody tr th {\n",
       "        vertical-align: top;\n",
       "    }\n",
       "\n",
       "    .dataframe thead th {\n",
       "        text-align: right;\n",
       "    }\n",
       "</style>\n",
       "<table border=\"1\" class=\"dataframe\">\n",
       "  <thead>\n",
       "    <tr style=\"text-align: right;\">\n",
       "      <th></th>\n",
       "      <th>2019</th>\n",
       "      <th>2020</th>\n",
       "      <th>2021</th>\n",
       "      <th>2022</th>\n",
       "      <th>2023</th>\n",
       "      <th>2024</th>\n",
       "      <th>2025</th>\n",
       "    </tr>\n",
       "  </thead>\n",
       "  <tbody>\n",
       "    <tr>\n",
       "      <th>cse</th>\n",
       "      <td>1.0</td>\n",
       "      <td>NaN</td>\n",
       "      <td>NaN</td>\n",
       "      <td>NaN</td>\n",
       "      <td>5.0</td>\n",
       "      <td>NaN</td>\n",
       "      <td>NaN</td>\n",
       "    </tr>\n",
       "    <tr>\n",
       "      <th>csed</th>\n",
       "      <td>NaN</td>\n",
       "      <td>2.0</td>\n",
       "      <td>NaN</td>\n",
       "      <td>4.0</td>\n",
       "      <td>NaN</td>\n",
       "      <td>NaN</td>\n",
       "      <td>7.0</td>\n",
       "    </tr>\n",
       "    <tr>\n",
       "      <th>ecse</th>\n",
       "      <td>NaN</td>\n",
       "      <td>NaN</td>\n",
       "      <td>3.0</td>\n",
       "      <td>NaN</td>\n",
       "      <td>NaN</td>\n",
       "      <td>NaN</td>\n",
       "      <td>NaN</td>\n",
       "    </tr>\n",
       "    <tr>\n",
       "      <th>rcse</th>\n",
       "      <td>NaN</td>\n",
       "      <td>NaN</td>\n",
       "      <td>NaN</td>\n",
       "      <td>NaN</td>\n",
       "      <td>NaN</td>\n",
       "      <td>6.0</td>\n",
       "      <td>NaN</td>\n",
       "    </tr>\n",
       "  </tbody>\n",
       "</table>\n",
       "</div>"
      ],
      "text/plain": [
       "      2019  2020  2021  2022  2023  2024  2025\n",
       "cse    1.0   NaN   NaN   NaN   5.0   NaN   NaN\n",
       "csed   NaN   2.0   NaN   4.0   NaN   NaN   7.0\n",
       "ecse   NaN   NaN   3.0   NaN   NaN   NaN   NaN\n",
       "rcse   NaN   NaN   NaN   NaN   NaN   6.0   NaN"
      ]
     },
     "execution_count": 86,
     "metadata": {},
     "output_type": "execute_result"
    }
   ],
   "source": [
    "# multindex series to dataframe, using `unstack` method\n",
    "\n",
    "pd.Series(index=multi_index1, data=[1,2,3,4,5,6,7]).unstack() # so it will give the values of cse in 2024 and 2025 in a dataframe format"
   ]
  },
  {
   "cell_type": "code",
   "execution_count": 84,
   "id": "b83fa29e",
   "metadata": {},
   "outputs": [
    {
     "data": {
      "text/plain": [
       "cse   2019    1.0\n",
       "      2023    5.0\n",
       "csed  2020    2.0\n",
       "      2022    4.0\n",
       "      2025    7.0\n",
       "ecse  2021    3.0\n",
       "rcse  2024    6.0\n",
       "dtype: float64"
      ]
     },
     "execution_count": 84,
     "metadata": {},
     "output_type": "execute_result"
    }
   ],
   "source": [
    "# dataframe to multindex series using `stack` method\n",
    "pd.Series(index=multi_index1, data=[1,2,3,4,5,6,7]).unstack().stack()"
   ]
  },
  {
   "cell_type": "markdown",
   "id": "4f7631cd",
   "metadata": {},
   "source": [
    "## [But Why to use multi index series? 🤔](https://www.youtube.com/live/QzoRUwz8DoM?si=7RidvYCQQtHNAuqQ&t=2017)"
   ]
  }
 ],
 "metadata": {
  "kernelspec": {
   "display_name": "Python 3",
   "language": "python",
   "name": "python3"
  },
  "language_info": {
   "codemirror_mode": {
    "name": "ipython",
    "version": 3
   },
   "file_extension": ".py",
   "mimetype": "text/x-python",
   "name": "python",
   "nbconvert_exporter": "python",
   "pygments_lexer": "ipython3",
   "version": "3.13.2"
  }
 },
 "nbformat": 4,
 "nbformat_minor": 5
}
