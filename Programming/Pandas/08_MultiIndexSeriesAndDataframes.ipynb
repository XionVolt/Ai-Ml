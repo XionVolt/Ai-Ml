{
 "cells": [
  {
   "cell_type": "markdown",
   "id": "ae95439e",
   "metadata": {},
   "source": [
    "# Proof of Series is 1d and datframe is 2d "
   ]
  },
  {
   "cell_type": "code",
   "execution_count": 3,
   "id": "d6189ca4",
   "metadata": {},
   "outputs": [],
   "source": [
    "# https://www.youtube.com/live/QzoRUwz8DoM?si=XHO68I1HnUD5tsWZ&t=847"
   ]
  },
  {
   "cell_type": "code",
   "execution_count": 4,
   "id": "089ad8e0",
   "metadata": {},
   "outputs": [],
   "source": [
    "import pandas as pd\n",
    "import numpy as np"
   ]
  },
  {
   "cell_type": "markdown",
   "id": "4c8418b7",
   "metadata": {},
   "source": [
    "# Having multiple index in series"
   ]
  },
  {
   "cell_type": "code",
   "execution_count": 5,
   "id": "54ab9c4f",
   "metadata": {},
   "outputs": [
    {
     "name": "stdout",
     "output_type": "stream",
     "text": [
      "(cse, 2019)     36\n",
      "(csed, 2020)    70\n",
      "(ecse, 2021)     2\n",
      "(csed, 2022)    45\n",
      "(cse, 2023)     75\n",
      "(rcse, 2024)    83\n",
      "(csed, 2025)     1\n",
      "dtype: int32\n",
      "|------------------------|\n",
      "1\n"
     ]
    }
   ],
   "source": [
    "index_val = [('cse',2019), ('csed',2020), ('ecse',2021), ('csed',2022), ('cse',2023),('rcse',2024), ('csed',2025)]\n",
    "series = pd.Series(np.random.randint(1,100,7), index=index_val)\n",
    "print(series)\n",
    "print('|------------------------|')\n",
    "print(series[('csed', 2025)]) "
   ]
  },
  {
   "cell_type": "code",
   "execution_count": 6,
   "id": "134530e4",
   "metadata": {},
   "outputs": [],
   "source": [
    "# Why making multindex series in this way is not a good option ? -> https://www.youtube.com/live/QzoRUwz8DoM?si=ykdCCJD2x3T0JRqY&t=1187\n",
    "# because we can't access by single index like for example: Only `csed` or `2025`"
   ]
  },
  {
   "cell_type": "code",
   "execution_count": 7,
   "id": "9ae7fcd5",
   "metadata": {},
   "outputs": [],
   "source": [
    "# The correct way of making multindex series is to use `pd.MultiIndex.from_tuples` or pd.MultiIndex.from_product` -> \n",
    "# https://www.youtube.com/live/QzoRUwz8DoM?si=tAYvRJUTiSWxtSFO&t=1247"
   ]
  },
  {
   "cell_type": "code",
   "execution_count": 8,
   "id": "fa41e497",
   "metadata": {},
   "outputs": [
    {
     "name": "stdout",
     "output_type": "stream",
     "text": [
      "MultiIndex([( 'cse', 2019),\n",
      "            ('csed', 2020),\n",
      "            ('ecse', 2021),\n",
      "            ('csed', 2022),\n",
      "            ( 'cse', 2023),\n",
      "            ('rcse', 2024),\n",
      "            ('csed', 2025)],\n",
      "           )\n",
      "[['cse', 'csed', 'ecse', 'rcse'], [2019, 2020, 2021, 2022, 2023, 2024, 2025]]\n",
      "Index(['cse', 'csed', 'ecse', 'rcse'], dtype='object')\n",
      "Index([2019, 2020, 2021, 2022, 2023, 2024, 2025], dtype='int64')\n"
     ]
    }
   ],
   "source": [
    "# 1. Using `pd.MultiIndex.from_tuples` to create a multi-index series\n",
    "\n",
    "index_val = [('cse',2019), ('csed',2020), ('ecse',2021), ('csed',2022), ('cse',2023),('rcse',2024), ('csed',2025)]\n",
    "multi_index1 = pd.MultiIndex.from_tuples(index_val)\n",
    "print(multi_index1)\n",
    "print(multi_index1.levels) # level gives all the unique values in the \n",
    "print(multi_index1.levels[0])\n",
    "print(multi_index1.levels[1])"
   ]
  },
  {
   "cell_type": "code",
   "execution_count": 9,
   "id": "ef1329de",
   "metadata": {},
   "outputs": [
    {
     "name": "stdout",
     "output_type": "stream",
     "text": [
      "MultiIndex([( 'cse', 2024),\n",
      "            ( 'cse', 2025),\n",
      "            ('csed', 2024),\n",
      "            ('csed', 2025),\n",
      "            ('ecse', 2024),\n",
      "            ('ecse', 2025),\n",
      "            ('rcse', 2024),\n",
      "            ('rcse', 2025)],\n",
      "           )\n",
      "[['cse', 'csed', 'ecse', 'rcse'], [2024, 2025]]\n"
     ]
    }
   ],
   "source": [
    "# 2. Using `pd.MultiIndex.from_product` to create a multi-index series\n",
    "# so it will associate each value in the first list with all the values in the second list\n",
    "\n",
    "index_val =  [('cse', 'csed', 'ecse', 'rcse'), (2024, 2025)]\n",
    "multi_index2 = pd.MultiIndex.from_product(index_val)\n",
    "print(multi_index2)\n",
    "\n",
    "print(multi_index2.levels)"
   ]
  },
  {
   "cell_type": "code",
   "execution_count": 10,
   "id": "ec416325",
   "metadata": {},
   "outputs": [
    {
     "data": {
      "text/plain": [
       "cse   2024     6\n",
       "      2025    78\n",
       "csed  2024    63\n",
       "      2025    55\n",
       "ecse  2024    79\n",
       "      2025    25\n",
       "rcse  2024    86\n",
       "      2025    34\n",
       "dtype: int64"
      ]
     },
     "execution_count": 10,
     "metadata": {},
     "output_type": "execute_result"
    }
   ],
   "source": [
    "# creating a series with multindex object that we make above\n",
    "rng = np.random.default_rng(77) # for reproducibility\n",
    "multiIndex = pd.Series(rng.integers(1,100,8), index=multi_index2)\n",
    "# so its like a hierarical tree structure, see -> https://www.youtube.com/live/QzoRUwz8DoM?si=HVVyVHUMJJw-WmjA&t=1547\n",
    "multiIndex"
   ]
  },
  {
   "cell_type": "code",
   "execution_count": 11,
   "id": "fae1b2c5",
   "metadata": {},
   "outputs": [
    {
     "data": {
      "text/plain": [
       "2024    63\n",
       "2025    55\n",
       "dtype: int64"
      ]
     },
     "execution_count": 11,
     "metadata": {},
     "output_type": "execute_result"
    }
   ],
   "source": [
    "# how to fetch items from multiIndex series ?\n",
    "multiIndex.loc[('csed')] # so it will give all the values of cse in 2024"
   ]
  },
  {
   "cell_type": "code",
   "execution_count": 12,
   "id": "6ba13b22",
   "metadata": {},
   "outputs": [
    {
     "data": {
      "text/plain": [
       "np.int64(55)"
      ]
     },
     "execution_count": 12,
     "metadata": {},
     "output_type": "execute_result"
    }
   ],
   "source": [
    "multiIndex.loc[('csed',2025)] # so it will give all the values of cse in 2024"
   ]
  },
  {
   "cell_type": "code",
   "execution_count": 13,
   "id": "c78fb720",
   "metadata": {},
   "outputs": [
    {
     "data": {
      "application/vnd.microsoft.datawrangler.viewer.v0+json": {
       "columns": [
        {
         "name": "index",
         "rawType": "object",
         "type": "string"
        },
        {
         "name": "2024",
         "rawType": "int64",
         "type": "integer"
        },
        {
         "name": "2025",
         "rawType": "int64",
         "type": "integer"
        }
       ],
       "conversionMethod": "pd.DataFrame",
       "ref": "b41dd422-c514-40fb-8a43-de16eecb9a10",
       "rows": [
        [
         "cse",
         "6",
         "78"
        ],
        [
         "csed",
         "63",
         "55"
        ],
        [
         "ecse",
         "79",
         "25"
        ],
        [
         "rcse",
         "86",
         "34"
        ]
       ],
       "shape": {
        "columns": 2,
        "rows": 4
       }
      },
      "text/html": [
       "<div>\n",
       "<style scoped>\n",
       "    .dataframe tbody tr th:only-of-type {\n",
       "        vertical-align: middle;\n",
       "    }\n",
       "\n",
       "    .dataframe tbody tr th {\n",
       "        vertical-align: top;\n",
       "    }\n",
       "\n",
       "    .dataframe thead th {\n",
       "        text-align: right;\n",
       "    }\n",
       "</style>\n",
       "<table border=\"1\" class=\"dataframe\">\n",
       "  <thead>\n",
       "    <tr style=\"text-align: right;\">\n",
       "      <th></th>\n",
       "      <th>2024</th>\n",
       "      <th>2025</th>\n",
       "    </tr>\n",
       "  </thead>\n",
       "  <tbody>\n",
       "    <tr>\n",
       "      <th>cse</th>\n",
       "      <td>6</td>\n",
       "      <td>78</td>\n",
       "    </tr>\n",
       "    <tr>\n",
       "      <th>csed</th>\n",
       "      <td>63</td>\n",
       "      <td>55</td>\n",
       "    </tr>\n",
       "    <tr>\n",
       "      <th>ecse</th>\n",
       "      <td>79</td>\n",
       "      <td>25</td>\n",
       "    </tr>\n",
       "    <tr>\n",
       "      <th>rcse</th>\n",
       "      <td>86</td>\n",
       "      <td>34</td>\n",
       "    </tr>\n",
       "  </tbody>\n",
       "</table>\n",
       "</div>"
      ],
      "text/plain": [
       "      2024  2025\n",
       "cse      6    78\n",
       "csed    63    55\n",
       "ecse    79    25\n",
       "rcse    86    34"
      ]
     },
     "execution_count": 13,
     "metadata": {},
     "output_type": "execute_result"
    }
   ],
   "source": [
    "# multindex series to dataframe using \n",
    "# `unstack` method\n",
    "multiIndex.unstack()\n",
    "# so it will give the values of `cse`,`csed`,`ecse`,`rcse` of 2024 and 2025 in a dataframe format"
   ]
  },
  {
   "cell_type": "code",
   "execution_count": 14,
   "id": "9379e318",
   "metadata": {},
   "outputs": [
    {
     "data": {
      "text/plain": [
       "cse   2019    1\n",
       "csed  2020    2\n",
       "ecse  2021    3\n",
       "csed  2022    4\n",
       "cse   2023    5\n",
       "rcse  2024    6\n",
       "csed  2025    7\n",
       "dtype: int64"
      ]
     },
     "execution_count": 14,
     "metadata": {},
     "output_type": "execute_result"
    }
   ],
   "source": [
    "pd.Series(index=multi_index1, data=[1,2,3,4,5,6,7]) # so it will give the values of cse in 2024 and 2025 in a dataframe format"
   ]
  },
  {
   "cell_type": "code",
   "execution_count": 15,
   "id": "14c4c270",
   "metadata": {},
   "outputs": [
    {
     "data": {
      "application/vnd.microsoft.datawrangler.viewer.v0+json": {
       "columns": [
        {
         "name": "index",
         "rawType": "object",
         "type": "string"
        },
        {
         "name": "2019",
         "rawType": "float64",
         "type": "float"
        },
        {
         "name": "2020",
         "rawType": "float64",
         "type": "float"
        },
        {
         "name": "2021",
         "rawType": "float64",
         "type": "float"
        },
        {
         "name": "2022",
         "rawType": "float64",
         "type": "float"
        },
        {
         "name": "2023",
         "rawType": "float64",
         "type": "float"
        },
        {
         "name": "2024",
         "rawType": "float64",
         "type": "float"
        },
        {
         "name": "2025",
         "rawType": "float64",
         "type": "float"
        }
       ],
       "conversionMethod": "pd.DataFrame",
       "ref": "1b63cc5c-03cd-4730-8811-44ea4fa4ae21",
       "rows": [
        [
         "cse",
         "1.0",
         null,
         null,
         null,
         "5.0",
         null,
         null
        ],
        [
         "csed",
         null,
         "2.0",
         null,
         "4.0",
         null,
         null,
         "7.0"
        ],
        [
         "ecse",
         null,
         null,
         "3.0",
         null,
         null,
         null,
         null
        ],
        [
         "rcse",
         null,
         null,
         null,
         null,
         null,
         "6.0",
         null
        ]
       ],
       "shape": {
        "columns": 7,
        "rows": 4
       }
      },
      "text/html": [
       "<div>\n",
       "<style scoped>\n",
       "    .dataframe tbody tr th:only-of-type {\n",
       "        vertical-align: middle;\n",
       "    }\n",
       "\n",
       "    .dataframe tbody tr th {\n",
       "        vertical-align: top;\n",
       "    }\n",
       "\n",
       "    .dataframe thead th {\n",
       "        text-align: right;\n",
       "    }\n",
       "</style>\n",
       "<table border=\"1\" class=\"dataframe\">\n",
       "  <thead>\n",
       "    <tr style=\"text-align: right;\">\n",
       "      <th></th>\n",
       "      <th>2019</th>\n",
       "      <th>2020</th>\n",
       "      <th>2021</th>\n",
       "      <th>2022</th>\n",
       "      <th>2023</th>\n",
       "      <th>2024</th>\n",
       "      <th>2025</th>\n",
       "    </tr>\n",
       "  </thead>\n",
       "  <tbody>\n",
       "    <tr>\n",
       "      <th>cse</th>\n",
       "      <td>1.0</td>\n",
       "      <td>NaN</td>\n",
       "      <td>NaN</td>\n",
       "      <td>NaN</td>\n",
       "      <td>5.0</td>\n",
       "      <td>NaN</td>\n",
       "      <td>NaN</td>\n",
       "    </tr>\n",
       "    <tr>\n",
       "      <th>csed</th>\n",
       "      <td>NaN</td>\n",
       "      <td>2.0</td>\n",
       "      <td>NaN</td>\n",
       "      <td>4.0</td>\n",
       "      <td>NaN</td>\n",
       "      <td>NaN</td>\n",
       "      <td>7.0</td>\n",
       "    </tr>\n",
       "    <tr>\n",
       "      <th>ecse</th>\n",
       "      <td>NaN</td>\n",
       "      <td>NaN</td>\n",
       "      <td>3.0</td>\n",
       "      <td>NaN</td>\n",
       "      <td>NaN</td>\n",
       "      <td>NaN</td>\n",
       "      <td>NaN</td>\n",
       "    </tr>\n",
       "    <tr>\n",
       "      <th>rcse</th>\n",
       "      <td>NaN</td>\n",
       "      <td>NaN</td>\n",
       "      <td>NaN</td>\n",
       "      <td>NaN</td>\n",
       "      <td>NaN</td>\n",
       "      <td>6.0</td>\n",
       "      <td>NaN</td>\n",
       "    </tr>\n",
       "  </tbody>\n",
       "</table>\n",
       "</div>"
      ],
      "text/plain": [
       "      2019  2020  2021  2022  2023  2024  2025\n",
       "cse    1.0   NaN   NaN   NaN   5.0   NaN   NaN\n",
       "csed   NaN   2.0   NaN   4.0   NaN   NaN   7.0\n",
       "ecse   NaN   NaN   3.0   NaN   NaN   NaN   NaN\n",
       "rcse   NaN   NaN   NaN   NaN   NaN   6.0   NaN"
      ]
     },
     "execution_count": 15,
     "metadata": {},
     "output_type": "execute_result"
    }
   ],
   "source": [
    "# multindex series to dataframe, using `unstack` method\n",
    "\n",
    "pd.Series(index=multi_index1, data=[1,2,3,4,5,6,7]).unstack() # so it will give the values of cse in 2024 and 2025 in a dataframe format"
   ]
  },
  {
   "cell_type": "code",
   "execution_count": 16,
   "id": "b83fa29e",
   "metadata": {},
   "outputs": [
    {
     "data": {
      "text/plain": [
       "cse   2019    1.0\n",
       "      2023    5.0\n",
       "csed  2020    2.0\n",
       "      2022    4.0\n",
       "      2025    7.0\n",
       "ecse  2021    3.0\n",
       "rcse  2024    6.0\n",
       "dtype: float64"
      ]
     },
     "execution_count": 16,
     "metadata": {},
     "output_type": "execute_result"
    }
   ],
   "source": [
    "# dataframe to multindex series using `stack` method\n",
    "pd.Series(index=multi_index1, data=[1,2,3,4,5,6,7]).unstack().stack()\n",
    "\n",
    "# Note: stack() and unstack() method explain in detail in below section"
   ]
  },
  {
   "cell_type": "markdown",
   "id": "4f7631cd",
   "metadata": {},
   "source": [
    "## [But Why to use multi index series? 🤔](https://www.youtube.com/live/QzoRUwz8DoM?si=7RidvYCQQtHNAuqQ&t=2017)"
   ]
  },
  {
   "cell_type": "markdown",
   "id": "3d951d7f",
   "metadata": {},
   "source": [
    "## multiIndex dataframes"
   ]
  },
  {
   "cell_type": "code",
   "execution_count": 17,
   "id": "493b6245",
   "metadata": {},
   "outputs": [],
   "source": [
    "# multindex dataframes -> https://www.youtube.com/live/QzoRUwz8DoM?si=3ITFbPdL4nivLYYH&t=2137"
   ]
  },
  {
   "cell_type": "code",
   "execution_count": 18,
   "id": "8750fa8c",
   "metadata": {},
   "outputs": [
    {
     "data": {
      "text/plain": [
       "MultiIndex([( 'cse', 2019),\n",
       "            ('csed', 2020),\n",
       "            ('ecse', 2021),\n",
       "            ('csed', 2022),\n",
       "            ( 'cse', 2023),\n",
       "            ('rcse', 2024),\n",
       "            ('csed', 2025)],\n",
       "           )"
      ]
     },
     "execution_count": 18,
     "metadata": {},
     "output_type": "execute_result"
    }
   ],
   "source": [
    "multi_index1"
   ]
  },
  {
   "cell_type": "code",
   "execution_count": 19,
   "id": "b53099d7",
   "metadata": {},
   "outputs": [
    {
     "name": "stdout",
     "output_type": "stream",
     "text": [
      "<class 'pandas.core.frame.DataFrame'>\n",
      "MultiIndex: 7 entries, ('cse', np.int64(2019)) to ('csed', np.int64(2025))\n",
      "Data columns (total 3 columns):\n",
      " #   Column       Non-Null Count  Dtype\n",
      "---  ------       --------------  -----\n",
      " 0   avg_package  7 non-null      int64\n",
      " 1   avg_salary   7 non-null      int64\n",
      " 2   avg_ability  7 non-null      int64\n",
      "dtypes: int64(3)\n",
      "memory usage: 774.0+ bytes\n"
     ]
    },
    {
     "data": {
      "application/vnd.microsoft.datawrangler.viewer.v0+json": {
       "columns": [
        {
         "name": "(None, None)",
         "rawType": "object",
         "type": "unknown"
        },
        {
         "name": "avg_package",
         "rawType": "int64",
         "type": "integer"
        },
        {
         "name": "avg_salary",
         "rawType": "int64",
         "type": "integer"
        },
        {
         "name": "avg_ability",
         "rawType": "int64",
         "type": "integer"
        }
       ],
       "conversionMethod": "pd.DataFrame",
       "ref": "0569f914-23b4-401b-a9f0-f006cd9d07eb",
       "rows": [
        [
         "('cse', np.int64(2019))",
         "1",
         "2",
         "3"
        ],
        [
         "('csed', np.int64(2020))",
         "4",
         "5",
         "6"
        ],
        [
         "('ecse', np.int64(2021))",
         "7",
         "8",
         "9"
        ],
        [
         "('csed', np.int64(2022))",
         "10",
         "11",
         "12"
        ],
        [
         "('cse', np.int64(2023))",
         "13",
         "14",
         "15"
        ],
        [
         "('rcse', np.int64(2024))",
         "16",
         "17",
         "18"
        ],
        [
         "('csed', np.int64(2025))",
         "19",
         "20",
         "21"
        ]
       ],
       "shape": {
        "columns": 3,
        "rows": 7
       }
      },
      "text/html": [
       "<div>\n",
       "<style scoped>\n",
       "    .dataframe tbody tr th:only-of-type {\n",
       "        vertical-align: middle;\n",
       "    }\n",
       "\n",
       "    .dataframe tbody tr th {\n",
       "        vertical-align: top;\n",
       "    }\n",
       "\n",
       "    .dataframe thead th {\n",
       "        text-align: right;\n",
       "    }\n",
       "</style>\n",
       "<table border=\"1\" class=\"dataframe\">\n",
       "  <thead>\n",
       "    <tr style=\"text-align: right;\">\n",
       "      <th></th>\n",
       "      <th></th>\n",
       "      <th>avg_package</th>\n",
       "      <th>avg_salary</th>\n",
       "      <th>avg_ability</th>\n",
       "    </tr>\n",
       "  </thead>\n",
       "  <tbody>\n",
       "    <tr>\n",
       "      <th>cse</th>\n",
       "      <th>2019</th>\n",
       "      <td>1</td>\n",
       "      <td>2</td>\n",
       "      <td>3</td>\n",
       "    </tr>\n",
       "    <tr>\n",
       "      <th>csed</th>\n",
       "      <th>2020</th>\n",
       "      <td>4</td>\n",
       "      <td>5</td>\n",
       "      <td>6</td>\n",
       "    </tr>\n",
       "    <tr>\n",
       "      <th>ecse</th>\n",
       "      <th>2021</th>\n",
       "      <td>7</td>\n",
       "      <td>8</td>\n",
       "      <td>9</td>\n",
       "    </tr>\n",
       "    <tr>\n",
       "      <th>csed</th>\n",
       "      <th>2022</th>\n",
       "      <td>10</td>\n",
       "      <td>11</td>\n",
       "      <td>12</td>\n",
       "    </tr>\n",
       "    <tr>\n",
       "      <th>cse</th>\n",
       "      <th>2023</th>\n",
       "      <td>13</td>\n",
       "      <td>14</td>\n",
       "      <td>15</td>\n",
       "    </tr>\n",
       "    <tr>\n",
       "      <th>rcse</th>\n",
       "      <th>2024</th>\n",
       "      <td>16</td>\n",
       "      <td>17</td>\n",
       "      <td>18</td>\n",
       "    </tr>\n",
       "    <tr>\n",
       "      <th>csed</th>\n",
       "      <th>2025</th>\n",
       "      <td>19</td>\n",
       "      <td>20</td>\n",
       "      <td>21</td>\n",
       "    </tr>\n",
       "  </tbody>\n",
       "</table>\n",
       "</div>"
      ],
      "text/plain": [
       "           avg_package  avg_salary  avg_ability\n",
       "cse  2019            1           2            3\n",
       "csed 2020            4           5            6\n",
       "ecse 2021            7           8            9\n",
       "csed 2022           10          11           12\n",
       "cse  2023           13          14           15\n",
       "rcse 2024           16          17           18\n",
       "csed 2025           19          20           21"
      ]
     },
     "execution_count": 19,
     "metadata": {},
     "output_type": "execute_result"
    }
   ],
   "source": [
    "branch_df1 = pd.DataFrame(\n",
    "    [\n",
    "        [1, 2, 3],\n",
    "        [4, 5, 6],\n",
    "        [7, 8, 9],\n",
    "        [10, 11, 12],\n",
    "        [13, 14, 15],\n",
    "        [16, 17, 18],\n",
    "        [19, 20, 21],\n",
    "    ],\n",
    "    index = multi_index1,\n",
    "    columns= ['avg_package', 'avg_salary', 'avg_ability']\n",
    ")\n",
    "branch_df1.info(verbose=True, show_counts=True)\n",
    "branch_df1"
   ]
  },
  {
   "cell_type": "code",
   "execution_count": 20,
   "id": "9d9b3c8b",
   "metadata": {},
   "outputs": [],
   "source": [
    "# 1 important thing about indexes and columns in multindexes dataframes, is that pandas not treat indexes and columns as a single entity, so we can access them separately\n",
    "# https://www.youtube.com/live/QzoRUwz8DoM?si=0VRVHTmiM_JLRkeu&t=2417\n",
    "# so we can also make dataframe where columns will have hierarchical structure"
   ]
  },
  {
   "cell_type": "code",
   "execution_count": 21,
   "id": "352380f6",
   "metadata": {},
   "outputs": [
    {
     "data": {
      "application/vnd.microsoft.datawrangler.viewer.v0+json": {
       "columns": [
        {
         "name": "index",
         "rawType": "int64",
         "type": "integer"
        },
        {
         "name": "('delhi', 'avg_package')",
         "rawType": "int64",
         "type": "integer"
        },
        {
         "name": "('delhi', 'students')",
         "rawType": "int64",
         "type": "integer"
        },
        {
         "name": "('mumbai', 'avg_package')",
         "rawType": "int64",
         "type": "integer"
        },
        {
         "name": "('mumbai', 'students')",
         "rawType": "int64",
         "type": "integer"
        }
       ],
       "conversionMethod": "pd.DataFrame",
       "ref": "0007050a-c474-4fad-8a4c-d8a732c5afd2",
       "rows": [
        [
         "2019",
         "1",
         "2",
         "10",
         "2"
        ],
        [
         "2020",
         "3",
         "4",
         "0",
         "0"
        ],
        [
         "2021",
         "5",
         "6",
         "10",
         "1"
        ],
        [
         "2022",
         "7",
         "8",
         "0",
         "0"
        ]
       ],
       "shape": {
        "columns": 4,
        "rows": 4
       }
      },
      "text/html": [
       "<div>\n",
       "<style scoped>\n",
       "    .dataframe tbody tr th:only-of-type {\n",
       "        vertical-align: middle;\n",
       "    }\n",
       "\n",
       "    .dataframe tbody tr th {\n",
       "        vertical-align: top;\n",
       "    }\n",
       "\n",
       "    .dataframe thead tr th {\n",
       "        text-align: left;\n",
       "    }\n",
       "</style>\n",
       "<table border=\"1\" class=\"dataframe\">\n",
       "  <thead>\n",
       "    <tr>\n",
       "      <th></th>\n",
       "      <th colspan=\"2\" halign=\"left\">delhi</th>\n",
       "      <th colspan=\"2\" halign=\"left\">mumbai</th>\n",
       "    </tr>\n",
       "    <tr>\n",
       "      <th></th>\n",
       "      <th>avg_package</th>\n",
       "      <th>students</th>\n",
       "      <th>avg_package</th>\n",
       "      <th>students</th>\n",
       "    </tr>\n",
       "  </thead>\n",
       "  <tbody>\n",
       "    <tr>\n",
       "      <th>2019</th>\n",
       "      <td>1</td>\n",
       "      <td>2</td>\n",
       "      <td>10</td>\n",
       "      <td>2</td>\n",
       "    </tr>\n",
       "    <tr>\n",
       "      <th>2020</th>\n",
       "      <td>3</td>\n",
       "      <td>4</td>\n",
       "      <td>0</td>\n",
       "      <td>0</td>\n",
       "    </tr>\n",
       "    <tr>\n",
       "      <th>2021</th>\n",
       "      <td>5</td>\n",
       "      <td>6</td>\n",
       "      <td>10</td>\n",
       "      <td>1</td>\n",
       "    </tr>\n",
       "    <tr>\n",
       "      <th>2022</th>\n",
       "      <td>7</td>\n",
       "      <td>8</td>\n",
       "      <td>0</td>\n",
       "      <td>0</td>\n",
       "    </tr>\n",
       "  </tbody>\n",
       "</table>\n",
       "</div>"
      ],
      "text/plain": [
       "           delhi               mumbai         \n",
       "     avg_package students avg_package students\n",
       "2019           1        2          10        2\n",
       "2020           3        4           0        0\n",
       "2021           5        6          10        1\n",
       "2022           7        8           0        0"
      ]
     },
     "execution_count": 21,
     "metadata": {},
     "output_type": "execute_result"
    }
   ],
   "source": [
    "# multiindex df from columns perspective -> https://www.youtube.com/live/QzoRUwz8DoM?si=adFShaAS0Dqztlmn&t=2547\n",
    "branch_df2 = pd.DataFrame(\n",
    "    [\n",
    "        [1, 2, 10, 2],\n",
    "        [3, 4, 0, 0],\n",
    "        [5, 6, 10, 1],\n",
    "        [7, 8, 0, 0],\n",
    "    ],\n",
    "    index = [2019, 2020, 2021, 2022],\n",
    "    columns = pd.MultiIndex.from_product([['delhi', 'mumbai'], ['avg_package', 'students']])\n",
    ")\n",
    "\n",
    "branch_df2\n"
   ]
  },
  {
   "cell_type": "code",
   "execution_count": 22,
   "id": "b2abb0ff",
   "metadata": {},
   "outputs": [
    {
     "data": {
      "text/plain": [
       "2019    1\n",
       "2020    3\n",
       "2021    5\n",
       "2022    7\n",
       "Name: (delhi, avg_package), dtype: int64"
      ]
     },
     "execution_count": 22,
     "metadata": {},
     "output_type": "execute_result"
    }
   ],
   "source": [
    "branch_df2['delhi','avg_package'] "
   ]
  },
  {
   "cell_type": "code",
   "execution_count": 23,
   "id": "221fab8b",
   "metadata": {},
   "outputs": [
    {
     "data": {
      "text/plain": [
       "delhi   avg_package    7\n",
       "        students       8\n",
       "mumbai  avg_package    0\n",
       "        students       0\n",
       "Name: 2022, dtype: int64"
      ]
     },
     "execution_count": 23,
     "metadata": {},
     "output_type": "execute_result"
    }
   ],
   "source": [
    "branch_df2.loc[2022] # so we get multiIndex series"
   ]
  },
  {
   "cell_type": "code",
   "execution_count": 24,
   "id": "7d3b87f8",
   "metadata": {},
   "outputs": [
    {
     "data": {
      "text/plain": [
       "MultiIndex([( 'cse', 2019),\n",
       "            ('csed', 2020),\n",
       "            ('ecse', 2021),\n",
       "            ('csed', 2022),\n",
       "            ( 'cse', 2023),\n",
       "            ('rcse', 2024),\n",
       "            ('csed', 2025)],\n",
       "           )"
      ]
     },
     "execution_count": 24,
     "metadata": {},
     "output_type": "execute_result"
    }
   ],
   "source": [
    "multi_index1"
   ]
  },
  {
   "cell_type": "code",
   "execution_count": 25,
   "id": "cdd2378f",
   "metadata": {},
   "outputs": [
    {
     "data": {
      "application/vnd.microsoft.datawrangler.viewer.v0+json": {
       "columns": [
        {
         "name": "(None, None)",
         "rawType": "object",
         "type": "unknown"
        },
        {
         "name": "('delhi', 'avg_package')",
         "rawType": "int64",
         "type": "integer"
        },
        {
         "name": "('delhi', 'students')",
         "rawType": "int64",
         "type": "integer"
        },
        {
         "name": "('mumbai', 'avg_package')",
         "rawType": "int64",
         "type": "integer"
        },
        {
         "name": "('mumbai', 'students')",
         "rawType": "int64",
         "type": "integer"
        }
       ],
       "conversionMethod": "pd.DataFrame",
       "ref": "86098186-507f-4758-90d0-3a30f225ed0d",
       "rows": [
        [
         "('cse', np.int64(2019))",
         "1",
         "2",
         "10",
         "2"
        ],
        [
         "('csed', np.int64(2020))",
         "3",
         "4",
         "0",
         "0"
        ],
        [
         "('ecse', np.int64(2021))",
         "5",
         "6",
         "10",
         "1"
        ],
        [
         "('csed', np.int64(2022))",
         "7",
         "8",
         "0",
         "0"
        ],
        [
         "('cse', np.int64(2023))",
         "9",
         "10",
         "0",
         "0"
        ],
        [
         "('rcse', np.int64(2024))",
         "11",
         "12",
         "0",
         "0"
        ],
        [
         "('csed', np.int64(2025))",
         "13",
         "14",
         "0",
         "0"
        ]
       ],
       "shape": {
        "columns": 4,
        "rows": 7
       }
      },
      "text/html": [
       "<div>\n",
       "<style scoped>\n",
       "    .dataframe tbody tr th:only-of-type {\n",
       "        vertical-align: middle;\n",
       "    }\n",
       "\n",
       "    .dataframe tbody tr th {\n",
       "        vertical-align: top;\n",
       "    }\n",
       "\n",
       "    .dataframe thead tr th {\n",
       "        text-align: left;\n",
       "    }\n",
       "</style>\n",
       "<table border=\"1\" class=\"dataframe\">\n",
       "  <thead>\n",
       "    <tr>\n",
       "      <th></th>\n",
       "      <th></th>\n",
       "      <th colspan=\"2\" halign=\"left\">delhi</th>\n",
       "      <th colspan=\"2\" halign=\"left\">mumbai</th>\n",
       "    </tr>\n",
       "    <tr>\n",
       "      <th></th>\n",
       "      <th></th>\n",
       "      <th>avg_package</th>\n",
       "      <th>students</th>\n",
       "      <th>avg_package</th>\n",
       "      <th>students</th>\n",
       "    </tr>\n",
       "  </thead>\n",
       "  <tbody>\n",
       "    <tr>\n",
       "      <th>cse</th>\n",
       "      <th>2019</th>\n",
       "      <td>1</td>\n",
       "      <td>2</td>\n",
       "      <td>10</td>\n",
       "      <td>2</td>\n",
       "    </tr>\n",
       "    <tr>\n",
       "      <th>csed</th>\n",
       "      <th>2020</th>\n",
       "      <td>3</td>\n",
       "      <td>4</td>\n",
       "      <td>0</td>\n",
       "      <td>0</td>\n",
       "    </tr>\n",
       "    <tr>\n",
       "      <th>ecse</th>\n",
       "      <th>2021</th>\n",
       "      <td>5</td>\n",
       "      <td>6</td>\n",
       "      <td>10</td>\n",
       "      <td>1</td>\n",
       "    </tr>\n",
       "    <tr>\n",
       "      <th>csed</th>\n",
       "      <th>2022</th>\n",
       "      <td>7</td>\n",
       "      <td>8</td>\n",
       "      <td>0</td>\n",
       "      <td>0</td>\n",
       "    </tr>\n",
       "    <tr>\n",
       "      <th>cse</th>\n",
       "      <th>2023</th>\n",
       "      <td>9</td>\n",
       "      <td>10</td>\n",
       "      <td>0</td>\n",
       "      <td>0</td>\n",
       "    </tr>\n",
       "    <tr>\n",
       "      <th>rcse</th>\n",
       "      <th>2024</th>\n",
       "      <td>11</td>\n",
       "      <td>12</td>\n",
       "      <td>0</td>\n",
       "      <td>0</td>\n",
       "    </tr>\n",
       "    <tr>\n",
       "      <th>csed</th>\n",
       "      <th>2025</th>\n",
       "      <td>13</td>\n",
       "      <td>14</td>\n",
       "      <td>0</td>\n",
       "      <td>0</td>\n",
       "    </tr>\n",
       "  </tbody>\n",
       "</table>\n",
       "</div>"
      ],
      "text/plain": [
       "                delhi               mumbai         \n",
       "          avg_package students avg_package students\n",
       "cse  2019           1        2          10        2\n",
       "csed 2020           3        4           0        0\n",
       "ecse 2021           5        6          10        1\n",
       "csed 2022           7        8           0        0\n",
       "cse  2023           9       10           0        0\n",
       "rcse 2024          11       12           0        0\n",
       "csed 2025          13       14           0        0"
      ]
     },
     "execution_count": 25,
     "metadata": {},
     "output_type": "execute_result"
    }
   ],
   "source": [
    "# MultiIndex in terms of both rows and columns\n",
    "\n",
    "branch_df3 = pd.DataFrame(\n",
    "    data = [\n",
    "        [1, 2, 10, 2], # we give 8 rows because we have 8 rows in total (in `multi_index1`), and we give 4 columns because we have 4 columns in total \n",
    "        [3, 4, 0, 0],\n",
    "        [5, 6, 10, 1],\n",
    "        [7, 8, 0, 0],\n",
    "        [9, 10, 0, 0],\n",
    "        [11, 12, 0, 0],\n",
    "        [13, 14, 0, 0],\n",
    "    ],\n",
    "    index = multi_index1,\n",
    "    columns = pd.MultiIndex.from_product([['delhi', 'mumbai'], ['avg_package', 'students']])\n",
    ")\n",
    "branch_df3\n",
    "\n",
    "    "
   ]
  },
  {
   "cell_type": "code",
   "execution_count": 26,
   "id": "86026dd2",
   "metadata": {},
   "outputs": [
    {
     "data": {
      "text/plain": [
       "np.int64(1)"
      ]
     },
     "execution_count": 26,
     "metadata": {},
     "output_type": "execute_result"
    }
   ],
   "source": [
    "branch_df3['delhi']['avg_package']['cse'][2019] # so we can say its 4d data(because we 4 indexes to reach a single value) represented in lower dimension(2d) `dataframe` "
   ]
  },
  {
   "cell_type": "markdown",
   "id": "5280a539",
   "metadata": {},
   "source": [
    "## Stacking and unstacking in detail(dataframe methods)"
   ]
  },
  {
   "cell_type": "code",
   "execution_count": 27,
   "id": "0606aa6f",
   "metadata": {},
   "outputs": [
    {
     "data": {
      "application/vnd.microsoft.datawrangler.viewer.v0+json": {
       "columns": [
        {
         "name": "(None, None)",
         "rawType": "object",
         "type": "unknown"
        },
        {
         "name": "avg_package",
         "rawType": "int64",
         "type": "integer"
        },
        {
         "name": "students",
         "rawType": "int64",
         "type": "integer"
        }
       ],
       "conversionMethod": "pd.DataFrame",
       "ref": "19172d83-688b-48a2-94cc-279766a0e64d",
       "rows": [
        [
         "('cse', np.int64(2019))",
         "1",
         "2"
        ],
        [
         "('cse', np.int64(2020))",
         "3",
         "4"
        ],
        [
         "('cse', np.int64(2021))",
         "5",
         "6"
        ],
        [
         "('cse', np.int64(2022))",
         "7",
         "8"
        ],
        [
         "('ece', np.int64(2019))",
         "9",
         "10"
        ],
        [
         "('ece', np.int64(2020))",
         "11",
         "12"
        ],
        [
         "('ece', np.int64(2021))",
         "13",
         "14"
        ],
        [
         "('ece', np.int64(2022))",
         "15",
         "16"
        ]
       ],
       "shape": {
        "columns": 2,
        "rows": 8
       }
      },
      "text/html": [
       "<div>\n",
       "<style scoped>\n",
       "    .dataframe tbody tr th:only-of-type {\n",
       "        vertical-align: middle;\n",
       "    }\n",
       "\n",
       "    .dataframe tbody tr th {\n",
       "        vertical-align: top;\n",
       "    }\n",
       "\n",
       "    .dataframe thead th {\n",
       "        text-align: right;\n",
       "    }\n",
       "</style>\n",
       "<table border=\"1\" class=\"dataframe\">\n",
       "  <thead>\n",
       "    <tr style=\"text-align: right;\">\n",
       "      <th></th>\n",
       "      <th></th>\n",
       "      <th>avg_package</th>\n",
       "      <th>students</th>\n",
       "    </tr>\n",
       "  </thead>\n",
       "  <tbody>\n",
       "    <tr>\n",
       "      <th rowspan=\"4\" valign=\"top\">cse</th>\n",
       "      <th>2019</th>\n",
       "      <td>1</td>\n",
       "      <td>2</td>\n",
       "    </tr>\n",
       "    <tr>\n",
       "      <th>2020</th>\n",
       "      <td>3</td>\n",
       "      <td>4</td>\n",
       "    </tr>\n",
       "    <tr>\n",
       "      <th>2021</th>\n",
       "      <td>5</td>\n",
       "      <td>6</td>\n",
       "    </tr>\n",
       "    <tr>\n",
       "      <th>2022</th>\n",
       "      <td>7</td>\n",
       "      <td>8</td>\n",
       "    </tr>\n",
       "    <tr>\n",
       "      <th rowspan=\"4\" valign=\"top\">ece</th>\n",
       "      <th>2019</th>\n",
       "      <td>9</td>\n",
       "      <td>10</td>\n",
       "    </tr>\n",
       "    <tr>\n",
       "      <th>2020</th>\n",
       "      <td>11</td>\n",
       "      <td>12</td>\n",
       "    </tr>\n",
       "    <tr>\n",
       "      <th>2021</th>\n",
       "      <td>13</td>\n",
       "      <td>14</td>\n",
       "    </tr>\n",
       "    <tr>\n",
       "      <th>2022</th>\n",
       "      <td>15</td>\n",
       "      <td>16</td>\n",
       "    </tr>\n",
       "  </tbody>\n",
       "</table>\n",
       "</div>"
      ],
      "text/plain": [
       "          avg_package  students\n",
       "cse 2019            1         2\n",
       "    2020            3         4\n",
       "    2021            5         6\n",
       "    2022            7         8\n",
       "ece 2019            9        10\n",
       "    2020           11        12\n",
       "    2021           13        14\n",
       "    2022           15        16"
      ]
     },
     "execution_count": 27,
     "metadata": {},
     "output_type": "execute_result"
    }
   ],
   "source": [
    "\n",
    "branch_df4 = pd.DataFrame(\n",
    "        data = [\n",
    "        [1,2],\n",
    "        [3,4],\n",
    "        [5,6],\n",
    "        [7,8],\n",
    "        [9,10],\n",
    "        [11,12],\n",
    "        [13,14],\n",
    "        [15,16],\n",
    "        ],\n",
    "        index = pd.MultiIndex.from_product([['cse','ece'], [2019, 2020, 2021, 2022]]),\n",
    "        columns = ['avg_package', 'students']\n",
    "    )\n",
    "# -> \n",
    "branch_df4\n",
    "\n"
   ]
  },
  {
   "cell_type": "code",
   "execution_count": 28,
   "id": "2fc6dfe1",
   "metadata": {},
   "outputs": [
    {
     "data": {
      "application/vnd.microsoft.datawrangler.viewer.v0+json": {
       "columns": [
        {
         "name": "index",
         "rawType": "object",
         "type": "string"
        },
        {
         "name": "('avg_package', 2019)",
         "rawType": "int64",
         "type": "integer"
        },
        {
         "name": "('avg_package', 2020)",
         "rawType": "int64",
         "type": "integer"
        },
        {
         "name": "('avg_package', 2021)",
         "rawType": "int64",
         "type": "integer"
        },
        {
         "name": "('avg_package', 2022)",
         "rawType": "int64",
         "type": "integer"
        },
        {
         "name": "('students', 2019)",
         "rawType": "int64",
         "type": "integer"
        },
        {
         "name": "('students', 2020)",
         "rawType": "int64",
         "type": "integer"
        },
        {
         "name": "('students', 2021)",
         "rawType": "int64",
         "type": "integer"
        },
        {
         "name": "('students', 2022)",
         "rawType": "int64",
         "type": "integer"
        }
       ],
       "conversionMethod": "pd.DataFrame",
       "ref": "0319e136-7388-4646-bbcf-12c9095a5918",
       "rows": [
        [
         "cse",
         "1",
         "3",
         "5",
         "7",
         "2",
         "4",
         "6",
         "8"
        ],
        [
         "ece",
         "9",
         "11",
         "13",
         "15",
         "10",
         "12",
         "14",
         "16"
        ]
       ],
       "shape": {
        "columns": 8,
        "rows": 2
       }
      },
      "text/html": [
       "<div>\n",
       "<style scoped>\n",
       "    .dataframe tbody tr th:only-of-type {\n",
       "        vertical-align: middle;\n",
       "    }\n",
       "\n",
       "    .dataframe tbody tr th {\n",
       "        vertical-align: top;\n",
       "    }\n",
       "\n",
       "    .dataframe thead tr th {\n",
       "        text-align: left;\n",
       "    }\n",
       "</style>\n",
       "<table border=\"1\" class=\"dataframe\">\n",
       "  <thead>\n",
       "    <tr>\n",
       "      <th></th>\n",
       "      <th colspan=\"4\" halign=\"left\">avg_package</th>\n",
       "      <th colspan=\"4\" halign=\"left\">students</th>\n",
       "    </tr>\n",
       "    <tr>\n",
       "      <th></th>\n",
       "      <th>2019</th>\n",
       "      <th>2020</th>\n",
       "      <th>2021</th>\n",
       "      <th>2022</th>\n",
       "      <th>2019</th>\n",
       "      <th>2020</th>\n",
       "      <th>2021</th>\n",
       "      <th>2022</th>\n",
       "    </tr>\n",
       "  </thead>\n",
       "  <tbody>\n",
       "    <tr>\n",
       "      <th>cse</th>\n",
       "      <td>1</td>\n",
       "      <td>3</td>\n",
       "      <td>5</td>\n",
       "      <td>7</td>\n",
       "      <td>2</td>\n",
       "      <td>4</td>\n",
       "      <td>6</td>\n",
       "      <td>8</td>\n",
       "    </tr>\n",
       "    <tr>\n",
       "      <th>ece</th>\n",
       "      <td>9</td>\n",
       "      <td>11</td>\n",
       "      <td>13</td>\n",
       "      <td>15</td>\n",
       "      <td>10</td>\n",
       "      <td>12</td>\n",
       "      <td>14</td>\n",
       "      <td>16</td>\n",
       "    </tr>\n",
       "  </tbody>\n",
       "</table>\n",
       "</div>"
      ],
      "text/plain": [
       "    avg_package                students               \n",
       "           2019 2020 2021 2022     2019 2020 2021 2022\n",
       "cse           1    3    5    7        2    4    6    8\n",
       "ece           9   11   13   15       10   12   14   16"
      ]
     },
     "execution_count": 28,
     "metadata": {},
     "output_type": "execute_result"
    }
   ],
   "source": [
    "# explaanation of what happens on unstack() call on branch_df4 -> https://www.youtube.com/live/QzoRUwz8DoM?si=-ZuQRphEo_AlkBme&t=3027\n",
    "\n",
    "branch_df4.unstack()"
   ]
  },
  {
   "cell_type": "code",
   "execution_count": 29,
   "id": "ab97c75a",
   "metadata": {},
   "outputs": [
    {
     "data": {
      "text/plain": [
       "avg_package  2019  cse     1\n",
       "                   ece     9\n",
       "             2020  cse     3\n",
       "                   ece    11\n",
       "             2021  cse     5\n",
       "                   ece    13\n",
       "             2022  cse     7\n",
       "                   ece    15\n",
       "students     2019  cse     2\n",
       "                   ece    10\n",
       "             2020  cse     4\n",
       "                   ece    12\n",
       "             2021  cse     6\n",
       "                   ece    14\n",
       "             2022  cse     8\n",
       "                   ece    16\n",
       "dtype: int64"
      ]
     },
     "execution_count": 29,
     "metadata": {},
     "output_type": "execute_result"
    }
   ],
   "source": [
    "# Exaplanation of what happens when unstack calls 2 times on branch_df4 - https://www.youtube.com/live/QzoRUwz8DoM?si=jYpMl2Hd-_nsyF89&t=3227\n",
    "branch_df4.unstack().unstack()\n",
    "# from this what we observe is, that `unstack` keeps convert index(last index first) into columns(nested inside previous columns)"
   ]
  },
  {
   "cell_type": "code",
   "execution_count": 30,
   "id": "3fbd7807",
   "metadata": {},
   "outputs": [
    {
     "data": {
      "application/vnd.microsoft.datawrangler.viewer.v0+json": {
       "columns": [
        {
         "name": "(None, None)",
         "rawType": "object",
         "type": "unknown"
        },
        {
         "name": "avg_package",
         "rawType": "int64",
         "type": "integer"
        },
        {
         "name": "students",
         "rawType": "int64",
         "type": "integer"
        }
       ],
       "conversionMethod": "pd.DataFrame",
       "ref": "f4903eb4-3c0a-450f-ab6f-5a44458e6f3c",
       "rows": [
        [
         "('cse', np.int64(2019))",
         "1",
         "2"
        ],
        [
         "('cse', np.int64(2020))",
         "3",
         "4"
        ],
        [
         "('cse', np.int64(2021))",
         "5",
         "6"
        ],
        [
         "('cse', np.int64(2022))",
         "7",
         "8"
        ],
        [
         "('ece', np.int64(2019))",
         "9",
         "10"
        ],
        [
         "('ece', np.int64(2020))",
         "11",
         "12"
        ],
        [
         "('ece', np.int64(2021))",
         "13",
         "14"
        ],
        [
         "('ece', np.int64(2022))",
         "15",
         "16"
        ]
       ],
       "shape": {
        "columns": 2,
        "rows": 8
       }
      },
      "text/html": [
       "<div>\n",
       "<style scoped>\n",
       "    .dataframe tbody tr th:only-of-type {\n",
       "        vertical-align: middle;\n",
       "    }\n",
       "\n",
       "    .dataframe tbody tr th {\n",
       "        vertical-align: top;\n",
       "    }\n",
       "\n",
       "    .dataframe thead th {\n",
       "        text-align: right;\n",
       "    }\n",
       "</style>\n",
       "<table border=\"1\" class=\"dataframe\">\n",
       "  <thead>\n",
       "    <tr style=\"text-align: right;\">\n",
       "      <th></th>\n",
       "      <th></th>\n",
       "      <th>avg_package</th>\n",
       "      <th>students</th>\n",
       "    </tr>\n",
       "  </thead>\n",
       "  <tbody>\n",
       "    <tr>\n",
       "      <th rowspan=\"4\" valign=\"top\">cse</th>\n",
       "      <th>2019</th>\n",
       "      <td>1</td>\n",
       "      <td>2</td>\n",
       "    </tr>\n",
       "    <tr>\n",
       "      <th>2020</th>\n",
       "      <td>3</td>\n",
       "      <td>4</td>\n",
       "    </tr>\n",
       "    <tr>\n",
       "      <th>2021</th>\n",
       "      <td>5</td>\n",
       "      <td>6</td>\n",
       "    </tr>\n",
       "    <tr>\n",
       "      <th>2022</th>\n",
       "      <td>7</td>\n",
       "      <td>8</td>\n",
       "    </tr>\n",
       "    <tr>\n",
       "      <th rowspan=\"4\" valign=\"top\">ece</th>\n",
       "      <th>2019</th>\n",
       "      <td>9</td>\n",
       "      <td>10</td>\n",
       "    </tr>\n",
       "    <tr>\n",
       "      <th>2020</th>\n",
       "      <td>11</td>\n",
       "      <td>12</td>\n",
       "    </tr>\n",
       "    <tr>\n",
       "      <th>2021</th>\n",
       "      <td>13</td>\n",
       "      <td>14</td>\n",
       "    </tr>\n",
       "    <tr>\n",
       "      <th>2022</th>\n",
       "      <td>15</td>\n",
       "      <td>16</td>\n",
       "    </tr>\n",
       "  </tbody>\n",
       "</table>\n",
       "</div>"
      ],
      "text/plain": [
       "          avg_package  students\n",
       "cse 2019            1         2\n",
       "    2020            3         4\n",
       "    2021            5         6\n",
       "    2022            7         8\n",
       "ece 2019            9        10\n",
       "    2020           11        12\n",
       "    2021           13        14\n",
       "    2022           15        16"
      ]
     },
     "execution_count": 30,
     "metadata": {},
     "output_type": "execute_result"
    }
   ],
   "source": [
    "branch_df4"
   ]
  },
  {
   "cell_type": "code",
   "execution_count": 31,
   "id": "f65ef237",
   "metadata": {},
   "outputs": [
    {
     "data": {
      "text/plain": [
       "cse  2019  avg_package     1\n",
       "           students        2\n",
       "     2020  avg_package     3\n",
       "           students        4\n",
       "     2021  avg_package     5\n",
       "           students        6\n",
       "     2022  avg_package     7\n",
       "           students        8\n",
       "ece  2019  avg_package     9\n",
       "           students       10\n",
       "     2020  avg_package    11\n",
       "           students       12\n",
       "     2021  avg_package    13\n",
       "           students       14\n",
       "     2022  avg_package    15\n",
       "           students       16\n",
       "dtype: int64"
      ]
     },
     "execution_count": 31,
     "metadata": {},
     "output_type": "execute_result"
    }
   ],
   "source": [
    "# now we will do opposite, means `stack` -> https://www.youtube.com/live/QzoRUwz8DoM?si=K2Fo8VB-be616Mjg&t=3417\n",
    "# so stack converts columns into indexes, and it will keep converting columns into indexes(last column first) until all columns are converted into indexes\n",
    "branch_df4.stack()\n"
   ]
  },
  {
   "cell_type": "code",
   "execution_count": 32,
   "id": "2afbc1a3",
   "metadata": {},
   "outputs": [
    {
     "data": {
      "text/plain": [
       "' And one thing more we observe is that if all the columns or rows are converting into indexes or columns respectively, \\nthen it will convert into a series, automatically '"
      ]
     },
     "execution_count": 32,
     "metadata": {},
     "output_type": "execute_result"
    }
   ],
   "source": [
    "\"\"\" And one thing more we observe is that if all the columns or rows are converting into indexes or columns respectively, \n",
    "then it will convert into a series, automatically \"\"\""
   ]
  },
  {
   "cell_type": "code",
   "execution_count": 33,
   "id": "d2ead01c",
   "metadata": {},
   "outputs": [
    {
     "data": {
      "text/plain": [
       "' 2. And then we deciding(using `stack` and `unstack` methods)  how much row(we can say index too) will handle, \\nand how much column will handle  '"
      ]
     },
     "execution_count": 33,
     "metadata": {},
     "output_type": "execute_result"
    }
   ],
   "source": [
    "# so what we done till now in this section, is that :\n",
    "# 1. First we represent higher dimension data in lower dimension using dataframe(2d)\n",
    "\"\"\" 2. And then we deciding(using `stack` and `unstack` methods)  how much row(we can say index too) will handle, \n",
    "and how much column will handle  \"\"\""
   ]
  },
  {
   "cell_type": "markdown",
   "id": "c0014788",
   "metadata": {},
   "source": [
    "## Wroking with multi-index dataframes\n",
    "- [See this video to learn the topics realted to this section](https://www.youtube.com/live/QzoRUwz8DoM?si=gzsSAlxxWBmmIm9k&t=4137)"
   ]
  },
  {
   "cell_type": "code",
   "execution_count": 35,
   "id": "47d4dc27",
   "metadata": {},
   "outputs": [
    {
     "data": {
      "application/vnd.microsoft.datawrangler.viewer.v0+json": {
       "columns": [
        {
         "name": "(None, None)",
         "rawType": "object",
         "type": "unknown"
        },
        {
         "name": "('delhi', 'avg_package')",
         "rawType": "int64",
         "type": "integer"
        },
        {
         "name": "('delhi', 'students')",
         "rawType": "int64",
         "type": "integer"
        },
        {
         "name": "('mumbai', 'avg_package')",
         "rawType": "int64",
         "type": "integer"
        },
        {
         "name": "('mumbai', 'students')",
         "rawType": "int64",
         "type": "integer"
        }
       ],
       "conversionMethod": "pd.DataFrame",
       "ref": "8da632ee-8015-40cd-8d8c-915002422a20",
       "rows": [
        [
         "('cse', np.int64(2019))",
         "1",
         "2",
         "0",
         "0"
        ],
        [
         "('cse', np.int64(2020))",
         "3",
         "4",
         "0",
         "0"
        ],
        [
         "('cse', np.int64(2021))",
         "5",
         "6",
         "0",
         "0"
        ],
        [
         "('cse', np.int64(2022))",
         "7",
         "8",
         "0",
         "0"
        ],
        [
         "('ece', np.int64(2019))",
         "9",
         "10",
         "0",
         "0"
        ],
        [
         "('ece', np.int64(2020))",
         "11",
         "12",
         "0",
         "0"
        ],
        [
         "('ece', np.int64(2021))",
         "13",
         "14",
         "0",
         "0"
        ],
        [
         "('ece', np.int64(2022))",
         "15",
         "16",
         "0",
         "0"
        ]
       ],
       "shape": {
        "columns": 4,
        "rows": 8
       }
      },
      "text/html": [
       "<div>\n",
       "<style scoped>\n",
       "    .dataframe tbody tr th:only-of-type {\n",
       "        vertical-align: middle;\n",
       "    }\n",
       "\n",
       "    .dataframe tbody tr th {\n",
       "        vertical-align: top;\n",
       "    }\n",
       "\n",
       "    .dataframe thead tr th {\n",
       "        text-align: left;\n",
       "    }\n",
       "</style>\n",
       "<table border=\"1\" class=\"dataframe\">\n",
       "  <thead>\n",
       "    <tr>\n",
       "      <th></th>\n",
       "      <th></th>\n",
       "      <th colspan=\"2\" halign=\"left\">delhi</th>\n",
       "      <th colspan=\"2\" halign=\"left\">mumbai</th>\n",
       "    </tr>\n",
       "    <tr>\n",
       "      <th></th>\n",
       "      <th></th>\n",
       "      <th>avg_package</th>\n",
       "      <th>students</th>\n",
       "      <th>avg_package</th>\n",
       "      <th>students</th>\n",
       "    </tr>\n",
       "  </thead>\n",
       "  <tbody>\n",
       "    <tr>\n",
       "      <th rowspan=\"4\" valign=\"top\">cse</th>\n",
       "      <th>2019</th>\n",
       "      <td>1</td>\n",
       "      <td>2</td>\n",
       "      <td>0</td>\n",
       "      <td>0</td>\n",
       "    </tr>\n",
       "    <tr>\n",
       "      <th>2020</th>\n",
       "      <td>3</td>\n",
       "      <td>4</td>\n",
       "      <td>0</td>\n",
       "      <td>0</td>\n",
       "    </tr>\n",
       "    <tr>\n",
       "      <th>2021</th>\n",
       "      <td>5</td>\n",
       "      <td>6</td>\n",
       "      <td>0</td>\n",
       "      <td>0</td>\n",
       "    </tr>\n",
       "    <tr>\n",
       "      <th>2022</th>\n",
       "      <td>7</td>\n",
       "      <td>8</td>\n",
       "      <td>0</td>\n",
       "      <td>0</td>\n",
       "    </tr>\n",
       "    <tr>\n",
       "      <th rowspan=\"4\" valign=\"top\">ece</th>\n",
       "      <th>2019</th>\n",
       "      <td>9</td>\n",
       "      <td>10</td>\n",
       "      <td>0</td>\n",
       "      <td>0</td>\n",
       "    </tr>\n",
       "    <tr>\n",
       "      <th>2020</th>\n",
       "      <td>11</td>\n",
       "      <td>12</td>\n",
       "      <td>0</td>\n",
       "      <td>0</td>\n",
       "    </tr>\n",
       "    <tr>\n",
       "      <th>2021</th>\n",
       "      <td>13</td>\n",
       "      <td>14</td>\n",
       "      <td>0</td>\n",
       "      <td>0</td>\n",
       "    </tr>\n",
       "    <tr>\n",
       "      <th>2022</th>\n",
       "      <td>15</td>\n",
       "      <td>16</td>\n",
       "      <td>0</td>\n",
       "      <td>0</td>\n",
       "    </tr>\n",
       "  </tbody>\n",
       "</table>\n",
       "</div>"
      ],
      "text/plain": [
       "               delhi               mumbai         \n",
       "         avg_package students avg_package students\n",
       "cse 2019           1        2           0        0\n",
       "    2020           3        4           0        0\n",
       "    2021           5        6           0        0\n",
       "    2022           7        8           0        0\n",
       "ece 2019           9       10           0        0\n",
       "    2020          11       12           0        0\n",
       "    2021          13       14           0        0\n",
       "    2022          15       16           0        0"
      ]
     },
     "execution_count": 35,
     "metadata": {},
     "output_type": "execute_result"
    }
   ],
   "source": [
    "\n",
    "# first we will make 4d dataframe\n",
    "branch_df5 = pd.DataFrame(\n",
    "    data=[\n",
    "        [1,2,0,0],\n",
    "        [3,4,0,0],\n",
    "        [5,6,0,0],\n",
    "        [7,8,0,0],\n",
    "        [9,10,0,0],\n",
    "        [11,12,0,0],\n",
    "        [13,14,0,0],\n",
    "        [15,16,0,0],\n",
    "    ],\n",
    "    index = pd.MultiIndex.from_product([['cse','ece'], [2019, 2020, 2021, 2022]]),\n",
    "    columns = pd.MultiIndex.from_product([['delhi','mumbai'], ['avg_package', 'students']])\n",
    ")\n",
    "branch_df5"
   ]
  },
  {
   "cell_type": "code",
   "execution_count": null,
   "id": "9d79bcb8",
   "metadata": {},
   "outputs": [
    {
     "data": {
      "application/vnd.microsoft.datawrangler.viewer.v0+json": {
       "columns": [
        {
         "name": "(None, None)",
         "rawType": "object",
         "type": "unknown"
        },
        {
         "name": "('delhi', 'avg_package')",
         "rawType": "int64",
         "type": "integer"
        },
        {
         "name": "('delhi', 'students')",
         "rawType": "int64",
         "type": "integer"
        },
        {
         "name": "('mumbai', 'avg_package')",
         "rawType": "int64",
         "type": "integer"
        },
        {
         "name": "('mumbai', 'students')",
         "rawType": "int64",
         "type": "integer"
        }
       ],
       "conversionMethod": "pd.DataFrame",
       "ref": "54d1de3a-e570-4bbf-8045-ba32284f8f98",
       "rows": [
        [
         "('cse', np.int64(2019))",
         "1",
         "2",
         "0",
         "0"
        ],
        [
         "('cse', np.int64(2020))",
         "3",
         "4",
         "0",
         "0"
        ],
        [
         "('cse', np.int64(2021))",
         "5",
         "6",
         "0",
         "0"
        ],
        [
         "('cse', np.int64(2022))",
         "7",
         "8",
         "0",
         "0"
        ],
        [
         "('ece', np.int64(2019))",
         "9",
         "10",
         "0",
         "0"
        ]
       ],
       "shape": {
        "columns": 4,
        "rows": 5
       }
      },
      "text/html": [
       "<div>\n",
       "<style scoped>\n",
       "    .dataframe tbody tr th:only-of-type {\n",
       "        vertical-align: middle;\n",
       "    }\n",
       "\n",
       "    .dataframe tbody tr th {\n",
       "        vertical-align: top;\n",
       "    }\n",
       "\n",
       "    .dataframe thead tr th {\n",
       "        text-align: left;\n",
       "    }\n",
       "</style>\n",
       "<table border=\"1\" class=\"dataframe\">\n",
       "  <thead>\n",
       "    <tr>\n",
       "      <th></th>\n",
       "      <th></th>\n",
       "      <th colspan=\"2\" halign=\"left\">delhi</th>\n",
       "      <th colspan=\"2\" halign=\"left\">mumbai</th>\n",
       "    </tr>\n",
       "    <tr>\n",
       "      <th></th>\n",
       "      <th></th>\n",
       "      <th>avg_package</th>\n",
       "      <th>students</th>\n",
       "      <th>avg_package</th>\n",
       "      <th>students</th>\n",
       "    </tr>\n",
       "  </thead>\n",
       "  <tbody>\n",
       "    <tr>\n",
       "      <th rowspan=\"4\" valign=\"top\">cse</th>\n",
       "      <th>2019</th>\n",
       "      <td>1</td>\n",
       "      <td>2</td>\n",
       "      <td>0</td>\n",
       "      <td>0</td>\n",
       "    </tr>\n",
       "    <tr>\n",
       "      <th>2020</th>\n",
       "      <td>3</td>\n",
       "      <td>4</td>\n",
       "      <td>0</td>\n",
       "      <td>0</td>\n",
       "    </tr>\n",
       "    <tr>\n",
       "      <th>2021</th>\n",
       "      <td>5</td>\n",
       "      <td>6</td>\n",
       "      <td>0</td>\n",
       "      <td>0</td>\n",
       "    </tr>\n",
       "    <tr>\n",
       "      <th>2022</th>\n",
       "      <td>7</td>\n",
       "      <td>8</td>\n",
       "      <td>0</td>\n",
       "      <td>0</td>\n",
       "    </tr>\n",
       "    <tr>\n",
       "      <th>ece</th>\n",
       "      <th>2019</th>\n",
       "      <td>9</td>\n",
       "      <td>10</td>\n",
       "      <td>0</td>\n",
       "      <td>0</td>\n",
       "    </tr>\n",
       "  </tbody>\n",
       "</table>\n",
       "</div>"
      ],
      "text/plain": [
       "               delhi               mumbai         \n",
       "         avg_package students avg_package students\n",
       "cse 2019           1        2           0        0\n",
       "    2020           3        4           0        0\n",
       "    2021           5        6           0        0\n",
       "    2022           7        8           0        0\n",
       "ece 2019           9       10           0        0"
      ]
     },
     "execution_count": 37,
     "metadata": {},
     "output_type": "execute_result"
    }
   ],
   "source": [
    "# head and tail -> https://www.youtube.com/live/QzoRUwz8DoM?si=PoBJPrbyw4JkLU20&t=4097\n",
    "branch_df5.head(5) # so it will give first 5 rows, btw 5 inside head an tail is by default"
   ]
  },
  {
   "cell_type": "code",
   "execution_count": null,
   "id": "e7306863",
   "metadata": {},
   "outputs": [
    {
     "data": {
      "text/plain": [
       "(8, 4)"
      ]
     },
     "execution_count": 38,
     "metadata": {},
     "output_type": "execute_result"
    }
   ],
   "source": [
    "# shape -> https://www.youtube.com/live/QzoRUwz8DoM?si=Z5wzEvpiSGrFFZor&t=4117\n",
    "branch_df5.shape # remember we said that we convert higher dimension data into lower dimension, here in 8 rows and 4 columns,\n",
    "\"\"\" so we have 32 values in total, so shape will be (8,4) but if we see the shape of `branch_df5` it is (8,4) but it has 32 values in total,\n",
    "so we can say that it is a 4d data represented in dataframe\n",
    "\"\"\""
   ]
  },
  {
   "cell_type": "code",
   "execution_count": null,
   "id": "57a803f8",
   "metadata": {},
   "outputs": [
    {
     "name": "stdout",
     "output_type": "stream",
     "text": [
      "<class 'pandas.core.frame.DataFrame'>\n",
      "MultiIndex: 8 entries, ('cse', np.int64(2019)) to ('ece', np.int64(2022))\n",
      "Data columns (total 4 columns):\n",
      " #   Column                 Non-Null Count  Dtype\n",
      "---  ------                 --------------  -----\n",
      " 0   (delhi, avg_package)   8 non-null      int64\n",
      " 1   (delhi, students)      8 non-null      int64\n",
      " 2   (mumbai, avg_package)  8 non-null      int64\n",
      " 3   (mumbai, students)     8 non-null      int64\n",
      "dtypes: int64(4)\n",
      "memory usage: 632.0+ bytes\n"
     ]
    }
   ],
   "source": [
    "# info() -> https://www.youtube.com/live/QzoRUwz8DoM?si=Qs8EU_i5-8Gr6DJ1&t=4137\n",
    "branch_df5.info() "
   ]
  },
  {
   "cell_type": "code",
   "execution_count": null,
   "id": "b3c8256b",
   "metadata": {},
   "outputs": [
    {
     "data": {
      "text/plain": [
       "cse  2019    False\n",
       "     2020    False\n",
       "     2021    False\n",
       "     2022    False\n",
       "ece  2019    False\n",
       "     2020    False\n",
       "     2021    False\n",
       "     2022    False\n",
       "dtype: bool"
      ]
     },
     "execution_count": 46,
     "metadata": {},
     "output_type": "execute_result"
    }
   ],
   "source": [
    "# duplication check -> https://www.youtube.com/live/QzoRUwz8DoM?si=BBPWzrdn4SVTqPZy&t=4197\n",
    "branch_df5.duplicated() # so it will give the boolean values of each row, if it is duplicated or not"
   ]
  },
  {
   "cell_type": "code",
   "execution_count": null,
   "id": "55be0ca3",
   "metadata": {},
   "outputs": [
    {
     "data": {
      "application/vnd.microsoft.datawrangler.viewer.v0+json": {
       "columns": [
        {
         "name": "(None, None)",
         "rawType": "object",
         "type": "unknown"
        },
        {
         "name": "('delhi', 'avg_package')",
         "rawType": "bool",
         "type": "boolean"
        },
        {
         "name": "('delhi', 'students')",
         "rawType": "bool",
         "type": "boolean"
        },
        {
         "name": "('mumbai', 'avg_package')",
         "rawType": "bool",
         "type": "boolean"
        },
        {
         "name": "('mumbai', 'students')",
         "rawType": "bool",
         "type": "boolean"
        }
       ],
       "conversionMethod": "pd.DataFrame",
       "ref": "75e47371-09c9-4ea8-9647-0dad2f6a004d",
       "rows": [
        [
         "('cse', np.int64(2019))",
         "False",
         "False",
         "False",
         "False"
        ],
        [
         "('cse', np.int64(2020))",
         "False",
         "False",
         "False",
         "False"
        ],
        [
         "('cse', np.int64(2021))",
         "False",
         "False",
         "False",
         "False"
        ],
        [
         "('cse', np.int64(2022))",
         "False",
         "False",
         "False",
         "False"
        ],
        [
         "('ece', np.int64(2019))",
         "False",
         "False",
         "False",
         "False"
        ],
        [
         "('ece', np.int64(2020))",
         "False",
         "False",
         "False",
         "False"
        ],
        [
         "('ece', np.int64(2021))",
         "False",
         "False",
         "False",
         "False"
        ],
        [
         "('ece', np.int64(2022))",
         "False",
         "False",
         "False",
         "False"
        ]
       ],
       "shape": {
        "columns": 4,
        "rows": 8
       }
      },
      "text/html": [
       "<div>\n",
       "<style scoped>\n",
       "    .dataframe tbody tr th:only-of-type {\n",
       "        vertical-align: middle;\n",
       "    }\n",
       "\n",
       "    .dataframe tbody tr th {\n",
       "        vertical-align: top;\n",
       "    }\n",
       "\n",
       "    .dataframe thead tr th {\n",
       "        text-align: left;\n",
       "    }\n",
       "</style>\n",
       "<table border=\"1\" class=\"dataframe\">\n",
       "  <thead>\n",
       "    <tr>\n",
       "      <th></th>\n",
       "      <th></th>\n",
       "      <th colspan=\"2\" halign=\"left\">delhi</th>\n",
       "      <th colspan=\"2\" halign=\"left\">mumbai</th>\n",
       "    </tr>\n",
       "    <tr>\n",
       "      <th></th>\n",
       "      <th></th>\n",
       "      <th>avg_package</th>\n",
       "      <th>students</th>\n",
       "      <th>avg_package</th>\n",
       "      <th>students</th>\n",
       "    </tr>\n",
       "  </thead>\n",
       "  <tbody>\n",
       "    <tr>\n",
       "      <th rowspan=\"4\" valign=\"top\">cse</th>\n",
       "      <th>2019</th>\n",
       "      <td>False</td>\n",
       "      <td>False</td>\n",
       "      <td>False</td>\n",
       "      <td>False</td>\n",
       "    </tr>\n",
       "    <tr>\n",
       "      <th>2020</th>\n",
       "      <td>False</td>\n",
       "      <td>False</td>\n",
       "      <td>False</td>\n",
       "      <td>False</td>\n",
       "    </tr>\n",
       "    <tr>\n",
       "      <th>2021</th>\n",
       "      <td>False</td>\n",
       "      <td>False</td>\n",
       "      <td>False</td>\n",
       "      <td>False</td>\n",
       "    </tr>\n",
       "    <tr>\n",
       "      <th>2022</th>\n",
       "      <td>False</td>\n",
       "      <td>False</td>\n",
       "      <td>False</td>\n",
       "      <td>False</td>\n",
       "    </tr>\n",
       "    <tr>\n",
       "      <th rowspan=\"4\" valign=\"top\">ece</th>\n",
       "      <th>2019</th>\n",
       "      <td>False</td>\n",
       "      <td>False</td>\n",
       "      <td>False</td>\n",
       "      <td>False</td>\n",
       "    </tr>\n",
       "    <tr>\n",
       "      <th>2020</th>\n",
       "      <td>False</td>\n",
       "      <td>False</td>\n",
       "      <td>False</td>\n",
       "      <td>False</td>\n",
       "    </tr>\n",
       "    <tr>\n",
       "      <th>2021</th>\n",
       "      <td>False</td>\n",
       "      <td>False</td>\n",
       "      <td>False</td>\n",
       "      <td>False</td>\n",
       "    </tr>\n",
       "    <tr>\n",
       "      <th>2022</th>\n",
       "      <td>False</td>\n",
       "      <td>False</td>\n",
       "      <td>False</td>\n",
       "      <td>False</td>\n",
       "    </tr>\n",
       "  </tbody>\n",
       "</table>\n",
       "</div>"
      ],
      "text/plain": [
       "               delhi               mumbai         \n",
       "         avg_package students avg_package students\n",
       "cse 2019       False    False       False    False\n",
       "    2020       False    False       False    False\n",
       "    2021       False    False       False    False\n",
       "    2022       False    False       False    False\n",
       "ece 2019       False    False       False    False\n",
       "    2020       False    False       False    False\n",
       "    2021       False    False       False    False\n",
       "    2022       False    False       False    False"
      ]
     },
     "execution_count": 47,
     "metadata": {},
     "output_type": "execute_result"
    }
   ],
   "source": [
    "# isnull() -> https://www.youtube.com/live/QzoRUwz8DoM?si=NPi9ks0oVDcSf3kH&t=4207\n",
    "branch_df5.isnull() # so it will give the boolean values of each row and column, if it is null or not"
   ]
  },
  {
   "cell_type": "code",
   "execution_count": null,
   "id": "0c73a8f4",
   "metadata": {},
   "outputs": [
    {
     "data": {
      "text/plain": [
       "np.int64(8)"
      ]
     },
     "execution_count": 57,
     "metadata": {},
     "output_type": "execute_result"
    }
   ],
   "source": [
    "# extracting rows single -> https://www.youtube.com/live/QzoRUwz8DoM?si=0IcDdhBX63VtCZTn&t=4267\n",
    "branch_df5.loc['cse'].loc[2022] # or pass in tuple\n",
    "branch_df5.loc[('cse',2022)] # so it same as what we do in above line"
   ]
  },
  {
   "cell_type": "code",
   "execution_count": 59,
   "id": "94cdba46",
   "metadata": {},
   "outputs": [
    {
     "data": {
      "application/vnd.microsoft.datawrangler.viewer.v0+json": {
       "columns": [
        {
         "name": "(None, None)",
         "rawType": "object",
         "type": "unknown"
        },
        {
         "name": "('delhi', 'avg_package')",
         "rawType": "int64",
         "type": "integer"
        },
        {
         "name": "('delhi', 'students')",
         "rawType": "int64",
         "type": "integer"
        },
        {
         "name": "('mumbai', 'avg_package')",
         "rawType": "int64",
         "type": "integer"
        },
        {
         "name": "('mumbai', 'students')",
         "rawType": "int64",
         "type": "integer"
        }
       ],
       "conversionMethod": "pd.DataFrame",
       "ref": "d1b1e587-9585-449c-ac66-145d4148c4f0",
       "rows": [
        [
         "('cse', np.int64(2019))",
         "1",
         "2",
         "0",
         "0"
        ],
        [
         "('cse', np.int64(2020))",
         "3",
         "4",
         "0",
         "0"
        ],
        [
         "('cse', np.int64(2021))",
         "5",
         "6",
         "0",
         "0"
        ],
        [
         "('cse', np.int64(2022))",
         "7",
         "8",
         "0",
         "0"
        ],
        [
         "('ece', np.int64(2019))",
         "9",
         "10",
         "0",
         "0"
        ],
        [
         "('ece', np.int64(2020))",
         "11",
         "12",
         "0",
         "0"
        ],
        [
         "('ece', np.int64(2021))",
         "13",
         "14",
         "0",
         "0"
        ],
        [
         "('ece', np.int64(2022))",
         "15",
         "16",
         "0",
         "0"
        ]
       ],
       "shape": {
        "columns": 4,
        "rows": 8
       }
      },
      "text/html": [
       "<div>\n",
       "<style scoped>\n",
       "    .dataframe tbody tr th:only-of-type {\n",
       "        vertical-align: middle;\n",
       "    }\n",
       "\n",
       "    .dataframe tbody tr th {\n",
       "        vertical-align: top;\n",
       "    }\n",
       "\n",
       "    .dataframe thead tr th {\n",
       "        text-align: left;\n",
       "    }\n",
       "</style>\n",
       "<table border=\"1\" class=\"dataframe\">\n",
       "  <thead>\n",
       "    <tr>\n",
       "      <th></th>\n",
       "      <th></th>\n",
       "      <th colspan=\"2\" halign=\"left\">delhi</th>\n",
       "      <th colspan=\"2\" halign=\"left\">mumbai</th>\n",
       "    </tr>\n",
       "    <tr>\n",
       "      <th></th>\n",
       "      <th></th>\n",
       "      <th>avg_package</th>\n",
       "      <th>students</th>\n",
       "      <th>avg_package</th>\n",
       "      <th>students</th>\n",
       "    </tr>\n",
       "  </thead>\n",
       "  <tbody>\n",
       "    <tr>\n",
       "      <th rowspan=\"4\" valign=\"top\">cse</th>\n",
       "      <th>2019</th>\n",
       "      <td>1</td>\n",
       "      <td>2</td>\n",
       "      <td>0</td>\n",
       "      <td>0</td>\n",
       "    </tr>\n",
       "    <tr>\n",
       "      <th>2020</th>\n",
       "      <td>3</td>\n",
       "      <td>4</td>\n",
       "      <td>0</td>\n",
       "      <td>0</td>\n",
       "    </tr>\n",
       "    <tr>\n",
       "      <th>2021</th>\n",
       "      <td>5</td>\n",
       "      <td>6</td>\n",
       "      <td>0</td>\n",
       "      <td>0</td>\n",
       "    </tr>\n",
       "    <tr>\n",
       "      <th>2022</th>\n",
       "      <td>7</td>\n",
       "      <td>8</td>\n",
       "      <td>0</td>\n",
       "      <td>0</td>\n",
       "    </tr>\n",
       "    <tr>\n",
       "      <th rowspan=\"4\" valign=\"top\">ece</th>\n",
       "      <th>2019</th>\n",
       "      <td>9</td>\n",
       "      <td>10</td>\n",
       "      <td>0</td>\n",
       "      <td>0</td>\n",
       "    </tr>\n",
       "    <tr>\n",
       "      <th>2020</th>\n",
       "      <td>11</td>\n",
       "      <td>12</td>\n",
       "      <td>0</td>\n",
       "      <td>0</td>\n",
       "    </tr>\n",
       "    <tr>\n",
       "      <th>2021</th>\n",
       "      <td>13</td>\n",
       "      <td>14</td>\n",
       "      <td>0</td>\n",
       "      <td>0</td>\n",
       "    </tr>\n",
       "    <tr>\n",
       "      <th>2022</th>\n",
       "      <td>15</td>\n",
       "      <td>16</td>\n",
       "      <td>0</td>\n",
       "      <td>0</td>\n",
       "    </tr>\n",
       "  </tbody>\n",
       "</table>\n",
       "</div>"
      ],
      "text/plain": [
       "               delhi               mumbai         \n",
       "         avg_package students avg_package students\n",
       "cse 2019           1        2           0        0\n",
       "    2020           3        4           0        0\n",
       "    2021           5        6           0        0\n",
       "    2022           7        8           0        0\n",
       "ece 2019           9       10           0        0\n",
       "    2020          11       12           0        0\n",
       "    2021          13       14           0        0\n",
       "    2022          15       16           0        0"
      ]
     },
     "execution_count": 59,
     "metadata": {},
     "output_type": "execute_result"
    }
   ],
   "source": [
    "branch_df5"
   ]
  },
  {
   "cell_type": "code",
   "execution_count": null,
   "id": "0f912b05",
   "metadata": {},
   "outputs": [
    {
     "data": {
      "text/plain": [
       "np.int64(15)"
      ]
     },
     "execution_count": 61,
     "metadata": {},
     "output_type": "execute_result"
    }
   ],
   "source": [
    "# let;s go more specific, we wanna find average package of ece of delhi , in 2022\n",
    "# se we go from less specific to more specific and specific\n",
    "branch_df5.loc[('ece',2022),('delhi','avg_package')]"
   ]
  },
  {
   "cell_type": "code",
   "execution_count": null,
   "id": "cf06da97",
   "metadata": {},
   "outputs": [
    {
     "data": {
      "application/vnd.microsoft.datawrangler.viewer.v0+json": {
       "columns": [
        {
         "name": "(None, None)",
         "rawType": "object",
         "type": "unknown"
        },
        {
         "name": "('delhi', 'avg_package')",
         "rawType": "int64",
         "type": "integer"
        },
        {
         "name": "('delhi', 'students')",
         "rawType": "int64",
         "type": "integer"
        },
        {
         "name": "('mumbai', 'avg_package')",
         "rawType": "int64",
         "type": "integer"
        },
        {
         "name": "('mumbai', 'students')",
         "rawType": "int64",
         "type": "integer"
        }
       ],
       "conversionMethod": "pd.DataFrame",
       "ref": "a6a53938-0c44-4a6e-a2c5-e562fd362bea",
       "rows": [
        [
         "('cse', np.int64(2019))",
         "1",
         "2",
         "0",
         "0"
        ],
        [
         "('cse', np.int64(2021))",
         "5",
         "6",
         "0",
         "0"
        ],
        [
         "('ece', np.int64(2019))",
         "9",
         "10",
         "0",
         "0"
        ]
       ],
       "shape": {
        "columns": 4,
        "rows": 3
       }
      },
      "text/html": [
       "<div>\n",
       "<style scoped>\n",
       "    .dataframe tbody tr th:only-of-type {\n",
       "        vertical-align: middle;\n",
       "    }\n",
       "\n",
       "    .dataframe tbody tr th {\n",
       "        vertical-align: top;\n",
       "    }\n",
       "\n",
       "    .dataframe thead tr th {\n",
       "        text-align: left;\n",
       "    }\n",
       "</style>\n",
       "<table border=\"1\" class=\"dataframe\">\n",
       "  <thead>\n",
       "    <tr>\n",
       "      <th></th>\n",
       "      <th></th>\n",
       "      <th colspan=\"2\" halign=\"left\">delhi</th>\n",
       "      <th colspan=\"2\" halign=\"left\">mumbai</th>\n",
       "    </tr>\n",
       "    <tr>\n",
       "      <th></th>\n",
       "      <th></th>\n",
       "      <th>avg_package</th>\n",
       "      <th>students</th>\n",
       "      <th>avg_package</th>\n",
       "      <th>students</th>\n",
       "    </tr>\n",
       "  </thead>\n",
       "  <tbody>\n",
       "    <tr>\n",
       "      <th rowspan=\"2\" valign=\"top\">cse</th>\n",
       "      <th>2019</th>\n",
       "      <td>1</td>\n",
       "      <td>2</td>\n",
       "      <td>0</td>\n",
       "      <td>0</td>\n",
       "    </tr>\n",
       "    <tr>\n",
       "      <th>2021</th>\n",
       "      <td>5</td>\n",
       "      <td>6</td>\n",
       "      <td>0</td>\n",
       "      <td>0</td>\n",
       "    </tr>\n",
       "    <tr>\n",
       "      <th>ece</th>\n",
       "      <th>2019</th>\n",
       "      <td>9</td>\n",
       "      <td>10</td>\n",
       "      <td>0</td>\n",
       "      <td>0</td>\n",
       "    </tr>\n",
       "  </tbody>\n",
       "</table>\n",
       "</div>"
      ],
      "text/plain": [
       "               delhi               mumbai         \n",
       "         avg_package students avg_package students\n",
       "cse 2019           1        2           0        0\n",
       "    2021           5        6           0        0\n",
       "ece 2019           9       10           0        0"
      ]
     },
     "execution_count": 63,
     "metadata": {},
     "output_type": "execute_result"
    }
   ],
   "source": [
    "# multiple\n",
    "branch_df5.iloc[:5:2]\n",
    "# you can do same with loc -> https://www.youtube.com/live/QzoRUwz8DoM?si=An5qUFCtEsCDQOWb&t=4407"
   ]
  },
  {
   "cell_type": "code",
   "execution_count": null,
   "id": "aca81c16",
   "metadata": {},
   "outputs": [
    {
     "data": {
      "application/vnd.microsoft.datawrangler.viewer.v0+json": {
       "columns": [
        {
         "name": "(None, None)",
         "rawType": "object",
         "type": "unknown"
        },
        {
         "name": "('delhi', 'avg_package')",
         "rawType": "int64",
         "type": "integer"
        },
        {
         "name": "('delhi', 'students')",
         "rawType": "int64",
         "type": "integer"
        },
        {
         "name": "('mumbai', 'avg_package')",
         "rawType": "int64",
         "type": "integer"
        },
        {
         "name": "('mumbai', 'students')",
         "rawType": "int64",
         "type": "integer"
        }
       ],
       "conversionMethod": "pd.DataFrame",
       "ref": "8ff97983-76b0-4663-b81e-b2c958f2c512",
       "rows": [
        [
         "('cse', np.int64(2019))",
         "1",
         "2",
         "0",
         "0"
        ],
        [
         "('cse', np.int64(2021))",
         "5",
         "6",
         "0",
         "0"
        ],
        [
         "('ece', np.int64(2019))",
         "9",
         "10",
         "0",
         "0"
        ]
       ],
       "shape": {
        "columns": 4,
        "rows": 3
       }
      },
      "text/html": [
       "<div>\n",
       "<style scoped>\n",
       "    .dataframe tbody tr th:only-of-type {\n",
       "        vertical-align: middle;\n",
       "    }\n",
       "\n",
       "    .dataframe tbody tr th {\n",
       "        vertical-align: top;\n",
       "    }\n",
       "\n",
       "    .dataframe thead tr th {\n",
       "        text-align: left;\n",
       "    }\n",
       "</style>\n",
       "<table border=\"1\" class=\"dataframe\">\n",
       "  <thead>\n",
       "    <tr>\n",
       "      <th></th>\n",
       "      <th></th>\n",
       "      <th colspan=\"2\" halign=\"left\">delhi</th>\n",
       "      <th colspan=\"2\" halign=\"left\">mumbai</th>\n",
       "    </tr>\n",
       "    <tr>\n",
       "      <th></th>\n",
       "      <th></th>\n",
       "      <th>avg_package</th>\n",
       "      <th>students</th>\n",
       "      <th>avg_package</th>\n",
       "      <th>students</th>\n",
       "    </tr>\n",
       "  </thead>\n",
       "  <tbody>\n",
       "    <tr>\n",
       "      <th rowspan=\"2\" valign=\"top\">cse</th>\n",
       "      <th>2019</th>\n",
       "      <td>1</td>\n",
       "      <td>2</td>\n",
       "      <td>0</td>\n",
       "      <td>0</td>\n",
       "    </tr>\n",
       "    <tr>\n",
       "      <th>2021</th>\n",
       "      <td>5</td>\n",
       "      <td>6</td>\n",
       "      <td>0</td>\n",
       "      <td>0</td>\n",
       "    </tr>\n",
       "    <tr>\n",
       "      <th>ece</th>\n",
       "      <th>2019</th>\n",
       "      <td>9</td>\n",
       "      <td>10</td>\n",
       "      <td>0</td>\n",
       "      <td>0</td>\n",
       "    </tr>\n",
       "  </tbody>\n",
       "</table>\n",
       "</div>"
      ],
      "text/plain": [
       "               delhi               mumbai         \n",
       "         avg_package students avg_package students\n",
       "cse 2019           1        2           0        0\n",
       "    2021           5        6           0        0\n",
       "ece 2019           9       10           0        0"
      ]
     },
     "execution_count": 65,
     "metadata": {},
     "output_type": "execute_result"
    }
   ],
   "source": [
    "branch_df5.loc[('cse',2019): ('ece',2019):2]\n",
    " # But Note: unlike `iloc` indexing, `loc` indexing is inclusive, so it will include the last index too"
   ]
  },
  {
   "cell_type": "code",
   "execution_count": null,
   "id": "2910400c",
   "metadata": {},
   "outputs": [
    {
     "data": {
      "application/vnd.microsoft.datawrangler.viewer.v0+json": {
       "columns": [
        {
         "name": "(None, None)",
         "rawType": "object",
         "type": "unknown"
        },
        {
         "name": "avg_package",
         "rawType": "int64",
         "type": "integer"
        },
        {
         "name": "students",
         "rawType": "int64",
         "type": "integer"
        }
       ],
       "conversionMethod": "pd.DataFrame",
       "ref": "7d3a8fc7-f9c8-4988-8d4d-9838434b609e",
       "rows": [
        [
         "('cse', np.int64(2019))",
         "1",
         "2"
        ],
        [
         "('cse', np.int64(2020))",
         "3",
         "4"
        ],
        [
         "('cse', np.int64(2021))",
         "5",
         "6"
        ],
        [
         "('cse', np.int64(2022))",
         "7",
         "8"
        ],
        [
         "('ece', np.int64(2019))",
         "9",
         "10"
        ],
        [
         "('ece', np.int64(2020))",
         "11",
         "12"
        ],
        [
         "('ece', np.int64(2021))",
         "13",
         "14"
        ],
        [
         "('ece', np.int64(2022))",
         "15",
         "16"
        ]
       ],
       "shape": {
        "columns": 2,
        "rows": 8
       }
      },
      "text/html": [
       "<div>\n",
       "<style scoped>\n",
       "    .dataframe tbody tr th:only-of-type {\n",
       "        vertical-align: middle;\n",
       "    }\n",
       "\n",
       "    .dataframe tbody tr th {\n",
       "        vertical-align: top;\n",
       "    }\n",
       "\n",
       "    .dataframe thead th {\n",
       "        text-align: right;\n",
       "    }\n",
       "</style>\n",
       "<table border=\"1\" class=\"dataframe\">\n",
       "  <thead>\n",
       "    <tr style=\"text-align: right;\">\n",
       "      <th></th>\n",
       "      <th></th>\n",
       "      <th>avg_package</th>\n",
       "      <th>students</th>\n",
       "    </tr>\n",
       "  </thead>\n",
       "  <tbody>\n",
       "    <tr>\n",
       "      <th rowspan=\"4\" valign=\"top\">cse</th>\n",
       "      <th>2019</th>\n",
       "      <td>1</td>\n",
       "      <td>2</td>\n",
       "    </tr>\n",
       "    <tr>\n",
       "      <th>2020</th>\n",
       "      <td>3</td>\n",
       "      <td>4</td>\n",
       "    </tr>\n",
       "    <tr>\n",
       "      <th>2021</th>\n",
       "      <td>5</td>\n",
       "      <td>6</td>\n",
       "    </tr>\n",
       "    <tr>\n",
       "      <th>2022</th>\n",
       "      <td>7</td>\n",
       "      <td>8</td>\n",
       "    </tr>\n",
       "    <tr>\n",
       "      <th rowspan=\"4\" valign=\"top\">ece</th>\n",
       "      <th>2019</th>\n",
       "      <td>9</td>\n",
       "      <td>10</td>\n",
       "    </tr>\n",
       "    <tr>\n",
       "      <th>2020</th>\n",
       "      <td>11</td>\n",
       "      <td>12</td>\n",
       "    </tr>\n",
       "    <tr>\n",
       "      <th>2021</th>\n",
       "      <td>13</td>\n",
       "      <td>14</td>\n",
       "    </tr>\n",
       "    <tr>\n",
       "      <th>2022</th>\n",
       "      <td>15</td>\n",
       "      <td>16</td>\n",
       "    </tr>\n",
       "  </tbody>\n",
       "</table>\n",
       "</div>"
      ],
      "text/plain": [
       "          avg_package  students\n",
       "cse 2019            1         2\n",
       "    2020            3         4\n",
       "    2021            5         6\n",
       "    2022            7         8\n",
       "ece 2019            9        10\n",
       "    2020           11        12\n",
       "    2021           13        14\n",
       "    2022           15        16"
      ]
     },
     "execution_count": 67,
     "metadata": {},
     "output_type": "execute_result"
    }
   ],
   "source": [
    "# Extracting cols\n",
    "# extract only `delhi` column\n",
    "branch_df5['delhi']"
   ]
  },
  {
   "cell_type": "code",
   "execution_count": 83,
   "id": "d55acdfe",
   "metadata": {},
   "outputs": [
    {
     "data": {
      "application/vnd.microsoft.datawrangler.viewer.v0+json": {
       "columns": [
        {
         "name": "(None, None)",
         "rawType": "object",
         "type": "unknown"
        },
        {
         "name": "('delhi', 'students')",
         "rawType": "int64",
         "type": "integer"
        },
        {
         "name": "('mumbai', 'avg_package')",
         "rawType": "int64",
         "type": "integer"
        }
       ],
       "conversionMethod": "pd.DataFrame",
       "ref": "b96b97dc-9b8b-4664-9440-8b31077ef7e8",
       "rows": [
        [
         "('cse', np.int64(2019))",
         "2",
         "0"
        ],
        [
         "('cse', np.int64(2020))",
         "4",
         "0"
        ],
        [
         "('cse', np.int64(2021))",
         "6",
         "0"
        ],
        [
         "('cse', np.int64(2022))",
         "8",
         "0"
        ],
        [
         "('ece', np.int64(2019))",
         "10",
         "0"
        ],
        [
         "('ece', np.int64(2020))",
         "12",
         "0"
        ],
        [
         "('ece', np.int64(2021))",
         "14",
         "0"
        ],
        [
         "('ece', np.int64(2022))",
         "16",
         "0"
        ]
       ],
       "shape": {
        "columns": 2,
        "rows": 8
       }
      },
      "text/html": [
       "<div>\n",
       "<style scoped>\n",
       "    .dataframe tbody tr th:only-of-type {\n",
       "        vertical-align: middle;\n",
       "    }\n",
       "\n",
       "    .dataframe tbody tr th {\n",
       "        vertical-align: top;\n",
       "    }\n",
       "\n",
       "    .dataframe thead tr th {\n",
       "        text-align: left;\n",
       "    }\n",
       "</style>\n",
       "<table border=\"1\" class=\"dataframe\">\n",
       "  <thead>\n",
       "    <tr>\n",
       "      <th></th>\n",
       "      <th></th>\n",
       "      <th>delhi</th>\n",
       "      <th>mumbai</th>\n",
       "    </tr>\n",
       "    <tr>\n",
       "      <th></th>\n",
       "      <th></th>\n",
       "      <th>students</th>\n",
       "      <th>avg_package</th>\n",
       "    </tr>\n",
       "  </thead>\n",
       "  <tbody>\n",
       "    <tr>\n",
       "      <th rowspan=\"4\" valign=\"top\">cse</th>\n",
       "      <th>2019</th>\n",
       "      <td>2</td>\n",
       "      <td>0</td>\n",
       "    </tr>\n",
       "    <tr>\n",
       "      <th>2020</th>\n",
       "      <td>4</td>\n",
       "      <td>0</td>\n",
       "    </tr>\n",
       "    <tr>\n",
       "      <th>2021</th>\n",
       "      <td>6</td>\n",
       "      <td>0</td>\n",
       "    </tr>\n",
       "    <tr>\n",
       "      <th>2022</th>\n",
       "      <td>8</td>\n",
       "      <td>0</td>\n",
       "    </tr>\n",
       "    <tr>\n",
       "      <th rowspan=\"4\" valign=\"top\">ece</th>\n",
       "      <th>2019</th>\n",
       "      <td>10</td>\n",
       "      <td>0</td>\n",
       "    </tr>\n",
       "    <tr>\n",
       "      <th>2020</th>\n",
       "      <td>12</td>\n",
       "      <td>0</td>\n",
       "    </tr>\n",
       "    <tr>\n",
       "      <th>2021</th>\n",
       "      <td>14</td>\n",
       "      <td>0</td>\n",
       "    </tr>\n",
       "    <tr>\n",
       "      <th>2022</th>\n",
       "      <td>16</td>\n",
       "      <td>0</td>\n",
       "    </tr>\n",
       "  </tbody>\n",
       "</table>\n",
       "</div>"
      ],
      "text/plain": [
       "            delhi      mumbai\n",
       "         students avg_package\n",
       "cse 2019        2           0\n",
       "    2020        4           0\n",
       "    2021        6           0\n",
       "    2022        8           0\n",
       "ece 2019       10           0\n",
       "    2020       12           0\n",
       "    2021       14           0\n",
       "    2022       16           0"
      ]
     },
     "execution_count": 83,
     "metadata": {},
     "output_type": "execute_result"
    }
   ],
   "source": [
    "branch_df5.iloc[:,1:3] "
   ]
  },
  {
   "cell_type": "code",
   "execution_count": null,
   "id": "a24f04ea",
   "metadata": {},
   "outputs": [
    {
     "data": {
      "application/vnd.microsoft.datawrangler.viewer.v0+json": {
       "columns": [
        {
         "name": "(None, None)",
         "rawType": "object",
         "type": "unknown"
        },
        {
         "name": "('delhi', 'students')",
         "rawType": "int64",
         "type": "integer"
        },
        {
         "name": "('mumbai', 'avg_package')",
         "rawType": "int64",
         "type": "integer"
        }
       ],
       "conversionMethod": "pd.DataFrame",
       "ref": "f9986717-6d08-4d1d-9f42-81e89e8b1cf2",
       "rows": [
        [
         "('cse', np.int64(2019))",
         "2",
         "0"
        ],
        [
         "('ece', np.int64(2019))",
         "10",
         "0"
        ]
       ],
       "shape": {
        "columns": 2,
        "rows": 2
       }
      },
      "text/html": [
       "<div>\n",
       "<style scoped>\n",
       "    .dataframe tbody tr th:only-of-type {\n",
       "        vertical-align: middle;\n",
       "    }\n",
       "\n",
       "    .dataframe tbody tr th {\n",
       "        vertical-align: top;\n",
       "    }\n",
       "\n",
       "    .dataframe thead tr th {\n",
       "        text-align: left;\n",
       "    }\n",
       "</style>\n",
       "<table border=\"1\" class=\"dataframe\">\n",
       "  <thead>\n",
       "    <tr>\n",
       "      <th></th>\n",
       "      <th></th>\n",
       "      <th>delhi</th>\n",
       "      <th>mumbai</th>\n",
       "    </tr>\n",
       "    <tr>\n",
       "      <th></th>\n",
       "      <th></th>\n",
       "      <th>students</th>\n",
       "      <th>avg_package</th>\n",
       "    </tr>\n",
       "  </thead>\n",
       "  <tbody>\n",
       "    <tr>\n",
       "      <th>cse</th>\n",
       "      <th>2019</th>\n",
       "      <td>2</td>\n",
       "      <td>0</td>\n",
       "    </tr>\n",
       "    <tr>\n",
       "      <th>ece</th>\n",
       "      <th>2019</th>\n",
       "      <td>10</td>\n",
       "      <td>0</td>\n",
       "    </tr>\n",
       "  </tbody>\n",
       "</table>\n",
       "</div>"
      ],
      "text/plain": [
       "            delhi      mumbai\n",
       "         students avg_package\n",
       "cse 2019        2           0\n",
       "ece 2019       10           0"
      ]
     },
     "execution_count": 85,
     "metadata": {},
     "output_type": "execute_result"
    }
   ],
   "source": [
    "# let's do indexing in both rows and columns\n",
    "branch_df5.iloc[:5:4,1:3] # with fancy indexing `branch_df5.iloc[[0,4],[1,2]]`"
   ]
  },
  {
   "cell_type": "code",
   "execution_count": null,
   "id": "c4703b50",
   "metadata": {},
   "outputs": [],
   "source": [
    "# sort index"
   ]
  }
 ],
 "metadata": {
  "kernelspec": {
   "display_name": "Python 3",
   "language": "python",
   "name": "python3"
  },
  "language_info": {
   "codemirror_mode": {
    "name": "ipython",
    "version": 3
   },
   "file_extension": ".py",
   "mimetype": "text/x-python",
   "name": "python",
   "nbconvert_exporter": "python",
   "pygments_lexer": "ipython3",
   "version": "3.13.2"
  }
 },
 "nbformat": 4,
 "nbformat_minor": 5
}
