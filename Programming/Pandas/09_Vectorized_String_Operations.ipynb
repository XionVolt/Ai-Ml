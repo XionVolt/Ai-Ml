{
 "cells": [
  {
   "cell_type": "code",
   "execution_count": 2,
   "id": "1f38aff9",
   "metadata": {},
   "outputs": [],
   "source": [
    "import numpy as np\n",
    "import pandas as pd\n"
   ]
  },
  {
   "cell_type": "markdown",
   "id": "cca5743b",
   "metadata": {},
   "source": [
    "[Understand, Vectorisized String Operations](https://www.youtube.com/live/UE6DmRQJ2w8?si=jQFDNcaxKDOHAXua&t=2287)"
   ]
  },
  {
   "cell_type": "code",
   "execution_count": 3,
   "id": "c3cb95e7",
   "metadata": {},
   "outputs": [],
   "source": [
    "# What are vectorized operations\n",
    "# -> https://www.youtube.com/live/UE6DmRQJ2w8?si=OawqaZvgIB_a7U8-&t=2297\n",
    "\n",
    "# problem in vectorized operations in vanilla python \n",
    "# -> https://www.youtube.com/live/UE6DmRQJ2w8?si=llU-usLFsxBikGE1&t=2397"
   ]
  },
  {
   "cell_type": "code",
   "execution_count": null,
   "id": "b579a25e",
   "metadata": {},
   "outputs": [
    {
     "data": {
      "text/plain": [
       "0     True\n",
       "1    False\n",
       "2    False\n",
       "3     True\n",
       "dtype: bool"
      ]
     },
     "execution_count": 4,
     "metadata": {},
     "output_type": "execute_result"
    }
   ],
   "source": [
    "# How pandas solve that isssue? -> https://www.youtube.com/live/UE6DmRQJ2w8?si=gpPR9x1WsSMHD2CO&t=2577\n",
    "# let's say we want all series values that start with c\n",
    "\n",
    "# `.str` is called to be `string accessor` in pandas, and its used for vectorized string operations\n",
    "pd.Series(data=['cat','rat','neck','cern']).str.startswith('c')"
   ]
  },
  {
   "cell_type": "code",
   "execution_count": 5,
   "id": "08a57f40",
   "metadata": {},
   "outputs": [
    {
     "data": {
      "text/plain": [
       "0     cat\n",
       "3    cern\n",
       "dtype: object"
      ]
     },
     "execution_count": 5,
     "metadata": {},
     "output_type": "execute_result"
    }
   ],
   "source": [
    "pd.Series(data=['cat','rat','neck','cern'])[pd.Series(data=['cat','rat','neck','cern']).str.startswith('c')]\n"
   ]
  },
  {
   "cell_type": "code",
   "execution_count": 6,
   "id": "7d5e0f6d",
   "metadata": {},
   "outputs": [],
   "source": [
    "# Common functions\n",
    "# lower/upper/capitalize/title\n",
    "# len\n",
    "# strip\n",
    "# All explained here -> https://www.youtube.com/live/UE6DmRQJ2w8?si=8miCRj-j_A498ypu&t=2797"
   ]
  },
  {
   "cell_type": "code",
   "execution_count": null,
   "id": "b50bfe58",
   "metadata": {},
   "outputs": [
    {
     "data": {
      "text/plain": [
       "0     CAT\n",
       "1     RAT\n",
       "2    NECK\n",
       "3    CERN\n",
       "dtype: object"
      ]
     },
     "execution_count": 7,
     "metadata": {},
     "output_type": "execute_result"
    }
   ],
   "source": [
    "pd.Series(data=['cat','rat','neck','cern']).str.upper()\n",
    "pd.Series(data=['cat','rat','neck','cern']).str.upper()"
   ]
  },
  {
   "cell_type": "code",
   "execution_count": 9,
   "id": "bff099ce",
   "metadata": {},
   "outputs": [
    {
     "data": {
      "text/plain": [
       "0     Cat\n",
       "1     Rat\n",
       "2    Neck\n",
       "3    Cern\n",
       "dtype: object"
      ]
     },
     "execution_count": 9,
     "metadata": {},
     "output_type": "execute_result"
    }
   ],
   "source": [
    "pd.Series(data=['cat','rat','neck','cern']).str.capitalize()"
   ]
  },
  {
   "cell_type": "code",
   "execution_count": null,
   "id": "4b6845f0",
   "metadata": {},
   "outputs": [
    {
     "data": {
      "text/plain": [
       "0    3\n",
       "1    3\n",
       "2    4\n",
       "3    4\n",
       "dtype: int64"
      ]
     },
     "execution_count": 11,
     "metadata": {},
     "output_type": "execute_result"
    }
   ],
   "source": [
    "pd.Series(data=['cat','rat','neck','cern']).str.len()"
   ]
  },
  {
   "cell_type": "code",
   "execution_count": 12,
   "id": "364a4b5b",
   "metadata": {},
   "outputs": [
    {
     "data": {
      "text/plain": [
       "0     cat\n",
       "1     rat\n",
       "2    neck\n",
       "3    cern\n",
       "dtype: object"
      ]
     },
     "execution_count": 12,
     "metadata": {},
     "output_type": "execute_result"
    }
   ],
   "source": [
    "# strip\n",
    "pd.Series(data=['cat','rat','\\nneck\\n','\\ncern']).str.strip()"
   ]
  },
  {
   "cell_type": "code",
   "execution_count": null,
   "id": "8d97d8f5",
   "metadata": {},
   "outputs": [],
   "source": [
    "\n",
    "# split -> https://www.youtube.com/live/UE6DmRQJ2w8?si=kdwjPJe17OlbHy7A&t=3077\n",
    "# get method, btw (.str[0]) also possible  -> https://www.youtube.com/live/UE6DmRQJ2w8?si=JwVtTNxbHuRIleHh&t=3187\n",
    "\n",
    "# Note in string accessor, in split method, the param `maxsplit` have name `n`, \n",
    "\n",
    "\"\"\"\n",
    "`expand` parma of split method -> https://www.youtube.com/live/UE6DmRQJ2w8?si=VVJsv0BC-60TImh1&t=3507\n",
    "basically it make each column for each item in a list\n",
    "\"\"\""
   ]
  },
  {
   "cell_type": "code",
   "execution_count": null,
   "id": "1a19aefd",
   "metadata": {},
   "outputs": [
    {
     "data": {
      "text/plain": [
       "0     cat\n",
       "1     rat\n",
       "2    neck\n",
       "3    cern\n",
       "dtype: object"
      ]
     },
     "execution_count": 20,
     "metadata": {},
     "output_type": "execute_result"
    }
   ],
   "source": [
    "# replace method of str -> https://www.youtube.com/live/UE6DmRQJ2w8?si=4FWuDU5-BjTtZwJC&t=3647\n",
    "\n",
    "# Example: \n",
    "pd.Series(data=['cat','rat','\\nneck\\n','\\ncern']).str.replace('\\n' ,'')\n",
    "\n"
   ]
  },
  {
   "cell_type": "markdown",
   "id": "6a932dbf",
   "metadata": {},
   "source": [
    "# filtering on string with `str` accessor"
   ]
  },
  {
   "cell_type": "code",
   "execution_count": null,
   "id": "f3811621",
   "metadata": {},
   "outputs": [],
   "source": [
    "# See this video to understand filtering ->  https://www.youtube.com/live/UE6DmRQJ2w8?si=so0G7J_tzCDQ3tTY&t=3787\n"
   ]
  },
  {
   "cell_type": "code",
   "execution_count": null,
   "id": "84628b3b",
   "metadata": {},
   "outputs": [],
   "source": [
    "# advance level filtering"
   ]
  }
 ],
 "metadata": {
  "kernelspec": {
   "display_name": "Python 3",
   "language": "python",
   "name": "python3"
  },
  "language_info": {
   "codemirror_mode": {
    "name": "ipython",
    "version": 3
   },
   "file_extension": ".py",
   "mimetype": "text/x-python",
   "name": "python",
   "nbconvert_exporter": "python",
   "pygments_lexer": "ipython3",
   "version": "3.13.2"
  }
 },
 "nbformat": 4,
 "nbformat_minor": 5
}
