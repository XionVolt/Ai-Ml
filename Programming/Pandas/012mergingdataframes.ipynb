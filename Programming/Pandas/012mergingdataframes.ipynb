{
 "cells": [
  {
   "cell_type": "code",
   "execution_count": 73,
   "id": "8ed0d7ee",
   "metadata": {},
   "outputs": [],
   "source": [
    "import numpy as np\n",
    "import pandas as pd"
   ]
  },
  {
   "cell_type": "markdown",
   "id": "70beef3c",
   "metadata": {},
   "source": [
    "# [Here's a full tutorial with examples on merging dataframes](https://youtu.be/TPivN7tpdwc?si=tnusr9AHvqk80lMD)"
   ]
  },
  {
   "cell_type": "code",
   "execution_count": 74,
   "id": "342fd750",
   "metadata": {},
   "outputs": [
    {
     "data": {
      "application/vnd.microsoft.datawrangler.viewer.v0+json": {
       "columns": [
        {
         "name": "index",
         "rawType": "int64",
         "type": "integer"
        },
        {
         "name": "FellowshipID",
         "rawType": "int64",
         "type": "integer"
        },
        {
         "name": "FirstName",
         "rawType": "object",
         "type": "string"
        },
        {
         "name": "Skills",
         "rawType": "object",
         "type": "string"
        }
       ],
       "conversionMethod": "pd.DataFrame",
       "ref": "d894f547-6c4b-43b3-ab09-7a785d7a8f46",
       "rows": [
        [
         "0",
         "1001",
         "Frodo",
         "Hiding"
        ],
        [
         "1",
         "1002",
         "Samwise",
         "Gardening"
        ],
        [
         "2",
         "1003",
         "Gandalf",
         "Spells"
        ],
        [
         "3",
         "1004",
         "Pippin",
         "Fireworks"
        ]
       ],
       "shape": {
        "columns": 3,
        "rows": 4
       }
      },
      "text/html": [
       "<div>\n",
       "<style scoped>\n",
       "    .dataframe tbody tr th:only-of-type {\n",
       "        vertical-align: middle;\n",
       "    }\n",
       "\n",
       "    .dataframe tbody tr th {\n",
       "        vertical-align: top;\n",
       "    }\n",
       "\n",
       "    .dataframe thead th {\n",
       "        text-align: right;\n",
       "    }\n",
       "</style>\n",
       "<table border=\"1\" class=\"dataframe\">\n",
       "  <thead>\n",
       "    <tr style=\"text-align: right;\">\n",
       "      <th></th>\n",
       "      <th>FellowshipID</th>\n",
       "      <th>FirstName</th>\n",
       "      <th>Skills</th>\n",
       "    </tr>\n",
       "  </thead>\n",
       "  <tbody>\n",
       "    <tr>\n",
       "      <th>0</th>\n",
       "      <td>1001</td>\n",
       "      <td>Frodo</td>\n",
       "      <td>Hiding</td>\n",
       "    </tr>\n",
       "    <tr>\n",
       "      <th>1</th>\n",
       "      <td>1002</td>\n",
       "      <td>Samwise</td>\n",
       "      <td>Gardening</td>\n",
       "    </tr>\n",
       "    <tr>\n",
       "      <th>2</th>\n",
       "      <td>1003</td>\n",
       "      <td>Gandalf</td>\n",
       "      <td>Spells</td>\n",
       "    </tr>\n",
       "    <tr>\n",
       "      <th>3</th>\n",
       "      <td>1004</td>\n",
       "      <td>Pippin</td>\n",
       "      <td>Fireworks</td>\n",
       "    </tr>\n",
       "  </tbody>\n",
       "</table>\n",
       "</div>"
      ],
      "text/plain": [
       "   FellowshipID FirstName     Skills\n",
       "0          1001     Frodo     Hiding\n",
       "1          1002   Samwise  Gardening\n",
       "2          1003   Gandalf     Spells\n",
       "3          1004    Pippin  Fireworks"
      ]
     },
     "execution_count": 74,
     "metadata": {},
     "output_type": "execute_result"
    }
   ],
   "source": [
    "df1 = pd.DataFrame({\n",
    "    'FellowshipID': [1001, 1002, 1003, 1004],\n",
    "    'FirstName': ['Frodo', 'Samwise', 'Gandalf', 'Pippin'],\n",
    "    'Skills': ['Hiding', 'Gardening', 'Spells', 'Fireworks']\n",
    "})\n",
    "df1"
   ]
  },
  {
   "cell_type": "code",
   "execution_count": 75,
   "id": "6919bf3a",
   "metadata": {},
   "outputs": [
    {
     "data": {
      "application/vnd.microsoft.datawrangler.viewer.v0+json": {
       "columns": [
        {
         "name": "index",
         "rawType": "int64",
         "type": "integer"
        },
        {
         "name": "FellowshipID",
         "rawType": "int64",
         "type": "integer"
        },
        {
         "name": "FirstName",
         "rawType": "object",
         "type": "string"
        },
        {
         "name": "Age",
         "rawType": "int64",
         "type": "integer"
        }
       ],
       "conversionMethod": "pd.DataFrame",
       "ref": "1b3d61a0-309c-4e44-8076-d6fb631c9e72",
       "rows": [
        [
         "0",
         "1001",
         "Frodo",
         "50"
        ],
        [
         "1",
         "1002",
         "Samwise",
         "39"
        ],
        [
         "2",
         "1006",
         "Legolas",
         "2931"
        ],
        [
         "3",
         "1007",
         "Elrond",
         "6520"
        ],
        [
         "4",
         "1008",
         "Barromir",
         "51"
        ]
       ],
       "shape": {
        "columns": 3,
        "rows": 5
       }
      },
      "text/html": [
       "<div>\n",
       "<style scoped>\n",
       "    .dataframe tbody tr th:only-of-type {\n",
       "        vertical-align: middle;\n",
       "    }\n",
       "\n",
       "    .dataframe tbody tr th {\n",
       "        vertical-align: top;\n",
       "    }\n",
       "\n",
       "    .dataframe thead th {\n",
       "        text-align: right;\n",
       "    }\n",
       "</style>\n",
       "<table border=\"1\" class=\"dataframe\">\n",
       "  <thead>\n",
       "    <tr style=\"text-align: right;\">\n",
       "      <th></th>\n",
       "      <th>FellowshipID</th>\n",
       "      <th>FirstName</th>\n",
       "      <th>Age</th>\n",
       "    </tr>\n",
       "  </thead>\n",
       "  <tbody>\n",
       "    <tr>\n",
       "      <th>0</th>\n",
       "      <td>1001</td>\n",
       "      <td>Frodo</td>\n",
       "      <td>50</td>\n",
       "    </tr>\n",
       "    <tr>\n",
       "      <th>1</th>\n",
       "      <td>1002</td>\n",
       "      <td>Samwise</td>\n",
       "      <td>39</td>\n",
       "    </tr>\n",
       "    <tr>\n",
       "      <th>2</th>\n",
       "      <td>1006</td>\n",
       "      <td>Legolas</td>\n",
       "      <td>2931</td>\n",
       "    </tr>\n",
       "    <tr>\n",
       "      <th>3</th>\n",
       "      <td>1007</td>\n",
       "      <td>Elrond</td>\n",
       "      <td>6520</td>\n",
       "    </tr>\n",
       "    <tr>\n",
       "      <th>4</th>\n",
       "      <td>1008</td>\n",
       "      <td>Barromir</td>\n",
       "      <td>51</td>\n",
       "    </tr>\n",
       "  </tbody>\n",
       "</table>\n",
       "</div>"
      ],
      "text/plain": [
       "   FellowshipID FirstName   Age\n",
       "0          1001     Frodo    50\n",
       "1          1002   Samwise    39\n",
       "2          1006   Legolas  2931\n",
       "3          1007    Elrond  6520\n",
       "4          1008  Barromir    51"
      ]
     },
     "execution_count": 75,
     "metadata": {},
     "output_type": "execute_result"
    }
   ],
   "source": [
    "df2 = pd.DataFrame({\n",
    "    'FellowshipID': [1001, 1002, 1006, 1007, 1008],\n",
    "    'FirstName': ['Frodo', 'Samwise', 'Legolas', 'Elrond', 'Barromir'],\n",
    "    'Age': [50, 39, 2931, 6520, 51]\n",
    "})\n",
    "df2"
   ]
  },
  {
   "cell_type": "code",
   "execution_count": 76,
   "id": "55cce42a",
   "metadata": {},
   "outputs": [
    {
     "data": {
      "application/vnd.microsoft.datawrangler.viewer.v0+json": {
       "columns": [
        {
         "name": "index",
         "rawType": "int64",
         "type": "integer"
        },
        {
         "name": "FellowshipID",
         "rawType": "int64",
         "type": "integer"
        },
        {
         "name": "FirstName",
         "rawType": "object",
         "type": "string"
        },
        {
         "name": "Skills",
         "rawType": "object",
         "type": "string"
        },
        {
         "name": "Age",
         "rawType": "int64",
         "type": "integer"
        }
       ],
       "conversionMethod": "pd.DataFrame",
       "ref": "7f99d62a-bcc3-453a-9078-7f66b6343cab",
       "rows": [
        [
         "0",
         "1001",
         "Frodo",
         "Hiding",
         "50"
        ],
        [
         "1",
         "1002",
         "Samwise",
         "Gardening",
         "39"
        ]
       ],
       "shape": {
        "columns": 4,
        "rows": 2
       }
      },
      "text/html": [
       "<div>\n",
       "<style scoped>\n",
       "    .dataframe tbody tr th:only-of-type {\n",
       "        vertical-align: middle;\n",
       "    }\n",
       "\n",
       "    .dataframe tbody tr th {\n",
       "        vertical-align: top;\n",
       "    }\n",
       "\n",
       "    .dataframe thead th {\n",
       "        text-align: right;\n",
       "    }\n",
       "</style>\n",
       "<table border=\"1\" class=\"dataframe\">\n",
       "  <thead>\n",
       "    <tr style=\"text-align: right;\">\n",
       "      <th></th>\n",
       "      <th>FellowshipID</th>\n",
       "      <th>FirstName</th>\n",
       "      <th>Skills</th>\n",
       "      <th>Age</th>\n",
       "    </tr>\n",
       "  </thead>\n",
       "  <tbody>\n",
       "    <tr>\n",
       "      <th>0</th>\n",
       "      <td>1001</td>\n",
       "      <td>Frodo</td>\n",
       "      <td>Hiding</td>\n",
       "      <td>50</td>\n",
       "    </tr>\n",
       "    <tr>\n",
       "      <th>1</th>\n",
       "      <td>1002</td>\n",
       "      <td>Samwise</td>\n",
       "      <td>Gardening</td>\n",
       "      <td>39</td>\n",
       "    </tr>\n",
       "  </tbody>\n",
       "</table>\n",
       "</div>"
      ],
      "text/plain": [
       "   FellowshipID FirstName     Skills  Age\n",
       "0          1001     Frodo     Hiding   50\n",
       "1          1002   Samwise  Gardening   39"
      ]
     },
     "execution_count": 76,
     "metadata": {},
     "output_type": "execute_result"
    }
   ],
   "source": [
    "# df1 considered as left df, df2 considered as right df\n",
    "# and default is inner join  -> intersection\n",
    "\n",
    "# Here's the explanation what happen -> https://youtu.be/TPivN7tpdwc?si=rlSf-a6c9-8cXN1A&t=197\n",
    "\"\"\"now when we not specify columns (like which columns you look for `left` and `right` df for matching, or `on` value) it by default takes common columns of both dataframes,\n",
    "and match those, and the columns which it takes for match, in the resultant df it comes only 1 time, instead of both dataframes \"\"\"\n",
    "\n",
    "# by default `how` param is inner\n",
    "df1.merge(df2) "
   ]
  },
  {
   "cell_type": "code",
   "execution_count": 77,
   "id": "6b302111",
   "metadata": {},
   "outputs": [
    {
     "data": {
      "application/vnd.microsoft.datawrangler.viewer.v0+json": {
       "columns": [
        {
         "name": "index",
         "rawType": "int64",
         "type": "integer"
        },
        {
         "name": "FellowshipID",
         "rawType": "int64",
         "type": "integer"
        },
        {
         "name": "FirstName_x1",
         "rawType": "object",
         "type": "string"
        },
        {
         "name": "Skills",
         "rawType": "object",
         "type": "string"
        },
        {
         "name": "FirstName_y1",
         "rawType": "object",
         "type": "string"
        },
        {
         "name": "Age",
         "rawType": "int64",
         "type": "integer"
        }
       ],
       "conversionMethod": "pd.DataFrame",
       "ref": "2d66b03e-1302-40ae-b8aa-d8f0740b4185",
       "rows": [
        [
         "0",
         "1001",
         "Frodo",
         "Hiding",
         "Frodo",
         "50"
        ],
        [
         "1",
         "1002",
         "Samwise",
         "Gardening",
         "Samwise",
         "39"
        ]
       ],
       "shape": {
        "columns": 5,
        "rows": 2
       }
      },
      "text/html": [
       "<div>\n",
       "<style scoped>\n",
       "    .dataframe tbody tr th:only-of-type {\n",
       "        vertical-align: middle;\n",
       "    }\n",
       "\n",
       "    .dataframe tbody tr th {\n",
       "        vertical-align: top;\n",
       "    }\n",
       "\n",
       "    .dataframe thead th {\n",
       "        text-align: right;\n",
       "    }\n",
       "</style>\n",
       "<table border=\"1\" class=\"dataframe\">\n",
       "  <thead>\n",
       "    <tr style=\"text-align: right;\">\n",
       "      <th></th>\n",
       "      <th>FellowshipID</th>\n",
       "      <th>FirstName_x1</th>\n",
       "      <th>Skills</th>\n",
       "      <th>FirstName_y1</th>\n",
       "      <th>Age</th>\n",
       "    </tr>\n",
       "  </thead>\n",
       "  <tbody>\n",
       "    <tr>\n",
       "      <th>0</th>\n",
       "      <td>1001</td>\n",
       "      <td>Frodo</td>\n",
       "      <td>Hiding</td>\n",
       "      <td>Frodo</td>\n",
       "      <td>50</td>\n",
       "    </tr>\n",
       "    <tr>\n",
       "      <th>1</th>\n",
       "      <td>1002</td>\n",
       "      <td>Samwise</td>\n",
       "      <td>Gardening</td>\n",
       "      <td>Samwise</td>\n",
       "      <td>39</td>\n",
       "    </tr>\n",
       "  </tbody>\n",
       "</table>\n",
       "</div>"
      ],
      "text/plain": [
       "   FellowshipID FirstName_x1     Skills FirstName_y1  Age\n",
       "0          1001        Frodo     Hiding        Frodo   50\n",
       "1          1002      Samwise  Gardening      Samwise   39"
      ]
     },
     "execution_count": 77,
     "metadata": {},
     "output_type": "execute_result"
    }
   ],
   "source": [
    "# so now FellowshipID, only requires to be matched\n",
    "\n",
    "# Here's the explanation what happen -> https://youtu.be/TPivN7tpdwc?si=_9ZGRHJCFWzZSdP_&t=317\n",
    "# you can give custom suffices for duplicate column names, by default column_name_for_df1_x and column_name_for_df2_y \n",
    "df1.merge(df2,on='FellowshipID',suffixes=('_x1','_y1')) \n",
    "# we can also pass list for `on` parameter"
   ]
  },
  {
   "cell_type": "code",
   "execution_count": 78,
   "id": "63489dbf",
   "metadata": {},
   "outputs": [
    {
     "data": {
      "application/vnd.microsoft.datawrangler.viewer.v0+json": {
       "columns": [
        {
         "name": "index",
         "rawType": "int64",
         "type": "integer"
        },
        {
         "name": "FellowshipID",
         "rawType": "int64",
         "type": "integer"
        },
        {
         "name": "FirstName",
         "rawType": "object",
         "type": "string"
        },
        {
         "name": "Skills",
         "rawType": "object",
         "type": "unknown"
        },
        {
         "name": "Age",
         "rawType": "float64",
         "type": "float"
        }
       ],
       "conversionMethod": "pd.DataFrame",
       "ref": "67495b69-10c0-4fff-8d93-aa5dc94986e1",
       "rows": [
        [
         "0",
         "1001",
         "Frodo",
         "Hiding",
         "50.0"
        ],
        [
         "1",
         "1002",
         "Samwise",
         "Gardening",
         "39.0"
        ],
        [
         "2",
         "1003",
         "Gandalf",
         "Spells",
         null
        ],
        [
         "3",
         "1004",
         "Pippin",
         "Fireworks",
         null
        ],
        [
         "4",
         "1006",
         "Legolas",
         null,
         "2931.0"
        ],
        [
         "5",
         "1007",
         "Elrond",
         null,
         "6520.0"
        ],
        [
         "6",
         "1008",
         "Barromir",
         null,
         "51.0"
        ]
       ],
       "shape": {
        "columns": 4,
        "rows": 7
       }
      },
      "text/html": [
       "<div>\n",
       "<style scoped>\n",
       "    .dataframe tbody tr th:only-of-type {\n",
       "        vertical-align: middle;\n",
       "    }\n",
       "\n",
       "    .dataframe tbody tr th {\n",
       "        vertical-align: top;\n",
       "    }\n",
       "\n",
       "    .dataframe thead th {\n",
       "        text-align: right;\n",
       "    }\n",
       "</style>\n",
       "<table border=\"1\" class=\"dataframe\">\n",
       "  <thead>\n",
       "    <tr style=\"text-align: right;\">\n",
       "      <th></th>\n",
       "      <th>FellowshipID</th>\n",
       "      <th>FirstName</th>\n",
       "      <th>Skills</th>\n",
       "      <th>Age</th>\n",
       "    </tr>\n",
       "  </thead>\n",
       "  <tbody>\n",
       "    <tr>\n",
       "      <th>0</th>\n",
       "      <td>1001</td>\n",
       "      <td>Frodo</td>\n",
       "      <td>Hiding</td>\n",
       "      <td>50.0</td>\n",
       "    </tr>\n",
       "    <tr>\n",
       "      <th>1</th>\n",
       "      <td>1002</td>\n",
       "      <td>Samwise</td>\n",
       "      <td>Gardening</td>\n",
       "      <td>39.0</td>\n",
       "    </tr>\n",
       "    <tr>\n",
       "      <th>2</th>\n",
       "      <td>1003</td>\n",
       "      <td>Gandalf</td>\n",
       "      <td>Spells</td>\n",
       "      <td>NaN</td>\n",
       "    </tr>\n",
       "    <tr>\n",
       "      <th>3</th>\n",
       "      <td>1004</td>\n",
       "      <td>Pippin</td>\n",
       "      <td>Fireworks</td>\n",
       "      <td>NaN</td>\n",
       "    </tr>\n",
       "    <tr>\n",
       "      <th>4</th>\n",
       "      <td>1006</td>\n",
       "      <td>Legolas</td>\n",
       "      <td>NaN</td>\n",
       "      <td>2931.0</td>\n",
       "    </tr>\n",
       "    <tr>\n",
       "      <th>5</th>\n",
       "      <td>1007</td>\n",
       "      <td>Elrond</td>\n",
       "      <td>NaN</td>\n",
       "      <td>6520.0</td>\n",
       "    </tr>\n",
       "    <tr>\n",
       "      <th>6</th>\n",
       "      <td>1008</td>\n",
       "      <td>Barromir</td>\n",
       "      <td>NaN</td>\n",
       "      <td>51.0</td>\n",
       "    </tr>\n",
       "  </tbody>\n",
       "</table>\n",
       "</div>"
      ],
      "text/plain": [
       "   FellowshipID FirstName     Skills     Age\n",
       "0          1001     Frodo     Hiding    50.0\n",
       "1          1002   Samwise  Gardening    39.0\n",
       "2          1003   Gandalf     Spells     NaN\n",
       "3          1004    Pippin  Fireworks     NaN\n",
       "4          1006   Legolas        NaN  2931.0\n",
       "5          1007    Elrond        NaN  6520.0\n",
       "6          1008  Barromir        NaN    51.0"
      ]
     },
     "execution_count": 78,
     "metadata": {},
     "output_type": "execute_result"
    }
   ],
   "source": [
    "# Outer join ->  https://youtu.be/TPivN7tpdwc?si=P4rl2uy7BuJtoG4J&t=477\n",
    "# gives us both common and non common rows also\n",
    "\n",
    "df1.merge(df2, how='outer')\n"
   ]
  },
  {
   "cell_type": "code",
   "execution_count": null,
   "id": "8e4f1197",
   "metadata": {},
   "outputs": [
    {
     "data": {
      "application/vnd.microsoft.datawrangler.viewer.v0+json": {
       "columns": [
        {
         "name": "index",
         "rawType": "int64",
         "type": "integer"
        },
        {
         "name": "FellowshipID",
         "rawType": "int64",
         "type": "integer"
        },
        {
         "name": "FirstName",
         "rawType": "object",
         "type": "string"
        },
        {
         "name": "Skills",
         "rawType": "object",
         "type": "unknown"
        },
        {
         "name": "Age",
         "rawType": "float64",
         "type": "float"
        },
        {
         "name": "_merge",
         "rawType": "category",
         "type": "unknown"
        }
       ],
       "conversionMethod": "pd.DataFrame",
       "ref": "633ef3fd-30bc-4970-b978-dec5782969f1",
       "rows": [
        [
         "0",
         "1001",
         "Frodo",
         "Hiding",
         "50.0",
         "both"
        ],
        [
         "1",
         "1002",
         "Samwise",
         "Gardening",
         "39.0",
         "both"
        ],
        [
         "2",
         "1003",
         "Gandalf",
         "Spells",
         null,
         "left_only"
        ],
        [
         "3",
         "1004",
         "Pippin",
         "Fireworks",
         null,
         "left_only"
        ],
        [
         "4",
         "1006",
         "Legolas",
         null,
         "2931.0",
         "right_only"
        ],
        [
         "5",
         "1007",
         "Elrond",
         null,
         "6520.0",
         "right_only"
        ],
        [
         "6",
         "1008",
         "Barromir",
         null,
         "51.0",
         "right_only"
        ]
       ],
       "shape": {
        "columns": 5,
        "rows": 7
       }
      },
      "text/html": [
       "<div>\n",
       "<style scoped>\n",
       "    .dataframe tbody tr th:only-of-type {\n",
       "        vertical-align: middle;\n",
       "    }\n",
       "\n",
       "    .dataframe tbody tr th {\n",
       "        vertical-align: top;\n",
       "    }\n",
       "\n",
       "    .dataframe thead th {\n",
       "        text-align: right;\n",
       "    }\n",
       "</style>\n",
       "<table border=\"1\" class=\"dataframe\">\n",
       "  <thead>\n",
       "    <tr style=\"text-align: right;\">\n",
       "      <th></th>\n",
       "      <th>FellowshipID</th>\n",
       "      <th>FirstName</th>\n",
       "      <th>Skills</th>\n",
       "      <th>Age</th>\n",
       "      <th>_merge</th>\n",
       "    </tr>\n",
       "  </thead>\n",
       "  <tbody>\n",
       "    <tr>\n",
       "      <th>0</th>\n",
       "      <td>1001</td>\n",
       "      <td>Frodo</td>\n",
       "      <td>Hiding</td>\n",
       "      <td>50.0</td>\n",
       "      <td>both</td>\n",
       "    </tr>\n",
       "    <tr>\n",
       "      <th>1</th>\n",
       "      <td>1002</td>\n",
       "      <td>Samwise</td>\n",
       "      <td>Gardening</td>\n",
       "      <td>39.0</td>\n",
       "      <td>both</td>\n",
       "    </tr>\n",
       "    <tr>\n",
       "      <th>2</th>\n",
       "      <td>1003</td>\n",
       "      <td>Gandalf</td>\n",
       "      <td>Spells</td>\n",
       "      <td>NaN</td>\n",
       "      <td>left_only</td>\n",
       "    </tr>\n",
       "    <tr>\n",
       "      <th>3</th>\n",
       "      <td>1004</td>\n",
       "      <td>Pippin</td>\n",
       "      <td>Fireworks</td>\n",
       "      <td>NaN</td>\n",
       "      <td>left_only</td>\n",
       "    </tr>\n",
       "    <tr>\n",
       "      <th>4</th>\n",
       "      <td>1006</td>\n",
       "      <td>Legolas</td>\n",
       "      <td>NaN</td>\n",
       "      <td>2931.0</td>\n",
       "      <td>right_only</td>\n",
       "    </tr>\n",
       "    <tr>\n",
       "      <th>5</th>\n",
       "      <td>1007</td>\n",
       "      <td>Elrond</td>\n",
       "      <td>NaN</td>\n",
       "      <td>6520.0</td>\n",
       "      <td>right_only</td>\n",
       "    </tr>\n",
       "    <tr>\n",
       "      <th>6</th>\n",
       "      <td>1008</td>\n",
       "      <td>Barromir</td>\n",
       "      <td>NaN</td>\n",
       "      <td>51.0</td>\n",
       "      <td>right_only</td>\n",
       "    </tr>\n",
       "  </tbody>\n",
       "</table>\n",
       "</div>"
      ],
      "text/plain": [
       "   FellowshipID FirstName     Skills     Age      _merge\n",
       "0          1001     Frodo     Hiding    50.0        both\n",
       "1          1002   Samwise  Gardening    39.0        both\n",
       "2          1003   Gandalf     Spells     NaN   left_only\n",
       "3          1004    Pippin  Fireworks     NaN   left_only\n",
       "4          1006   Legolas        NaN  2931.0  right_only\n",
       "5          1007    Elrond        NaN  6520.0  right_only\n",
       "6          1008  Barromir        NaN    51.0  right_only"
      ]
     },
     "execution_count": 111,
     "metadata": {},
     "output_type": "execute_result"
    }
   ],
   "source": [
    "# see about indicator param of merge  -> https://youtu.be/h4hOPGo4UVU?si=e9WOjXZfrRhk6zAs&t=307\n",
    "# it helpful in outer join, where we want to know where particular row comes from,\n",
    "\n",
    "# see `_merge` column\n",
    "df1.merge(df2,how='outer', indicator=True)"
   ]
  },
  {
   "cell_type": "code",
   "execution_count": 79,
   "id": "07d30f84",
   "metadata": {},
   "outputs": [
    {
     "data": {
      "application/vnd.microsoft.datawrangler.viewer.v0+json": {
       "columns": [
        {
         "name": "index",
         "rawType": "int64",
         "type": "integer"
        },
        {
         "name": "FellowshipID",
         "rawType": "int64",
         "type": "integer"
        },
        {
         "name": "FirstName",
         "rawType": "object",
         "type": "string"
        },
        {
         "name": "Skills",
         "rawType": "object",
         "type": "string"
        },
        {
         "name": "Age",
         "rawType": "float64",
         "type": "float"
        }
       ],
       "conversionMethod": "pd.DataFrame",
       "ref": "811ea4d5-ba8b-4c20-9325-17bf39bccd44",
       "rows": [
        [
         "0",
         "1001",
         "Frodo",
         "Hiding",
         "50.0"
        ],
        [
         "1",
         "1002",
         "Samwise",
         "Gardening",
         "39.0"
        ],
        [
         "2",
         "1003",
         "Gandalf",
         "Spells",
         null
        ],
        [
         "3",
         "1004",
         "Pippin",
         "Fireworks",
         null
        ]
       ],
       "shape": {
        "columns": 4,
        "rows": 4
       }
      },
      "text/html": [
       "<div>\n",
       "<style scoped>\n",
       "    .dataframe tbody tr th:only-of-type {\n",
       "        vertical-align: middle;\n",
       "    }\n",
       "\n",
       "    .dataframe tbody tr th {\n",
       "        vertical-align: top;\n",
       "    }\n",
       "\n",
       "    .dataframe thead th {\n",
       "        text-align: right;\n",
       "    }\n",
       "</style>\n",
       "<table border=\"1\" class=\"dataframe\">\n",
       "  <thead>\n",
       "    <tr style=\"text-align: right;\">\n",
       "      <th></th>\n",
       "      <th>FellowshipID</th>\n",
       "      <th>FirstName</th>\n",
       "      <th>Skills</th>\n",
       "      <th>Age</th>\n",
       "    </tr>\n",
       "  </thead>\n",
       "  <tbody>\n",
       "    <tr>\n",
       "      <th>0</th>\n",
       "      <td>1001</td>\n",
       "      <td>Frodo</td>\n",
       "      <td>Hiding</td>\n",
       "      <td>50.0</td>\n",
       "    </tr>\n",
       "    <tr>\n",
       "      <th>1</th>\n",
       "      <td>1002</td>\n",
       "      <td>Samwise</td>\n",
       "      <td>Gardening</td>\n",
       "      <td>39.0</td>\n",
       "    </tr>\n",
       "    <tr>\n",
       "      <th>2</th>\n",
       "      <td>1003</td>\n",
       "      <td>Gandalf</td>\n",
       "      <td>Spells</td>\n",
       "      <td>NaN</td>\n",
       "    </tr>\n",
       "    <tr>\n",
       "      <th>3</th>\n",
       "      <td>1004</td>\n",
       "      <td>Pippin</td>\n",
       "      <td>Fireworks</td>\n",
       "      <td>NaN</td>\n",
       "    </tr>\n",
       "  </tbody>\n",
       "</table>\n",
       "</div>"
      ],
      "text/plain": [
       "   FellowshipID FirstName     Skills   Age\n",
       "0          1001     Frodo     Hiding  50.0\n",
       "1          1002   Samwise  Gardening  39.0\n",
       "2          1003   Gandalf     Spells   NaN\n",
       "3          1004    Pippin  Fireworks   NaN"
      ]
     },
     "execution_count": 79,
     "metadata": {},
     "output_type": "execute_result"
    }
   ],
   "source": [
    "# Left join -> https://youtu.be/TPivN7tpdwc?si=rnU8R-6VdTF-WyT3&t=577\n",
    "\n",
    "# it gonna takes every row from left df and put it in resultant df, no matter its common columns match or not(here FellowshipID, FirstName) in right df\n",
    "# but Note: rows in df1 who not match with rows in df2 will get NaN value for columns of df2(the columns which are only in df2)\n",
    "df1.merge(df2, how='left')"
   ]
  },
  {
   "cell_type": "code",
   "execution_count": 80,
   "id": "a1396a6f",
   "metadata": {},
   "outputs": [
    {
     "data": {
      "application/vnd.microsoft.datawrangler.viewer.v0+json": {
       "columns": [
        {
         "name": "index",
         "rawType": "int64",
         "type": "integer"
        },
        {
         "name": "FellowshipID",
         "rawType": "int64",
         "type": "integer"
        },
        {
         "name": "FirstName",
         "rawType": "object",
         "type": "string"
        },
        {
         "name": "Skills",
         "rawType": "object",
         "type": "unknown"
        },
        {
         "name": "Age",
         "rawType": "int64",
         "type": "integer"
        }
       ],
       "conversionMethod": "pd.DataFrame",
       "ref": "4d403139-1e39-4a55-8553-49f012bf4bb4",
       "rows": [
        [
         "0",
         "1001",
         "Frodo",
         "Hiding",
         "50"
        ],
        [
         "1",
         "1002",
         "Samwise",
         "Gardening",
         "39"
        ],
        [
         "2",
         "1006",
         "Legolas",
         null,
         "2931"
        ],
        [
         "3",
         "1007",
         "Elrond",
         null,
         "6520"
        ],
        [
         "4",
         "1008",
         "Barromir",
         null,
         "51"
        ]
       ],
       "shape": {
        "columns": 4,
        "rows": 5
       }
      },
      "text/html": [
       "<div>\n",
       "<style scoped>\n",
       "    .dataframe tbody tr th:only-of-type {\n",
       "        vertical-align: middle;\n",
       "    }\n",
       "\n",
       "    .dataframe tbody tr th {\n",
       "        vertical-align: top;\n",
       "    }\n",
       "\n",
       "    .dataframe thead th {\n",
       "        text-align: right;\n",
       "    }\n",
       "</style>\n",
       "<table border=\"1\" class=\"dataframe\">\n",
       "  <thead>\n",
       "    <tr style=\"text-align: right;\">\n",
       "      <th></th>\n",
       "      <th>FellowshipID</th>\n",
       "      <th>FirstName</th>\n",
       "      <th>Skills</th>\n",
       "      <th>Age</th>\n",
       "    </tr>\n",
       "  </thead>\n",
       "  <tbody>\n",
       "    <tr>\n",
       "      <th>0</th>\n",
       "      <td>1001</td>\n",
       "      <td>Frodo</td>\n",
       "      <td>Hiding</td>\n",
       "      <td>50</td>\n",
       "    </tr>\n",
       "    <tr>\n",
       "      <th>1</th>\n",
       "      <td>1002</td>\n",
       "      <td>Samwise</td>\n",
       "      <td>Gardening</td>\n",
       "      <td>39</td>\n",
       "    </tr>\n",
       "    <tr>\n",
       "      <th>2</th>\n",
       "      <td>1006</td>\n",
       "      <td>Legolas</td>\n",
       "      <td>NaN</td>\n",
       "      <td>2931</td>\n",
       "    </tr>\n",
       "    <tr>\n",
       "      <th>3</th>\n",
       "      <td>1007</td>\n",
       "      <td>Elrond</td>\n",
       "      <td>NaN</td>\n",
       "      <td>6520</td>\n",
       "    </tr>\n",
       "    <tr>\n",
       "      <th>4</th>\n",
       "      <td>1008</td>\n",
       "      <td>Barromir</td>\n",
       "      <td>NaN</td>\n",
       "      <td>51</td>\n",
       "    </tr>\n",
       "  </tbody>\n",
       "</table>\n",
       "</div>"
      ],
      "text/plain": [
       "   FellowshipID FirstName     Skills   Age\n",
       "0          1001     Frodo     Hiding    50\n",
       "1          1002   Samwise  Gardening    39\n",
       "2          1006   Legolas        NaN  2931\n",
       "3          1007    Elrond        NaN  6520\n",
       "4          1008  Barromir        NaN    51"
      ]
     },
     "execution_count": 80,
     "metadata": {},
     "output_type": "execute_result"
    }
   ],
   "source": [
    "# Right join ->  https://youtu.be/TPivN7tpdwc?si=JMOm2XGsvmqnqHBb&t=647\n",
    "\n",
    "# exact opposite of left join , it same thing if you do this also: df2.merge(df1, how='left')\n",
    "\n",
    "# but Note: rows in df2 who not match with rows in df1 will get NaN value for columns of df1(the columns which are only in df1)\n",
    "df1.merge(df2, how='right')\n"
   ]
  },
  {
   "cell_type": "code",
   "execution_count": null,
   "id": "88f1f58f",
   "metadata": {},
   "outputs": [
    {
     "data": {
      "application/vnd.microsoft.datawrangler.viewer.v0+json": {
       "columns": [
        {
         "name": "index",
         "rawType": "int64",
         "type": "integer"
        },
        {
         "name": "FellowshipID_x",
         "rawType": "int64",
         "type": "integer"
        },
        {
         "name": "FirstName_x",
         "rawType": "object",
         "type": "string"
        },
        {
         "name": "Skills",
         "rawType": "object",
         "type": "string"
        },
        {
         "name": "FellowshipID_y",
         "rawType": "int64",
         "type": "integer"
        },
        {
         "name": "FirstName_y",
         "rawType": "object",
         "type": "string"
        },
        {
         "name": "Age",
         "rawType": "int64",
         "type": "integer"
        }
       ],
       "conversionMethod": "pd.DataFrame",
       "ref": "ee5924fa-ef26-4faa-a97a-3b3bdbbf7c52",
       "rows": [
        [
         "0",
         "1001",
         "Frodo",
         "Hiding",
         "1001",
         "Frodo",
         "50"
        ],
        [
         "1",
         "1001",
         "Frodo",
         "Hiding",
         "1002",
         "Samwise",
         "39"
        ],
        [
         "2",
         "1001",
         "Frodo",
         "Hiding",
         "1006",
         "Legolas",
         "2931"
        ],
        [
         "3",
         "1001",
         "Frodo",
         "Hiding",
         "1007",
         "Elrond",
         "6520"
        ],
        [
         "4",
         "1001",
         "Frodo",
         "Hiding",
         "1008",
         "Barromir",
         "51"
        ],
        [
         "5",
         "1002",
         "Samwise",
         "Gardening",
         "1001",
         "Frodo",
         "50"
        ],
        [
         "6",
         "1002",
         "Samwise",
         "Gardening",
         "1002",
         "Samwise",
         "39"
        ],
        [
         "7",
         "1002",
         "Samwise",
         "Gardening",
         "1006",
         "Legolas",
         "2931"
        ],
        [
         "8",
         "1002",
         "Samwise",
         "Gardening",
         "1007",
         "Elrond",
         "6520"
        ],
        [
         "9",
         "1002",
         "Samwise",
         "Gardening",
         "1008",
         "Barromir",
         "51"
        ],
        [
         "10",
         "1003",
         "Gandalf",
         "Spells",
         "1001",
         "Frodo",
         "50"
        ],
        [
         "11",
         "1003",
         "Gandalf",
         "Spells",
         "1002",
         "Samwise",
         "39"
        ],
        [
         "12",
         "1003",
         "Gandalf",
         "Spells",
         "1006",
         "Legolas",
         "2931"
        ],
        [
         "13",
         "1003",
         "Gandalf",
         "Spells",
         "1007",
         "Elrond",
         "6520"
        ],
        [
         "14",
         "1003",
         "Gandalf",
         "Spells",
         "1008",
         "Barromir",
         "51"
        ],
        [
         "15",
         "1004",
         "Pippin",
         "Fireworks",
         "1001",
         "Frodo",
         "50"
        ],
        [
         "16",
         "1004",
         "Pippin",
         "Fireworks",
         "1002",
         "Samwise",
         "39"
        ],
        [
         "17",
         "1004",
         "Pippin",
         "Fireworks",
         "1006",
         "Legolas",
         "2931"
        ],
        [
         "18",
         "1004",
         "Pippin",
         "Fireworks",
         "1007",
         "Elrond",
         "6520"
        ],
        [
         "19",
         "1004",
         "Pippin",
         "Fireworks",
         "1008",
         "Barromir",
         "51"
        ]
       ],
       "shape": {
        "columns": 6,
        "rows": 20
       }
      },
      "text/html": [
       "<div>\n",
       "<style scoped>\n",
       "    .dataframe tbody tr th:only-of-type {\n",
       "        vertical-align: middle;\n",
       "    }\n",
       "\n",
       "    .dataframe tbody tr th {\n",
       "        vertical-align: top;\n",
       "    }\n",
       "\n",
       "    .dataframe thead th {\n",
       "        text-align: right;\n",
       "    }\n",
       "</style>\n",
       "<table border=\"1\" class=\"dataframe\">\n",
       "  <thead>\n",
       "    <tr style=\"text-align: right;\">\n",
       "      <th></th>\n",
       "      <th>FellowshipID_x</th>\n",
       "      <th>FirstName_x</th>\n",
       "      <th>Skills</th>\n",
       "      <th>FellowshipID_y</th>\n",
       "      <th>FirstName_y</th>\n",
       "      <th>Age</th>\n",
       "    </tr>\n",
       "  </thead>\n",
       "  <tbody>\n",
       "    <tr>\n",
       "      <th>0</th>\n",
       "      <td>1001</td>\n",
       "      <td>Frodo</td>\n",
       "      <td>Hiding</td>\n",
       "      <td>1001</td>\n",
       "      <td>Frodo</td>\n",
       "      <td>50</td>\n",
       "    </tr>\n",
       "    <tr>\n",
       "      <th>1</th>\n",
       "      <td>1001</td>\n",
       "      <td>Frodo</td>\n",
       "      <td>Hiding</td>\n",
       "      <td>1002</td>\n",
       "      <td>Samwise</td>\n",
       "      <td>39</td>\n",
       "    </tr>\n",
       "    <tr>\n",
       "      <th>2</th>\n",
       "      <td>1001</td>\n",
       "      <td>Frodo</td>\n",
       "      <td>Hiding</td>\n",
       "      <td>1006</td>\n",
       "      <td>Legolas</td>\n",
       "      <td>2931</td>\n",
       "    </tr>\n",
       "    <tr>\n",
       "      <th>3</th>\n",
       "      <td>1001</td>\n",
       "      <td>Frodo</td>\n",
       "      <td>Hiding</td>\n",
       "      <td>1007</td>\n",
       "      <td>Elrond</td>\n",
       "      <td>6520</td>\n",
       "    </tr>\n",
       "    <tr>\n",
       "      <th>4</th>\n",
       "      <td>1001</td>\n",
       "      <td>Frodo</td>\n",
       "      <td>Hiding</td>\n",
       "      <td>1008</td>\n",
       "      <td>Barromir</td>\n",
       "      <td>51</td>\n",
       "    </tr>\n",
       "    <tr>\n",
       "      <th>5</th>\n",
       "      <td>1002</td>\n",
       "      <td>Samwise</td>\n",
       "      <td>Gardening</td>\n",
       "      <td>1001</td>\n",
       "      <td>Frodo</td>\n",
       "      <td>50</td>\n",
       "    </tr>\n",
       "    <tr>\n",
       "      <th>6</th>\n",
       "      <td>1002</td>\n",
       "      <td>Samwise</td>\n",
       "      <td>Gardening</td>\n",
       "      <td>1002</td>\n",
       "      <td>Samwise</td>\n",
       "      <td>39</td>\n",
       "    </tr>\n",
       "    <tr>\n",
       "      <th>7</th>\n",
       "      <td>1002</td>\n",
       "      <td>Samwise</td>\n",
       "      <td>Gardening</td>\n",
       "      <td>1006</td>\n",
       "      <td>Legolas</td>\n",
       "      <td>2931</td>\n",
       "    </tr>\n",
       "    <tr>\n",
       "      <th>8</th>\n",
       "      <td>1002</td>\n",
       "      <td>Samwise</td>\n",
       "      <td>Gardening</td>\n",
       "      <td>1007</td>\n",
       "      <td>Elrond</td>\n",
       "      <td>6520</td>\n",
       "    </tr>\n",
       "    <tr>\n",
       "      <th>9</th>\n",
       "      <td>1002</td>\n",
       "      <td>Samwise</td>\n",
       "      <td>Gardening</td>\n",
       "      <td>1008</td>\n",
       "      <td>Barromir</td>\n",
       "      <td>51</td>\n",
       "    </tr>\n",
       "    <tr>\n",
       "      <th>10</th>\n",
       "      <td>1003</td>\n",
       "      <td>Gandalf</td>\n",
       "      <td>Spells</td>\n",
       "      <td>1001</td>\n",
       "      <td>Frodo</td>\n",
       "      <td>50</td>\n",
       "    </tr>\n",
       "    <tr>\n",
       "      <th>11</th>\n",
       "      <td>1003</td>\n",
       "      <td>Gandalf</td>\n",
       "      <td>Spells</td>\n",
       "      <td>1002</td>\n",
       "      <td>Samwise</td>\n",
       "      <td>39</td>\n",
       "    </tr>\n",
       "    <tr>\n",
       "      <th>12</th>\n",
       "      <td>1003</td>\n",
       "      <td>Gandalf</td>\n",
       "      <td>Spells</td>\n",
       "      <td>1006</td>\n",
       "      <td>Legolas</td>\n",
       "      <td>2931</td>\n",
       "    </tr>\n",
       "    <tr>\n",
       "      <th>13</th>\n",
       "      <td>1003</td>\n",
       "      <td>Gandalf</td>\n",
       "      <td>Spells</td>\n",
       "      <td>1007</td>\n",
       "      <td>Elrond</td>\n",
       "      <td>6520</td>\n",
       "    </tr>\n",
       "    <tr>\n",
       "      <th>14</th>\n",
       "      <td>1003</td>\n",
       "      <td>Gandalf</td>\n",
       "      <td>Spells</td>\n",
       "      <td>1008</td>\n",
       "      <td>Barromir</td>\n",
       "      <td>51</td>\n",
       "    </tr>\n",
       "    <tr>\n",
       "      <th>15</th>\n",
       "      <td>1004</td>\n",
       "      <td>Pippin</td>\n",
       "      <td>Fireworks</td>\n",
       "      <td>1001</td>\n",
       "      <td>Frodo</td>\n",
       "      <td>50</td>\n",
       "    </tr>\n",
       "    <tr>\n",
       "      <th>16</th>\n",
       "      <td>1004</td>\n",
       "      <td>Pippin</td>\n",
       "      <td>Fireworks</td>\n",
       "      <td>1002</td>\n",
       "      <td>Samwise</td>\n",
       "      <td>39</td>\n",
       "    </tr>\n",
       "    <tr>\n",
       "      <th>17</th>\n",
       "      <td>1004</td>\n",
       "      <td>Pippin</td>\n",
       "      <td>Fireworks</td>\n",
       "      <td>1006</td>\n",
       "      <td>Legolas</td>\n",
       "      <td>2931</td>\n",
       "    </tr>\n",
       "    <tr>\n",
       "      <th>18</th>\n",
       "      <td>1004</td>\n",
       "      <td>Pippin</td>\n",
       "      <td>Fireworks</td>\n",
       "      <td>1007</td>\n",
       "      <td>Elrond</td>\n",
       "      <td>6520</td>\n",
       "    </tr>\n",
       "    <tr>\n",
       "      <th>19</th>\n",
       "      <td>1004</td>\n",
       "      <td>Pippin</td>\n",
       "      <td>Fireworks</td>\n",
       "      <td>1008</td>\n",
       "      <td>Barromir</td>\n",
       "      <td>51</td>\n",
       "    </tr>\n",
       "  </tbody>\n",
       "</table>\n",
       "</div>"
      ],
      "text/plain": [
       "    FellowshipID_x FirstName_x     Skills  FellowshipID_y FirstName_y   Age\n",
       "0             1001       Frodo     Hiding            1001       Frodo    50\n",
       "1             1001       Frodo     Hiding            1002     Samwise    39\n",
       "2             1001       Frodo     Hiding            1006     Legolas  2931\n",
       "3             1001       Frodo     Hiding            1007      Elrond  6520\n",
       "4             1001       Frodo     Hiding            1008    Barromir    51\n",
       "5             1002     Samwise  Gardening            1001       Frodo    50\n",
       "6             1002     Samwise  Gardening            1002     Samwise    39\n",
       "7             1002     Samwise  Gardening            1006     Legolas  2931\n",
       "8             1002     Samwise  Gardening            1007      Elrond  6520\n",
       "9             1002     Samwise  Gardening            1008    Barromir    51\n",
       "10            1003     Gandalf     Spells            1001       Frodo    50\n",
       "11            1003     Gandalf     Spells            1002     Samwise    39\n",
       "12            1003     Gandalf     Spells            1006     Legolas  2931\n",
       "13            1003     Gandalf     Spells            1007      Elrond  6520\n",
       "14            1003     Gandalf     Spells            1008    Barromir    51\n",
       "15            1004      Pippin  Fireworks            1001       Frodo    50\n",
       "16            1004      Pippin  Fireworks            1002     Samwise    39\n",
       "17            1004      Pippin  Fireworks            1006     Legolas  2931\n",
       "18            1004      Pippin  Fireworks            1007      Elrond  6520\n",
       "19            1004      Pippin  Fireworks            1008    Barromir    51"
      ]
     },
     "execution_count": 81,
     "metadata": {},
     "output_type": "execute_result"
    }
   ],
   "source": [
    "# cross join -> https://youtu.be/mYLdA7_EAf4?si=zLl_q8LAPwipqxMl&t=447\n",
    "# while using cross merge, `left_on`, `right_on` params can not be pass to merge\n",
    "\n",
    "# so in cross join whatever the values(rows) in left dataframe connected with values(rows) in right dataframe\n",
    "# so again, what it does is : it takes one by one every row of left df, and connect each row with every row of right df, so here common like thing not exist for merging\n",
    "df1.merge(df2, how='cross')\n"
   ]
  },
  {
   "cell_type": "code",
   "execution_count": 82,
   "id": "5437e5e5",
   "metadata": {},
   "outputs": [
    {
     "data": {
      "text/plain": [
       "(   FellowshipID FirstName     Skills\n",
       " 0          1001     Frodo     Hiding\n",
       " 1          1002   Samwise  Gardening\n",
       " 2          1003   Gandalf     Spells\n",
       " 3          1004    Pippin  Fireworks,\n",
       "      ID FirstName   Age\n",
       " 0  1001     Frodo    50\n",
       " 1  1002   Samwise    39\n",
       " 2  1006   Legolas  2931\n",
       " 3  1007    Elrond  6520\n",
       " 4  1008  Barromir    51)"
      ]
     },
     "execution_count": 82,
     "metadata": {},
     "output_type": "execute_result"
    }
   ],
   "source": [
    "# but we have 1 more thing also we can do (`left_on` and `right_on` params) :\n",
    "df3 = pd.DataFrame({\n",
    "    'ID': [1001, 1002, 1006, 1007, 1008],\n",
    "    'FirstName': ['Frodo', 'Samwise', 'Legolas', 'Elrond', 'Barromir'],\n",
    "    'Age': [50, 39, 2931, 6520, 51]\n",
    "})\n",
    "\n",
    "df1,df3"
   ]
  },
  {
   "cell_type": "code",
   "execution_count": 83,
   "id": "f76f5a97",
   "metadata": {},
   "outputs": [
    {
     "data": {
      "application/vnd.microsoft.datawrangler.viewer.v0+json": {
       "columns": [
        {
         "name": "index",
         "rawType": "int64",
         "type": "integer"
        },
        {
         "name": "FellowshipID",
         "rawType": "int64",
         "type": "integer"
        },
        {
         "name": "FirstName_x",
         "rawType": "object",
         "type": "string"
        },
        {
         "name": "Skills",
         "rawType": "object",
         "type": "string"
        },
        {
         "name": "ID",
         "rawType": "int64",
         "type": "integer"
        },
        {
         "name": "FirstName_y",
         "rawType": "object",
         "type": "string"
        },
        {
         "name": "Age",
         "rawType": "int64",
         "type": "integer"
        }
       ],
       "conversionMethod": "pd.DataFrame",
       "ref": "792966ab-adee-4ddd-bc94-22947996138c",
       "rows": [
        [
         "0",
         "1001",
         "Frodo",
         "Hiding",
         "1001",
         "Frodo",
         "50"
        ],
        [
         "1",
         "1002",
         "Samwise",
         "Gardening",
         "1002",
         "Samwise",
         "39"
        ]
       ],
       "shape": {
        "columns": 6,
        "rows": 2
       }
      },
      "text/html": [
       "<div>\n",
       "<style scoped>\n",
       "    .dataframe tbody tr th:only-of-type {\n",
       "        vertical-align: middle;\n",
       "    }\n",
       "\n",
       "    .dataframe tbody tr th {\n",
       "        vertical-align: top;\n",
       "    }\n",
       "\n",
       "    .dataframe thead th {\n",
       "        text-align: right;\n",
       "    }\n",
       "</style>\n",
       "<table border=\"1\" class=\"dataframe\">\n",
       "  <thead>\n",
       "    <tr style=\"text-align: right;\">\n",
       "      <th></th>\n",
       "      <th>FellowshipID</th>\n",
       "      <th>FirstName_x</th>\n",
       "      <th>Skills</th>\n",
       "      <th>ID</th>\n",
       "      <th>FirstName_y</th>\n",
       "      <th>Age</th>\n",
       "    </tr>\n",
       "  </thead>\n",
       "  <tbody>\n",
       "    <tr>\n",
       "      <th>0</th>\n",
       "      <td>1001</td>\n",
       "      <td>Frodo</td>\n",
       "      <td>Hiding</td>\n",
       "      <td>1001</td>\n",
       "      <td>Frodo</td>\n",
       "      <td>50</td>\n",
       "    </tr>\n",
       "    <tr>\n",
       "      <th>1</th>\n",
       "      <td>1002</td>\n",
       "      <td>Samwise</td>\n",
       "      <td>Gardening</td>\n",
       "      <td>1002</td>\n",
       "      <td>Samwise</td>\n",
       "      <td>39</td>\n",
       "    </tr>\n",
       "  </tbody>\n",
       "</table>\n",
       "</div>"
      ],
      "text/plain": [
       "   FellowshipID FirstName_x     Skills    ID FirstName_y  Age\n",
       "0          1001       Frodo     Hiding  1001       Frodo   50\n",
       "1          1002     Samwise  Gardening  1002     Samwise   39"
      ]
     },
     "execution_count": 83,
     "metadata": {},
     "output_type": "execute_result"
    }
   ],
   "source": [
    "# Now, first see the problem that here we can see:\n",
    "# - we wanna join df1,df3\n",
    "# - but the problem is the column names(the columns that we want to join on) are not same, df1 has column name `FellowshipID` and df3 has column name `ID`\n",
    "# - but we know that FellowshipID is same as ID, and basically we want to join dfs on those, here's how we can\n",
    "\n",
    "\"\"\" now see what pandas does here is: it takes `FellowshipID` from df1 and `ID` from df3, and when it sees `FellowshipID` for each row in df1, it will see `ID` \n",
    "in df3, it will match in `ID` column, if those columns value match for that particular row, then it will connect those rows, otherwise not\"\"\" \n",
    "df1.merge(df3, left_on='FellowshipID', right_on='ID')"
   ]
  },
  {
   "cell_type": "code",
   "execution_count": null,
   "id": "77cb4a19",
   "metadata": {},
   "outputs": [
    {
     "data": {
      "application/vnd.microsoft.datawrangler.viewer.v0+json": {
       "columns": [
        {
         "name": "index",
         "rawType": "int64",
         "type": "integer"
        },
        {
         "name": "FellowshipID_x",
         "rawType": "int64",
         "type": "integer"
        },
        {
         "name": "FirstName_x",
         "rawType": "object",
         "type": "string"
        },
        {
         "name": "Skills",
         "rawType": "object",
         "type": "string"
        },
        {
         "name": "FellowshipID_y",
         "rawType": "int64",
         "type": "integer"
        },
        {
         "name": "FirstName_y",
         "rawType": "object",
         "type": "string"
        },
        {
         "name": "Age",
         "rawType": "int64",
         "type": "integer"
        }
       ],
       "conversionMethod": "pd.DataFrame",
       "ref": "48d47352-bb1a-4f10-aca8-ee60401600a4",
       "rows": [
        [
         "0",
         "1001",
         "Frodo",
         "Hiding",
         "1001",
         "Frodo",
         "50"
        ],
        [
         "1",
         "1002",
         "Samwise",
         "Gardening",
         "1002",
         "Samwise",
         "39"
        ],
        [
         "2",
         "1003",
         "Gandalf",
         "Spells",
         "1006",
         "Legolas",
         "2931"
        ],
        [
         "3",
         "1004",
         "Pippin",
         "Fireworks",
         "1007",
         "Elrond",
         "6520"
        ]
       ],
       "shape": {
        "columns": 6,
        "rows": 4
       }
      },
      "text/html": [
       "<div>\n",
       "<style scoped>\n",
       "    .dataframe tbody tr th:only-of-type {\n",
       "        vertical-align: middle;\n",
       "    }\n",
       "\n",
       "    .dataframe tbody tr th {\n",
       "        vertical-align: top;\n",
       "    }\n",
       "\n",
       "    .dataframe thead th {\n",
       "        text-align: right;\n",
       "    }\n",
       "</style>\n",
       "<table border=\"1\" class=\"dataframe\">\n",
       "  <thead>\n",
       "    <tr style=\"text-align: right;\">\n",
       "      <th></th>\n",
       "      <th>FellowshipID_x</th>\n",
       "      <th>FirstName_x</th>\n",
       "      <th>Skills</th>\n",
       "      <th>FellowshipID_y</th>\n",
       "      <th>FirstName_y</th>\n",
       "      <th>Age</th>\n",
       "    </tr>\n",
       "  </thead>\n",
       "  <tbody>\n",
       "    <tr>\n",
       "      <th>0</th>\n",
       "      <td>1001</td>\n",
       "      <td>Frodo</td>\n",
       "      <td>Hiding</td>\n",
       "      <td>1001</td>\n",
       "      <td>Frodo</td>\n",
       "      <td>50</td>\n",
       "    </tr>\n",
       "    <tr>\n",
       "      <th>1</th>\n",
       "      <td>1002</td>\n",
       "      <td>Samwise</td>\n",
       "      <td>Gardening</td>\n",
       "      <td>1002</td>\n",
       "      <td>Samwise</td>\n",
       "      <td>39</td>\n",
       "    </tr>\n",
       "    <tr>\n",
       "      <th>2</th>\n",
       "      <td>1003</td>\n",
       "      <td>Gandalf</td>\n",
       "      <td>Spells</td>\n",
       "      <td>1006</td>\n",
       "      <td>Legolas</td>\n",
       "      <td>2931</td>\n",
       "    </tr>\n",
       "    <tr>\n",
       "      <th>3</th>\n",
       "      <td>1004</td>\n",
       "      <td>Pippin</td>\n",
       "      <td>Fireworks</td>\n",
       "      <td>1007</td>\n",
       "      <td>Elrond</td>\n",
       "      <td>6520</td>\n",
       "    </tr>\n",
       "  </tbody>\n",
       "</table>\n",
       "</div>"
      ],
      "text/plain": [
       "   FellowshipID_x FirstName_x     Skills  FellowshipID_y FirstName_y   Age\n",
       "0            1001       Frodo     Hiding            1001       Frodo    50\n",
       "1            1002     Samwise  Gardening            1002     Samwise    39\n",
       "2            1003     Gandalf     Spells            1006     Legolas  2931\n",
       "3            1004      Pippin  Fireworks            1007      Elrond  6520"
      ]
     },
     "execution_count": 113,
     "metadata": {},
     "output_type": "execute_result"
    }
   ],
   "source": [
    "# so what index params does is: it takes index of df1 and df2 and connects them on axis=1\n",
    "df1.merge(df2, left_index=True, right_index=True)"
   ]
  },
  {
   "cell_type": "markdown",
   "id": "5c8d3bb6",
   "metadata": {},
   "source": [
    "# Join method"
   ]
  },
  {
   "cell_type": "code",
   "execution_count": null,
   "id": "d0b066cd",
   "metadata": {},
   "outputs": [
    {
     "data": {
      "text/plain": [
       "(   FellowshipID FirstName     Skills\n",
       " 0          1001     Frodo     Hiding\n",
       " 1          1002   Samwise  Gardening\n",
       " 2          1003   Gandalf     Spells\n",
       " 3          1004    Pippin  Fireworks,\n",
       "    FellowshipID FirstName   Age\n",
       " 0          1001     Frodo    50\n",
       " 1          1002   Samwise    39\n",
       " 2          1006   Legolas  2931\n",
       " 3          1007    Elrond  6520\n",
       " 4          1008  Barromir    51)"
      ]
     },
     "execution_count": 86,
     "metadata": {},
     "output_type": "execute_result"
    }
   ],
   "source": [
    "# join method used to merge dfs based on indexes\n",
    "df1,df2"
   ]
  },
  {
   "cell_type": "code",
   "execution_count": 104,
   "id": "d94df71d",
   "metadata": {},
   "outputs": [
    {
     "data": {
      "application/vnd.microsoft.datawrangler.viewer.v0+json": {
       "columns": [
        {
         "name": "FellowshipID",
         "rawType": "int64",
         "type": "integer"
        },
        {
         "name": "FirstName_left",
         "rawType": "object",
         "type": "string"
        },
        {
         "name": "Skills",
         "rawType": "object",
         "type": "string"
        },
        {
         "name": "FirstName_right",
         "rawType": "object",
         "type": "string"
        },
        {
         "name": "Age",
         "rawType": "int64",
         "type": "integer"
        }
       ],
       "conversionMethod": "pd.DataFrame",
       "ref": "9a2e0f96-c9e2-4c0b-95af-acf66c852472",
       "rows": [
        [
         "1001",
         "Frodo",
         "Hiding",
         "Frodo",
         "50"
        ],
        [
         "1002",
         "Samwise",
         "Gardening",
         "Samwise",
         "39"
        ]
       ],
       "shape": {
        "columns": 4,
        "rows": 2
       }
      },
      "text/html": [
       "<div>\n",
       "<style scoped>\n",
       "    .dataframe tbody tr th:only-of-type {\n",
       "        vertical-align: middle;\n",
       "    }\n",
       "\n",
       "    .dataframe tbody tr th {\n",
       "        vertical-align: top;\n",
       "    }\n",
       "\n",
       "    .dataframe thead th {\n",
       "        text-align: right;\n",
       "    }\n",
       "</style>\n",
       "<table border=\"1\" class=\"dataframe\">\n",
       "  <thead>\n",
       "    <tr style=\"text-align: right;\">\n",
       "      <th></th>\n",
       "      <th>FirstName_left</th>\n",
       "      <th>Skills</th>\n",
       "      <th>FirstName_right</th>\n",
       "      <th>Age</th>\n",
       "    </tr>\n",
       "    <tr>\n",
       "      <th>FellowshipID</th>\n",
       "      <th></th>\n",
       "      <th></th>\n",
       "      <th></th>\n",
       "      <th></th>\n",
       "    </tr>\n",
       "  </thead>\n",
       "  <tbody>\n",
       "    <tr>\n",
       "      <th>1001</th>\n",
       "      <td>Frodo</td>\n",
       "      <td>Hiding</td>\n",
       "      <td>Frodo</td>\n",
       "      <td>50</td>\n",
       "    </tr>\n",
       "    <tr>\n",
       "      <th>1002</th>\n",
       "      <td>Samwise</td>\n",
       "      <td>Gardening</td>\n",
       "      <td>Samwise</td>\n",
       "      <td>39</td>\n",
       "    </tr>\n",
       "  </tbody>\n",
       "</table>\n",
       "</div>"
      ],
      "text/plain": [
       "             FirstName_left     Skills FirstName_right  Age\n",
       "FellowshipID                                               \n",
       "1001                  Frodo     Hiding           Frodo   50\n",
       "1002                Samwise  Gardening         Samwise   39"
      ]
     },
     "execution_count": 104,
     "metadata": {},
     "output_type": "execute_result"
    }
   ],
   "source": [
    "df1.set_index('FellowshipID').join(df2.set_index('FellowshipID'), lsuffix='_left', rsuffix='_right',how='inner')"
   ]
  },
  {
   "cell_type": "code",
   "execution_count": 106,
   "id": "32587252",
   "metadata": {},
   "outputs": [
    {
     "data": {
      "application/vnd.microsoft.datawrangler.viewer.v0+json": {
       "columns": [
        {
         "name": "FellowshipID",
         "rawType": "int64",
         "type": "integer"
        },
        {
         "name": "FirstName_left",
         "rawType": "object",
         "type": "unknown"
        },
        {
         "name": "Skills",
         "rawType": "object",
         "type": "unknown"
        },
        {
         "name": "FirstName_right",
         "rawType": "object",
         "type": "string"
        },
        {
         "name": "Age",
         "rawType": "int64",
         "type": "integer"
        }
       ],
       "conversionMethod": "pd.DataFrame",
       "ref": "a88228d7-b1c5-47b3-babe-67e46b66a81f",
       "rows": [
        [
         "1001",
         "Frodo",
         "Hiding",
         "Frodo",
         "50"
        ],
        [
         "1002",
         "Samwise",
         "Gardening",
         "Samwise",
         "39"
        ],
        [
         "1006",
         null,
         null,
         "Legolas",
         "2931"
        ],
        [
         "1007",
         null,
         null,
         "Elrond",
         "6520"
        ],
        [
         "1008",
         null,
         null,
         "Barromir",
         "51"
        ]
       ],
       "shape": {
        "columns": 4,
        "rows": 5
       }
      },
      "text/html": [
       "<div>\n",
       "<style scoped>\n",
       "    .dataframe tbody tr th:only-of-type {\n",
       "        vertical-align: middle;\n",
       "    }\n",
       "\n",
       "    .dataframe tbody tr th {\n",
       "        vertical-align: top;\n",
       "    }\n",
       "\n",
       "    .dataframe thead th {\n",
       "        text-align: right;\n",
       "    }\n",
       "</style>\n",
       "<table border=\"1\" class=\"dataframe\">\n",
       "  <thead>\n",
       "    <tr style=\"text-align: right;\">\n",
       "      <th></th>\n",
       "      <th>FirstName_left</th>\n",
       "      <th>Skills</th>\n",
       "      <th>FirstName_right</th>\n",
       "      <th>Age</th>\n",
       "    </tr>\n",
       "    <tr>\n",
       "      <th>FellowshipID</th>\n",
       "      <th></th>\n",
       "      <th></th>\n",
       "      <th></th>\n",
       "      <th></th>\n",
       "    </tr>\n",
       "  </thead>\n",
       "  <tbody>\n",
       "    <tr>\n",
       "      <th>1001</th>\n",
       "      <td>Frodo</td>\n",
       "      <td>Hiding</td>\n",
       "      <td>Frodo</td>\n",
       "      <td>50</td>\n",
       "    </tr>\n",
       "    <tr>\n",
       "      <th>1002</th>\n",
       "      <td>Samwise</td>\n",
       "      <td>Gardening</td>\n",
       "      <td>Samwise</td>\n",
       "      <td>39</td>\n",
       "    </tr>\n",
       "    <tr>\n",
       "      <th>1006</th>\n",
       "      <td>NaN</td>\n",
       "      <td>NaN</td>\n",
       "      <td>Legolas</td>\n",
       "      <td>2931</td>\n",
       "    </tr>\n",
       "    <tr>\n",
       "      <th>1007</th>\n",
       "      <td>NaN</td>\n",
       "      <td>NaN</td>\n",
       "      <td>Elrond</td>\n",
       "      <td>6520</td>\n",
       "    </tr>\n",
       "    <tr>\n",
       "      <th>1008</th>\n",
       "      <td>NaN</td>\n",
       "      <td>NaN</td>\n",
       "      <td>Barromir</td>\n",
       "      <td>51</td>\n",
       "    </tr>\n",
       "  </tbody>\n",
       "</table>\n",
       "</div>"
      ],
      "text/plain": [
       "             FirstName_left     Skills FirstName_right   Age\n",
       "FellowshipID                                                \n",
       "1001                  Frodo     Hiding           Frodo    50\n",
       "1002                Samwise  Gardening         Samwise    39\n",
       "1006                    NaN        NaN         Legolas  2931\n",
       "1007                    NaN        NaN          Elrond  6520\n",
       "1008                    NaN        NaN        Barromir    51"
      ]
     },
     "execution_count": 106,
     "metadata": {},
     "output_type": "execute_result"
    }
   ],
   "source": [
    "df1.set_index('FellowshipID').join(df2.set_index('FellowshipID'), lsuffix='_left', rsuffix='_right',how='right')\n"
   ]
  },
  {
   "cell_type": "code",
   "execution_count": 88,
   "id": "c1a4b927",
   "metadata": {},
   "outputs": [
    {
     "data": {
      "application/vnd.microsoft.datawrangler.viewer.v0+json": {
       "columns": [
        {
         "name": "index",
         "rawType": "int64",
         "type": "integer"
        },
        {
         "name": "FellowshipID",
         "rawType": "int64",
         "type": "integer"
        },
        {
         "name": "FirstName",
         "rawType": "object",
         "type": "string"
        },
        {
         "name": "Skills",
         "rawType": "object",
         "type": "unknown"
        },
        {
         "name": "Age",
         "rawType": "float64",
         "type": "float"
        }
       ],
       "conversionMethod": "pd.DataFrame",
       "ref": "68e92b5e-84ca-45ce-bb21-d9e696425962",
       "rows": [
        [
         "0",
         "1001",
         "Frodo",
         "Hiding",
         null
        ],
        [
         "1",
         "1002",
         "Samwise",
         "Gardening",
         null
        ],
        [
         "2",
         "1003",
         "Gandalf",
         "Spells",
         null
        ],
        [
         "3",
         "1004",
         "Pippin",
         "Fireworks",
         null
        ],
        [
         "0",
         "1001",
         "Frodo",
         null,
         "50.0"
        ],
        [
         "1",
         "1002",
         "Samwise",
         null,
         "39.0"
        ],
        [
         "2",
         "1006",
         "Legolas",
         null,
         "2931.0"
        ],
        [
         "3",
         "1007",
         "Elrond",
         null,
         "6520.0"
        ],
        [
         "4",
         "1008",
         "Barromir",
         null,
         "51.0"
        ]
       ],
       "shape": {
        "columns": 4,
        "rows": 9
       }
      },
      "text/html": [
       "<div>\n",
       "<style scoped>\n",
       "    .dataframe tbody tr th:only-of-type {\n",
       "        vertical-align: middle;\n",
       "    }\n",
       "\n",
       "    .dataframe tbody tr th {\n",
       "        vertical-align: top;\n",
       "    }\n",
       "\n",
       "    .dataframe thead th {\n",
       "        text-align: right;\n",
       "    }\n",
       "</style>\n",
       "<table border=\"1\" class=\"dataframe\">\n",
       "  <thead>\n",
       "    <tr style=\"text-align: right;\">\n",
       "      <th></th>\n",
       "      <th>FellowshipID</th>\n",
       "      <th>FirstName</th>\n",
       "      <th>Skills</th>\n",
       "      <th>Age</th>\n",
       "    </tr>\n",
       "  </thead>\n",
       "  <tbody>\n",
       "    <tr>\n",
       "      <th>0</th>\n",
       "      <td>1001</td>\n",
       "      <td>Frodo</td>\n",
       "      <td>Hiding</td>\n",
       "      <td>NaN</td>\n",
       "    </tr>\n",
       "    <tr>\n",
       "      <th>1</th>\n",
       "      <td>1002</td>\n",
       "      <td>Samwise</td>\n",
       "      <td>Gardening</td>\n",
       "      <td>NaN</td>\n",
       "    </tr>\n",
       "    <tr>\n",
       "      <th>2</th>\n",
       "      <td>1003</td>\n",
       "      <td>Gandalf</td>\n",
       "      <td>Spells</td>\n",
       "      <td>NaN</td>\n",
       "    </tr>\n",
       "    <tr>\n",
       "      <th>3</th>\n",
       "      <td>1004</td>\n",
       "      <td>Pippin</td>\n",
       "      <td>Fireworks</td>\n",
       "      <td>NaN</td>\n",
       "    </tr>\n",
       "    <tr>\n",
       "      <th>0</th>\n",
       "      <td>1001</td>\n",
       "      <td>Frodo</td>\n",
       "      <td>NaN</td>\n",
       "      <td>50.0</td>\n",
       "    </tr>\n",
       "    <tr>\n",
       "      <th>1</th>\n",
       "      <td>1002</td>\n",
       "      <td>Samwise</td>\n",
       "      <td>NaN</td>\n",
       "      <td>39.0</td>\n",
       "    </tr>\n",
       "    <tr>\n",
       "      <th>2</th>\n",
       "      <td>1006</td>\n",
       "      <td>Legolas</td>\n",
       "      <td>NaN</td>\n",
       "      <td>2931.0</td>\n",
       "    </tr>\n",
       "    <tr>\n",
       "      <th>3</th>\n",
       "      <td>1007</td>\n",
       "      <td>Elrond</td>\n",
       "      <td>NaN</td>\n",
       "      <td>6520.0</td>\n",
       "    </tr>\n",
       "    <tr>\n",
       "      <th>4</th>\n",
       "      <td>1008</td>\n",
       "      <td>Barromir</td>\n",
       "      <td>NaN</td>\n",
       "      <td>51.0</td>\n",
       "    </tr>\n",
       "  </tbody>\n",
       "</table>\n",
       "</div>"
      ],
      "text/plain": [
       "   FellowshipID FirstName     Skills     Age\n",
       "0          1001     Frodo     Hiding     NaN\n",
       "1          1002   Samwise  Gardening     NaN\n",
       "2          1003   Gandalf     Spells     NaN\n",
       "3          1004    Pippin  Fireworks     NaN\n",
       "0          1001     Frodo        NaN    50.0\n",
       "1          1002   Samwise        NaN    39.0\n",
       "2          1006   Legolas        NaN  2931.0\n",
       "3          1007    Elrond        NaN  6520.0\n",
       "4          1008  Barromir        NaN    51.0"
      ]
     },
     "execution_count": 88,
     "metadata": {},
     "output_type": "execute_result"
    }
   ],
   "source": [
    "# concat -> https://youtu.be/TPivN7tpdwc?si=IXcOejL74WH3y2Ln&t=1087\n",
    "\n",
    "# it gonna takes fist df and will put it on top of another df, you can change axis, but by default axis=0, that's why it kind of stack on top of each other\n",
    "pd.concat([df1,df2])"
   ]
  },
  {
   "cell_type": "code",
   "execution_count": 89,
   "id": "c842d908",
   "metadata": {},
   "outputs": [
    {
     "data": {
      "application/vnd.microsoft.datawrangler.viewer.v0+json": {
       "columns": [
        {
         "name": "index",
         "rawType": "int64",
         "type": "integer"
        },
        {
         "name": "FellowshipID",
         "rawType": "float64",
         "type": "float"
        },
        {
         "name": "FirstName",
         "rawType": "object",
         "type": "unknown"
        },
        {
         "name": "Skills",
         "rawType": "object",
         "type": "unknown"
        },
        {
         "name": "FellowshipID",
         "rawType": "int64",
         "type": "integer"
        },
        {
         "name": "FirstName",
         "rawType": "object",
         "type": "string"
        },
        {
         "name": "Age",
         "rawType": "int64",
         "type": "integer"
        }
       ],
       "conversionMethod": "pd.DataFrame",
       "ref": "48ff4d68-ee39-4525-8a71-ab0c0beb67f5",
       "rows": [
        [
         "0",
         "1001.0",
         "Frodo",
         "Hiding",
         "1001",
         "Frodo",
         "50"
        ],
        [
         "1",
         "1002.0",
         "Samwise",
         "Gardening",
         "1002",
         "Samwise",
         "39"
        ],
        [
         "2",
         "1003.0",
         "Gandalf",
         "Spells",
         "1006",
         "Legolas",
         "2931"
        ],
        [
         "3",
         "1004.0",
         "Pippin",
         "Fireworks",
         "1007",
         "Elrond",
         "6520"
        ],
        [
         "4",
         null,
         null,
         null,
         "1008",
         "Barromir",
         "51"
        ]
       ],
       "shape": {
        "columns": 6,
        "rows": 5
       }
      },
      "text/html": [
       "<div>\n",
       "<style scoped>\n",
       "    .dataframe tbody tr th:only-of-type {\n",
       "        vertical-align: middle;\n",
       "    }\n",
       "\n",
       "    .dataframe tbody tr th {\n",
       "        vertical-align: top;\n",
       "    }\n",
       "\n",
       "    .dataframe thead th {\n",
       "        text-align: right;\n",
       "    }\n",
       "</style>\n",
       "<table border=\"1\" class=\"dataframe\">\n",
       "  <thead>\n",
       "    <tr style=\"text-align: right;\">\n",
       "      <th></th>\n",
       "      <th>FellowshipID</th>\n",
       "      <th>FirstName</th>\n",
       "      <th>Skills</th>\n",
       "      <th>FellowshipID</th>\n",
       "      <th>FirstName</th>\n",
       "      <th>Age</th>\n",
       "    </tr>\n",
       "  </thead>\n",
       "  <tbody>\n",
       "    <tr>\n",
       "      <th>0</th>\n",
       "      <td>1001.0</td>\n",
       "      <td>Frodo</td>\n",
       "      <td>Hiding</td>\n",
       "      <td>1001</td>\n",
       "      <td>Frodo</td>\n",
       "      <td>50</td>\n",
       "    </tr>\n",
       "    <tr>\n",
       "      <th>1</th>\n",
       "      <td>1002.0</td>\n",
       "      <td>Samwise</td>\n",
       "      <td>Gardening</td>\n",
       "      <td>1002</td>\n",
       "      <td>Samwise</td>\n",
       "      <td>39</td>\n",
       "    </tr>\n",
       "    <tr>\n",
       "      <th>2</th>\n",
       "      <td>1003.0</td>\n",
       "      <td>Gandalf</td>\n",
       "      <td>Spells</td>\n",
       "      <td>1006</td>\n",
       "      <td>Legolas</td>\n",
       "      <td>2931</td>\n",
       "    </tr>\n",
       "    <tr>\n",
       "      <th>3</th>\n",
       "      <td>1004.0</td>\n",
       "      <td>Pippin</td>\n",
       "      <td>Fireworks</td>\n",
       "      <td>1007</td>\n",
       "      <td>Elrond</td>\n",
       "      <td>6520</td>\n",
       "    </tr>\n",
       "    <tr>\n",
       "      <th>4</th>\n",
       "      <td>NaN</td>\n",
       "      <td>NaN</td>\n",
       "      <td>NaN</td>\n",
       "      <td>1008</td>\n",
       "      <td>Barromir</td>\n",
       "      <td>51</td>\n",
       "    </tr>\n",
       "  </tbody>\n",
       "</table>\n",
       "</div>"
      ],
      "text/plain": [
       "   FellowshipID FirstName     Skills  FellowshipID FirstName   Age\n",
       "0        1001.0     Frodo     Hiding          1001     Frodo    50\n",
       "1        1002.0   Samwise  Gardening          1002   Samwise    39\n",
       "2        1003.0   Gandalf     Spells          1006   Legolas  2931\n",
       "3        1004.0    Pippin  Fireworks          1007    Elrond  6520\n",
       "4           NaN       NaN        NaN          1008  Barromir    51"
      ]
     },
     "execution_count": 89,
     "metadata": {},
     "output_type": "execute_result"
    }
   ],
   "source": [
    "pd.concat([df1,df2], axis=1)"
   ]
  },
  {
   "cell_type": "code",
   "execution_count": null,
   "id": "b9630d8a",
   "metadata": {},
   "outputs": [
    {
     "data": {
      "application/vnd.microsoft.datawrangler.viewer.v0+json": {
       "columns": [
        {
         "name": "index",
         "rawType": "int64",
         "type": "integer"
        },
        {
         "name": "FellowshipID",
         "rawType": "int64",
         "type": "integer"
        },
        {
         "name": "FirstName",
         "rawType": "object",
         "type": "string"
        }
       ],
       "conversionMethod": "pd.DataFrame",
       "ref": "f2259076-0acb-4abb-a726-63c17535e1dc",
       "rows": [
        [
         "0",
         "1001",
         "Frodo"
        ],
        [
         "1",
         "1002",
         "Samwise"
        ],
        [
         "2",
         "1003",
         "Gandalf"
        ],
        [
         "3",
         "1004",
         "Pippin"
        ],
        [
         "0",
         "1001",
         "Frodo"
        ],
        [
         "1",
         "1002",
         "Samwise"
        ],
        [
         "2",
         "1006",
         "Legolas"
        ],
        [
         "3",
         "1007",
         "Elrond"
        ],
        [
         "4",
         "1008",
         "Barromir"
        ]
       ],
       "shape": {
        "columns": 2,
        "rows": 9
       }
      },
      "text/html": [
       "<div>\n",
       "<style scoped>\n",
       "    .dataframe tbody tr th:only-of-type {\n",
       "        vertical-align: middle;\n",
       "    }\n",
       "\n",
       "    .dataframe tbody tr th {\n",
       "        vertical-align: top;\n",
       "    }\n",
       "\n",
       "    .dataframe thead th {\n",
       "        text-align: right;\n",
       "    }\n",
       "</style>\n",
       "<table border=\"1\" class=\"dataframe\">\n",
       "  <thead>\n",
       "    <tr style=\"text-align: right;\">\n",
       "      <th></th>\n",
       "      <th>FellowshipID</th>\n",
       "      <th>FirstName</th>\n",
       "    </tr>\n",
       "  </thead>\n",
       "  <tbody>\n",
       "    <tr>\n",
       "      <th>0</th>\n",
       "      <td>1001</td>\n",
       "      <td>Frodo</td>\n",
       "    </tr>\n",
       "    <tr>\n",
       "      <th>1</th>\n",
       "      <td>1002</td>\n",
       "      <td>Samwise</td>\n",
       "    </tr>\n",
       "    <tr>\n",
       "      <th>2</th>\n",
       "      <td>1003</td>\n",
       "      <td>Gandalf</td>\n",
       "    </tr>\n",
       "    <tr>\n",
       "      <th>3</th>\n",
       "      <td>1004</td>\n",
       "      <td>Pippin</td>\n",
       "    </tr>\n",
       "    <tr>\n",
       "      <th>0</th>\n",
       "      <td>1001</td>\n",
       "      <td>Frodo</td>\n",
       "    </tr>\n",
       "    <tr>\n",
       "      <th>1</th>\n",
       "      <td>1002</td>\n",
       "      <td>Samwise</td>\n",
       "    </tr>\n",
       "    <tr>\n",
       "      <th>2</th>\n",
       "      <td>1006</td>\n",
       "      <td>Legolas</td>\n",
       "    </tr>\n",
       "    <tr>\n",
       "      <th>3</th>\n",
       "      <td>1007</td>\n",
       "      <td>Elrond</td>\n",
       "    </tr>\n",
       "    <tr>\n",
       "      <th>4</th>\n",
       "      <td>1008</td>\n",
       "      <td>Barromir</td>\n",
       "    </tr>\n",
       "  </tbody>\n",
       "</table>\n",
       "</div>"
      ],
      "text/plain": [
       "   FellowshipID FirstName\n",
       "0          1001     Frodo\n",
       "1          1002   Samwise\n",
       "2          1003   Gandalf\n",
       "3          1004    Pippin\n",
       "0          1001     Frodo\n",
       "1          1002   Samwise\n",
       "2          1006   Legolas\n",
       "3          1007    Elrond\n",
       "4          1008  Barromir"
      ]
     },
     "execution_count": 110,
     "metadata": {},
     "output_type": "execute_result"
    }
   ],
   "source": [
    "# `join` param -> https://youtu.be/TPivN7tpdwc?si=eoX9Kpiol7ykTzWF&t=1177\n",
    "\n",
    "\"\"\" \n",
    "by default it's outer, basically what `join` param does, that we can specify inner, and then it will take those columns only that common in both dataframes in resultant df\n",
    "\"\"\"\n",
    "\n",
    "# `ignore_index`, to ignore original index, and give new indexes \n",
    "pd.concat([df1,df2], join='inner')\n"
   ]
  }
 ],
 "metadata": {
  "kernelspec": {
   "display_name": "Python 3",
   "language": "python",
   "name": "python3"
  },
  "language_info": {
   "codemirror_mode": {
    "name": "ipython",
    "version": 3
   },
   "file_extension": ".py",
   "mimetype": "text/x-python",
   "name": "python",
   "nbconvert_exporter": "python",
   "pygments_lexer": "ipython3",
   "version": "3.13.2"
  }
 },
 "nbformat": 4,
 "nbformat_minor": 5
}
