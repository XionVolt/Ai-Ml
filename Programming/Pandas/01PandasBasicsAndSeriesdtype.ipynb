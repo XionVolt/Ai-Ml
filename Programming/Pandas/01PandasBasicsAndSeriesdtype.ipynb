{
 "cells": [
  {
   "cell_type": "markdown",
   "id": "640d1bc8",
   "metadata": {},
   "source": [
    "[What is Pandas](https://www.youtube.com/live/zCDVUyq8lkw?si=5PU7SsP9Q7HRQxuF&t=557)"
   ]
  },
  {
   "cell_type": "markdown",
   "id": "01c47504",
   "metadata": {},
   "source": [
    "***Series and DataFrame are two prominent data structures in pandas***\n",
    "\n",
    "[Pandas Series explained](https://www.youtube.com/live/zCDVUyq8lkw?si=otnRlAXbsMqv4rUd&t=711) "
   ]
  },
  {
   "cell_type": "code",
   "execution_count": 2,
   "id": "8af3cc3c",
   "metadata": {},
   "outputs": [
    {
     "data": {
      "text/plain": [
       "0    a\n",
       "1    b\n",
       "2    c\n",
       "dtype: object"
      ]
     },
     "execution_count": 2,
     "metadata": {},
     "output_type": "execute_result"
    }
   ],
   "source": [
    "import numpy as np\n",
    "import pandas as pd\n",
    "\n",
    "# creating pandas series, and see the video for explanation -> https://www.youtube.com/live/zCDVUyq8lkw?si=tFNlGmNIANJ6RIeO&t=897\n",
    "\n",
    "# string type series\n",
    "labels = ['a', 'b', 'c']\n",
    "pd.Series(data=labels)"
   ]
  },
  {
   "cell_type": "code",
   "execution_count": 3,
   "id": "6b50a33f",
   "metadata": {},
   "outputs": [
    {
     "data": {
      "text/plain": [
       "0    100\n",
       "1    200\n",
       "2    300\n",
       "dtype: int64"
      ]
     },
     "execution_count": 3,
     "metadata": {},
     "output_type": "execute_result"
    }
   ],
   "source": [
    "# integer type series\n",
    "my_list = np.arange(100,301,100)\n",
    "pd.Series(data=my_list)"
   ]
  },
  {
   "cell_type": "code",
   "execution_count": 4,
   "id": "c7479662",
   "metadata": {},
   "outputs": [
    {
     "data": {
      "text/plain": [
       "first     Python\n",
       "second        JS\n",
       "third        C++\n",
       "fourth         C\n",
       "dtype: object"
      ]
     },
     "execution_count": 4,
     "metadata": {},
     "output_type": "execute_result"
    }
   ],
   "source": [
    "# custom index\n",
    "\n",
    "languages = ['Python', 'JS', 'C++','C']\n",
    "pd.Series(data=languages, index=['first', 'second', 'third', 'fourth'])"
   ]
  },
  {
   "cell_type": "code",
   "execution_count": 5,
   "id": "dcf8db5c",
   "metadata": {},
   "outputs": [
    {
     "data": {
      "text/plain": [
       "first     Python\n",
       "second        JS\n",
       "third        C++\n",
       "fourth         C\n",
       "Name: Programming Languages, dtype: object"
      ]
     },
     "execution_count": 5,
     "metadata": {},
     "output_type": "execute_result"
    }
   ],
   "source": [
    "# setting a name a series object, then refer it by that name\n",
    "\n",
    "langs = pd.Series(data=languages, index=['first', 'second', 'third', 'fourth'],name='Programming Languages')\n",
    "langs"
   ]
  },
  {
   "cell_type": "markdown",
   "id": "b88c36b8",
   "metadata": {},
   "source": [
    "[Name your columns , if data have not column names, with `name` parameter of `pd.read_csv`](https://youtu.be/a_XrmKlaGTs?si=wbGmZLBu0LoU_CK5&t=727)"
   ]
  },
  {
   "cell_type": "markdown",
   "id": "0e74474f",
   "metadata": {},
   "source": [
    "## Series From dict "
   ]
  },
  {
   "cell_type": "code",
   "execution_count": 6,
   "id": "a40bfb84",
   "metadata": {},
   "outputs": [
    {
     "data": {
      "text/plain": [
       "first         JS\n",
       "second    Python\n",
       "third        C++\n",
       "fourth         C\n",
       "dtype: object"
      ]
     },
     "execution_count": 6,
     "metadata": {},
     "output_type": "execute_result"
    }
   ],
   "source": [
    "programming_languages = {\n",
    "    'first': 'JS',\n",
    "    'second': 'Python',\n",
    "    'third': 'C++',\n",
    "    'fourth': 'C'\n",
    "}\n",
    "\n",
    "pd.Series(programming_languages) # so key becomes index and values becomes data\n"
   ]
  },
  {
   "cell_type": "markdown",
   "id": "d3e24e87",
   "metadata": {},
   "source": [
    "## Series Attributes"
   ]
  },
  {
   "cell_type": "code",
   "execution_count": 7,
   "id": "8c4bf3c8",
   "metadata": {},
   "outputs": [
    {
     "data": {
      "text/plain": [
       "first     Python\n",
       "second        JS\n",
       "third        C++\n",
       "fourth         C\n",
       "Name: Programming Languages, dtype: object"
      ]
     },
     "execution_count": 7,
     "metadata": {},
     "output_type": "execute_result"
    }
   ],
   "source": [
    "langs "
   ]
  },
  {
   "cell_type": "code",
   "execution_count": 8,
   "id": "04bd2446",
   "metadata": {},
   "outputs": [
    {
     "data": {
      "text/plain": [
       "4"
      ]
     },
     "execution_count": 8,
     "metadata": {},
     "output_type": "execute_result"
    }
   ],
   "source": [
    "# size, number of items in the series\n",
    "langs.size"
   ]
  },
  {
   "cell_type": "code",
   "execution_count": 9,
   "id": "c4d42cad",
   "metadata": {},
   "outputs": [
    {
     "data": {
      "text/plain": [
       "dtype('O')"
      ]
     },
     "execution_count": 9,
     "metadata": {},
     "output_type": "execute_result"
    }
   ],
   "source": [
    "# dtype\n",
    "langs.dtype"
   ]
  },
  {
   "cell_type": "code",
   "execution_count": 10,
   "id": "30afc31e",
   "metadata": {},
   "outputs": [
    {
     "data": {
      "text/plain": [
       "'Programming Languages'"
      ]
     },
     "execution_count": 10,
     "metadata": {},
     "output_type": "execute_result"
    }
   ],
   "source": [
    "# name\n",
    "langs.name"
   ]
  },
  {
   "cell_type": "code",
   "execution_count": 11,
   "id": "f16d23ea",
   "metadata": {},
   "outputs": [
    {
     "data": {
      "text/plain": [
       "True"
      ]
     },
     "execution_count": 11,
     "metadata": {},
     "output_type": "execute_result"
    }
   ],
   "source": [
    "# is_unique, tells if all values are unique\n",
    "langs.is_unique"
   ]
  },
  {
   "cell_type": "code",
   "execution_count": 12,
   "id": "455a455c",
   "metadata": {},
   "outputs": [
    {
     "data": {
      "text/plain": [
       "Index(['first', 'second', 'third', 'fourth'], dtype='object')"
      ]
     },
     "execution_count": 12,
     "metadata": {},
     "output_type": "execute_result"
    }
   ],
   "source": [
    "# index, for all index values\n",
    "langs.index"
   ]
  },
  {
   "cell_type": "code",
   "execution_count": 13,
   "id": "c7e0423c",
   "metadata": {},
   "outputs": [
    {
     "data": {
      "text/plain": [
       "array(['Python', 'JS', 'C++', 'C'], dtype=object)"
      ]
     },
     "execution_count": 13,
     "metadata": {},
     "output_type": "execute_result"
    }
   ],
   "source": [
    "# values, return numpy array of all values in the series\n",
    "langs.values"
   ]
  },
  {
   "cell_type": "markdown",
   "id": "f7a2c67c",
   "metadata": {},
   "source": [
    "## Series using `read_csv`"
   ]
  },
  {
   "cell_type": "code",
   "execution_count": 14,
   "id": "372e462b",
   "metadata": {},
   "outputs": [
    {
     "data": {
      "application/vnd.microsoft.datawrangler.viewer.v0+json": {
       "columns": [
        {
         "name": "index",
         "rawType": "int64",
         "type": "integer"
        },
        {
         "name": "Unnamed: 0",
         "rawType": "int64",
         "type": "integer"
        },
        {
         "name": "id",
         "rawType": "int64",
         "type": "integer"
        },
        {
         "name": "location_id",
         "rawType": "int64",
         "type": "integer"
        },
        {
         "name": "address_1",
         "rawType": "object",
         "type": "string"
        },
        {
         "name": "address_2",
         "rawType": "object",
         "type": "unknown"
        },
        {
         "name": "city",
         "rawType": "object",
         "type": "string"
        },
        {
         "name": "state_province",
         "rawType": "object",
         "type": "string"
        },
        {
         "name": "postal_code",
         "rawType": "object",
         "type": "string"
        },
        {
         "name": "country",
         "rawType": "object",
         "type": "string"
        }
       ],
       "conversionMethod": "pd.DataFrame",
       "ref": "006671d4-68a1-4692-ada1-f4fcb583c140",
       "rows": [
        [
         "0",
         "0",
         "1",
         "1",
         "2600 Middlefield Road",
         null,
         "Redwood City",
         "CA",
         "94063",
         "US"
        ],
        [
         "1",
         "1",
         "2",
         "2",
         "24 Second Avenue",
         null,
         "San Mateo",
         "CA",
         "94401",
         "US"
        ],
        [
         "2",
         "2",
         "3",
         "3",
         "24 Second Avenue",
         null,
         "San Mateo",
         "CA",
         "94403",
         "US"
        ],
        [
         "3",
         "3",
         "4",
         "4",
         "24 Second Avenue",
         null,
         "San Mateo",
         "CA",
         "94401",
         "US"
        ],
        [
         "4",
         "4",
         "5",
         "5",
         "24 Second Avenue",
         null,
         "San Mateo",
         "CA",
         "94401",
         "US"
        ],
        [
         "5",
         "5",
         "6",
         "6",
         "800 Middle Avenue",
         null,
         "Menlo Park",
         "CA",
         "94025-9881",
         "US"
        ],
        [
         "6",
         "6",
         "7",
         "7",
         "500 Arbor Road",
         null,
         "Menlo Park",
         "CA",
         "94025",
         "US"
        ],
        [
         "7",
         "7",
         "8",
         "8",
         "800 Middle Avenue",
         null,
         "Menlo Park",
         "CA",
         "94025-9881",
         "US"
        ],
        [
         "8",
         "8",
         "9",
         "9",
         "2510 Middlefield Road",
         null,
         "Redwood City",
         "CA",
         "94063",
         "US"
        ],
        [
         "9",
         "9",
         "10",
         "10",
         "1044 Middlefield Road",
         null,
         "Redwood City",
         "CA",
         "94063",
         "US"
        ],
        [
         "10",
         "10",
         "11",
         "11",
         "2140 Euclid Avenue.",
         null,
         "Redwood City",
         "CA",
         "94061",
         "US"
        ],
        [
         "11",
         "11",
         "12",
         "12",
         "1044 Middlefield Road",
         "2nd Floor",
         "Redwood City",
         "CA",
         "94063",
         "US"
        ],
        [
         "12",
         "12",
         "13",
         "13",
         "399 Marine Parkway.",
         null,
         "Redwood City",
         "CA",
         "94065",
         "US"
        ],
        [
         "13",
         "13",
         "14",
         "14",
         "660 Veterans Blvd.",
         null,
         "Redwood City",
         "CA",
         "94063",
         "US"
        ],
        [
         "14",
         "14",
         "15",
         "15",
         "1500 Valencia Street",
         null,
         "San Francisco",
         "CA",
         "94110",
         "US"
        ],
        [
         "15",
         "15",
         "16",
         "16",
         "1161 South Bernardo",
         null,
         "Sunnyvale",
         "CA",
         "94087",
         "US"
        ],
        [
         "16",
         "16",
         "17",
         "17",
         "409 South Spruce Avenue",
         null,
         "South San Francisco",
         "CA",
         "94080",
         "US"
        ],
        [
         "17",
         "17",
         "18",
         "18",
         "114 Fifth Avenue",
         null,
         "Redwood City",
         "CA",
         "94063",
         "US"
        ],
        [
         "18",
         "18",
         "19",
         "19",
         "19 West 39th Avenue",
         null,
         "San Mateo",
         "CA",
         "94403",
         "US"
        ],
        [
         "19",
         "19",
         "20",
         "21",
         "123 El Camino Real",
         null,
         "Belmont",
         "CA",
         "94002",
         "US"
        ],
        [
         "20",
         "20",
         "21",
         "22",
         "2013 Avenue of the fellows",
         "Suite 100",
         "San Francisco",
         "CA",
         "94103",
         "US"
        ]
       ],
       "shape": {
        "columns": 9,
        "rows": 21
       }
      },
      "text/html": [
       "<div>\n",
       "<style scoped>\n",
       "    .dataframe tbody tr th:only-of-type {\n",
       "        vertical-align: middle;\n",
       "    }\n",
       "\n",
       "    .dataframe tbody tr th {\n",
       "        vertical-align: top;\n",
       "    }\n",
       "\n",
       "    .dataframe thead th {\n",
       "        text-align: right;\n",
       "    }\n",
       "</style>\n",
       "<table border=\"1\" class=\"dataframe\">\n",
       "  <thead>\n",
       "    <tr style=\"text-align: right;\">\n",
       "      <th></th>\n",
       "      <th>Unnamed: 0</th>\n",
       "      <th>id</th>\n",
       "      <th>location_id</th>\n",
       "      <th>address_1</th>\n",
       "      <th>address_2</th>\n",
       "      <th>city</th>\n",
       "      <th>state_province</th>\n",
       "      <th>postal_code</th>\n",
       "      <th>country</th>\n",
       "    </tr>\n",
       "  </thead>\n",
       "  <tbody>\n",
       "    <tr>\n",
       "      <th>0</th>\n",
       "      <td>0</td>\n",
       "      <td>1</td>\n",
       "      <td>1</td>\n",
       "      <td>2600 Middlefield Road</td>\n",
       "      <td>NaN</td>\n",
       "      <td>Redwood City</td>\n",
       "      <td>CA</td>\n",
       "      <td>94063</td>\n",
       "      <td>US</td>\n",
       "    </tr>\n",
       "    <tr>\n",
       "      <th>1</th>\n",
       "      <td>1</td>\n",
       "      <td>2</td>\n",
       "      <td>2</td>\n",
       "      <td>24 Second Avenue</td>\n",
       "      <td>NaN</td>\n",
       "      <td>San Mateo</td>\n",
       "      <td>CA</td>\n",
       "      <td>94401</td>\n",
       "      <td>US</td>\n",
       "    </tr>\n",
       "    <tr>\n",
       "      <th>2</th>\n",
       "      <td>2</td>\n",
       "      <td>3</td>\n",
       "      <td>3</td>\n",
       "      <td>24 Second Avenue</td>\n",
       "      <td>NaN</td>\n",
       "      <td>San Mateo</td>\n",
       "      <td>CA</td>\n",
       "      <td>94403</td>\n",
       "      <td>US</td>\n",
       "    </tr>\n",
       "    <tr>\n",
       "      <th>3</th>\n",
       "      <td>3</td>\n",
       "      <td>4</td>\n",
       "      <td>4</td>\n",
       "      <td>24 Second Avenue</td>\n",
       "      <td>NaN</td>\n",
       "      <td>San Mateo</td>\n",
       "      <td>CA</td>\n",
       "      <td>94401</td>\n",
       "      <td>US</td>\n",
       "    </tr>\n",
       "    <tr>\n",
       "      <th>4</th>\n",
       "      <td>4</td>\n",
       "      <td>5</td>\n",
       "      <td>5</td>\n",
       "      <td>24 Second Avenue</td>\n",
       "      <td>NaN</td>\n",
       "      <td>San Mateo</td>\n",
       "      <td>CA</td>\n",
       "      <td>94401</td>\n",
       "      <td>US</td>\n",
       "    </tr>\n",
       "    <tr>\n",
       "      <th>5</th>\n",
       "      <td>5</td>\n",
       "      <td>6</td>\n",
       "      <td>6</td>\n",
       "      <td>800 Middle Avenue</td>\n",
       "      <td>NaN</td>\n",
       "      <td>Menlo Park</td>\n",
       "      <td>CA</td>\n",
       "      <td>94025-9881</td>\n",
       "      <td>US</td>\n",
       "    </tr>\n",
       "    <tr>\n",
       "      <th>6</th>\n",
       "      <td>6</td>\n",
       "      <td>7</td>\n",
       "      <td>7</td>\n",
       "      <td>500 Arbor Road</td>\n",
       "      <td>NaN</td>\n",
       "      <td>Menlo Park</td>\n",
       "      <td>CA</td>\n",
       "      <td>94025</td>\n",
       "      <td>US</td>\n",
       "    </tr>\n",
       "    <tr>\n",
       "      <th>7</th>\n",
       "      <td>7</td>\n",
       "      <td>8</td>\n",
       "      <td>8</td>\n",
       "      <td>800 Middle Avenue</td>\n",
       "      <td>NaN</td>\n",
       "      <td>Menlo Park</td>\n",
       "      <td>CA</td>\n",
       "      <td>94025-9881</td>\n",
       "      <td>US</td>\n",
       "    </tr>\n",
       "    <tr>\n",
       "      <th>8</th>\n",
       "      <td>8</td>\n",
       "      <td>9</td>\n",
       "      <td>9</td>\n",
       "      <td>2510 Middlefield Road</td>\n",
       "      <td>NaN</td>\n",
       "      <td>Redwood City</td>\n",
       "      <td>CA</td>\n",
       "      <td>94063</td>\n",
       "      <td>US</td>\n",
       "    </tr>\n",
       "    <tr>\n",
       "      <th>9</th>\n",
       "      <td>9</td>\n",
       "      <td>10</td>\n",
       "      <td>10</td>\n",
       "      <td>1044 Middlefield Road</td>\n",
       "      <td>NaN</td>\n",
       "      <td>Redwood City</td>\n",
       "      <td>CA</td>\n",
       "      <td>94063</td>\n",
       "      <td>US</td>\n",
       "    </tr>\n",
       "    <tr>\n",
       "      <th>10</th>\n",
       "      <td>10</td>\n",
       "      <td>11</td>\n",
       "      <td>11</td>\n",
       "      <td>2140 Euclid Avenue.</td>\n",
       "      <td>NaN</td>\n",
       "      <td>Redwood City</td>\n",
       "      <td>CA</td>\n",
       "      <td>94061</td>\n",
       "      <td>US</td>\n",
       "    </tr>\n",
       "    <tr>\n",
       "      <th>11</th>\n",
       "      <td>11</td>\n",
       "      <td>12</td>\n",
       "      <td>12</td>\n",
       "      <td>1044 Middlefield Road</td>\n",
       "      <td>2nd Floor</td>\n",
       "      <td>Redwood City</td>\n",
       "      <td>CA</td>\n",
       "      <td>94063</td>\n",
       "      <td>US</td>\n",
       "    </tr>\n",
       "    <tr>\n",
       "      <th>12</th>\n",
       "      <td>12</td>\n",
       "      <td>13</td>\n",
       "      <td>13</td>\n",
       "      <td>399 Marine Parkway.</td>\n",
       "      <td>NaN</td>\n",
       "      <td>Redwood City</td>\n",
       "      <td>CA</td>\n",
       "      <td>94065</td>\n",
       "      <td>US</td>\n",
       "    </tr>\n",
       "    <tr>\n",
       "      <th>13</th>\n",
       "      <td>13</td>\n",
       "      <td>14</td>\n",
       "      <td>14</td>\n",
       "      <td>660 Veterans Blvd.</td>\n",
       "      <td>NaN</td>\n",
       "      <td>Redwood City</td>\n",
       "      <td>CA</td>\n",
       "      <td>94063</td>\n",
       "      <td>US</td>\n",
       "    </tr>\n",
       "    <tr>\n",
       "      <th>14</th>\n",
       "      <td>14</td>\n",
       "      <td>15</td>\n",
       "      <td>15</td>\n",
       "      <td>1500 Valencia Street</td>\n",
       "      <td>NaN</td>\n",
       "      <td>San Francisco</td>\n",
       "      <td>CA</td>\n",
       "      <td>94110</td>\n",
       "      <td>US</td>\n",
       "    </tr>\n",
       "    <tr>\n",
       "      <th>15</th>\n",
       "      <td>15</td>\n",
       "      <td>16</td>\n",
       "      <td>16</td>\n",
       "      <td>1161 South Bernardo</td>\n",
       "      <td>NaN</td>\n",
       "      <td>Sunnyvale</td>\n",
       "      <td>CA</td>\n",
       "      <td>94087</td>\n",
       "      <td>US</td>\n",
       "    </tr>\n",
       "    <tr>\n",
       "      <th>16</th>\n",
       "      <td>16</td>\n",
       "      <td>17</td>\n",
       "      <td>17</td>\n",
       "      <td>409 South Spruce Avenue</td>\n",
       "      <td>NaN</td>\n",
       "      <td>South San Francisco</td>\n",
       "      <td>CA</td>\n",
       "      <td>94080</td>\n",
       "      <td>US</td>\n",
       "    </tr>\n",
       "    <tr>\n",
       "      <th>17</th>\n",
       "      <td>17</td>\n",
       "      <td>18</td>\n",
       "      <td>18</td>\n",
       "      <td>114 Fifth Avenue</td>\n",
       "      <td>NaN</td>\n",
       "      <td>Redwood City</td>\n",
       "      <td>CA</td>\n",
       "      <td>94063</td>\n",
       "      <td>US</td>\n",
       "    </tr>\n",
       "    <tr>\n",
       "      <th>18</th>\n",
       "      <td>18</td>\n",
       "      <td>19</td>\n",
       "      <td>19</td>\n",
       "      <td>19 West 39th Avenue</td>\n",
       "      <td>NaN</td>\n",
       "      <td>San Mateo</td>\n",
       "      <td>CA</td>\n",
       "      <td>94403</td>\n",
       "      <td>US</td>\n",
       "    </tr>\n",
       "    <tr>\n",
       "      <th>19</th>\n",
       "      <td>19</td>\n",
       "      <td>20</td>\n",
       "      <td>21</td>\n",
       "      <td>123 El Camino Real</td>\n",
       "      <td>NaN</td>\n",
       "      <td>Belmont</td>\n",
       "      <td>CA</td>\n",
       "      <td>94002</td>\n",
       "      <td>US</td>\n",
       "    </tr>\n",
       "    <tr>\n",
       "      <th>20</th>\n",
       "      <td>20</td>\n",
       "      <td>21</td>\n",
       "      <td>22</td>\n",
       "      <td>2013 Avenue of the fellows</td>\n",
       "      <td>Suite 100</td>\n",
       "      <td>San Francisco</td>\n",
       "      <td>CA</td>\n",
       "      <td>94103</td>\n",
       "      <td>US</td>\n",
       "    </tr>\n",
       "  </tbody>\n",
       "</table>\n",
       "</div>"
      ],
      "text/plain": [
       "    Unnamed: 0  id  location_id                   address_1  address_2  \\\n",
       "0            0   1            1       2600 Middlefield Road        NaN   \n",
       "1            1   2            2            24 Second Avenue        NaN   \n",
       "2            2   3            3            24 Second Avenue        NaN   \n",
       "3            3   4            4            24 Second Avenue        NaN   \n",
       "4            4   5            5            24 Second Avenue        NaN   \n",
       "5            5   6            6           800 Middle Avenue        NaN   \n",
       "6            6   7            7              500 Arbor Road        NaN   \n",
       "7            7   8            8           800 Middle Avenue        NaN   \n",
       "8            8   9            9       2510 Middlefield Road        NaN   \n",
       "9            9  10           10       1044 Middlefield Road        NaN   \n",
       "10          10  11           11         2140 Euclid Avenue.        NaN   \n",
       "11          11  12           12       1044 Middlefield Road  2nd Floor   \n",
       "12          12  13           13         399 Marine Parkway.        NaN   \n",
       "13          13  14           14          660 Veterans Blvd.        NaN   \n",
       "14          14  15           15        1500 Valencia Street        NaN   \n",
       "15          15  16           16         1161 South Bernardo        NaN   \n",
       "16          16  17           17     409 South Spruce Avenue        NaN   \n",
       "17          17  18           18            114 Fifth Avenue        NaN   \n",
       "18          18  19           19         19 West 39th Avenue        NaN   \n",
       "19          19  20           21          123 El Camino Real        NaN   \n",
       "20          20  21           22  2013 Avenue of the fellows  Suite 100   \n",
       "\n",
       "                   city state_province postal_code country  \n",
       "0          Redwood City             CA       94063      US  \n",
       "1             San Mateo             CA       94401      US  \n",
       "2             San Mateo             CA       94403      US  \n",
       "3             San Mateo             CA       94401      US  \n",
       "4             San Mateo             CA       94401      US  \n",
       "5            Menlo Park             CA  94025-9881      US  \n",
       "6            Menlo Park             CA       94025      US  \n",
       "7            Menlo Park             CA  94025-9881      US  \n",
       "8          Redwood City             CA       94063      US  \n",
       "9          Redwood City             CA       94063      US  \n",
       "10         Redwood City             CA       94061      US  \n",
       "11         Redwood City             CA       94063      US  \n",
       "12         Redwood City             CA       94065      US  \n",
       "13         Redwood City             CA       94063      US  \n",
       "14        San Francisco             CA       94110      US  \n",
       "15            Sunnyvale             CA       94087      US  \n",
       "16  South San Francisco             CA       94080      US  \n",
       "17         Redwood City             CA       94063      US  \n",
       "18            San Mateo             CA       94403      US  \n",
       "19              Belmont             CA       94002      US  \n",
       "20        San Francisco             CA       94103      US  "
      ]
     },
     "execution_count": 14,
     "metadata": {},
     "output_type": "execute_result"
    }
   ],
   "source": [
    "# with one col\n",
    "import requests\n",
    "from io import StringIO\n",
    "import pandas as pd\n",
    "\n",
    "# Use the raw URL, not the GitHub webpage URL\n",
    "url = \"https://raw.githubusercontent.com/codeforamerica/ohana-api/master/data/sample-csv/addresses.csv\"\n",
    "headers = {\"User-Agent\": \"Mozilla/5.0\"}\n",
    "\n",
    "# Make the request\n",
    "req = requests.get(url, headers=headers)\n",
    "\n",
    "# Convert to CSV using StringIO\n",
    "data = StringIO(req.text)\n",
    "\n",
    "# Load into pandas DataFrame\n",
    "df = pd.read_csv(data)\n",
    "\n",
    "# Show the first few rows\n",
    "df.to_csv('file1.csv') # for Export CSV to a Working Directory\n",
    "df = pd.read_csv('file1.csv')  # read_Csv by default pulls data in `DataFrame` data type\n",
    "df"
   ]
  },
  {
   "cell_type": "code",
   "execution_count": 15,
   "id": "e2729950",
   "metadata": {},
   "outputs": [
    {
     "name": "stdout",
     "output_type": "stream",
     "text": [
      "0          2600 Middlefield Road\n",
      "1               24 Second Avenue\n",
      "2               24 Second Avenue\n",
      "3               24 Second Avenue\n",
      "4               24 Second Avenue\n",
      "5              800 Middle Avenue\n",
      "6                 500 Arbor Road\n",
      "7              800 Middle Avenue\n",
      "8          2510 Middlefield Road\n",
      "9          1044 Middlefield Road\n",
      "10           2140 Euclid Avenue.\n",
      "11         1044 Middlefield Road\n",
      "12           399 Marine Parkway.\n",
      "13            660 Veterans Blvd.\n",
      "14          1500 Valencia Street\n",
      "15           1161 South Bernardo\n",
      "16       409 South Spruce Avenue\n",
      "17              114 Fifth Avenue\n",
      "18           19 West 39th Avenue\n",
      "19            123 El Camino Real\n",
      "20    2013 Avenue of the fellows\n",
      "Name: address_1, dtype: object\n",
      "\n",
      "<class 'pandas.core.series.Series'>\n",
      "<class 'pandas.core.series.Series'>\n"
     ]
    }
   ],
   "source": [
    "# with one column, so we have to convert this data to series, we can do with squeeze parameter\n",
    "\n",
    "print(df['address_1'].squeeze())\n",
    "\n",
    "print()\n",
    "print(type(df['address_1'].squeeze()))\n",
    "\n",
    "print(type(df['address_1'])) # by the way it automaticallly makes series on indexing of specific column\n",
    "\n",
    "# second way of converting to series \n",
    "# pd.read_csv('file1.csv', index_col=\"city\").iloc[:, 0] "
   ]
  },
  {
   "cell_type": "code",
   "execution_count": 16,
   "id": "d1d0794f",
   "metadata": {},
   "outputs": [],
   "source": [
    "# the benefit of giving name to data types(series here) - https://www.youtube.com/live/zCDVUyq8lkw?si=Y02AbkaecZALGGQv&t=2307\n",
    "# the name of that column becomes name of series that is value of that series "
   ]
  },
  {
   "cell_type": "code",
   "execution_count": 17,
   "id": "d45b0964",
   "metadata": {},
   "outputs": [
    {
     "name": "stdout",
     "output_type": "stream",
     "text": [
      "city\n",
      "Redwood City                94063\n",
      "San Mateo                   94401\n",
      "San Mateo                   94403\n",
      "San Mateo                   94401\n",
      "San Mateo                   94401\n",
      "Menlo Park             94025-9881\n",
      "Menlo Park                  94025\n",
      "Menlo Park             94025-9881\n",
      "Redwood City                94063\n",
      "Redwood City                94063\n",
      "Redwood City                94061\n",
      "Redwood City                94063\n",
      "Redwood City                94065\n",
      "Redwood City                94063\n",
      "San Francisco               94110\n",
      "Sunnyvale                   94087\n",
      "South San Francisco         94080\n",
      "Redwood City                94063\n",
      "San Mateo                   94403\n",
      "Belmont                     94002\n",
      "San Francisco               94103\n",
      "Name: postal_code, dtype: object\n"
     ]
    },
    {
     "data": {
      "application/vnd.microsoft.datawrangler.viewer.v0+json": {
       "columns": [
        {
         "name": "city",
         "rawType": "object",
         "type": "string"
        },
        {
         "name": "Unnamed: 0",
         "rawType": "int64",
         "type": "integer"
        },
        {
         "name": "id",
         "rawType": "int64",
         "type": "integer"
        },
        {
         "name": "location_id",
         "rawType": "int64",
         "type": "integer"
        },
        {
         "name": "address_1",
         "rawType": "object",
         "type": "string"
        },
        {
         "name": "address_2",
         "rawType": "object",
         "type": "unknown"
        },
        {
         "name": "state_province",
         "rawType": "object",
         "type": "string"
        },
        {
         "name": "postal_code",
         "rawType": "object",
         "type": "string"
        },
        {
         "name": "country",
         "rawType": "object",
         "type": "string"
        }
       ],
       "conversionMethod": "pd.DataFrame",
       "ref": "109bc3f1-cf11-49d6-83ea-46742e3f3858",
       "rows": [
        [
         "Redwood City",
         "0",
         "1",
         "1",
         "2600 Middlefield Road",
         null,
         "CA",
         "94063",
         "US"
        ],
        [
         "San Mateo",
         "1",
         "2",
         "2",
         "24 Second Avenue",
         null,
         "CA",
         "94401",
         "US"
        ],
        [
         "San Mateo",
         "2",
         "3",
         "3",
         "24 Second Avenue",
         null,
         "CA",
         "94403",
         "US"
        ],
        [
         "San Mateo",
         "3",
         "4",
         "4",
         "24 Second Avenue",
         null,
         "CA",
         "94401",
         "US"
        ],
        [
         "San Mateo",
         "4",
         "5",
         "5",
         "24 Second Avenue",
         null,
         "CA",
         "94401",
         "US"
        ],
        [
         "Menlo Park",
         "5",
         "6",
         "6",
         "800 Middle Avenue",
         null,
         "CA",
         "94025-9881",
         "US"
        ],
        [
         "Menlo Park",
         "6",
         "7",
         "7",
         "500 Arbor Road",
         null,
         "CA",
         "94025",
         "US"
        ],
        [
         "Menlo Park",
         "7",
         "8",
         "8",
         "800 Middle Avenue",
         null,
         "CA",
         "94025-9881",
         "US"
        ],
        [
         "Redwood City",
         "8",
         "9",
         "9",
         "2510 Middlefield Road",
         null,
         "CA",
         "94063",
         "US"
        ],
        [
         "Redwood City",
         "9",
         "10",
         "10",
         "1044 Middlefield Road",
         null,
         "CA",
         "94063",
         "US"
        ],
        [
         "Redwood City",
         "10",
         "11",
         "11",
         "2140 Euclid Avenue.",
         null,
         "CA",
         "94061",
         "US"
        ],
        [
         "Redwood City",
         "11",
         "12",
         "12",
         "1044 Middlefield Road",
         "2nd Floor",
         "CA",
         "94063",
         "US"
        ],
        [
         "Redwood City",
         "12",
         "13",
         "13",
         "399 Marine Parkway.",
         null,
         "CA",
         "94065",
         "US"
        ],
        [
         "Redwood City",
         "13",
         "14",
         "14",
         "660 Veterans Blvd.",
         null,
         "CA",
         "94063",
         "US"
        ],
        [
         "San Francisco",
         "14",
         "15",
         "15",
         "1500 Valencia Street",
         null,
         "CA",
         "94110",
         "US"
        ],
        [
         "Sunnyvale",
         "15",
         "16",
         "16",
         "1161 South Bernardo",
         null,
         "CA",
         "94087",
         "US"
        ],
        [
         "South San Francisco",
         "16",
         "17",
         "17",
         "409 South Spruce Avenue",
         null,
         "CA",
         "94080",
         "US"
        ],
        [
         "Redwood City",
         "17",
         "18",
         "18",
         "114 Fifth Avenue",
         null,
         "CA",
         "94063",
         "US"
        ],
        [
         "San Mateo",
         "18",
         "19",
         "19",
         "19 West 39th Avenue",
         null,
         "CA",
         "94403",
         "US"
        ],
        [
         "Belmont",
         "19",
         "20",
         "21",
         "123 El Camino Real",
         null,
         "CA",
         "94002",
         "US"
        ],
        [
         "San Francisco",
         "20",
         "21",
         "22",
         "2013 Avenue of the fellows",
         "Suite 100",
         "CA",
         "94103",
         "US"
        ]
       ],
       "shape": {
        "columns": 8,
        "rows": 21
       }
      },
      "text/html": [
       "<div>\n",
       "<style scoped>\n",
       "    .dataframe tbody tr th:only-of-type {\n",
       "        vertical-align: middle;\n",
       "    }\n",
       "\n",
       "    .dataframe tbody tr th {\n",
       "        vertical-align: top;\n",
       "    }\n",
       "\n",
       "    .dataframe thead th {\n",
       "        text-align: right;\n",
       "    }\n",
       "</style>\n",
       "<table border=\"1\" class=\"dataframe\">\n",
       "  <thead>\n",
       "    <tr style=\"text-align: right;\">\n",
       "      <th></th>\n",
       "      <th>Unnamed: 0</th>\n",
       "      <th>id</th>\n",
       "      <th>location_id</th>\n",
       "      <th>address_1</th>\n",
       "      <th>address_2</th>\n",
       "      <th>state_province</th>\n",
       "      <th>postal_code</th>\n",
       "      <th>country</th>\n",
       "    </tr>\n",
       "    <tr>\n",
       "      <th>city</th>\n",
       "      <th></th>\n",
       "      <th></th>\n",
       "      <th></th>\n",
       "      <th></th>\n",
       "      <th></th>\n",
       "      <th></th>\n",
       "      <th></th>\n",
       "      <th></th>\n",
       "    </tr>\n",
       "  </thead>\n",
       "  <tbody>\n",
       "    <tr>\n",
       "      <th>Redwood City</th>\n",
       "      <td>0</td>\n",
       "      <td>1</td>\n",
       "      <td>1</td>\n",
       "      <td>2600 Middlefield Road</td>\n",
       "      <td>NaN</td>\n",
       "      <td>CA</td>\n",
       "      <td>94063</td>\n",
       "      <td>US</td>\n",
       "    </tr>\n",
       "    <tr>\n",
       "      <th>San Mateo</th>\n",
       "      <td>1</td>\n",
       "      <td>2</td>\n",
       "      <td>2</td>\n",
       "      <td>24 Second Avenue</td>\n",
       "      <td>NaN</td>\n",
       "      <td>CA</td>\n",
       "      <td>94401</td>\n",
       "      <td>US</td>\n",
       "    </tr>\n",
       "    <tr>\n",
       "      <th>San Mateo</th>\n",
       "      <td>2</td>\n",
       "      <td>3</td>\n",
       "      <td>3</td>\n",
       "      <td>24 Second Avenue</td>\n",
       "      <td>NaN</td>\n",
       "      <td>CA</td>\n",
       "      <td>94403</td>\n",
       "      <td>US</td>\n",
       "    </tr>\n",
       "    <tr>\n",
       "      <th>San Mateo</th>\n",
       "      <td>3</td>\n",
       "      <td>4</td>\n",
       "      <td>4</td>\n",
       "      <td>24 Second Avenue</td>\n",
       "      <td>NaN</td>\n",
       "      <td>CA</td>\n",
       "      <td>94401</td>\n",
       "      <td>US</td>\n",
       "    </tr>\n",
       "    <tr>\n",
       "      <th>San Mateo</th>\n",
       "      <td>4</td>\n",
       "      <td>5</td>\n",
       "      <td>5</td>\n",
       "      <td>24 Second Avenue</td>\n",
       "      <td>NaN</td>\n",
       "      <td>CA</td>\n",
       "      <td>94401</td>\n",
       "      <td>US</td>\n",
       "    </tr>\n",
       "    <tr>\n",
       "      <th>Menlo Park</th>\n",
       "      <td>5</td>\n",
       "      <td>6</td>\n",
       "      <td>6</td>\n",
       "      <td>800 Middle Avenue</td>\n",
       "      <td>NaN</td>\n",
       "      <td>CA</td>\n",
       "      <td>94025-9881</td>\n",
       "      <td>US</td>\n",
       "    </tr>\n",
       "    <tr>\n",
       "      <th>Menlo Park</th>\n",
       "      <td>6</td>\n",
       "      <td>7</td>\n",
       "      <td>7</td>\n",
       "      <td>500 Arbor Road</td>\n",
       "      <td>NaN</td>\n",
       "      <td>CA</td>\n",
       "      <td>94025</td>\n",
       "      <td>US</td>\n",
       "    </tr>\n",
       "    <tr>\n",
       "      <th>Menlo Park</th>\n",
       "      <td>7</td>\n",
       "      <td>8</td>\n",
       "      <td>8</td>\n",
       "      <td>800 Middle Avenue</td>\n",
       "      <td>NaN</td>\n",
       "      <td>CA</td>\n",
       "      <td>94025-9881</td>\n",
       "      <td>US</td>\n",
       "    </tr>\n",
       "    <tr>\n",
       "      <th>Redwood City</th>\n",
       "      <td>8</td>\n",
       "      <td>9</td>\n",
       "      <td>9</td>\n",
       "      <td>2510 Middlefield Road</td>\n",
       "      <td>NaN</td>\n",
       "      <td>CA</td>\n",
       "      <td>94063</td>\n",
       "      <td>US</td>\n",
       "    </tr>\n",
       "    <tr>\n",
       "      <th>Redwood City</th>\n",
       "      <td>9</td>\n",
       "      <td>10</td>\n",
       "      <td>10</td>\n",
       "      <td>1044 Middlefield Road</td>\n",
       "      <td>NaN</td>\n",
       "      <td>CA</td>\n",
       "      <td>94063</td>\n",
       "      <td>US</td>\n",
       "    </tr>\n",
       "    <tr>\n",
       "      <th>Redwood City</th>\n",
       "      <td>10</td>\n",
       "      <td>11</td>\n",
       "      <td>11</td>\n",
       "      <td>2140 Euclid Avenue.</td>\n",
       "      <td>NaN</td>\n",
       "      <td>CA</td>\n",
       "      <td>94061</td>\n",
       "      <td>US</td>\n",
       "    </tr>\n",
       "    <tr>\n",
       "      <th>Redwood City</th>\n",
       "      <td>11</td>\n",
       "      <td>12</td>\n",
       "      <td>12</td>\n",
       "      <td>1044 Middlefield Road</td>\n",
       "      <td>2nd Floor</td>\n",
       "      <td>CA</td>\n",
       "      <td>94063</td>\n",
       "      <td>US</td>\n",
       "    </tr>\n",
       "    <tr>\n",
       "      <th>Redwood City</th>\n",
       "      <td>12</td>\n",
       "      <td>13</td>\n",
       "      <td>13</td>\n",
       "      <td>399 Marine Parkway.</td>\n",
       "      <td>NaN</td>\n",
       "      <td>CA</td>\n",
       "      <td>94065</td>\n",
       "      <td>US</td>\n",
       "    </tr>\n",
       "    <tr>\n",
       "      <th>Redwood City</th>\n",
       "      <td>13</td>\n",
       "      <td>14</td>\n",
       "      <td>14</td>\n",
       "      <td>660 Veterans Blvd.</td>\n",
       "      <td>NaN</td>\n",
       "      <td>CA</td>\n",
       "      <td>94063</td>\n",
       "      <td>US</td>\n",
       "    </tr>\n",
       "    <tr>\n",
       "      <th>San Francisco</th>\n",
       "      <td>14</td>\n",
       "      <td>15</td>\n",
       "      <td>15</td>\n",
       "      <td>1500 Valencia Street</td>\n",
       "      <td>NaN</td>\n",
       "      <td>CA</td>\n",
       "      <td>94110</td>\n",
       "      <td>US</td>\n",
       "    </tr>\n",
       "    <tr>\n",
       "      <th>Sunnyvale</th>\n",
       "      <td>15</td>\n",
       "      <td>16</td>\n",
       "      <td>16</td>\n",
       "      <td>1161 South Bernardo</td>\n",
       "      <td>NaN</td>\n",
       "      <td>CA</td>\n",
       "      <td>94087</td>\n",
       "      <td>US</td>\n",
       "    </tr>\n",
       "    <tr>\n",
       "      <th>South San Francisco</th>\n",
       "      <td>16</td>\n",
       "      <td>17</td>\n",
       "      <td>17</td>\n",
       "      <td>409 South Spruce Avenue</td>\n",
       "      <td>NaN</td>\n",
       "      <td>CA</td>\n",
       "      <td>94080</td>\n",
       "      <td>US</td>\n",
       "    </tr>\n",
       "    <tr>\n",
       "      <th>Redwood City</th>\n",
       "      <td>17</td>\n",
       "      <td>18</td>\n",
       "      <td>18</td>\n",
       "      <td>114 Fifth Avenue</td>\n",
       "      <td>NaN</td>\n",
       "      <td>CA</td>\n",
       "      <td>94063</td>\n",
       "      <td>US</td>\n",
       "    </tr>\n",
       "    <tr>\n",
       "      <th>San Mateo</th>\n",
       "      <td>18</td>\n",
       "      <td>19</td>\n",
       "      <td>19</td>\n",
       "      <td>19 West 39th Avenue</td>\n",
       "      <td>NaN</td>\n",
       "      <td>CA</td>\n",
       "      <td>94403</td>\n",
       "      <td>US</td>\n",
       "    </tr>\n",
       "    <tr>\n",
       "      <th>Belmont</th>\n",
       "      <td>19</td>\n",
       "      <td>20</td>\n",
       "      <td>21</td>\n",
       "      <td>123 El Camino Real</td>\n",
       "      <td>NaN</td>\n",
       "      <td>CA</td>\n",
       "      <td>94002</td>\n",
       "      <td>US</td>\n",
       "    </tr>\n",
       "    <tr>\n",
       "      <th>San Francisco</th>\n",
       "      <td>20</td>\n",
       "      <td>21</td>\n",
       "      <td>22</td>\n",
       "      <td>2013 Avenue of the fellows</td>\n",
       "      <td>Suite 100</td>\n",
       "      <td>CA</td>\n",
       "      <td>94103</td>\n",
       "      <td>US</td>\n",
       "    </tr>\n",
       "  </tbody>\n",
       "</table>\n",
       "</div>"
      ],
      "text/plain": [
       "                     Unnamed: 0  id  location_id                   address_1  \\\n",
       "city                                                                           \n",
       "Redwood City                  0   1            1       2600 Middlefield Road   \n",
       "San Mateo                     1   2            2            24 Second Avenue   \n",
       "San Mateo                     2   3            3            24 Second Avenue   \n",
       "San Mateo                     3   4            4            24 Second Avenue   \n",
       "San Mateo                     4   5            5            24 Second Avenue   \n",
       "Menlo Park                    5   6            6           800 Middle Avenue   \n",
       "Menlo Park                    6   7            7              500 Arbor Road   \n",
       "Menlo Park                    7   8            8           800 Middle Avenue   \n",
       "Redwood City                  8   9            9       2510 Middlefield Road   \n",
       "Redwood City                  9  10           10       1044 Middlefield Road   \n",
       "Redwood City                 10  11           11         2140 Euclid Avenue.   \n",
       "Redwood City                 11  12           12       1044 Middlefield Road   \n",
       "Redwood City                 12  13           13         399 Marine Parkway.   \n",
       "Redwood City                 13  14           14          660 Veterans Blvd.   \n",
       "San Francisco                14  15           15        1500 Valencia Street   \n",
       "Sunnyvale                    15  16           16         1161 South Bernardo   \n",
       "South San Francisco          16  17           17     409 South Spruce Avenue   \n",
       "Redwood City                 17  18           18            114 Fifth Avenue   \n",
       "San Mateo                    18  19           19         19 West 39th Avenue   \n",
       "Belmont                      19  20           21          123 El Camino Real   \n",
       "San Francisco                20  21           22  2013 Avenue of the fellows   \n",
       "\n",
       "                     address_2 state_province postal_code country  \n",
       "city                                                               \n",
       "Redwood City               NaN             CA       94063      US  \n",
       "San Mateo                  NaN             CA       94401      US  \n",
       "San Mateo                  NaN             CA       94403      US  \n",
       "San Mateo                  NaN             CA       94401      US  \n",
       "San Mateo                  NaN             CA       94401      US  \n",
       "Menlo Park                 NaN             CA  94025-9881      US  \n",
       "Menlo Park                 NaN             CA       94025      US  \n",
       "Menlo Park                 NaN             CA  94025-9881      US  \n",
       "Redwood City               NaN             CA       94063      US  \n",
       "Redwood City               NaN             CA       94063      US  \n",
       "Redwood City               NaN             CA       94061      US  \n",
       "Redwood City         2nd Floor             CA       94063      US  \n",
       "Redwood City               NaN             CA       94065      US  \n",
       "Redwood City               NaN             CA       94063      US  \n",
       "San Francisco              NaN             CA       94110      US  \n",
       "Sunnyvale                  NaN             CA       94087      US  \n",
       "South San Francisco        NaN             CA       94080      US  \n",
       "Redwood City               NaN             CA       94063      US  \n",
       "San Mateo                  NaN             CA       94403      US  \n",
       "Belmont                    NaN             CA       94002      US  \n",
       "San Francisco        Suite 100             CA       94103      US  "
      ]
     },
     "execution_count": 17,
     "metadata": {},
     "output_type": "execute_result"
    }
   ],
   "source": [
    "# index_col is used to set particular given column(here: city) as index \n",
    "print(pd.read_csv('file1.csv', index_col=\"city\")['postal_code'])\n",
    "pd.read_csv('file1.csv', index_col=\"city\")"
   ]
  },
  {
   "cell_type": "markdown",
   "id": "d2ee00f8",
   "metadata": {},
   "source": [
    "## Series Methods"
   ]
  },
  {
   "cell_type": "code",
   "execution_count": 18,
   "id": "c90ac8c6",
   "metadata": {},
   "outputs": [
    {
     "name": "stdout",
     "output_type": "stream",
     "text": [
      "postal_code\n",
      "94063    0\n",
      "94401    1\n",
      "94403    2\n",
      "94401    3\n",
      "94401    4\n",
      "Name: Unnamed: 0, dtype: int64 \n",
      "\n",
      "postal_code\n",
      "94063    0\n",
      "94401    1\n",
      "Name: Unnamed: 0, dtype: int64 \n",
      "\n",
      "postal_code\n",
      "94103    20\n",
      "Name: Unnamed: 0, dtype: int64\n"
     ]
    }
   ],
   "source": [
    "# head and tail (to get a preview of a data)\n",
    "df = pd.read_csv('file1.csv', index_col=\"postal_code\").iloc[:, 0]\n",
    "\n",
    "\n",
    "print(df.head(),'\\n') # first 5 rows\n",
    "\n",
    "\n",
    "\n",
    "print(df.head(2),'\\n') # first 2 rows\n",
    "\n",
    "# tail is just means n last last rows, by default it is 5\n",
    "print(df.tail(1)) # last 1 row"
   ]
  },
  {
   "cell_type": "code",
   "execution_count": 19,
   "id": "8849a81f",
   "metadata": {},
   "outputs": [
    {
     "data": {
      "text/plain": [
       "1    b\n",
       "2    c\n",
       "3    d\n",
       "dtype: string"
      ]
     },
     "execution_count": 19,
     "metadata": {},
     "output_type": "execute_result"
    }
   ],
   "source": [
    "# use loc instead of iloc when index is not numeric \n",
    "# Example:\n",
    "foo = pd.Series(['a', 'b', 'c', 'd'],dtype='string')\n",
    "bar = foo.loc[foo > 'a']\n",
    "bar"
   ]
  },
  {
   "cell_type": "code",
   "execution_count": 20,
   "id": "c667f760",
   "metadata": {},
   "outputs": [
    {
     "data": {
      "text/plain": [
       "postal_code\n",
       "94401    3\n",
       "Name: Unnamed: 0, dtype: int64"
      ]
     },
     "execution_count": 20,
     "metadata": {},
     "output_type": "execute_result"
    }
   ],
   "source": [
    "# sample, pull n rows(by default 1) randomly from the data\n",
    "df.sample(1)"
   ]
  },
  {
   "cell_type": "code",
   "execution_count": 21,
   "id": "ef296942",
   "metadata": {},
   "outputs": [
    {
     "name": "stdout",
     "output_type": "stream",
     "text": [
      "city\n",
      "Redwood City           8\n",
      "San Mateo              5\n",
      "Menlo Park             3\n",
      "San Francisco          2\n",
      "Sunnyvale              1\n",
      "South San Francisco    1\n",
      "Belmont                1\n",
      "Name: count, dtype: int64\n",
      "\n",
      "address_1\n",
      "2600 Middlefield Road                Redwood City\n",
      "24 Second Avenue                        San Mateo\n",
      "24 Second Avenue                        San Mateo\n",
      "24 Second Avenue                        San Mateo\n",
      "24 Second Avenue                        San Mateo\n",
      "800 Middle Avenue                      Menlo Park\n",
      "500 Arbor Road                         Menlo Park\n",
      "800 Middle Avenue                      Menlo Park\n",
      "2510 Middlefield Road                Redwood City\n",
      "1044 Middlefield Road                Redwood City\n",
      "2140 Euclid Avenue.                  Redwood City\n",
      "1044 Middlefield Road                Redwood City\n",
      "399 Marine Parkway.                  Redwood City\n",
      "660 Veterans Blvd.                   Redwood City\n",
      "1500 Valencia Street                San Francisco\n",
      "1161 South Bernardo                     Sunnyvale\n",
      "409 South Spruce Avenue       South San Francisco\n",
      "114 Fifth Avenue                     Redwood City\n",
      "19 West 39th Avenue                     San Mateo\n",
      "123 El Camino Real                        Belmont\n",
      "2013 Avenue of the fellows          San Francisco\n",
      "Name: city, dtype: object\n"
     ]
    }
   ],
   "source": [
    "# value_counts, basically tells frequency of values\n",
    "file1 = pd.read_csv('file1.csv', index_col=\"address_1\").iloc[:, 4]\n",
    "\n",
    "\n",
    "print(file1.value_counts())# note highest frequency values will come first, with the corresponding counts\n",
    "print()\n",
    "print(file1)"
   ]
  },
  {
   "cell_type": "code",
   "execution_count": 22,
   "id": "6d245d40",
   "metadata": {},
   "outputs": [
    {
     "data": {
      "text/plain": [
       "postal_code\n",
       "94063          0\n",
       "94401          1\n",
       "94403          2\n",
       "94401          3\n",
       "94401          4\n",
       "94025-9881     5\n",
       "94025          6\n",
       "94025-9881     7\n",
       "94063          8\n",
       "94063          9\n",
       "94061         10\n",
       "94063         11\n",
       "94065         12\n",
       "94063         13\n",
       "94110         14\n",
       "94087         15\n",
       "94080         16\n",
       "94063         17\n",
       "94403         18\n",
       "94002         19\n",
       "94103         20\n",
       "Name: Unnamed: 0, dtype: int64"
      ]
     },
     "execution_count": 22,
     "metadata": {},
     "output_type": "execute_result"
    }
   ],
   "source": [
    "# sort_values, sort the data, by default it is in ascending order\n",
    "df.sort_values() # asecending=False for descending order, inplace=True for change in the original series"
   ]
  },
  {
   "cell_type": "code",
   "execution_count": 23,
   "id": "d300070a",
   "metadata": {},
   "outputs": [
    {
     "data": {
      "text/plain": [
       "postal_code\n",
       "94002         19\n",
       "94025          6\n",
       "94025-9881     5\n",
       "94025-9881     7\n",
       "94061         10\n",
       "94063         17\n",
       "94063         13\n",
       "94063         11\n",
       "94063          9\n",
       "94063          0\n",
       "94063          8\n",
       "94065         12\n",
       "94080         16\n",
       "94087         15\n",
       "94103         20\n",
       "94110         14\n",
       "94401          4\n",
       "94401          3\n",
       "94401          1\n",
       "94403          2\n",
       "94403         18\n",
       "Name: Unnamed: 0, dtype: int64"
      ]
     },
     "execution_count": 23,
     "metadata": {},
     "output_type": "execute_result"
    }
   ],
   "source": [
    "df.sort_index() # it is basically sort indexes"
   ]
  },
  {
   "cell_type": "markdown",
   "id": "c3b3304f",
   "metadata": {},
   "source": [
    "## Series Math Methods\n"
   ]
  },
  {
   "cell_type": "code",
   "execution_count": 24,
   "id": "104816ce",
   "metadata": {},
   "outputs": [
    {
     "data": {
      "text/plain": [
       "np.int64(21)"
      ]
     },
     "execution_count": 24,
     "metadata": {},
     "output_type": "execute_result"
    }
   ],
   "source": [
    "# count, same as size but not counts missing values\n",
    "df.count()"
   ]
  },
  {
   "cell_type": "code",
   "execution_count": 25,
   "id": "89d4d264",
   "metadata": {},
   "outputs": [
    {
     "data": {
      "text/plain": [
       "np.int64(210)"
      ]
     },
     "execution_count": 25,
     "metadata": {},
     "output_type": "execute_result"
    }
   ],
   "source": [
    "# sum of all values of the series, product of all values of the series\n",
    "df.sum()"
   ]
  },
  {
   "cell_type": "code",
   "execution_count": 26,
   "id": "20b07dc3",
   "metadata": {},
   "outputs": [
    {
     "name": "stdout",
     "output_type": "stream",
     "text": [
      "mean \n",
      " 5.090909090909091\n",
      "median \n",
      " 5.0\n",
      "mode \n",
      " 0    1\n",
      "dtype: int64\n",
      "standard deviation \n",
      " 3.1766191290283903\n",
      "variance \n",
      " 10.09090909090909\n"
     ]
    }
   ],
   "source": [
    "# mean,median,mode,std,var (of all values of the series)\n",
    "seriesD = pd.Series([1,2,3,4,5,6,7,8,9,10,1])\n",
    "print('mean \\n',seriesD.mean())\n",
    "print('median \\n',seriesD.median())\n",
    "print('mode \\n',seriesD.mode()) # it give all if all values has same frequency\n",
    "print('standard deviation \\n',seriesD.std())  # by default sample standard deviation, for population specify `(ddof=0)` parameter\n",
    "print('variance \\n',seriesD.var()) # by default sample standard deviation, for population specify `(ddof=0)`  parameter"
   ]
  },
  {
   "cell_type": "code",
   "execution_count": 27,
   "id": "400a08ff",
   "metadata": {},
   "outputs": [
    {
     "name": "stdout",
     "output_type": "stream",
     "text": [
      "1\n",
      "10\n"
     ]
    }
   ],
   "source": [
    "# min/max\n",
    "print(seriesD.min())\n",
    "print(seriesD.max())"
   ]
  },
  {
   "cell_type": "code",
   "execution_count": 28,
   "id": "a9c4e13c",
   "metadata": {},
   "outputs": [
    {
     "data": {
      "text/plain": [
       "count    11.000000\n",
       "mean      5.090909\n",
       "std       3.176619\n",
       "min       1.000000\n",
       "25%       2.500000\n",
       "50%       5.000000\n",
       "75%       7.500000\n",
       "max      10.000000\n",
       "dtype: float64"
      ]
     },
     "execution_count": 28,
     "metadata": {},
     "output_type": "execute_result"
    }
   ],
   "source": [
    "# describe , includes count,mean,std,min,25%,50%,75%,max\n",
    "\"\"\" 📊 What do 25%, 50%, and 75% mean in .describe()?\n",
    "They refer to percentiles (also called quantiles):\n",
    "25%\t    1st Quartile (Q1) — 25% of values are less than or equal to this\t    2.5\n",
    "50%\t    2nd Quartile (Q2) — the median (middle value)\t                        5.0\n",
    "75%     3rd Quartile (Q3) — 75% of values are less than or equal to this\t    7.5\n",
    "\"\"\"\n",
    "seriesD.describe() # 11 are non null(not-missing) values "
   ]
  },
  {
   "cell_type": "markdown",
   "id": "89b251b5",
   "metadata": {},
   "source": [
    "## Series Indexing"
   ]
  },
  {
   "cell_type": "code",
   "execution_count": 29,
   "id": "a46367a3",
   "metadata": {},
   "outputs": [
    {
     "name": "stdout",
     "output_type": "stream",
     "text": [
      "7\n",
      "100\n"
     ]
    }
   ],
   "source": [
    "# integer indexing\n",
    "seriesX = pd.Series([7,18,19,100],index=['one','two','three','four'])\n",
    "# x[0] integer index deprecates , instead  use x.iloc[0] , so use `iloc` for integer based indexing\n",
    "print(seriesX['one'])\n",
    "print(seriesX.iloc[-1])\n"
   ]
  },
  {
   "cell_type": "code",
   "execution_count": 30,
   "id": "a81b1f00",
   "metadata": {},
   "outputs": [],
   "source": [
    "# series not work on negative indexing, if values are not strings and  seriesName[integer] is deprecated use `.iloc` instead\n"
   ]
  },
  {
   "cell_type": "code",
   "execution_count": 31,
   "id": "79da40ee",
   "metadata": {},
   "outputs": [
    {
     "name": "stdout",
     "output_type": "stream",
     "text": [
      "four     100\n",
      "three     19\n",
      "two       18\n",
      "one        7\n",
      "dtype: int64\n"
     ]
    },
    {
     "data": {
      "text/plain": [
       "one       7\n",
       "two      18\n",
       "three    19\n",
       "dtype: int64"
      ]
     },
     "execution_count": 31,
     "metadata": {},
     "output_type": "execute_result"
    }
   ],
   "source": [
    "# slicing, .iloc is best practice\n",
    "print(seriesX.iloc[::-1])\n",
    "# you can also slice through indexes of string like this\n",
    "seriesX.loc['one':'three'] # but including value of 'three' (means value after `:`, because it is idnexing by strings)\n",
    "\n",
    "# this also the way of indexing, but it is deprecated, use `iloc` or `loc` instead, btw this way is used to indexing by indexes(that manages automatically by pandas) and the custom indexes \n",
    "# seriesX[] \n"
   ]
  },
  {
   "cell_type": "code",
   "execution_count": 32,
   "id": "8d5eae22",
   "metadata": {},
   "outputs": [
    {
     "name": "stdout",
     "output_type": "stream",
     "text": [
      "one     7\n",
      "two    18\n",
      "dtype: int64\n",
      "\n",
      " one       7\n",
      "four    100\n",
      "dtype: int64\n"
     ]
    }
   ],
   "source": [
    "# fancy indexing \n",
    "print(seriesX.iloc[[0,1]])\n",
    "\n",
    "print('\\n',seriesX[['one','four']])"
   ]
  },
  {
   "cell_type": "markdown",
   "id": "8c1379c2",
   "metadata": {},
   "source": [
    "## Editing Series"
   ]
  },
  {
   "cell_type": "code",
   "execution_count": 33,
   "id": "4427c94b",
   "metadata": {},
   "outputs": [
    {
     "name": "stderr",
     "output_type": "stream",
     "text": [
      "C:\\Users\\Vedansh\\AppData\\Local\\Temp\\ipykernel_21356\\3171212768.py:3: FutureWarning: Series.__setitem__ treating keys as positions is deprecated. In a future version, integer keys will always be treated as labels (consistent with DataFrame behavior). To set a value by position, use `ser.iloc[pos] = value`\n",
      "  seriesX[1] = 7\n"
     ]
    }
   ],
   "source": [
    "# using indexing\n",
    "seriesX = pd.Series([7,18,19,100],index=['one','two','three','four'])\n",
    "seriesX[1] = 7\n",
    "seriesX['four'] = 200"
   ]
  },
  {
   "cell_type": "code",
   "execution_count": 34,
   "id": "3f22fc61",
   "metadata": {},
   "outputs": [
    {
     "data": {
      "text/plain": [
       "one        7\n",
       "two        7\n",
       "three     19\n",
       "four     200\n",
       "new      999\n",
       "dtype: int64"
      ]
     },
     "execution_count": 34,
     "metadata": {},
     "output_type": "execute_result"
    }
   ],
   "source": [
    "# if index not exist, it will create one\n",
    "seriesX['new'] = 999\n",
    "seriesX"
   ]
  },
  {
   "cell_type": "code",
   "execution_count": 35,
   "id": "21667c20",
   "metadata": {},
   "outputs": [
    {
     "name": "stdout",
     "output_type": "stream",
     "text": [
      "one        7\n",
      "two        0\n",
      "three      0\n",
      "four       0\n",
      "new      999\n",
      "dtype: int64\n"
     ]
    },
    {
     "data": {
      "text/plain": [
       "one        7\n",
       "two      111\n",
       "three    111\n",
       "four       0\n",
       "new      999\n",
       "dtype: int64"
      ]
     },
     "execution_count": 35,
     "metadata": {},
     "output_type": "execute_result"
    }
   ],
   "source": [
    "# editing through slicing\n",
    "seriesX['two':'four'] = 0  # including value of `four`\n",
    "print(seriesX) \n",
    "\n",
    "# or using `seriesX.iloc[1:4] = 0`\n",
    "seriesX.iloc[1:3] = 111\n",
    "seriesX"
   ]
  },
  {
   "cell_type": "code",
   "execution_count": 36,
   "id": "2f9078e1",
   "metadata": {},
   "outputs": [
    {
     "data": {
      "text/plain": [
       "one        7\n",
       "two      991\n",
       "three    111\n",
       "four       0\n",
       "new      991\n",
       "dtype: int64"
      ]
     },
     "execution_count": 36,
     "metadata": {},
     "output_type": "execute_result"
    }
   ],
   "source": [
    "# through fancy indexing\n",
    "seriesX[['two','new']] = 991\n",
    "seriesX"
   ]
  },
  {
   "cell_type": "code",
   "execution_count": 37,
   "id": "a71728ff",
   "metadata": {},
   "outputs": [
    {
     "data": {
      "text/plain": [
       "one         7\n",
       "two       991\n",
       "three     111\n",
       "four        0\n",
       "new      9999\n",
       "dtype: int64"
      ]
     },
     "execution_count": 37,
     "metadata": {},
     "output_type": "execute_result"
    }
   ],
   "source": [
    "# using index label\n",
    "seriesX['new'] = 9999\n",
    "seriesX"
   ]
  },
  {
   "cell_type": "markdown",
   "id": "82c2a3cd",
   "metadata": {},
   "source": [
    "## Series with Python Functionalities"
   ]
  },
  {
   "cell_type": "code",
   "execution_count": 38,
   "id": "47e3a5d4",
   "metadata": {},
   "outputs": [
    {
     "name": "stdout",
     "output_type": "stream",
     "text": [
      "4\n",
      "<class 'pandas.core.series.Series'>\n",
      "['T', '_AXIS_LEN', '_AXIS_ORDERS', '_AXIS_TO_AXIS_NUMBER', '_HANDLED_TYPES', '__abs__', '__add__', '__and__', '__annotations__', '__array__', '__array_priority__', '__array_ufunc__', '__bool__', '__class__', '__column_consortium_standard__', '__contains__', '__copy__', '__deepcopy__', '__delattr__', '__delitem__', '__dict__', '__dir__', '__divmod__', '__doc__', '__eq__', '__finalize__', '__firstlineno__', '__float__', '__floordiv__', '__format__', '__ge__', '__getattr__', '__getattribute__', '__getitem__', '__getstate__', '__gt__', '__hash__', '__iadd__', '__iand__', '__ifloordiv__', '__imod__', '__imul__', '__init__', '__init_subclass__', '__int__', '__invert__', '__ior__', '__ipow__', '__isub__', '__iter__', '__itruediv__', '__ixor__', '__le__', '__len__', '__lt__', '__matmul__', '__mod__', '__module__', '__mul__', '__ne__', '__neg__', '__new__', '__nonzero__', '__or__', '__pandas_priority__', '__pos__', '__pow__', '__radd__', '__rand__', '__rdivmod__', '__reduce__', '__reduce_ex__', '__repr__', '__rfloordiv__', '__rmatmul__', '__rmod__', '__rmul__', '__ror__', '__round__', '__rpow__', '__rsub__', '__rtruediv__', '__rxor__', '__setattr__', '__setitem__', '__setstate__', '__sizeof__', '__static_attributes__', '__str__', '__sub__', '__subclasshook__', '__truediv__', '__weakref__', '__xor__', '_accessors', '_accum_func', '_agg_examples_doc', '_agg_see_also_doc', '_align_for_op', '_align_frame', '_align_series', '_append', '_arith_method', '_as_manager', '_attrs', '_binop', '_can_hold_na', '_check_inplace_and_allows_duplicate_labels', '_check_is_chained_assignment_possible', '_check_label_or_level_ambiguity', '_check_setitem_copy', '_clear_item_cache', '_clip_with_one_bound', '_clip_with_scalar', '_cmp_method', '_consolidate', '_consolidate_inplace', '_construct_axes_dict', '_construct_result', '_constructor', '_constructor_expanddim', '_constructor_expanddim_from_mgr', '_constructor_from_mgr', '_data', '_deprecate_downcast', '_dir_additions', '_dir_deletions', '_drop_axis', '_drop_labels_or_levels', '_duplicated', '_find_valid_index', '_flags', '_flex_method', '_from_mgr', '_get_axis', '_get_axis_name', '_get_axis_number', '_get_axis_resolvers', '_get_block_manager_axis', '_get_bool_data', '_get_cacher', '_get_cleaned_column_resolvers', '_get_index_resolvers', '_get_label_or_level_values', '_get_numeric_data', '_get_rows_with_mask', '_get_value', '_get_values_tuple', '_get_with', '_getitem_slice', '_gotitem', '_hidden_attrs', '_indexed_same', '_info_axis', '_info_axis_name', '_info_axis_number', '_init_dict', '_init_mgr', '_inplace_method', '_internal_names', '_internal_names_set', '_is_cached', '_is_copy', '_is_label_or_level_reference', '_is_label_reference', '_is_level_reference', '_is_mixed_type', '_is_view', '_is_view_after_cow_rules', '_item_cache', '_ixs', '_logical_func', '_logical_method', '_map_values', '_maybe_update_cacher', '_memory_usage', '_metadata', '_mgr', '_min_count_stat_function', '_name', '_needs_reindex_multi', '_pad_or_backfill', '_protect_consolidate', '_reduce', '_references', '_reindex_axes', '_reindex_indexer', '_reindex_multi', '_reindex_with_indexers', '_rename', '_replace_single', '_repr_data_resource_', '_repr_latex_', '_reset_cache', '_reset_cacher', '_set_as_cached', '_set_axis', '_set_axis_name', '_set_axis_nocheck', '_set_is_copy', '_set_labels', '_set_name', '_set_value', '_set_values', '_set_with', '_set_with_engine', '_shift_with_freq', '_slice', '_stat_function', '_stat_function_ddof', '_take_with_is_copy', '_to_latex_via_styler', '_typ', '_update_inplace', '_validate_dtype', '_values', '_where', 'abs', 'add', 'add_prefix', 'add_suffix', 'agg', 'aggregate', 'align', 'all', 'any', 'apply', 'argmax', 'argmin', 'argsort', 'array', 'asfreq', 'asof', 'astype', 'at', 'at_time', 'attrs', 'autocorr', 'axes', 'backfill', 'between', 'between_time', 'bfill', 'bool', 'case_when', 'clip', 'combine', 'combine_first', 'compare', 'convert_dtypes', 'copy', 'corr', 'count', 'cov', 'cummax', 'cummin', 'cumprod', 'cumsum', 'describe', 'diff', 'div', 'divide', 'divmod', 'dot', 'drop', 'drop_duplicates', 'droplevel', 'dropna', 'dtype', 'dtypes', 'duplicated', 'empty', 'eq', 'equals', 'ewm', 'expanding', 'explode', 'factorize', 'ffill', 'fillna', 'filter', 'first', 'first_valid_index', 'flags', 'floordiv', 'four', 'ge', 'get', 'groupby', 'gt', 'hasnans', 'head', 'hist', 'iat', 'idxmax', 'idxmin', 'iloc', 'index', 'infer_objects', 'info', 'interpolate', 'is_monotonic_decreasing', 'is_monotonic_increasing', 'is_unique', 'isin', 'isna', 'isnull', 'item', 'items', 'keys', 'kurt', 'kurtosis', 'last', 'last_valid_index', 'le', 'list', 'loc', 'lt', 'map', 'mask', 'max', 'mean', 'median', 'memory_usage', 'min', 'mod', 'mode', 'mul', 'multiply', 'name', 'nbytes', 'ndim', 'ne', 'nlargest', 'notna', 'notnull', 'nsmallest', 'nunique', 'one', 'pad', 'pct_change', 'pipe', 'plot', 'pop', 'pow', 'prod', 'product', 'quantile', 'radd', 'rank', 'ravel', 'rdiv', 'rdivmod', 'reindex', 'reindex_like', 'rename', 'rename_axis', 'reorder_levels', 'repeat', 'replace', 'resample', 'reset_index', 'rfloordiv', 'rmod', 'rmul', 'rolling', 'round', 'rpow', 'rsub', 'rtruediv', 'sample', 'searchsorted', 'sem', 'set_axis', 'set_flags', 'shape', 'shift', 'size', 'skew', 'sort_index', 'sort_values', 'squeeze', 'std', 'struct', 'sub', 'subtract', 'sum', 'swapaxes', 'swaplevel', 'tail', 'take', 'three', 'to_clipboard', 'to_csv', 'to_dict', 'to_excel', 'to_frame', 'to_hdf', 'to_json', 'to_latex', 'to_list', 'to_markdown', 'to_numpy', 'to_period', 'to_pickle', 'to_sql', 'to_string', 'to_timestamp', 'to_xarray', 'transform', 'transpose', 'truediv', 'truncate', 'two', 'tz_convert', 'tz_localize', 'unique', 'unstack', 'update', 'value_counts', 'values', 'var', 'view', 'where', 'xs']\n",
      "[7, 18, 19, 100]\n",
      "7\n",
      "100\n"
     ]
    }
   ],
   "source": [
    "seriesM  = pd.Series([7,18,19,100],index=['one','two','three','four'])\n",
    "print(len(seriesM)) # total items\n",
    "print(type(seriesM))\n",
    "print(dir(seriesM))\n",
    "print(sorted(seriesM))\n",
    "print(min(seriesM))\n",
    "print(max(seriesM))"
   ]
  },
  {
   "cell_type": "code",
   "execution_count": 39,
   "id": "7a084ae4",
   "metadata": {},
   "outputs": [
    {
     "data": {
      "text/plain": [
       "[7, 18, 19, 100]"
      ]
     },
     "execution_count": 39,
     "metadata": {},
     "output_type": "execute_result"
    }
   ],
   "source": [
    "list(seriesM) # put all value in list"
   ]
  },
  {
   "cell_type": "code",
   "execution_count": 40,
   "id": "1752db26",
   "metadata": {},
   "outputs": [
    {
     "data": {
      "text/plain": [
       "{'one': np.int64(7),\n",
       " 'two': np.int64(18),\n",
       " 'three': np.int64(19),\n",
       " 'four': np.int64(100)}"
      ]
     },
     "execution_count": 40,
     "metadata": {},
     "output_type": "execute_result"
    }
   ],
   "source": [
    "dict(seriesM) # put all value in dict"
   ]
  },
  {
   "cell_type": "code",
   "execution_count": 41,
   "id": "8fa36b1d",
   "metadata": {},
   "outputs": [
    {
     "data": {
      "text/plain": [
       "True"
      ]
     },
     "execution_count": 41,
     "metadata": {},
     "output_type": "execute_result"
    }
   ],
   "source": [
    "# 'membership' in operator\n",
    "'one' in seriesM # to check if specific index exist in series or not"
   ]
  },
  {
   "cell_type": "code",
   "execution_count": 42,
   "id": "456a9fbc",
   "metadata": {},
   "outputs": [
    {
     "name": "stdout",
     "output_type": "stream",
     "text": [
      "7\n",
      "18\n",
      "19\n",
      "100\n",
      "\n",
      "\n",
      "one\n",
      "two\n",
      "three\n",
      "four\n"
     ]
    }
   ],
   "source": [
    "# for loops in series, (loops on values)\n",
    "for i in seriesM:\n",
    "    print(i)\n",
    "# But let's we wanna loop on indexes\n",
    "print('\\n')\n",
    "for i in seriesM.index:\n",
    "    print(i)\n"
   ]
  },
  {
   "cell_type": "code",
   "execution_count": 43,
   "id": "8022f8f9",
   "metadata": {},
   "outputs": [
    {
     "data": {
      "text/plain": [
       "one        9\n",
       "two       20\n",
       "three     21\n",
       "four     102\n",
       "dtype: int64"
      ]
     },
     "execution_count": 43,
     "metadata": {},
     "output_type": "execute_result"
    }
   ],
   "source": [
    "# Arithmetic operators (with values) - https://www.youtube.com/live/zCDVUyq8lkw?si=kXWRmBWOSv4-pGY2&t=6287\n",
    "seriesM + 2 "
   ]
  },
  {
   "cell_type": "code",
   "execution_count": 44,
   "id": "f7e16f4d",
   "metadata": {},
   "outputs": [
    {
     "data": {
      "text/plain": [
       "one       True\n",
       "two      False\n",
       "three    False\n",
       "four     False\n",
       "dtype: bool"
      ]
     },
     "execution_count": 44,
     "metadata": {},
     "output_type": "execute_result"
    }
   ],
   "source": [
    "# Relational operators (with values) (we get boolean values)\n",
    "seriesM == 7\n"
   ]
  },
  {
   "cell_type": "code",
   "execution_count": 45,
   "id": "e5dba7a0",
   "metadata": {},
   "outputs": [
    {
     "data": {
      "text/plain": [
       "one    7\n",
       "dtype: int64"
      ]
     },
     "execution_count": 45,
     "metadata": {},
     "output_type": "execute_result"
    }
   ],
   "source": [
    "seriesM[seriesM ==7 ] # boolean indexing, all we just doing is putting boolean series on our original series to index based on boolean"
   ]
  },
  {
   "cell_type": "markdown",
   "id": "c5870156",
   "metadata": {},
   "source": [
    "## Plotting Graphs On series\n",
    "[See this video clip](https://www.youtube.com/live/zCDVUyq8lkw?si=B-VZylv_fsxt3yQX&t=6937)"
   ]
  },
  {
   "cell_type": "code",
   "execution_count": 46,
   "id": "4267acf4",
   "metadata": {},
   "outputs": [
    {
     "name": "stdout",
     "output_type": "stream",
     "text": [
      "0    193\n",
      "1    161\n",
      "2    167\n",
      "3    188\n",
      "4    157\n",
      "5    176\n",
      "6    182\n",
      "7    122\n",
      "8    105\n",
      "9    129\n",
      "dtype: int64\n"
     ]
    },
    {
     "data": {
      "text/plain": [
       "<Axes: >"
      ]
     },
     "execution_count": 46,
     "metadata": {},
     "output_type": "execute_result"
    },
    {
     "data": {
      "image/png": "[encoded data removed]",
      "text/plain": [
       "<Figure size 640x480 with 1 Axes>"
      ]
     },
     "metadata": {},
     "output_type": "display_data"
    }
   ],
   "source": [
    "rng = np.random.default_rng(7)\n",
    "randomSeriesData = pd.Series(rng.integers(100,199,10))\n",
    "print(randomSeriesData) \n",
    "randomSeriesData.plot() # by default it is line graph\n",
    "randomSeriesData.plot(kind='bar') # it combine bar and line graph if you both plot together\n",
    "\n"
   ]
  },
  {
   "cell_type": "code",
   "execution_count": 47,
   "id": "78fab96d",
   "metadata": {},
   "outputs": [
    {
     "data": {
      "text/plain": [
       "<Axes: >"
      ]
     },
     "execution_count": 47,
     "metadata": {},
     "output_type": "execute_result"
    },
    {
     "data": {
      "image/png": "[encoded data removed]",
      "text/plain": [
       "<Figure size 640x480 with 1 Axes>"
      ]
     },
     "metadata": {},
     "output_type": "display_data"
    }
   ],
   "source": [
    "randomSeriesData.plot(kind='barh')"
   ]
  },
  {
   "cell_type": "code",
   "execution_count": 48,
   "id": "311c5d0e",
   "metadata": {},
   "outputs": [
    {
     "data": {
      "text/plain": [
       "<Axes: >"
      ]
     },
     "execution_count": 48,
     "metadata": {},
     "output_type": "execute_result"
    },
    {
     "data": {
      "image/png": "[encoded data removed]",
      "text/plain": [
       "<Figure size 640x480 with 1 Axes>"
      ]
     },
     "metadata": {},
     "output_type": "display_data"
    }
   ],
   "source": [
    "randomSeriesData.plot(kind='pie')"
   ]
  },
  {
   "cell_type": "code",
   "execution_count": 49,
   "id": "8bbf2d75",
   "metadata": {},
   "outputs": [
    {
     "data": {
      "text/plain": [
       "<Axes: ylabel='Frequency'>"
      ]
     },
     "execution_count": 49,
     "metadata": {},
     "output_type": "execute_result"
    },
    {
     "data": {
      "image/png": "[encoded data removed]",
      "text/plain": [
       "<Figure size 640x480 with 1 Axes>"
      ]
     },
     "metadata": {},
     "output_type": "display_data"
    }
   ],
   "source": [
    "# means  \n",
    "randomSeriesData.plot(kind='hist',bins=[100,120,140,160,180,200]) "
   ]
  },
  {
   "cell_type": "markdown",
   "id": "f3063ce0",
   "metadata": {},
   "source": [
    "## Some more important series methods"
   ]
  },
  {
   "cell_type": "code",
   "execution_count": 50,
   "id": "ecc06643",
   "metadata": {},
   "outputs": [],
   "source": [
    "# abs\n",
    "# agg and apply\n",
    "# astype\n",
    "# between\n",
    "# clip\n",
    "# drop_duplicates and reset_index\n",
    "# duplicated\n",
    "# dropna and isnull,isna\n",
    "# fillna and ffill,bfill\n",
    "# filter\n",
    "# map\n",
    "# str\n",
    "# isin\n",
    "# to_dict\n",
    "# pd.concat"
   ]
  },
  {
   "cell_type": "code",
   "execution_count": 51,
   "id": "72174a8e",
   "metadata": {},
   "outputs": [
    {
     "data": {
      "text/plain": [
       "0    182\n",
       "1     86\n",
       "2    104\n",
       "3    168\n",
       "4     72\n",
       "5    131\n",
       "6    149\n",
       "7    -33\n",
       "8    -84\n",
       "9    -11\n",
       "dtype: int64"
      ]
     },
     "execution_count": 51,
     "metadata": {},
     "output_type": "execute_result"
    }
   ],
   "source": [
    "rng = np.random.default_rng(7)\n",
    "randomSeriesData2 =  pd.Series(rng.integers(-100,199,10))\n",
    "randomSeriesData2"
   ]
  },
  {
   "cell_type": "code",
   "execution_count": 52,
   "id": "263c66e2",
   "metadata": {},
   "outputs": [
    {
     "data": {
      "text/plain": [
       "0    182\n",
       "1     86\n",
       "2    104\n",
       "3    168\n",
       "4     72\n",
       "5    131\n",
       "6    149\n",
       "7     33\n",
       "8     84\n",
       "9     11\n",
       "dtype: int64"
      ]
     },
     "execution_count": 52,
     "metadata": {},
     "output_type": "execute_result"
    }
   ],
   "source": [
    "# abs -> all absolute values\n",
    "randomSeriesData2.abs()"
   ]
  },
  {
   "cell_type": "code",
   "execution_count": 53,
   "id": "df3e39db",
   "metadata": {},
   "outputs": [
    {
     "name": "stdout",
     "output_type": "stream",
     "text": [
      "30.0 \n",
      "\n",
      "first     0.731059\n",
      "second    0.880797\n",
      "third     0.952574\n",
      "fourth    0.982014\n",
      "fifth     0.993307\n",
      "dtype: float64\n",
      "4\n"
     ]
    },
    {
     "data": {
      "text/plain": [
       "first     1\n",
       "second    2\n",
       "third     3\n",
       "fourth    4\n",
       "fifth     5\n",
       "dtype: int64"
      ]
     },
     "execution_count": 53,
     "metadata": {},
     "output_type": "execute_result"
    }
   ],
   "source": [
    "# agg -> .agg() stands for aggregate, and it's used to apply one or more functions to a Series.\n",
    "# Where func can be:\n",
    "    # - A single function like 'mean', 'sum', 'min', 'max', etc.\n",
    "    # - A list of functions to apply all at once\n",
    "    # - A custom lambda function or user-defined function\n",
    "\n",
    "# ------------------------------------------------------------------------\n",
    "\"\"\" Use `.apply()`, to apply function to just values of the series \n",
    "instead of apply to whole series, example -> https://youtu.be/80QpbZA38HA?si=Ow0AWZkwg1enSoN9&t=991\n",
    "\"\"\"\n",
    "# ------------------------------------------------------------------------\n",
    "# Example \n",
    "import pandas as pd\n",
    "\n",
    "s = pd.Series([10, 20, 30, 40, 50])\n",
    "\n",
    "# 🧮 Apply a single aggregation function:\n",
    "\n",
    "print(s.agg('mean'),'\\n')\n",
    "# Output: 30.0\n",
    "\n",
    "# 🧮 Apply multiple aggregations:\n",
    "\n",
    "\n",
    "s.agg(['min', 'max', 'std'])\n",
    "# Output:\n",
    "# min    10.000000\n",
    "# max    50.000000\n",
    "# std    15.811388\n",
    "\n",
    "\n",
    "# 🧮 Use a custom function:\n",
    "\n",
    "forCustomFunction = pd.Series(index=['first','second','third','fourth','fifth'],data=[1,2,3,4,5])\n",
    "\n",
    "def sigMoid(x):\n",
    "    return pd.Series(1 / (1 + np.exp(-x.values)),index=x.index)\n",
    "\n",
    "print(forCustomFunction.agg(sigMoid))\n",
    "\n",
    "\n",
    "\n",
    "print(forCustomFunction.agg(lambda x: x.max() - x.min()))\n",
    "# Output: 40  (range of the values)\n",
    "forCustomFunction"
   ]
  },
  {
   "cell_type": "code",
   "execution_count": 54,
   "id": "2aeb70cf",
   "metadata": {},
   "outputs": [
    {
     "name": "stdout",
     "output_type": "stream",
     "text": [
      "0    110\n",
      "1    120\n",
      "2    130\n",
      "3    140\n",
      "4    150\n",
      "dtype: int64 \n",
      "\n",
      "a    11.0\n",
      "b    22.0\n",
      "c     NaN\n",
      "d     NaN\n",
      "dtype: float64\n",
      "\n",
      "a    11.0\n",
      "b    22.0\n",
      "c    30.0\n",
      "d     3.0\n",
      "dtype: float64\n"
     ]
    }
   ],
   "source": [
    "print(s.add(100),'\\n') # basically its like s + 100, but add() gives you extra control like handling missing values (NaN) with a fill_value.\n",
    "\n",
    "# but when indices are strings, it will add value of index to its corresponding index value (means the addition is done by index matching.), this behaviour is same with `+`\n",
    "s1 = pd.Series([10, 20, 30], index=['a', 'b', 'c'])\n",
    "s2 = pd.Series([1, 2, 3], index=['a', 'b', 'd'])\n",
    "\n",
    "print(s1 + s2)\n",
    "# Output:\n",
    "# a    11.0\n",
    "# b    22.0\n",
    "# c     NaN\n",
    "# d     NaN\n",
    "\n",
    "print()\n",
    "\n",
    "print(s1.add(s2, fill_value=0))  # means Handles missing values as 0\n",
    "# Output:\n",
    "# a    11.0\n",
    "# b    22.0\n",
    "# c    30.0   ← from s1 (s2 had no value, treated as 0)  0 + 30\n",
    "# d     3.0   ← from s2 (s1 had no value, treated as 0)  0 + 3"
   ]
  },
  {
   "cell_type": "code",
   "execution_count": 55,
   "id": "c5f28e77",
   "metadata": {},
   "outputs": [
    {
     "name": "stdout",
     "output_type": "stream",
     "text": [
      "a    True\n",
      "b    True\n",
      "c    True\n",
      "dtype: bool\n",
      "a    10\n",
      "b    20\n",
      "c    30\n",
      "dtype: category\n",
      "Categories (3, int64): [10, 20, 30]\n"
     ]
    },
    {
     "data": {
      "text/plain": [
       "0        1\n",
       "1        2\n",
       "2    three\n",
       "dtype: object"
      ]
     },
     "execution_count": 55,
     "metadata": {},
     "output_type": "execute_result"
    }
   ],
   "source": [
    "\n",
    "# astype() is a super useful method in pandas that lets you change the data type of a Series (or column in a DataFrame).\n",
    "# Series.astype() — Convert Data Types\n",
    "\n",
    "# series.astype(new_type)\n",
    "\n",
    "# Where new_type can be:\n",
    "\n",
    "    # - A standard Python type like int, float, str\n",
    "    # - A NumPy type like np.int32, np.float64\n",
    "    # - A pandas dtype like 'category', 'datetime64', etc.\n",
    "\n",
    "print(s1.astype(bool))\n",
    "print(s1.astype('category'))\n",
    "\n",
    "\n",
    "# ❌ If conversion fails:\n",
    "\n",
    "sNew = pd.Series(['1', '2', 'three'])\n",
    "# You can catch such issues using pd.to_numeric(s, errors='coerce') (it will turn invalid entries into NaN instead of crashing).\n",
    "sNew.astype(int,errors='ignore')  # Error! 'three' can’t be converted to int, but can be ignored\n",
    "\n"
   ]
  },
  {
   "cell_type": "code",
   "execution_count": 56,
   "id": "b2242e52",
   "metadata": {},
   "outputs": [
    {
     "name": "stdout",
     "output_type": "stream",
     "text": [
      "0    False\n",
      "1     True\n",
      "2     True\n",
      "3     True\n",
      "4    False\n",
      "dtype: bool\n",
      "\n",
      "0    10\n",
      "1    20\n",
      "dtype: int64\n",
      "0    False\n",
      "1    False\n",
      "2     True\n",
      "3    False\n",
      "4    False\n",
      "dtype: bool\n"
     ]
    }
   ],
   "source": [
    "# between \n",
    "\"\"\" 🔍 What is .between()?\n",
    ".between() checks if each value in a Series falls between two values — inclusive by default. \"\"\"\n",
    "\n",
    "# series.between(lower_bound, upper_bound, inclusive='both')\n",
    "# Parameters:\n",
    "    # lower_bound: minimum value of the range\n",
    "    # upper_bound: maximum value of the range\n",
    "    # inclusive: whether to include the bounds\n",
    "        # 'both' → include both ends (default)  \n",
    "        # 'left' → include only left bound  \n",
    "        # 'right' → include only right bound    \n",
    "        # 'neither' → exclude both ends \n",
    "\n",
    "\n",
    "\n",
    "import pandas as pd\n",
    "\n",
    "sNew2 = pd.Series([5, 10, 15, 20, 25])\n",
    "\n",
    "print(sNew2.between(10, 20)) # So it returns a boolean Series where each value is checked: 10 ≤ x ≤ 20\n",
    "# Output:\n",
    "# 0    False\n",
    "# 1     True\n",
    "# 2     True\n",
    "# 3     True\n",
    "# 4    False\n",
    "\n",
    "print()\n",
    "\n",
    "print(s[s.between(10, 20)]) # You get only the values between 10 and 20, inclusive.\n",
    "\n",
    "\n",
    "# Exclusive bounds:\n",
    "print(sNew2.between(10, 20, inclusive='neither'))\n",
    "# Only 15 is strictly between 10 and 20."
   ]
  },
  {
   "cell_type": "code",
   "execution_count": 57,
   "id": "a1b3ec0f",
   "metadata": {},
   "outputs": [
    {
     "data": {
      "text/plain": [
       "0    15\n",
       "1    15\n",
       "2    15\n",
       "3    20\n",
       "4    21\n",
       "dtype: int64"
      ]
     },
     "execution_count": 57,
     "metadata": {},
     "output_type": "execute_result"
    }
   ],
   "source": [
    "# `clip`\n",
    "# .clip() is another awesome pandas Series method — it’s used to limit values in a Series to a given range.\n",
    "\n",
    "# Series.clip() — Clamp/Limit Values\n",
    "# It replaces values below a lower bound or above an upper bound with those bounds.\n",
    "\n",
    "# 📦 Common Use Cases:\n",
    "    # Clamping outliers in data\n",
    "    # Limiting predictions to a valid range\n",
    "    # Normalizing/cleaning values before plotting\n",
    "\n",
    "sNew2.clip(lower=15,upper=21)"
   ]
  },
  {
   "cell_type": "code",
   "execution_count": null,
   "id": "7bfbcc1c",
   "metadata": {},
   "outputs": [
    {
     "name": "stdout",
     "output_type": "stream",
     "text": [
      "0    1\n",
      "1    2\n",
      "2    2\n",
      "3    3\n",
      "4    1\n",
      "5    4\n",
      "dtype: int64 \n",
      "\n",
      "0    1\n",
      "1    2\n",
      "3    3\n",
      "5    4\n",
      "dtype: int64\n",
      "\n",
      "2    2\n",
      "3    3\n",
      "4    1\n",
      "5    4\n",
      "dtype: int64\n",
      "\n",
      "3    3\n",
      "5    4\n",
      "dtype: int64\n",
      "\n",
      "0    2\n",
      "1    3\n",
      "2    1\n",
      "3    4\n",
      "dtype: int64\n"
     ]
    }
   ],
   "source": [
    "# keep\n",
    "# 🔁 Series.drop_duplicates() — Remove Repeated Values\n",
    "# It removes duplicate entries in a Series or DataFrame and keeps only the first occurrence (by default).\n",
    "\n",
    "# Parameters:\n",
    "    # - keep='first' → Keep the first occurrence (default)\n",
    "    # - keep='last' → Keep the last occurrence\n",
    "    # - keep=False → Drop all duplicates, Only values that occur once are kept.\n",
    "\n",
    "\"\"\"\n",
    "📌 Notes:\n",
    "- It preserves the index of the original entries\n",
    "- You can reset the index with .reset_index(drop=True) if needed\n",
    "- Works on DataFrames too, with subset control (e.g. df.drop_duplicates(subset=['col1', 'col2'])) \n",
    "\"\"\"\n",
    "\n",
    "\n",
    "sNew3 = pd.Series([1, 2, 2, 3, 1, 4])\n",
    "print(sNew3,'\\n')\n",
    "print(sNew3.drop_duplicates(keep='first'))\n",
    "print()\n",
    "print(sNew3.drop_duplicates(keep='last'))\n",
    "\n",
    "print()\n",
    "# Only values that occur once are kept.\n",
    "print(sNew3.drop_duplicates(keep=False))\n",
    "\n",
    "# reset index example\n",
    "print()\n",
    "print(sNew3.drop_duplicates(keep='last').reset_index(drop=True)) # `drop=True` means drop previous indexes\n"
   ]
  },
  {
   "cell_type": "code",
   "execution_count": 59,
   "id": "c63b1655",
   "metadata": {},
   "outputs": [
    {
     "data": {
      "text/plain": [
       "0    False\n",
       "1    False\n",
       "2     True\n",
       "3    False\n",
       "4     True\n",
       "5    False\n",
       "dtype: bool"
      ]
     },
     "execution_count": 59,
     "metadata": {},
     "output_type": "execute_result"
    }
   ],
   "source": [
    "# duplicated, returns a boolean Series where each value is checked: whether it's duplicated or not.\n",
    "sNew3.duplicated() "
   ]
  },
  {
   "cell_type": "code",
   "execution_count": 60,
   "id": "3c5d2a1b",
   "metadata": {},
   "outputs": [
    {
     "name": "stdout",
     "output_type": "stream",
     "text": [
      "0    False\n",
      "1     True\n",
      "2    False\n",
      "3     True\n",
      "4    False\n",
      "dtype: bool\n",
      "\n",
      "0    False\n",
      "1     True\n",
      "2    False\n",
      "3     True\n",
      "4    False\n",
      "dtype: bool\n"
     ]
    }
   ],
   "source": [
    "# dropna\n",
    "# .dropna() — one of the most commonly used data cleaning methods in pandas.\n",
    "\"\"\" 🚫 Series.dropna() — Remove Missing Values (NaN)\n",
    "When you're working with data, you'll often encounter missing values (NaN).\n",
    ".dropna() helps you remove them quickly.\n",
    " \"\"\"\n",
    "# np.nan and None are treated as missing\n",
    "\n",
    "sNew4 = pd.Series([10, np.nan, 20, None, 30])\n",
    "\n",
    "sNew4.dropna() # again we can reset index using `.reset_index(drop=True)`\n",
    "# Output:\n",
    "# 0    10.0\n",
    "# 2    20.0\n",
    "# 4    30.0\n",
    "\n",
    "\n",
    "# isnull, check which values are null or NaN\n",
    "print(sNew4.isnull())\n",
    "\n",
    "# isna, same as `isNull`\n",
    "print()\n",
    "print(sNew4.isna())\n",
    "\n",
    "\n",
    "\n",
    "# For DataFrames, .dropna() has more power — you can drop rows or columns based on how many nulls they have, etc.\n"
   ]
  },
  {
   "cell_type": "code",
   "execution_count": 61,
   "id": "b974459e",
   "metadata": {},
   "outputs": [
    {
     "name": "stdout",
     "output_type": "stream",
     "text": [
      "0    1.0\n",
      "1    NaN\n",
      "2    3.0\n",
      "3    NaN\n",
      "4    5.0\n",
      "dtype: float64 \n",
      "\n",
      "0    1.0\n",
      "1    7.0\n",
      "2    3.0\n",
      "3    7.0\n",
      "4    5.0\n",
      "dtype: float64\n",
      "\n",
      "0    1.0\n",
      "1    1.0\n",
      "2    3.0\n",
      "3    3.0\n",
      "4    5.0\n",
      "dtype: float64\n",
      "\n",
      "0    1.0\n",
      "1    3.0\n",
      "2    3.0\n",
      "3    5.0\n",
      "4    5.0\n",
      "dtype: float64\n",
      "\n"
     ]
    },
    {
     "data": {
      "text/plain": [
       "0    1.0\n",
       "1    3.0\n",
       "2    3.0\n",
       "3    3.0\n",
       "4    5.0\n",
       "dtype: float64"
      ]
     },
     "execution_count": 61,
     "metadata": {},
     "output_type": "execute_result"
    }
   ],
   "source": [
    "# fillna()\n",
    "# the go-to method in pandas to replace missing values (NaN) with something meaningful.\n",
    "\n",
    "# 💧 Series.fillna() — Fill Missing Data\n",
    "\n",
    "# Instead of dropping missing values, .fillna() fills them with a value you choose.\n",
    "\n",
    "sNew5 = pd.Series([1, np.nan, 3, None, 5])\n",
    "print(sNew5,'\\n')\n",
    "\n",
    "\n",
    "print(sNew5.fillna(7))\n",
    "\n",
    "# 🔹 Example of ffill — Forward fill (ffill)\n",
    "# Fills missing values with the previous value:\n",
    "print()\n",
    "print(sNew5.ffill())\n",
    "\n",
    "# 🔹 Example of ffill — Forward fill (bfill)\n",
    "# Fills missing values with the nex value:\n",
    "print()\n",
    "print(sNew5.bfill())\n",
    "\n",
    "# fill with any logic (using `fillna` again)\n",
    "print()\n",
    "mean_val = sNew5.mean()\n",
    "sNew5.fillna(mean_val)\n"
   ]
  },
  {
   "cell_type": "code",
   "execution_count": 62,
   "id": "90a90314",
   "metadata": {},
   "outputs": [
    {
     "name": "stdout",
     "output_type": "stream",
     "text": [
      "a    10\n",
      "b    20\n",
      "c    30\n",
      "dtype: int64 \n",
      "\n",
      "a    10\n",
      "c    30\n",
      "dtype: int64\n",
      "lang_z    10\n",
      "lang_b    20\n",
      "dtype: int64\n",
      "\n",
      "2020    1\n",
      "2021    2\n",
      "dtype: int64\n"
     ]
    },
    {
     "data": {
      "text/plain": [
       "array([1, 2])"
      ]
     },
     "execution_count": 62,
     "metadata": {},
     "output_type": "execute_result"
    }
   ],
   "source": [
    "# filter - 🔹 Series.filter() — Filter by Index Labels\n",
    "# In a Series, .filter() is used to select specific values based on their index labels — not the actual values.\n",
    "\n",
    "# ✅ Syntax: - series.filter(items=None, like=None, regex=None)\n",
    "\n",
    "sNew6 = pd.Series([10, 20, 30], index=['a', 'b', 'c'])\n",
    "print(sNew6,'\\n')\n",
    "\n",
    "# Pick only index 'a' and 'c'\n",
    "print(sNew6.filter(items=['a', 'c']))\n",
    "\n",
    "sNew7 = pd.Series([10, 20, 30], index=['lang_z','lang_b','Langchain'])\n",
    "\n",
    "# Pick index labels that contain 'lang'\n",
    "print(sNew7.filter(like='lang'))\n",
    "print()\n",
    "\n",
    "sNew8 = pd.Series([1, 2, 3], index=['2020', '2021', 'avg'])\n",
    "# Keep index labels that are 4-digit numbers (end and start With 4 digit numbers)\n",
    "print(sNew8.filter(regex=r'^\\d{4}$'))\n",
    "\n",
    "\n",
    "# So .filter() on a Series always works on index labels, not the values inside the series.\n",
    "# If you want to filter by values, you can use simply use `values` property.\n",
    "sNew8.filter(regex=r'^\\d{4}$').values"
   ]
  },
  {
   "cell_type": "code",
   "execution_count": 71,
   "id": "ed6c3fc5",
   "metadata": {},
   "outputs": [
    {
     "name": "stdout",
     "output_type": "stream",
     "text": [
      "0    10\n",
      "1    20\n",
      "2    30\n",
      "dtype: int64\n",
      "0    meow\n",
      "1    bark\n",
      "2     NaN\n",
      "dtype: object\n"
     ]
    },
    {
     "data": {
      "text/plain": [
       "0    100.0\n",
       "1    200.0\n",
       "2      NaN\n",
       "dtype: float64"
      ]
     },
     "execution_count": 71,
     "metadata": {},
     "output_type": "execute_result"
    }
   ],
   "source": [
    "# map \n",
    "# `.map()` lets you apply a function (or mapping) to each element in a Series, one by one, not change in original series\n",
    "# ✅ Syntax: -> series.map(func_or_dict_or_series)\n",
    "\n",
    "# 🔹 1. Using a Function:\n",
    "# Apply any custom or built-in function to every value:\n",
    "sNew9 = pd.Series([1, 2, 3])\n",
    "print(sNew9.map(lambda x: x * 10))\n",
    "\n",
    "# 🔹 2. Using a Dictionary (for mapping values):\n",
    "sNew10 = pd.Series(['cat', 'dog', 'fish'])\n",
    "print(sNew10.map({'cat': 'meow', 'dog': 'bark'}))\n",
    "# Unmatched values become NaN.\n",
    "\n",
    "# 🔹 3. Using Another Series:\n",
    "# You can also map values using another Series:\n",
    "sNew11 = pd.Series(['a', 'b', 'c'])\n",
    "m7 = pd.Series({'a': 100, 'b': 200})\n",
    "\n",
    "sNew11.map(m7)"
   ]
  },
  {
   "cell_type": "code",
   "execution_count": 64,
   "id": "aa62213c",
   "metadata": {},
   "outputs": [
    {
     "data": {
      "text/plain": [
       "0     True\n",
       "1    False\n",
       "2    False\n",
       "dtype: bool"
      ]
     },
     "execution_count": 64,
     "metadata": {},
     "output_type": "execute_result"
    }
   ],
   "source": [
    "# string -> https://www.youtube.com/live/OG31yhRQxPI?si=Jt4MKL7zY0j5Xezq&t=5707\n",
    "# by doing series.str we can convert our series values to string, then we can perform sring operations on that series.\n",
    "sNew11.str.contains('a')"
   ]
  },
  {
   "cell_type": "code",
   "execution_count": 65,
   "id": "05ae2af5",
   "metadata": {},
   "outputs": [
    {
     "data": {
      "text/plain": [
       "0    False\n",
       "1    False\n",
       "2    False\n",
       "dtype: bool"
      ]
     },
     "execution_count": 65,
     "metadata": {},
     "output_type": "execute_result"
    }
   ],
   "source": [
    "# isin -> https://youtu.be/80QpbZA38HA?si=yQgjGpK05xCkP9yT&t=877\n",
    "sNew11.isin([2,1]) # Returns a boolean Series with True where the value is same as one of the list values, False otherwise."
   ]
  },
  {
   "cell_type": "code",
   "execution_count": 66,
   "id": "8bfada1e",
   "metadata": {},
   "outputs": [
    {
     "data": {
      "text/plain": [
       "{0: 'a', 1: 'b', 2: 'c'}"
      ]
     },
     "execution_count": 66,
     "metadata": {},
     "output_type": "execute_result"
    }
   ],
   "source": [
    "# to_dict, to convert series to dictionary, it makes index as keys and corresponding values as dictionary values.\n",
    "sNew11.to_dict()"
   ]
  },
  {
   "cell_type": "code",
   "execution_count": 69,
   "id": "d4c50904",
   "metadata": {},
   "outputs": [
    {
     "data": {
      "text/plain": [
       "0    a\n",
       "1    b\n",
       "2    c\n",
       "0    4\n",
       "1    5\n",
       "2    6\n",
       "dtype: object"
      ]
     },
     "execution_count": 69,
     "metadata": {},
     "output_type": "execute_result"
    }
   ],
   "source": [
    "# pd.concat, it is used to combine multiple series into a single series\n",
    "sNew11 = pd.Series(['a','b','c'])\n",
    "sNew12 = pd.Series([4,5,6])\n",
    "\n",
    "pd.concat([sNew11,sNew12])"
   ]
  },
  {
   "cell_type": "markdown",
   "id": "2eb4dcf5",
   "metadata": {},
   "source": [
    "## to know about how much your series(or any object) is taking storage in the memory"
   ]
  },
  {
   "cell_type": "code",
   "execution_count": null,
   "id": "94af2a74",
   "metadata": {},
   "outputs": [
    {
     "name": "stdout",
     "output_type": "stream",
     "text": [
      "404\n",
      "224\n",
      "<class 'pandas.core.series.Series'>\n",
      "RangeIndex: 30 entries, 0 to 29\n",
      "Series name: None\n",
      "Non-Null Count  Dtype\n",
      "--------------  -----\n",
      "30 non-null     int64\n",
      "dtypes: int64(1)\n",
      "memory usage: 372.0 bytes\n"
     ]
    }
   ],
   "source": [
    "# to know about how much your series(or any object) is taking storage in the memory\n",
    "import sys\n",
    "sNew11 = pd.Series([1,2,3]*10)  # 1 million elements\n",
    "print(sys.getsizeof(sNew11)) # 314 bytes\n",
    "print(sys.getsizeof(pd.Series(sNew11,dtype='int16'))) \n",
    "\n",
    "sNew11.info() # it is also the way to check the size of series and dataframe"
   ]
  },
  {
   "cell_type": "markdown",
   "id": "0e955932",
   "metadata": {},
   "source": [
    "# naming thing in series"
   ]
  },
  {
   "cell_type": "code",
   "execution_count": 4,
   "id": "4abe77e9",
   "metadata": {},
   "outputs": [
    {
     "data": {
      "application/vnd.microsoft.datawrangler.viewer.v0+json": {
       "columns": [
        {
         "name": "index",
         "rawType": "object",
         "type": "string"
        },
        {
         "name": "NewName",
         "rawType": "int64",
         "type": "integer"
        }
       ],
       "conversionMethod": "pd.DataFrame",
       "ref": "709b3d70-77be-4c27-be79-5a20088a259e",
       "rows": [
        [
         "a",
         "1"
        ],
        [
         "b",
         "2"
        ],
        [
         "c",
         "3"
        ],
        [
         "d",
         "4"
        ],
        [
         "e",
         "5"
        ]
       ],
       "shape": {
        "columns": 1,
        "rows": 5
       }
      },
      "text/html": [
       "<div>\n",
       "<style scoped>\n",
       "    .dataframe tbody tr th:only-of-type {\n",
       "        vertical-align: middle;\n",
       "    }\n",
       "\n",
       "    .dataframe tbody tr th {\n",
       "        vertical-align: top;\n",
       "    }\n",
       "\n",
       "    .dataframe thead th {\n",
       "        text-align: right;\n",
       "    }\n",
       "</style>\n",
       "<table border=\"1\" class=\"dataframe\">\n",
       "  <thead>\n",
       "    <tr style=\"text-align: right;\">\n",
       "      <th></th>\n",
       "      <th>NewName</th>\n",
       "    </tr>\n",
       "  </thead>\n",
       "  <tbody>\n",
       "    <tr>\n",
       "      <th>a</th>\n",
       "      <td>1</td>\n",
       "    </tr>\n",
       "    <tr>\n",
       "      <th>b</th>\n",
       "      <td>2</td>\n",
       "    </tr>\n",
       "    <tr>\n",
       "      <th>c</th>\n",
       "      <td>3</td>\n",
       "    </tr>\n",
       "    <tr>\n",
       "      <th>d</th>\n",
       "      <td>4</td>\n",
       "    </tr>\n",
       "    <tr>\n",
       "      <th>e</th>\n",
       "      <td>5</td>\n",
       "    </tr>\n",
       "  </tbody>\n",
       "</table>\n",
       "</div>"
      ],
      "text/plain": [
       "   NewName\n",
       "a        1\n",
       "b        2\n",
       "c        3\n",
       "d        4\n",
       "e        5"
      ]
     },
     "execution_count": 4,
     "metadata": {},
     "output_type": "execute_result"
    }
   ],
   "source": [
    "# Task: Rename Series value column\n",
    "\n",
    "import pandas as pd\n",
    "se7 = pd.Series([1, 2, 3, 4, 5], index=['a', 'b', 'c', 'd', 'e'])\n",
    "# Set Series name directly\n",
    "se7.name = 'NewName'\n",
    "\n",
    "# Rename Series using .rename()\n",
    "se7.rename('NewName')\n",
    "\n",
    "# Rename in place\n",
    "se7.rename('NewName', inplace=True)\n",
    "\n",
    "# Convert Series to DataFrame with name\n",
    "se7.to_frame(name='NewName')"
   ]
  },
  {
   "cell_type": "code",
   "execution_count": null,
   "id": "50bf5242",
   "metadata": {},
   "outputs": [
    {
     "data": {
      "text/plain": [
       "A    1\n",
       "B    2\n",
       "C    3\n",
       "D    4\n",
       "E    5\n",
       "dtype: int64"
      ]
     },
     "execution_count": 6,
     "metadata": {},
     "output_type": "execute_result"
    }
   ],
   "source": [
    "# Task: Rename Series index \n",
    "\n",
    "se17 = pd.Series([1, 2, 3, 4, 5], index=['a', 'b', 'c', 'd', 'e'])\n",
    "se17 = se17.rename({'a': 'A', 'b': 'B', 'c': 'C', 'd': 'D', 'e': 'E'})\n",
    "se17"
   ]
  }
 ],
 "metadata": {
  "kernelspec": {
   "display_name": "Python 3",
   "language": "python",
   "name": "python3"
  },
  "language_info": {
   "codemirror_mode": {
    "name": "ipython",
    "version": 3
   },
   "file_extension": ".py",
   "mimetype": "text/x-python",
   "name": "python",
   "nbconvert_exporter": "python",
   "pygments_lexer": "ipython3",
   "version": "3.13.2"
  }
 },
 "nbformat": 4,
 "nbformat_minor": 5
}
