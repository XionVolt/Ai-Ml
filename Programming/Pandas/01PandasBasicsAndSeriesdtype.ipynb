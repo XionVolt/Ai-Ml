{
 "cells": [
  {
   "cell_type": "markdown",
   "id": "640d1bc8",
   "metadata": {},
   "source": [
    "[What is Pandas](https://www.youtube.com/live/zCDVUyq8lkw?si=5PU7SsP9Q7HRQxuF&t=557)"
   ]
  },
  {
   "cell_type": "markdown",
   "id": "01c47504",
   "metadata": {},
   "source": [
    "***Series and DataFrame are two prominent data structures in pandas***\n",
    "\n",
    "[Pandas Series explained](https://www.youtube.com/live/zCDVUyq8lkw?si=otnRlAXbsMqv4rUd&t=711) "
   ]
  },
  {
   "cell_type": "code",
   "execution_count": 170,
   "id": "8af3cc3c",
   "metadata": {},
   "outputs": [
    {
     "data": {
      "text/plain": [
       "0    a\n",
       "1    b\n",
       "2    c\n",
       "dtype: object"
      ]
     },
     "execution_count": 170,
     "metadata": {},
     "output_type": "execute_result"
    }
   ],
   "source": [
    "import numpy as np\n",
    "import pandas as pd\n",
    "\n",
    "# creating pandas series, and see the video for explanation -> https://www.youtube.com/live/zCDVUyq8lkw?si=tFNlGmNIANJ6RIeO&t=897\n",
    "\n",
    "# string type series\n",
    "labels = ['a', 'b', 'c']\n",
    "pd.Series(data=labels)"
   ]
  },
  {
   "cell_type": "code",
   "execution_count": 171,
   "id": "6b50a33f",
   "metadata": {},
   "outputs": [
    {
     "data": {
      "text/plain": [
       "0    100\n",
       "1    200\n",
       "2    300\n",
       "dtype: int64"
      ]
     },
     "execution_count": 171,
     "metadata": {},
     "output_type": "execute_result"
    }
   ],
   "source": [
    "# integer type series\n",
    "my_list = np.arange(100,301,100)\n",
    "pd.Series(data=my_list)"
   ]
  },
  {
   "cell_type": "code",
   "execution_count": 172,
   "id": "c7479662",
   "metadata": {},
   "outputs": [
    {
     "data": {
      "text/plain": [
       "first     Python\n",
       "second        JS\n",
       "third        C++\n",
       "fourth         C\n",
       "dtype: object"
      ]
     },
     "execution_count": 172,
     "metadata": {},
     "output_type": "execute_result"
    }
   ],
   "source": [
    "# custom index\n",
    "\n",
    "languages = ['Python', 'JS', 'C++','C']\n",
    "pd.Series(data=languages, index=['first', 'second', 'third', 'fourth'])"
   ]
  },
  {
   "cell_type": "code",
   "execution_count": 173,
   "id": "dcf8db5c",
   "metadata": {},
   "outputs": [
    {
     "data": {
      "text/plain": [
       "first     Python\n",
       "second        JS\n",
       "third        C++\n",
       "fourth         C\n",
       "Name: Programming Languages, dtype: object"
      ]
     },
     "execution_count": 173,
     "metadata": {},
     "output_type": "execute_result"
    }
   ],
   "source": [
    "# setting a name a series object, then refer it by that name\n",
    "\n",
    "langs = pd.Series(data=languages, index=['first', 'second', 'third', 'fourth'],name='Programming Languages')\n",
    "langs"
   ]
  },
  {
   "cell_type": "markdown",
   "id": "b88c36b8",
   "metadata": {},
   "source": [
    "[Name your columns , if data have not column names, with `name` parameter of `pd.read_csv`](https://youtu.be/a_XrmKlaGTs?si=wbGmZLBu0LoU_CK5&t=727)"
   ]
  },
  {
   "cell_type": "markdown",
   "id": "0e74474f",
   "metadata": {},
   "source": [
    "## Series From dict "
   ]
  },
  {
   "cell_type": "code",
   "execution_count": 174,
   "id": "a40bfb84",
   "metadata": {},
   "outputs": [
    {
     "data": {
      "text/plain": [
       "first         JS\n",
       "second    Python\n",
       "third        C++\n",
       "fourth         C\n",
       "dtype: object"
      ]
     },
     "execution_count": 174,
     "metadata": {},
     "output_type": "execute_result"
    }
   ],
   "source": [
    "programming_languages = {\n",
    "    'first': 'JS',\n",
    "    'second': 'Python',\n",
    "    'third': 'C++',\n",
    "    'fourth': 'C'\n",
    "}\n",
    "\n",
    "pd.Series(programming_languages) # so key becomes index and values becomes data\n"
   ]
  },
  {
   "cell_type": "markdown",
   "id": "d3e24e87",
   "metadata": {},
   "source": [
    "## Series Attributes"
   ]
  },
  {
   "cell_type": "code",
   "execution_count": 175,
   "id": "8c4bf3c8",
   "metadata": {},
   "outputs": [
    {
     "data": {
      "text/plain": [
       "first     Python\n",
       "second        JS\n",
       "third        C++\n",
       "fourth         C\n",
       "Name: Programming Languages, dtype: object"
      ]
     },
     "execution_count": 175,
     "metadata": {},
     "output_type": "execute_result"
    }
   ],
   "source": [
    "langs "
   ]
  },
  {
   "cell_type": "code",
   "execution_count": 176,
   "id": "04bd2446",
   "metadata": {},
   "outputs": [
    {
     "data": {
      "text/plain": [
       "4"
      ]
     },
     "execution_count": 176,
     "metadata": {},
     "output_type": "execute_result"
    }
   ],
   "source": [
    "# size, number of items in the series\n",
    "\n",
    "langs.size\n"
   ]
  },
  {
   "cell_type": "code",
   "execution_count": 177,
   "id": "c4d42cad",
   "metadata": {},
   "outputs": [
    {
     "data": {
      "text/plain": [
       "dtype('O')"
      ]
     },
     "execution_count": 177,
     "metadata": {},
     "output_type": "execute_result"
    }
   ],
   "source": [
    "# dtype\n",
    "\n",
    "langs.dtype"
   ]
  },
  {
   "cell_type": "code",
   "execution_count": 178,
   "id": "30afc31e",
   "metadata": {},
   "outputs": [
    {
     "data": {
      "text/plain": [
       "'Programming Languages'"
      ]
     },
     "execution_count": 178,
     "metadata": {},
     "output_type": "execute_result"
    }
   ],
   "source": [
    "# name\n",
    "\n",
    "langs.name"
   ]
  },
  {
   "cell_type": "code",
   "execution_count": 179,
   "id": "f16d23ea",
   "metadata": {},
   "outputs": [
    {
     "data": {
      "text/plain": [
       "True"
      ]
     },
     "execution_count": 179,
     "metadata": {},
     "output_type": "execute_result"
    }
   ],
   "source": [
    "# is_unique, tells if all values are unique\n",
    "\n",
    "langs.is_unique"
   ]
  },
  {
   "cell_type": "code",
   "execution_count": 180,
   "id": "455a455c",
   "metadata": {},
   "outputs": [
    {
     "data": {
      "text/plain": [
       "Index(['first', 'second', 'third', 'fourth'], dtype='object')"
      ]
     },
     "execution_count": 180,
     "metadata": {},
     "output_type": "execute_result"
    }
   ],
   "source": [
    "# index, for all index values\n",
    "\n",
    "langs.index"
   ]
  },
  {
   "cell_type": "code",
   "execution_count": 181,
   "id": "c7e0423c",
   "metadata": {},
   "outputs": [
    {
     "data": {
      "text/plain": [
       "array(['Python', 'JS', 'C++', 'C'], dtype=object)"
      ]
     },
     "execution_count": 181,
     "metadata": {},
     "output_type": "execute_result"
    }
   ],
   "source": [
    "# values, return numpy array of all values in the series\n",
    "langs.values"
   ]
  },
  {
   "cell_type": "markdown",
   "id": "f7a2c67c",
   "metadata": {},
   "source": [
    "## Series using `read_csv`"
   ]
  },
  {
   "cell_type": "code",
   "execution_count": 182,
   "id": "372e462b",
   "metadata": {},
   "outputs": [
    {
     "data": {
      "application/vnd.microsoft.datawrangler.viewer.v0+json": {
       "columns": [
        {
         "name": "index",
         "rawType": "int64",
         "type": "integer"
        },
        {
         "name": "Unnamed: 0",
         "rawType": "int64",
         "type": "integer"
        },
        {
         "name": "id",
         "rawType": "int64",
         "type": "integer"
        },
        {
         "name": "location_id",
         "rawType": "int64",
         "type": "integer"
        },
        {
         "name": "address_1",
         "rawType": "object",
         "type": "string"
        },
        {
         "name": "address_2",
         "rawType": "object",
         "type": "unknown"
        },
        {
         "name": "city",
         "rawType": "object",
         "type": "string"
        },
        {
         "name": "state_province",
         "rawType": "object",
         "type": "string"
        },
        {
         "name": "postal_code",
         "rawType": "object",
         "type": "string"
        },
        {
         "name": "country",
         "rawType": "object",
         "type": "string"
        }
       ],
       "conversionMethod": "pd.DataFrame",
       "ref": "d574128e-4b04-4ce7-b474-a4bd5dcdc8a4",
       "rows": [
        [
         "0",
         "0",
         "1",
         "1",
         "2600 Middlefield Road",
         null,
         "Redwood City",
         "CA",
         "94063",
         "US"
        ],
        [
         "1",
         "1",
         "2",
         "2",
         "24 Second Avenue",
         null,
         "San Mateo",
         "CA",
         "94401",
         "US"
        ],
        [
         "2",
         "2",
         "3",
         "3",
         "24 Second Avenue",
         null,
         "San Mateo",
         "CA",
         "94403",
         "US"
        ],
        [
         "3",
         "3",
         "4",
         "4",
         "24 Second Avenue",
         null,
         "San Mateo",
         "CA",
         "94401",
         "US"
        ],
        [
         "4",
         "4",
         "5",
         "5",
         "24 Second Avenue",
         null,
         "San Mateo",
         "CA",
         "94401",
         "US"
        ],
        [
         "5",
         "5",
         "6",
         "6",
         "800 Middle Avenue",
         null,
         "Menlo Park",
         "CA",
         "94025-9881",
         "US"
        ],
        [
         "6",
         "6",
         "7",
         "7",
         "500 Arbor Road",
         null,
         "Menlo Park",
         "CA",
         "94025",
         "US"
        ],
        [
         "7",
         "7",
         "8",
         "8",
         "800 Middle Avenue",
         null,
         "Menlo Park",
         "CA",
         "94025-9881",
         "US"
        ],
        [
         "8",
         "8",
         "9",
         "9",
         "2510 Middlefield Road",
         null,
         "Redwood City",
         "CA",
         "94063",
         "US"
        ],
        [
         "9",
         "9",
         "10",
         "10",
         "1044 Middlefield Road",
         null,
         "Redwood City",
         "CA",
         "94063",
         "US"
        ],
        [
         "10",
         "10",
         "11",
         "11",
         "2140 Euclid Avenue.",
         null,
         "Redwood City",
         "CA",
         "94061",
         "US"
        ],
        [
         "11",
         "11",
         "12",
         "12",
         "1044 Middlefield Road",
         "2nd Floor",
         "Redwood City",
         "CA",
         "94063",
         "US"
        ],
        [
         "12",
         "12",
         "13",
         "13",
         "399 Marine Parkway.",
         null,
         "Redwood City",
         "CA",
         "94065",
         "US"
        ],
        [
         "13",
         "13",
         "14",
         "14",
         "660 Veterans Blvd.",
         null,
         "Redwood City",
         "CA",
         "94063",
         "US"
        ],
        [
         "14",
         "14",
         "15",
         "15",
         "1500 Valencia Street",
         null,
         "San Francisco",
         "CA",
         "94110",
         "US"
        ],
        [
         "15",
         "15",
         "16",
         "16",
         "1161 South Bernardo",
         null,
         "Sunnyvale",
         "CA",
         "94087",
         "US"
        ],
        [
         "16",
         "16",
         "17",
         "17",
         "409 South Spruce Avenue",
         null,
         "South San Francisco",
         "CA",
         "94080",
         "US"
        ],
        [
         "17",
         "17",
         "18",
         "18",
         "114 Fifth Avenue",
         null,
         "Redwood City",
         "CA",
         "94063",
         "US"
        ],
        [
         "18",
         "18",
         "19",
         "19",
         "19 West 39th Avenue",
         null,
         "San Mateo",
         "CA",
         "94403",
         "US"
        ],
        [
         "19",
         "19",
         "20",
         "21",
         "123 El Camino Real",
         null,
         "Belmont",
         "CA",
         "94002",
         "US"
        ],
        [
         "20",
         "20",
         "21",
         "22",
         "2013 Avenue of the fellows",
         "Suite 100",
         "San Francisco",
         "CA",
         "94103",
         "US"
        ]
       ],
       "shape": {
        "columns": 9,
        "rows": 21
       }
      },
      "text/html": [
       "<div>\n",
       "<style scoped>\n",
       "    .dataframe tbody tr th:only-of-type {\n",
       "        vertical-align: middle;\n",
       "    }\n",
       "\n",
       "    .dataframe tbody tr th {\n",
       "        vertical-align: top;\n",
       "    }\n",
       "\n",
       "    .dataframe thead th {\n",
       "        text-align: right;\n",
       "    }\n",
       "</style>\n",
       "<table border=\"1\" class=\"dataframe\">\n",
       "  <thead>\n",
       "    <tr style=\"text-align: right;\">\n",
       "      <th></th>\n",
       "      <th>Unnamed: 0</th>\n",
       "      <th>id</th>\n",
       "      <th>location_id</th>\n",
       "      <th>address_1</th>\n",
       "      <th>address_2</th>\n",
       "      <th>city</th>\n",
       "      <th>state_province</th>\n",
       "      <th>postal_code</th>\n",
       "      <th>country</th>\n",
       "    </tr>\n",
       "  </thead>\n",
       "  <tbody>\n",
       "    <tr>\n",
       "      <th>0</th>\n",
       "      <td>0</td>\n",
       "      <td>1</td>\n",
       "      <td>1</td>\n",
       "      <td>2600 Middlefield Road</td>\n",
       "      <td>NaN</td>\n",
       "      <td>Redwood City</td>\n",
       "      <td>CA</td>\n",
       "      <td>94063</td>\n",
       "      <td>US</td>\n",
       "    </tr>\n",
       "    <tr>\n",
       "      <th>1</th>\n",
       "      <td>1</td>\n",
       "      <td>2</td>\n",
       "      <td>2</td>\n",
       "      <td>24 Second Avenue</td>\n",
       "      <td>NaN</td>\n",
       "      <td>San Mateo</td>\n",
       "      <td>CA</td>\n",
       "      <td>94401</td>\n",
       "      <td>US</td>\n",
       "    </tr>\n",
       "    <tr>\n",
       "      <th>2</th>\n",
       "      <td>2</td>\n",
       "      <td>3</td>\n",
       "      <td>3</td>\n",
       "      <td>24 Second Avenue</td>\n",
       "      <td>NaN</td>\n",
       "      <td>San Mateo</td>\n",
       "      <td>CA</td>\n",
       "      <td>94403</td>\n",
       "      <td>US</td>\n",
       "    </tr>\n",
       "    <tr>\n",
       "      <th>3</th>\n",
       "      <td>3</td>\n",
       "      <td>4</td>\n",
       "      <td>4</td>\n",
       "      <td>24 Second Avenue</td>\n",
       "      <td>NaN</td>\n",
       "      <td>San Mateo</td>\n",
       "      <td>CA</td>\n",
       "      <td>94401</td>\n",
       "      <td>US</td>\n",
       "    </tr>\n",
       "    <tr>\n",
       "      <th>4</th>\n",
       "      <td>4</td>\n",
       "      <td>5</td>\n",
       "      <td>5</td>\n",
       "      <td>24 Second Avenue</td>\n",
       "      <td>NaN</td>\n",
       "      <td>San Mateo</td>\n",
       "      <td>CA</td>\n",
       "      <td>94401</td>\n",
       "      <td>US</td>\n",
       "    </tr>\n",
       "    <tr>\n",
       "      <th>5</th>\n",
       "      <td>5</td>\n",
       "      <td>6</td>\n",
       "      <td>6</td>\n",
       "      <td>800 Middle Avenue</td>\n",
       "      <td>NaN</td>\n",
       "      <td>Menlo Park</td>\n",
       "      <td>CA</td>\n",
       "      <td>94025-9881</td>\n",
       "      <td>US</td>\n",
       "    </tr>\n",
       "    <tr>\n",
       "      <th>6</th>\n",
       "      <td>6</td>\n",
       "      <td>7</td>\n",
       "      <td>7</td>\n",
       "      <td>500 Arbor Road</td>\n",
       "      <td>NaN</td>\n",
       "      <td>Menlo Park</td>\n",
       "      <td>CA</td>\n",
       "      <td>94025</td>\n",
       "      <td>US</td>\n",
       "    </tr>\n",
       "    <tr>\n",
       "      <th>7</th>\n",
       "      <td>7</td>\n",
       "      <td>8</td>\n",
       "      <td>8</td>\n",
       "      <td>800 Middle Avenue</td>\n",
       "      <td>NaN</td>\n",
       "      <td>Menlo Park</td>\n",
       "      <td>CA</td>\n",
       "      <td>94025-9881</td>\n",
       "      <td>US</td>\n",
       "    </tr>\n",
       "    <tr>\n",
       "      <th>8</th>\n",
       "      <td>8</td>\n",
       "      <td>9</td>\n",
       "      <td>9</td>\n",
       "      <td>2510 Middlefield Road</td>\n",
       "      <td>NaN</td>\n",
       "      <td>Redwood City</td>\n",
       "      <td>CA</td>\n",
       "      <td>94063</td>\n",
       "      <td>US</td>\n",
       "    </tr>\n",
       "    <tr>\n",
       "      <th>9</th>\n",
       "      <td>9</td>\n",
       "      <td>10</td>\n",
       "      <td>10</td>\n",
       "      <td>1044 Middlefield Road</td>\n",
       "      <td>NaN</td>\n",
       "      <td>Redwood City</td>\n",
       "      <td>CA</td>\n",
       "      <td>94063</td>\n",
       "      <td>US</td>\n",
       "    </tr>\n",
       "    <tr>\n",
       "      <th>10</th>\n",
       "      <td>10</td>\n",
       "      <td>11</td>\n",
       "      <td>11</td>\n",
       "      <td>2140 Euclid Avenue.</td>\n",
       "      <td>NaN</td>\n",
       "      <td>Redwood City</td>\n",
       "      <td>CA</td>\n",
       "      <td>94061</td>\n",
       "      <td>US</td>\n",
       "    </tr>\n",
       "    <tr>\n",
       "      <th>11</th>\n",
       "      <td>11</td>\n",
       "      <td>12</td>\n",
       "      <td>12</td>\n",
       "      <td>1044 Middlefield Road</td>\n",
       "      <td>2nd Floor</td>\n",
       "      <td>Redwood City</td>\n",
       "      <td>CA</td>\n",
       "      <td>94063</td>\n",
       "      <td>US</td>\n",
       "    </tr>\n",
       "    <tr>\n",
       "      <th>12</th>\n",
       "      <td>12</td>\n",
       "      <td>13</td>\n",
       "      <td>13</td>\n",
       "      <td>399 Marine Parkway.</td>\n",
       "      <td>NaN</td>\n",
       "      <td>Redwood City</td>\n",
       "      <td>CA</td>\n",
       "      <td>94065</td>\n",
       "      <td>US</td>\n",
       "    </tr>\n",
       "    <tr>\n",
       "      <th>13</th>\n",
       "      <td>13</td>\n",
       "      <td>14</td>\n",
       "      <td>14</td>\n",
       "      <td>660 Veterans Blvd.</td>\n",
       "      <td>NaN</td>\n",
       "      <td>Redwood City</td>\n",
       "      <td>CA</td>\n",
       "      <td>94063</td>\n",
       "      <td>US</td>\n",
       "    </tr>\n",
       "    <tr>\n",
       "      <th>14</th>\n",
       "      <td>14</td>\n",
       "      <td>15</td>\n",
       "      <td>15</td>\n",
       "      <td>1500 Valencia Street</td>\n",
       "      <td>NaN</td>\n",
       "      <td>San Francisco</td>\n",
       "      <td>CA</td>\n",
       "      <td>94110</td>\n",
       "      <td>US</td>\n",
       "    </tr>\n",
       "    <tr>\n",
       "      <th>15</th>\n",
       "      <td>15</td>\n",
       "      <td>16</td>\n",
       "      <td>16</td>\n",
       "      <td>1161 South Bernardo</td>\n",
       "      <td>NaN</td>\n",
       "      <td>Sunnyvale</td>\n",
       "      <td>CA</td>\n",
       "      <td>94087</td>\n",
       "      <td>US</td>\n",
       "    </tr>\n",
       "    <tr>\n",
       "      <th>16</th>\n",
       "      <td>16</td>\n",
       "      <td>17</td>\n",
       "      <td>17</td>\n",
       "      <td>409 South Spruce Avenue</td>\n",
       "      <td>NaN</td>\n",
       "      <td>South San Francisco</td>\n",
       "      <td>CA</td>\n",
       "      <td>94080</td>\n",
       "      <td>US</td>\n",
       "    </tr>\n",
       "    <tr>\n",
       "      <th>17</th>\n",
       "      <td>17</td>\n",
       "      <td>18</td>\n",
       "      <td>18</td>\n",
       "      <td>114 Fifth Avenue</td>\n",
       "      <td>NaN</td>\n",
       "      <td>Redwood City</td>\n",
       "      <td>CA</td>\n",
       "      <td>94063</td>\n",
       "      <td>US</td>\n",
       "    </tr>\n",
       "    <tr>\n",
       "      <th>18</th>\n",
       "      <td>18</td>\n",
       "      <td>19</td>\n",
       "      <td>19</td>\n",
       "      <td>19 West 39th Avenue</td>\n",
       "      <td>NaN</td>\n",
       "      <td>San Mateo</td>\n",
       "      <td>CA</td>\n",
       "      <td>94403</td>\n",
       "      <td>US</td>\n",
       "    </tr>\n",
       "    <tr>\n",
       "      <th>19</th>\n",
       "      <td>19</td>\n",
       "      <td>20</td>\n",
       "      <td>21</td>\n",
       "      <td>123 El Camino Real</td>\n",
       "      <td>NaN</td>\n",
       "      <td>Belmont</td>\n",
       "      <td>CA</td>\n",
       "      <td>94002</td>\n",
       "      <td>US</td>\n",
       "    </tr>\n",
       "    <tr>\n",
       "      <th>20</th>\n",
       "      <td>20</td>\n",
       "      <td>21</td>\n",
       "      <td>22</td>\n",
       "      <td>2013 Avenue of the fellows</td>\n",
       "      <td>Suite 100</td>\n",
       "      <td>San Francisco</td>\n",
       "      <td>CA</td>\n",
       "      <td>94103</td>\n",
       "      <td>US</td>\n",
       "    </tr>\n",
       "  </tbody>\n",
       "</table>\n",
       "</div>"
      ],
      "text/plain": [
       "    Unnamed: 0  id  location_id                   address_1  address_2  \\\n",
       "0            0   1            1       2600 Middlefield Road        NaN   \n",
       "1            1   2            2            24 Second Avenue        NaN   \n",
       "2            2   3            3            24 Second Avenue        NaN   \n",
       "3            3   4            4            24 Second Avenue        NaN   \n",
       "4            4   5            5            24 Second Avenue        NaN   \n",
       "5            5   6            6           800 Middle Avenue        NaN   \n",
       "6            6   7            7              500 Arbor Road        NaN   \n",
       "7            7   8            8           800 Middle Avenue        NaN   \n",
       "8            8   9            9       2510 Middlefield Road        NaN   \n",
       "9            9  10           10       1044 Middlefield Road        NaN   \n",
       "10          10  11           11         2140 Euclid Avenue.        NaN   \n",
       "11          11  12           12       1044 Middlefield Road  2nd Floor   \n",
       "12          12  13           13         399 Marine Parkway.        NaN   \n",
       "13          13  14           14          660 Veterans Blvd.        NaN   \n",
       "14          14  15           15        1500 Valencia Street        NaN   \n",
       "15          15  16           16         1161 South Bernardo        NaN   \n",
       "16          16  17           17     409 South Spruce Avenue        NaN   \n",
       "17          17  18           18            114 Fifth Avenue        NaN   \n",
       "18          18  19           19         19 West 39th Avenue        NaN   \n",
       "19          19  20           21          123 El Camino Real        NaN   \n",
       "20          20  21           22  2013 Avenue of the fellows  Suite 100   \n",
       "\n",
       "                   city state_province postal_code country  \n",
       "0          Redwood City             CA       94063      US  \n",
       "1             San Mateo             CA       94401      US  \n",
       "2             San Mateo             CA       94403      US  \n",
       "3             San Mateo             CA       94401      US  \n",
       "4             San Mateo             CA       94401      US  \n",
       "5            Menlo Park             CA  94025-9881      US  \n",
       "6            Menlo Park             CA       94025      US  \n",
       "7            Menlo Park             CA  94025-9881      US  \n",
       "8          Redwood City             CA       94063      US  \n",
       "9          Redwood City             CA       94063      US  \n",
       "10         Redwood City             CA       94061      US  \n",
       "11         Redwood City             CA       94063      US  \n",
       "12         Redwood City             CA       94065      US  \n",
       "13         Redwood City             CA       94063      US  \n",
       "14        San Francisco             CA       94110      US  \n",
       "15            Sunnyvale             CA       94087      US  \n",
       "16  South San Francisco             CA       94080      US  \n",
       "17         Redwood City             CA       94063      US  \n",
       "18            San Mateo             CA       94403      US  \n",
       "19              Belmont             CA       94002      US  \n",
       "20        San Francisco             CA       94103      US  "
      ]
     },
     "execution_count": 182,
     "metadata": {},
     "output_type": "execute_result"
    }
   ],
   "source": [
    "# with one col\n",
    "import requests\n",
    "from io import StringIO\n",
    "import pandas as pd\n",
    "\n",
    "# Use the raw URL, not the GitHub webpage URL\n",
    "url = \"https://raw.githubusercontent.com/codeforamerica/ohana-api/master/data/sample-csv/addresses.csv\"\n",
    "headers = {\"User-Agent\": \"Mozilla/5.0\"}\n",
    "\n",
    "# Make the request\n",
    "req = requests.get(url, headers=headers)\n",
    "\n",
    "# Convert to CSV using StringIO\n",
    "data = StringIO(req.text)\n",
    "\n",
    "# Load into pandas DataFrame\n",
    "df = pd.read_csv(data)\n",
    "\n",
    "# Show the first few rows\n",
    "df.to_csv('file1.csv') # for Export CSV to a Working Directory\n",
    "df = pd.read_csv('file1.csv')  # read_Csv by default pulls data in `DataFrame` data type\n",
    "df"
   ]
  },
  {
   "cell_type": "code",
   "execution_count": 183,
   "id": "e2729950",
   "metadata": {},
   "outputs": [
    {
     "name": "stdout",
     "output_type": "stream",
     "text": [
      "0          2600 Middlefield Road\n",
      "1               24 Second Avenue\n",
      "2               24 Second Avenue\n",
      "3               24 Second Avenue\n",
      "4               24 Second Avenue\n",
      "5              800 Middle Avenue\n",
      "6                 500 Arbor Road\n",
      "7              800 Middle Avenue\n",
      "8          2510 Middlefield Road\n",
      "9          1044 Middlefield Road\n",
      "10           2140 Euclid Avenue.\n",
      "11         1044 Middlefield Road\n",
      "12           399 Marine Parkway.\n",
      "13            660 Veterans Blvd.\n",
      "14          1500 Valencia Street\n",
      "15           1161 South Bernardo\n",
      "16       409 South Spruce Avenue\n",
      "17              114 Fifth Avenue\n",
      "18           19 West 39th Avenue\n",
      "19            123 El Camino Real\n",
      "20    2013 Avenue of the fellows\n",
      "Name: address_1, dtype: object\n",
      "\n",
      "<class 'pandas.core.series.Series'>\n",
      "<class 'pandas.core.series.Series'>\n"
     ]
    }
   ],
   "source": [
    "# with one column, so we have to convert this data to series, we can do with squeeze parameter\n",
    "\n",
    "print(df['address_1'].squeeze())\n",
    "\n",
    "print()\n",
    "print(type(df['address_1'].squeeze()))\n",
    "\n",
    "print(type(df['address_1'])) # by the way it automaticallly makes series on indexing of specific column\n",
    "\n",
    "# second way of converting to series \n",
    "# pd.read_csv('file1.csv', index_col=\"city\").iloc[:, 0] "
   ]
  },
  {
   "cell_type": "code",
   "execution_count": 184,
   "id": "d1d0794f",
   "metadata": {},
   "outputs": [],
   "source": [
    "# the benefit of giving name to data types - https://www.youtube.com/live/zCDVUyq8lkw?si=Y02AbkaecZALGGQv&t=2307\n",
    "# the name of that column becomes name of series that is value of that series "
   ]
  },
  {
   "cell_type": "code",
   "execution_count": 185,
   "id": "d45b0964",
   "metadata": {},
   "outputs": [
    {
     "data": {
      "application/vnd.microsoft.datawrangler.viewer.v0+json": {
       "columns": [
        {
         "name": "city",
         "rawType": "object",
         "type": "string"
        },
        {
         "name": "Unnamed: 0",
         "rawType": "int64",
         "type": "integer"
        },
        {
         "name": "id",
         "rawType": "int64",
         "type": "integer"
        },
        {
         "name": "location_id",
         "rawType": "int64",
         "type": "integer"
        },
        {
         "name": "address_1",
         "rawType": "object",
         "type": "string"
        },
        {
         "name": "address_2",
         "rawType": "object",
         "type": "unknown"
        },
        {
         "name": "state_province",
         "rawType": "object",
         "type": "string"
        },
        {
         "name": "postal_code",
         "rawType": "object",
         "type": "string"
        },
        {
         "name": "country",
         "rawType": "object",
         "type": "string"
        }
       ],
       "conversionMethod": "pd.DataFrame",
       "ref": "3c1d8743-1cf8-4133-8eff-d723d3f084eb",
       "rows": [
        [
         "Redwood City",
         "0",
         "1",
         "1",
         "2600 Middlefield Road",
         null,
         "CA",
         "94063",
         "US"
        ],
        [
         "San Mateo",
         "1",
         "2",
         "2",
         "24 Second Avenue",
         null,
         "CA",
         "94401",
         "US"
        ],
        [
         "San Mateo",
         "2",
         "3",
         "3",
         "24 Second Avenue",
         null,
         "CA",
         "94403",
         "US"
        ],
        [
         "San Mateo",
         "3",
         "4",
         "4",
         "24 Second Avenue",
         null,
         "CA",
         "94401",
         "US"
        ],
        [
         "San Mateo",
         "4",
         "5",
         "5",
         "24 Second Avenue",
         null,
         "CA",
         "94401",
         "US"
        ],
        [
         "Menlo Park",
         "5",
         "6",
         "6",
         "800 Middle Avenue",
         null,
         "CA",
         "94025-9881",
         "US"
        ],
        [
         "Menlo Park",
         "6",
         "7",
         "7",
         "500 Arbor Road",
         null,
         "CA",
         "94025",
         "US"
        ],
        [
         "Menlo Park",
         "7",
         "8",
         "8",
         "800 Middle Avenue",
         null,
         "CA",
         "94025-9881",
         "US"
        ],
        [
         "Redwood City",
         "8",
         "9",
         "9",
         "2510 Middlefield Road",
         null,
         "CA",
         "94063",
         "US"
        ],
        [
         "Redwood City",
         "9",
         "10",
         "10",
         "1044 Middlefield Road",
         null,
         "CA",
         "94063",
         "US"
        ],
        [
         "Redwood City",
         "10",
         "11",
         "11",
         "2140 Euclid Avenue.",
         null,
         "CA",
         "94061",
         "US"
        ],
        [
         "Redwood City",
         "11",
         "12",
         "12",
         "1044 Middlefield Road",
         "2nd Floor",
         "CA",
         "94063",
         "US"
        ],
        [
         "Redwood City",
         "12",
         "13",
         "13",
         "399 Marine Parkway.",
         null,
         "CA",
         "94065",
         "US"
        ],
        [
         "Redwood City",
         "13",
         "14",
         "14",
         "660 Veterans Blvd.",
         null,
         "CA",
         "94063",
         "US"
        ],
        [
         "San Francisco",
         "14",
         "15",
         "15",
         "1500 Valencia Street",
         null,
         "CA",
         "94110",
         "US"
        ],
        [
         "Sunnyvale",
         "15",
         "16",
         "16",
         "1161 South Bernardo",
         null,
         "CA",
         "94087",
         "US"
        ],
        [
         "South San Francisco",
         "16",
         "17",
         "17",
         "409 South Spruce Avenue",
         null,
         "CA",
         "94080",
         "US"
        ],
        [
         "Redwood City",
         "17",
         "18",
         "18",
         "114 Fifth Avenue",
         null,
         "CA",
         "94063",
         "US"
        ],
        [
         "San Mateo",
         "18",
         "19",
         "19",
         "19 West 39th Avenue",
         null,
         "CA",
         "94403",
         "US"
        ],
        [
         "Belmont",
         "19",
         "20",
         "21",
         "123 El Camino Real",
         null,
         "CA",
         "94002",
         "US"
        ],
        [
         "San Francisco",
         "20",
         "21",
         "22",
         "2013 Avenue of the fellows",
         "Suite 100",
         "CA",
         "94103",
         "US"
        ]
       ],
       "shape": {
        "columns": 8,
        "rows": 21
       }
      },
      "text/html": [
       "<div>\n",
       "<style scoped>\n",
       "    .dataframe tbody tr th:only-of-type {\n",
       "        vertical-align: middle;\n",
       "    }\n",
       "\n",
       "    .dataframe tbody tr th {\n",
       "        vertical-align: top;\n",
       "    }\n",
       "\n",
       "    .dataframe thead th {\n",
       "        text-align: right;\n",
       "    }\n",
       "</style>\n",
       "<table border=\"1\" class=\"dataframe\">\n",
       "  <thead>\n",
       "    <tr style=\"text-align: right;\">\n",
       "      <th></th>\n",
       "      <th>Unnamed: 0</th>\n",
       "      <th>id</th>\n",
       "      <th>location_id</th>\n",
       "      <th>address_1</th>\n",
       "      <th>address_2</th>\n",
       "      <th>state_province</th>\n",
       "      <th>postal_code</th>\n",
       "      <th>country</th>\n",
       "    </tr>\n",
       "    <tr>\n",
       "      <th>city</th>\n",
       "      <th></th>\n",
       "      <th></th>\n",
       "      <th></th>\n",
       "      <th></th>\n",
       "      <th></th>\n",
       "      <th></th>\n",
       "      <th></th>\n",
       "      <th></th>\n",
       "    </tr>\n",
       "  </thead>\n",
       "  <tbody>\n",
       "    <tr>\n",
       "      <th>Redwood City</th>\n",
       "      <td>0</td>\n",
       "      <td>1</td>\n",
       "      <td>1</td>\n",
       "      <td>2600 Middlefield Road</td>\n",
       "      <td>NaN</td>\n",
       "      <td>CA</td>\n",
       "      <td>94063</td>\n",
       "      <td>US</td>\n",
       "    </tr>\n",
       "    <tr>\n",
       "      <th>San Mateo</th>\n",
       "      <td>1</td>\n",
       "      <td>2</td>\n",
       "      <td>2</td>\n",
       "      <td>24 Second Avenue</td>\n",
       "      <td>NaN</td>\n",
       "      <td>CA</td>\n",
       "      <td>94401</td>\n",
       "      <td>US</td>\n",
       "    </tr>\n",
       "    <tr>\n",
       "      <th>San Mateo</th>\n",
       "      <td>2</td>\n",
       "      <td>3</td>\n",
       "      <td>3</td>\n",
       "      <td>24 Second Avenue</td>\n",
       "      <td>NaN</td>\n",
       "      <td>CA</td>\n",
       "      <td>94403</td>\n",
       "      <td>US</td>\n",
       "    </tr>\n",
       "    <tr>\n",
       "      <th>San Mateo</th>\n",
       "      <td>3</td>\n",
       "      <td>4</td>\n",
       "      <td>4</td>\n",
       "      <td>24 Second Avenue</td>\n",
       "      <td>NaN</td>\n",
       "      <td>CA</td>\n",
       "      <td>94401</td>\n",
       "      <td>US</td>\n",
       "    </tr>\n",
       "    <tr>\n",
       "      <th>San Mateo</th>\n",
       "      <td>4</td>\n",
       "      <td>5</td>\n",
       "      <td>5</td>\n",
       "      <td>24 Second Avenue</td>\n",
       "      <td>NaN</td>\n",
       "      <td>CA</td>\n",
       "      <td>94401</td>\n",
       "      <td>US</td>\n",
       "    </tr>\n",
       "    <tr>\n",
       "      <th>Menlo Park</th>\n",
       "      <td>5</td>\n",
       "      <td>6</td>\n",
       "      <td>6</td>\n",
       "      <td>800 Middle Avenue</td>\n",
       "      <td>NaN</td>\n",
       "      <td>CA</td>\n",
       "      <td>94025-9881</td>\n",
       "      <td>US</td>\n",
       "    </tr>\n",
       "    <tr>\n",
       "      <th>Menlo Park</th>\n",
       "      <td>6</td>\n",
       "      <td>7</td>\n",
       "      <td>7</td>\n",
       "      <td>500 Arbor Road</td>\n",
       "      <td>NaN</td>\n",
       "      <td>CA</td>\n",
       "      <td>94025</td>\n",
       "      <td>US</td>\n",
       "    </tr>\n",
       "    <tr>\n",
       "      <th>Menlo Park</th>\n",
       "      <td>7</td>\n",
       "      <td>8</td>\n",
       "      <td>8</td>\n",
       "      <td>800 Middle Avenue</td>\n",
       "      <td>NaN</td>\n",
       "      <td>CA</td>\n",
       "      <td>94025-9881</td>\n",
       "      <td>US</td>\n",
       "    </tr>\n",
       "    <tr>\n",
       "      <th>Redwood City</th>\n",
       "      <td>8</td>\n",
       "      <td>9</td>\n",
       "      <td>9</td>\n",
       "      <td>2510 Middlefield Road</td>\n",
       "      <td>NaN</td>\n",
       "      <td>CA</td>\n",
       "      <td>94063</td>\n",
       "      <td>US</td>\n",
       "    </tr>\n",
       "    <tr>\n",
       "      <th>Redwood City</th>\n",
       "      <td>9</td>\n",
       "      <td>10</td>\n",
       "      <td>10</td>\n",
       "      <td>1044 Middlefield Road</td>\n",
       "      <td>NaN</td>\n",
       "      <td>CA</td>\n",
       "      <td>94063</td>\n",
       "      <td>US</td>\n",
       "    </tr>\n",
       "    <tr>\n",
       "      <th>Redwood City</th>\n",
       "      <td>10</td>\n",
       "      <td>11</td>\n",
       "      <td>11</td>\n",
       "      <td>2140 Euclid Avenue.</td>\n",
       "      <td>NaN</td>\n",
       "      <td>CA</td>\n",
       "      <td>94061</td>\n",
       "      <td>US</td>\n",
       "    </tr>\n",
       "    <tr>\n",
       "      <th>Redwood City</th>\n",
       "      <td>11</td>\n",
       "      <td>12</td>\n",
       "      <td>12</td>\n",
       "      <td>1044 Middlefield Road</td>\n",
       "      <td>2nd Floor</td>\n",
       "      <td>CA</td>\n",
       "      <td>94063</td>\n",
       "      <td>US</td>\n",
       "    </tr>\n",
       "    <tr>\n",
       "      <th>Redwood City</th>\n",
       "      <td>12</td>\n",
       "      <td>13</td>\n",
       "      <td>13</td>\n",
       "      <td>399 Marine Parkway.</td>\n",
       "      <td>NaN</td>\n",
       "      <td>CA</td>\n",
       "      <td>94065</td>\n",
       "      <td>US</td>\n",
       "    </tr>\n",
       "    <tr>\n",
       "      <th>Redwood City</th>\n",
       "      <td>13</td>\n",
       "      <td>14</td>\n",
       "      <td>14</td>\n",
       "      <td>660 Veterans Blvd.</td>\n",
       "      <td>NaN</td>\n",
       "      <td>CA</td>\n",
       "      <td>94063</td>\n",
       "      <td>US</td>\n",
       "    </tr>\n",
       "    <tr>\n",
       "      <th>San Francisco</th>\n",
       "      <td>14</td>\n",
       "      <td>15</td>\n",
       "      <td>15</td>\n",
       "      <td>1500 Valencia Street</td>\n",
       "      <td>NaN</td>\n",
       "      <td>CA</td>\n",
       "      <td>94110</td>\n",
       "      <td>US</td>\n",
       "    </tr>\n",
       "    <tr>\n",
       "      <th>Sunnyvale</th>\n",
       "      <td>15</td>\n",
       "      <td>16</td>\n",
       "      <td>16</td>\n",
       "      <td>1161 South Bernardo</td>\n",
       "      <td>NaN</td>\n",
       "      <td>CA</td>\n",
       "      <td>94087</td>\n",
       "      <td>US</td>\n",
       "    </tr>\n",
       "    <tr>\n",
       "      <th>South San Francisco</th>\n",
       "      <td>16</td>\n",
       "      <td>17</td>\n",
       "      <td>17</td>\n",
       "      <td>409 South Spruce Avenue</td>\n",
       "      <td>NaN</td>\n",
       "      <td>CA</td>\n",
       "      <td>94080</td>\n",
       "      <td>US</td>\n",
       "    </tr>\n",
       "    <tr>\n",
       "      <th>Redwood City</th>\n",
       "      <td>17</td>\n",
       "      <td>18</td>\n",
       "      <td>18</td>\n",
       "      <td>114 Fifth Avenue</td>\n",
       "      <td>NaN</td>\n",
       "      <td>CA</td>\n",
       "      <td>94063</td>\n",
       "      <td>US</td>\n",
       "    </tr>\n",
       "    <tr>\n",
       "      <th>San Mateo</th>\n",
       "      <td>18</td>\n",
       "      <td>19</td>\n",
       "      <td>19</td>\n",
       "      <td>19 West 39th Avenue</td>\n",
       "      <td>NaN</td>\n",
       "      <td>CA</td>\n",
       "      <td>94403</td>\n",
       "      <td>US</td>\n",
       "    </tr>\n",
       "    <tr>\n",
       "      <th>Belmont</th>\n",
       "      <td>19</td>\n",
       "      <td>20</td>\n",
       "      <td>21</td>\n",
       "      <td>123 El Camino Real</td>\n",
       "      <td>NaN</td>\n",
       "      <td>CA</td>\n",
       "      <td>94002</td>\n",
       "      <td>US</td>\n",
       "    </tr>\n",
       "    <tr>\n",
       "      <th>San Francisco</th>\n",
       "      <td>20</td>\n",
       "      <td>21</td>\n",
       "      <td>22</td>\n",
       "      <td>2013 Avenue of the fellows</td>\n",
       "      <td>Suite 100</td>\n",
       "      <td>CA</td>\n",
       "      <td>94103</td>\n",
       "      <td>US</td>\n",
       "    </tr>\n",
       "  </tbody>\n",
       "</table>\n",
       "</div>"
      ],
      "text/plain": [
       "                     Unnamed: 0  id  location_id                   address_1  \\\n",
       "city                                                                           \n",
       "Redwood City                  0   1            1       2600 Middlefield Road   \n",
       "San Mateo                     1   2            2            24 Second Avenue   \n",
       "San Mateo                     2   3            3            24 Second Avenue   \n",
       "San Mateo                     3   4            4            24 Second Avenue   \n",
       "San Mateo                     4   5            5            24 Second Avenue   \n",
       "Menlo Park                    5   6            6           800 Middle Avenue   \n",
       "Menlo Park                    6   7            7              500 Arbor Road   \n",
       "Menlo Park                    7   8            8           800 Middle Avenue   \n",
       "Redwood City                  8   9            9       2510 Middlefield Road   \n",
       "Redwood City                  9  10           10       1044 Middlefield Road   \n",
       "Redwood City                 10  11           11         2140 Euclid Avenue.   \n",
       "Redwood City                 11  12           12       1044 Middlefield Road   \n",
       "Redwood City                 12  13           13         399 Marine Parkway.   \n",
       "Redwood City                 13  14           14          660 Veterans Blvd.   \n",
       "San Francisco                14  15           15        1500 Valencia Street   \n",
       "Sunnyvale                    15  16           16         1161 South Bernardo   \n",
       "South San Francisco          16  17           17     409 South Spruce Avenue   \n",
       "Redwood City                 17  18           18            114 Fifth Avenue   \n",
       "San Mateo                    18  19           19         19 West 39th Avenue   \n",
       "Belmont                      19  20           21          123 El Camino Real   \n",
       "San Francisco                20  21           22  2013 Avenue of the fellows   \n",
       "\n",
       "                     address_2 state_province postal_code country  \n",
       "city                                                               \n",
       "Redwood City               NaN             CA       94063      US  \n",
       "San Mateo                  NaN             CA       94401      US  \n",
       "San Mateo                  NaN             CA       94403      US  \n",
       "San Mateo                  NaN             CA       94401      US  \n",
       "San Mateo                  NaN             CA       94401      US  \n",
       "Menlo Park                 NaN             CA  94025-9881      US  \n",
       "Menlo Park                 NaN             CA       94025      US  \n",
       "Menlo Park                 NaN             CA  94025-9881      US  \n",
       "Redwood City               NaN             CA       94063      US  \n",
       "Redwood City               NaN             CA       94063      US  \n",
       "Redwood City               NaN             CA       94061      US  \n",
       "Redwood City         2nd Floor             CA       94063      US  \n",
       "Redwood City               NaN             CA       94065      US  \n",
       "Redwood City               NaN             CA       94063      US  \n",
       "San Francisco              NaN             CA       94110      US  \n",
       "Sunnyvale                  NaN             CA       94087      US  \n",
       "South San Francisco        NaN             CA       94080      US  \n",
       "Redwood City               NaN             CA       94063      US  \n",
       "San Mateo                  NaN             CA       94403      US  \n",
       "Belmont                    NaN             CA       94002      US  \n",
       "San Francisco        Suite 100             CA       94103      US  "
      ]
     },
     "execution_count": 185,
     "metadata": {},
     "output_type": "execute_result"
    }
   ],
   "source": [
    "# index_col is used to set particular given column(here: city) as index \n",
    "pd.read_csv('file1.csv', index_col=\"city\").squeeze()"
   ]
  },
  {
   "cell_type": "markdown",
   "id": "d2ee00f8",
   "metadata": {},
   "source": [
    "## Series Methods"
   ]
  },
  {
   "cell_type": "code",
   "execution_count": 186,
   "id": "c90ac8c6",
   "metadata": {},
   "outputs": [
    {
     "name": "stdout",
     "output_type": "stream",
     "text": [
      "postal_code\n",
      "94063    0\n",
      "94401    1\n",
      "94403    2\n",
      "94401    3\n",
      "94401    4\n",
      "Name: Unnamed: 0, dtype: int64 \n",
      "\n",
      "postal_code\n",
      "94063    0\n",
      "94401    1\n",
      "Name: Unnamed: 0, dtype: int64 \n",
      "\n",
      "postal_code\n",
      "94103    20\n",
      "Name: Unnamed: 0, dtype: int64\n"
     ]
    }
   ],
   "source": [
    "# head and tail (to get a preview of a data)\n",
    "df = pd.read_csv('file1.csv', index_col=\"postal_code\").iloc[:, 0]\n",
    "print(df.head(),'\\n') # first 5 rows\n",
    "\n",
    "\n",
    "\n",
    "print(df.head(2),'\\n') # first 2 rows\n",
    "\n",
    "# tail is just means n last last rows, by default it is 5\n",
    "print(df.tail(1)) # last 1 row"
   ]
  },
  {
   "cell_type": "code",
   "execution_count": 187,
   "id": "c667f760",
   "metadata": {},
   "outputs": [
    {
     "data": {
      "text/plain": [
       "postal_code\n",
       "94110    14\n",
       "Name: Unnamed: 0, dtype: int64"
      ]
     },
     "execution_count": 187,
     "metadata": {},
     "output_type": "execute_result"
    }
   ],
   "source": [
    "# sample, pull n rows(by default 1) randomly from the data\n",
    "df.sample(1)"
   ]
  },
  {
   "cell_type": "code",
   "execution_count": 188,
   "id": "ef296942",
   "metadata": {},
   "outputs": [
    {
     "name": "stdout",
     "output_type": "stream",
     "text": [
      "city\n",
      "Redwood City           8\n",
      "San Mateo              5\n",
      "Menlo Park             3\n",
      "San Francisco          2\n",
      "Sunnyvale              1\n",
      "South San Francisco    1\n",
      "Belmont                1\n",
      "Name: count, dtype: int64\n",
      "\n",
      "address_1\n",
      "2600 Middlefield Road                Redwood City\n",
      "24 Second Avenue                        San Mateo\n",
      "24 Second Avenue                        San Mateo\n",
      "24 Second Avenue                        San Mateo\n",
      "24 Second Avenue                        San Mateo\n",
      "800 Middle Avenue                      Menlo Park\n",
      "500 Arbor Road                         Menlo Park\n",
      "800 Middle Avenue                      Menlo Park\n",
      "2510 Middlefield Road                Redwood City\n",
      "1044 Middlefield Road                Redwood City\n",
      "2140 Euclid Avenue.                  Redwood City\n",
      "1044 Middlefield Road                Redwood City\n",
      "399 Marine Parkway.                  Redwood City\n",
      "660 Veterans Blvd.                   Redwood City\n",
      "1500 Valencia Street                San Francisco\n",
      "1161 South Bernardo                     Sunnyvale\n",
      "409 South Spruce Avenue       South San Francisco\n",
      "114 Fifth Avenue                     Redwood City\n",
      "19 West 39th Avenue                     San Mateo\n",
      "123 El Camino Real                        Belmont\n",
      "2013 Avenue of the fellows          San Francisco\n",
      "Name: city, dtype: object\n"
     ]
    }
   ],
   "source": [
    "# value_counts, basically tells frequency of values\n",
    "file1 = pd.read_csv('file1.csv', index_col=\"address_1\").iloc[:, 4]\n",
    "\n",
    "\n",
    "print(file1.value_counts())\n",
    "print()\n",
    "print(file1)"
   ]
  },
  {
   "cell_type": "code",
   "execution_count": 189,
   "id": "6d245d40",
   "metadata": {},
   "outputs": [
    {
     "data": {
      "text/plain": [
       "postal_code\n",
       "94063          0\n",
       "94401          1\n",
       "94403          2\n",
       "94401          3\n",
       "94401          4\n",
       "94025-9881     5\n",
       "94025          6\n",
       "94025-9881     7\n",
       "94063          8\n",
       "94063          9\n",
       "94061         10\n",
       "94063         11\n",
       "94065         12\n",
       "94063         13\n",
       "94110         14\n",
       "94087         15\n",
       "94080         16\n",
       "94063         17\n",
       "94403         18\n",
       "94002         19\n",
       "94103         20\n",
       "Name: Unnamed: 0, dtype: int64"
      ]
     },
     "execution_count": 189,
     "metadata": {},
     "output_type": "execute_result"
    }
   ],
   "source": [
    "# sort_values, sort the data, by default it is in ascending order\n",
    "df.sort_values() # asecending=False for descending order, inplace=True for change in the original series"
   ]
  },
  {
   "cell_type": "code",
   "execution_count": 190,
   "id": "d300070a",
   "metadata": {},
   "outputs": [
    {
     "data": {
      "text/plain": [
       "postal_code\n",
       "94002         19\n",
       "94025          6\n",
       "94025-9881     5\n",
       "94025-9881     7\n",
       "94061         10\n",
       "94063         17\n",
       "94063         13\n",
       "94063         11\n",
       "94063          9\n",
       "94063          0\n",
       "94063          8\n",
       "94065         12\n",
       "94080         16\n",
       "94087         15\n",
       "94103         20\n",
       "94110         14\n",
       "94401          4\n",
       "94401          3\n",
       "94401          1\n",
       "94403          2\n",
       "94403         18\n",
       "Name: Unnamed: 0, dtype: int64"
      ]
     },
     "execution_count": 190,
     "metadata": {},
     "output_type": "execute_result"
    }
   ],
   "source": [
    "df.sort_index() # it is basically sort indexes"
   ]
  },
  {
   "cell_type": "markdown",
   "id": "c3b3304f",
   "metadata": {},
   "source": [
    "## Series Math Methods\n"
   ]
  },
  {
   "cell_type": "code",
   "execution_count": 191,
   "id": "104816ce",
   "metadata": {},
   "outputs": [
    {
     "data": {
      "text/plain": [
       "np.int64(21)"
      ]
     },
     "execution_count": 191,
     "metadata": {},
     "output_type": "execute_result"
    }
   ],
   "source": [
    "# count, same as size but not counts missing values\n",
    "df.count()"
   ]
  },
  {
   "cell_type": "code",
   "execution_count": 192,
   "id": "89d4d264",
   "metadata": {},
   "outputs": [
    {
     "data": {
      "text/plain": [
       "np.int64(210)"
      ]
     },
     "execution_count": 192,
     "metadata": {},
     "output_type": "execute_result"
    }
   ],
   "source": [
    "# sum of all values of the series, product of all values of the series\n",
    "df.sum()"
   ]
  },
  {
   "cell_type": "code",
   "execution_count": 193,
   "id": "20b07dc3",
   "metadata": {},
   "outputs": [
    {
     "name": "stdout",
     "output_type": "stream",
     "text": [
      "mean \n",
      " 5.090909090909091\n",
      "median \n",
      " 5.0\n",
      "mode \n",
      " 0    1\n",
      "dtype: int64\n",
      "standard deviation \n",
      " 3.1766191290283903\n",
      "variance \n",
      " 10.09090909090909\n"
     ]
    }
   ],
   "source": [
    "# mean,median,mode,std,var (of all values of the series)\n",
    "seriesD = pd.Series([1,2,3,4,5,6,7,8,9,10,1])\n",
    "print('mean \\n',seriesD.mean())\n",
    "print('median \\n',seriesD.median())\n",
    "print('mode \\n',seriesD.mode()) # it give all if all values has same frequency\n",
    "print('standard deviation \\n',seriesD.std())  # by default sample standard deviation, for population specify `(ddof=0)` parameter\n",
    "print('variance \\n',seriesD.var()) # by default sample standard deviation, for population specify `(ddof=0)`  parameter"
   ]
  },
  {
   "cell_type": "code",
   "execution_count": 194,
   "id": "400a08ff",
   "metadata": {},
   "outputs": [
    {
     "name": "stdout",
     "output_type": "stream",
     "text": [
      "1\n",
      "10\n"
     ]
    }
   ],
   "source": [
    "# min/max\n",
    "print(seriesD.min())\n",
    "print(seriesD.max())"
   ]
  },
  {
   "cell_type": "code",
   "execution_count": 195,
   "id": "a9c4e13c",
   "metadata": {},
   "outputs": [
    {
     "data": {
      "text/plain": [
       "count    11.000000\n",
       "mean      5.090909\n",
       "std       3.176619\n",
       "min       1.000000\n",
       "25%       2.500000\n",
       "50%       5.000000\n",
       "75%       7.500000\n",
       "max      10.000000\n",
       "dtype: float64"
      ]
     },
     "execution_count": 195,
     "metadata": {},
     "output_type": "execute_result"
    }
   ],
   "source": [
    "# describe , includes count,mean,std,min,25%,50%,75%,max\n",
    "\"\"\" 25% means 25% of the data is before or equal to 2.5, 50% means 50% of the data is before 5 or equal to 5, 75% \n",
    "of the data is equal to 7.5 or after 7.5 \"\"\"\n",
    "seriesD.describe() # 11 are non null(not-missing) values "
   ]
  },
  {
   "cell_type": "markdown",
   "id": "89b251b5",
   "metadata": {},
   "source": [
    "## Series Indexing"
   ]
  },
  {
   "cell_type": "code",
   "execution_count": 196,
   "id": "a46367a3",
   "metadata": {},
   "outputs": [
    {
     "name": "stdout",
     "output_type": "stream",
     "text": [
      "7\n",
      "100\n"
     ]
    }
   ],
   "source": [
    "# integer indexing\n",
    "seriesX = pd.Series([7,18,19,100],index=['one','two','three','four'])\n",
    "# x[0] integer index deprecates , instead  use x.iloc[0] , so use `iloc` for integer based indexing\n",
    "print(seriesX['one'])\n",
    "print(seriesX.iloc[-1])\n"
   ]
  },
  {
   "cell_type": "code",
   "execution_count": 197,
   "id": "a81b1f00",
   "metadata": {},
   "outputs": [],
   "source": [
    "# series not work on negative indexing, if values are not strings and [integer] is deprecated use `.iloc` instead\n"
   ]
  },
  {
   "cell_type": "code",
   "execution_count": null,
   "id": "79da40ee",
   "metadata": {},
   "outputs": [
    {
     "name": "stdout",
     "output_type": "stream",
     "text": [
      "new      999\n",
      "four       0\n",
      "three      0\n",
      "two        0\n",
      "one        7\n",
      "dtype: int64\n"
     ]
    },
    {
     "data": {
      "text/plain": [
       "one      7\n",
       "two      0\n",
       "three    0\n",
       "dtype: int64"
      ]
     },
     "execution_count": 204,
     "metadata": {},
     "output_type": "execute_result"
    }
   ],
   "source": [
    "# slicing, .iloc is best practice\n",
    "print(seriesX.iloc[::-1])\n",
    "# you can also slice through indexes of string like this\n",
    "seriesX['one':'three'] # but including value of 'three' (means value after `:`\n"
   ]
  },
  {
   "cell_type": "code",
   "execution_count": 199,
   "id": "8d5eae22",
   "metadata": {},
   "outputs": [
    {
     "name": "stdout",
     "output_type": "stream",
     "text": [
      "one     7\n",
      "two    18\n",
      "dtype: int64\n",
      "\n",
      " one       7\n",
      "four    100\n",
      "dtype: int64\n"
     ]
    }
   ],
   "source": [
    "# fancy indexing \n",
    "print(seriesX.iloc[[0,1]])\n",
    "\n",
    "print('\\n',seriesX[['one','four']])"
   ]
  },
  {
   "cell_type": "markdown",
   "id": "8c1379c2",
   "metadata": {},
   "source": [
    "## Editing Series"
   ]
  },
  {
   "cell_type": "code",
   "execution_count": 200,
   "id": "4427c94b",
   "metadata": {},
   "outputs": [
    {
     "name": "stderr",
     "output_type": "stream",
     "text": [
      "C:\\Users\\Vedansh\\AppData\\Local\\Temp\\ipykernel_18724\\3171212768.py:3: FutureWarning: Series.__setitem__ treating keys as positions is deprecated. In a future version, integer keys will always be treated as labels (consistent with DataFrame behavior). To set a value by position, use `ser.iloc[pos] = value`\n",
      "  seriesX[1] = 7\n"
     ]
    }
   ],
   "source": [
    "# using indexing\n",
    "seriesX = pd.Series([7,18,19,100],index=['one','two','three','four'])\n",
    "seriesX[1] = 7\n",
    "seriesX['four'] = 200"
   ]
  },
  {
   "cell_type": "code",
   "execution_count": 201,
   "id": "3f22fc61",
   "metadata": {},
   "outputs": [
    {
     "data": {
      "text/plain": [
       "one        7\n",
       "two        7\n",
       "three     19\n",
       "four     200\n",
       "new      999\n",
       "dtype: int64"
      ]
     },
     "execution_count": 201,
     "metadata": {},
     "output_type": "execute_result"
    }
   ],
   "source": [
    "# if index not exist, it will create one\n",
    "seriesX['new'] = 999\n",
    "seriesX"
   ]
  },
  {
   "cell_type": "code",
   "execution_count": 212,
   "id": "21667c20",
   "metadata": {},
   "outputs": [
    {
     "name": "stdout",
     "output_type": "stream",
     "text": [
      "one        7\n",
      "two        0\n",
      "three      0\n",
      "four       0\n",
      "new      999\n",
      "dtype: int64\n"
     ]
    },
    {
     "data": {
      "text/plain": [
       "one        7\n",
       "two      111\n",
       "three    111\n",
       "four       0\n",
       "new      999\n",
       "dtype: int64"
      ]
     },
     "execution_count": 212,
     "metadata": {},
     "output_type": "execute_result"
    }
   ],
   "source": [
    "# editing through slicing\n",
    "seriesX['two':'four'] = 0  # including value of `four`\n",
    "print(seriesX) \n",
    "\n",
    "# or using `seriesX.iloc[1:4] = 0`\n",
    "seriesX.iloc[1:3] = 111\n",
    "seriesX"
   ]
  },
  {
   "cell_type": "code",
   "execution_count": 214,
   "id": "2f9078e1",
   "metadata": {},
   "outputs": [
    {
     "data": {
      "text/plain": [
       "one        7\n",
       "two      991\n",
       "three    999\n",
       "four       0\n",
       "new      991\n",
       "dtype: int64"
      ]
     },
     "execution_count": 214,
     "metadata": {},
     "output_type": "execute_result"
    }
   ],
   "source": [
    "# through fancy indexing\n",
    "seriesX[['two','new']] = 991\n",
    "seriesX"
   ]
  },
  {
   "cell_type": "code",
   "execution_count": 216,
   "id": "a71728ff",
   "metadata": {},
   "outputs": [
    {
     "data": {
      "text/plain": [
       "one         7\n",
       "two       991\n",
       "three     999\n",
       "four        0\n",
       "new      9999\n",
       "dtype: int64"
      ]
     },
     "execution_count": 216,
     "metadata": {},
     "output_type": "execute_result"
    }
   ],
   "source": [
    "# using index label\n",
    "seriesX['new'] = 9999\n",
    "seriesX"
   ]
  }
 ],
 "metadata": {
  "kernelspec": {
   "display_name": "Python 3",
   "language": "python",
   "name": "python3"
  },
  "language_info": {
   "codemirror_mode": {
    "name": "ipython",
    "version": 3
   },
   "file_extension": ".py",
   "mimetype": "text/x-python",
   "name": "python",
   "nbconvert_exporter": "python",
   "pygments_lexer": "ipython3",
   "version": "3.13.2"
  }
 },
 "nbformat": 4,
 "nbformat_minor": 5
}
