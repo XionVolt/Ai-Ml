{
 "cells": [
  {
   "cell_type": "markdown",
   "id": "640d1bc8",
   "metadata": {},
   "source": [
    "[What is Pandas](https://www.youtube.com/live/zCDVUyq8lkw?si=5PU7SsP9Q7HRQxuF&t=557)"
   ]
  },
  {
   "cell_type": "markdown",
   "id": "01c47504",
   "metadata": {},
   "source": [
    "***Series and DataFrame are two prominent data structures in pandas***\n",
    "\n",
    "[Pandas Series explained](https://www.youtube.com/live/zCDVUyq8lkw?si=otnRlAXbsMqv4rUd&t=711) "
   ]
  },
  {
   "cell_type": "code",
   "execution_count": null,
   "id": "8af3cc3c",
   "metadata": {},
   "outputs": [],
   "source": [
    "import numpy as np\n",
    "import pandas as pd\n"
   ]
  }
 ],
 "metadata": {
  "kernelspec": {
   "display_name": "Python 3",
   "language": "python",
   "name": "python3"
  },
  "language_info": {
   "codemirror_mode": {
    "name": "ipython",
    "version": 3
   },
   "file_extension": ".py",
   "mimetype": "text/x-python",
   "name": "python",
   "nbconvert_exporter": "python",
   "pygments_lexer": "ipython3",
   "version": "3.13.2"
  }
 },
 "nbformat": 4,
 "nbformat_minor": 5
}
