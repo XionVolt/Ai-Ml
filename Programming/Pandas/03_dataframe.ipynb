{
 "cells": [
  {
   "cell_type": "markdown",
   "id": "1e958d5f",
   "metadata": {},
   "source": [
    "[What are DataFrames](https://www.youtube.com/live/OG31yhRQxPI?si=43TM_mXSlIQFqlLq)\n",
    "- A single row and column of dataFrame is a series"
   ]
  },
  {
   "cell_type": "code",
   "execution_count": 91,
   "id": "8b69fd53",
   "metadata": {},
   "outputs": [],
   "source": [
    "import numpy as np\n",
    "import pandas as pd"
   ]
  },
  {
   "cell_type": "markdown",
   "id": "36d7d108",
   "metadata": {},
   "source": [
    "# Creating DataFrames"
   ]
  },
  {
   "cell_type": "code",
   "execution_count": 92,
   "id": "35565815",
   "metadata": {},
   "outputs": [
    {
     "data": {
      "application/vnd.microsoft.datawrangler.viewer.v0+json": {
       "columns": [
        {
         "name": "index",
         "rawType": "int64",
         "type": "integer"
        },
        {
         "name": "Language",
         "rawType": "object",
         "type": "string"
        },
        {
         "name": "Year",
         "rawType": "int64",
         "type": "integer"
        },
        {
         "name": "Feeling",
         "rawType": "object",
         "type": "string"
        }
       ],
       "conversionMethod": "pd.DataFrame",
       "ref": "f69712ee-b0b9-4943-a533-f5311205ecd5",
       "rows": [
        [
         "0",
         "Python",
         "1992",
         "Golden💛"
        ],
        [
         "1",
         "JS",
         "1995",
         "WebGod🕸️"
        ],
        [
         "2",
         "C++",
         "1986",
         "Pointers👈🏻👉🏻👈🏻🫵🏻👆🏻👇🏻"
        ],
        [
         "3",
         "C",
         "1980",
         "Creator⚡"
        ]
       ],
       "shape": {
        "columns": 3,
        "rows": 4
       }
      },
      "text/html": [
       "<div>\n",
       "<style scoped>\n",
       "    .dataframe tbody tr th:only-of-type {\n",
       "        vertical-align: middle;\n",
       "    }\n",
       "\n",
       "    .dataframe tbody tr th {\n",
       "        vertical-align: top;\n",
       "    }\n",
       "\n",
       "    .dataframe thead th {\n",
       "        text-align: right;\n",
       "    }\n",
       "</style>\n",
       "<table border=\"1\" class=\"dataframe\">\n",
       "  <thead>\n",
       "    <tr style=\"text-align: right;\">\n",
       "      <th></th>\n",
       "      <th>Language</th>\n",
       "      <th>Year</th>\n",
       "      <th>Feeling</th>\n",
       "    </tr>\n",
       "  </thead>\n",
       "  <tbody>\n",
       "    <tr>\n",
       "      <th>0</th>\n",
       "      <td>Python</td>\n",
       "      <td>1992</td>\n",
       "      <td>Golden💛</td>\n",
       "    </tr>\n",
       "    <tr>\n",
       "      <th>1</th>\n",
       "      <td>JS</td>\n",
       "      <td>1995</td>\n",
       "      <td>WebGod🕸️</td>\n",
       "    </tr>\n",
       "    <tr>\n",
       "      <th>2</th>\n",
       "      <td>C++</td>\n",
       "      <td>1986</td>\n",
       "      <td>Pointers👈🏻👉🏻👈🏻🫵🏻👆🏻👇🏻</td>\n",
       "    </tr>\n",
       "    <tr>\n",
       "      <th>3</th>\n",
       "      <td>C</td>\n",
       "      <td>1980</td>\n",
       "      <td>Creator⚡</td>\n",
       "    </tr>\n",
       "  </tbody>\n",
       "</table>\n",
       "</div>"
      ],
      "text/plain": [
       "  Language  Year               Feeling\n",
       "0   Python  1992               Golden💛\n",
       "1       JS  1995              WebGod🕸️\n",
       "2      C++  1986  Pointers👈🏻👉🏻👈🏻🫵🏻👆🏻👇🏻\n",
       "3        C  1980              Creator⚡"
      ]
     },
     "execution_count": 92,
     "metadata": {},
     "output_type": "execute_result"
    }
   ],
   "source": [
    "# using lists\n",
    "languages_perferences = [\n",
    "    ['Python',1992,'Golden💛'], # first row \n",
    "    ['JS',1995,'WebGod🕸️'], # second row \n",
    "    ['C++',1986,'Pointers👈🏻👉🏻👈🏻🫵🏻👆🏻👇🏻'], # third row \n",
    "    ['C',1980,'Creator⚡'], # fourth row \n",
    "]                                            #  C1        C2        C3       (C-> column)\n",
    "pd.DataFrame(languages_perferences,columns=['Language','Year','Feeling'])\n",
    "\n"
   ]
  },
  {
   "cell_type": "code",
   "execution_count": 93,
   "id": "f08fb914",
   "metadata": {},
   "outputs": [
    {
     "data": {
      "application/vnd.microsoft.datawrangler.viewer.v0+json": {
       "columns": [
        {
         "name": "index",
         "rawType": "int64",
         "type": "integer"
        },
        {
         "name": "Language",
         "rawType": "object",
         "type": "string"
        },
        {
         "name": "Year",
         "rawType": "int64",
         "type": "integer"
        },
        {
         "name": "Feeling",
         "rawType": "object",
         "type": "string"
        }
       ],
       "conversionMethod": "pd.DataFrame",
       "ref": "352a707c-d48d-4a04-82f7-518863df7db9",
       "rows": [
        [
         "0",
         "Python",
         "1992",
         "Golden💛"
        ],
        [
         "1",
         "JS",
         "1995",
         "WebGod🕸️"
        ],
        [
         "2",
         "C++",
         "1986",
         "Pointers👈🏻👉🏻👈🏻🫵🏻👆🏻👇🏻"
        ],
        [
         "3",
         "C",
         "1980",
         "Creator⚡"
        ]
       ],
       "shape": {
        "columns": 3,
        "rows": 4
       }
      },
      "text/html": [
       "<div>\n",
       "<style scoped>\n",
       "    .dataframe tbody tr th:only-of-type {\n",
       "        vertical-align: middle;\n",
       "    }\n",
       "\n",
       "    .dataframe tbody tr th {\n",
       "        vertical-align: top;\n",
       "    }\n",
       "\n",
       "    .dataframe thead th {\n",
       "        text-align: right;\n",
       "    }\n",
       "</style>\n",
       "<table border=\"1\" class=\"dataframe\">\n",
       "  <thead>\n",
       "    <tr style=\"text-align: right;\">\n",
       "      <th></th>\n",
       "      <th>Language</th>\n",
       "      <th>Year</th>\n",
       "      <th>Feeling</th>\n",
       "    </tr>\n",
       "  </thead>\n",
       "  <tbody>\n",
       "    <tr>\n",
       "      <th>0</th>\n",
       "      <td>Python</td>\n",
       "      <td>1992</td>\n",
       "      <td>Golden💛</td>\n",
       "    </tr>\n",
       "    <tr>\n",
       "      <th>1</th>\n",
       "      <td>JS</td>\n",
       "      <td>1995</td>\n",
       "      <td>WebGod🕸️</td>\n",
       "    </tr>\n",
       "    <tr>\n",
       "      <th>2</th>\n",
       "      <td>C++</td>\n",
       "      <td>1986</td>\n",
       "      <td>Pointers👈🏻👉🏻👈🏻🫵🏻👆🏻👇🏻</td>\n",
       "    </tr>\n",
       "    <tr>\n",
       "      <th>3</th>\n",
       "      <td>C</td>\n",
       "      <td>1980</td>\n",
       "      <td>Creator⚡</td>\n",
       "    </tr>\n",
       "  </tbody>\n",
       "</table>\n",
       "</div>"
      ],
      "text/plain": [
       "  Language  Year               Feeling\n",
       "0   Python  1992               Golden💛\n",
       "1       JS  1995              WebGod🕸️\n",
       "2      C++  1986  Pointers👈🏻👉🏻👈🏻🫵🏻👆🏻👇🏻\n",
       "3        C  1980              Creator⚡"
      ]
     },
     "execution_count": 93,
     "metadata": {},
     "output_type": "execute_result"
    }
   ],
   "source": [
    "# using dictionary\n",
    "# key will be column name, rows will be values\n",
    "languages_perferences = {\n",
    "    'Language': ['Python', 'JS', 'C++', 'C'],\n",
    "    'Year': [1992, 1995, 1986, 1980],\n",
    "    'Feeling':['Golden💛','WebGod🕸️','Pointers👈🏻👉🏻👈🏻🫵🏻👆🏻👇🏻','Creator⚡']\n",
    "}\n",
    "\n",
    "pd.DataFrame(languages_perferences)"
   ]
  },
  {
   "cell_type": "code",
   "execution_count": null,
   "id": "f2f68f80",
   "metadata": {},
   "outputs": [],
   "source": []
  },
  {
   "cell_type": "code",
   "execution_count": 94,
   "id": "f9b7b6f4",
   "metadata": {},
   "outputs": [
    {
     "data": {
      "application/vnd.microsoft.datawrangler.viewer.v0+json": {
       "columns": [
        {
         "name": "index",
         "rawType": "int64",
         "type": "integer"
        },
        {
         "name": "Language",
         "rawType": "object",
         "type": "string"
        },
        {
         "name": "Year",
         "rawType": "int64",
         "type": "integer"
        },
        {
         "name": "Feeling",
         "rawType": "object",
         "type": "string"
        }
       ],
       "conversionMethod": "pd.DataFrame",
       "ref": "aab1870d-2a77-40d1-8871-73602f23c2b8",
       "rows": [
        [
         "0",
         "Python",
         "1992",
         "Golden💛"
        ],
        [
         "1",
         "JS",
         "1995",
         "WebGod🕸️"
        ],
        [
         "2",
         "C++",
         "1986",
         "Pointers👈🏻👉🏻👈🏻🫵🏻👆🏻👇🏻"
        ],
        [
         "3",
         "C",
         "1980",
         "Creator⚡"
        ]
       ],
       "shape": {
        "columns": 3,
        "rows": 4
       }
      },
      "text/html": [
       "<div>\n",
       "<style scoped>\n",
       "    .dataframe tbody tr th:only-of-type {\n",
       "        vertical-align: middle;\n",
       "    }\n",
       "\n",
       "    .dataframe tbody tr th {\n",
       "        vertical-align: top;\n",
       "    }\n",
       "\n",
       "    .dataframe thead th {\n",
       "        text-align: right;\n",
       "    }\n",
       "</style>\n",
       "<table border=\"1\" class=\"dataframe\">\n",
       "  <thead>\n",
       "    <tr style=\"text-align: right;\">\n",
       "      <th></th>\n",
       "      <th>Language</th>\n",
       "      <th>Year</th>\n",
       "      <th>Feeling</th>\n",
       "    </tr>\n",
       "  </thead>\n",
       "  <tbody>\n",
       "    <tr>\n",
       "      <th>0</th>\n",
       "      <td>Python</td>\n",
       "      <td>1992</td>\n",
       "      <td>Golden💛</td>\n",
       "    </tr>\n",
       "    <tr>\n",
       "      <th>1</th>\n",
       "      <td>JS</td>\n",
       "      <td>1995</td>\n",
       "      <td>WebGod🕸️</td>\n",
       "    </tr>\n",
       "    <tr>\n",
       "      <th>2</th>\n",
       "      <td>C++</td>\n",
       "      <td>1986</td>\n",
       "      <td>Pointers👈🏻👉🏻👈🏻🫵🏻👆🏻👇🏻</td>\n",
       "    </tr>\n",
       "    <tr>\n",
       "      <th>3</th>\n",
       "      <td>C</td>\n",
       "      <td>1980</td>\n",
       "      <td>Creator⚡</td>\n",
       "    </tr>\n",
       "  </tbody>\n",
       "</table>\n",
       "</div>"
      ],
      "text/plain": [
       "  Language  Year               Feeling\n",
       "0   Python  1992               Golden💛\n",
       "1       JS  1995              WebGod🕸️\n",
       "2      C++  1986  Pointers👈🏻👉🏻👈🏻🫵🏻👆🏻👇🏻\n",
       "3        C  1980              Creator⚡"
      ]
     },
     "execution_count": 94,
     "metadata": {},
     "output_type": "execute_result"
    }
   ],
   "source": [
    "# for converting dataframe to csv file\n",
    "# pd.DataFrame(languages_perferences).to_csv('languages_perferences.csv',index=False,sep=',') # for saving in csv file\n",
    "\n",
    "langs = pd.read_csv(r'languages_perferences.csv')\n",
    "langs"
   ]
  },
  {
   "cell_type": "markdown",
   "id": "6227f8b9",
   "metadata": {},
   "source": [
    "# DataFrame Attributes and Methods"
   ]
  },
  {
   "cell_type": "code",
   "execution_count": 95,
   "id": "a9dbf122",
   "metadata": {},
   "outputs": [
    {
     "data": {
      "text/plain": [
       "(4, 3)"
      ]
     },
     "execution_count": 95,
     "metadata": {},
     "output_type": "execute_result"
    }
   ],
   "source": [
    "# shape\n",
    "langs.shape # means data is divided into 4 rows and 3 columns"
   ]
  },
  {
   "cell_type": "code",
   "execution_count": 96,
   "id": "72bebdf0",
   "metadata": {},
   "outputs": [
    {
     "data": {
      "text/plain": [
       "Language    object\n",
       "Year         int64\n",
       "Feeling     object\n",
       "dtype: object"
      ]
     },
     "execution_count": 96,
     "metadata": {},
     "output_type": "execute_result"
    }
   ],
   "source": [
    "# dtypes\n",
    "# gives datatype of each column(series)\n",
    "langs.dtypes"
   ]
  },
  {
   "cell_type": "code",
   "execution_count": 97,
   "id": "b0520c4d",
   "metadata": {},
   "outputs": [
    {
     "data": {
      "text/plain": [
       "RangeIndex(start=0, stop=4, step=1)"
      ]
     },
     "execution_count": 97,
     "metadata": {},
     "output_type": "execute_result"
    }
   ],
   "source": [
    "# index\n",
    "langs.index"
   ]
  },
  {
   "cell_type": "code",
   "execution_count": 98,
   "id": "6e4f1da7",
   "metadata": {},
   "outputs": [
    {
     "data": {
      "text/plain": [
       "Index(['Language', 'Year', 'Feeling'], dtype='object')"
      ]
     },
     "execution_count": 98,
     "metadata": {},
     "output_type": "execute_result"
    }
   ],
   "source": [
    "# columns\n",
    "langs.columns"
   ]
  },
  {
   "cell_type": "code",
   "execution_count": 99,
   "id": "dcb859ac",
   "metadata": {},
   "outputs": [
    {
     "data": {
      "text/plain": [
       "array([['Python', 1992, 'Golden💛'],\n",
       "       ['JS', 1995, 'WebGod🕸️'],\n",
       "       ['C++', 1986, 'Pointers👈🏻👉🏻👈🏻🫵🏻👆🏻👇🏻'],\n",
       "       ['C', 1980, 'Creator⚡']], dtype=object)"
      ]
     },
     "execution_count": 99,
     "metadata": {},
     "output_type": "execute_result"
    }
   ],
   "source": [
    "# values\n",
    "langs.values # give values of each row"
   ]
  },
  {
   "cell_type": "code",
   "execution_count": 100,
   "id": "7eff0889",
   "metadata": {},
   "outputs": [
    {
     "data": {
      "application/vnd.microsoft.datawrangler.viewer.v0+json": {
       "columns": [
        {
         "name": "index",
         "rawType": "int64",
         "type": "integer"
        },
        {
         "name": "Language",
         "rawType": "object",
         "type": "string"
        },
        {
         "name": "Year",
         "rawType": "int64",
         "type": "integer"
        },
        {
         "name": "Feeling",
         "rawType": "object",
         "type": "string"
        }
       ],
       "conversionMethod": "pd.DataFrame",
       "ref": "c8d6b6c9-4424-4dc4-bb69-23ec31011d7b",
       "rows": [
        [
         "0",
         "Python",
         "1992",
         "Golden💛"
        ],
        [
         "1",
         "JS",
         "1995",
         "WebGod🕸️"
        ]
       ],
       "shape": {
        "columns": 3,
        "rows": 2
       }
      },
      "text/html": [
       "<div>\n",
       "<style scoped>\n",
       "    .dataframe tbody tr th:only-of-type {\n",
       "        vertical-align: middle;\n",
       "    }\n",
       "\n",
       "    .dataframe tbody tr th {\n",
       "        vertical-align: top;\n",
       "    }\n",
       "\n",
       "    .dataframe thead th {\n",
       "        text-align: right;\n",
       "    }\n",
       "</style>\n",
       "<table border=\"1\" class=\"dataframe\">\n",
       "  <thead>\n",
       "    <tr style=\"text-align: right;\">\n",
       "      <th></th>\n",
       "      <th>Language</th>\n",
       "      <th>Year</th>\n",
       "      <th>Feeling</th>\n",
       "    </tr>\n",
       "  </thead>\n",
       "  <tbody>\n",
       "    <tr>\n",
       "      <th>0</th>\n",
       "      <td>Python</td>\n",
       "      <td>1992</td>\n",
       "      <td>Golden💛</td>\n",
       "    </tr>\n",
       "    <tr>\n",
       "      <th>1</th>\n",
       "      <td>JS</td>\n",
       "      <td>1995</td>\n",
       "      <td>WebGod🕸️</td>\n",
       "    </tr>\n",
       "  </tbody>\n",
       "</table>\n",
       "</div>"
      ],
      "text/plain": [
       "  Language  Year   Feeling\n",
       "0   Python  1992   Golden💛\n",
       "1       JS  1995  WebGod🕸️"
      ]
     },
     "execution_count": 100,
     "metadata": {},
     "output_type": "execute_result"
    }
   ],
   "source": [
    "# head and tail \n",
    "langs.head(-2) # -2 means last 2 rows will be hidden\n",
    "# same can be done with tail\n"
   ]
  },
  {
   "cell_type": "code",
   "execution_count": 101,
   "id": "f3972b82",
   "metadata": {},
   "outputs": [
    {
     "data": {
      "application/vnd.microsoft.datawrangler.viewer.v0+json": {
       "columns": [
        {
         "name": "index",
         "rawType": "int64",
         "type": "integer"
        },
        {
         "name": "Language",
         "rawType": "object",
         "type": "string"
        },
        {
         "name": "Year",
         "rawType": "int64",
         "type": "integer"
        },
        {
         "name": "Feeling",
         "rawType": "object",
         "type": "string"
        }
       ],
       "conversionMethod": "pd.DataFrame",
       "ref": "799c5d3e-fdda-4d05-a2fb-e723c83a5850",
       "rows": [
        [
         "2",
         "C++",
         "1986",
         "Pointers👈🏻👉🏻👈🏻🫵🏻👆🏻👇🏻"
        ],
        [
         "3",
         "C",
         "1980",
         "Creator⚡"
        ]
       ],
       "shape": {
        "columns": 3,
        "rows": 2
       }
      },
      "text/html": [
       "<div>\n",
       "<style scoped>\n",
       "    .dataframe tbody tr th:only-of-type {\n",
       "        vertical-align: middle;\n",
       "    }\n",
       "\n",
       "    .dataframe tbody tr th {\n",
       "        vertical-align: top;\n",
       "    }\n",
       "\n",
       "    .dataframe thead th {\n",
       "        text-align: right;\n",
       "    }\n",
       "</style>\n",
       "<table border=\"1\" class=\"dataframe\">\n",
       "  <thead>\n",
       "    <tr style=\"text-align: right;\">\n",
       "      <th></th>\n",
       "      <th>Language</th>\n",
       "      <th>Year</th>\n",
       "      <th>Feeling</th>\n",
       "    </tr>\n",
       "  </thead>\n",
       "  <tbody>\n",
       "    <tr>\n",
       "      <th>2</th>\n",
       "      <td>C++</td>\n",
       "      <td>1986</td>\n",
       "      <td>Pointers👈🏻👉🏻👈🏻🫵🏻👆🏻👇🏻</td>\n",
       "    </tr>\n",
       "    <tr>\n",
       "      <th>3</th>\n",
       "      <td>C</td>\n",
       "      <td>1980</td>\n",
       "      <td>Creator⚡</td>\n",
       "    </tr>\n",
       "  </tbody>\n",
       "</table>\n",
       "</div>"
      ],
      "text/plain": [
       "  Language  Year               Feeling\n",
       "2      C++  1986  Pointers👈🏻👉🏻👈🏻🫵🏻👆🏻👇🏻\n",
       "3        C  1980              Creator⚡"
      ]
     },
     "execution_count": 101,
     "metadata": {},
     "output_type": "execute_result"
    }
   ],
   "source": [
    "langs.tail(-2) # means 2 above rows will be hidden"
   ]
  },
  {
   "cell_type": "code",
   "execution_count": 102,
   "id": "c3c36357",
   "metadata": {},
   "outputs": [
    {
     "data": {
      "application/vnd.microsoft.datawrangler.viewer.v0+json": {
       "columns": [
        {
         "name": "index",
         "rawType": "int64",
         "type": "integer"
        },
        {
         "name": "Language",
         "rawType": "object",
         "type": "string"
        },
        {
         "name": "Year",
         "rawType": "int64",
         "type": "integer"
        },
        {
         "name": "Feeling",
         "rawType": "object",
         "type": "string"
        }
       ],
       "conversionMethod": "pd.DataFrame",
       "ref": "5b28609e-d94c-4765-9b23-3f129895f0ce",
       "rows": [
        [
         "3",
         "C",
         "1980",
         "Creator⚡"
        ],
        [
         "0",
         "Python",
         "1992",
         "Golden💛"
        ]
       ],
       "shape": {
        "columns": 3,
        "rows": 2
       }
      },
      "text/html": [
       "<div>\n",
       "<style scoped>\n",
       "    .dataframe tbody tr th:only-of-type {\n",
       "        vertical-align: middle;\n",
       "    }\n",
       "\n",
       "    .dataframe tbody tr th {\n",
       "        vertical-align: top;\n",
       "    }\n",
       "\n",
       "    .dataframe thead th {\n",
       "        text-align: right;\n",
       "    }\n",
       "</style>\n",
       "<table border=\"1\" class=\"dataframe\">\n",
       "  <thead>\n",
       "    <tr style=\"text-align: right;\">\n",
       "      <th></th>\n",
       "      <th>Language</th>\n",
       "      <th>Year</th>\n",
       "      <th>Feeling</th>\n",
       "    </tr>\n",
       "  </thead>\n",
       "  <tbody>\n",
       "    <tr>\n",
       "      <th>3</th>\n",
       "      <td>C</td>\n",
       "      <td>1980</td>\n",
       "      <td>Creator⚡</td>\n",
       "    </tr>\n",
       "    <tr>\n",
       "      <th>0</th>\n",
       "      <td>Python</td>\n",
       "      <td>1992</td>\n",
       "      <td>Golden💛</td>\n",
       "    </tr>\n",
       "  </tbody>\n",
       "</table>\n",
       "</div>"
      ],
      "text/plain": [
       "  Language  Year   Feeling\n",
       "3        C  1980  Creator⚡\n",
       "0   Python  1992   Golden💛"
      ]
     },
     "execution_count": 102,
     "metadata": {},
     "output_type": "execute_result"
    }
   ],
   "source": [
    "# sample # 2 random rows\n",
    "langs.sample(2)"
   ]
  },
  {
   "cell_type": "code",
   "execution_count": 103,
   "id": "5c41e483",
   "metadata": {},
   "outputs": [
    {
     "name": "stdout",
     "output_type": "stream",
     "text": [
      "<class 'pandas.core.frame.DataFrame'>\n",
      "RangeIndex: 4 entries, 0 to 3\n",
      "Data columns (total 3 columns):\n",
      " #   Column    Non-Null Count  Dtype \n",
      "---  ------    --------------  ----- \n",
      " 0   Language  4 non-null      object\n",
      " 1   Year      4 non-null      int64 \n",
      " 2   Feeling   4 non-null      object\n",
      "dtypes: int64(1), object(2)\n",
      "memory usage: 228.0+ bytes\n"
     ]
    }
   ],
   "source": [
    "# Understand `info` -> https://www.youtube.com/live/OG31yhRQxPI?si=UVygY80TQSqfueu7&t=1471\n",
    "langs.info()"
   ]
  },
  {
   "cell_type": "code",
   "execution_count": 104,
   "id": "c3717eaa",
   "metadata": {},
   "outputs": [
    {
     "data": {
      "application/vnd.microsoft.datawrangler.viewer.v0+json": {
       "columns": [
        {
         "name": "index",
         "rawType": "object",
         "type": "string"
        },
        {
         "name": "Year",
         "rawType": "float64",
         "type": "float"
        }
       ],
       "conversionMethod": "pd.DataFrame",
       "ref": "5462c5eb-0695-4c0b-9f11-e62464d7c071",
       "rows": [
        [
         "count",
         "4.0"
        ],
        [
         "mean",
         "1988.25"
        ],
        [
         "std",
         "6.652067347825035"
        ],
        [
         "min",
         "1980.0"
        ],
        [
         "25%",
         "1984.5"
        ],
        [
         "50%",
         "1989.0"
        ],
        [
         "75%",
         "1992.75"
        ],
        [
         "max",
         "1995.0"
        ]
       ],
       "shape": {
        "columns": 1,
        "rows": 8
       }
      },
      "text/html": [
       "<div>\n",
       "<style scoped>\n",
       "    .dataframe tbody tr th:only-of-type {\n",
       "        vertical-align: middle;\n",
       "    }\n",
       "\n",
       "    .dataframe tbody tr th {\n",
       "        vertical-align: top;\n",
       "    }\n",
       "\n",
       "    .dataframe thead th {\n",
       "        text-align: right;\n",
       "    }\n",
       "</style>\n",
       "<table border=\"1\" class=\"dataframe\">\n",
       "  <thead>\n",
       "    <tr style=\"text-align: right;\">\n",
       "      <th></th>\n",
       "      <th>Year</th>\n",
       "    </tr>\n",
       "  </thead>\n",
       "  <tbody>\n",
       "    <tr>\n",
       "      <th>count</th>\n",
       "      <td>4.000000</td>\n",
       "    </tr>\n",
       "    <tr>\n",
       "      <th>mean</th>\n",
       "      <td>1988.250000</td>\n",
       "    </tr>\n",
       "    <tr>\n",
       "      <th>std</th>\n",
       "      <td>6.652067</td>\n",
       "    </tr>\n",
       "    <tr>\n",
       "      <th>min</th>\n",
       "      <td>1980.000000</td>\n",
       "    </tr>\n",
       "    <tr>\n",
       "      <th>25%</th>\n",
       "      <td>1984.500000</td>\n",
       "    </tr>\n",
       "    <tr>\n",
       "      <th>50%</th>\n",
       "      <td>1989.000000</td>\n",
       "    </tr>\n",
       "    <tr>\n",
       "      <th>75%</th>\n",
       "      <td>1992.750000</td>\n",
       "    </tr>\n",
       "    <tr>\n",
       "      <th>max</th>\n",
       "      <td>1995.000000</td>\n",
       "    </tr>\n",
       "  </tbody>\n",
       "</table>\n",
       "</div>"
      ],
      "text/plain": [
       "              Year\n",
       "count     4.000000\n",
       "mean   1988.250000\n",
       "std       6.652067\n",
       "min    1980.000000\n",
       "25%    1984.500000\n",
       "50%    1989.000000\n",
       "75%    1992.750000\n",
       "max    1995.000000"
      ]
     },
     "execution_count": 104,
     "metadata": {},
     "output_type": "execute_result"
    }
   ],
   "source": [
    "# describe, is used to extract numerical columns only\n",
    "langs.describe()"
   ]
  },
  {
   "cell_type": "code",
   "execution_count": 105,
   "id": "cf7db621",
   "metadata": {},
   "outputs": [
    {
     "name": "stdout",
     "output_type": "stream",
     "text": [
      "Language    0\n",
      "Year        0\n",
      "Feeling     0\n",
      "dtype: int64\n"
     ]
    },
    {
     "data": {
      "application/vnd.microsoft.datawrangler.viewer.v0+json": {
       "columns": [
        {
         "name": "index",
         "rawType": "int64",
         "type": "integer"
        },
        {
         "name": "Language",
         "rawType": "bool",
         "type": "boolean"
        },
        {
         "name": "Year",
         "rawType": "bool",
         "type": "boolean"
        },
        {
         "name": "Feeling",
         "rawType": "bool",
         "type": "boolean"
        }
       ],
       "conversionMethod": "pd.DataFrame",
       "ref": "8beba01b-32d0-4cb4-86bc-70e0606f90d7",
       "rows": [
        [
         "0",
         "False",
         "False",
         "False"
        ],
        [
         "1",
         "False",
         "False",
         "False"
        ],
        [
         "2",
         "False",
         "False",
         "False"
        ],
        [
         "3",
         "False",
         "False",
         "False"
        ]
       ],
       "shape": {
        "columns": 3,
        "rows": 4
       }
      },
      "text/html": [
       "<div>\n",
       "<style scoped>\n",
       "    .dataframe tbody tr th:only-of-type {\n",
       "        vertical-align: middle;\n",
       "    }\n",
       "\n",
       "    .dataframe tbody tr th {\n",
       "        vertical-align: top;\n",
       "    }\n",
       "\n",
       "    .dataframe thead th {\n",
       "        text-align: right;\n",
       "    }\n",
       "</style>\n",
       "<table border=\"1\" class=\"dataframe\">\n",
       "  <thead>\n",
       "    <tr style=\"text-align: right;\">\n",
       "      <th></th>\n",
       "      <th>Language</th>\n",
       "      <th>Year</th>\n",
       "      <th>Feeling</th>\n",
       "    </tr>\n",
       "  </thead>\n",
       "  <tbody>\n",
       "    <tr>\n",
       "      <th>0</th>\n",
       "      <td>False</td>\n",
       "      <td>False</td>\n",
       "      <td>False</td>\n",
       "    </tr>\n",
       "    <tr>\n",
       "      <th>1</th>\n",
       "      <td>False</td>\n",
       "      <td>False</td>\n",
       "      <td>False</td>\n",
       "    </tr>\n",
       "    <tr>\n",
       "      <th>2</th>\n",
       "      <td>False</td>\n",
       "      <td>False</td>\n",
       "      <td>False</td>\n",
       "    </tr>\n",
       "    <tr>\n",
       "      <th>3</th>\n",
       "      <td>False</td>\n",
       "      <td>False</td>\n",
       "      <td>False</td>\n",
       "    </tr>\n",
       "  </tbody>\n",
       "</table>\n",
       "</div>"
      ],
      "text/plain": [
       "   Language   Year  Feeling\n",
       "0     False  False    False\n",
       "1     False  False    False\n",
       "2     False  False    False\n",
       "3     False  False    False"
      ]
     },
     "execution_count": 105,
     "metadata": {},
     "output_type": "execute_result"
    }
   ],
   "source": [
    "# isnull, gives a boolean dataframe\n",
    "print(langs.isnull().sum()) # here sum will add all true values as 1, and give us result of each column, basically sum will sum all columns one by one\n",
    "langs.isnull()"
   ]
  },
  {
   "cell_type": "code",
   "execution_count": 106,
   "id": "a0a16e35",
   "metadata": {},
   "outputs": [
    {
     "name": "stdout",
     "output_type": "stream",
     "text": [
      "0    False\n",
      "1    False\n",
      "2    False\n",
      "3    False\n",
      "dtype: bool\n",
      "0\n"
     ]
    }
   ],
   "source": [
    "# duplicated\n",
    "print(langs.duplicated()) # will return true if a row is duplicate, else false\n",
    "print(langs.duplicated().sum()) # total number of duplicate rows, basically its summation of all columns one by one"
   ]
  },
  {
   "cell_type": "code",
   "execution_count": 107,
   "id": "13341492",
   "metadata": {},
   "outputs": [
    {
     "name": "stdout",
     "output_type": "stream",
     "text": [
      "Index(['Language Name', 'Year of Release', 'Tag'], dtype='object')\n"
     ]
    },
    {
     "data": {
      "application/vnd.microsoft.datawrangler.viewer.v0+json": {
       "columns": [
        {
         "name": "index",
         "rawType": "int64",
         "type": "integer"
        },
        {
         "name": "Language Name",
         "rawType": "object",
         "type": "string"
        },
        {
         "name": "Year of Release",
         "rawType": "int64",
         "type": "integer"
        },
        {
         "name": "Tag",
         "rawType": "object",
         "type": "string"
        }
       ],
       "conversionMethod": "pd.DataFrame",
       "ref": "228c1a58-fd7f-4133-876f-de6e32c9a45d",
       "rows": [
        [
         "0",
         "Python",
         "1992",
         "Golden💛"
        ],
        [
         "1",
         "JS",
         "1995",
         "WebGod🕸️"
        ],
        [
         "2",
         "C++",
         "1986",
         "Pointers👈🏻👉🏻👈🏻🫵🏻👆🏻👇🏻"
        ],
        [
         "3",
         "C",
         "1980",
         "Creator⚡"
        ]
       ],
       "shape": {
        "columns": 3,
        "rows": 4
       }
      },
      "text/html": [
       "<div>\n",
       "<style scoped>\n",
       "    .dataframe tbody tr th:only-of-type {\n",
       "        vertical-align: middle;\n",
       "    }\n",
       "\n",
       "    .dataframe tbody tr th {\n",
       "        vertical-align: top;\n",
       "    }\n",
       "\n",
       "    .dataframe thead th {\n",
       "        text-align: right;\n",
       "    }\n",
       "</style>\n",
       "<table border=\"1\" class=\"dataframe\">\n",
       "  <thead>\n",
       "    <tr style=\"text-align: right;\">\n",
       "      <th></th>\n",
       "      <th>Language Name</th>\n",
       "      <th>Year of Release</th>\n",
       "      <th>Tag</th>\n",
       "    </tr>\n",
       "  </thead>\n",
       "  <tbody>\n",
       "    <tr>\n",
       "      <th>0</th>\n",
       "      <td>Python</td>\n",
       "      <td>1992</td>\n",
       "      <td>Golden💛</td>\n",
       "    </tr>\n",
       "    <tr>\n",
       "      <th>1</th>\n",
       "      <td>JS</td>\n",
       "      <td>1995</td>\n",
       "      <td>WebGod🕸️</td>\n",
       "    </tr>\n",
       "    <tr>\n",
       "      <th>2</th>\n",
       "      <td>C++</td>\n",
       "      <td>1986</td>\n",
       "      <td>Pointers👈🏻👉🏻👈🏻🫵🏻👆🏻👇🏻</td>\n",
       "    </tr>\n",
       "    <tr>\n",
       "      <th>3</th>\n",
       "      <td>C</td>\n",
       "      <td>1980</td>\n",
       "      <td>Creator⚡</td>\n",
       "    </tr>\n",
       "  </tbody>\n",
       "</table>\n",
       "</div>"
      ],
      "text/plain": [
       "  Language Name  Year of Release                   Tag\n",
       "0        Python             1992               Golden💛\n",
       "1            JS             1995              WebGod🕸️\n",
       "2           C++             1986  Pointers👈🏻👉🏻👈🏻🫵🏻👆🏻👇🏻\n",
       "3             C             1980              Creator⚡"
      ]
     },
     "execution_count": 107,
     "metadata": {},
     "output_type": "execute_result"
    }
   ],
   "source": [
    "# rename column names\n",
    "\n",
    "langs.rename(columns={'Language':'Language Name', 'Year':'Year of Release', 'Feeling':'Tag'}, inplace=True)\n",
    "print(langs.columns)\n",
    "langs"
   ]
  },
  {
   "cell_type": "code",
   "execution_count": 108,
   "id": "cad4583d",
   "metadata": {},
   "outputs": [
    {
     "data": {
      "application/vnd.microsoft.datawrangler.viewer.v0+json": {
       "columns": [
        {
         "name": "Language Name",
         "rawType": "object",
         "type": "string"
        },
        {
         "name": "Year of Release",
         "rawType": "int64",
         "type": "integer"
        },
        {
         "name": "Tag",
         "rawType": "object",
         "type": "string"
        }
       ],
       "conversionMethod": "pd.DataFrame",
       "ref": "a17515c6-f9d3-4644-b336-47399f11e914",
       "rows": [
        [
         "Python",
         "1992",
         "Golden💛"
        ],
        [
         "JS",
         "1995",
         "WebGod🕸️"
        ],
        [
         "C++",
         "1986",
         "Pointers👈🏻👉🏻👈🏻🫵🏻👆🏻👇🏻"
        ],
        [
         "C",
         "1980",
         "Creator⚡"
        ]
       ],
       "shape": {
        "columns": 2,
        "rows": 4
       }
      },
      "text/html": [
       "<div>\n",
       "<style scoped>\n",
       "    .dataframe tbody tr th:only-of-type {\n",
       "        vertical-align: middle;\n",
       "    }\n",
       "\n",
       "    .dataframe tbody tr th {\n",
       "        vertical-align: top;\n",
       "    }\n",
       "\n",
       "    .dataframe thead th {\n",
       "        text-align: right;\n",
       "    }\n",
       "</style>\n",
       "<table border=\"1\" class=\"dataframe\">\n",
       "  <thead>\n",
       "    <tr style=\"text-align: right;\">\n",
       "      <th></th>\n",
       "      <th>Year of Release</th>\n",
       "      <th>Tag</th>\n",
       "    </tr>\n",
       "    <tr>\n",
       "      <th>Language Name</th>\n",
       "      <th></th>\n",
       "      <th></th>\n",
       "    </tr>\n",
       "  </thead>\n",
       "  <tbody>\n",
       "    <tr>\n",
       "      <th>Python</th>\n",
       "      <td>1992</td>\n",
       "      <td>Golden💛</td>\n",
       "    </tr>\n",
       "    <tr>\n",
       "      <th>JS</th>\n",
       "      <td>1995</td>\n",
       "      <td>WebGod🕸️</td>\n",
       "    </tr>\n",
       "    <tr>\n",
       "      <th>C++</th>\n",
       "      <td>1986</td>\n",
       "      <td>Pointers👈🏻👉🏻👈🏻🫵🏻👆🏻👇🏻</td>\n",
       "    </tr>\n",
       "    <tr>\n",
       "      <th>C</th>\n",
       "      <td>1980</td>\n",
       "      <td>Creator⚡</td>\n",
       "    </tr>\n",
       "  </tbody>\n",
       "</table>\n",
       "</div>"
      ],
      "text/plain": [
       "               Year of Release                   Tag\n",
       "Language Name                                       \n",
       "Python                    1992               Golden💛\n",
       "JS                        1995              WebGod🕸️\n",
       "C++                       1986  Pointers👈🏻👉🏻👈🏻🫵🏻👆🏻👇🏻\n",
       "C                         1980              Creator⚡"
      ]
     },
     "execution_count": 108,
     "metadata": {},
     "output_type": "execute_result"
    }
   ],
   "source": [
    "langs.set_index('Language Name') # to make a column as index"
   ]
  },
  {
   "cell_type": "markdown",
   "id": "d7405e8e",
   "metadata": {},
   "source": [
    "# Mathematical Functions"
   ]
  },
  {
   "cell_type": "code",
   "execution_count": 109,
   "id": "76459a93",
   "metadata": {},
   "outputs": [
    {
     "name": "stdout",
     "output_type": "stream",
     "text": [
      "Axis = 0\n",
      " A     6\n",
      "B    15\n",
      "C    24\n",
      "dtype: int64 \n",
      "\n",
      "Axis = 1\n",
      " 0    12\n",
      "1    15\n",
      "2    18\n",
      "dtype: int64 \n",
      "\n"
     ]
    },
    {
     "data": {
      "application/vnd.microsoft.datawrangler.viewer.v0+json": {
       "columns": [
        {
         "name": "index",
         "rawType": "int64",
         "type": "integer"
        },
        {
         "name": "A",
         "rawType": "int64",
         "type": "integer"
        },
        {
         "name": "B",
         "rawType": "int64",
         "type": "integer"
        },
        {
         "name": "C",
         "rawType": "int64",
         "type": "integer"
        }
       ],
       "conversionMethod": "pd.DataFrame",
       "ref": "de9e1f81-b910-4797-84c5-0e944c435201",
       "rows": [
        [
         "0",
         "1",
         "4",
         "7"
        ],
        [
         "1",
         "2",
         "5",
         "8"
        ],
        [
         "2",
         "3",
         "6",
         "9"
        ]
       ],
       "shape": {
        "columns": 3,
        "rows": 3
       }
      },
      "text/html": [
       "<div>\n",
       "<style scoped>\n",
       "    .dataframe tbody tr th:only-of-type {\n",
       "        vertical-align: middle;\n",
       "    }\n",
       "\n",
       "    .dataframe tbody tr th {\n",
       "        vertical-align: top;\n",
       "    }\n",
       "\n",
       "    .dataframe thead th {\n",
       "        text-align: right;\n",
       "    }\n",
       "</style>\n",
       "<table border=\"1\" class=\"dataframe\">\n",
       "  <thead>\n",
       "    <tr style=\"text-align: right;\">\n",
       "      <th></th>\n",
       "      <th>A</th>\n",
       "      <th>B</th>\n",
       "      <th>C</th>\n",
       "    </tr>\n",
       "  </thead>\n",
       "  <tbody>\n",
       "    <tr>\n",
       "      <th>0</th>\n",
       "      <td>1</td>\n",
       "      <td>4</td>\n",
       "      <td>7</td>\n",
       "    </tr>\n",
       "    <tr>\n",
       "      <th>1</th>\n",
       "      <td>2</td>\n",
       "      <td>5</td>\n",
       "      <td>8</td>\n",
       "    </tr>\n",
       "    <tr>\n",
       "      <th>2</th>\n",
       "      <td>3</td>\n",
       "      <td>6</td>\n",
       "      <td>9</td>\n",
       "    </tr>\n",
       "  </tbody>\n",
       "</table>\n",
       "</div>"
      ],
      "text/plain": [
       "   A  B  C\n",
       "0  1  4  7\n",
       "1  2  5  8\n",
       "2  3  6  9"
      ]
     },
     "execution_count": 109,
     "metadata": {},
     "output_type": "execute_result"
    }
   ],
   "source": [
    "# sum -> axis argument\n",
    "\n",
    "new_df = pd.DataFrame({\n",
    "    'A': [1, 2, 3],\n",
    "    'B': [4, 5, 6],\n",
    "    'C': [7, 8, 9]\n",
    "\n",
    "}, dtype=np.int64)\n",
    "\n",
    "print('Axis = 0\\n',new_df.sum(axis=0),'\\n') # sum of each column, by default, axis=0\n",
    "print('Axis = 1\\n',new_df.sum(axis=1),'\\n') # sum of each row\n",
    "new_df\n",
    "\n"
   ]
  },
  {
   "cell_type": "code",
   "execution_count": 110,
   "id": "e462b519",
   "metadata": {},
   "outputs": [
    {
     "name": "stdout",
     "output_type": "stream",
     "text": [
      "Axis = 0\n",
      " A    2.0\n",
      "B    5.0\n",
      "C    8.0\n",
      "dtype: float64 \n",
      "\n",
      "Axis = 1\n",
      " 0    4.0\n",
      "1    5.0\n",
      "2    6.0\n",
      "dtype: float64 \n",
      "\n"
     ]
    },
    {
     "data": {
      "application/vnd.microsoft.datawrangler.viewer.v0+json": {
       "columns": [
        {
         "name": "index",
         "rawType": "int64",
         "type": "integer"
        },
        {
         "name": "A",
         "rawType": "int64",
         "type": "integer"
        },
        {
         "name": "B",
         "rawType": "int64",
         "type": "integer"
        },
        {
         "name": "C",
         "rawType": "int64",
         "type": "integer"
        }
       ],
       "conversionMethod": "pd.DataFrame",
       "ref": "9b4fc3b7-9c54-4239-8805-897ff5356482",
       "rows": [
        [
         "0",
         "1",
         "4",
         "7"
        ],
        [
         "1",
         "2",
         "5",
         "8"
        ],
        [
         "2",
         "3",
         "6",
         "9"
        ]
       ],
       "shape": {
        "columns": 3,
        "rows": 3
       }
      },
      "text/html": [
       "<div>\n",
       "<style scoped>\n",
       "    .dataframe tbody tr th:only-of-type {\n",
       "        vertical-align: middle;\n",
       "    }\n",
       "\n",
       "    .dataframe tbody tr th {\n",
       "        vertical-align: top;\n",
       "    }\n",
       "\n",
       "    .dataframe thead th {\n",
       "        text-align: right;\n",
       "    }\n",
       "</style>\n",
       "<table border=\"1\" class=\"dataframe\">\n",
       "  <thead>\n",
       "    <tr style=\"text-align: right;\">\n",
       "      <th></th>\n",
       "      <th>A</th>\n",
       "      <th>B</th>\n",
       "      <th>C</th>\n",
       "    </tr>\n",
       "  </thead>\n",
       "  <tbody>\n",
       "    <tr>\n",
       "      <th>0</th>\n",
       "      <td>1</td>\n",
       "      <td>4</td>\n",
       "      <td>7</td>\n",
       "    </tr>\n",
       "    <tr>\n",
       "      <th>1</th>\n",
       "      <td>2</td>\n",
       "      <td>5</td>\n",
       "      <td>8</td>\n",
       "    </tr>\n",
       "    <tr>\n",
       "      <th>2</th>\n",
       "      <td>3</td>\n",
       "      <td>6</td>\n",
       "      <td>9</td>\n",
       "    </tr>\n",
       "  </tbody>\n",
       "</table>\n",
       "</div>"
      ],
      "text/plain": [
       "   A  B  C\n",
       "0  1  4  7\n",
       "1  2  5  8\n",
       "2  3  6  9"
      ]
     },
     "execution_count": 110,
     "metadata": {},
     "output_type": "execute_result"
    }
   ],
   "source": [
    "# mean\n",
    "\n",
    "print('Axis = 0\\n',new_df.mean(axis=0),'\\n') # mean of each column\n",
    "print('Axis = 1\\n',new_df.mean(axis=1),'\\n') # mean of each row\n",
    "\n",
    "new_df"
   ]
  },
  {
   "cell_type": "code",
   "execution_count": 111,
   "id": "0a901335",
   "metadata": {},
   "outputs": [
    {
     "name": "stdout",
     "output_type": "stream",
     "text": [
      "Axis = 0\n",
      " A    1\n",
      "B    4\n",
      "C    7\n",
      "dtype: int64 \n",
      "\n",
      "Axis = 1\n",
      " 0    7\n",
      "1    8\n",
      "2    9\n",
      "dtype: int64 \n",
      "\n"
     ]
    },
    {
     "data": {
      "application/vnd.microsoft.datawrangler.viewer.v0+json": {
       "columns": [
        {
         "name": "index",
         "rawType": "int64",
         "type": "integer"
        },
        {
         "name": "A",
         "rawType": "int64",
         "type": "integer"
        },
        {
         "name": "B",
         "rawType": "int64",
         "type": "integer"
        },
        {
         "name": "C",
         "rawType": "int64",
         "type": "integer"
        }
       ],
       "conversionMethod": "pd.DataFrame",
       "ref": "b9bb9631-630d-4aba-a8c1-759bc593590e",
       "rows": [
        [
         "0",
         "1",
         "4",
         "7"
        ],
        [
         "1",
         "2",
         "5",
         "8"
        ],
        [
         "2",
         "3",
         "6",
         "9"
        ]
       ],
       "shape": {
        "columns": 3,
        "rows": 3
       }
      },
      "text/html": [
       "<div>\n",
       "<style scoped>\n",
       "    .dataframe tbody tr th:only-of-type {\n",
       "        vertical-align: middle;\n",
       "    }\n",
       "\n",
       "    .dataframe tbody tr th {\n",
       "        vertical-align: top;\n",
       "    }\n",
       "\n",
       "    .dataframe thead th {\n",
       "        text-align: right;\n",
       "    }\n",
       "</style>\n",
       "<table border=\"1\" class=\"dataframe\">\n",
       "  <thead>\n",
       "    <tr style=\"text-align: right;\">\n",
       "      <th></th>\n",
       "      <th>A</th>\n",
       "      <th>B</th>\n",
       "      <th>C</th>\n",
       "    </tr>\n",
       "  </thead>\n",
       "  <tbody>\n",
       "    <tr>\n",
       "      <th>0</th>\n",
       "      <td>1</td>\n",
       "      <td>4</td>\n",
       "      <td>7</td>\n",
       "    </tr>\n",
       "    <tr>\n",
       "      <th>1</th>\n",
       "      <td>2</td>\n",
       "      <td>5</td>\n",
       "      <td>8</td>\n",
       "    </tr>\n",
       "    <tr>\n",
       "      <th>2</th>\n",
       "      <td>3</td>\n",
       "      <td>6</td>\n",
       "      <td>9</td>\n",
       "    </tr>\n",
       "  </tbody>\n",
       "</table>\n",
       "</div>"
      ],
      "text/plain": [
       "   A  B  C\n",
       "0  1  4  7\n",
       "1  2  5  8\n",
       "2  3  6  9"
      ]
     },
     "execution_count": 111,
     "metadata": {},
     "output_type": "execute_result"
    }
   ],
   "source": [
    "# min , max , variance(new_df.var()) , std (new_df.std())\n",
    "\n",
    "print('Axis = 0\\n',new_df.min(axis=0),'\\n') # min of each column\n",
    "print('Axis = 1\\n',new_df.max(axis=1),'\\n') # max of each row\n",
    "\n",
    "new_df\n",
    "# max"
   ]
  },
  {
   "cell_type": "code",
   "execution_count": null,
   "id": "b2ed0efe",
   "metadata": {},
   "outputs": [
    {
     "data": {
      "application/vnd.microsoft.datawrangler.viewer.v0+json": {
       "columns": [
        {
         "name": "index",
         "rawType": "int64",
         "type": "integer"
        },
        {
         "name": "A",
         "rawType": "int64",
         "type": "integer"
        },
        {
         "name": "C",
         "rawType": "int64",
         "type": "integer"
        }
       ],
       "conversionMethod": "pd.DataFrame",
       "ref": "51403b02-2d1c-462d-a688-c67a8f6aca43",
       "rows": [
        [
         "0",
         "1",
         "7"
        ],
        [
         "1",
         "2",
         "8"
        ],
        [
         "2",
         "3",
         "9"
        ]
       ],
       "shape": {
        "columns": 2,
        "rows": 3
       }
      },
      "text/html": [
       "<div>\n",
       "<style scoped>\n",
       "    .dataframe tbody tr th:only-of-type {\n",
       "        vertical-align: middle;\n",
       "    }\n",
       "\n",
       "    .dataframe tbody tr th {\n",
       "        vertical-align: top;\n",
       "    }\n",
       "\n",
       "    .dataframe thead th {\n",
       "        text-align: right;\n",
       "    }\n",
       "</style>\n",
       "<table border=\"1\" class=\"dataframe\">\n",
       "  <thead>\n",
       "    <tr style=\"text-align: right;\">\n",
       "      <th></th>\n",
       "      <th>A</th>\n",
       "      <th>C</th>\n",
       "    </tr>\n",
       "  </thead>\n",
       "  <tbody>\n",
       "    <tr>\n",
       "      <th>0</th>\n",
       "      <td>1</td>\n",
       "      <td>7</td>\n",
       "    </tr>\n",
       "    <tr>\n",
       "      <th>1</th>\n",
       "      <td>2</td>\n",
       "      <td>8</td>\n",
       "    </tr>\n",
       "    <tr>\n",
       "      <th>2</th>\n",
       "      <td>3</td>\n",
       "      <td>9</td>\n",
       "    </tr>\n",
       "  </tbody>\n",
       "</table>\n",
       "</div>"
      ],
      "text/plain": [
       "   A  C\n",
       "0  1  7\n",
       "1  2  8\n",
       "2  3  9"
      ]
     },
     "execution_count": 131,
     "metadata": {},
     "output_type": "execute_result"
    }
   ],
   "source": []
  },
  {
   "cell_type": "markdown",
   "id": "ffe1fdd9",
   "metadata": {},
   "source": [
    "# Indexing and Slicing in DataFrame"
   ]
  },
  {
   "cell_type": "code",
   "execution_count": 135,
   "id": "c914c2c5",
   "metadata": {},
   "outputs": [
    {
     "data": {
      "application/vnd.microsoft.datawrangler.viewer.v0+json": {
       "columns": [
        {
         "name": "index",
         "rawType": "int64",
         "type": "integer"
        },
        {
         "name": "A",
         "rawType": "int64",
         "type": "integer"
        },
        {
         "name": "B",
         "rawType": "int64",
         "type": "integer"
        },
        {
         "name": "C",
         "rawType": "int64",
         "type": "integer"
        }
       ],
       "conversionMethod": "pd.DataFrame",
       "ref": "5d5183a5-0401-48e5-9e4e-9c01742ef712",
       "rows": [
        [
         "0",
         "1",
         "4",
         "7"
        ],
        [
         "1",
         "2",
         "5",
         "8"
        ],
        [
         "2",
         "3",
         "6",
         "9"
        ]
       ],
       "shape": {
        "columns": 3,
        "rows": 3
       }
      },
      "text/html": [
       "<div>\n",
       "<style scoped>\n",
       "    .dataframe tbody tr th:only-of-type {\n",
       "        vertical-align: middle;\n",
       "    }\n",
       "\n",
       "    .dataframe tbody tr th {\n",
       "        vertical-align: top;\n",
       "    }\n",
       "\n",
       "    .dataframe thead th {\n",
       "        text-align: right;\n",
       "    }\n",
       "</style>\n",
       "<table border=\"1\" class=\"dataframe\">\n",
       "  <thead>\n",
       "    <tr style=\"text-align: right;\">\n",
       "      <th></th>\n",
       "      <th>A</th>\n",
       "      <th>B</th>\n",
       "      <th>C</th>\n",
       "    </tr>\n",
       "  </thead>\n",
       "  <tbody>\n",
       "    <tr>\n",
       "      <th>0</th>\n",
       "      <td>1</td>\n",
       "      <td>4</td>\n",
       "      <td>7</td>\n",
       "    </tr>\n",
       "    <tr>\n",
       "      <th>1</th>\n",
       "      <td>2</td>\n",
       "      <td>5</td>\n",
       "      <td>8</td>\n",
       "    </tr>\n",
       "    <tr>\n",
       "      <th>2</th>\n",
       "      <td>3</td>\n",
       "      <td>6</td>\n",
       "      <td>9</td>\n",
       "    </tr>\n",
       "  </tbody>\n",
       "</table>\n",
       "</div>"
      ],
      "text/plain": [
       "   A  B  C\n",
       "0  1  4  7\n",
       "1  2  5  8\n",
       "2  3  6  9"
      ]
     },
     "execution_count": 135,
     "metadata": {},
     "output_type": "execute_result"
    }
   ],
   "source": [
    "new_df"
   ]
  },
  {
   "cell_type": "code",
   "execution_count": 136,
   "id": "529e8771",
   "metadata": {},
   "outputs": [
    {
     "data": {
      "application/vnd.microsoft.datawrangler.viewer.v0+json": {
       "columns": [
        {
         "name": "index",
         "rawType": "int64",
         "type": "integer"
        },
        {
         "name": "A",
         "rawType": "int64",
         "type": "integer"
        },
        {
         "name": "C",
         "rawType": "int64",
         "type": "integer"
        }
       ],
       "conversionMethod": "pd.DataFrame",
       "ref": "95581f07-08bf-402a-898d-0ace471d9e9d",
       "rows": [
        [
         "0",
         "1",
         "7"
        ],
        [
         "1",
         "2",
         "8"
        ],
        [
         "2",
         "3",
         "9"
        ]
       ],
       "shape": {
        "columns": 2,
        "rows": 3
       }
      },
      "text/html": [
       "<div>\n",
       "<style scoped>\n",
       "    .dataframe tbody tr th:only-of-type {\n",
       "        vertical-align: middle;\n",
       "    }\n",
       "\n",
       "    .dataframe tbody tr th {\n",
       "        vertical-align: top;\n",
       "    }\n",
       "\n",
       "    .dataframe thead th {\n",
       "        text-align: right;\n",
       "    }\n",
       "</style>\n",
       "<table border=\"1\" class=\"dataframe\">\n",
       "  <thead>\n",
       "    <tr style=\"text-align: right;\">\n",
       "      <th></th>\n",
       "      <th>A</th>\n",
       "      <th>C</th>\n",
       "    </tr>\n",
       "  </thead>\n",
       "  <tbody>\n",
       "    <tr>\n",
       "      <th>0</th>\n",
       "      <td>1</td>\n",
       "      <td>7</td>\n",
       "    </tr>\n",
       "    <tr>\n",
       "      <th>1</th>\n",
       "      <td>2</td>\n",
       "      <td>8</td>\n",
       "    </tr>\n",
       "    <tr>\n",
       "      <th>2</th>\n",
       "      <td>3</td>\n",
       "      <td>9</td>\n",
       "    </tr>\n",
       "  </tbody>\n",
       "</table>\n",
       "</div>"
      ],
      "text/plain": [
       "   A  C\n",
       "0  1  7\n",
       "1  2  8\n",
       "2  3  9"
      ]
     },
     "execution_count": 136,
     "metadata": {},
     "output_type": "execute_result"
    }
   ],
   "source": [
    "# fetch specific column\n",
    "new_df[['A', 'C']]"
   ]
  },
  {
   "cell_type": "code",
   "execution_count": null,
   "id": "4b54fc2d",
   "metadata": {},
   "outputs": [
    {
     "name": "stdout",
     "output_type": "stream",
     "text": [
      "Language Name       Python\n",
      "Year of Release       1992\n",
      "Tag                Golden💛\n",
      "Name: 0, dtype: object \n",
      "\n",
      "Golden💛 \n",
      "\n"
     ]
    },
    {
     "data": {
      "application/vnd.microsoft.datawrangler.viewer.v0+json": {
       "columns": [
        {
         "name": "index",
         "rawType": "int64",
         "type": "integer"
        },
        {
         "name": "Language Name",
         "rawType": "object",
         "type": "string"
        },
        {
         "name": "Year of Release",
         "rawType": "int64",
         "type": "integer"
        },
        {
         "name": "Tag",
         "rawType": "object",
         "type": "string"
        }
       ],
       "conversionMethod": "pd.DataFrame",
       "ref": "3230e03c-0a16-484e-9a9c-e517eb3311ef",
       "rows": [
        [
         "0",
         "Python",
         "1992",
         "Golden💛"
        ],
        [
         "1",
         "JS",
         "1995",
         "WebGod🕸️"
        ],
        [
         "2",
         "C++",
         "1986",
         "Pointers👈🏻👉🏻👈🏻🫵🏻👆🏻👇🏻"
        ],
        [
         "3",
         "C",
         "1980",
         "Creator⚡"
        ]
       ],
       "shape": {
        "columns": 3,
        "rows": 4
       }
      },
      "text/html": [
       "<div>\n",
       "<style scoped>\n",
       "    .dataframe tbody tr th:only-of-type {\n",
       "        vertical-align: middle;\n",
       "    }\n",
       "\n",
       "    .dataframe tbody tr th {\n",
       "        vertical-align: top;\n",
       "    }\n",
       "\n",
       "    .dataframe thead th {\n",
       "        text-align: right;\n",
       "    }\n",
       "</style>\n",
       "<table border=\"1\" class=\"dataframe\">\n",
       "  <thead>\n",
       "    <tr style=\"text-align: right;\">\n",
       "      <th></th>\n",
       "      <th>Language Name</th>\n",
       "      <th>Year of Release</th>\n",
       "      <th>Tag</th>\n",
       "    </tr>\n",
       "  </thead>\n",
       "  <tbody>\n",
       "    <tr>\n",
       "      <th>0</th>\n",
       "      <td>Python</td>\n",
       "      <td>1992</td>\n",
       "      <td>Golden💛</td>\n",
       "    </tr>\n",
       "    <tr>\n",
       "      <th>1</th>\n",
       "      <td>JS</td>\n",
       "      <td>1995</td>\n",
       "      <td>WebGod🕸️</td>\n",
       "    </tr>\n",
       "    <tr>\n",
       "      <th>2</th>\n",
       "      <td>C++</td>\n",
       "      <td>1986</td>\n",
       "      <td>Pointers👈🏻👉🏻👈🏻🫵🏻👆🏻👇🏻</td>\n",
       "    </tr>\n",
       "    <tr>\n",
       "      <th>3</th>\n",
       "      <td>C</td>\n",
       "      <td>1980</td>\n",
       "      <td>Creator⚡</td>\n",
       "    </tr>\n",
       "  </tbody>\n",
       "</table>\n",
       "</div>"
      ],
      "text/plain": [
       "  Language Name  Year of Release                   Tag\n",
       "0        Python             1992               Golden💛\n",
       "1            JS             1995              WebGod🕸️\n",
       "2           C++             1986  Pointers👈🏻👉🏻👈🏻🫵🏻👆🏻👇🏻\n",
       "3             C             1980              Creator⚡"
      ]
     },
     "execution_count": 144,
     "metadata": {},
     "output_type": "execute_result"
    }
   ],
   "source": [
    "# iloc, to get rows by indexes(these indexes is internally managed by pandas, its not the indexes that we see on left most side of dataframe)\n",
    "\"\"\" a = np.arange(10).reshape(2,5) # reshape the array into 2 rows and 5 columns\n",
    "a[[0,1],[1,2]] , so all list of indexes should have same len in fancy indexing(unless the first list not contains single index)\"\"\"\n",
    "\n",
    "# single row\n",
    "print(langs.iloc[0],'\\n')\n",
    "print(langs.iloc[0,-1],'\\n')\n",
    "langs"
   ]
  },
  {
   "cell_type": "code",
   "execution_count": 147,
   "id": "cf2a5a5e",
   "metadata": {},
   "outputs": [
    {
     "data": {
      "application/vnd.microsoft.datawrangler.viewer.v0+json": {
       "columns": [
        {
         "name": "index",
         "rawType": "int64",
         "type": "integer"
        },
        {
         "name": "Language Name",
         "rawType": "object",
         "type": "string"
        },
        {
         "name": "Year of Release",
         "rawType": "int64",
         "type": "integer"
        }
       ],
       "conversionMethod": "pd.DataFrame",
       "ref": "517e158e-7c0f-4441-8d84-b387b50a47de",
       "rows": [
        [
         "0",
         "Python",
         "1992"
        ],
        [
         "1",
         "JS",
         "1995"
        ]
       ],
       "shape": {
        "columns": 2,
        "rows": 2
       }
      },
      "text/html": [
       "<div>\n",
       "<style scoped>\n",
       "    .dataframe tbody tr th:only-of-type {\n",
       "        vertical-align: middle;\n",
       "    }\n",
       "\n",
       "    .dataframe tbody tr th {\n",
       "        vertical-align: top;\n",
       "    }\n",
       "\n",
       "    .dataframe thead th {\n",
       "        text-align: right;\n",
       "    }\n",
       "</style>\n",
       "<table border=\"1\" class=\"dataframe\">\n",
       "  <thead>\n",
       "    <tr style=\"text-align: right;\">\n",
       "      <th></th>\n",
       "      <th>Language Name</th>\n",
       "      <th>Year of Release</th>\n",
       "    </tr>\n",
       "  </thead>\n",
       "  <tbody>\n",
       "    <tr>\n",
       "      <th>0</th>\n",
       "      <td>Python</td>\n",
       "      <td>1992</td>\n",
       "    </tr>\n",
       "    <tr>\n",
       "      <th>1</th>\n",
       "      <td>JS</td>\n",
       "      <td>1995</td>\n",
       "    </tr>\n",
       "  </tbody>\n",
       "</table>\n",
       "</div>"
      ],
      "text/plain": [
       "  Language Name  Year of Release\n",
       "0        Python             1992\n",
       "1            JS             1995"
      ]
     },
     "execution_count": 147,
     "metadata": {},
     "output_type": "execute_result"
    }
   ],
   "source": [
    "# multiple rows\n",
    "langs.iloc[:2,:2]"
   ]
  },
  {
   "cell_type": "code",
   "execution_count": null,
   "id": "1b0d1ab0",
   "metadata": {},
   "outputs": [
    {
     "name": "stdout",
     "output_type": "stream",
     "text": [
      "  Language Name Language Name       Tag\n",
      "0        Python        Python   Golden💛\n",
      "3             C             C  Creator⚡\n"
     ]
    }
   ],
   "source": [
    "# fancy indexing\n",
    "# pandas fancy indexing work little bit differently from numpy, because in numpy all list of indexes should have same len in fancy indexing(unless the first list not contains single index)\n",
    "\n",
    "print(langs.iloc[[0,-1],[0,0,-1]]) "
   ]
  },
  {
   "cell_type": "code",
   "execution_count": null,
   "id": "cdc80f2f",
   "metadata": {},
   "outputs": [
    {
     "data": {
      "application/vnd.microsoft.datawrangler.viewer.v0+json": {
       "columns": [
        {
         "name": "index",
         "rawType": "int64",
         "type": "integer"
        },
        {
         "name": "Language Name",
         "rawType": "object",
         "type": "string"
        },
        {
         "name": "Year of Release",
         "rawType": "int64",
         "type": "integer"
        },
        {
         "name": "Tag",
         "rawType": "object",
         "type": "string"
        }
       ],
       "conversionMethod": "pd.DataFrame",
       "ref": "1cedac29-48ed-4574-b46c-af1f6fde27c0",
       "rows": [
        [
         "0",
         "Python",
         "1992",
         "Golden💛"
        ],
        [
         "2",
         "C++",
         "1986",
         "Pointers👈🏻👉🏻👈🏻🫵🏻👆🏻👇🏻"
        ]
       ],
       "shape": {
        "columns": 3,
        "rows": 2
       }
      },
      "text/html": [
       "<div>\n",
       "<style scoped>\n",
       "    .dataframe tbody tr th:only-of-type {\n",
       "        vertical-align: middle;\n",
       "    }\n",
       "\n",
       "    .dataframe tbody tr th {\n",
       "        vertical-align: top;\n",
       "    }\n",
       "\n",
       "    .dataframe thead th {\n",
       "        text-align: right;\n",
       "    }\n",
       "</style>\n",
       "<table border=\"1\" class=\"dataframe\">\n",
       "  <thead>\n",
       "    <tr style=\"text-align: right;\">\n",
       "      <th></th>\n",
       "      <th>Language Name</th>\n",
       "      <th>Year of Release</th>\n",
       "      <th>Tag</th>\n",
       "    </tr>\n",
       "  </thead>\n",
       "  <tbody>\n",
       "    <tr>\n",
       "      <th>0</th>\n",
       "      <td>Python</td>\n",
       "      <td>1992</td>\n",
       "      <td>Golden💛</td>\n",
       "    </tr>\n",
       "    <tr>\n",
       "      <th>2</th>\n",
       "      <td>C++</td>\n",
       "      <td>1986</td>\n",
       "      <td>Pointers👈🏻👉🏻👈🏻🫵🏻👆🏻👇🏻</td>\n",
       "    </tr>\n",
       "  </tbody>\n",
       "</table>\n",
       "</div>"
      ],
      "text/plain": [
       "  Language Name  Year of Release                   Tag\n",
       "0        Python             1992               Golden💛\n",
       "2           C++             1986  Pointers👈🏻👉🏻👈🏻🫵🏻👆🏻👇🏻"
      ]
     },
     "execution_count": 171,
     "metadata": {},
     "output_type": "execute_result"
    }
   ],
   "source": [
    "langs.iloc[[True, False, True, False], :] # fancy indexing with boolean indexing using iloc"
   ]
  },
  {
   "cell_type": "code",
   "execution_count": 120,
   "id": "2ff52ad0",
   "metadata": {},
   "outputs": [
    {
     "data": {
      "application/vnd.microsoft.datawrangler.viewer.v0+json": {
       "columns": [
        {
         "name": "Language Name",
         "rawType": "object",
         "type": "string"
        },
        {
         "name": "Year of Release",
         "rawType": "int64",
         "type": "integer"
        },
        {
         "name": "Tag",
         "rawType": "object",
         "type": "string"
        }
       ],
       "conversionMethod": "pd.DataFrame",
       "ref": "1c0d10c3-932e-4c2c-bcea-98e0007569f1",
       "rows": [
        [
         "Python",
         "1992",
         "Golden💛"
        ],
        [
         "JS",
         "1995",
         "WebGod🕸️"
        ]
       ],
       "shape": {
        "columns": 2,
        "rows": 2
       }
      },
      "text/html": [
       "<div>\n",
       "<style scoped>\n",
       "    .dataframe tbody tr th:only-of-type {\n",
       "        vertical-align: middle;\n",
       "    }\n",
       "\n",
       "    .dataframe tbody tr th {\n",
       "        vertical-align: top;\n",
       "    }\n",
       "\n",
       "    .dataframe thead th {\n",
       "        text-align: right;\n",
       "    }\n",
       "</style>\n",
       "<table border=\"1\" class=\"dataframe\">\n",
       "  <thead>\n",
       "    <tr style=\"text-align: right;\">\n",
       "      <th></th>\n",
       "      <th>Year of Release</th>\n",
       "      <th>Tag</th>\n",
       "    </tr>\n",
       "    <tr>\n",
       "      <th>Language Name</th>\n",
       "      <th></th>\n",
       "      <th></th>\n",
       "    </tr>\n",
       "  </thead>\n",
       "  <tbody>\n",
       "    <tr>\n",
       "      <th>Python</th>\n",
       "      <td>1992</td>\n",
       "      <td>Golden💛</td>\n",
       "    </tr>\n",
       "    <tr>\n",
       "      <th>JS</th>\n",
       "      <td>1995</td>\n",
       "      <td>WebGod🕸️</td>\n",
       "    </tr>\n",
       "  </tbody>\n",
       "</table>\n",
       "</div>"
      ],
      "text/plain": [
       "               Year of Release       Tag\n",
       "Language Name                           \n",
       "Python                    1992   Golden💛\n",
       "JS                        1995  WebGod🕸️"
      ]
     },
     "execution_count": 120,
     "metadata": {},
     "output_type": "execute_result"
    }
   ],
   "source": [
    "# loc, we can use labels(that we see left most side of dataframe) instead of index\n",
    "\n",
    "newLangs = langs.set_index('Language Name') # language name as index\n",
    "newLangs.loc[['Python', 'JS']]"
   ]
  },
  {
   "cell_type": "code",
   "execution_count": 121,
   "id": "bb51023f",
   "metadata": {},
   "outputs": [
    {
     "data": {
      "application/vnd.microsoft.datawrangler.viewer.v0+json": {
       "columns": [
        {
         "name": "Language Name",
         "rawType": "object",
         "type": "string"
        },
        {
         "name": "Year of Release",
         "rawType": "int64",
         "type": "integer"
        },
        {
         "name": "Tag",
         "rawType": "object",
         "type": "string"
        }
       ],
       "conversionMethod": "pd.DataFrame",
       "ref": "9713eaa6-c618-4b1c-9e9a-616a02c27c51",
       "rows": [
        [
         "JS",
         "1995",
         "WebGod🕸️"
        ],
        [
         "C",
         "1980",
         "Creator⚡"
        ]
       ],
       "shape": {
        "columns": 2,
        "rows": 2
       }
      },
      "text/html": [
       "<div>\n",
       "<style scoped>\n",
       "    .dataframe tbody tr th:only-of-type {\n",
       "        vertical-align: middle;\n",
       "    }\n",
       "\n",
       "    .dataframe tbody tr th {\n",
       "        vertical-align: top;\n",
       "    }\n",
       "\n",
       "    .dataframe thead th {\n",
       "        text-align: right;\n",
       "    }\n",
       "</style>\n",
       "<table border=\"1\" class=\"dataframe\">\n",
       "  <thead>\n",
       "    <tr style=\"text-align: right;\">\n",
       "      <th></th>\n",
       "      <th>Year of Release</th>\n",
       "      <th>Tag</th>\n",
       "    </tr>\n",
       "    <tr>\n",
       "      <th>Language Name</th>\n",
       "      <th></th>\n",
       "      <th></th>\n",
       "    </tr>\n",
       "  </thead>\n",
       "  <tbody>\n",
       "    <tr>\n",
       "      <th>JS</th>\n",
       "      <td>1995</td>\n",
       "      <td>WebGod🕸️</td>\n",
       "    </tr>\n",
       "    <tr>\n",
       "      <th>C</th>\n",
       "      <td>1980</td>\n",
       "      <td>Creator⚡</td>\n",
       "    </tr>\n",
       "  </tbody>\n",
       "</table>\n",
       "</div>"
      ],
      "text/plain": [
       "               Year of Release       Tag\n",
       "Language Name                           \n",
       "JS                        1995  WebGod🕸️\n",
       "C                         1980  Creator⚡"
      ]
     },
     "execution_count": 121,
     "metadata": {},
     "output_type": "execute_result"
    }
   ],
   "source": [
    "# slicing using loc, loc is inclusive of both start and end index\n",
    "newLangs.loc['JS':'C':2]  "
   ]
  },
  {
   "cell_type": "code",
   "execution_count": 122,
   "id": "70c53b61",
   "metadata": {},
   "outputs": [
    {
     "data": {
      "application/vnd.microsoft.datawrangler.viewer.v0+json": {
       "columns": [
        {
         "name": "index",
         "rawType": "int64",
         "type": "integer"
        },
        {
         "name": "Year of Release",
         "rawType": "int64",
         "type": "integer"
        },
        {
         "name": "Tag",
         "rawType": "object",
         "type": "string"
        }
       ],
       "conversionMethod": "pd.DataFrame",
       "ref": "e0a4ed6a-353c-4663-ab29-777125ef8c8d",
       "rows": [
        [
         "0",
         "1992",
         "Golden💛"
        ],
        [
         "1",
         "1995",
         "WebGod🕸️"
        ],
        [
         "2",
         "1986",
         "Pointers👈🏻👉🏻👈🏻🫵🏻👆🏻👇🏻"
        ],
        [
         "3",
         "1980",
         "Creator⚡"
        ]
       ],
       "shape": {
        "columns": 2,
        "rows": 4
       }
      },
      "text/html": [
       "<div>\n",
       "<style scoped>\n",
       "    .dataframe tbody tr th:only-of-type {\n",
       "        vertical-align: middle;\n",
       "    }\n",
       "\n",
       "    .dataframe tbody tr th {\n",
       "        vertical-align: top;\n",
       "    }\n",
       "\n",
       "    .dataframe thead th {\n",
       "        text-align: right;\n",
       "    }\n",
       "</style>\n",
       "<table border=\"1\" class=\"dataframe\">\n",
       "  <thead>\n",
       "    <tr style=\"text-align: right;\">\n",
       "      <th></th>\n",
       "      <th>Year of Release</th>\n",
       "      <th>Tag</th>\n",
       "    </tr>\n",
       "  </thead>\n",
       "  <tbody>\n",
       "    <tr>\n",
       "      <th>0</th>\n",
       "      <td>1992</td>\n",
       "      <td>Golden💛</td>\n",
       "    </tr>\n",
       "    <tr>\n",
       "      <th>1</th>\n",
       "      <td>1995</td>\n",
       "      <td>WebGod🕸️</td>\n",
       "    </tr>\n",
       "    <tr>\n",
       "      <th>2</th>\n",
       "      <td>1986</td>\n",
       "      <td>Pointers👈🏻👉🏻👈🏻🫵🏻👆🏻👇🏻</td>\n",
       "    </tr>\n",
       "    <tr>\n",
       "      <th>3</th>\n",
       "      <td>1980</td>\n",
       "      <td>Creator⚡</td>\n",
       "    </tr>\n",
       "  </tbody>\n",
       "</table>\n",
       "</div>"
      ],
      "text/plain": [
       "   Year of Release                   Tag\n",
       "0             1992               Golden💛\n",
       "1             1995              WebGod🕸️\n",
       "2             1986  Pointers👈🏻👉🏻👈🏻🫵🏻👆🏻👇🏻\n",
       "3             1980              Creator⚡"
      ]
     },
     "execution_count": 122,
     "metadata": {},
     "output_type": "execute_result"
    }
   ],
   "source": [
    "# fancy indexing using loc\n",
    "\n",
    "newLangs.loc[['Python', 'JS'], ['Year of Release']]\n",
    "\n",
    "newLangs.reset_index(drop=True) # again we can reset index using `.reset_index(drop=True)`"
   ]
  },
  {
   "cell_type": "code",
   "execution_count": null,
   "id": "0505444f",
   "metadata": {},
   "outputs": [
    {
     "name": "stdout",
     "output_type": "stream",
     "text": [
      "0     True\n",
      "1     True\n",
      "2    False\n",
      "3    False\n",
      "Name: Year of Release, dtype: bool\n"
     ]
    },
    {
     "data": {
      "application/vnd.microsoft.datawrangler.viewer.v0+json": {
       "columns": [
        {
         "name": "index",
         "rawType": "int64",
         "type": "integer"
        },
        {
         "name": "Language Name",
         "rawType": "object",
         "type": "string"
        },
        {
         "name": "Year of Release",
         "rawType": "int64",
         "type": "integer"
        },
        {
         "name": "Tag",
         "rawType": "object",
         "type": "string"
        }
       ],
       "conversionMethod": "pd.DataFrame",
       "ref": "81b080f8-f506-46d8-b7d3-34996eb8ef35",
       "rows": [
        [
         "0",
         "Python",
         "1992",
         "Golden💛"
        ],
        [
         "1",
         "JS",
         "1995",
         "WebGod🕸️"
        ]
       ],
       "shape": {
        "columns": 3,
        "rows": 2
       }
      },
      "text/html": [
       "<div>\n",
       "<style scoped>\n",
       "    .dataframe tbody tr th:only-of-type {\n",
       "        vertical-align: middle;\n",
       "    }\n",
       "\n",
       "    .dataframe tbody tr th {\n",
       "        vertical-align: top;\n",
       "    }\n",
       "\n",
       "    .dataframe thead th {\n",
       "        text-align: right;\n",
       "    }\n",
       "</style>\n",
       "<table border=\"1\" class=\"dataframe\">\n",
       "  <thead>\n",
       "    <tr style=\"text-align: right;\">\n",
       "      <th></th>\n",
       "      <th>Language Name</th>\n",
       "      <th>Year of Release</th>\n",
       "      <th>Tag</th>\n",
       "    </tr>\n",
       "  </thead>\n",
       "  <tbody>\n",
       "    <tr>\n",
       "      <th>0</th>\n",
       "      <td>Python</td>\n",
       "      <td>1992</td>\n",
       "      <td>Golden💛</td>\n",
       "    </tr>\n",
       "    <tr>\n",
       "      <th>1</th>\n",
       "      <td>JS</td>\n",
       "      <td>1995</td>\n",
       "      <td>WebGod🕸️</td>\n",
       "    </tr>\n",
       "  </tbody>\n",
       "</table>\n",
       "</div>"
      ],
      "text/plain": [
       "  Language Name  Year of Release       Tag\n",
       "0        Python             1992   Golden💛\n",
       "1            JS             1995  WebGod🕸️"
      ]
     },
     "execution_count": 175,
     "metadata": {},
     "output_type": "execute_result"
    }
   ],
   "source": [
    "# you boolean indexing with loc also\n",
    "print(langs['Year of Release'] > 1990)\n",
    "langs.loc[langs['Year of Release'] > 1990] # filtering data"
   ]
  },
  {
   "cell_type": "code",
   "execution_count": null,
   "id": "1e43bda1",
   "metadata": {},
   "outputs": [],
   "source": [
    "# iloc vs loc main difference -> https://www.youtube.com/live/OG31yhRQxPI?si=5B5dVmJprCluLCG0&t=3821"
   ]
  }
 ],
 "metadata": {
  "kernelspec": {
   "display_name": "Python 3",
   "language": "python",
   "name": "python3"
  },
  "language_info": {
   "codemirror_mode": {
    "name": "ipython",
    "version": 3
   },
   "file_extension": ".py",
   "mimetype": "text/x-python",
   "name": "python",
   "nbconvert_exporter": "python",
   "pygments_lexer": "ipython3",
   "version": "3.13.2"
  }
 },
 "nbformat": 4,
 "nbformat_minor": 5
}
