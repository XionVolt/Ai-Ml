{
 "cells": [
  {
   "cell_type": "markdown",
   "id": "1e958d5f",
   "metadata": {},
   "source": [
    "[What are DataFrames](https://www.youtube.com/live/OG31yhRQxPI?si=43TM_mXSlIQFqlLq)\n",
    "- A single row and column of dataFrame is a series"
   ]
  },
  {
   "cell_type": "code",
   "execution_count": 1,
   "id": "8b69fd53",
   "metadata": {},
   "outputs": [],
   "source": [
    "import numpy as np\n",
    "import pandas as pd"
   ]
  },
  {
   "cell_type": "markdown",
   "id": "36d7d108",
   "metadata": {},
   "source": [
    "# Creating DataFrames"
   ]
  },
  {
   "cell_type": "code",
   "execution_count": 2,
   "id": "35565815",
   "metadata": {},
   "outputs": [
    {
     "data": {
      "application/vnd.microsoft.datawrangler.viewer.v0+json": {
       "columns": [
        {
         "name": "index",
         "rawType": "int64",
         "type": "integer"
        },
        {
         "name": "Language",
         "rawType": "object",
         "type": "string"
        },
        {
         "name": "Year",
         "rawType": "int64",
         "type": "integer"
        },
        {
         "name": "Feeling",
         "rawType": "object",
         "type": "string"
        }
       ],
       "conversionMethod": "pd.DataFrame",
       "ref": "f88b7df5-3b10-4873-92af-7a41dec7eec8",
       "rows": [
        [
         "0",
         "Python",
         "1992",
         "Golden💛"
        ],
        [
         "1",
         "JS",
         "1995",
         "WebGod🕸️"
        ],
        [
         "2",
         "C++",
         "1986",
         "Pointers👈🏻👉🏻👈🏻🫵🏻👆🏻👇🏻"
        ],
        [
         "3",
         "C",
         "1980",
         "Creator⚡"
        ]
       ],
       "shape": {
        "columns": 3,
        "rows": 4
       }
      },
      "text/html": [
       "<div>\n",
       "<style scoped>\n",
       "    .dataframe tbody tr th:only-of-type {\n",
       "        vertical-align: middle;\n",
       "    }\n",
       "\n",
       "    .dataframe tbody tr th {\n",
       "        vertical-align: top;\n",
       "    }\n",
       "\n",
       "    .dataframe thead th {\n",
       "        text-align: right;\n",
       "    }\n",
       "</style>\n",
       "<table border=\"1\" class=\"dataframe\">\n",
       "  <thead>\n",
       "    <tr style=\"text-align: right;\">\n",
       "      <th></th>\n",
       "      <th>Language</th>\n",
       "      <th>Year</th>\n",
       "      <th>Feeling</th>\n",
       "    </tr>\n",
       "  </thead>\n",
       "  <tbody>\n",
       "    <tr>\n",
       "      <th>0</th>\n",
       "      <td>Python</td>\n",
       "      <td>1992</td>\n",
       "      <td>Golden💛</td>\n",
       "    </tr>\n",
       "    <tr>\n",
       "      <th>1</th>\n",
       "      <td>JS</td>\n",
       "      <td>1995</td>\n",
       "      <td>WebGod🕸️</td>\n",
       "    </tr>\n",
       "    <tr>\n",
       "      <th>2</th>\n",
       "      <td>C++</td>\n",
       "      <td>1986</td>\n",
       "      <td>Pointers👈🏻👉🏻👈🏻🫵🏻👆🏻👇🏻</td>\n",
       "    </tr>\n",
       "    <tr>\n",
       "      <th>3</th>\n",
       "      <td>C</td>\n",
       "      <td>1980</td>\n",
       "      <td>Creator⚡</td>\n",
       "    </tr>\n",
       "  </tbody>\n",
       "</table>\n",
       "</div>"
      ],
      "text/plain": [
       "  Language  Year               Feeling\n",
       "0   Python  1992               Golden💛\n",
       "1       JS  1995              WebGod🕸️\n",
       "2      C++  1986  Pointers👈🏻👉🏻👈🏻🫵🏻👆🏻👇🏻\n",
       "3        C  1980              Creator⚡"
      ]
     },
     "execution_count": 2,
     "metadata": {},
     "output_type": "execute_result"
    }
   ],
   "source": [
    "# using lists\n",
    "languages_perferences = [\n",
    "    ['Python',1992,'Golden💛'], # first row \n",
    "    ['JS',1995,'WebGod🕸️'], # second row \n",
    "    ['C++',1986,'Pointers👈🏻👉🏻👈🏻🫵🏻👆🏻👇🏻'], # third row \n",
    "    ['C',1980,'Creator⚡'], # fourth row \n",
    "]                                            #  C1        C2        C3       (C-> column)\n",
    "pd.DataFrame(languages_perferences,columns=['Language','Year','Feeling'])\n",
    "\n"
   ]
  },
  {
   "cell_type": "code",
   "execution_count": 3,
   "id": "f08fb914",
   "metadata": {},
   "outputs": [
    {
     "data": {
      "application/vnd.microsoft.datawrangler.viewer.v0+json": {
       "columns": [
        {
         "name": "index",
         "rawType": "int64",
         "type": "integer"
        },
        {
         "name": "Language",
         "rawType": "object",
         "type": "string"
        },
        {
         "name": "Year",
         "rawType": "int64",
         "type": "integer"
        },
        {
         "name": "Feeling",
         "rawType": "object",
         "type": "string"
        }
       ],
       "conversionMethod": "pd.DataFrame",
       "ref": "c42a3501-7f27-48ba-a144-442358cb281d",
       "rows": [
        [
         "0",
         "Python",
         "1992",
         "Golden💛"
        ],
        [
         "1",
         "JS",
         "1995",
         "WebGod🕸️"
        ],
        [
         "2",
         "C++",
         "1986",
         "Pointers👈🏻👉🏻👈🏻🫵🏻👆🏻👇🏻"
        ],
        [
         "3",
         "C",
         "1980",
         "Creator⚡"
        ]
       ],
       "shape": {
        "columns": 3,
        "rows": 4
       }
      },
      "text/html": [
       "<div>\n",
       "<style scoped>\n",
       "    .dataframe tbody tr th:only-of-type {\n",
       "        vertical-align: middle;\n",
       "    }\n",
       "\n",
       "    .dataframe tbody tr th {\n",
       "        vertical-align: top;\n",
       "    }\n",
       "\n",
       "    .dataframe thead th {\n",
       "        text-align: right;\n",
       "    }\n",
       "</style>\n",
       "<table border=\"1\" class=\"dataframe\">\n",
       "  <thead>\n",
       "    <tr style=\"text-align: right;\">\n",
       "      <th></th>\n",
       "      <th>Language</th>\n",
       "      <th>Year</th>\n",
       "      <th>Feeling</th>\n",
       "    </tr>\n",
       "  </thead>\n",
       "  <tbody>\n",
       "    <tr>\n",
       "      <th>0</th>\n",
       "      <td>Python</td>\n",
       "      <td>1992</td>\n",
       "      <td>Golden💛</td>\n",
       "    </tr>\n",
       "    <tr>\n",
       "      <th>1</th>\n",
       "      <td>JS</td>\n",
       "      <td>1995</td>\n",
       "      <td>WebGod🕸️</td>\n",
       "    </tr>\n",
       "    <tr>\n",
       "      <th>2</th>\n",
       "      <td>C++</td>\n",
       "      <td>1986</td>\n",
       "      <td>Pointers👈🏻👉🏻👈🏻🫵🏻👆🏻👇🏻</td>\n",
       "    </tr>\n",
       "    <tr>\n",
       "      <th>3</th>\n",
       "      <td>C</td>\n",
       "      <td>1980</td>\n",
       "      <td>Creator⚡</td>\n",
       "    </tr>\n",
       "  </tbody>\n",
       "</table>\n",
       "</div>"
      ],
      "text/plain": [
       "  Language  Year               Feeling\n",
       "0   Python  1992               Golden💛\n",
       "1       JS  1995              WebGod🕸️\n",
       "2      C++  1986  Pointers👈🏻👉🏻👈🏻🫵🏻👆🏻👇🏻\n",
       "3        C  1980              Creator⚡"
      ]
     },
     "execution_count": 3,
     "metadata": {},
     "output_type": "execute_result"
    }
   ],
   "source": [
    "# using dictionary\n",
    "# key will be column name, rows will be values\n",
    "languages_perferences = {\n",
    "    'Language': ['Python', 'JS', 'C++', 'C'],\n",
    "    'Year': [1992, 1995, 1986, 1980],\n",
    "    'Feeling':['Golden💛','WebGod🕸️','Pointers👈🏻👉🏻👈🏻🫵🏻👆🏻👇🏻','Creator⚡']\n",
    "}\n",
    "\n",
    "pd.DataFrame(languages_perferences)"
   ]
  },
  {
   "cell_type": "code",
   "execution_count": null,
   "id": "f2f68f80",
   "metadata": {},
   "outputs": [],
   "source": []
  },
  {
   "cell_type": "code",
   "execution_count": 4,
   "id": "f9b7b6f4",
   "metadata": {},
   "outputs": [
    {
     "data": {
      "application/vnd.microsoft.datawrangler.viewer.v0+json": {
       "columns": [
        {
         "name": "index",
         "rawType": "int64",
         "type": "integer"
        },
        {
         "name": "Language",
         "rawType": "object",
         "type": "string"
        },
        {
         "name": "Year",
         "rawType": "int64",
         "type": "integer"
        },
        {
         "name": "Feeling",
         "rawType": "object",
         "type": "string"
        }
       ],
       "conversionMethod": "pd.DataFrame",
       "ref": "9bedfb8b-5981-47c6-bf4f-371bfe6e4222",
       "rows": [
        [
         "0",
         "Python",
         "1992",
         "Golden💛"
        ],
        [
         "1",
         "JS",
         "1995",
         "WebGod🕸️"
        ],
        [
         "2",
         "C++",
         "1986",
         "Pointers👈🏻👉🏻👈🏻🫵🏻👆🏻👇🏻"
        ],
        [
         "3",
         "C",
         "1980",
         "Creator⚡"
        ]
       ],
       "shape": {
        "columns": 3,
        "rows": 4
       }
      },
      "text/html": [
       "<div>\n",
       "<style scoped>\n",
       "    .dataframe tbody tr th:only-of-type {\n",
       "        vertical-align: middle;\n",
       "    }\n",
       "\n",
       "    .dataframe tbody tr th {\n",
       "        vertical-align: top;\n",
       "    }\n",
       "\n",
       "    .dataframe thead th {\n",
       "        text-align: right;\n",
       "    }\n",
       "</style>\n",
       "<table border=\"1\" class=\"dataframe\">\n",
       "  <thead>\n",
       "    <tr style=\"text-align: right;\">\n",
       "      <th></th>\n",
       "      <th>Language</th>\n",
       "      <th>Year</th>\n",
       "      <th>Feeling</th>\n",
       "    </tr>\n",
       "  </thead>\n",
       "  <tbody>\n",
       "    <tr>\n",
       "      <th>0</th>\n",
       "      <td>Python</td>\n",
       "      <td>1992</td>\n",
       "      <td>Golden💛</td>\n",
       "    </tr>\n",
       "    <tr>\n",
       "      <th>1</th>\n",
       "      <td>JS</td>\n",
       "      <td>1995</td>\n",
       "      <td>WebGod🕸️</td>\n",
       "    </tr>\n",
       "    <tr>\n",
       "      <th>2</th>\n",
       "      <td>C++</td>\n",
       "      <td>1986</td>\n",
       "      <td>Pointers👈🏻👉🏻👈🏻🫵🏻👆🏻👇🏻</td>\n",
       "    </tr>\n",
       "    <tr>\n",
       "      <th>3</th>\n",
       "      <td>C</td>\n",
       "      <td>1980</td>\n",
       "      <td>Creator⚡</td>\n",
       "    </tr>\n",
       "  </tbody>\n",
       "</table>\n",
       "</div>"
      ],
      "text/plain": [
       "  Language  Year               Feeling\n",
       "0   Python  1992               Golden💛\n",
       "1       JS  1995              WebGod🕸️\n",
       "2      C++  1986  Pointers👈🏻👉🏻👈🏻🫵🏻👆🏻👇🏻\n",
       "3        C  1980              Creator⚡"
      ]
     },
     "execution_count": 4,
     "metadata": {},
     "output_type": "execute_result"
    }
   ],
   "source": [
    "# for converting dataframe to csv file\n",
    "# pd.DataFrame(languages_perferences).to_csv('languages_perferences.csv',index=False,sep=',') # for saving in csv file\n",
    "\n",
    "langs = pd.read_csv(r'languages_perferences.csv')\n",
    "langs"
   ]
  },
  {
   "cell_type": "markdown",
   "id": "6227f8b9",
   "metadata": {},
   "source": [
    "# DataFrame Attributes and Methods"
   ]
  },
  {
   "cell_type": "code",
   "execution_count": 5,
   "id": "a9dbf122",
   "metadata": {},
   "outputs": [
    {
     "data": {
      "text/plain": [
       "(4, 3)"
      ]
     },
     "execution_count": 5,
     "metadata": {},
     "output_type": "execute_result"
    }
   ],
   "source": [
    "# shape\n",
    "langs.shape # means data is divided into 4 rows and 3 columns"
   ]
  },
  {
   "cell_type": "code",
   "execution_count": 6,
   "id": "72bebdf0",
   "metadata": {},
   "outputs": [
    {
     "data": {
      "text/plain": [
       "Language    object\n",
       "Year         int64\n",
       "Feeling     object\n",
       "dtype: object"
      ]
     },
     "execution_count": 6,
     "metadata": {},
     "output_type": "execute_result"
    }
   ],
   "source": [
    "# dtypes\n",
    "# gives datatype of each column(series)\n",
    "langs.dtypes"
   ]
  },
  {
   "cell_type": "code",
   "execution_count": 7,
   "id": "b0520c4d",
   "metadata": {},
   "outputs": [
    {
     "data": {
      "text/plain": [
       "RangeIndex(start=0, stop=4, step=1)"
      ]
     },
     "execution_count": 7,
     "metadata": {},
     "output_type": "execute_result"
    }
   ],
   "source": [
    "# index\n",
    "langs.index"
   ]
  },
  {
   "cell_type": "code",
   "execution_count": 8,
   "id": "6e4f1da7",
   "metadata": {},
   "outputs": [
    {
     "data": {
      "text/plain": [
       "Index(['Language', 'Year', 'Feeling'], dtype='object')"
      ]
     },
     "execution_count": 8,
     "metadata": {},
     "output_type": "execute_result"
    }
   ],
   "source": [
    "# columns\n",
    "langs.columns"
   ]
  },
  {
   "cell_type": "code",
   "execution_count": 9,
   "id": "dcb859ac",
   "metadata": {},
   "outputs": [
    {
     "data": {
      "text/plain": [
       "array([['Python', 1992, 'Golden💛'],\n",
       "       ['JS', 1995, 'WebGod🕸️'],\n",
       "       ['C++', 1986, 'Pointers👈🏻👉🏻👈🏻🫵🏻👆🏻👇🏻'],\n",
       "       ['C', 1980, 'Creator⚡']], dtype=object)"
      ]
     },
     "execution_count": 9,
     "metadata": {},
     "output_type": "execute_result"
    }
   ],
   "source": [
    "# values\n",
    "langs.values # give values of each row"
   ]
  },
  {
   "cell_type": "code",
   "execution_count": 10,
   "id": "7eff0889",
   "metadata": {},
   "outputs": [
    {
     "data": {
      "application/vnd.microsoft.datawrangler.viewer.v0+json": {
       "columns": [
        {
         "name": "index",
         "rawType": "int64",
         "type": "integer"
        },
        {
         "name": "Language",
         "rawType": "object",
         "type": "string"
        },
        {
         "name": "Year",
         "rawType": "int64",
         "type": "integer"
        },
        {
         "name": "Feeling",
         "rawType": "object",
         "type": "string"
        }
       ],
       "conversionMethod": "pd.DataFrame",
       "ref": "3a366c5b-e248-46fa-a3a7-75946284b584",
       "rows": [
        [
         "0",
         "Python",
         "1992",
         "Golden💛"
        ],
        [
         "1",
         "JS",
         "1995",
         "WebGod🕸️"
        ]
       ],
       "shape": {
        "columns": 3,
        "rows": 2
       }
      },
      "text/html": [
       "<div>\n",
       "<style scoped>\n",
       "    .dataframe tbody tr th:only-of-type {\n",
       "        vertical-align: middle;\n",
       "    }\n",
       "\n",
       "    .dataframe tbody tr th {\n",
       "        vertical-align: top;\n",
       "    }\n",
       "\n",
       "    .dataframe thead th {\n",
       "        text-align: right;\n",
       "    }\n",
       "</style>\n",
       "<table border=\"1\" class=\"dataframe\">\n",
       "  <thead>\n",
       "    <tr style=\"text-align: right;\">\n",
       "      <th></th>\n",
       "      <th>Language</th>\n",
       "      <th>Year</th>\n",
       "      <th>Feeling</th>\n",
       "    </tr>\n",
       "  </thead>\n",
       "  <tbody>\n",
       "    <tr>\n",
       "      <th>0</th>\n",
       "      <td>Python</td>\n",
       "      <td>1992</td>\n",
       "      <td>Golden💛</td>\n",
       "    </tr>\n",
       "    <tr>\n",
       "      <th>1</th>\n",
       "      <td>JS</td>\n",
       "      <td>1995</td>\n",
       "      <td>WebGod🕸️</td>\n",
       "    </tr>\n",
       "  </tbody>\n",
       "</table>\n",
       "</div>"
      ],
      "text/plain": [
       "  Language  Year   Feeling\n",
       "0   Python  1992   Golden💛\n",
       "1       JS  1995  WebGod🕸️"
      ]
     },
     "execution_count": 10,
     "metadata": {},
     "output_type": "execute_result"
    }
   ],
   "source": [
    "# head and tail \n",
    "langs.head(-2) # -2 means last 2 rows will be hidden\n",
    "# same can be done with tail\n"
   ]
  },
  {
   "cell_type": "code",
   "execution_count": 11,
   "id": "f3972b82",
   "metadata": {},
   "outputs": [
    {
     "data": {
      "application/vnd.microsoft.datawrangler.viewer.v0+json": {
       "columns": [
        {
         "name": "index",
         "rawType": "int64",
         "type": "integer"
        },
        {
         "name": "Language",
         "rawType": "object",
         "type": "string"
        },
        {
         "name": "Year",
         "rawType": "int64",
         "type": "integer"
        },
        {
         "name": "Feeling",
         "rawType": "object",
         "type": "string"
        }
       ],
       "conversionMethod": "pd.DataFrame",
       "ref": "72173714-faed-4b02-ad9c-047d156a2402",
       "rows": [
        [
         "2",
         "C++",
         "1986",
         "Pointers👈🏻👉🏻👈🏻🫵🏻👆🏻👇🏻"
        ],
        [
         "3",
         "C",
         "1980",
         "Creator⚡"
        ]
       ],
       "shape": {
        "columns": 3,
        "rows": 2
       }
      },
      "text/html": [
       "<div>\n",
       "<style scoped>\n",
       "    .dataframe tbody tr th:only-of-type {\n",
       "        vertical-align: middle;\n",
       "    }\n",
       "\n",
       "    .dataframe tbody tr th {\n",
       "        vertical-align: top;\n",
       "    }\n",
       "\n",
       "    .dataframe thead th {\n",
       "        text-align: right;\n",
       "    }\n",
       "</style>\n",
       "<table border=\"1\" class=\"dataframe\">\n",
       "  <thead>\n",
       "    <tr style=\"text-align: right;\">\n",
       "      <th></th>\n",
       "      <th>Language</th>\n",
       "      <th>Year</th>\n",
       "      <th>Feeling</th>\n",
       "    </tr>\n",
       "  </thead>\n",
       "  <tbody>\n",
       "    <tr>\n",
       "      <th>2</th>\n",
       "      <td>C++</td>\n",
       "      <td>1986</td>\n",
       "      <td>Pointers👈🏻👉🏻👈🏻🫵🏻👆🏻👇🏻</td>\n",
       "    </tr>\n",
       "    <tr>\n",
       "      <th>3</th>\n",
       "      <td>C</td>\n",
       "      <td>1980</td>\n",
       "      <td>Creator⚡</td>\n",
       "    </tr>\n",
       "  </tbody>\n",
       "</table>\n",
       "</div>"
      ],
      "text/plain": [
       "  Language  Year               Feeling\n",
       "2      C++  1986  Pointers👈🏻👉🏻👈🏻🫵🏻👆🏻👇🏻\n",
       "3        C  1980              Creator⚡"
      ]
     },
     "execution_count": 11,
     "metadata": {},
     "output_type": "execute_result"
    }
   ],
   "source": [
    "langs.tail(-2) # means 2 above rows will be hidden"
   ]
  },
  {
   "cell_type": "code",
   "execution_count": 12,
   "id": "c3c36357",
   "metadata": {},
   "outputs": [
    {
     "data": {
      "application/vnd.microsoft.datawrangler.viewer.v0+json": {
       "columns": [
        {
         "name": "index",
         "rawType": "int64",
         "type": "integer"
        },
        {
         "name": "Language",
         "rawType": "object",
         "type": "string"
        },
        {
         "name": "Year",
         "rawType": "int64",
         "type": "integer"
        },
        {
         "name": "Feeling",
         "rawType": "object",
         "type": "string"
        }
       ],
       "conversionMethod": "pd.DataFrame",
       "ref": "45d4be49-38db-4ed7-a66f-871e6afe1165",
       "rows": [
        [
         "2",
         "C++",
         "1986",
         "Pointers👈🏻👉🏻👈🏻🫵🏻👆🏻👇🏻"
        ],
        [
         "1",
         "JS",
         "1995",
         "WebGod🕸️"
        ]
       ],
       "shape": {
        "columns": 3,
        "rows": 2
       }
      },
      "text/html": [
       "<div>\n",
       "<style scoped>\n",
       "    .dataframe tbody tr th:only-of-type {\n",
       "        vertical-align: middle;\n",
       "    }\n",
       "\n",
       "    .dataframe tbody tr th {\n",
       "        vertical-align: top;\n",
       "    }\n",
       "\n",
       "    .dataframe thead th {\n",
       "        text-align: right;\n",
       "    }\n",
       "</style>\n",
       "<table border=\"1\" class=\"dataframe\">\n",
       "  <thead>\n",
       "    <tr style=\"text-align: right;\">\n",
       "      <th></th>\n",
       "      <th>Language</th>\n",
       "      <th>Year</th>\n",
       "      <th>Feeling</th>\n",
       "    </tr>\n",
       "  </thead>\n",
       "  <tbody>\n",
       "    <tr>\n",
       "      <th>2</th>\n",
       "      <td>C++</td>\n",
       "      <td>1986</td>\n",
       "      <td>Pointers👈🏻👉🏻👈🏻🫵🏻👆🏻👇🏻</td>\n",
       "    </tr>\n",
       "    <tr>\n",
       "      <th>1</th>\n",
       "      <td>JS</td>\n",
       "      <td>1995</td>\n",
       "      <td>WebGod🕸️</td>\n",
       "    </tr>\n",
       "  </tbody>\n",
       "</table>\n",
       "</div>"
      ],
      "text/plain": [
       "  Language  Year               Feeling\n",
       "2      C++  1986  Pointers👈🏻👉🏻👈🏻🫵🏻👆🏻👇🏻\n",
       "1       JS  1995              WebGod🕸️"
      ]
     },
     "execution_count": 12,
     "metadata": {},
     "output_type": "execute_result"
    }
   ],
   "source": [
    "# sample # 2 random rows\n",
    "langs.sample(2)"
   ]
  },
  {
   "cell_type": "code",
   "execution_count": 13,
   "id": "5c41e483",
   "metadata": {},
   "outputs": [
    {
     "name": "stdout",
     "output_type": "stream",
     "text": [
      "<class 'pandas.core.frame.DataFrame'>\n",
      "RangeIndex: 4 entries, 0 to 3\n",
      "Data columns (total 3 columns):\n",
      " #   Column    Non-Null Count  Dtype \n",
      "---  ------    --------------  ----- \n",
      " 0   Language  4 non-null      object\n",
      " 1   Year      4 non-null      int64 \n",
      " 2   Feeling   4 non-null      object\n",
      "dtypes: int64(1), object(2)\n",
      "memory usage: 228.0+ bytes\n"
     ]
    }
   ],
   "source": [
    "# Understand `info` -> https://www.youtube.com/live/OG31yhRQxPI?si=UVygY80TQSqfueu7&t=1471\n",
    "langs.info()"
   ]
  },
  {
   "cell_type": "code",
   "execution_count": 14,
   "id": "c3717eaa",
   "metadata": {},
   "outputs": [
    {
     "data": {
      "application/vnd.microsoft.datawrangler.viewer.v0+json": {
       "columns": [
        {
         "name": "index",
         "rawType": "object",
         "type": "string"
        },
        {
         "name": "Year",
         "rawType": "float64",
         "type": "float"
        }
       ],
       "conversionMethod": "pd.DataFrame",
       "ref": "d6c604a3-8e26-4fe7-b2f0-f7f0b551d9ae",
       "rows": [
        [
         "count",
         "4.0"
        ],
        [
         "mean",
         "1988.25"
        ],
        [
         "std",
         "6.652067347825035"
        ],
        [
         "min",
         "1980.0"
        ],
        [
         "25%",
         "1984.5"
        ],
        [
         "50%",
         "1989.0"
        ],
        [
         "75%",
         "1992.75"
        ],
        [
         "max",
         "1995.0"
        ]
       ],
       "shape": {
        "columns": 1,
        "rows": 8
       }
      },
      "text/html": [
       "<div>\n",
       "<style scoped>\n",
       "    .dataframe tbody tr th:only-of-type {\n",
       "        vertical-align: middle;\n",
       "    }\n",
       "\n",
       "    .dataframe tbody tr th {\n",
       "        vertical-align: top;\n",
       "    }\n",
       "\n",
       "    .dataframe thead th {\n",
       "        text-align: right;\n",
       "    }\n",
       "</style>\n",
       "<table border=\"1\" class=\"dataframe\">\n",
       "  <thead>\n",
       "    <tr style=\"text-align: right;\">\n",
       "      <th></th>\n",
       "      <th>Year</th>\n",
       "    </tr>\n",
       "  </thead>\n",
       "  <tbody>\n",
       "    <tr>\n",
       "      <th>count</th>\n",
       "      <td>4.000000</td>\n",
       "    </tr>\n",
       "    <tr>\n",
       "      <th>mean</th>\n",
       "      <td>1988.250000</td>\n",
       "    </tr>\n",
       "    <tr>\n",
       "      <th>std</th>\n",
       "      <td>6.652067</td>\n",
       "    </tr>\n",
       "    <tr>\n",
       "      <th>min</th>\n",
       "      <td>1980.000000</td>\n",
       "    </tr>\n",
       "    <tr>\n",
       "      <th>25%</th>\n",
       "      <td>1984.500000</td>\n",
       "    </tr>\n",
       "    <tr>\n",
       "      <th>50%</th>\n",
       "      <td>1989.000000</td>\n",
       "    </tr>\n",
       "    <tr>\n",
       "      <th>75%</th>\n",
       "      <td>1992.750000</td>\n",
       "    </tr>\n",
       "    <tr>\n",
       "      <th>max</th>\n",
       "      <td>1995.000000</td>\n",
       "    </tr>\n",
       "  </tbody>\n",
       "</table>\n",
       "</div>"
      ],
      "text/plain": [
       "              Year\n",
       "count     4.000000\n",
       "mean   1988.250000\n",
       "std       6.652067\n",
       "min    1980.000000\n",
       "25%    1984.500000\n",
       "50%    1989.000000\n",
       "75%    1992.750000\n",
       "max    1995.000000"
      ]
     },
     "execution_count": 14,
     "metadata": {},
     "output_type": "execute_result"
    }
   ],
   "source": [
    "# describe, is used to extract numerical columns only\n",
    "langs.describe()"
   ]
  },
  {
   "cell_type": "code",
   "execution_count": 15,
   "id": "cf7db621",
   "metadata": {},
   "outputs": [
    {
     "name": "stdout",
     "output_type": "stream",
     "text": [
      "Language    0\n",
      "Year        0\n",
      "Feeling     0\n",
      "dtype: int64\n"
     ]
    },
    {
     "data": {
      "application/vnd.microsoft.datawrangler.viewer.v0+json": {
       "columns": [
        {
         "name": "index",
         "rawType": "int64",
         "type": "integer"
        },
        {
         "name": "Language",
         "rawType": "bool",
         "type": "boolean"
        },
        {
         "name": "Year",
         "rawType": "bool",
         "type": "boolean"
        },
        {
         "name": "Feeling",
         "rawType": "bool",
         "type": "boolean"
        }
       ],
       "conversionMethod": "pd.DataFrame",
       "ref": "a6275aaf-2981-4511-81fe-ab28ee8ae642",
       "rows": [
        [
         "0",
         "False",
         "False",
         "False"
        ],
        [
         "1",
         "False",
         "False",
         "False"
        ],
        [
         "2",
         "False",
         "False",
         "False"
        ],
        [
         "3",
         "False",
         "False",
         "False"
        ]
       ],
       "shape": {
        "columns": 3,
        "rows": 4
       }
      },
      "text/html": [
       "<div>\n",
       "<style scoped>\n",
       "    .dataframe tbody tr th:only-of-type {\n",
       "        vertical-align: middle;\n",
       "    }\n",
       "\n",
       "    .dataframe tbody tr th {\n",
       "        vertical-align: top;\n",
       "    }\n",
       "\n",
       "    .dataframe thead th {\n",
       "        text-align: right;\n",
       "    }\n",
       "</style>\n",
       "<table border=\"1\" class=\"dataframe\">\n",
       "  <thead>\n",
       "    <tr style=\"text-align: right;\">\n",
       "      <th></th>\n",
       "      <th>Language</th>\n",
       "      <th>Year</th>\n",
       "      <th>Feeling</th>\n",
       "    </tr>\n",
       "  </thead>\n",
       "  <tbody>\n",
       "    <tr>\n",
       "      <th>0</th>\n",
       "      <td>False</td>\n",
       "      <td>False</td>\n",
       "      <td>False</td>\n",
       "    </tr>\n",
       "    <tr>\n",
       "      <th>1</th>\n",
       "      <td>False</td>\n",
       "      <td>False</td>\n",
       "      <td>False</td>\n",
       "    </tr>\n",
       "    <tr>\n",
       "      <th>2</th>\n",
       "      <td>False</td>\n",
       "      <td>False</td>\n",
       "      <td>False</td>\n",
       "    </tr>\n",
       "    <tr>\n",
       "      <th>3</th>\n",
       "      <td>False</td>\n",
       "      <td>False</td>\n",
       "      <td>False</td>\n",
       "    </tr>\n",
       "  </tbody>\n",
       "</table>\n",
       "</div>"
      ],
      "text/plain": [
       "   Language   Year  Feeling\n",
       "0     False  False    False\n",
       "1     False  False    False\n",
       "2     False  False    False\n",
       "3     False  False    False"
      ]
     },
     "execution_count": 15,
     "metadata": {},
     "output_type": "execute_result"
    }
   ],
   "source": [
    "# isnull, gives a boolean dataframe\n",
    "print(langs.isnull().sum()) # here sum will add all true values as 1, and give us result of each column, basically sum will sum all columns one by one\n",
    "langs.isnull()"
   ]
  },
  {
   "cell_type": "code",
   "execution_count": 16,
   "id": "a0a16e35",
   "metadata": {},
   "outputs": [
    {
     "name": "stdout",
     "output_type": "stream",
     "text": [
      "0    False\n",
      "1    False\n",
      "2    False\n",
      "3    False\n",
      "dtype: bool\n",
      "0\n"
     ]
    }
   ],
   "source": [
    "# duplicated\n",
    "print(langs.duplicated()) # will return true if a row is duplicate, else false\n",
    "print(langs.duplicated().sum()) # total number of duplicate rows, basically its summation of all columns one by one"
   ]
  },
  {
   "cell_type": "code",
   "execution_count": 17,
   "id": "13341492",
   "metadata": {},
   "outputs": [
    {
     "name": "stdout",
     "output_type": "stream",
     "text": [
      "Index(['Language Name', 'Year of Release', 'Tag'], dtype='object')\n"
     ]
    },
    {
     "data": {
      "application/vnd.microsoft.datawrangler.viewer.v0+json": {
       "columns": [
        {
         "name": "index",
         "rawType": "int64",
         "type": "integer"
        },
        {
         "name": "Language Name",
         "rawType": "object",
         "type": "string"
        },
        {
         "name": "Year of Release",
         "rawType": "int64",
         "type": "integer"
        },
        {
         "name": "Tag",
         "rawType": "object",
         "type": "string"
        }
       ],
       "conversionMethod": "pd.DataFrame",
       "ref": "97dbd0fa-cab2-4598-8b7f-b95ce0b9a081",
       "rows": [
        [
         "0",
         "Python",
         "1992",
         "Golden💛"
        ],
        [
         "1",
         "JS",
         "1995",
         "WebGod🕸️"
        ],
        [
         "2",
         "C++",
         "1986",
         "Pointers👈🏻👉🏻👈🏻🫵🏻👆🏻👇🏻"
        ],
        [
         "3",
         "C",
         "1980",
         "Creator⚡"
        ]
       ],
       "shape": {
        "columns": 3,
        "rows": 4
       }
      },
      "text/html": [
       "<div>\n",
       "<style scoped>\n",
       "    .dataframe tbody tr th:only-of-type {\n",
       "        vertical-align: middle;\n",
       "    }\n",
       "\n",
       "    .dataframe tbody tr th {\n",
       "        vertical-align: top;\n",
       "    }\n",
       "\n",
       "    .dataframe thead th {\n",
       "        text-align: right;\n",
       "    }\n",
       "</style>\n",
       "<table border=\"1\" class=\"dataframe\">\n",
       "  <thead>\n",
       "    <tr style=\"text-align: right;\">\n",
       "      <th></th>\n",
       "      <th>Language Name</th>\n",
       "      <th>Year of Release</th>\n",
       "      <th>Tag</th>\n",
       "    </tr>\n",
       "  </thead>\n",
       "  <tbody>\n",
       "    <tr>\n",
       "      <th>0</th>\n",
       "      <td>Python</td>\n",
       "      <td>1992</td>\n",
       "      <td>Golden💛</td>\n",
       "    </tr>\n",
       "    <tr>\n",
       "      <th>1</th>\n",
       "      <td>JS</td>\n",
       "      <td>1995</td>\n",
       "      <td>WebGod🕸️</td>\n",
       "    </tr>\n",
       "    <tr>\n",
       "      <th>2</th>\n",
       "      <td>C++</td>\n",
       "      <td>1986</td>\n",
       "      <td>Pointers👈🏻👉🏻👈🏻🫵🏻👆🏻👇🏻</td>\n",
       "    </tr>\n",
       "    <tr>\n",
       "      <th>3</th>\n",
       "      <td>C</td>\n",
       "      <td>1980</td>\n",
       "      <td>Creator⚡</td>\n",
       "    </tr>\n",
       "  </tbody>\n",
       "</table>\n",
       "</div>"
      ],
      "text/plain": [
       "  Language Name  Year of Release                   Tag\n",
       "0        Python             1992               Golden💛\n",
       "1            JS             1995              WebGod🕸️\n",
       "2           C++             1986  Pointers👈🏻👉🏻👈🏻🫵🏻👆🏻👇🏻\n",
       "3             C             1980              Creator⚡"
      ]
     },
     "execution_count": 17,
     "metadata": {},
     "output_type": "execute_result"
    }
   ],
   "source": [
    "# rename column names\n",
    "\n",
    "langs.rename(columns={'Language':'Language Name', 'Year':'Year of Release', 'Feeling':'Tag'}, inplace=True)\n",
    "print(langs.columns)\n",
    "langs"
   ]
  },
  {
   "cell_type": "code",
   "execution_count": 18,
   "id": "cad4583d",
   "metadata": {},
   "outputs": [
    {
     "data": {
      "application/vnd.microsoft.datawrangler.viewer.v0+json": {
       "columns": [
        {
         "name": "Language Name",
         "rawType": "object",
         "type": "string"
        },
        {
         "name": "Year of Release",
         "rawType": "int64",
         "type": "integer"
        },
        {
         "name": "Tag",
         "rawType": "object",
         "type": "string"
        }
       ],
       "conversionMethod": "pd.DataFrame",
       "ref": "53885765-874d-474c-94d1-a492d4528e1f",
       "rows": [
        [
         "Python",
         "1992",
         "Golden💛"
        ],
        [
         "JS",
         "1995",
         "WebGod🕸️"
        ],
        [
         "C++",
         "1986",
         "Pointers👈🏻👉🏻👈🏻🫵🏻👆🏻👇🏻"
        ],
        [
         "C",
         "1980",
         "Creator⚡"
        ]
       ],
       "shape": {
        "columns": 2,
        "rows": 4
       }
      },
      "text/html": [
       "<div>\n",
       "<style scoped>\n",
       "    .dataframe tbody tr th:only-of-type {\n",
       "        vertical-align: middle;\n",
       "    }\n",
       "\n",
       "    .dataframe tbody tr th {\n",
       "        vertical-align: top;\n",
       "    }\n",
       "\n",
       "    .dataframe thead th {\n",
       "        text-align: right;\n",
       "    }\n",
       "</style>\n",
       "<table border=\"1\" class=\"dataframe\">\n",
       "  <thead>\n",
       "    <tr style=\"text-align: right;\">\n",
       "      <th></th>\n",
       "      <th>Year of Release</th>\n",
       "      <th>Tag</th>\n",
       "    </tr>\n",
       "    <tr>\n",
       "      <th>Language Name</th>\n",
       "      <th></th>\n",
       "      <th></th>\n",
       "    </tr>\n",
       "  </thead>\n",
       "  <tbody>\n",
       "    <tr>\n",
       "      <th>Python</th>\n",
       "      <td>1992</td>\n",
       "      <td>Golden💛</td>\n",
       "    </tr>\n",
       "    <tr>\n",
       "      <th>JS</th>\n",
       "      <td>1995</td>\n",
       "      <td>WebGod🕸️</td>\n",
       "    </tr>\n",
       "    <tr>\n",
       "      <th>C++</th>\n",
       "      <td>1986</td>\n",
       "      <td>Pointers👈🏻👉🏻👈🏻🫵🏻👆🏻👇🏻</td>\n",
       "    </tr>\n",
       "    <tr>\n",
       "      <th>C</th>\n",
       "      <td>1980</td>\n",
       "      <td>Creator⚡</td>\n",
       "    </tr>\n",
       "  </tbody>\n",
       "</table>\n",
       "</div>"
      ],
      "text/plain": [
       "               Year of Release                   Tag\n",
       "Language Name                                       \n",
       "Python                    1992               Golden💛\n",
       "JS                        1995              WebGod🕸️\n",
       "C++                       1986  Pointers👈🏻👉🏻👈🏻🫵🏻👆🏻👇🏻\n",
       "C                         1980              Creator⚡"
      ]
     },
     "execution_count": 18,
     "metadata": {},
     "output_type": "execute_result"
    }
   ],
   "source": [
    "langs.set_index('Language Name') # to make a column as index"
   ]
  },
  {
   "cell_type": "markdown",
   "id": "d7405e8e",
   "metadata": {},
   "source": [
    "# Mathematical Functions"
   ]
  },
  {
   "cell_type": "code",
   "execution_count": 19,
   "id": "76459a93",
   "metadata": {},
   "outputs": [
    {
     "name": "stdout",
     "output_type": "stream",
     "text": [
      "Axis = 0\n",
      " A     6\n",
      "B    15\n",
      "C    24\n",
      "dtype: int64 \n",
      "\n",
      "Axis = 1\n",
      " 0    12\n",
      "1    15\n",
      "2    18\n",
      "dtype: int64 \n",
      "\n"
     ]
    },
    {
     "data": {
      "application/vnd.microsoft.datawrangler.viewer.v0+json": {
       "columns": [
        {
         "name": "index",
         "rawType": "int64",
         "type": "integer"
        },
        {
         "name": "A",
         "rawType": "int64",
         "type": "integer"
        },
        {
         "name": "B",
         "rawType": "int64",
         "type": "integer"
        },
        {
         "name": "C",
         "rawType": "int64",
         "type": "integer"
        }
       ],
       "conversionMethod": "pd.DataFrame",
       "ref": "db060c5e-26d2-4b9f-a2ad-2f26a2a02ac8",
       "rows": [
        [
         "0",
         "1",
         "4",
         "7"
        ],
        [
         "1",
         "2",
         "5",
         "8"
        ],
        [
         "2",
         "3",
         "6",
         "9"
        ]
       ],
       "shape": {
        "columns": 3,
        "rows": 3
       }
      },
      "text/html": [
       "<div>\n",
       "<style scoped>\n",
       "    .dataframe tbody tr th:only-of-type {\n",
       "        vertical-align: middle;\n",
       "    }\n",
       "\n",
       "    .dataframe tbody tr th {\n",
       "        vertical-align: top;\n",
       "    }\n",
       "\n",
       "    .dataframe thead th {\n",
       "        text-align: right;\n",
       "    }\n",
       "</style>\n",
       "<table border=\"1\" class=\"dataframe\">\n",
       "  <thead>\n",
       "    <tr style=\"text-align: right;\">\n",
       "      <th></th>\n",
       "      <th>A</th>\n",
       "      <th>B</th>\n",
       "      <th>C</th>\n",
       "    </tr>\n",
       "  </thead>\n",
       "  <tbody>\n",
       "    <tr>\n",
       "      <th>0</th>\n",
       "      <td>1</td>\n",
       "      <td>4</td>\n",
       "      <td>7</td>\n",
       "    </tr>\n",
       "    <tr>\n",
       "      <th>1</th>\n",
       "      <td>2</td>\n",
       "      <td>5</td>\n",
       "      <td>8</td>\n",
       "    </tr>\n",
       "    <tr>\n",
       "      <th>2</th>\n",
       "      <td>3</td>\n",
       "      <td>6</td>\n",
       "      <td>9</td>\n",
       "    </tr>\n",
       "  </tbody>\n",
       "</table>\n",
       "</div>"
      ],
      "text/plain": [
       "   A  B  C\n",
       "0  1  4  7\n",
       "1  2  5  8\n",
       "2  3  6  9"
      ]
     },
     "execution_count": 19,
     "metadata": {},
     "output_type": "execute_result"
    }
   ],
   "source": [
    "# sum -> axis argument\n",
    "\n",
    "new_df = pd.DataFrame({\n",
    "    'A': [1, 2, 3],\n",
    "    'B': [4, 5, 6],\n",
    "    'C': [7, 8, 9]\n",
    "\n",
    "}, dtype=np.int64)\n",
    "\n",
    "print('Axis = 0\\n',new_df.sum(axis=0),'\\n') # sum of each column, by default, axis=0\n",
    "print('Axis = 1\\n',new_df.sum(axis=1),'\\n') # sum of each row\n",
    "new_df\n",
    "\n"
   ]
  },
  {
   "cell_type": "code",
   "execution_count": 20,
   "id": "e462b519",
   "metadata": {},
   "outputs": [
    {
     "name": "stdout",
     "output_type": "stream",
     "text": [
      "Axis = 0\n",
      " A    2.0\n",
      "B    5.0\n",
      "C    8.0\n",
      "dtype: float64 \n",
      "\n",
      "Axis = 1\n",
      " 0    4.0\n",
      "1    5.0\n",
      "2    6.0\n",
      "dtype: float64 \n",
      "\n"
     ]
    },
    {
     "data": {
      "application/vnd.microsoft.datawrangler.viewer.v0+json": {
       "columns": [
        {
         "name": "index",
         "rawType": "int64",
         "type": "integer"
        },
        {
         "name": "A",
         "rawType": "int64",
         "type": "integer"
        },
        {
         "name": "B",
         "rawType": "int64",
         "type": "integer"
        },
        {
         "name": "C",
         "rawType": "int64",
         "type": "integer"
        }
       ],
       "conversionMethod": "pd.DataFrame",
       "ref": "062d30cd-3b66-43ab-85c5-b321ee54ae99",
       "rows": [
        [
         "0",
         "1",
         "4",
         "7"
        ],
        [
         "1",
         "2",
         "5",
         "8"
        ],
        [
         "2",
         "3",
         "6",
         "9"
        ]
       ],
       "shape": {
        "columns": 3,
        "rows": 3
       }
      },
      "text/html": [
       "<div>\n",
       "<style scoped>\n",
       "    .dataframe tbody tr th:only-of-type {\n",
       "        vertical-align: middle;\n",
       "    }\n",
       "\n",
       "    .dataframe tbody tr th {\n",
       "        vertical-align: top;\n",
       "    }\n",
       "\n",
       "    .dataframe thead th {\n",
       "        text-align: right;\n",
       "    }\n",
       "</style>\n",
       "<table border=\"1\" class=\"dataframe\">\n",
       "  <thead>\n",
       "    <tr style=\"text-align: right;\">\n",
       "      <th></th>\n",
       "      <th>A</th>\n",
       "      <th>B</th>\n",
       "      <th>C</th>\n",
       "    </tr>\n",
       "  </thead>\n",
       "  <tbody>\n",
       "    <tr>\n",
       "      <th>0</th>\n",
       "      <td>1</td>\n",
       "      <td>4</td>\n",
       "      <td>7</td>\n",
       "    </tr>\n",
       "    <tr>\n",
       "      <th>1</th>\n",
       "      <td>2</td>\n",
       "      <td>5</td>\n",
       "      <td>8</td>\n",
       "    </tr>\n",
       "    <tr>\n",
       "      <th>2</th>\n",
       "      <td>3</td>\n",
       "      <td>6</td>\n",
       "      <td>9</td>\n",
       "    </tr>\n",
       "  </tbody>\n",
       "</table>\n",
       "</div>"
      ],
      "text/plain": [
       "   A  B  C\n",
       "0  1  4  7\n",
       "1  2  5  8\n",
       "2  3  6  9"
      ]
     },
     "execution_count": 20,
     "metadata": {},
     "output_type": "execute_result"
    }
   ],
   "source": [
    "# mean\n",
    "\n",
    "print('Axis = 0\\n',new_df.mean(axis=0),'\\n') # mean of each column\n",
    "print('Axis = 1\\n',new_df.mean(axis=1),'\\n') # mean of each row\n",
    "\n",
    "new_df"
   ]
  },
  {
   "cell_type": "code",
   "execution_count": 21,
   "id": "0a901335",
   "metadata": {},
   "outputs": [
    {
     "name": "stdout",
     "output_type": "stream",
     "text": [
      "Axis = 0\n",
      " A    1\n",
      "B    4\n",
      "C    7\n",
      "dtype: int64 \n",
      "\n",
      "Axis = 1\n",
      " 0    7\n",
      "1    8\n",
      "2    9\n",
      "dtype: int64 \n",
      "\n"
     ]
    },
    {
     "data": {
      "application/vnd.microsoft.datawrangler.viewer.v0+json": {
       "columns": [
        {
         "name": "index",
         "rawType": "int64",
         "type": "integer"
        },
        {
         "name": "A",
         "rawType": "int64",
         "type": "integer"
        },
        {
         "name": "B",
         "rawType": "int64",
         "type": "integer"
        },
        {
         "name": "C",
         "rawType": "int64",
         "type": "integer"
        }
       ],
       "conversionMethod": "pd.DataFrame",
       "ref": "b6f63e35-fc8b-4dd6-93cf-1df2f88ee2c8",
       "rows": [
        [
         "0",
         "1",
         "4",
         "7"
        ],
        [
         "1",
         "2",
         "5",
         "8"
        ],
        [
         "2",
         "3",
         "6",
         "9"
        ]
       ],
       "shape": {
        "columns": 3,
        "rows": 3
       }
      },
      "text/html": [
       "<div>\n",
       "<style scoped>\n",
       "    .dataframe tbody tr th:only-of-type {\n",
       "        vertical-align: middle;\n",
       "    }\n",
       "\n",
       "    .dataframe tbody tr th {\n",
       "        vertical-align: top;\n",
       "    }\n",
       "\n",
       "    .dataframe thead th {\n",
       "        text-align: right;\n",
       "    }\n",
       "</style>\n",
       "<table border=\"1\" class=\"dataframe\">\n",
       "  <thead>\n",
       "    <tr style=\"text-align: right;\">\n",
       "      <th></th>\n",
       "      <th>A</th>\n",
       "      <th>B</th>\n",
       "      <th>C</th>\n",
       "    </tr>\n",
       "  </thead>\n",
       "  <tbody>\n",
       "    <tr>\n",
       "      <th>0</th>\n",
       "      <td>1</td>\n",
       "      <td>4</td>\n",
       "      <td>7</td>\n",
       "    </tr>\n",
       "    <tr>\n",
       "      <th>1</th>\n",
       "      <td>2</td>\n",
       "      <td>5</td>\n",
       "      <td>8</td>\n",
       "    </tr>\n",
       "    <tr>\n",
       "      <th>2</th>\n",
       "      <td>3</td>\n",
       "      <td>6</td>\n",
       "      <td>9</td>\n",
       "    </tr>\n",
       "  </tbody>\n",
       "</table>\n",
       "</div>"
      ],
      "text/plain": [
       "   A  B  C\n",
       "0  1  4  7\n",
       "1  2  5  8\n",
       "2  3  6  9"
      ]
     },
     "execution_count": 21,
     "metadata": {},
     "output_type": "execute_result"
    }
   ],
   "source": [
    "# min , max , variance(new_df.var()) , std (new_df.std())\n",
    "\n",
    "print('Axis = 0\\n',new_df.min(axis=0),'\\n') # min of each column\n",
    "print('Axis = 1\\n',new_df.max(axis=1),'\\n') # max of each row\n",
    "\n",
    "new_df\n",
    "# max"
   ]
  },
  {
   "cell_type": "code",
   "execution_count": null,
   "id": "b2ed0efe",
   "metadata": {},
   "outputs": [],
   "source": []
  },
  {
   "cell_type": "markdown",
   "id": "ffe1fdd9",
   "metadata": {},
   "source": [
    "# Indexing and Slicing in DataFrame"
   ]
  },
  {
   "cell_type": "code",
   "execution_count": 22,
   "id": "c914c2c5",
   "metadata": {},
   "outputs": [
    {
     "data": {
      "application/vnd.microsoft.datawrangler.viewer.v0+json": {
       "columns": [
        {
         "name": "index",
         "rawType": "int64",
         "type": "integer"
        },
        {
         "name": "A",
         "rawType": "int64",
         "type": "integer"
        },
        {
         "name": "B",
         "rawType": "int64",
         "type": "integer"
        },
        {
         "name": "C",
         "rawType": "int64",
         "type": "integer"
        }
       ],
       "conversionMethod": "pd.DataFrame",
       "ref": "b8e78e31-fe05-4b06-ac32-fe812ff1d96c",
       "rows": [
        [
         "0",
         "1",
         "4",
         "7"
        ],
        [
         "1",
         "2",
         "5",
         "8"
        ],
        [
         "2",
         "3",
         "6",
         "9"
        ]
       ],
       "shape": {
        "columns": 3,
        "rows": 3
       }
      },
      "text/html": [
       "<div>\n",
       "<style scoped>\n",
       "    .dataframe tbody tr th:only-of-type {\n",
       "        vertical-align: middle;\n",
       "    }\n",
       "\n",
       "    .dataframe tbody tr th {\n",
       "        vertical-align: top;\n",
       "    }\n",
       "\n",
       "    .dataframe thead th {\n",
       "        text-align: right;\n",
       "    }\n",
       "</style>\n",
       "<table border=\"1\" class=\"dataframe\">\n",
       "  <thead>\n",
       "    <tr style=\"text-align: right;\">\n",
       "      <th></th>\n",
       "      <th>A</th>\n",
       "      <th>B</th>\n",
       "      <th>C</th>\n",
       "    </tr>\n",
       "  </thead>\n",
       "  <tbody>\n",
       "    <tr>\n",
       "      <th>0</th>\n",
       "      <td>1</td>\n",
       "      <td>4</td>\n",
       "      <td>7</td>\n",
       "    </tr>\n",
       "    <tr>\n",
       "      <th>1</th>\n",
       "      <td>2</td>\n",
       "      <td>5</td>\n",
       "      <td>8</td>\n",
       "    </tr>\n",
       "    <tr>\n",
       "      <th>2</th>\n",
       "      <td>3</td>\n",
       "      <td>6</td>\n",
       "      <td>9</td>\n",
       "    </tr>\n",
       "  </tbody>\n",
       "</table>\n",
       "</div>"
      ],
      "text/plain": [
       "   A  B  C\n",
       "0  1  4  7\n",
       "1  2  5  8\n",
       "2  3  6  9"
      ]
     },
     "execution_count": 22,
     "metadata": {},
     "output_type": "execute_result"
    }
   ],
   "source": [
    "new_df"
   ]
  },
  {
   "cell_type": "code",
   "execution_count": 23,
   "id": "529e8771",
   "metadata": {},
   "outputs": [
    {
     "data": {
      "application/vnd.microsoft.datawrangler.viewer.v0+json": {
       "columns": [
        {
         "name": "index",
         "rawType": "int64",
         "type": "integer"
        },
        {
         "name": "A",
         "rawType": "int64",
         "type": "integer"
        },
        {
         "name": "C",
         "rawType": "int64",
         "type": "integer"
        }
       ],
       "conversionMethod": "pd.DataFrame",
       "ref": "894c1e1d-e1ae-4c0d-ae4f-30829440d21e",
       "rows": [
        [
         "0",
         "1",
         "7"
        ],
        [
         "1",
         "2",
         "8"
        ],
        [
         "2",
         "3",
         "9"
        ]
       ],
       "shape": {
        "columns": 2,
        "rows": 3
       }
      },
      "text/html": [
       "<div>\n",
       "<style scoped>\n",
       "    .dataframe tbody tr th:only-of-type {\n",
       "        vertical-align: middle;\n",
       "    }\n",
       "\n",
       "    .dataframe tbody tr th {\n",
       "        vertical-align: top;\n",
       "    }\n",
       "\n",
       "    .dataframe thead th {\n",
       "        text-align: right;\n",
       "    }\n",
       "</style>\n",
       "<table border=\"1\" class=\"dataframe\">\n",
       "  <thead>\n",
       "    <tr style=\"text-align: right;\">\n",
       "      <th></th>\n",
       "      <th>A</th>\n",
       "      <th>C</th>\n",
       "    </tr>\n",
       "  </thead>\n",
       "  <tbody>\n",
       "    <tr>\n",
       "      <th>0</th>\n",
       "      <td>1</td>\n",
       "      <td>7</td>\n",
       "    </tr>\n",
       "    <tr>\n",
       "      <th>1</th>\n",
       "      <td>2</td>\n",
       "      <td>8</td>\n",
       "    </tr>\n",
       "    <tr>\n",
       "      <th>2</th>\n",
       "      <td>3</td>\n",
       "      <td>9</td>\n",
       "    </tr>\n",
       "  </tbody>\n",
       "</table>\n",
       "</div>"
      ],
      "text/plain": [
       "   A  C\n",
       "0  1  7\n",
       "1  2  8\n",
       "2  3  9"
      ]
     },
     "execution_count": 23,
     "metadata": {},
     "output_type": "execute_result"
    }
   ],
   "source": [
    "# fetch specific column\n",
    "new_df[['A', 'C']] \n",
    "# but when you do boolean indexing, it will do that on rows instead of columns"
   ]
  },
  {
   "cell_type": "code",
   "execution_count": 24,
   "id": "4b54fc2d",
   "metadata": {},
   "outputs": [
    {
     "name": "stdout",
     "output_type": "stream",
     "text": [
      "Language Name       Python\n",
      "Year of Release       1992\n",
      "Tag                Golden💛\n",
      "Name: 0, dtype: object \n",
      "\n",
      "Golden💛 \n",
      "\n"
     ]
    },
    {
     "data": {
      "application/vnd.microsoft.datawrangler.viewer.v0+json": {
       "columns": [
        {
         "name": "index",
         "rawType": "int64",
         "type": "integer"
        },
        {
         "name": "Language Name",
         "rawType": "object",
         "type": "string"
        },
        {
         "name": "Year of Release",
         "rawType": "int64",
         "type": "integer"
        },
        {
         "name": "Tag",
         "rawType": "object",
         "type": "string"
        }
       ],
       "conversionMethod": "pd.DataFrame",
       "ref": "0df04030-0936-4786-8866-b94cbc2ef9de",
       "rows": [
        [
         "0",
         "Python",
         "1992",
         "Golden💛"
        ],
        [
         "1",
         "JS",
         "1995",
         "WebGod🕸️"
        ],
        [
         "2",
         "C++",
         "1986",
         "Pointers👈🏻👉🏻👈🏻🫵🏻👆🏻👇🏻"
        ],
        [
         "3",
         "C",
         "1980",
         "Creator⚡"
        ]
       ],
       "shape": {
        "columns": 3,
        "rows": 4
       }
      },
      "text/html": [
       "<div>\n",
       "<style scoped>\n",
       "    .dataframe tbody tr th:only-of-type {\n",
       "        vertical-align: middle;\n",
       "    }\n",
       "\n",
       "    .dataframe tbody tr th {\n",
       "        vertical-align: top;\n",
       "    }\n",
       "\n",
       "    .dataframe thead th {\n",
       "        text-align: right;\n",
       "    }\n",
       "</style>\n",
       "<table border=\"1\" class=\"dataframe\">\n",
       "  <thead>\n",
       "    <tr style=\"text-align: right;\">\n",
       "      <th></th>\n",
       "      <th>Language Name</th>\n",
       "      <th>Year of Release</th>\n",
       "      <th>Tag</th>\n",
       "    </tr>\n",
       "  </thead>\n",
       "  <tbody>\n",
       "    <tr>\n",
       "      <th>0</th>\n",
       "      <td>Python</td>\n",
       "      <td>1992</td>\n",
       "      <td>Golden💛</td>\n",
       "    </tr>\n",
       "    <tr>\n",
       "      <th>1</th>\n",
       "      <td>JS</td>\n",
       "      <td>1995</td>\n",
       "      <td>WebGod🕸️</td>\n",
       "    </tr>\n",
       "    <tr>\n",
       "      <th>2</th>\n",
       "      <td>C++</td>\n",
       "      <td>1986</td>\n",
       "      <td>Pointers👈🏻👉🏻👈🏻🫵🏻👆🏻👇🏻</td>\n",
       "    </tr>\n",
       "    <tr>\n",
       "      <th>3</th>\n",
       "      <td>C</td>\n",
       "      <td>1980</td>\n",
       "      <td>Creator⚡</td>\n",
       "    </tr>\n",
       "  </tbody>\n",
       "</table>\n",
       "</div>"
      ],
      "text/plain": [
       "  Language Name  Year of Release                   Tag\n",
       "0        Python             1992               Golden💛\n",
       "1            JS             1995              WebGod🕸️\n",
       "2           C++             1986  Pointers👈🏻👉🏻👈🏻🫵🏻👆🏻👇🏻\n",
       "3             C             1980              Creator⚡"
      ]
     },
     "execution_count": 24,
     "metadata": {},
     "output_type": "execute_result"
    }
   ],
   "source": [
    "# iloc, to get rows and columns by indexes(these indexes is internally managed by pandas, its not the indexes that we see on left most side of dataframe, or the names of columns that we see on top)\n",
    "# these indexes are given by pandas automatically to rows and columns\n",
    "\n",
    "# single row\n",
    "print(langs.iloc[0],'\\n')\n",
    "print(langs.iloc[0,-1],'\\n')\n",
    "langs"
   ]
  },
  {
   "cell_type": "code",
   "execution_count": 25,
   "id": "cf2a5a5e",
   "metadata": {},
   "outputs": [
    {
     "data": {
      "application/vnd.microsoft.datawrangler.viewer.v0+json": {
       "columns": [
        {
         "name": "index",
         "rawType": "int64",
         "type": "integer"
        },
        {
         "name": "Language Name",
         "rawType": "object",
         "type": "string"
        },
        {
         "name": "Year of Release",
         "rawType": "int64",
         "type": "integer"
        }
       ],
       "conversionMethod": "pd.DataFrame",
       "ref": "837fa36d-cf7a-47ed-8f67-b0774c48c2dd",
       "rows": [
        [
         "0",
         "Python",
         "1992"
        ],
        [
         "1",
         "JS",
         "1995"
        ]
       ],
       "shape": {
        "columns": 2,
        "rows": 2
       }
      },
      "text/html": [
       "<div>\n",
       "<style scoped>\n",
       "    .dataframe tbody tr th:only-of-type {\n",
       "        vertical-align: middle;\n",
       "    }\n",
       "\n",
       "    .dataframe tbody tr th {\n",
       "        vertical-align: top;\n",
       "    }\n",
       "\n",
       "    .dataframe thead th {\n",
       "        text-align: right;\n",
       "    }\n",
       "</style>\n",
       "<table border=\"1\" class=\"dataframe\">\n",
       "  <thead>\n",
       "    <tr style=\"text-align: right;\">\n",
       "      <th></th>\n",
       "      <th>Language Name</th>\n",
       "      <th>Year of Release</th>\n",
       "    </tr>\n",
       "  </thead>\n",
       "  <tbody>\n",
       "    <tr>\n",
       "      <th>0</th>\n",
       "      <td>Python</td>\n",
       "      <td>1992</td>\n",
       "    </tr>\n",
       "    <tr>\n",
       "      <th>1</th>\n",
       "      <td>JS</td>\n",
       "      <td>1995</td>\n",
       "    </tr>\n",
       "  </tbody>\n",
       "</table>\n",
       "</div>"
      ],
      "text/plain": [
       "  Language Name  Year of Release\n",
       "0        Python             1992\n",
       "1            JS             1995"
      ]
     },
     "execution_count": 25,
     "metadata": {},
     "output_type": "execute_result"
    }
   ],
   "source": [
    "# multiple rows\n",
    "langs.iloc[:2,:2]"
   ]
  },
  {
   "cell_type": "code",
   "execution_count": 26,
   "id": "1b0d1ab0",
   "metadata": {},
   "outputs": [
    {
     "name": "stdout",
     "output_type": "stream",
     "text": [
      "  Language Name Language Name       Tag\n",
      "0        Python        Python   Golden💛\n",
      "3             C             C  Creator⚡\n"
     ]
    }
   ],
   "source": [
    "# fancy indexing\n",
    "# pandas fancy indexing work little bit differently from numpy, because in numpy all list of indexes should have same len in fancy indexing(unless the first list not contains single index)\n",
    "\"\"\" a = np.arange(10).reshape(2,5) # reshape the array into 2 rows and 5 columns\n",
    "a[[0,1],[1,2]] , so all list of indexes should have same len in fancy indexing(unless the first list not contains single index)\"\"\"\n",
    "\n",
    "print(langs.iloc[[0,-1],[0,0,-1]]) "
   ]
  },
  {
   "cell_type": "code",
   "execution_count": 27,
   "id": "cdc80f2f",
   "metadata": {},
   "outputs": [
    {
     "data": {
      "text/plain": [
       "0     Golden💛\n",
       "1    WebGod🕸️\n",
       "Name: Tag, dtype: object"
      ]
     },
     "execution_count": 27,
     "metadata": {},
     "output_type": "execute_result"
    }
   ],
   "source": [
    "langs.iloc[[True, False, True, False], :] # fancy indexing with boolean indexing using iloc\n",
    "# but Note: iloc can only do boolean indexing when we input it array or list of boolean values, not boolean series(for that use `loc`)\n",
    "# Example:\n",
    "\n",
    "langs.iloc[(langs['Year of Release']> 1990).values ,-1] # can only take boolean array or list\n",
    "langs.loc[(langs['Year of Release']> 1990) ,'Tag'] # can take series,array or list of boolean values"
   ]
  },
  {
   "cell_type": "code",
   "execution_count": 28,
   "id": "2ff52ad0",
   "metadata": {},
   "outputs": [
    {
     "data": {
      "application/vnd.microsoft.datawrangler.viewer.v0+json": {
       "columns": [
        {
         "name": "Language Name",
         "rawType": "object",
         "type": "string"
        },
        {
         "name": "Year of Release",
         "rawType": "int64",
         "type": "integer"
        },
        {
         "name": "Tag",
         "rawType": "object",
         "type": "string"
        }
       ],
       "conversionMethod": "pd.DataFrame",
       "ref": "ff4c80f6-e1db-4ebe-b00e-cb22bb800d3b",
       "rows": [
        [
         "Python",
         "1992",
         "Golden💛"
        ],
        [
         "JS",
         "1995",
         "WebGod🕸️"
        ]
       ],
       "shape": {
        "columns": 2,
        "rows": 2
       }
      },
      "text/html": [
       "<div>\n",
       "<style scoped>\n",
       "    .dataframe tbody tr th:only-of-type {\n",
       "        vertical-align: middle;\n",
       "    }\n",
       "\n",
       "    .dataframe tbody tr th {\n",
       "        vertical-align: top;\n",
       "    }\n",
       "\n",
       "    .dataframe thead th {\n",
       "        text-align: right;\n",
       "    }\n",
       "</style>\n",
       "<table border=\"1\" class=\"dataframe\">\n",
       "  <thead>\n",
       "    <tr style=\"text-align: right;\">\n",
       "      <th></th>\n",
       "      <th>Year of Release</th>\n",
       "      <th>Tag</th>\n",
       "    </tr>\n",
       "    <tr>\n",
       "      <th>Language Name</th>\n",
       "      <th></th>\n",
       "      <th></th>\n",
       "    </tr>\n",
       "  </thead>\n",
       "  <tbody>\n",
       "    <tr>\n",
       "      <th>Python</th>\n",
       "      <td>1992</td>\n",
       "      <td>Golden💛</td>\n",
       "    </tr>\n",
       "    <tr>\n",
       "      <th>JS</th>\n",
       "      <td>1995</td>\n",
       "      <td>WebGod🕸️</td>\n",
       "    </tr>\n",
       "  </tbody>\n",
       "</table>\n",
       "</div>"
      ],
      "text/plain": [
       "               Year of Release       Tag\n",
       "Language Name                           \n",
       "Python                    1992   Golden💛\n",
       "JS                        1995  WebGod🕸️"
      ]
     },
     "execution_count": 28,
     "metadata": {},
     "output_type": "execute_result"
    }
   ],
   "source": [
    "# in loc, we use labels(that we see left most side of dataframe) instead of index for fetch rows\n",
    "# in loc, we use names of columns(instead of indexes that automatically give by pandas) to fetch columns \n",
    "\n",
    "newLangs = langs.set_index('Language Name') # language name as index\n",
    "newLangs.loc[['Python', 'JS']]"
   ]
  },
  {
   "cell_type": "code",
   "execution_count": 29,
   "id": "bb51023f",
   "metadata": {},
   "outputs": [
    {
     "data": {
      "application/vnd.microsoft.datawrangler.viewer.v0+json": {
       "columns": [
        {
         "name": "Language Name",
         "rawType": "object",
         "type": "string"
        },
        {
         "name": "Year of Release",
         "rawType": "int64",
         "type": "integer"
        },
        {
         "name": "Tag",
         "rawType": "object",
         "type": "string"
        }
       ],
       "conversionMethod": "pd.DataFrame",
       "ref": "6a73e06f-2e6c-4bd1-97e4-cdedbb762b7d",
       "rows": [
        [
         "JS",
         "1995",
         "WebGod🕸️"
        ],
        [
         "C",
         "1980",
         "Creator⚡"
        ]
       ],
       "shape": {
        "columns": 2,
        "rows": 2
       }
      },
      "text/html": [
       "<div>\n",
       "<style scoped>\n",
       "    .dataframe tbody tr th:only-of-type {\n",
       "        vertical-align: middle;\n",
       "    }\n",
       "\n",
       "    .dataframe tbody tr th {\n",
       "        vertical-align: top;\n",
       "    }\n",
       "\n",
       "    .dataframe thead th {\n",
       "        text-align: right;\n",
       "    }\n",
       "</style>\n",
       "<table border=\"1\" class=\"dataframe\">\n",
       "  <thead>\n",
       "    <tr style=\"text-align: right;\">\n",
       "      <th></th>\n",
       "      <th>Year of Release</th>\n",
       "      <th>Tag</th>\n",
       "    </tr>\n",
       "    <tr>\n",
       "      <th>Language Name</th>\n",
       "      <th></th>\n",
       "      <th></th>\n",
       "    </tr>\n",
       "  </thead>\n",
       "  <tbody>\n",
       "    <tr>\n",
       "      <th>JS</th>\n",
       "      <td>1995</td>\n",
       "      <td>WebGod🕸️</td>\n",
       "    </tr>\n",
       "    <tr>\n",
       "      <th>C</th>\n",
       "      <td>1980</td>\n",
       "      <td>Creator⚡</td>\n",
       "    </tr>\n",
       "  </tbody>\n",
       "</table>\n",
       "</div>"
      ],
      "text/plain": [
       "               Year of Release       Tag\n",
       "Language Name                           \n",
       "JS                        1995  WebGod🕸️\n",
       "C                         1980  Creator⚡"
      ]
     },
     "execution_count": 29,
     "metadata": {},
     "output_type": "execute_result"
    }
   ],
   "source": [
    "# slicing using loc, loc is inclusive of both start and end index\n",
    "newLangs.loc['JS':'C':2]  "
   ]
  },
  {
   "cell_type": "code",
   "execution_count": 30,
   "id": "70c53b61",
   "metadata": {},
   "outputs": [
    {
     "data": {
      "application/vnd.microsoft.datawrangler.viewer.v0+json": {
       "columns": [
        {
         "name": "Language Name",
         "rawType": "object",
         "type": "string"
        },
        {
         "name": "Year of Release",
         "rawType": "int64",
         "type": "integer"
        }
       ],
       "conversionMethod": "pd.DataFrame",
       "ref": "8d751b06-1446-43f5-a5ad-438f170368b8",
       "rows": [
        [
         "Python",
         "1992"
        ],
        [
         "JS",
         "1995"
        ]
       ],
       "shape": {
        "columns": 1,
        "rows": 2
       }
      },
      "text/html": [
       "<div>\n",
       "<style scoped>\n",
       "    .dataframe tbody tr th:only-of-type {\n",
       "        vertical-align: middle;\n",
       "    }\n",
       "\n",
       "    .dataframe tbody tr th {\n",
       "        vertical-align: top;\n",
       "    }\n",
       "\n",
       "    .dataframe thead th {\n",
       "        text-align: right;\n",
       "    }\n",
       "</style>\n",
       "<table border=\"1\" class=\"dataframe\">\n",
       "  <thead>\n",
       "    <tr style=\"text-align: right;\">\n",
       "      <th></th>\n",
       "      <th>Year of Release</th>\n",
       "    </tr>\n",
       "    <tr>\n",
       "      <th>Language Name</th>\n",
       "      <th></th>\n",
       "    </tr>\n",
       "  </thead>\n",
       "  <tbody>\n",
       "    <tr>\n",
       "      <th>Python</th>\n",
       "      <td>1992</td>\n",
       "    </tr>\n",
       "    <tr>\n",
       "      <th>JS</th>\n",
       "      <td>1995</td>\n",
       "    </tr>\n",
       "  </tbody>\n",
       "</table>\n",
       "</div>"
      ],
      "text/plain": [
       "               Year of Release\n",
       "Language Name                 \n",
       "Python                    1992\n",
       "JS                        1995"
      ]
     },
     "execution_count": 30,
     "metadata": {},
     "output_type": "execute_result"
    }
   ],
   "source": [
    "# fancy indexing using loc\n",
    "\n",
    "newLangs.loc[['Python', 'JS'], ['Year of Release']]\n",
    "\n",
    "# newLangs.reset_index(drop=True) # again we can reset index using `.reset_index(drop=True)`"
   ]
  },
  {
   "cell_type": "code",
   "execution_count": 31,
   "id": "0505444f",
   "metadata": {},
   "outputs": [
    {
     "name": "stdout",
     "output_type": "stream",
     "text": [
      "0     True\n",
      "1     True\n",
      "2    False\n",
      "3    False\n",
      "Name: Year of Release, dtype: bool\n"
     ]
    },
    {
     "data": {
      "application/vnd.microsoft.datawrangler.viewer.v0+json": {
       "columns": [
        {
         "name": "index",
         "rawType": "int64",
         "type": "integer"
        },
        {
         "name": "Language Name",
         "rawType": "object",
         "type": "string"
        },
        {
         "name": "Year of Release",
         "rawType": "int64",
         "type": "integer"
        },
        {
         "name": "Tag",
         "rawType": "object",
         "type": "string"
        }
       ],
       "conversionMethod": "pd.DataFrame",
       "ref": "5c90b294-fbda-41dd-b997-9929278d92aa",
       "rows": [
        [
         "0",
         "Python",
         "1992",
         "Golden💛"
        ],
        [
         "1",
         "JS",
         "1995",
         "WebGod🕸️"
        ]
       ],
       "shape": {
        "columns": 3,
        "rows": 2
       }
      },
      "text/html": [
       "<div>\n",
       "<style scoped>\n",
       "    .dataframe tbody tr th:only-of-type {\n",
       "        vertical-align: middle;\n",
       "    }\n",
       "\n",
       "    .dataframe tbody tr th {\n",
       "        vertical-align: top;\n",
       "    }\n",
       "\n",
       "    .dataframe thead th {\n",
       "        text-align: right;\n",
       "    }\n",
       "</style>\n",
       "<table border=\"1\" class=\"dataframe\">\n",
       "  <thead>\n",
       "    <tr style=\"text-align: right;\">\n",
       "      <th></th>\n",
       "      <th>Language Name</th>\n",
       "      <th>Year of Release</th>\n",
       "      <th>Tag</th>\n",
       "    </tr>\n",
       "  </thead>\n",
       "  <tbody>\n",
       "    <tr>\n",
       "      <th>0</th>\n",
       "      <td>Python</td>\n",
       "      <td>1992</td>\n",
       "      <td>Golden💛</td>\n",
       "    </tr>\n",
       "    <tr>\n",
       "      <th>1</th>\n",
       "      <td>JS</td>\n",
       "      <td>1995</td>\n",
       "      <td>WebGod🕸️</td>\n",
       "    </tr>\n",
       "  </tbody>\n",
       "</table>\n",
       "</div>"
      ],
      "text/plain": [
       "  Language Name  Year of Release       Tag\n",
       "0        Python             1992   Golden💛\n",
       "1            JS             1995  WebGod🕸️"
      ]
     },
     "execution_count": 31,
     "metadata": {},
     "output_type": "execute_result"
    }
   ],
   "source": [
    "# you can do boolean indexing with loc also\n",
    "print(langs['Year of Release'] > 1990)\n",
    "langs.loc[langs['Year of Release'] > 1990] # filtering data"
   ]
  },
  {
   "cell_type": "code",
   "execution_count": 32,
   "id": "1e43bda1",
   "metadata": {},
   "outputs": [],
   "source": [
    "# iloc vs loc main difference -> https://www.youtube.com/live/OG31yhRQxPI?si=5B5dVmJprCluLCG0&t=3821"
   ]
  },
  {
   "cell_type": "code",
   "execution_count": 33,
   "id": "25b95e37",
   "metadata": {},
   "outputs": [
    {
     "data": {
      "text/plain": [
       "'Creator⚡'"
      ]
     },
     "execution_count": 33,
     "metadata": {},
     "output_type": "execute_result"
    }
   ],
   "source": [
    "# selection both rows and columns\n",
    "# we want to select `C` tag\n",
    "langs.iloc[-1,-1]"
   ]
  },
  {
   "cell_type": "code",
   "execution_count": 34,
   "id": "25ae47b9",
   "metadata": {},
   "outputs": [
    {
     "data": {
      "text/plain": [
       "'Creator⚡'"
      ]
     },
     "execution_count": 34,
     "metadata": {},
     "output_type": "execute_result"
    }
   ],
   "source": [
    "# same thing with loc\n",
    "newLangs.loc['C','Tag']"
   ]
  },
  {
   "cell_type": "markdown",
   "id": "e2bd0cea",
   "metadata": {},
   "source": [
    "# Filtering a DataFrame\n",
    "[See this video clip to practice](https://www.youtube.com/live/OG31yhRQxPI?si=qFR2QCyXq8KBoLU9&t=4325)\n"
   ]
  },
  {
   "cell_type": "code",
   "execution_count": 35,
   "id": "69d31843",
   "metadata": {},
   "outputs": [
    {
     "data": {
      "text/plain": [
       "0    1992\n",
       "1    1995\n",
       "2    1986\n",
       "3    1980\n",
       "Name: Year of Release, dtype: int64"
      ]
     },
     "execution_count": 35,
     "metadata": {},
     "output_type": "execute_result"
    }
   ],
   "source": [
    "pd.Series(langs.iloc[:,-2])"
   ]
  },
  {
   "cell_type": "code",
   "execution_count": 36,
   "id": "1298e114",
   "metadata": {},
   "outputs": [
    {
     "data": {
      "text/plain": [
       "0    False\n",
       "1    False\n",
       "2     True\n",
       "3     True\n",
       "Name: Language Name, dtype: bool"
      ]
     },
     "execution_count": 36,
     "metadata": {},
     "output_type": "execute_result"
    }
   ],
   "source": [
    "# str is used to conver conver series values to string so we can perform string operations on those values\n",
    "\n",
    "langs['Language Name'].str.contains('C',case=False)"
   ]
  },
  {
   "cell_type": "code",
   "execution_count": 37,
   "id": "822e65b3",
   "metadata": {},
   "outputs": [
    {
     "data": {
      "text/plain": [
       "0     Golden💛\n",
       "1    WebGod🕸️\n",
       "Name: Tag, dtype: object"
      ]
     },
     "execution_count": 37,
     "metadata": {},
     "output_type": "execute_result"
    }
   ],
   "source": [
    "\n",
    "\n",
    "\n",
    "langs.iloc[(langs['Year of Release']> 1990).values ,-1]\n",
    "langs.loc[langs['Year of Release']> 1990 ,'Tag']"
   ]
  },
  {
   "cell_type": "code",
   "execution_count": 38,
   "id": "8c867fc2",
   "metadata": {},
   "outputs": [
    {
     "data": {
      "text/plain": [
       "0     Golden💛\n",
       "1    WebGod🕸️\n",
       "Name: Tag, dtype: object"
      ]
     },
     "execution_count": 38,
     "metadata": {},
     "output_type": "execute_result"
    }
   ],
   "source": [
    "\n",
    "\n",
    "\n",
    "langs.iloc[(langs['Year of Release']> 1990).values ,-1]\n",
    "langs.loc[(langs['Year of Release']> 1990) ,'Tag']"
   ]
  },
  {
   "cell_type": "markdown",
   "id": "2d8b51aa",
   "metadata": {},
   "source": [
    "## Adding a new columns"
   ]
  },
  {
   "cell_type": "code",
   "execution_count": 39,
   "id": "bb699676",
   "metadata": {},
   "outputs": [
    {
     "data": {
      "application/vnd.microsoft.datawrangler.viewer.v0+json": {
       "columns": [
        {
         "name": "index",
         "rawType": "int64",
         "type": "integer"
        },
        {
         "name": "Language Name",
         "rawType": "object",
         "type": "string"
        },
        {
         "name": "Year of Release",
         "rawType": "int64",
         "type": "integer"
        },
        {
         "name": "Tag",
         "rawType": "object",
         "type": "string"
        },
        {
         "name": "Authors",
         "rawType": "object",
         "type": "string"
        }
       ],
       "conversionMethod": "pd.DataFrame",
       "ref": "925b7c8a-504b-443b-a0a9-6ec67f8a29ca",
       "rows": [
        [
         "0",
         "Python",
         "1992",
         "Golden💛",
         "Guido van Rossum"
        ],
        [
         "1",
         "JS",
         "1995",
         "WebGod🕸️",
         "Brendan Eich"
        ],
        [
         "2",
         "C++",
         "1986",
         "Pointers👈🏻👉🏻👈🏻🫵🏻👆🏻👇🏻",
         "Bjarne Stroustrup"
        ],
        [
         "3",
         "C",
         "1980",
         "Creator⚡",
         "Dennis Ritchie"
        ]
       ],
       "shape": {
        "columns": 4,
        "rows": 4
       }
      },
      "text/html": [
       "<div>\n",
       "<style scoped>\n",
       "    .dataframe tbody tr th:only-of-type {\n",
       "        vertical-align: middle;\n",
       "    }\n",
       "\n",
       "    .dataframe tbody tr th {\n",
       "        vertical-align: top;\n",
       "    }\n",
       "\n",
       "    .dataframe thead th {\n",
       "        text-align: right;\n",
       "    }\n",
       "</style>\n",
       "<table border=\"1\" class=\"dataframe\">\n",
       "  <thead>\n",
       "    <tr style=\"text-align: right;\">\n",
       "      <th></th>\n",
       "      <th>Language Name</th>\n",
       "      <th>Year of Release</th>\n",
       "      <th>Tag</th>\n",
       "      <th>Authors</th>\n",
       "    </tr>\n",
       "  </thead>\n",
       "  <tbody>\n",
       "    <tr>\n",
       "      <th>0</th>\n",
       "      <td>Python</td>\n",
       "      <td>1992</td>\n",
       "      <td>Golden💛</td>\n",
       "      <td>Guido van Rossum</td>\n",
       "    </tr>\n",
       "    <tr>\n",
       "      <th>1</th>\n",
       "      <td>JS</td>\n",
       "      <td>1995</td>\n",
       "      <td>WebGod🕸️</td>\n",
       "      <td>Brendan Eich</td>\n",
       "    </tr>\n",
       "    <tr>\n",
       "      <th>2</th>\n",
       "      <td>C++</td>\n",
       "      <td>1986</td>\n",
       "      <td>Pointers👈🏻👉🏻👈🏻🫵🏻👆🏻👇🏻</td>\n",
       "      <td>Bjarne Stroustrup</td>\n",
       "    </tr>\n",
       "    <tr>\n",
       "      <th>3</th>\n",
       "      <td>C</td>\n",
       "      <td>1980</td>\n",
       "      <td>Creator⚡</td>\n",
       "      <td>Dennis Ritchie</td>\n",
       "    </tr>\n",
       "  </tbody>\n",
       "</table>\n",
       "</div>"
      ],
      "text/plain": [
       "  Language Name  Year of Release                   Tag            Authors\n",
       "0        Python             1992               Golden💛   Guido van Rossum\n",
       "1            JS             1995              WebGod🕸️       Brendan Eich\n",
       "2           C++             1986  Pointers👈🏻👉🏻👈🏻🫵🏻👆🏻👇🏻  Bjarne Stroustrup\n",
       "3             C             1980              Creator⚡     Dennis Ritchie"
      ]
     },
     "execution_count": 39,
     "metadata": {},
     "output_type": "execute_result"
    }
   ],
   "source": [
    "# completely new columns\n",
    "langs['Authors'] = ['Guido van Rossum', 'Brendan Eich', 'Bjarne Stroustrup', 'Dennis Ritchie']\n",
    "langs"
   ]
  },
  {
   "cell_type": "code",
   "execution_count": 40,
   "id": "85a2087f",
   "metadata": {},
   "outputs": [
    {
     "data": {
      "application/vnd.microsoft.datawrangler.viewer.v0+json": {
       "columns": [
        {
         "name": "index",
         "rawType": "int64",
         "type": "integer"
        },
        {
         "name": "Language Name",
         "rawType": "object",
         "type": "string"
        },
        {
         "name": "Year of Release",
         "rawType": "int64",
         "type": "integer"
        },
        {
         "name": "Tag",
         "rawType": "object",
         "type": "string"
        },
        {
         "name": "Authors",
         "rawType": "object",
         "type": "string"
        }
       ],
       "conversionMethod": "pd.DataFrame",
       "ref": "a76ab9d4-61f3-4dc9-88bb-9c5b73658059",
       "rows": [
        [
         "0",
         "Python",
         "1992",
         "Golden💛",
         "Guido van Rossum"
        ],
        [
         "1",
         "JS",
         "1995",
         "WebGod🕸️",
         "Brendan Eich"
        ],
        [
         "2",
         "C++",
         "1986",
         "Pointers👈🏻👉🏻👈🏻🫵🏻👆🏻👇🏻",
         "Bjarne Stroustrup"
        ],
        [
         "3",
         "C",
         "1980",
         "Creator⚡",
         "Dennis Ritchie"
        ]
       ],
       "shape": {
        "columns": 4,
        "rows": 4
       }
      },
      "text/html": [
       "<div>\n",
       "<style scoped>\n",
       "    .dataframe tbody tr th:only-of-type {\n",
       "        vertical-align: middle;\n",
       "    }\n",
       "\n",
       "    .dataframe tbody tr th {\n",
       "        vertical-align: top;\n",
       "    }\n",
       "\n",
       "    .dataframe thead th {\n",
       "        text-align: right;\n",
       "    }\n",
       "</style>\n",
       "<table border=\"1\" class=\"dataframe\">\n",
       "  <thead>\n",
       "    <tr style=\"text-align: right;\">\n",
       "      <th></th>\n",
       "      <th>Language Name</th>\n",
       "      <th>Year of Release</th>\n",
       "      <th>Tag</th>\n",
       "      <th>Authors</th>\n",
       "    </tr>\n",
       "  </thead>\n",
       "  <tbody>\n",
       "    <tr>\n",
       "      <th>0</th>\n",
       "      <td>Python</td>\n",
       "      <td>1992</td>\n",
       "      <td>Golden💛</td>\n",
       "      <td>Guido van Rossum</td>\n",
       "    </tr>\n",
       "    <tr>\n",
       "      <th>1</th>\n",
       "      <td>JS</td>\n",
       "      <td>1995</td>\n",
       "      <td>WebGod🕸️</td>\n",
       "      <td>Brendan Eich</td>\n",
       "    </tr>\n",
       "    <tr>\n",
       "      <th>2</th>\n",
       "      <td>C++</td>\n",
       "      <td>1986</td>\n",
       "      <td>Pointers👈🏻👉🏻👈🏻🫵🏻👆🏻👇🏻</td>\n",
       "      <td>Bjarne Stroustrup</td>\n",
       "    </tr>\n",
       "    <tr>\n",
       "      <th>3</th>\n",
       "      <td>C</td>\n",
       "      <td>1980</td>\n",
       "      <td>Creator⚡</td>\n",
       "      <td>Dennis Ritchie</td>\n",
       "    </tr>\n",
       "  </tbody>\n",
       "</table>\n",
       "</div>"
      ],
      "text/plain": [
       "  Language Name  Year of Release                   Tag            Authors\n",
       "0        Python             1992               Golden💛   Guido van Rossum\n",
       "1            JS             1995              WebGod🕸️       Brendan Eich\n",
       "2           C++             1986  Pointers👈🏻👉🏻👈🏻🫵🏻👆🏻👇🏻  Bjarne Stroustrup\n",
       "3             C             1980              Creator⚡     Dennis Ritchie"
      ]
     },
     "execution_count": 40,
     "metadata": {},
     "output_type": "execute_result"
    }
   ],
   "source": [
    "# create columns from  existing ones\n",
    "langs.dropna(subset=['Authors']) # remove rows where Tag is NaN\n",
    "\n"
   ]
  },
  {
   "cell_type": "markdown",
   "id": "3f35cf3e",
   "metadata": {},
   "source": [
    "# Important DataFrame Methods:"
   ]
  },
  {
   "cell_type": "code",
   "execution_count": 41,
   "id": "92190295",
   "metadata": {},
   "outputs": [
    {
     "name": "stdout",
     "output_type": "stream",
     "text": [
      "<class 'pandas.core.frame.DataFrame'>\n",
      "RangeIndex: 4 entries, 0 to 3\n",
      "Data columns (total 4 columns):\n",
      " #   Column           Non-Null Count  Dtype \n",
      "---  ------           --------------  ----- \n",
      " 0   Language Name    4 non-null      object\n",
      " 1   Year of Release  4 non-null      int64 \n",
      " 2   Tag              4 non-null      object\n",
      " 3   Authors          4 non-null      object\n",
      "dtypes: int64(1), object(3)\n",
      "memory usage: 260.0+ bytes\n"
     ]
    }
   ],
   "source": [
    "langs.info()"
   ]
  },
  {
   "cell_type": "code",
   "execution_count": 42,
   "id": "db4ad70c",
   "metadata": {},
   "outputs": [
    {
     "name": "stdout",
     "output_type": "stream",
     "text": [
      "<class 'pandas.core.frame.DataFrame'>\n",
      "RangeIndex: 4 entries, 0 to 3\n",
      "Data columns (total 4 columns):\n",
      " #   Column           Non-Null Count  Dtype \n",
      "---  ------           --------------  ----- \n",
      " 0   Language Name    4 non-null      object\n",
      " 1   Year of Release  4 non-null      Int16 \n",
      " 2   Tag              4 non-null      object\n",
      " 3   Authors          4 non-null      object\n",
      "dtypes: Int16(1), object(3)\n",
      "memory usage: 240.0+ bytes\n"
     ]
    }
   ],
   "source": [
    "# astype, not modified original dataframe\n",
    "langs.astype(str) # convert all columns to string\n",
    "langs['Year of Release'].astype('Int16') # convert Year of Release to integer and replace old column with new one\n",
    "\n",
    "# change in original dataframe\n",
    "\n",
    "langs['Year of Release'] = langs['Year of Release'].astype('Int16')\n",
    "langs.info()"
   ]
  }
 ],
 "metadata": {
  "kernelspec": {
   "display_name": "Python 3",
   "language": "python",
   "name": "python3"
  },
  "language_info": {
   "codemirror_mode": {
    "name": "ipython",
    "version": 3
   },
   "file_extension": ".py",
   "mimetype": "text/x-python",
   "name": "python",
   "nbconvert_exporter": "python",
   "pygments_lexer": "ipython3",
   "version": "3.13.2"
  }
 },
 "nbformat": 4,
 "nbformat_minor": 5
}
