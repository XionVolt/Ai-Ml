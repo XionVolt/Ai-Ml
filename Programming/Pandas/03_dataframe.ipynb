{
 "cells": [
  {
   "cell_type": "markdown",
   "id": "1e958d5f",
   "metadata": {},
   "source": [
    "[What are DataFrames](https://www.youtube.com/live/OG31yhRQxPI?si=43TM_mXSlIQFqlLq)"
   ]
  },
  {
   "cell_type": "code",
   "execution_count": 2,
   "id": "8b69fd53",
   "metadata": {},
   "outputs": [],
   "source": [
    "import numpy as np\n",
    "import pandas as pd"
   ]
  },
  {
   "cell_type": "markdown",
   "id": "36d7d108",
   "metadata": {},
   "source": [
    "# Creating DataFrames"
   ]
  },
  {
   "cell_type": "code",
   "execution_count": 3,
   "id": "35565815",
   "metadata": {},
   "outputs": [
    {
     "data": {
      "application/vnd.microsoft.datawrangler.viewer.v0+json": {
       "columns": [
        {
         "name": "index",
         "rawType": "int64",
         "type": "integer"
        },
        {
         "name": "Language",
         "rawType": "object",
         "type": "string"
        },
        {
         "name": "Year",
         "rawType": "int64",
         "type": "integer"
        },
        {
         "name": "Feeling",
         "rawType": "object",
         "type": "string"
        }
       ],
       "conversionMethod": "pd.DataFrame",
       "ref": "cf84412a-4947-4d26-bf41-f822566360a9",
       "rows": [
        [
         "0",
         "Python",
         "1992",
         "Golden💛"
        ],
        [
         "1",
         "JS",
         "1995",
         "WebGod🕸️"
        ],
        [
         "2",
         "C++",
         "1986",
         "Pointers👈🏻👉🏻👈🏻🫵🏻👆🏻👇🏻"
        ],
        [
         "3",
         "C",
         "1980",
         "Creator⚡"
        ]
       ],
       "shape": {
        "columns": 3,
        "rows": 4
       }
      },
      "text/html": [
       "<div>\n",
       "<style scoped>\n",
       "    .dataframe tbody tr th:only-of-type {\n",
       "        vertical-align: middle;\n",
       "    }\n",
       "\n",
       "    .dataframe tbody tr th {\n",
       "        vertical-align: top;\n",
       "    }\n",
       "\n",
       "    .dataframe thead th {\n",
       "        text-align: right;\n",
       "    }\n",
       "</style>\n",
       "<table border=\"1\" class=\"dataframe\">\n",
       "  <thead>\n",
       "    <tr style=\"text-align: right;\">\n",
       "      <th></th>\n",
       "      <th>Language</th>\n",
       "      <th>Year</th>\n",
       "      <th>Feeling</th>\n",
       "    </tr>\n",
       "  </thead>\n",
       "  <tbody>\n",
       "    <tr>\n",
       "      <th>0</th>\n",
       "      <td>Python</td>\n",
       "      <td>1992</td>\n",
       "      <td>Golden💛</td>\n",
       "    </tr>\n",
       "    <tr>\n",
       "      <th>1</th>\n",
       "      <td>JS</td>\n",
       "      <td>1995</td>\n",
       "      <td>WebGod🕸️</td>\n",
       "    </tr>\n",
       "    <tr>\n",
       "      <th>2</th>\n",
       "      <td>C++</td>\n",
       "      <td>1986</td>\n",
       "      <td>Pointers👈🏻👉🏻👈🏻🫵🏻👆🏻👇🏻</td>\n",
       "    </tr>\n",
       "    <tr>\n",
       "      <th>3</th>\n",
       "      <td>C</td>\n",
       "      <td>1980</td>\n",
       "      <td>Creator⚡</td>\n",
       "    </tr>\n",
       "  </tbody>\n",
       "</table>\n",
       "</div>"
      ],
      "text/plain": [
       "  Language  Year               Feeling\n",
       "0   Python  1992               Golden💛\n",
       "1       JS  1995              WebGod🕸️\n",
       "2      C++  1986  Pointers👈🏻👉🏻👈🏻🫵🏻👆🏻👇🏻\n",
       "3        C  1980              Creator⚡"
      ]
     },
     "execution_count": 3,
     "metadata": {},
     "output_type": "execute_result"
    }
   ],
   "source": [
    "# using lists\n",
    "languages_perferences = [\n",
    "    ['Python',1992,'Golden💛'],\n",
    "    ['JS',1995,'WebGod🕸️'],\n",
    "    ['C++',1986,'Pointers👈🏻👉🏻👈🏻🫵🏻👆🏻👇🏻'],\n",
    "    ['C',1980,'Creator⚡'],\n",
    "]\n",
    "pd.DataFrame(languages_perferences,columns=['Language','Year','Feeling'])\n",
    "\n"
   ]
  },
  {
   "cell_type": "code",
   "execution_count": 4,
   "id": "f08fb914",
   "metadata": {},
   "outputs": [
    {
     "data": {
      "application/vnd.microsoft.datawrangler.viewer.v0+json": {
       "columns": [
        {
         "name": "index",
         "rawType": "int64",
         "type": "integer"
        },
        {
         "name": "Language",
         "rawType": "object",
         "type": "string"
        },
        {
         "name": "Year",
         "rawType": "int64",
         "type": "integer"
        },
        {
         "name": "Feeling",
         "rawType": "object",
         "type": "string"
        }
       ],
       "conversionMethod": "pd.DataFrame",
       "ref": "dc5584a0-8961-4aad-97ad-df9025dba9d0",
       "rows": [
        [
         "0",
         "Python",
         "1992",
         "Golden💛"
        ],
        [
         "1",
         "JS",
         "1995",
         "WebGod🕸️"
        ],
        [
         "2",
         "C++",
         "1986",
         "Pointers👈🏻👉🏻👈🏻🫵🏻👆🏻👇🏻"
        ],
        [
         "3",
         "C",
         "1980",
         "Creator⚡"
        ]
       ],
       "shape": {
        "columns": 3,
        "rows": 4
       }
      },
      "text/html": [
       "<div>\n",
       "<style scoped>\n",
       "    .dataframe tbody tr th:only-of-type {\n",
       "        vertical-align: middle;\n",
       "    }\n",
       "\n",
       "    .dataframe tbody tr th {\n",
       "        vertical-align: top;\n",
       "    }\n",
       "\n",
       "    .dataframe thead th {\n",
       "        text-align: right;\n",
       "    }\n",
       "</style>\n",
       "<table border=\"1\" class=\"dataframe\">\n",
       "  <thead>\n",
       "    <tr style=\"text-align: right;\">\n",
       "      <th></th>\n",
       "      <th>Language</th>\n",
       "      <th>Year</th>\n",
       "      <th>Feeling</th>\n",
       "    </tr>\n",
       "  </thead>\n",
       "  <tbody>\n",
       "    <tr>\n",
       "      <th>0</th>\n",
       "      <td>Python</td>\n",
       "      <td>1992</td>\n",
       "      <td>Golden💛</td>\n",
       "    </tr>\n",
       "    <tr>\n",
       "      <th>1</th>\n",
       "      <td>JS</td>\n",
       "      <td>1995</td>\n",
       "      <td>WebGod🕸️</td>\n",
       "    </tr>\n",
       "    <tr>\n",
       "      <th>2</th>\n",
       "      <td>C++</td>\n",
       "      <td>1986</td>\n",
       "      <td>Pointers👈🏻👉🏻👈🏻🫵🏻👆🏻👇🏻</td>\n",
       "    </tr>\n",
       "    <tr>\n",
       "      <th>3</th>\n",
       "      <td>C</td>\n",
       "      <td>1980</td>\n",
       "      <td>Creator⚡</td>\n",
       "    </tr>\n",
       "  </tbody>\n",
       "</table>\n",
       "</div>"
      ],
      "text/plain": [
       "  Language  Year               Feeling\n",
       "0   Python  1992               Golden💛\n",
       "1       JS  1995              WebGod🕸️\n",
       "2      C++  1986  Pointers👈🏻👉🏻👈🏻🫵🏻👆🏻👇🏻\n",
       "3        C  1980              Creator⚡"
      ]
     },
     "execution_count": 4,
     "metadata": {},
     "output_type": "execute_result"
    }
   ],
   "source": [
    "# using dictionary\n",
    "# key will be column name, rows will be values\n",
    "languages_perferences = {\n",
    "    'Language': ['Python', 'JS', 'C++', 'C'],\n",
    "    'Year': [1992, 1995, 1986, 1980],\n",
    "    'Feeling':['Golden💛','WebGod🕸️','Pointers👈🏻👉🏻👈🏻🫵🏻👆🏻👇🏻','Creator⚡']\n",
    "}\n",
    "\n",
    "pd.DataFrame(languages_perferences)"
   ]
  },
  {
   "cell_type": "code",
   "execution_count": null,
   "id": "f2f68f80",
   "metadata": {},
   "outputs": [],
   "source": []
  },
  {
   "cell_type": "code",
   "execution_count": 10,
   "id": "f9b7b6f4",
   "metadata": {},
   "outputs": [
    {
     "data": {
      "application/vnd.microsoft.datawrangler.viewer.v0+json": {
       "columns": [
        {
         "name": "index",
         "rawType": "int64",
         "type": "integer"
        },
        {
         "name": "Language",
         "rawType": "object",
         "type": "string"
        },
        {
         "name": "Year",
         "rawType": "int64",
         "type": "integer"
        },
        {
         "name": "Feeling",
         "rawType": "object",
         "type": "string"
        }
       ],
       "conversionMethod": "pd.DataFrame",
       "ref": "cca130ac-8a52-4f3f-8bb5-dc15bd6daa15",
       "rows": [
        [
         "0",
         "Python",
         "1992",
         "Golden💛"
        ],
        [
         "1",
         "JS",
         "1995",
         "WebGod🕸️"
        ],
        [
         "2",
         "C++",
         "1986",
         "Pointers👈🏻👉🏻👈🏻🫵🏻👆🏻👇🏻"
        ],
        [
         "3",
         "C",
         "1980",
         "Creator⚡"
        ]
       ],
       "shape": {
        "columns": 3,
        "rows": 4
       }
      },
      "text/html": [
       "<div>\n",
       "<style scoped>\n",
       "    .dataframe tbody tr th:only-of-type {\n",
       "        vertical-align: middle;\n",
       "    }\n",
       "\n",
       "    .dataframe tbody tr th {\n",
       "        vertical-align: top;\n",
       "    }\n",
       "\n",
       "    .dataframe thead th {\n",
       "        text-align: right;\n",
       "    }\n",
       "</style>\n",
       "<table border=\"1\" class=\"dataframe\">\n",
       "  <thead>\n",
       "    <tr style=\"text-align: right;\">\n",
       "      <th></th>\n",
       "      <th>Language</th>\n",
       "      <th>Year</th>\n",
       "      <th>Feeling</th>\n",
       "    </tr>\n",
       "  </thead>\n",
       "  <tbody>\n",
       "    <tr>\n",
       "      <th>0</th>\n",
       "      <td>Python</td>\n",
       "      <td>1992</td>\n",
       "      <td>Golden💛</td>\n",
       "    </tr>\n",
       "    <tr>\n",
       "      <th>1</th>\n",
       "      <td>JS</td>\n",
       "      <td>1995</td>\n",
       "      <td>WebGod🕸️</td>\n",
       "    </tr>\n",
       "    <tr>\n",
       "      <th>2</th>\n",
       "      <td>C++</td>\n",
       "      <td>1986</td>\n",
       "      <td>Pointers👈🏻👉🏻👈🏻🫵🏻👆🏻👇🏻</td>\n",
       "    </tr>\n",
       "    <tr>\n",
       "      <th>3</th>\n",
       "      <td>C</td>\n",
       "      <td>1980</td>\n",
       "      <td>Creator⚡</td>\n",
       "    </tr>\n",
       "  </tbody>\n",
       "</table>\n",
       "</div>"
      ],
      "text/plain": [
       "  Language  Year               Feeling\n",
       "0   Python  1992               Golden💛\n",
       "1       JS  1995              WebGod🕸️\n",
       "2      C++  1986  Pointers👈🏻👉🏻👈🏻🫵🏻👆🏻👇🏻\n",
       "3        C  1980              Creator⚡"
      ]
     },
     "execution_count": 10,
     "metadata": {},
     "output_type": "execute_result"
    }
   ],
   "source": [
    "# for converting dataframe to csv file\n",
    "# pd.DataFrame(languages_perferences).to_csv('languages_perferences.csv',index=False,sep=',') # for saving in csv file\n",
    "\n",
    "langs = pd.read_csv(r'languages_perferences.csv')\n",
    "langs"
   ]
  },
  {
   "cell_type": "markdown",
   "id": "6227f8b9",
   "metadata": {},
   "source": [
    "# DataFrame Attributes and Methods"
   ]
  },
  {
   "cell_type": "code",
   "execution_count": 6,
   "id": "a9dbf122",
   "metadata": {},
   "outputs": [
    {
     "data": {
      "text/plain": [
       "(4, 3)"
      ]
     },
     "execution_count": 6,
     "metadata": {},
     "output_type": "execute_result"
    }
   ],
   "source": [
    "# shape\n",
    "langs.shape # means data is divided into 4 rows and 3 columns"
   ]
  },
  {
   "cell_type": "code",
   "execution_count": 7,
   "id": "72bebdf0",
   "metadata": {},
   "outputs": [
    {
     "data": {
      "text/plain": [
       "Language    object\n",
       "Year         int64\n",
       "Feeling     object\n",
       "dtype: object"
      ]
     },
     "execution_count": 7,
     "metadata": {},
     "output_type": "execute_result"
    }
   ],
   "source": [
    "# dtypes\n",
    "# gives you datatype of each column(series)\n",
    "langs.dtypes"
   ]
  },
  {
   "cell_type": "code",
   "execution_count": 12,
   "id": "b0520c4d",
   "metadata": {},
   "outputs": [
    {
     "data": {
      "text/plain": [
       "RangeIndex(start=0, stop=4, step=1)"
      ]
     },
     "execution_count": 12,
     "metadata": {},
     "output_type": "execute_result"
    }
   ],
   "source": [
    "# index\n",
    "langs.index"
   ]
  },
  {
   "cell_type": "code",
   "execution_count": 13,
   "id": "6e4f1da7",
   "metadata": {},
   "outputs": [
    {
     "data": {
      "text/plain": [
       "Index(['Language', 'Year', 'Feeling'], dtype='object')"
      ]
     },
     "execution_count": 13,
     "metadata": {},
     "output_type": "execute_result"
    }
   ],
   "source": [
    "# columns\n",
    "langs.columns"
   ]
  },
  {
   "cell_type": "code",
   "execution_count": 14,
   "id": "dcb859ac",
   "metadata": {},
   "outputs": [
    {
     "data": {
      "text/plain": [
       "array([['Python', 1992, 'Golden💛'],\n",
       "       ['JS', 1995, 'WebGod🕸️'],\n",
       "       ['C++', 1986, 'Pointers👈🏻👉🏻👈🏻🫵🏻👆🏻👇🏻'],\n",
       "       ['C', 1980, 'Creator⚡']], dtype=object)"
      ]
     },
     "execution_count": 14,
     "metadata": {},
     "output_type": "execute_result"
    }
   ],
   "source": [
    "# values\n",
    "langs.values # give values of each row"
   ]
  },
  {
   "cell_type": "code",
   "execution_count": 18,
   "id": "7eff0889",
   "metadata": {},
   "outputs": [
    {
     "data": {
      "application/vnd.microsoft.datawrangler.viewer.v0+json": {
       "columns": [
        {
         "name": "index",
         "rawType": "int64",
         "type": "integer"
        },
        {
         "name": "Language",
         "rawType": "object",
         "type": "string"
        },
        {
         "name": "Year",
         "rawType": "int64",
         "type": "integer"
        },
        {
         "name": "Feeling",
         "rawType": "object",
         "type": "string"
        }
       ],
       "conversionMethod": "pd.DataFrame",
       "ref": "3569bdaa-4c97-488d-9111-c453246137b7",
       "rows": [
        [
         "0",
         "Python",
         "1992",
         "Golden💛"
        ],
        [
         "1",
         "JS",
         "1995",
         "WebGod🕸️"
        ]
       ],
       "shape": {
        "columns": 3,
        "rows": 2
       }
      },
      "text/html": [
       "<div>\n",
       "<style scoped>\n",
       "    .dataframe tbody tr th:only-of-type {\n",
       "        vertical-align: middle;\n",
       "    }\n",
       "\n",
       "    .dataframe tbody tr th {\n",
       "        vertical-align: top;\n",
       "    }\n",
       "\n",
       "    .dataframe thead th {\n",
       "        text-align: right;\n",
       "    }\n",
       "</style>\n",
       "<table border=\"1\" class=\"dataframe\">\n",
       "  <thead>\n",
       "    <tr style=\"text-align: right;\">\n",
       "      <th></th>\n",
       "      <th>Language</th>\n",
       "      <th>Year</th>\n",
       "      <th>Feeling</th>\n",
       "    </tr>\n",
       "  </thead>\n",
       "  <tbody>\n",
       "    <tr>\n",
       "      <th>0</th>\n",
       "      <td>Python</td>\n",
       "      <td>1992</td>\n",
       "      <td>Golden💛</td>\n",
       "    </tr>\n",
       "    <tr>\n",
       "      <th>1</th>\n",
       "      <td>JS</td>\n",
       "      <td>1995</td>\n",
       "      <td>WebGod🕸️</td>\n",
       "    </tr>\n",
       "  </tbody>\n",
       "</table>\n",
       "</div>"
      ],
      "text/plain": [
       "  Language  Year   Feeling\n",
       "0   Python  1992   Golden💛\n",
       "1       JS  1995  WebGod🕸️"
      ]
     },
     "execution_count": 18,
     "metadata": {},
     "output_type": "execute_result"
    }
   ],
   "source": [
    "# head and tail \n",
    "langs.head(-2) # -2 means last 2 rows will be hidden\n",
    "# same can be done with tail\n"
   ]
  },
  {
   "cell_type": "code",
   "execution_count": 22,
   "id": "f3972b82",
   "metadata": {},
   "outputs": [
    {
     "data": {
      "application/vnd.microsoft.datawrangler.viewer.v0+json": {
       "columns": [
        {
         "name": "index",
         "rawType": "int64",
         "type": "integer"
        },
        {
         "name": "Language",
         "rawType": "object",
         "type": "string"
        },
        {
         "name": "Year",
         "rawType": "int64",
         "type": "integer"
        },
        {
         "name": "Feeling",
         "rawType": "object",
         "type": "string"
        }
       ],
       "conversionMethod": "pd.DataFrame",
       "ref": "4af8060d-7938-4699-b2e9-32b4682d5701",
       "rows": [
        [
         "2",
         "C++",
         "1986",
         "Pointers👈🏻👉🏻👈🏻🫵🏻👆🏻👇🏻"
        ],
        [
         "3",
         "C",
         "1980",
         "Creator⚡"
        ]
       ],
       "shape": {
        "columns": 3,
        "rows": 2
       }
      },
      "text/html": [
       "<div>\n",
       "<style scoped>\n",
       "    .dataframe tbody tr th:only-of-type {\n",
       "        vertical-align: middle;\n",
       "    }\n",
       "\n",
       "    .dataframe tbody tr th {\n",
       "        vertical-align: top;\n",
       "    }\n",
       "\n",
       "    .dataframe thead th {\n",
       "        text-align: right;\n",
       "    }\n",
       "</style>\n",
       "<table border=\"1\" class=\"dataframe\">\n",
       "  <thead>\n",
       "    <tr style=\"text-align: right;\">\n",
       "      <th></th>\n",
       "      <th>Language</th>\n",
       "      <th>Year</th>\n",
       "      <th>Feeling</th>\n",
       "    </tr>\n",
       "  </thead>\n",
       "  <tbody>\n",
       "    <tr>\n",
       "      <th>2</th>\n",
       "      <td>C++</td>\n",
       "      <td>1986</td>\n",
       "      <td>Pointers👈🏻👉🏻👈🏻🫵🏻👆🏻👇🏻</td>\n",
       "    </tr>\n",
       "    <tr>\n",
       "      <th>3</th>\n",
       "      <td>C</td>\n",
       "      <td>1980</td>\n",
       "      <td>Creator⚡</td>\n",
       "    </tr>\n",
       "  </tbody>\n",
       "</table>\n",
       "</div>"
      ],
      "text/plain": [
       "  Language  Year               Feeling\n",
       "2      C++  1986  Pointers👈🏻👉🏻👈🏻🫵🏻👆🏻👇🏻\n",
       "3        C  1980              Creator⚡"
      ]
     },
     "execution_count": 22,
     "metadata": {},
     "output_type": "execute_result"
    }
   ],
   "source": [
    "langs.tail(-2) # means 2 above rows will be hidden"
   ]
  },
  {
   "cell_type": "code",
   "execution_count": 28,
   "id": "c3c36357",
   "metadata": {},
   "outputs": [
    {
     "data": {
      "application/vnd.microsoft.datawrangler.viewer.v0+json": {
       "columns": [
        {
         "name": "index",
         "rawType": "int64",
         "type": "integer"
        },
        {
         "name": "Language",
         "rawType": "object",
         "type": "string"
        },
        {
         "name": "Year",
         "rawType": "int64",
         "type": "integer"
        },
        {
         "name": "Feeling",
         "rawType": "object",
         "type": "string"
        }
       ],
       "conversionMethod": "pd.DataFrame",
       "ref": "eed98578-e077-4524-ace6-cc9dcc711f46",
       "rows": [
        [
         "2",
         "C++",
         "1986",
         "Pointers👈🏻👉🏻👈🏻🫵🏻👆🏻👇🏻"
        ],
        [
         "0",
         "Python",
         "1992",
         "Golden💛"
        ]
       ],
       "shape": {
        "columns": 3,
        "rows": 2
       }
      },
      "text/html": [
       "<div>\n",
       "<style scoped>\n",
       "    .dataframe tbody tr th:only-of-type {\n",
       "        vertical-align: middle;\n",
       "    }\n",
       "\n",
       "    .dataframe tbody tr th {\n",
       "        vertical-align: top;\n",
       "    }\n",
       "\n",
       "    .dataframe thead th {\n",
       "        text-align: right;\n",
       "    }\n",
       "</style>\n",
       "<table border=\"1\" class=\"dataframe\">\n",
       "  <thead>\n",
       "    <tr style=\"text-align: right;\">\n",
       "      <th></th>\n",
       "      <th>Language</th>\n",
       "      <th>Year</th>\n",
       "      <th>Feeling</th>\n",
       "    </tr>\n",
       "  </thead>\n",
       "  <tbody>\n",
       "    <tr>\n",
       "      <th>2</th>\n",
       "      <td>C++</td>\n",
       "      <td>1986</td>\n",
       "      <td>Pointers👈🏻👉🏻👈🏻🫵🏻👆🏻👇🏻</td>\n",
       "    </tr>\n",
       "    <tr>\n",
       "      <th>0</th>\n",
       "      <td>Python</td>\n",
       "      <td>1992</td>\n",
       "      <td>Golden💛</td>\n",
       "    </tr>\n",
       "  </tbody>\n",
       "</table>\n",
       "</div>"
      ],
      "text/plain": [
       "  Language  Year               Feeling\n",
       "2      C++  1986  Pointers👈🏻👉🏻👈🏻🫵🏻👆🏻👇🏻\n",
       "0   Python  1992               Golden💛"
      ]
     },
     "execution_count": 28,
     "metadata": {},
     "output_type": "execute_result"
    }
   ],
   "source": [
    "# sample # 5 random rows\n",
    "langs.sample(2)"
   ]
  },
  {
   "cell_type": "code",
   "execution_count": 29,
   "id": "5c41e483",
   "metadata": {},
   "outputs": [
    {
     "name": "stdout",
     "output_type": "stream",
     "text": [
      "<class 'pandas.core.frame.DataFrame'>\n",
      "RangeIndex: 4 entries, 0 to 3\n",
      "Data columns (total 3 columns):\n",
      " #   Column    Non-Null Count  Dtype \n",
      "---  ------    --------------  ----- \n",
      " 0   Language  4 non-null      object\n",
      " 1   Year      4 non-null      int64 \n",
      " 2   Feeling   4 non-null      object\n",
      "dtypes: int64(1), object(2)\n",
      "memory usage: 228.0+ bytes\n"
     ]
    }
   ],
   "source": [
    "# Understand `info` -> https://www.youtube.com/live/OG31yhRQxPI?si=UVygY80TQSqfueu7&t=1471\n",
    "langs.info()"
   ]
  },
  {
   "cell_type": "code",
   "execution_count": 42,
   "id": "c3717eaa",
   "metadata": {},
   "outputs": [
    {
     "data": {
      "application/vnd.microsoft.datawrangler.viewer.v0+json": {
       "columns": [
        {
         "name": "index",
         "rawType": "object",
         "type": "string"
        },
        {
         "name": "Year",
         "rawType": "float64",
         "type": "float"
        }
       ],
       "conversionMethod": "pd.DataFrame",
       "ref": "3d5b3120-ee5d-4780-a685-8a4a6c216121",
       "rows": [
        [
         "count",
         "4.0"
        ],
        [
         "mean",
         "1988.25"
        ],
        [
         "std",
         "6.652067347825035"
        ],
        [
         "min",
         "1980.0"
        ],
        [
         "25%",
         "1984.5"
        ],
        [
         "50%",
         "1989.0"
        ],
        [
         "75%",
         "1992.75"
        ],
        [
         "max",
         "1995.0"
        ]
       ],
       "shape": {
        "columns": 1,
        "rows": 8
       }
      },
      "text/html": [
       "<div>\n",
       "<style scoped>\n",
       "    .dataframe tbody tr th:only-of-type {\n",
       "        vertical-align: middle;\n",
       "    }\n",
       "\n",
       "    .dataframe tbody tr th {\n",
       "        vertical-align: top;\n",
       "    }\n",
       "\n",
       "    .dataframe thead th {\n",
       "        text-align: right;\n",
       "    }\n",
       "</style>\n",
       "<table border=\"1\" class=\"dataframe\">\n",
       "  <thead>\n",
       "    <tr style=\"text-align: right;\">\n",
       "      <th></th>\n",
       "      <th>Year</th>\n",
       "    </tr>\n",
       "  </thead>\n",
       "  <tbody>\n",
       "    <tr>\n",
       "      <th>count</th>\n",
       "      <td>4.000000</td>\n",
       "    </tr>\n",
       "    <tr>\n",
       "      <th>mean</th>\n",
       "      <td>1988.250000</td>\n",
       "    </tr>\n",
       "    <tr>\n",
       "      <th>std</th>\n",
       "      <td>6.652067</td>\n",
       "    </tr>\n",
       "    <tr>\n",
       "      <th>min</th>\n",
       "      <td>1980.000000</td>\n",
       "    </tr>\n",
       "    <tr>\n",
       "      <th>25%</th>\n",
       "      <td>1984.500000</td>\n",
       "    </tr>\n",
       "    <tr>\n",
       "      <th>50%</th>\n",
       "      <td>1989.000000</td>\n",
       "    </tr>\n",
       "    <tr>\n",
       "      <th>75%</th>\n",
       "      <td>1992.750000</td>\n",
       "    </tr>\n",
       "    <tr>\n",
       "      <th>max</th>\n",
       "      <td>1995.000000</td>\n",
       "    </tr>\n",
       "  </tbody>\n",
       "</table>\n",
       "</div>"
      ],
      "text/plain": [
       "              Year\n",
       "count     4.000000\n",
       "mean   1988.250000\n",
       "std       6.652067\n",
       "min    1980.000000\n",
       "25%    1984.500000\n",
       "50%    1989.000000\n",
       "75%    1992.750000\n",
       "max    1995.000000"
      ]
     },
     "execution_count": 42,
     "metadata": {},
     "output_type": "execute_result"
    }
   ],
   "source": [
    "# describe, is used to extract numerical columns only\n",
    "langs.describe()"
   ]
  },
  {
   "cell_type": "code",
   "execution_count": 45,
   "id": "cf7db621",
   "metadata": {},
   "outputs": [
    {
     "name": "stdout",
     "output_type": "stream",
     "text": [
      "Language    0\n",
      "Year        0\n",
      "Feeling     0\n",
      "dtype: int64\n"
     ]
    },
    {
     "data": {
      "application/vnd.microsoft.datawrangler.viewer.v0+json": {
       "columns": [
        {
         "name": "index",
         "rawType": "int64",
         "type": "integer"
        },
        {
         "name": "Language",
         "rawType": "bool",
         "type": "boolean"
        },
        {
         "name": "Year",
         "rawType": "bool",
         "type": "boolean"
        },
        {
         "name": "Feeling",
         "rawType": "bool",
         "type": "boolean"
        }
       ],
       "conversionMethod": "pd.DataFrame",
       "ref": "5b60b7e4-b849-48cf-a409-92f48b1272bd",
       "rows": [
        [
         "0",
         "False",
         "False",
         "False"
        ],
        [
         "1",
         "False",
         "False",
         "False"
        ],
        [
         "2",
         "False",
         "False",
         "False"
        ],
        [
         "3",
         "False",
         "False",
         "False"
        ]
       ],
       "shape": {
        "columns": 3,
        "rows": 4
       }
      },
      "text/html": [
       "<div>\n",
       "<style scoped>\n",
       "    .dataframe tbody tr th:only-of-type {\n",
       "        vertical-align: middle;\n",
       "    }\n",
       "\n",
       "    .dataframe tbody tr th {\n",
       "        vertical-align: top;\n",
       "    }\n",
       "\n",
       "    .dataframe thead th {\n",
       "        text-align: right;\n",
       "    }\n",
       "</style>\n",
       "<table border=\"1\" class=\"dataframe\">\n",
       "  <thead>\n",
       "    <tr style=\"text-align: right;\">\n",
       "      <th></th>\n",
       "      <th>Language</th>\n",
       "      <th>Year</th>\n",
       "      <th>Feeling</th>\n",
       "    </tr>\n",
       "  </thead>\n",
       "  <tbody>\n",
       "    <tr>\n",
       "      <th>0</th>\n",
       "      <td>False</td>\n",
       "      <td>False</td>\n",
       "      <td>False</td>\n",
       "    </tr>\n",
       "    <tr>\n",
       "      <th>1</th>\n",
       "      <td>False</td>\n",
       "      <td>False</td>\n",
       "      <td>False</td>\n",
       "    </tr>\n",
       "    <tr>\n",
       "      <th>2</th>\n",
       "      <td>False</td>\n",
       "      <td>False</td>\n",
       "      <td>False</td>\n",
       "    </tr>\n",
       "    <tr>\n",
       "      <th>3</th>\n",
       "      <td>False</td>\n",
       "      <td>False</td>\n",
       "      <td>False</td>\n",
       "    </tr>\n",
       "  </tbody>\n",
       "</table>\n",
       "</div>"
      ],
      "text/plain": [
       "   Language   Year  Feeling\n",
       "0     False  False    False\n",
       "1     False  False    False\n",
       "2     False  False    False\n",
       "3     False  False    False"
      ]
     },
     "execution_count": 45,
     "metadata": {},
     "output_type": "execute_result"
    }
   ],
   "source": [
    "# isnull, gives a boolean dataframe\n",
    "print(langs.isnull().sum()) # here sum will add all true values as 1, and give us result of each column, basically sum will sum all columns one by one\n",
    "langs.isnull()"
   ]
  },
  {
   "cell_type": "code",
   "execution_count": null,
   "id": "a0a16e35",
   "metadata": {},
   "outputs": [],
   "source": [
    "# duplicated\n"
   ]
  }
 ],
 "metadata": {
  "kernelspec": {
   "display_name": "Python 3",
   "language": "python",
   "name": "python3"
  },
  "language_info": {
   "codemirror_mode": {
    "name": "ipython",
    "version": 3
   },
   "file_extension": ".py",
   "mimetype": "text/x-python",
   "name": "python",
   "nbconvert_exporter": "python",
   "pygments_lexer": "ipython3",
   "version": "3.13.2"
  }
 },
 "nbformat": 4,
 "nbformat_minor": 5
}
