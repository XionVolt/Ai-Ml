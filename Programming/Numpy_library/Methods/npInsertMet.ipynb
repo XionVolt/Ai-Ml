{
 "cells": [
  {
   "cell_type": "markdown",
   "metadata": {},
   "source": [
    "## np.insert() inserts values into an array at specified positions. It does not modify the original array but returns a new one.\n",
    "\n",
    "## Syntax:\n",
    "```np.insert(arr, index, values, axis=None)```\n",
    "`arr` → The original NumPy array.\n",
    "\n",
    "`obj` → The position(s) where the value should be inserted.\n",
    "\n",
    "`values` → The value(s) to insert.\n",
    "\n",
    "`axis` → <br>\n",
    "<pre>\n",
    "     `axis` = None (default): Flattens the array before insertion.<br>\n",
    "     `axis` = 0: Inserts row-wise (along columns).<br>\n",
    "     `axis` = 1: Inserts column-wise (along rows).\n",
    "     ...\n",
    "</pre>\n",
    "\n",
    "\n"
   ]
  },
  {
   "cell_type": "code",
   "execution_count": 2,
   "metadata": {},
   "outputs": [
    {
     "name": "stdout",
     "output_type": "stream",
     "text": [
      "Original: [10 20 30 40]\n",
      "After Insert: [10 20 25 30 40]\n"
     ]
    }
   ],
   "source": [
    "\"\"\" 🔹 Examples\n",
    "1️⃣ Insert into a 1D array \"\"\"\n",
    "import numpy as np\n",
    "\n",
    "arr = np.array([10, 20, 30, 40])\n",
    "new_arr = np.insert(arr, 2, 25)  # Insert `25` at index `2`\n",
    "\n",
    "print(\"Original:\", arr)\n",
    "print(\"After Insert:\", new_arr)\n"
   ]
  },
  {
   "cell_type": "code",
   "execution_count": 1,
   "metadata": {},
   "outputs": [
    {
     "ename": "NameError",
     "evalue": "name 'np' is not defined",
     "output_type": "error",
     "traceback": [
      "\u001b[31m---------------------------------------------------------------------------\u001b[39m",
      "\u001b[31mNameError\u001b[39m                                 Traceback (most recent call last)",
      "\u001b[36mCell\u001b[39m\u001b[36m \u001b[39m\u001b[32mIn[1]\u001b[39m\u001b[32m, line 3\u001b[39m\n\u001b[32m      1\u001b[39m \u001b[38;5;66;03m# 2️⃣ Insert multiple values at different positions\u001b[39;00m\n\u001b[32m----> \u001b[39m\u001b[32m3\u001b[39m arr = \u001b[43mnp\u001b[49m.array([\u001b[32m1\u001b[39m, \u001b[32m2\u001b[39m, \u001b[32m3\u001b[39m, \u001b[32m4\u001b[39m])\n\u001b[32m      4\u001b[39m new_arr = np.insert(arr, obj=[\u001b[32m1\u001b[39m, \u001b[32m3\u001b[39m], values=[\u001b[32m99\u001b[39m, \u001b[32m88\u001b[39m])  \u001b[38;5;66;03m# Insert `99` at index 1, `88` at index 3\u001b[39;00m\n\u001b[32m      6\u001b[39m \u001b[38;5;28mprint\u001b[39m(new_arr)\n",
      "\u001b[31mNameError\u001b[39m: name 'np' is not defined"
     ]
    }
   ],
   "source": [
    "# 2️⃣ Insert multiple values at different positions\n",
    "\n",
    "arr = np.array([1, 2, 3, 4])\n",
    "new_arr = np.insert(arr, obj=[1, 3], values=[99, 88])  # Insert `99` at index 1, `88` at index 3\n",
    "\n",
    "print(new_arr)"
   ]
  },
  {
   "cell_type": "code",
   "execution_count": null,
   "metadata": {},
   "outputs": [
    {
     "name": "stdout",
     "output_type": "stream",
     "text": [
      "[[1 2]\n",
      " [7 7]\n",
      " [3 4]]\n"
     ]
    }
   ],
   "source": [
    "\n",
    "arr = np.array([[1, 2],\n",
    "                [3, 4]])\n",
    "\n",
    "\n",
    "# 3️⃣ Insert into a 2D array (axis = 0 → Insert row)\n",
    "new_arr = np.insert(arr, obj=1, values=[7,7], axis=0)  # Insert a new row at index 1\n",
    "print(new_arr)"
   ]
  },
  {
   "cell_type": "code",
   "execution_count": null,
   "metadata": {},
   "outputs": [
    {
     "name": "stdout",
     "output_type": "stream",
     "text": [
      "[[1 7 2]\n",
      " [3 7 4]]\n"
     ]
    }
   ],
   "source": [
    "# 4️⃣ Insert into a 2D array (axis = 1 → Insert column)\n",
    "\n",
    "new_arr2 = np.insert(arr, 1, [7, 7], axis=1)  # Insert a new column at index 1\n",
    "\n",
    "print(new_arr2)"
   ]
  },
  {
   "cell_type": "code",
   "execution_count": null,
   "metadata": {},
   "outputs": [
    {
     "name": "stdout",
     "output_type": "stream",
     "text": [
      "[10 20 99 30 40]\n"
     ]
    },
    {
     "data": {
      "text/plain": [
       "array([[10],\n",
       "       [20],\n",
       "       [99],\n",
       "       [30],\n",
       "       [40]])"
      ]
     },
     "execution_count": 8,
     "metadata": {},
     "output_type": "execute_result"
    }
   ],
   "source": [
    "# 5️⃣ Insert without axis (Flattens array first)\n",
    "\n",
    "new_arr3 = np.insert(arr, 2, 99)  # No axis → treats as 1D array , 99 at index 2\n",
    "\n",
    "print(new_arr3)"
   ]
  },
  {
   "cell_type": "markdown",
   "metadata": {},
   "source": [
    "<pre>\n",
    "🔹 Key Takeaways\n",
    "✅ Does not modify the original array\n",
    "✅ axis=0 → Insert row\n",
    "✅ axis=1 → Insert column\n",
    "✅ axis=None → Flattens first\n",
    "</pre>"
   ]
  }
 ],
 "metadata": {
  "kernelspec": {
   "display_name": "Python 3",
   "language": "python",
   "name": "python3"
  },
  "language_info": {
   "codemirror_mode": {
    "name": "ipython",
    "version": 3
   },
   "file_extension": ".py",
   "mimetype": "text/x-python",
   "name": "python",
   "nbconvert_exporter": "python",
   "pygments_lexer": "ipython3",
   "version": "3.13.2"
  }
 },
 "nbformat": 4,
 "nbformat_minor": 2
}
