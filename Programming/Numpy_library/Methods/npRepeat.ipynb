{
 "cells": [
  {
   "cell_type": "markdown",
   "id": "73eafc4b",
   "metadata": {},
   "source": [
    "[Understanding `np.repeat` from this docs](https://numpy.org/doc/stable/reference/generated/numpy.repeat.html)"
   ]
  },
  {
   "cell_type": "code",
   "execution_count": 2,
   "id": "32670070",
   "metadata": {},
   "outputs": [
    {
     "name": "stdout",
     "output_type": "stream",
     "text": [
      "[[1 2]\n",
      " [3 4]\n",
      " [3 4]]\n"
     ]
    }
   ],
   "source": [
    "# Example 1: Repeating rows unequally\n",
    "import numpy as np\n",
    "x = np.array([[1, 2],\n",
    "              [3, 4]])\n",
    "\n",
    "# Repeat row 0 once, row 1 twice\n",
    "repeated = np.repeat(x, [1, 2], axis=0)\n",
    "print(repeated)\n"
   ]
  },
  {
   "cell_type": "code",
   "execution_count": 8,
   "id": "08a5194b",
   "metadata": {},
   "outputs": [
    {
     "name": "stdout",
     "output_type": "stream",
     "text": [
      "[[1 2 2]\n",
      " [3 4 4]]\n"
     ]
    }
   ],
   "source": [
    "# Example 2: Repeating columns unequally\n",
    "\n",
    "x = np.array([[1, 2],\n",
    "              [3, 4]])\n",
    "\n",
    "# Repeat col 0 once, col 1 twice\n",
    "repeated_cols = np.repeat(x, [1, 2], axis=1)\n",
    "print(repeated_cols)"
   ]
  },
  {
   "cell_type": "code",
   "execution_count": 5,
   "id": "76578fbf",
   "metadata": {},
   "outputs": [
    {
     "name": "stdout",
     "output_type": "stream",
     "text": [
      "[1 2 2 3 4 4 4]\n"
     ]
    }
   ],
   "source": [
    "# 🔹 Cell 4: Flattened Repeat (Default axis=None)\n",
    "# 🔧 Example 3: Repeat all elements after flattening\n",
    "\n",
    "x = np.array([[1, 2],\n",
    "              [3, 4]])\n",
    "\n",
    "repeated_flat = np.repeat(x, [1, 2, 1, 3])\n",
    "print(repeated_flat)"
   ]
  }
 ],
 "metadata": {
  "kernelspec": {
   "display_name": "Python 3",
   "language": "python",
   "name": "python3"
  },
  "language_info": {
   "codemirror_mode": {
    "name": "ipython",
    "version": 3
   },
   "file_extension": ".py",
   "mimetype": "text/x-python",
   "name": "python",
   "nbconvert_exporter": "python",
   "pygments_lexer": "ipython3",
   "version": "3.13.2"
  }
 },
 "nbformat": 4,
 "nbformat_minor": 5
}
