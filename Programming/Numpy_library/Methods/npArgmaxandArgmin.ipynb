{
 "cells": [
  {
   "cell_type": "markdown",
   "id": "d94bb50a",
   "metadata": {},
   "source": [
    "[See this video to understand `np.argmax` and `np.argmin` method](https://www.youtube.com/live/jFBpnd0G09o?si=WiDjBsBVMXJTRU57&t=1767)"
   ]
  },
  {
   "cell_type": "code",
   "execution_count": 10,
   "id": "025d77b6",
   "metadata": {},
   "outputs": [
    {
     "name": "stdout",
     "output_type": "stream",
     "text": [
      "6\n",
      "[[0 1 2 3 4]\n",
      " [5 6 7 8 9]]\n"
     ]
    },
    {
     "data": {
      "text/plain": [
       "array([4, 4])"
      ]
     },
     "execution_count": 10,
     "metadata": {},
     "output_type": "execute_result"
    }
   ],
   "source": [
    "import numpy as np\n",
    "\n",
    "print(np.argmax([1, 2, 3, 4, 5,6,7]))\n",
    "\n",
    "arr = np.arange(10).reshape(2, 5)\n",
    "\n",
    "print(arr)\n",
    "np.argmax(arr, axis=1)"
   ]
  },
  {
   "cell_type": "code",
   "execution_count": null,
   "id": "492ac141",
   "metadata": {},
   "outputs": [
    {
     "name": "stdout",
     "output_type": "stream",
     "text": [
      "0\n"
     ]
    }
   ],
   "source": [
    "# argmin is opposite\n",
    "\n",
    "print(np.argmin([1, 2, 3, 4, 5,6,7]))\n",
    "\n"
   ]
  }
 ],
 "metadata": {
  "kernelspec": {
   "display_name": "Python 3",
   "language": "python",
   "name": "python3"
  },
  "language_info": {
   "codemirror_mode": {
    "name": "ipython",
    "version": 3
   },
   "file_extension": ".py",
   "mimetype": "text/x-python",
   "name": "python",
   "nbconvert_exporter": "python",
   "pygments_lexer": "ipython3",
   "version": "3.13.2"
  }
 },
 "nbformat": 4,
 "nbformat_minor": 5
}
