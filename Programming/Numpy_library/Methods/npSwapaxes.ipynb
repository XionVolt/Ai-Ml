{
 "cells": [
  {
   "cell_type": "code",
   "execution_count": 5,
   "id": "962d4dfb",
   "metadata": {},
   "outputs": [
    {
     "name": "stdout",
     "output_type": "stream",
     "text": [
      "[[1 3]\n",
      " [2 4]]\n"
     ]
    }
   ],
   "source": [
    "# swapaxes\n",
    "# It interchanges (swaps) the two specified axes of an array, without changing the data — just how it's viewed.\n",
    "\n",
    "import numpy as np\n",
    "arr = np.array([[1, 2],\n",
    "                [3, 4]])\n",
    "\n",
    "swapped = np.swapaxes(arr, 0, 1) # same as arr.T\n",
    "# Original shape = (2, 2)\n",
    "# swapaxes(0, 1) = swap rows and columns → like a transpose\n",
    "print(swapped)"
   ]
  },
  {
   "cell_type": "code",
   "execution_count": null,
   "id": "79898862",
   "metadata": {},
   "outputs": [
    {
     "name": "stdout",
     "output_type": "stream",
     "text": [
      "Before swapping\n",
      " [[[1 2]\n",
      "  [3 4]]\n",
      "\n",
      " [[5 6]\n",
      "  [7 8]]] \n",
      "\n",
      "-------------------------------------------\n",
      "After swapping\n",
      " [[[1 5]\n",
      "  [3 7]]\n",
      "\n",
      " [[2 6]\n",
      "  [4 8]]]\n",
      "Original shape: (2, 2, 2)\n",
      "Swapped shape: (2, 2, 2)\n"
     ]
    }
   ],
   "source": [
    "# 🔹 Cell 3: 3D Example — More Useful Case\n",
    "\n",
    "arr3d = np.array([\n",
    "    [[1, 2], [3, 4]],\n",
    "    [[5, 6], [7, 8]]\n",
    "])  # shape = (2, 2, 2)\n",
    "\n",
    "print('Before swapping\\n',arr3d,'\\n')\n",
    "print('-------------------------------------------')\n",
    "\"\"\" 📌 Explanation:\n",
    "Input Shape = (2, 2, 2)\n",
    "We swap axis 0 and 2.\n",
    "\n",
    "Before:\n",
    "Axis 0: 2 blocks\n",
    "Axis 1: 2 rows\n",
    "Axis 2: 2 columns\n",
    "\n",
    "After swapping axis 0 & 2:\n",
    "Shape becomes (2, 2, 2) still, but axes are reordered.\n",
    "\n",
    "\n",
    "It means:\n",
    "\"Swap axis 0 (blocks) with axis 2 (columns)\"\n",
    "In other words, we are rotating the structure so that what used to be blocks becomes columns, and what used to be columns becomes blocks.\n",
    "\n",
    "\n",
    "\n",
    "\n",
    " \"\"\"\n",
    "\n",
    "swapped3d = np.swapaxes(arr3d, 0,2)\n",
    "print('After swapping\\n'  ,swapped3d)\n",
    "print(\"Original shape:\", arr3d.shape)\n",
    "print(\"Swapped shape:\", swapped3d.shape)\n"
   ]
  }
 ],
 "metadata": {
  "kernelspec": {
   "display_name": "Python 3",
   "language": "python",
   "name": "python3"
  },
  "language_info": {
   "codemirror_mode": {
    "name": "ipython",
    "version": 3
   },
   "file_extension": ".py",
   "mimetype": "text/x-python",
   "name": "python",
   "nbconvert_exporter": "python",
   "pygments_lexer": "ipython3",
   "version": "3.13.2"
  }
 },
 "nbformat": 4,
 "nbformat_minor": 5
}
