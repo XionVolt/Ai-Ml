{
 "cells": [
  {
   "cell_type": "markdown",
   "metadata": {},
   "source": [
    "[See this video for understanding](https://youtu.be/eClQWW_gbFk?si=ed8IV7X_j4TpXSPX&t=5837)"
   ]
  },
  {
   "cell_type": "code",
   "execution_count": 2,
   "metadata": {},
   "outputs": [
    {
     "name": "stdout",
     "output_type": "stream",
     "text": [
      "[ 1  2  3  4  5  6  7  9 10]\n"
     ]
    }
   ],
   "source": [
    "import numpy as np\n",
    "gar = np.array([1, 2, 3, 4, 5, 6, 7,10,10 ,9]) \n",
    "print(np.unique(gar)) # so with removing duplicates it also sorts the array"
   ]
  },
  {
   "cell_type": "code",
   "execution_count": 3,
   "metadata": {},
   "outputs": [
    {
     "name": "stdout",
     "output_type": "stream",
     "text": [
      "['a' 'b' 'c']\n"
     ]
    }
   ],
   "source": [
    "alphabets = np.array(['b','b','a','a','c','c'])\n",
    "print(np.unique(alphabets)) # also sorts"
   ]
  },
  {
   "cell_type": "code",
   "execution_count": 4,
   "metadata": {},
   "outputs": [
    {
     "name": "stdout",
     "output_type": "stream",
     "text": [
      "(array(['a', 'b', 'c'], dtype='<U1'), array([1, 1, 0, 0, 2, 2]))\n",
      "['a' 'b' 'c']\n",
      "[2 0 4]\n"
     ]
    }
   ],
   "source": [
    "print(np.unique(alphabets,return_inverse=True)) # this explained in next cell of next cell\n",
    "\n",
    "chars,indices = np.unique(alphabets,return_index=True) # return index also, of sorted elements first occurence\n",
    "print(chars)\n",
    "print(indices)"
   ]
  },
  {
   "cell_type": "code",
   "execution_count": null,
   "metadata": {},
   "outputs": [
    {
     "name": "stdout",
     "output_type": "stream",
     "text": [
      "(array(['a', 'b', 'c'], dtype='<U1'), array([2, 0, 4]))\n",
      "[2 0 4]\n",
      "[0 2 4]\n",
      "['b' 'a' 'c']\n"
     ]
    }
   ],
   "source": [
    "# remove duplicates, but let's say we wanna keep order same \n",
    "\n",
    "unique = np.array(['b','b','a','a','c','c'])\n",
    "uniqueness = np.unique(unique,return_index=True)\n",
    "print(uniqueness)\n",
    "print(uniqueness[1]) # means  first item of uniqueness comes from index 2 , second item of uniqueness comes from index 0, third item of uniqueness comes from index 4\n",
    "print(np.sort(uniqueness[1]))\n",
    "unique = unique[np.sort(uniqueness[1])]\n",
    "print(unique) # reorder the elements in the same order they occur"
   ]
  },
  {
   "cell_type": "code",
   "execution_count": null,
   "metadata": {},
   "outputs": [
    {
     "name": "stdout",
     "output_type": "stream",
     "text": [
      "[0 1 0 3 5 4 4 0 3 2]\n"
     ]
    },
    {
     "data": {
      "text/plain": [
       "' \\nNow, the inverse array [0, 1, 0, 3, 5, 4, 4, 0, 3, 2] means:\\n\\nThe 1st row of locs ([0,0,0]) → Index 0 in unique_locs.\\n\\nThe 2nd row of locs ([1,1,2]) → Index 1 in unique_locs.\\n\\nThe 3rd row of locs ([0,0,0]) → Index 0 in unique_locs.\\n\\nThe 4th row of locs ([2,1,3]) → Index 3 in unique_locs.\\n\\nThe 5th row of locs ([5,5,4]) → Index 5 in unique_locs.\\n\\nThe 6th row of locs ([5,0,0]) → Index 4 in unique_locs.\\n\\nThe 7th row of locs ([5,0,0]) → Index 4 in unique_locs.\\n\\nThe 8th row of locs ([0,0,0]) → Index 0 in unique_locs.\\n\\nThe 9th row of locs ([2,1,3]) → Index 3 in unique_locs.\\n\\nThe 10th row of locs ([1,3,1]) → Index 2 in unique_locs.\\n '"
      ]
     },
     "execution_count": 6,
     "metadata": {},
     "output_type": "execute_result"
    }
   ],
   "source": [
    "\n",
    "# Understanding `return_inverse` param\n",
    "locs = np.array([\n",
    "    [0,0,0],\n",
    "    [1,1,2],\n",
    "    [0,0,0],\n",
    "    [2,1,3],\n",
    "    [5,5,4],\n",
    "    [5,0,0],\n",
    "    [5,0,0],\n",
    "    [0,0,0],\n",
    "    [2,1,3],\n",
    "    [1,3,1]\n",
    "])\n",
    "\n",
    "\n",
    "print(np.unique(locs,axis=0,return_inverse=True)[1])\n",
    "\n",
    "unique_locs = [\n",
    "    [0, 0, 0],  # Index 0\n",
    "    [1, 1, 2],  # Index 1\n",
    "    [1, 3, 1],  # Index 2\n",
    "    [2, 1, 3],  # Index 3\n",
    "    [5, 0, 0],  # Index 4\n",
    "    [5, 5, 4]   # Index 5\n",
    "]\n",
    "\n",
    "# np.unique does sorting here lexicographically\n",
    "\"\"\" Lexicographic sorting means it compares row elements from left to right, similar to how words are sorted in a dictionary.\n",
    "\n",
    "First, it sorts based on the first column.\n",
    "\n",
    "If there are ties in the first column, it then sorts based on the second column.\n",
    "\n",
    "If there's still a tie, it sorts based on the third column.\n",
    "\"\"\"\n",
    "\n",
    "\"\"\" \n",
    "Before sorting, it remove duplicates:\n",
    "\n",
    "[0,0,0]\n",
    "[1,1,2]\n",
    "[1,3,1]\n",
    "[2,1,3]\n",
    "[5,0,0]\n",
    "[5,5,4]\n",
    " \"\"\"\n",
    "\n",
    "# then : \n",
    "\"\"\" Step 2: Sort Lexicographically\n",
    "Sorting is done column by column:\n",
    "\n",
    "1. First column:\n",
    "\n",
    "\n",
    "0 → [0,0,0]\n",
    "1 → [1,1,2], [1,3,1]\n",
    "2 → [2,1,3]\n",
    "5 → [5,0,0], [5,5,4]\n",
    "\n",
    "2. For same first-column values, sort by second column:\n",
    "\n",
    "1,1,2 vs 1,3,1 → 1,1,2 comes first.\n",
    "\n",
    "5,0,0 vs 5,5,4 → 5,0,0 comes first.\n",
    "\n",
    "3. Final sorted unique array:\n",
    "\n",
    "\n",
    "[\n",
    "    [0, 0, 0],  # Index 0\n",
    "    [1, 1, 2],  # Index 1\n",
    "    [1, 3, 1],  # Index 2\n",
    "    [2, 1, 3],  # Index 3\n",
    "    [5, 0, 0],  # Index 4\n",
    "    [5, 5, 4]   # Index 5\n",
    "]\n",
    "\n",
    " \"\"\"\n",
    "\n",
    "\n",
    "# And this is why np.unique(locs, axis=0, return_inverse=True)[1] returns:\n",
    "# [0, 1, 0, 3, 5, 4, 4, 0, 3, 2]\n",
    "# Each row in locs is mapped to its lexicographically sorted unique index.\n",
    "# ---------------------------------------------------\n",
    "\n",
    "\"\"\" \n",
    "# return_inverse\n",
    "Now, the inverse array [0, 1, 0, 3, 5, 4, 4, 0, 3, 2] means:\n",
    "\n",
    "The 1st row of locs ([0,0,0]) → Index 0 in unique_locs.\n",
    "\n",
    "The 2nd row of locs ([1,1,2]) → Index 1 in unique_locs.\n",
    "\n",
    "The 3rd row of locs ([0,0,0]) → Index 0 in unique_locs.\n",
    "\n",
    "The 4th row of locs ([2,1,3]) → Index 3 in unique_locs.\n",
    "\n",
    "The 5th row of locs ([5,5,4]) → Index 5 in unique_locs.\n",
    "\n",
    "The 6th row of locs ([5,0,0]) → Index 4 in unique_locs.\n",
    "\n",
    "The 7th row of locs ([5,0,0]) → Index 4 in unique_locs.\n",
    "\n",
    "The 8th row of locs ([0,0,0]) → Index 0 in unique_locs.\n",
    "\n",
    "The 9th row of locs ([2,1,3]) → Index 3 in unique_locs.\n",
    "\n",
    "The 10th row of locs ([1,3,1]) → Index 2 in unique_locs.\n",
    " \"\"\"\n",
    "\n"
   ]
  },
  {
   "cell_type": "code",
   "execution_count": null,
   "metadata": {},
   "outputs": [
    {
     "name": "stdout",
     "output_type": "stream",
     "text": [
      "Unique Rows:\n",
      "[[0 0 0]\n",
      " [1 1 2]\n",
      " [1 3 1]\n",
      " [2 1 3]\n",
      " [5 0 0]\n",
      " [5 5 4]]\n",
      "\n",
      "Inverse Mapping (Original -> Unique):\n",
      "[0 1 0 3 5 4 4 0 3 2]\n",
      "\n",
      "Reconstructed Original from Unique:\n",
      "[[0 0 0]\n",
      " [1 1 2]\n",
      " [0 0 0]\n",
      " [2 1 3]\n",
      " [5 5 4]\n",
      " [5 0 0]\n",
      " [5 0 0]\n",
      " [0 0 0]\n",
      " [2 1 3]\n",
      " [1 3 1]]\n"
     ]
    }
   ],
   "source": [
    "\n",
    "\n",
    "# What can be done with this `return_inverse` param, we can reconstruct the original array\n",
    "\n",
    "unique_locs, inverse = np.unique(locs, axis=0, return_inverse=True)\n",
    "\n",
    "print(\"Unique Rows:\")\n",
    "print(unique_locs)\n",
    "\n",
    "print(\"\\nInverse Mapping (Original -> Unique):\")\n",
    "print(inverse)\n",
    "\n",
    "print(\"\\nReconstructed Original from Unique:\")\n",
    "print(unique_locs[inverse])"
   ]
  }
 ],
 "metadata": {
  "kernelspec": {
   "display_name": "Python 3",
   "language": "python",
   "name": "python3"
  },
  "language_info": {
   "codemirror_mode": {
    "name": "ipython",
    "version": 3
   },
   "file_extension": ".py",
   "mimetype": "text/x-python",
   "name": "python",
   "nbconvert_exporter": "python",
   "pygments_lexer": "ipython3",
   "version": "3.13.2"
  }
 },
 "nbformat": 4,
 "nbformat_minor": 2
}
