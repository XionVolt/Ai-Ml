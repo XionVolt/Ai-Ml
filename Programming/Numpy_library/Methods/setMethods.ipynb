{
 "cells": [
  {
   "cell_type": "markdown",
   "id": "dde12da2",
   "metadata": {},
   "source": [
    "[Understand Set Functions in Numpy](https://www.youtube.com/live/jFBpnd0G09o?si=zJ7iBXbGtM1nQlEV&t=3781)"
   ]
  },
  {
   "cell_type": "code",
   "execution_count": 8,
   "id": "841da2c4",
   "metadata": {},
   "outputs": [
    {
     "name": "stdout",
     "output_type": "stream",
     "text": [
      "[False False  True  True  True]\n"
     ]
    },
    {
     "data": {
      "text/plain": [
       "array([3, 4, 5])"
      ]
     },
     "execution_count": 8,
     "metadata": {},
     "output_type": "execute_result"
    }
   ],
   "source": [
    "import numpy as np\n",
    "\n",
    "arr = np.array([1, 2, 3, 4, 5])\n",
    "arr2 = np.array([3,4,5, 9, 10])\n",
    "indexes = np.isin(arr, arr2)\n",
    "print(indexes)\n",
    "arr[indexes]"
   ]
  },
  {
   "cell_type": "code",
   "execution_count": null,
   "id": "31acc6e1",
   "metadata": {},
   "outputs": [],
   "source": [
    "# np.intersect1d is a function in NumPy that returns the sorted, unique values that are present in both of the input arrays.\n",
    "# It is useful for finding common elements between two arrays.\n",
    "a = np.array([ 2, 3, 5, 7])\n",
    "b = np.array([ 4, 5, 5, 7])\n",
    "result = np.intersect1d(a, b)\n",
    "print(result)  # This will output the common elements between a and b.\n",
    "# The function will return the values that are present in both arrays, which in this case would be [5, 7].\n",
    "# The result is sorted and unique, meaning that if there are duplicates in the input arrays, they will only appear once in the output.\n",
    "\n",
    "# np.intersect1d is particularly useful in data analysis and scientific computing when you need to find common elements between datasets or arrays."
   ]
  },
  {
   "cell_type": "code",
   "execution_count": null,
   "id": "a3e19e4e",
   "metadata": {},
   "outputs": [],
   "source": [
    "# All excercises related to this in a google collab \n",
    "# Exercise -> https://www.youtube.com/live/Ssy1EfK5S-o?si=U-3ZrUzzi7haOEpf&t=3907"
   ]
  },
  {
   "cell_type": "code",
   "execution_count": 32,
   "id": "347c8047",
   "metadata": {},
   "outputs": [
    {
     "data": {
      "application/vnd.microsoft.datawrangler.viewer.v0+json": {
       "columns": [
        {
         "name": "index",
         "rawType": "int64",
         "type": "integer"
        },
        {
         "name": "Emp_ID",
         "rawType": "int64",
         "type": "integer"
        },
        {
         "name": "Emp_Name",
         "rawType": "object",
         "type": "string"
        },
        {
         "name": "Manager_ID",
         "rawType": "float64",
         "type": "float"
        }
       ],
       "conversionMethod": "pd.DataFrame",
       "ref": "1f14493f-c77c-4f70-87ca-db98b0dc9901",
       "rows": [
        [
         "0",
         "1",
         "Alice",
         null
        ],
        [
         "1",
         "2",
         "Bob",
         "1.0"
        ],
        [
         "2",
         "3",
         "Charlie",
         "1.0"
        ],
        [
         "3",
         "4",
         "David",
         "2.0"
        ]
       ],
       "shape": {
        "columns": 3,
        "rows": 4
       }
      },
      "text/html": [
       "<div>\n",
       "<style scoped>\n",
       "    .dataframe tbody tr th:only-of-type {\n",
       "        vertical-align: middle;\n",
       "    }\n",
       "\n",
       "    .dataframe tbody tr th {\n",
       "        vertical-align: top;\n",
       "    }\n",
       "\n",
       "    .dataframe thead th {\n",
       "        text-align: right;\n",
       "    }\n",
       "</style>\n",
       "<table border=\"1\" class=\"dataframe\">\n",
       "  <thead>\n",
       "    <tr style=\"text-align: right;\">\n",
       "      <th></th>\n",
       "      <th>Emp_ID</th>\n",
       "      <th>Emp_Name</th>\n",
       "      <th>Manager_ID</th>\n",
       "    </tr>\n",
       "  </thead>\n",
       "  <tbody>\n",
       "    <tr>\n",
       "      <th>0</th>\n",
       "      <td>1</td>\n",
       "      <td>Alice</td>\n",
       "      <td>NaN</td>\n",
       "    </tr>\n",
       "    <tr>\n",
       "      <th>1</th>\n",
       "      <td>2</td>\n",
       "      <td>Bob</td>\n",
       "      <td>1.0</td>\n",
       "    </tr>\n",
       "    <tr>\n",
       "      <th>2</th>\n",
       "      <td>3</td>\n",
       "      <td>Charlie</td>\n",
       "      <td>1.0</td>\n",
       "    </tr>\n",
       "    <tr>\n",
       "      <th>3</th>\n",
       "      <td>4</td>\n",
       "      <td>David</td>\n",
       "      <td>2.0</td>\n",
       "    </tr>\n",
       "  </tbody>\n",
       "</table>\n",
       "</div>"
      ],
      "text/plain": [
       "   Emp_ID Emp_Name  Manager_ID\n",
       "0       1    Alice         NaN\n",
       "1       2      Bob         1.0\n",
       "2       3  Charlie         1.0\n",
       "3       4    David         2.0"
      ]
     },
     "execution_count": 32,
     "metadata": {},
     "output_type": "execute_result"
    }
   ],
   "source": [
    "# self-join -> https://www.youtube.com/live/Ssy1EfK5S-o?si=rhj0U4eLKqv-31uT&t=5567\n",
    "# give a suitable example for self-join\n",
    "# self-join is a join operation where a table is joined with itself. This is useful when you want to compare rows within the same table or when you need to relate data in a hierarchical manner.\n",
    "# For example, in a table of employees, you might want to find pairs of employees who work in the same department.\n",
    "# In this case, you would join the employee table with itself on the department column to find all pairs of employees who share the same department.\n",
    "# This can be done using a self-join, where the table is aliased to create two instances of it, allowing you to compare rows within the same table.\n",
    "# Example:\n",
    "import pandas as pd\n",
    "df_employeeAndComp = pd.DataFrame({\n",
    "    'Emp_ID': [1, 2, 3, 4],\n",
    "    'Emp_Name': ['Alice', 'Bob', 'Charlie', 'David'],\n",
    "    'Manager_ID': [None, 1, 1, 2]  # employee 2 & 3 report to Alice, 4 reports to Bob\n",
    "})\n",
    "df_employeeAndComp"
   ]
  },
  {
   "cell_type": "code",
   "execution_count": 31,
   "id": "2cf4e3d0",
   "metadata": {},
   "outputs": [
    {
     "data": {
      "application/vnd.microsoft.datawrangler.viewer.v0+json": {
       "columns": [
        {
         "name": "index",
         "rawType": "int64",
         "type": "integer"
        },
        {
         "name": "Emp_ID",
         "rawType": "int64",
         "type": "integer"
        },
        {
         "name": "Emp_Name",
         "rawType": "object",
         "type": "string"
        },
        {
         "name": "Manager_ID",
         "rawType": "float64",
         "type": "float"
        },
        {
         "name": "Emp_ID_Manager",
         "rawType": "int64",
         "type": "integer"
        },
        {
         "name": "Manager_Name",
         "rawType": "object",
         "type": "string"
        },
        {
         "name": "Manager_ID_Manager",
         "rawType": "float64",
         "type": "float"
        }
       ],
       "conversionMethod": "pd.DataFrame",
       "ref": "a58a60ca-cb54-43da-bbbf-d427692cc7f5",
       "rows": [
        [
         "0",
         "2",
         "Bob",
         "1.0",
         "1",
         "Alice",
         null
        ],
        [
         "1",
         "3",
         "Charlie",
         "1.0",
         "1",
         "Alice",
         null
        ],
        [
         "2",
         "4",
         "David",
         "2.0",
         "2",
         "Bob",
         "1.0"
        ]
       ],
       "shape": {
        "columns": 6,
        "rows": 3
       }
      },
      "text/html": [
       "<div>\n",
       "<style scoped>\n",
       "    .dataframe tbody tr th:only-of-type {\n",
       "        vertical-align: middle;\n",
       "    }\n",
       "\n",
       "    .dataframe tbody tr th {\n",
       "        vertical-align: top;\n",
       "    }\n",
       "\n",
       "    .dataframe thead th {\n",
       "        text-align: right;\n",
       "    }\n",
       "</style>\n",
       "<table border=\"1\" class=\"dataframe\">\n",
       "  <thead>\n",
       "    <tr style=\"text-align: right;\">\n",
       "      <th></th>\n",
       "      <th>Emp_ID</th>\n",
       "      <th>Emp_Name</th>\n",
       "      <th>Manager_ID</th>\n",
       "      <th>Emp_ID_Manager</th>\n",
       "      <th>Manager_Name</th>\n",
       "      <th>Manager_ID_Manager</th>\n",
       "    </tr>\n",
       "  </thead>\n",
       "  <tbody>\n",
       "    <tr>\n",
       "      <th>0</th>\n",
       "      <td>2</td>\n",
       "      <td>Bob</td>\n",
       "      <td>1.0</td>\n",
       "      <td>1</td>\n",
       "      <td>Alice</td>\n",
       "      <td>NaN</td>\n",
       "    </tr>\n",
       "    <tr>\n",
       "      <th>1</th>\n",
       "      <td>3</td>\n",
       "      <td>Charlie</td>\n",
       "      <td>1.0</td>\n",
       "      <td>1</td>\n",
       "      <td>Alice</td>\n",
       "      <td>NaN</td>\n",
       "    </tr>\n",
       "    <tr>\n",
       "      <th>2</th>\n",
       "      <td>4</td>\n",
       "      <td>David</td>\n",
       "      <td>2.0</td>\n",
       "      <td>2</td>\n",
       "      <td>Bob</td>\n",
       "      <td>1.0</td>\n",
       "    </tr>\n",
       "  </tbody>\n",
       "</table>\n",
       "</div>"
      ],
      "text/plain": [
       "   Emp_ID Emp_Name  Manager_ID  Emp_ID_Manager Manager_Name  \\\n",
       "0       2      Bob         1.0               1        Alice   \n",
       "1       3  Charlie         1.0               1        Alice   \n",
       "2       4    David         2.0               2          Bob   \n",
       "\n",
       "   Manager_ID_Manager  \n",
       "0                 NaN  \n",
       "1                 NaN  \n",
       "2                 1.0  "
      ]
     },
     "execution_count": 31,
     "metadata": {},
     "output_type": "execute_result"
    }
   ],
   "source": [
    "# Self-Join to Get Managers' Names\n",
    "# We want to add a column showing each employee’s Manager’s Name, by joining the table with itself.\n",
    "# Self join: left is employee, right is manager\n",
    "df_with_mgr = df_employeeAndComp.merge(df_employeeAndComp, how='inner',\n",
    "                       left_on='Manager_ID', right_on='Emp_ID',\n",
    "                       suffixes=('', '_Manager'))\n",
    "# suffixes are used to differentiate between the columns from the left and right tables in the merged DataFrame.\n",
    "\n",
    "# Select relevant columns\n",
    "\n",
    "df_with_mgr.rename(columns={'Emp_Name_Manager': 'Manager_Name'})\n",
    "\n",
    "# 🔥 Now we have each employee matched with their manager’s name!"
   ]
  }
 ],
 "metadata": {
  "kernelspec": {
   "display_name": "Python 3",
   "language": "python",
   "name": "python3"
  },
  "language_info": {
   "codemirror_mode": {
    "name": "ipython",
    "version": 3
   },
   "file_extension": ".py",
   "mimetype": "text/x-python",
   "name": "python",
   "nbconvert_exporter": "python",
   "pygments_lexer": "ipython3",
   "version": "3.13.2"
  }
 },
 "nbformat": 4,
 "nbformat_minor": 5
}
