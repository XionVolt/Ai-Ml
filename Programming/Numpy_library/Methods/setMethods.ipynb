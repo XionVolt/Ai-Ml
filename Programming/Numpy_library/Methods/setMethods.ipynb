{
 "cells": [
  {
   "cell_type": "markdown",
   "id": "dde12da2",
   "metadata": {},
   "source": [
    "[Understand Set Functions in Numpy](https://www.youtube.com/live/jFBpnd0G09o?si=zJ7iBXbGtM1nQlEV&t=3781)"
   ]
  },
  {
   "cell_type": "code",
   "execution_count": 8,
   "id": "841da2c4",
   "metadata": {},
   "outputs": [
    {
     "name": "stdout",
     "output_type": "stream",
     "text": [
      "[False False  True  True  True]\n"
     ]
    },
    {
     "data": {
      "text/plain": [
       "array([3, 4, 5])"
      ]
     },
     "execution_count": 8,
     "metadata": {},
     "output_type": "execute_result"
    }
   ],
   "source": [
    "import numpy as np\n",
    "\n",
    "arr = np.array([1, 2, 3, 4, 5])\n",
    "arr2 = np.array([3,4,5, 9, 10])\n",
    "indexes = np.isin(arr, arr2)\n",
    "print(indexes)\n",
    "arr[indexes]"
   ]
  }
 ],
 "metadata": {
  "kernelspec": {
   "display_name": "Python 3",
   "language": "python",
   "name": "python3"
  },
  "language_info": {
   "codemirror_mode": {
    "name": "ipython",
    "version": 3
   },
   "file_extension": ".py",
   "mimetype": "text/x-python",
   "name": "python",
   "nbconvert_exporter": "python",
   "pygments_lexer": "ipython3",
   "version": "3.13.2"
  }
 },
 "nbformat": 4,
 "nbformat_minor": 5
}
