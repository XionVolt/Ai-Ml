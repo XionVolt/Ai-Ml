{
 "cells": [
  {
   "cell_type": "markdown",
   "metadata": {},
   "source": [
    "## Key differences between np.where and np.argwhere:\n",
    "- np.where(condition) returns indices as a list of arrays.\n",
    "\n",
    "- np.argwhere(condition) returns indices as a 2D array with shape (n, 1), useful for multi-dimensional cases.\n",
    "\n",
    "- np.where(condition, x, y) based on the condition put it in given matrice , if condition is true x value will be put, if false y value will be put"
   ]
  },
  {
   "cell_type": "code",
   "execution_count": null,
   "metadata": {},
   "outputs": [
    {
     "name": "stdout",
     "output_type": "stream",
     "text": [
      "(array([2, 3, 4]),)\n"
     ]
    }
   ],
   "source": [
    "# Example:\n",
    "# https://www.youtube.com/live/jFBpnd0G09o?si=AyYd1vhC9MH-QNNf&t=1521\n",
    "\n",
    "import numpy as np\n",
    "\n",
    "arr = np.array([10, 20, 30, 40, 50])\n",
    "\n",
    "# Replace values greater than 25 with 100, and others with 0\n",
    "result = np.where(arr > 25)\n",
    "print(result)  # [  0   0 100 100 100]\n"
   ]
  },
  {
   "cell_type": "code",
   "execution_count": 7,
   "metadata": {},
   "outputs": [
    {
     "name": "stdout",
     "output_type": "stream",
     "text": [
      "[10 20 30  4  5]\n"
     ]
    }
   ],
   "source": [
    "# Another Example (Using Two Arrays):\n",
    "\n",
    "a = np.array([1, 2, 3, 4, 5])\n",
    "b = np.array([10, 20, 30, 40, 50])\n",
    "\n",
    "# If condition is True, take value from `a`, else take from `b`\n",
    "result = np.where(a > 3, a, b)\n",
    "print(result)  # [10 20 30  4  5]"
   ]
  },
  {
   "cell_type": "code",
   "execution_count": 8,
   "metadata": {},
   "outputs": [
    {
     "name": "stdout",
     "output_type": "stream",
     "text": [
      "np.argwhere indices:\n",
      " [[2]\n",
      " [3]\n",
      " [4]]\n"
     ]
    }
   ],
   "source": [
    "# np.argwhere example\n",
    "\n",
    "argwhere_indices = np.argwhere(arr > 25) # see it returns `n x 1`  \n",
    "print(\"np.argwhere indices:\\n\", argwhere_indices)  # [[2] [3] [4]]"
   ]
  },
  {
   "cell_type": "markdown",
   "metadata": {},
   "source": [
    "[One more example](https://youtu.be/eClQWW_gbFk?si=v2Pj3_Vo-YBLEmqm&t=4857)"
   ]
  }
 ],
 "metadata": {
  "kernelspec": {
   "display_name": "Python 3",
   "language": "python",
   "name": "python3"
  },
  "language_info": {
   "codemirror_mode": {
    "name": "ipython",
    "version": 3
   },
   "file_extension": ".py",
   "mimetype": "text/x-python",
   "name": "python",
   "nbconvert_exporter": "python",
   "pygments_lexer": "ipython3",
   "version": "3.13.2"
  }
 },
 "nbformat": 4,
 "nbformat_minor": 2
}
