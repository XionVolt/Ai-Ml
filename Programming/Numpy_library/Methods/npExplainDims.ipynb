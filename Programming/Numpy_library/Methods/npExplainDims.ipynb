{
 "cells": [
  {
   "cell_type": "markdown",
   "id": "ea0ca176",
   "metadata": {},
   "source": [
    "[Understand `np.expand_dims` through this video clip](https://www.youtube.com/live/jFBpnd0G09o?si=jv7j8THwzDp_NZNc&t=1207)\\\n",
    "[Where it is used](https://www.youtube.com/live/jFBpnd0G09o?si=jv7j8THwzDp_NZNc&t=1207)"
   ]
  },
  {
   "cell_type": "code",
   "execution_count": 12,
   "id": "a5e2e812",
   "metadata": {},
   "outputs": [
    {
     "name": "stdout",
     "output_type": "stream",
     "text": [
      "[[0 1 2 3 4 5 6 7 8]]\n",
      "\n",
      "[[0]\n",
      " [1]\n",
      " [2]\n",
      " [3]\n",
      " [4]\n",
      " [5]\n",
      " [6]\n",
      " [7]\n",
      " [8]]\n"
     ]
    }
   ],
   "source": [
    "import numpy as np\n",
    "a = np.arange(9)\n",
    "print(np.expand_dims(a,axis=0))\n",
    "print()\n",
    "print(np.expand_dims(a,axis=1))\n"
   ]
  }
 ],
 "metadata": {
  "kernelspec": {
   "display_name": "Python 3",
   "language": "python",
   "name": "python3"
  },
  "language_info": {
   "codemirror_mode": {
    "name": "ipython",
    "version": 3
   },
   "file_extension": ".py",
   "mimetype": "text/x-python",
   "name": "python",
   "nbconvert_exporter": "python",
   "pygments_lexer": "ipython3",
   "version": "3.13.2"
  }
 },
 "nbformat": 4,
 "nbformat_minor": 5
}
