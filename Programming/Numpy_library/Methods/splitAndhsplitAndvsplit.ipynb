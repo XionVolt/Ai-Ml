{
 "cells": [
  {
   "cell_type": "markdown",
   "id": "fe4d3d66",
   "metadata": {},
   "source": [
    "## [Example of when we need to split data](https://www.youtube.com/live/XF6DCrNTzug?si=CvZ232GU4QNiCmkR&t=7065)"
   ]
  },
  {
   "cell_type": "code",
   "execution_count": 2,
   "id": "912216b5",
   "metadata": {},
   "outputs": [],
   "source": [
    "import numpy as np\n"
   ]
  },
  {
   "cell_type": "code",
   "execution_count": 3,
   "id": "a1c0ee47",
   "metadata": {},
   "outputs": [
    {
     "name": "stdout",
     "output_type": "stream",
     "text": [
      "[[ 0  1  2  3]\n",
      " [ 4  5  6  7]\n",
      " [ 8  9 10 11]]\n"
     ]
    }
   ],
   "source": [
    "import numpy as np\n",
    "\n",
    "a = np.arange(12).reshape(3, 4)\n",
    "print(a)"
   ]
  },
  {
   "cell_type": "code",
   "execution_count": 4,
   "id": "a8dba876",
   "metadata": {},
   "outputs": [
    {
     "name": "stdout",
     "output_type": "stream",
     "text": [
      "Part 0:\n",
      "[[0 1]\n",
      " [4 5]\n",
      " [8 9]]\n",
      "Part 1:\n",
      "[[ 2  3]\n",
      " [ 6  7]\n",
      " [10 11]]\n"
     ]
    },
    {
     "data": {
      "text/plain": [
       "[array([[0, 1],\n",
       "        [4, 5],\n",
       "        [8, 9]]),\n",
       " array([[ 2,  3],\n",
       "        [ 6,  7],\n",
       "        [10, 11]])]"
      ]
     },
     "execution_count": 4,
     "metadata": {},
     "output_type": "execute_result"
    }
   ],
   "source": [
    "# Split along axis=1 (columns)\n",
    "split_result = np.split(a, 2, axis=1)\n",
    "for i, arr in enumerate(split_result): print(f\"Part {i}:\\n{arr}\")\n",
    "split_result\n"
   ]
  },
  {
   "cell_type": "markdown",
   "id": "d575e36c",
   "metadata": {},
   "source": [
    "## 🔹 Explanation:\n",
    "- np.split(array, sections, axis) splits equally into number of sections.\n",
    "\n",
    "- Here, axis=1 means we're splitting columns.\n",
    "\n",
    "- Matrix must be divisible: 4 cols ÷ 2 = 2 cols per part(section).\n",
    "\n",
    "- You get a list of 2 arrays of shape (3, 2)."
   ]
  },
  {
   "cell_type": "code",
   "execution_count": 5,
   "id": "6b4c2f8f",
   "metadata": {},
   "outputs": [
    {
     "data": {
      "text/plain": [
       "[array([[0, 1],\n",
       "        [4, 5],\n",
       "        [8, 9]]),\n",
       " array([[ 2,  3],\n",
       "        [ 6,  7],\n",
       "        [10, 11]])]"
      ]
     },
     "execution_count": 5,
     "metadata": {},
     "output_type": "execute_result"
    }
   ],
   "source": [
    "# np.hsplit() (Horizontal Split)\n",
    "np.hsplit(a, 2)\n"
   ]
  },
  {
   "cell_type": "markdown",
   "id": "26cff31d",
   "metadata": {},
   "source": [
    "## 🔹 Explanation:\n",
    "- np.hsplit() = horizontal split = split along columns (axis=1).\n",
    "\n",
    "- Equivalent to np.split(a, 2, axis=1).\n",
    "\n",
    "- Easier and more readable than split() for column splits.\n",
    "\n"
   ]
  },
  {
   "cell_type": "code",
   "execution_count": 6,
   "id": "a077d49a",
   "metadata": {},
   "outputs": [
    {
     "name": "stdout",
     "output_type": "stream",
     "text": [
      "Part 0:\n",
      "[[0 1 2 3]]\n",
      "Part 1:\n",
      "[[4 5 6 7]]\n",
      "Part 2:\n",
      "[[ 8  9 10 11]]\n"
     ]
    },
    {
     "data": {
      "text/plain": [
       "[array([[0, 1, 2, 3]]), array([[4, 5, 6, 7]]), array([[ 8,  9, 10, 11]])]"
      ]
     },
     "execution_count": 6,
     "metadata": {},
     "output_type": "execute_result"
    }
   ],
   "source": [
    "# np.vsplit() (Vertical Split)\n",
    "vsplit_result = np.vsplit(a, 3)\n",
    "for i, arr in enumerate(vsplit_result): print(f\"Part {i}:\\n{arr}\")\n",
    "vsplit_result"
   ]
  },
  {
   "cell_type": "markdown",
   "id": "f56eba82",
   "metadata": {},
   "source": [
    "## 🔹 Explanation:\n",
    "- np.vsplit() = vertical split = split along rows (axis=0).\n",
    "\n",
    "- a has 3 rows → can split into 3 equal parts.\n",
    "\n",
    "- Each part is of shape (1, 4).\n"
   ]
  },
  {
   "cell_type": "code",
   "execution_count": 7,
   "id": "4b194051",
   "metadata": {},
   "outputs": [
    {
     "name": "stdout",
     "output_type": "stream",
     "text": [
      "Original Array:\n",
      "[[ 0  1  2  3]\n",
      " [ 4  5  6  7]\n",
      " [ 8  9 10 11]] \n",
      "\n",
      "Part 0:\n",
      "[[0]\n",
      " [4]\n",
      " [8]]\n",
      "Part 1:\n",
      "[[1]\n",
      " [5]\n",
      " [9]]\n",
      "Part 2:\n",
      "[[ 2]\n",
      " [ 6]\n",
      " [10]]\n",
      "Part 3:\n",
      "[[ 3]\n",
      " [ 7]\n",
      " [11]]\n"
     ]
    },
    {
     "data": {
      "text/plain": [
       "[array([[0],\n",
       "        [4],\n",
       "        [8]]),\n",
       " array([[1],\n",
       "        [5],\n",
       "        [9]]),\n",
       " array([[ 2],\n",
       "        [ 6],\n",
       "        [10]]),\n",
       " array([[ 3],\n",
       "        [ 7],\n",
       "        [11]])]"
      ]
     },
     "execution_count": 7,
     "metadata": {},
     "output_type": "execute_result"
    }
   ],
   "source": [
    "# Unequal Split (Using array_split)\n",
    "print('Original Array:')\n",
    "print(a , '\\n')\n",
    "# Works even if not divisible equally\n",
    "unequal = np.array_split(a, 4, axis=1)\n",
    "for i, arr in enumerate(unequal): print(f\"Part {i}:\\n{arr}\")\n",
    "unequal"
   ]
  },
  {
   "cell_type": "markdown",
   "id": "9abce0c3",
   "metadata": {},
   "source": [
    "## 🔹 Explanation:\n",
    "- array_split allows unequal sections.\n",
    "- If array can't be divided exactly, it distributes columns(or vice-versa) as evenly as possible."
   ]
  }
 ],
 "metadata": {
  "kernelspec": {
   "display_name": "Python 3",
   "language": "python",
   "name": "python3"
  },
  "language_info": {
   "codemirror_mode": {
    "name": "ipython",
    "version": 3
   },
   "file_extension": ".py",
   "mimetype": "text/x-python",
   "name": "python",
   "nbconvert_exporter": "python",
   "pygments_lexer": "ipython3",
   "version": "3.13.2"
  }
 },
 "nbformat": 4,
 "nbformat_minor": 5
}
