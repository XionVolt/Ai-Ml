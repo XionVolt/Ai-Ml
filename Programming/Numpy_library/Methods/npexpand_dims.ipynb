{
 "cells": [
  {
   "cell_type": "markdown",
   "id": "ea0ca176",
   "metadata": {},
   "source": [
    "[Understand `np.expand_dims` through this video clip](https://www.youtube.com/live/jFBpnd0G09o?si=jv7j8THwzDp_NZNc&t=1207)\\\n",
    "[Where it is used](https://www.youtube.com/live/jFBpnd0G09o?si=jv7j8THwzDp_NZNc&t=1207)"
   ]
  },
  {
   "cell_type": "code",
   "execution_count": null,
   "id": "f6e40dfb",
   "metadata": {},
   "outputs": [],
   "source": [
    "\"\"\" np.expand_dims is a NumPy function used to add a new axis (dimension) to an existing array at a specified position. \n",
    "This is super helpful when you need to reshape arrays for operations like broadcasting, feeding data into ML models, \n",
    "or aligning dimensions for stacking. \"\"\"\n",
    "\n",
    "\"\"\" a: The input array.\n",
    "\n",
    "axis: The position in the shape where you want to add the new axis (starts from 0). It must be within the range [-a.ndim - 1, a.ndim]. \"\"\"\n",
    "\n"
   ]
  },
  {
   "cell_type": "code",
   "execution_count": 21,
   "id": "a5e2e812",
   "metadata": {},
   "outputs": [
    {
     "name": "stdout",
     "output_type": "stream",
     "text": [
      "(3,)\n",
      "(1, 3)\n",
      "(3, 1)\n"
     ]
    }
   ],
   "source": [
    "import numpy as np\n",
    "\n",
    "arr = np.array([1, 2, 3])\n",
    "print(arr.shape)  # (3,)\n",
    "\n",
    "expanded = np.expand_dims(arr, axis=0)\n",
    "print(expanded.shape)  # (1, 3)\n",
    "\n",
    "expanded2 = np.expand_dims(arr, axis=1)\n",
    "print(expanded2.shape)  # (3, 1)\n",
    "\n",
    "# axis=0 → adds a new first dimension → shape becomes (1, 3)\n",
    "# axis=1 → adds a new second dimension → shape becomes (3, 1)"
   ]
  },
  {
   "cell_type": "code",
   "execution_count": 38,
   "id": "344968e5",
   "metadata": {},
   "outputs": [
    {
     "name": "stdout",
     "output_type": "stream",
     "text": [
      "(2, 2)\n",
      "(2, 2, 1)\n"
     ]
    }
   ],
   "source": [
    "# 🧠 Example 2: From 2D to 3D\n",
    "\n",
    "arr = np.array([[1, 2], [3, 4]])\n",
    "print(arr.shape)  # (2, 2)\n",
    "\n",
    "expanded7 = np.expand_dims(arr, axis=2)\n",
    "print(expanded7.shape)  # (2, 2, 1)\n",
    "\n",
    "\n"
   ]
  }
 ],
 "metadata": {
  "kernelspec": {
   "display_name": "Python 3",
   "language": "python",
   "name": "python3"
  },
  "language_info": {
   "codemirror_mode": {
    "name": "ipython",
    "version": 3
   },
   "file_extension": ".py",
   "mimetype": "text/x-python",
   "name": "python",
   "nbconvert_exporter": "python",
   "pygments_lexer": "ipython3",
   "version": "3.13.2"
  }
 },
 "nbformat": 4,
 "nbformat_minor": 5
}
