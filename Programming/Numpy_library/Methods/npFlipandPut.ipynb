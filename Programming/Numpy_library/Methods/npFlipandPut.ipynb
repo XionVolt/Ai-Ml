{
 "cells": [
  {
   "cell_type": "markdown",
   "id": "345fd269",
   "metadata": {},
   "source": [
    "[Understand `np.flip` through this video](https://www.youtube.com/live/jFBpnd0G09o?si=vDLI2eko1UhMczdM&t=3327)"
   ]
  },
  {
   "cell_type": "code",
   "execution_count": 1,
   "id": "c986ba43",
   "metadata": {},
   "outputs": [
    {
     "data": {
      "text/plain": [
       "array([7, 5, 2, 1, 7, 1])"
      ]
     },
     "execution_count": 1,
     "metadata": {},
     "output_type": "execute_result"
    }
   ],
   "source": [
    "import numpy as np \n",
    "a = [1,7,1,2,5,7]\n",
    "np.flip(a)"
   ]
  },
  {
   "cell_type": "code",
   "execution_count": 2,
   "id": "fcf09540",
   "metadata": {},
   "outputs": [
    {
     "name": "stdout",
     "output_type": "stream",
     "text": [
      "[[6 5 4]\n",
      " [3 2 1]]\n",
      "[[4 5 6]\n",
      " [1 2 3]]\n",
      "[[3 2 1]\n",
      " [6 5 4]]\n"
     ]
    }
   ],
   "source": [
    "# flp both row wise and col wise a matrix\n",
    "a = np.array([[1,2,3]\n",
    "            ,[4,5,6]])\n",
    "print(np.flip(a)) # both row wise and column wise\n",
    "print(np.flip(a, axis=0))\n",
    "print(np.flip(a, axis=1))"
   ]
  },
  {
   "cell_type": "markdown",
   "id": "5c6f5e41",
   "metadata": {},
   "source": [
    "[Understand `np.put` through this video](https://www.youtube.com/live/jFBpnd0G09o?si=A-wNtW8KGAUcmhJX&t=3477)"
   ]
  },
  {
   "cell_type": "code",
   "execution_count": 20,
   "id": "edf5d1fb",
   "metadata": {},
   "outputs": [
    {
     "name": "stdout",
     "output_type": "stream",
     "text": [
      "[[0 1]\n",
      " [2 3]\n",
      " [4 5]\n",
      " [6 7]\n",
      " [8 9]]\n",
      "[[ 7 77]\n",
      " [88  3]\n",
      " [ 4  5]\n",
      " [ 6  7]\n",
      " [ 8 99]]\n"
     ]
    }
   ],
   "source": [
    "a = np.arange(10).reshape(5,2)\n",
    "print(a)\n",
    "np.put(a,ind=[1,2,-1,0],v=[77,88,99,7])\n",
    "print(a)"
   ]
  }
 ],
 "metadata": {
  "kernelspec": {
   "display_name": "Python 3",
   "language": "python",
   "name": "python3"
  },
  "language_info": {
   "codemirror_mode": {
    "name": "ipython",
    "version": 3
   },
   "file_extension": ".py",
   "mimetype": "text/x-python",
   "name": "python",
   "nbconvert_exporter": "python",
   "pygments_lexer": "ipython3",
   "version": "3.13.2"
  }
 },
 "nbformat": 4,
 "nbformat_minor": 5
}
