{
 "cells": [
  {
   "cell_type": "markdown",
   "id": "d81e37d1",
   "metadata": {},
   "source": [
    "[Understand `np.percentile` in python](https://www.youtube.com/live/jFBpnd0G09o?si=C5o5eFW1SgW1edrD&t=2447)\n",
    "\n",
    "[Percentile formula](https://www.youtube.com/live/jFBpnd0G09o?si=k-nTgKipCdS1GXHl&t=2577)\n",
    "```math\n",
    "P = (n/N) * 100\n",
    "```\n",
    "***Percentile(x) = (Number of values fall under ‘x’/total number of values) × 100***\n",
    "\n",
    "Example: \n",
    "1. The given data is not sorted. So first sort the data in ascending order.\n",
    "2. Sorted data: 50, 56, 60, 70, 75, 80, 80, 100\n",
    "3. Number of values fall under 80 (n) = 5\n",
    "4. Total count of values (N) = 8\n",
    "5. Percentile = (n/N) × 100\n",
    "= (5/8) × 100\\\n",
    "= 62.5\\\n",
    "\n",
    "The percentile of value 80 for the given population is 62.5\n",
    "\n",
    "----\n",
    "[For more go to GeeksForGeeks](https://www.geeksforgeeks.org/percentile-formula/)\n",
    "\n",
    "[See Where it is Used](https://www.youtube.com/live/jFBpnd0G09o?si=TIqDYfUw40m3rZ0h&t=2617)"
   ]
  },
  {
   "cell_type": "code",
   "execution_count": 11,
   "id": "f9b87e0a",
   "metadata": {},
   "outputs": [
    {
     "name": "stdout",
     "output_type": "stream",
     "text": [
      "5.5\n",
      "1.0\n",
      "10.0\n"
     ]
    }
   ],
   "source": [
    "import numpy as np\n",
    "\n",
    "a = np.array([7,5, 2, 3, 4, 10, 6, 8, 9,1])\n",
    "print(np.percentile(a, 50)) # means 5.5 in this array is an element, in which half of the elements are before it and half of the elements are after it,numerically \n",
    "print(np.percentile(a, 0)) # means all elements in the input array are after the element `1.0`\n",
    "print(np.percentile(a, 100)) # means all elements in the input array are before the element `10.0`"
   ]
  }
 ],
 "metadata": {
  "kernelspec": {
   "display_name": "Python 3",
   "language": "python",
   "name": "python3"
  },
  "language_info": {
   "codemirror_mode": {
    "name": "ipython",
    "version": 3
   },
   "file_extension": ".py",
   "mimetype": "text/x-python",
   "name": "python",
   "nbconvert_exporter": "python",
   "pygments_lexer": "ipython3",
   "version": "3.13.2"
  }
 },
 "nbformat": 4,
 "nbformat_minor": 5
}
