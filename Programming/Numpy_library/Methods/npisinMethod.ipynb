{
 "cells": [
  {
   "cell_type": "markdown",
   "id": "07a58417",
   "metadata": {},
   "source": [
    "[Understand `np.isin` from this video](https://www.youtube.com/live/jFBpnd0G09o?si=CZfhIEfn413x5ycp&t=3197)"
   ]
  },
  {
   "cell_type": "code",
   "execution_count": 5,
   "id": "65347bf8",
   "metadata": {},
   "outputs": [
    {
     "data": {
      "text/plain": [
       "array([9, 6, 6, 8, 5, 7, 8, 2, 0, 3])"
      ]
     },
     "execution_count": 5,
     "metadata": {},
     "output_type": "execute_result"
    }
   ],
   "source": [
    "import numpy as np\n",
    "rng = np.random.default_rng(7)\n",
    "a = rng.integers(0,10,size=10)\n",
    "a\n"
   ]
  },
  {
   "cell_type": "code",
   "execution_count": null,
   "id": "231c1d90",
   "metadata": {},
   "outputs": [
    {
     "name": "stdout",
     "output_type": "stream",
     "text": [
      "[ True False False  True  True  True  True  True  True  True]\n"
     ]
    },
    {
     "data": {
      "text/plain": [
       "array([9, 8, 5, 7, 8, 2, 0, 3])"
      ]
     },
     "execution_count": 28,
     "metadata": {},
     "output_type": "execute_result"
    }
   ],
   "source": [
    "items = [7,11, 22, 8, 4, 5, 9, 2, 0, 3]\n",
    "\n",
    "print(np.isin(a,items)) # if we do `invert=`True` then it will opposite the result\n",
    "a[np.isin(a,items)] # will tell all those elements of `a` that are present in `items` also"
   ]
  }
 ],
 "metadata": {
  "kernelspec": {
   "display_name": "Python 3",
   "language": "python",
   "name": "python3"
  },
  "language_info": {
   "codemirror_mode": {
    "name": "ipython",
    "version": 3
   },
   "file_extension": ".py",
   "mimetype": "text/x-python",
   "name": "python",
   "nbconvert_exporter": "python",
   "pygments_lexer": "ipython3",
   "version": "3.13.2"
  }
 },
 "nbformat": 4,
 "nbformat_minor": 5
}
