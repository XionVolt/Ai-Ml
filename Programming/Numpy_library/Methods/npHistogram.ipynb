{
 "cells": [
  {
   "cell_type": "markdown",
   "id": "c5092938",
   "metadata": {},
   "source": [
    "[Understand `np.historam()`](https://www.youtube.com/live/jFBpnd0G09o?si=KjQUlIwAbUGN7uXw&t=2657)"
   ]
  },
  {
   "cell_type": "code",
   "execution_count": null,
   "id": "87b1cce0",
   "metadata": {},
   "outputs": [],
   "source": [
    "import numpy as np"
   ]
  }
 ],
 "metadata": {
  "language_info": {
   "name": "python"
  }
 },
 "nbformat": 4,
 "nbformat_minor": 5
}
