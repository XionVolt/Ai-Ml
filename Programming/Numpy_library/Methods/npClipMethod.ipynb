{
 "cells": [
  {
   "cell_type": "code",
   "execution_count": null,
   "id": "53320af8",
   "metadata": {},
   "outputs": [],
   "source": [
    "\"\"\" 🧠 What is np.clip?\n",
    "np.clip(array, min, max) is a NumPy function that limits the values in an array to a given range.\n",
    "\n",
    "- Any value less than min is set to min\n",
    "\n",
    "- Any value greater than max is set to max\n",
    "\n",
    "- Values between min and max are unchanged \"\"\""
   ]
  },
  {
   "cell_type": "code",
   "execution_count": 4,
   "id": "3e4fa5da",
   "metadata": {},
   "outputs": [
    {
     "name": "stdout",
     "output_type": "stream",
     "text": [
      "[ 0  1  2  3  4  5  6  7  8  9 10]\n"
     ]
    },
    {
     "data": {
      "text/plain": [
       "array([1, 1, 2, 3, 4, 5, 6, 7, 7, 7, 7])"
      ]
     },
     "execution_count": 4,
     "metadata": {},
     "output_type": "execute_result"
    }
   ],
   "source": [
    "# example\n",
    "import numpy as np\n",
    "a = np.arange(11)\n",
    "print(a)\n",
    "np.clip(a,1,7)"
   ]
  }
 ],
 "metadata": {
  "kernelspec": {
   "display_name": "Python 3",
   "language": "python",
   "name": "python3"
  },
  "language_info": {
   "codemirror_mode": {
    "name": "ipython",
    "version": 3
   },
   "file_extension": ".py",
   "mimetype": "text/x-python",
   "name": "python",
   "nbconvert_exporter": "python",
   "pygments_lexer": "ipython3",
   "version": "3.13.2"
  }
 },
 "nbformat": 4,
 "nbformat_minor": 5
}
