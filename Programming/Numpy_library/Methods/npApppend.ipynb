{
 "cells": [
  {
   "cell_type": "markdown",
   "id": "e5500e6a",
   "metadata": {},
   "source": [
    "- array   : [array_like]Input array. \n",
    "- values  : [array_like]values to be added in the arr. Values should be \n",
    "     shaped so that arr[...,obj,...] = values. If the axis is defined values can be of any\n",
    "     shape as it will be flattened before use.\n",
    "- axis    : Axis along which we want to insert the values. By default, array\n",
    "     is flattened. \n",
    "\n",
    "\n",
    "- returns : [ndarray] An copy of array with values appended to the end of the array.   "
   ]
  },
  {
   "cell_type": "code",
   "execution_count": 2,
   "id": "ba9b3a97",
   "metadata": {},
   "outputs": [
    {
     "name": "stdout",
     "output_type": "stream",
     "text": [
      "1D arr1 :  [0 1 2 3 4]\n",
      "Shape :  (5,)\n",
      "\n",
      "1D arr2 :  [ 8  9 10 11]\n",
      "Shape :  (4,)\n",
      "\n",
      "Appended arr3 :  [ 0  1  2  3  4  8  9 10 11]\n"
     ]
    }
   ],
   "source": [
    "# numpy.append() \n",
    "\n",
    "import numpy as np \n",
    "\n",
    "#Working on 1D \n",
    "arr1 = np.arange(5) \n",
    "print(\"1D arr1 : \", arr1) \n",
    "print(\"Shape : \", arr1.shape) \n",
    "\n",
    "\n",
    "arr2 = np.arange(8, 12) \n",
    "print(\"\\n1D arr2 : \", arr2) \n",
    "print(\"Shape : \", arr2.shape) \n",
    "\n",
    "\n",
    "# appending the arrays \n",
    "arr3 = np.append(arr1, arr2) \n",
    "print(\"\\nAppended arr3 : \", arr3) \n"
   ]
  },
  {
   "cell_type": "code",
   "execution_count": 5,
   "id": "c8b9bd34",
   "metadata": {},
   "outputs": [
    {
     "name": "stdout",
     "output_type": "stream",
     "text": [
      "2D arr1 : \n",
      " [[0 1 2 3]\n",
      " [4 5 6 7]]\n",
      "Shape :  (2, 4)\n",
      "\n",
      "2D arr2 : \n",
      " [[ 8  9 10 11]\n",
      " [12 13 14 15]]\n",
      "Shape :  (2, 4)\n",
      "\n",
      "Appended arr3 by flattened :  [ 0  1  2  3  4  5  6  7  8  9 10 11 12 13 14 15]\n",
      "\n",
      "Appended arr3 with axis 0 : \n",
      " [[ 0  1  2  3]\n",
      " [ 4  5  6  7]\n",
      " [ 8  9 10 11]\n",
      " [12 13 14 15]]\n",
      "\n",
      "Appended arr3 with axis 1 : \n",
      " [[ 0  1  2  3  8  9 10 11]\n",
      " [ 4  5  6  7 12 13 14 15]]\n"
     ]
    }
   ],
   "source": [
    "# axis\n",
    "\n",
    "#Working on 1D \n",
    "arr1 = np.arange(8).reshape(2, 4) \n",
    "print(\"2D arr1 : \\n\", arr1) \n",
    "print(\"Shape : \", arr1.shape) \n",
    "\n",
    "\n",
    "arr2 = np.arange(8, 16).reshape(2, 4) \n",
    "print(\"\\n2D arr2 : \\n\", arr2) \n",
    "print(\"Shape : \", arr2.shape) \n",
    "\n",
    "\n",
    "# appending the arrays \n",
    "arr3 = np.append(arr1, arr2) \n",
    "print(\"\\nAppended arr3 by flattened : \", arr3) \n",
    "\n",
    "# appending the arrays with axis = 0 \n",
    "arr3 = np.append(arr1, arr2, axis = 0) \n",
    "print(\"\\nAppended arr3 with axis 0 : \\n\", arr3) \n",
    "\n",
    "# appending the arrays with axis = 1 \n",
    "arr3 = np.append(arr1, arr2, axis = 1) \n",
    "print(\"\\nAppended arr3 with axis 1 : \\n\", arr3) "
   ]
  },
  {
   "cell_type": "code",
   "execution_count": 37,
   "id": "906db2bd",
   "metadata": {},
   "outputs": [
    {
     "name": "stdout",
     "output_type": "stream",
     "text": [
      "[[ 0.  1.  2.  3.]\n",
      " [ 4.  5.  6.  7.]\n",
      " [ 8.  9. 10. 11.]\n",
      " [12. 13. 14. 15.]\n",
      " [ 1.  1.  1.  1.]]\n",
      "[[ 0.  1.  2.  3.  1.]\n",
      " [ 4.  5.  6.  7.  1.]\n",
      " [ 8.  9. 10. 11.  1.]\n",
      " [12. 13. 14. 15.  1.]]\n",
      "\n",
      "with concatenate\n",
      "[[ 0.  1.  2.  3.  1.]\n",
      " [ 4.  5.  6.  7.  1.]\n",
      " [ 8.  9. 10. 11.  1.]\n",
      " [12. 13. 14. 15.  1.]]\n",
      "[[ 0.  1.  2.  3.]\n",
      " [ 4.  5.  6.  7.]\n",
      " [ 8.  9. 10. 11.]\n",
      " [12. 13. 14. 15.]\n",
      " [ 1.  1.  1.  1.]]\n",
      "\n",
      "with vstack and hstack\n",
      "[[ 0.  1.  2.  3.]\n",
      " [ 4.  5.  6.  7.]\n",
      " [ 8.  9. 10. 11.]\n",
      " [12. 13. 14. 15.]\n",
      " [ 1.  1.  1.  1.]]\n",
      "[[ 0.  1.  2.  3.  1.]\n",
      " [ 4.  5.  6.  7.  1.]\n",
      " [ 8.  9. 10. 11.  1.]\n",
      " [12. 13. 14. 15.  1.]]\n"
     ]
    }
   ],
   "source": [
    "b = np.arange(16).reshape(4, 4)\n",
    "columnWiseAdd = np.ones((1,4))\n",
    "columnWiseAdd\n",
    "print(np.append(b,columnWiseAdd,axis=0))\n",
    "\n",
    "rowWiseAdd = np.ones((4,1))\n",
    "rowWiseAdd\n",
    "print(np.append(b,rowWiseAdd,axis=1))\n",
    "\n",
    "# -----------\n",
    "# same thing with concatenate\n",
    "print()\n",
    "print('with concatenate')\n",
    "print(np.concatenate((b,rowWiseAdd),axis=1))\n",
    "print(np.concatenate((b,columnWiseAdd),axis=0))\n",
    "print()\n",
    "# same thing with vstack and hstack\n",
    "print('with vstack and hstack')\n",
    "print(np.vstack((b,columnWiseAdd)))\n",
    "print(np.hstack((b,rowWiseAdd)))\n"
   ]
  }
 ],
 "metadata": {
  "kernelspec": {
   "display_name": "Python 3",
   "language": "python",
   "name": "python3"
  },
  "language_info": {
   "codemirror_mode": {
    "name": "ipython",
    "version": 3
   },
   "file_extension": ".py",
   "mimetype": "text/x-python",
   "name": "python",
   "nbconvert_exporter": "python",
   "pygments_lexer": "ipython3",
   "version": "3.13.2"
  }
 },
 "nbformat": 4,
 "nbformat_minor": 5
}
