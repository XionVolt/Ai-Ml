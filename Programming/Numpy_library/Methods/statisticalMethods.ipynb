{
 "cells": [
  {
   "cell_type": "code",
   "execution_count": 1,
   "id": "5de269dd",
   "metadata": {},
   "outputs": [
    {
     "data": {
      "text/plain": [
       "array([[94, 62, 68],\n",
       "       [89, 57, 77],\n",
       "       [83, 22,  5]])"
      ]
     },
     "execution_count": 1,
     "metadata": {},
     "output_type": "execute_result"
    }
   ],
   "source": [
    "import numpy as np\n",
    "rng = np.random.default_rng(7)\n",
    "arr = rng.integers(0,100,size=(3,3))\n",
    "arr"
   ]
  },
  {
   "cell_type": "code",
   "execution_count": 2,
   "id": "9732c5bb",
   "metadata": {},
   "outputs": [
    {
     "name": "stdout",
     "output_type": "stream",
     "text": [
      "61.888888888888886\n",
      "[88.66666667 47.         50.        ]\n",
      "[74.66666667 74.33333333 36.66666667]\n"
     ]
    }
   ],
   "source": [
    "# mean\n",
    "print(arr.mean())  # mean of all elements\n",
    "print(arr.mean(axis=0))  # mean of each column\n",
    "print(arr.mean(axis=1))  # mean of each row"
   ]
  },
  {
   "cell_type": "code",
   "execution_count": 3,
   "id": "dc86688c",
   "metadata": {},
   "outputs": [
    {
     "name": "stdout",
     "output_type": "stream",
     "text": [
      "68.0\n",
      "[89. 57. 68.]\n",
      "[68. 77. 22.]\n"
     ]
    }
   ],
   "source": [
    "# median, means first it sort each row or column and then take the middle value on given axis \n",
    "print(np.median(arr))  # median of all elements in this case, numPy flattens the array into a 1D list and then computes the median of that list.\n",
    "print(np.median(arr, axis=0))  # median of each column\n",
    "print(np.median(arr, axis=1))  # median of each row"
   ]
  },
  {
   "cell_type": "code",
   "execution_count": 12,
   "id": "cb085b09",
   "metadata": {},
   "outputs": [
    {
     "name": "stdout",
     "output_type": "stream",
     "text": [
      "4.898979485566356\n",
      "5.237229365663817\n"
     ]
    }
   ],
   "source": [
    "# ⚙️ NumPy Standard Deviation Functions\n",
    "# ✅ Basic usage:\n",
    "\n",
    "import numpy as np\n",
    "\n",
    "data = [10, 12, 23, 23, 16, 23, 21, 16]\n",
    "print(np.std(data))  # Population SD(population standard deviation) (default)\n",
    "\n",
    "# ✅ For sample SD(sample standard deviation), use ddof=1 (degrees of freedom = 1):\n",
    "print(np.std(data, ddof=1))  # Sample SD(sample standard deviation)\n",
    "# ddof=0 → divide by n → population SD\n",
    "\n",
    "# ddof=1 → divide by n-1 → sample SD\n",
    "\n"
   ]
  }
 ],
 "metadata": {
  "kernelspec": {
   "display_name": "Python 3",
   "language": "python",
   "name": "python3"
  },
  "language_info": {
   "codemirror_mode": {
    "name": "ipython",
    "version": 3
   },
   "file_extension": ".py",
   "mimetype": "text/x-python",
   "name": "python",
   "nbconvert_exporter": "python",
   "pygments_lexer": "ipython3",
   "version": "3.13.2"
  }
 },
 "nbformat": 4,
 "nbformat_minor": 5
}
