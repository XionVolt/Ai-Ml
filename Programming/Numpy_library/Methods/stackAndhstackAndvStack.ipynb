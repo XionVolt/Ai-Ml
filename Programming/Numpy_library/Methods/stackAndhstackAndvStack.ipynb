{
 "cells": [
  {
   "cell_type": "markdown",
   "metadata": {},
   "source": [
    "[See this video clip to understand these 3 methods](https://youtu.be/eClQWW_gbFk?si=ILFs-RL5tUghOEqJ&t=5340)"
   ]
  },
  {
   "cell_type": "code",
   "execution_count": null,
   "metadata": {},
   "outputs": [
    {
     "data": {
      "text/plain": [
       "array([['a', 'b'],\n",
       "       ['c', 'd'],\n",
       "       ['j', 'k'],\n",
       "       ['l', 'm']], dtype='<U1')"
      ]
     },
     "execution_count": 2,
     "metadata": {},
     "output_type": "execute_result"
    }
   ],
   "source": [
    "# np.vstack (vertical stacking) stacks arrays vertically along axis=0. This means it expects all input arrays to have the same number of columns (i.e., same second dimension for 2D arrays).\n",
    "# Its worth to note : vstack automatically converts 1D arrays into row vectors ((1, n)) before stacking, where n is the value of axis of other arrays, if other array is also 1d then, `n` is 2 \n",
    "\n",
    "# by vertical stacking, rows remains same, but columns are added to the resultant array.\n",
    "\n",
    "import numpy as np\n",
    "foo = np.array(['a', 'b'])\n",
    "bar = np.array(['c', 'd'])\n",
    "baz = np.array(['e', 'f'])\n",
    "bingo = np.array(['g', 'h', 'i'])\n",
    "bongo = np.array([\n",
    "    ['j', 'k'],\n",
    "    ['l', 'm']\n",
    "])\n",
    "bongos = np.array([\n",
    "    ['j', 'k'],\n",
    "    ['l', 'm']\n",
    "])\n",
    "\n",
    "np.vstack((foo, bar,bongo))"
   ]
  },
  {
   "cell_type": "code",
   "execution_count": 3,
   "metadata": {},
   "outputs": [
    {
     "name": "stdout",
     "output_type": "stream",
     "text": [
      "['a' 'b' 'c' 'd' 'e' 'f']\n"
     ]
    },
    {
     "data": {
      "text/plain": [
       "\" Why Does hstack([foo, bongo]) Throw an Error?\\nfoo is (2,) (i.e., (1,2) when stacked)\\n\\nbongo is (2,2)\\n\\nRow counts don't match (1 ≠ 2) \""
      ]
     },
     "execution_count": 3,
     "metadata": {},
     "output_type": "execute_result"
    }
   ],
   "source": [
    "# hstack\n",
    "\n",
    "# Non-Error scenario\n",
    "\"\"\" \n",
    "foo, bar, baz are 1D (2,), but NumPy treats them as (1,2)\n",
    "Since they all have 1 row, they stack fine → result shape (1, 6)\n",
    "\"\"\"\n",
    "\n",
    "\n",
    "print(np.hstack([foo, bar, baz]))\n",
    "\n",
    "\n",
    "# Erorr scenario\n",
    "\"\"\" Why Does hstack([foo, bongo]) Throw an Error?\n",
    "foo is (2,) (i.e., (1,2) when stacked)\n",
    "\n",
    "bongo is (2,2)\n",
    "\n",
    "Row counts don't match (1 ≠ 2) \"\"\"\n",
    "# np.hstack([foo, bongo])  #! Error\n"
   ]
  },
  {
   "cell_type": "code",
   "execution_count": 4,
   "metadata": {},
   "outputs": [
    {
     "name": "stdout",
     "output_type": "stream",
     "text": [
      "[[1 2 3]\n",
      " [4 5 6]]\n",
      "[[1 4]\n",
      " [2 5]\n",
      " [3 6]]\n"
     ]
    }
   ],
   "source": [
    "# np.stack join a sequence of arrays along a new axis, The axis parameter specifies the index of the new axis in the dimensions of the result\n",
    "\"\"\" Syntax\n",
    "np.stack(arrays, axis=0)\n",
    " \"\"\"\n",
    "\n",
    "\"\"\" Parameters\n",
    "1. arrays → A list/tuple of arrays with the same shape.\n",
    "2. axis (default = 0) → The axis in the result array along which the input arrays are stacked.. \n",
    "3. out -> The out parameter allows you to store the result in a preallocated array instead of creating a new one.\n",
    "\"\"\"\n",
    "\n",
    "\"\"\" \n",
    "np.stack() increases the dimensionality by introducing a new axis. If you start with:\n",
    "Means:\n",
    "1D arrays → Produces a 2D array\n",
    "\n",
    "2D arrays → Produces a 3D array\n",
    "\n",
    "3D arrays → Produces a 4D array, and so on.\n",
    " \"\"\"\n",
    "\n",
    "# The axis parameter decides where the new axis is added.\n",
    "\n",
    "\n",
    "a = np.array([1, 2, 3])  \n",
    "b = np.array([4, 5, 6])  \n",
    "\n",
    "# Preallocate an array of the correct shape\n",
    "out_array = np.empty((2,3), dtype=int)\n",
    "\n",
    "# Store the result in `out_array`\n",
    "\n",
    "# Example: axis=0 means a new dimension is added at index 0, and this means that the new axis is inserted at position 1 in the shape tuple.\n",
    "# The new axis is added in the resultant array's shape, not in the original arrays. The original arrays remain unchanged in memory.\n",
    "\n",
    "np.stack([a, b], out=out_array,axis=0)\n",
    "\n",
    "# Breaking It Down:\n",
    "\"\"\" \n",
    "Original arrays:\n",
    "- a: Shape (3,) → [1, 2, 3]\n",
    "- b: Shape (3,) → [4, 5, 6]\n",
    "- Resultant array after stack(axis=1):\n",
    "- New axis is added at index 1 in the resultant shape.\n",
    "- Resulting shape becomes (3,2), meaning:\n",
    "- 3 rows (from the original arrays)\n",
    "- 2 columns (one from a, one from b).\n",
    "\n",
    "- So we can also say Resulting shape depends on where the new axis is inserted.\n",
    " \"\"\"\n",
    "\n",
    "print(out_array)\n",
    "\n",
    "# here a and b array both get new axis, promoting them from 3, array to (3,1) and then they got stack along that new axis\n",
    "print(np.stack([a, b],axis=1)) # vs print(np.hstack([a,b])) # out: [1,2,3,4,5,6] , this is because np.stack introduce new axis every"
   ]
  }
 ],
 "metadata": {
  "kernelspec": {
   "display_name": "Python 3",
   "language": "python",
   "name": "python3"
  },
  "language_info": {
   "codemirror_mode": {
    "name": "ipython",
    "version": 3
   },
   "file_extension": ".py",
   "mimetype": "text/x-python",
   "name": "python",
   "nbconvert_exporter": "python",
   "pygments_lexer": "ipython3",
   "version": "3.13.2"
  }
 },
 "nbformat": 4,
 "nbformat_minor": 2
}
