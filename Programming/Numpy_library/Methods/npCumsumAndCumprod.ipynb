{
 "cells": [
  {
   "cell_type": "markdown",
   "id": "addd05cd",
   "metadata": {},
   "source": [
    "[See this video to understand `np.cumsum()` and `np.cumprod()`](https://youtu.be/0mMlYbYV3dY?si=7j5V7VQdFq9R7o9o&t=3)"
   ]
  },
  {
   "cell_type": "code",
   "execution_count": null,
   "id": "0e21765b",
   "metadata": {},
   "outputs": [
    {
     "data": {
      "text/plain": [
       "array([ 1,  3,  6, 10, 15])"
      ]
     },
     "execution_count": 7,
     "metadata": {},
     "output_type": "execute_result"
    }
   ],
   "source": [
    "import numpy as np\n",
    "\n",
    "# cumulative sum\n",
    "a = np.arange(1,6)\n",
    "np.cumsum(a) "
   ]
  },
  {
   "cell_type": "code",
   "execution_count": 10,
   "id": "60b586f4",
   "metadata": {},
   "outputs": [
    {
     "data": {
      "text/plain": [
       "array([  1,   2,   6,  24, 120])"
      ]
     },
     "execution_count": 10,
     "metadata": {},
     "output_type": "execute_result"
    }
   ],
   "source": [
    "# cumulative product\n",
    "np.cumprod(a)"
   ]
  },
  {
   "cell_type": "code",
   "execution_count": null,
   "id": "a9f67e6c",
   "metadata": {},
   "outputs": [
    {
     "name": "stdout",
     "output_type": "stream",
     "text": [
      "[[1 2 3]\n",
      " [4 5 6]]\n",
      "\n",
      "[[ 1  3  6]\n",
      " [ 4  9 15]]\n",
      "[[ 1  2  3]\n",
      " [ 4 10 18]]\n"
     ]
    }
   ],
   "source": [
    "# 2d array\n",
    "a = np.array([[1,2,3],\n",
    "             [4,5,6]])\n",
    "print(a)\n",
    "print()\n",
    "\n",
    "# if axis not specified it convert input array to 1d array\n",
    "print(np.cumsum(a,axis=1))\n",
    "print(np.cumprod(a, axis=0)) #"
   ]
  }
 ],
 "metadata": {
  "kernelspec": {
   "display_name": "Python 3",
   "language": "python",
   "name": "python3"
  },
  "language_info": {
   "codemirror_mode": {
    "name": "ipython",
    "version": 3
   },
   "file_extension": ".py",
   "mimetype": "text/x-python",
   "name": "python",
   "nbconvert_exporter": "python",
   "pygments_lexer": "ipython3",
   "version": "3.13.2"
  }
 },
 "nbformat": 4,
 "nbformat_minor": 5
}
