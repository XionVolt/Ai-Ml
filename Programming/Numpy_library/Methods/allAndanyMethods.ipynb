{
 "cells": [
  {
   "cell_type": "markdown",
   "metadata": {},
   "source": []
  },
  {
   "cell_type": "code",
   "execution_count": null,
   "metadata": {},
   "outputs": [
    {
     "name": "stdout",
     "output_type": "stream",
     "text": [
      "Checking entire array: False\n",
      "Checking column-wise (axis=0): [ True False]\n",
      "Using 'where' mask to selectively include elements: [ True False]\n",
      "Using 'where=False' (ignoring all elements): [ True  True]\n",
      "Checking entire array for any True values: True\n",
      "Checking column-wise (axis=0) for any True values: [ True False]\n",
      "Using 'where' mask to selectively include elements: [ True False]\n",
      "Using 'where=False' (ignoring all elements): [False False]\n"
     ]
    }
   ],
   "source": [
    "\"\"\" numpy.all (np.all)\n",
    "np.all checks if all elements in an array are True (or nonzero) along a specified axis.\n",
    "\n",
    "# The 'where' parameter allows you to selectively include or ignore elements when checking.\n",
    "\n",
    "numpy.all(a, axis=None, out=None, keepdims=False, where=True)\n",
    "\n",
    "Parameters:\n",
    "- a: Input array.\n",
    "- axis: Axis along which to perform the check. If None, checks the entire array.\n",
    "- out: Optional output array to store results.\n",
    "- keepdims: If True, retains reduced dimensions.\n",
    "- where: Boolean mask or condition to selectively include/exclude elements. If `where=False`, all elements are ignored, and `np.all` returns `True` by default. \n",
    "If `where` is a boolean array, only the `True` positions are considered.\n",
    "\n",
    "Returns:\n",
    "- True if all elements along the specified axis are True (or nonzero), False otherwise.\n",
    "\"\"\"\n",
    "\n",
    "import numpy as np\n",
    "\n",
    "# Example 1: Checking without specifying an axis (operates on the whole array)\n",
    "arr = np.array([[True, True],\n",
    "                [True, False]])\n",
    "print(\"Checking entire array:\", np.all(arr))  # Output: False (since one False exists)\n",
    "\n",
    "# Example 2: Checking along axis=0 (column-wise)\n",
    "print(\"Checking column-wise (axis=0):\", np.all(arr, axis=0))  # Output: [ True False ]\n",
    "\n",
    "# Example 3: Using 'where' to selectively include elements\n",
    "mask = np.array([[True, False],\n",
    "                 [True, True]])\n",
    "print(\"Using 'where' mask to selectively include elements:\", np.all(arr, axis=0, where=mask))  # Output: [ True False ]\n",
    "\n",
    "# Example 4: Using 'where=False' (ignoring all elements)\n",
    "print(\"Using 'where=False' (ignoring all elements):\", np.all(arr, axis=0, where=False))  # Output: [ True  True ]\n",
    "\n",
    "\n",
    "\"\"\" numpy.any (np.any)\n",
    "np.any checks if at least one element in an array is True (or nonzero) along a specified axis.\n",
    "\n",
    "numpy.any(a, axis=None, out=None, keepdims=False, where=True)\n",
    "\n",
    "Parameters:\n",
    "- a: Input array.\n",
    "- axis: Axis along which to perform the check. If None, checks the entire array.\n",
    "- out: Optional output array to store results.\n",
    "- keepdims: If True, retains reduced dimensions.\n",
    "- where: Boolean mask or condition to selectively include/exclude elements. If `where=False`, all elements are ignored, and `np.any` returns `False` by default. \n",
    "If `where` is a boolean array, only the `True` positions are considered.\n",
    "\n",
    "Returns:\n",
    "- True if at least one element along the specified axis is True (or nonzero), False otherwise.\n",
    "\"\"\"\n",
    "\n",
    "# Example 1: Checking if at least one True exists\n",
    "arr = np.array([[False, False],\n",
    "              [True, False]])\n",
    "print(\"Checking entire array for any True values:\", np.any(arr))  # Output: True (since at least one True exists)\n",
    "\n",
    "# Example 2: Checking along axis=0 (column-wise)\n",
    "print(\"Checking column-wise (axis=0) for any True values:\", np.any(arr, axis=0))  # Output: [ True False ]\n",
    "\n",
    "# Example 3: Using 'where' to selectively include elements\n",
    "mask = np.array([[False, True], \n",
    "                 [True, True]])\n",
    "print(\"Using 'where' mask to selectively include elements:\", np.any(arr, axis=0, where=mask))  # Output: [ True False ]\n",
    "\n",
    "# Example 4: Using 'where=False' (ignoring all elements)\n",
    "print(\"Using 'where=False' (ignoring all elements):\", np.any(arr, axis=0, where=False))  # Output: [ False  False ]"
   ]
  },
  {
   "cell_type": "code",
   "execution_count": 28,
   "metadata": {},
   "outputs": [
    {
     "name": "stdout",
     "output_type": "stream",
     "text": [
      "[ True False  True  True]\n",
      "[[nan 4.4]\n",
      " [nan nan]\n",
      " [0.1 nan]]\n"
     ]
    }
   ],
   "source": [
    "# one more example\n",
    "\n",
    "foo = np.array([\n",
    "    [np.nan, 4.4],\n",
    "    [1.0, 3.2],\n",
    "    [np.nan, np.nan],\n",
    "    [0.1, np.nan]\n",
    "])\n",
    "\n",
    "# Creating a mask using np.any\n",
    "mask = np.any(np.isnan(foo), axis=1)\n",
    "print(mask)\n",
    "# Print only those rows that contain atleast one NaN\n",
    "print(foo[mask])"
   ]
  }
 ],
 "metadata": {
  "kernelspec": {
   "display_name": "Python 3",
   "language": "python",
   "name": "python3"
  },
  "language_info": {
   "codemirror_mode": {
    "name": "ipython",
    "version": 3
   },
   "file_extension": ".py",
   "mimetype": "text/x-python",
   "name": "python",
   "nbconvert_exporter": "python",
   "pygments_lexer": "ipython3",
   "version": "3.13.2"
  }
 },
 "nbformat": 4,
 "nbformat_minor": 2
}
