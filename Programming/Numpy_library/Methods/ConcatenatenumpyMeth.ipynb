{
 "cells": [
  {
   "cell_type": "code",
   "execution_count": 3,
   "metadata": {},
   "outputs": [
    {
     "name": "stdout",
     "output_type": "stream",
     "text": [
      "Concatenating 1D arrays:\n",
      " [1 2 3 4 5 6]\n",
      "Concatenating 2D arrays along axis=0 (rows):\n",
      " [[1 2]\n",
      " [3 4]\n",
      " [5 6]\n",
      " [7 8]]\n",
      "Concatenating 2D arrays along axis=1 (columns):\n",
      " [[1 2 5 6]\n",
      " [3 4 7 8]]\n"
     ]
    }
   ],
   "source": [
    "import numpy as np\n",
    "\n",
    "\"\"\"\n",
    "numpy.concatenate\n",
    "np.concatenate() is used to join multiple arrays along a specified axis.\n",
    "\n",
    "Parameters:\n",
    "- arr1, arr2, ... : Tuple of arrays to concatenate.\n",
    "- axis : The axis along which to join arrays (default is 0).\n",
    "- out : Optional output array to store the result.\n",
    "- dtype : Specifies the desired data type of the result.\n",
    "- casting : Defines rules for casting between data types (default is 'same_kind').\n",
    "\n",
    "Returns:\n",
    "- Concatenated array. And change in array that is on 1st index\n",
    "\"\"\"\n",
    "\n",
    "# Example 1: Concatenating two 1D arrays\n",
    "arr1 = np.array([1, 2, 3])\n",
    "arr2 = np.array([4, 5, 6])\n",
    "result1 = np.concatenate((arr1, arr2))\n",
    "print(\"Concatenating 1D arrays:\\n\", result1)  # Output: [1 2 3 4 5 6]\n",
    "\n",
    "# Example 2: Concatenating two 2D arrays along axis=0 (rows)\n",
    "arr3 = np.array([[1, 2], \n",
    "                [3, 4]])\n",
    "arr4 = np.array([[5, 6], \n",
    "                [7, 8]])\n",
    "result2 = np.concatenate((arr3, arr4), axis=0) # default is also 0\n",
    "print(\"Concatenating 2D arrays along axis=0 (rows):\\n\", result2)\n",
    "\n",
    "# Example 3: Concatenating two 2D arrays along axis=1 (columns)\n",
    "\n",
    "\n",
    "arr5 = np.array([[1, 2],\n",
    "                [3, 4]])\n",
    "\n",
    "arr6 = np.array([[5, 6],\n",
    "                [7, 8]])\n",
    "result3 = np.concatenate((arr5, arr6), axis=1)\n",
    "# Note: Both arrays we concatenating should have same shape, excluding the axis through which we are concatenating\n",
    "print(\"Concatenating 2D arrays along axis=1 (columns):\\n\", result3)\n"
   ]
  },
  {
   "cell_type": "code",
   "execution_count": null,
   "metadata": {},
   "outputs": [
    {
     "data": {
      "text/plain": [
       "array([[1, 2, 5, 6],\n",
       "       [3, 4, 7, 8]])"
      ]
     },
     "execution_count": 5,
     "metadata": {},
     "output_type": "execute_result"
    }
   ],
   "source": []
  }
 ],
 "metadata": {
  "kernelspec": {
   "display_name": "Python 3",
   "language": "python",
   "name": "python3"
  },
  "language_info": {
   "codemirror_mode": {
    "name": "ipython",
    "version": 3
   },
   "file_extension": ".py",
   "mimetype": "text/x-python",
   "name": "python",
   "nbconvert_exporter": "python",
   "pygments_lexer": "ipython3",
   "version": "3.13.2"
  }
 },
 "nbformat": 4,
 "nbformat_minor": 2
}
