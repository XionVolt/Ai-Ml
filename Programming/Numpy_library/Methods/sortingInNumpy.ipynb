{
 "cells": [
  {
   "cell_type": "markdown",
   "metadata": {},
   "source": [
    "[See this video](https://youtu.be/eClQWW_gbFk?si=K_SZgSyyCs72fmYX&t=5581)\n",
    "\n",
    "1. In NumPy, sorting is done using np.sort() or np.argsort(), but by default, sorting is ascending. To get descending order, we need to reverse the sorted array.\n",
    "2. Sorting in alphabets work same as sorting in numbers."
   ]
  },
  {
   "cell_type": "code",
   "execution_count": 2,
   "metadata": {},
   "outputs": [
    {
     "name": "stdout",
     "output_type": "stream",
     "text": [
      "[1 2 3 4 5 6 7 8]\n",
      "[8 7 6 5 4 3 2 1]\n"
     ]
    }
   ],
   "source": [
    "import numpy as np\n",
    "foo = np.array([2, 1, 5, 3, 7, 4, 6, 8])\n",
    "\n",
    "print(np.sort(foo)) # ascending order\n",
    "print(np.sort(foo)[::-1]) # descending order"
   ]
  },
  {
   "cell_type": "code",
   "execution_count": 3,
   "metadata": {},
   "outputs": [
    {
     "data": {
      "text/plain": [
       "array([1, 2, 3, 4, 5, 6, 7, 8])"
      ]
     },
     "execution_count": 3,
     "metadata": {},
     "output_type": "execute_result"
    }
   ],
   "source": [
    "foo.sort() # inplace sort\n",
    "foo\n"
   ]
  },
  {
   "cell_type": "code",
   "execution_count": 4,
   "metadata": {},
   "outputs": [
    {
     "name": "stdout",
     "output_type": "stream",
     "text": [
      "[[ 2  1]\n",
      " [ 0 10]] \n",
      "\n",
      "sorted:\n",
      " [[ 1  2]\n",
      " [ 0 10]] \n",
      "\n",
      "In descending order\n",
      " [[ 2  1]\n",
      " [10  0]]\n",
      "In descending order\n",
      " [[ 2  1]\n",
      " [10  0]]\n",
      "Columns sorted in ascending order\n",
      " [[ 0  1]\n",
      " [ 2 10]]\n",
      "Columns sorted in desceinding order\n",
      " [[ 2 10]\n",
      " [ 0  1]]\n"
     ]
    }
   ],
   "source": [
    "# 2x2 array\n",
    "foo = np.array([[2, 1],\n",
    "               [0, 10]])\n",
    "print(foo,'\\n')\n",
    "print('sorted:\\n',np.sort(foo),'\\n') \n",
    "\n",
    "\n",
    "\n",
    "\n",
    "\n",
    "print('In descending order\\n',np.sort(foo)[:, ::-1]) \n",
    "print('In descending order\\n',-np.sort(-foo))\n",
    "\n",
    "print('Columns sorted in ascending order\\n', np.sort(foo, axis=0))\n",
    "print('Columns sorted in desceinding order\\n', np.sort(foo, axis=0)[::-1,:]) # `:` at last not required here"
   ]
  },
  {
   "cell_type": "markdown",
   "metadata": {},
   "source": [
    "`np.argsort()` - returns the indices that would sort an array"
   ]
  },
  {
   "cell_type": "code",
   "execution_count": null,
   "metadata": {},
   "outputs": [
    {
     "data": {
      "text/plain": [
       "array([2, 3, 4, 5, 6, 7, 0, 1])"
      ]
     },
     "execution_count": 5,
     "metadata": {},
     "output_type": "execute_result"
    }
   ],
   "source": [
    "# In detail -  https://youtu.be/eClQWW_gbFk?si=BsFbcOqaDzi94uUP&t=5727  \n",
    "# if we wanna in descending order we can do this\n",
    "arr = np.array([7,8,1,2,3,4,5,6])\n",
    "sorted_arr = np.argsort(arr)\n",
    "sorted_arr # so it returns the array index of sorted array elements of original array, for descending order: `sorted_arr[::-1]`"
   ]
  },
  {
   "cell_type": "markdown",
   "metadata": {},
   "source": [
    "## Sorting a Structured Array (Sorting by Multiple Criteria)"
   ]
  },
  {
   "cell_type": "code",
   "execution_count": null,
   "metadata": {},
   "outputs": [
    {
     "name": "stdout",
     "output_type": "stream",
     "text": [
      "[(1, 90) (3, 85) (2, 75)]\n"
     ]
    }
   ],
   "source": [
    "# You can sort a structured array by multiple fields.\n",
    "\n",
    "\n",
    "data = np.array([(1, 90), (2, 75), (3, 85)], dtype=[('id', int), ('score', int)])\n",
    "sorted_data = np.sort(data, order='score')[::-1]  # Sort by 'score' in descending order\n",
    "print(sorted_data)"
   ]
  },
  {
   "cell_type": "code",
   "execution_count": 63,
   "metadata": {},
   "outputs": [
    {
     "name": "stdout",
     "output_type": "stream",
     "text": [
      "[[9 6 6]\n",
      " [8 5 7]\n",
      " [8 2 0]] \n",
      "\n",
      "[1 2 0]\n"
     ]
    },
    {
     "data": {
      "text/plain": [
       "array([[8, 5, 7],\n",
       "       [8, 2, 0],\n",
       "       [9, 6, 6]])"
      ]
     },
     "execution_count": 63,
     "metadata": {},
     "output_type": "execute_result"
    }
   ],
   "source": [
    "# example of if we wanna sort only one column\n",
    "\n",
    "rng = np.random.default_rng(7)\n",
    "\n",
    "a = rng.integers(10, size=(3, 3))\n",
    "print(a,'\\n')\n",
    "\n",
    "\n",
    "print(np.argsort(a[:,0]))\n",
    "\n",
    "a[np.argsort(a[:,0])] # see only the first column is sorted # 8 8 9 , rest of are still unsorted (in back its going like this a[[1,2,0]])"
   ]
  }
 ],
 "metadata": {
  "kernelspec": {
   "display_name": "Python 3",
   "language": "python",
   "name": "python3"
  },
  "language_info": {
   "codemirror_mode": {
    "name": "ipython",
    "version": 3
   },
   "file_extension": ".py",
   "mimetype": "text/x-python",
   "name": "python",
   "nbconvert_exporter": "python",
   "pygments_lexer": "ipython3",
   "version": "3.13.2"
  }
 },
 "nbformat": 4,
 "nbformat_minor": 2
}
