{
 "cells": [
  {
   "cell_type": "markdown",
   "id": "228c50b9",
   "metadata": {},
   "source": [
    "# `numpy.equal` and `numpy.array_equal`\n",
    "## ✅ What does it do?\n",
    "- Returns True if arrays are exactly equal in shape and content.\n",
    "- No tolerance. No forgiveness. Even one tiny mismatch → False."
   ]
  },
  {
   "cell_type": "code",
   "execution_count": 2,
   "id": "59c8f1fd",
   "metadata": {},
   "outputs": [
    {
     "name": "stdout",
     "output_type": "stream",
     "text": [
      "True\n",
      "False\n",
      "[ True  True]\n",
      "[ True False]\n"
     ]
    }
   ],
   "source": [
    "# array_equal returns true only if all elements of two arrays are equal\n",
    "import numpy as np\n",
    "a = np.array([1.0, 2.0])\n",
    "b = np.array([1.0, 2.0])\n",
    "c = np.array([1.0, 2.000000001])\n",
    "\n",
    "print(np.array_equal(a, b))  # True\n",
    "print(np.array_equal(a, c))  # False\n",
    "\n",
    "# equal checks for all elements separately\n",
    "print(np.equal(a, b)) \n",
    "print(np.equal(a, c))"
   ]
  },
  {
   "cell_type": "markdown",
   "id": "fff1ba60",
   "metadata": {},
   "source": [
    "# `numpy.allclose`\n",
    "## ✅ What does it do?\n",
    "- Checks if all elements of arrays a and b are approximately equal, within a small tolerance.\n",
    "- Useful for comparing floating-point numbers, where direct equality often fails due to precision issues.\n",
    "\n",
    "📌 In Formula Form:\n",
    "```py\n",
    "abs(a - b) <= atol + rtol * abs(b)\n",
    "```\n",
    "- When comparing two arrays a and b, np.allclose(a, b) uses this rule:\n",
    "- That’s how it decides whether elements are close enough.\n",
    "\n",
    "\n",
    "### Imagine you and a friend are comparing the weight of two apples 🍎 using different scales:\n",
    "- Your scale says: 0.301 kg\n",
    "- Your friend’s scale says: 0.300 kg \n",
    "- Even though these numbers aren’t exactly the same, you both agree they’re close enough to call the apples equal in weight\\\n",
    "That’s exactly what np.allclose() does.\n",
    "\n",
    "\n",
    "When you do:\n",
    "```np.array([0.301]) == np.array([0.300])```\n",
    "Python will say: ❌ Not equal.\n",
    "\n",
    "But when you say:\n",
    "```np.allclose([0.301], [0.300], atol=0.01)```\n",
    "Python now says: ✅ \"Close enough\" — because the difference is less than the allowed tolerance 0.01(0.001).\n",
    "\n",
    "**Tolerance = how much difference is allowed between two values before we say:** ***\"Yeah, these are different.\"***\n",
    "\n",
    "```py\n",
    "a = np.array([0.3])\n",
    "b = np.array([0.30000001])\n",
    "\n",
    "print(np.allclose(a, b))  # True\n",
    "```\n",
    "Why True?\n",
    "- Difference = 0.00000001 (very tiny)\n",
    "- That’s smaller than default atol=1e-08 → so it's \"close enough\"\n",
    "\n",
    "🧪 Example 2: Slightly bigger difference\n",
    "\n",
    "```py\n",
    "a = np.array([0.3])\n",
    "b = np.array([0.3001])\n",
    "\n",
    "print(np.allclose(a, b))  # False\n",
    "```\n",
    "- Difference = 0.0001\n",
    "- Too big for default tolerance → ❌ Not close enough\n",
    "\n",
    "✅ You Can Control the Tolerance!\n",
    "\n",
    "```np.allclose([0.3], [0.3001], atol=0.001)```  # True now\n",
    "You say: “It’s okay if they’re off by 0.001” → Now they’re close enough ✅\n",
    "\n",
    "\n",
    "----\n",
    "### 🎯 What does rtol actually do?\n",
    "\n",
    "> \"Allow a difference that is proportional to the size of the numbers.\"\n",
    "\n",
    "- So for each element pair a[i] and b[i], it checks:\n",
    "- abs(a[i] - b[i]) <= atol + rtol * abs(b[i])\n",
    "\n"
   ]
  },
  {
   "cell_type": "markdown",
   "id": "4d6e1f92",
   "metadata": {},
   "source": [
    "Let's take atol == 0, for some time until specified\n",
    "\n",
    "#### Increase rtol\n",
    "```py\n",
    "a = np.array([1.0])\n",
    "b = np.array([1.01])\n",
    "```\n",
    "\n",
    "```py \n",
    "print(np.allclose(a, b, rtol=0.02, atol=0))  # True\n",
    "```\n",
    "\n",
    "Now:\n",
    "\n",
    "- allowed difference = 0.02 * 1.01 = 0.0202\n",
    "- Is 0.01 <= 0.0202? ✅ YES → True\n",
    "\n",
    "So when you increase `rtol`, you allow a bigger ***%*** error.\n",
    "\n",
    "\n",
    "\n",
    "#### Big numbers — even a small rtol gives large room\n",
    "```py\n",
    "a = np.array([1000.0])\n",
    "b = np.array([1001.0])\n",
    "\n",
    "print(np.allclose(a, b, rtol=0.001, atol=0))  # True\n",
    "```\n",
    "\n",
    "- abs(a - b) = 1.0\n",
    "- allowed diff = 0.001 * 1001 = 1.001\n",
    "- → Is 1.0 <= 1.001? ✅ YES → True\n",
    "\n",
    "So even a small rtol (0.1%) allows big differences when values are big.\n",
    "\n",
    "\n",
    "\n",
    "So Think of rtol as a % margin of error allowed:\n",
    " \n",
    "- 0.01\t-> 1% error allowed\n",
    "- 0.1   ->  10% error allowed\n",
    "- 0.001 ->  0.1% error allowed\n",
    "It scales with the number size."
   ]
  },
  {
   "cell_type": "code",
   "execution_count": 8,
   "id": "83eacbd4",
   "metadata": {},
   "outputs": [
    {
     "name": "stdout",
     "output_type": "stream",
     "text": [
      "Using == : [False]\n",
      "Using allclose: True\n"
     ]
    }
   ],
   "source": [
    "# 🔍 Real-Life Analogy: “Close Enough”    \n",
    "# Example – Why Direct Equality Fails\n",
    "\n",
    "\n",
    "print(\"Using == :\", a == b)  # False due to floating point error\n",
    "print(\"Using allclose:\", np.allclose(a, b))  # True\n",
    "\n",
    "# 🔍 Explanation:\n",
    "# - Due to floating point imprecision: 0.1 + 0.2 != 0.3 exactly- \n",
    "# - np.allclose says: “They’re close enough” → ✅"
   ]
  },
  {
   "cell_type": "code",
   "execution_count": 12,
   "id": "d759134d",
   "metadata": {},
   "outputs": [
    {
     "name": "stdout",
     "output_type": "stream",
     "text": [
      "Equal with strict tolerance: False\n",
      "Equal with relaxed tolerance: True\n"
     ]
    }
   ],
   "source": [
    "# Visualizing Tolerances\n",
    "\n",
    "a = np.array([1000.0])\n",
    "b = np.array([1000.00001])\n",
    "\n",
    "print(\"Equal with strict tolerance:\", np.allclose(a, b, rtol=1e-10))  # False\n",
    "print(\"Equal with relaxed tolerance:\", np.allclose(a, b, rtol=1e-3))  # True\n",
    "\n",
    "# by default atol is = 1e-8 -> 0.00000001\n",
    "# by default rtol is = 1e-5 -> 0.00001"
   ]
  },
  {
   "cell_type": "code",
   "execution_count": 5,
   "id": "79affe96",
   "metadata": {},
   "outputs": [
    {
     "name": "stdout",
     "output_type": "stream",
     "text": [
      "By default: False\n",
      "Using equal_nan=True: True\n"
     ]
    }
   ],
   "source": [
    "# NaN Comparison\n",
    "\n",
    "x = np.array([np.nan])\n",
    "y = np.array([np.nan])\n",
    "print(\"By default:\", np.allclose(x, y))               # False\n",
    "print(\"Using equal_nan=True:\", np.allclose(x, y, equal_nan=True))  # True"
   ]
  },
  {
   "cell_type": "code",
   "execution_count": null,
   "id": "c3d5c571",
   "metadata": {},
   "outputs": [
    {
     "name": "stdout",
     "output_type": "stream",
     "text": [
      "True\n"
     ]
    }
   ],
   "source": [
    "a = np.array([1000.0])\n",
    "b = np.array([1001.0])\n",
    "\n",
    "print(np.allclose(a, b, rtol=0.001, atol=0))  # True"
   ]
  }
 ],
 "metadata": {
  "kernelspec": {
   "display_name": "Python 3",
   "language": "python",
   "name": "python3"
  },
  "language_info": {
   "codemirror_mode": {
    "name": "ipython",
    "version": 3
   },
   "file_extension": ".py",
   "mimetype": "text/x-python",
   "name": "python",
   "nbconvert_exporter": "python",
   "pygments_lexer": "ipython3",
   "version": "3.13.2"
  }
 },
 "nbformat": 4,
 "nbformat_minor": 5
}
