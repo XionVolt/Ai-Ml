{
 "cells": [
  {
   "cell_type": "markdown",
   "id": "e60d48ee",
   "metadata": {},
   "source": [
    "- [Understand `np.meshgrid()` method](https://youtu.be/7K_a1mmraHU?si=pC1LfrYO9RL8-Vqz&t=27)"
   ]
  },
  {
   "cell_type": "code",
   "execution_count": null,
   "id": "af74bd2d",
   "metadata": {},
   "outputs": [
    {
     "name": "stdout",
     "output_type": "stream",
     "text": [
      "[[7 2 3]\n",
      " [7 2 3]\n",
      " [7 2 3]]\n",
      "\n",
      "[[7 7 7]\n",
      " [5 5 5]\n",
      " [6 6 6]]\n"
     ]
    }
   ],
   "source": [
    "import numpy as np\n",
    "# first array duplicate on y axis, and second array duplicates on x axis\n",
    "xx, yy = np.meshgrid([7, 2, 3], [7, 5, 6])\n",
    "print(xx)\n",
    "print()\n",
    "print(yy)"
   ]
  },
  {
   "cell_type": "code",
   "execution_count": null,
   "id": "99947e1d",
   "metadata": {},
   "outputs": [],
   "source": [
    "# 3d plot using meshgrid -> https://youtu.be/7K_a1mmraHU?si=oZ2CRr2TAbe7haMv&t=207"
   ]
  }
 ],
 "metadata": {
  "kernelspec": {
   "display_name": "Python 3",
   "language": "python",
   "name": "python3"
  },
  "language_info": {
   "codemirror_mode": {
    "name": "ipython",
    "version": 3
   },
   "file_extension": ".py",
   "mimetype": "text/x-python",
   "name": "python",
   "nbconvert_exporter": "python",
   "pygments_lexer": "ipython3",
   "version": "3.13.2"
  }
 },
 "nbformat": 4,
 "nbformat_minor": 5
}
