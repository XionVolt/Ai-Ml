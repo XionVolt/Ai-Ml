{
 "cells": [
  {
   "cell_type": "markdown",
   "metadata": {},
   "source": [
    "# Numpy is a fundamental library for scientific computing in Python. It provides a powerful and efficient way to work with arrays and matrices in Python.\n",
    "\n",
    "## Advantages of using numpy arrays over python lists :\n",
    "\n",
    "### 1. Numpy arrays are faster than python lists.\n",
    "### 2. Numpy arrays are more memory efficient than python lists, as they consume less memory.\n",
    "\n",
    "## Basic difference between arrays and lists :\n",
    "###  List : Comma separated values , Numpy array : Non-comma separated values \n",
    "\n",
    "\n",
    "## numpy provides enormous amount of math functions that operate on these arrays or matrices.\n",
    "\n",
    "\n",
    "## importance of numpy  : \n",
    "### math logical , shape manipulation , sorting , I/O discrete fourier transforms, basic linear algebra , basic statistics operations,random simulation and much more . \n",
    "\n",
    "\n"
   ]
  },
  {
   "cell_type": "code",
   "execution_count": 15,
   "metadata": {},
   "outputs": [
    {
     "name": "stdout",
     "output_type": "stream",
     "text": [
      "<class 'numpy.ndarray'>\n",
      "['1' '2' '3' 'True']\n",
      "2\n",
      "(2, 3)\n",
      "2\n",
      "6\n",
      "int32\n"
     ]
    }
   ],
   "source": [
    "# see this video clip to see how objects are actually stored in memory and retrieve from it: https://youtu.be/eClQWW_gbFk?si=k0MEtAMWHcJ42QsS&t=226 by GormAnalysis\n",
    "\n",
    "\n",
    "\n",
    "import numpy as np\n",
    "# numpy arrays are intended to store objects with same type and size : because : https://youtu.be/eClQWW_gbFk?si=NqZZjgqHEmRFrNxc&t=216\n",
    "\n",
    "\"\"\" 2 basic rules for  every numpy arrays \n",
    "1. Every element in the array must be of the same type and size\n",
    "2. If an array elements are also arrays , those inner arrays must have the same type and number of elements as each other\n",
    " \"\"\"\n",
    "print(type(np.array([1, 2, 3])))# <class 'numpy.ndarray'> --> means some n-dimentional array\n",
    "# numpy arrays must contain same type and dimension of data \n",
    "# to check type of data in numpy array\n",
    "print(np.array([1, 2, '3',True])) , # in this case numpy not gives error , instead it type cast all elements to string in order to satisfy the rule that every element in the array must be of the same type and size\n",
    "\n",
    "# to create 2d array\n",
    "arr_2d = np.array([\n",
    "    [1, 2, 3], \n",
    "    [4, 5, 6]\n",
    "    ])\n",
    "print(arr_2d.ndim) # 2 , means 2d array\n",
    "print(arr_2d.shape) # means 2 rows and 3 columns\n",
    "\n",
    "# So you can make 2d array of list of list , and 3d array of list of list of list ..., so on . \n",
    "\n",
    "print(len(arr_2d)) # 2 , because arr_2d only contains 2 elements (list of lists) directly inside of itself\n",
    "\"\"\" \n",
    "now you may suprise that is it only have 2 elements ? As it giving only 2 instead of giving 6 . Yes ,  Because the arr_2d is considered as an array that contains only 2 arrays inside of it \n",
    "basically it only contains 2 values that is here list , so you shouldn't be confused in this case as same behaviour also showed by all iterables in python\n",
    "\"\"\"\n",
    "# if you wanna get the total number of elements in the nested array , you should use `size` attribute\n",
    "print(arr_2d.size) \n",
    "# to see which type of data is stored in numpy array use `dtype`\n",
    "print(arr_2d.dtype)\n",
    "\n",
    "# Now you might also wondering we thought that we can't have a array of strings because string are objects that vary in sizes , and whole point of array is to store fixed size object\n",
    "# See this clip to find answer to this question : https://youtu.be/eClQWW_gbFk?si=4J07kYP2bT_LAr9x&t=632\n"
   ]
  },
  {
   "cell_type": "code",
   "execution_count": 16,
   "metadata": {},
   "outputs": [
    {
     "name": "stdout",
     "output_type": "stream",
     "text": [
      "[[1 2 3]\n",
      " [4 5 6]\n",
      " [7 8 9]]\n",
      "(3, 3)\n",
      "2\n"
     ]
    }
   ],
   "source": [
    "# Basic matrix \n",
    "\n",
    "matrix = np.array([\n",
    "    [1, 2, 3],\n",
    "    [4, 5, 6], \n",
    "    [7, 8, 9]\n",
    "    ])\n",
    "print(matrix)\n",
    "# check dimension \n",
    "print(matrix.shape) # means 3 rows and 3 columns ,but note : this is a 2d array as 1 block depth(array and vectors are not same in numpy)\n",
    "# arrays dimension are define by number of brackets\n",
    "print(matrix.ndim) # means 2d array  , for check array dimension"
   ]
  },
  {
   "cell_type": "markdown",
   "metadata": {},
   "source": [
    "#### list vs numpy array speed comparision\n"
   ]
  },
  {
   "cell_type": "code",
   "execution_count": 17,
   "metadata": {},
   "outputs": [
    {
     "name": "stdout",
     "output_type": "stream",
     "text": [
      "65.5 µs ± 2.46 µs per loop (mean ± std. dev. of 7 runs, 10,000 loops each)\n"
     ]
    }
   ],
   "source": [
    "%timeit [_ for _ in range(1000)]"
   ]
  },
  {
   "cell_type": "code",
   "execution_count": 18,
   "metadata": {},
   "outputs": [
    {
     "name": "stdout",
     "output_type": "stream",
     "text": [
      "2.78 µs ± 254 ns per loop (mean ± std. dev. of 7 runs, 100,000 loops each)\n"
     ]
    }
   ],
   "source": [
    "\n",
    "import numpy as np\n",
    "%timeit np.arange(1000)*2 # np.arange is used to create an array with range of numbers , here 0-999  and then we scale it by 2 , basically create 1000 dimensional vector , but note : this is a 1d array"
   ]
  },
  {
   "cell_type": "code",
   "execution_count": 19,
   "metadata": {},
   "outputs": [
    {
     "name": "stdout",
     "output_type": "stream",
     "text": [
      "116 µs ± 9.1 µs per loop (mean ± std. dev. of 7 runs, 10,000 loops each)\n"
     ]
    }
   ],
   "source": [
    "%timeit np.array([_ for _ in range(1000)])*2 # its very silly thing to do why, just see the time comparison"
   ]
  },
  {
   "cell_type": "markdown",
   "metadata": {},
   "source": [
    "### Why this happened even (np.arange takes very less time than above code , although we are creating an numpy array in both cases)\n",
    "#### The key difference between the two operations lies in how the arrays are created:\n",
    "- 1️⃣ `np.arange(1000)` creates a NumPy array efficiently in C without using Python loops.As python loops are obviously very slow. Full Syntax : `np.arange(start,stop,step,dtype)` \n",
    "- Multiplication is applied directly on the NumPy array, utilizing vectorized operations optimized with low-level C implementations.\n",
    "\n",
    "- 2️⃣ `np.array([_ for _ in range(1000)]) * 2`\n",
    "- [ _ for _ in range(1000) ] first creates a Python list using list comprehension.\n",
    "- np.array(...) then converts the list into a NumPy array, which adds overhead.\n",
    "- Multiplication is then performed, but the overhead of list creation + conversion makes this approach significantly slower.\n",
    "\n",
    "##### So Why is np.arange(1000) faster?\n",
    "- Avoids Python loops: np.arange(1000) is implemented in C, making it much faster than list comprehension.\n",
    "- No intermediate list creation: np.array([_ for _ in range(1000)]) first creates a Python list in memory, then converts it to a NumPy array, which is an extra step.\n",
    "- Memory efficiency: np.arange(1000) directly creates an array with efficient memory layout, while the list-comprehension method involves unnecessary memory allocation.\n",
    "\n"
   ]
  },
  {
   "cell_type": "code",
   "execution_count": 20,
   "metadata": {},
   "outputs": [],
   "source": [
    "a= np.array([[1,2,4] ,[2,3,4]])\n"
   ]
  },
  {
   "cell_type": "code",
   "execution_count": 21,
   "metadata": {},
   "outputs": [
    {
     "name": "stdout",
     "output_type": "stream",
     "text": [
      "[[0 0]\n",
      " [0 0]]\n",
      "[[1 0]\n",
      " [0 1]]\n"
     ]
    }
   ],
   "source": [
    "# code to create matrix with user input\n",
    "row = int(input(\"Enter row number: \"))\n",
    "\n",
    "col = int(input(\"Enter col number: \"))\n",
    "\n",
    "input_Matrix = np.zeros((row, col),dtype=int) # # np.zeros is used to create a array of specified size with 0 as all values\n",
    "print(input_Matrix)\n",
    "\n",
    "for i in range(row):\n",
    "    for j in range(col):\n",
    "        input_Matrix[i][j] = int(input(f\"Enter value for {i+1} row and {j+1} column: \"))\n",
    "\n",
    "print(input_Matrix)"
   ]
  },
  {
   "cell_type": "code",
   "execution_count": 22,
   "metadata": {},
   "outputs": [
    {
     "name": "stdout",
     "output_type": "stream",
     "text": [
      "[[2 2 2 2 2 2 2]\n",
      " [2 2 2 2 2 2 2]\n",
      " [2 2 2 2 2 2 2]\n",
      " [2 2 2 2 2 2 2]\n",
      " [2 2 2 2 2 2 2]\n",
      " [2 2 2 2 2 2 2]\n",
      " [2 2 2 2 2 2 2]]\n",
      "[2 2]\n",
      "2\n"
     ]
    }
   ],
   "source": [
    "print(np.full((7,7),2)) # np.full is used to create a array of specified size with specified value\n",
    "print(np.full(2,2)) \n",
    "\n",
    "print(np.size(np.full(2,2))) # to check how many elements are there in the array"
   ]
  },
  {
   "cell_type": "markdown",
   "metadata": {},
   "source": [
    "### A simple mean program using numpy\n",
    "#### In statistics, the mean (specifically, the arithmetic mean) is the most common type of average, calculated as:\n",
    "- Mean = ∑x / n  : where ∑x is the sum of all x values in the dataset, n is the number of x values.\n"
   ]
  },
  {
   "cell_type": "code",
   "execution_count": 23,
   "metadata": {},
   "outputs": [
    {
     "name": "stderr",
     "output_type": "stream",
     "text": [
      "UsageError: Line magic function `%%timeit` not found.\n"
     ]
    }
   ],
   "source": [
    "\n",
    "%%timeit\n",
    "# let's say we have a data of stock prices of every second of 1 year , those stocks increase gradaully , and we wanna find the average price of the stocks in a year\n",
    "# we do this using numpy \n",
    "import numpy as np\n",
    "stock_price = 100 + np.arange(60*60*24*365) /100 # this will create an array of 60*60*24*365 elements , means 60*60*24*365 seconds , basically total number of seconds in a year\n",
    "\"\"\" we do this (divide each element by 100 and then add 100) \n",
    "because : \n",
    "100 + 0 / 100 = 100.00 \n",
    "100 + 1 / 100 = 100.01\n",
    "100 + 2 / 100 = 100.02\n",
    "100 + 3 / 100 = 100.03\n",
    "100 + 4 / 100 = 100.04\n",
    "100 + 5 / 100 = 100.05\n",
    "to simulate that stock price is increasing gradually , this creates a gradually increasing stock price dataset where each value is slightly larger than the previous one.\n",
    "It helps in simulations or testing algorithms where stock prices need to be smoothly increasing. \"\"\"\n",
    "# now to find average price of the stocks in a year (to simulate this formula , where : ∑x / n , :∑x(Sigma x) is sum of all x elements / n(here size of array))\n",
    "\n",
    "np.mean(stock_price)\n",
    "\n",
    "\n",
    "     "
   ]
  },
  {
   "cell_type": "code",
   "execution_count": null,
   "metadata": {},
   "outputs": [
    {
     "name": "stdout",
     "output_type": "stream",
     "text": [
      "157779.995\n",
      "157779.995\n",
      "157779.995\n",
      "157779.995\n",
      "157779.995\n",
      "157779.995\n",
      "157779.995\n",
      "157779.995\n",
      "2.6 s ± 41.1 ms per loop (mean ± std. dev. of 7 runs, 1 loop each)\n"
     ]
    }
   ],
   "source": [
    "%%timeit\n",
    "\"\"\"A normal python code for doing that we did above using numpy\"\"\"\n",
    "stock_price = []\n",
    "for i in range(60*60*24*365): \n",
    "    stock_price.append(100 + i / 100)\n",
    "\n",
    "print(sum(stock_price) / len(stock_price))\n",
    "\"\"\" Caution: It will take lot of time , and compute\"\"\"\n",
    "# see time comparison as compare to above cell"
   ]
  },
  {
   "cell_type": "code",
   "execution_count": null,
   "metadata": {},
   "outputs": [
    {
     "data": {
      "text/plain": [
       "array([[4, 2, 2],\n",
       "       [3, 4, 2]])"
      ]
     },
     "execution_count": 14,
     "metadata": {},
     "output_type": "execute_result"
    }
   ],
   "source": [
    "# to create array with random values\n",
    "import numpy as np\n",
    "np.random.random((3,3))\n",
    "\n",
    "# to create array with specified range of random values\n",
    "\n",
    "np.random.randint(low=1, high=7, size=(2,3),dtype=int) # 1 inclusive and 7 exclusive , and you can interpret it like 2 iterations of rolling 3 dice"
   ]
  },
  {
   "cell_type": "code",
   "execution_count": 26,
   "metadata": {},
   "outputs": [
    {
     "name": "stdout",
     "output_type": "stream",
     "text": [
      "[10  2  3]\n",
      "Stored 'arr' (ndarray)\n"
     ]
    }
   ],
   "source": [
    "# Arrays are mutable so we can change its element after creation \n",
    "\n",
    "arr = np.array([1, 2, 3])\n",
    "arr[0] = 10\n",
    "print(arr)\n",
    "%store arr\n",
    "\n",
    "# we can also access multiple elements at once\n"
   ]
  },
  {
   "cell_type": "code",
   "execution_count": 27,
   "metadata": {},
   "outputs": [
    {
     "name": "stdout",
     "output_type": "stream",
     "text": [
      "[10  3  2]\n",
      "[10 10 10]\n",
      "[3 4 5]\n"
     ]
    }
   ],
   "source": [
    "# Doing indexing in arrays\n",
    "%store -r arr\n",
    "arr2 = np.array([1, 2, 3, 4, 5])\n",
    "print(arr[[0,-1,-2]])\n",
    "print(arr[np.zeros(3,dtype='int64')]) # to access multiple elements at once , we can even use array for that also\n",
    "\n",
    "print(arr2[2:]) # 2 to length-1 , so indexing in array is same as indexing in normal iterables of python"
   ]
  },
  {
   "cell_type": "code",
   "execution_count": 29,
   "metadata": {},
   "outputs": [
    {
     "name": "stdout",
     "output_type": "stream",
     "text": [
      "[1 2 3 4 5]\n",
      "[0 0 0 0 0]\n"
     ]
    }
   ],
   "source": [
    "# We can also use fill method in array object\n",
    "\n",
    "arr2 = np.array([1, 2, 3, 4, 5])\n",
    "print(arr2)\n",
    "arr2.fill(0) # fill all the elements with 0\n",
    "print(arr2)"
   ]
  },
  {
   "cell_type": "code",
   "execution_count": 28,
   "metadata": {},
   "outputs": [
    {
     "name": "stdout",
     "output_type": "stream",
     "text": [
      "[10  2 10  4  5]\n",
      "[100   2 200   4   5]\n"
     ]
    }
   ],
   "source": [
    "# assigning values to multiple indexes at once\n",
    "\n",
    "arr2[[0, 2]] = 10 # assign value 10 to all elements it selects (0 and 2)\n",
    "print(arr2)\n",
    "\n",
    "arr2[[0,2]] = [100,200] # assign values 100 and 200 to elements 0 and 2\n",
    "print(arr2)\n"
   ]
  }
 ],
 "metadata": {
  "kernelspec": {
   "display_name": "Python 3",
   "language": "python",
   "name": "python3"
  },
  "language_info": {
   "codemirror_mode": {
    "name": "ipython",
    "version": 3
   },
   "file_extension": ".py",
   "mimetype": "text/x-python",
   "name": "python",
   "nbconvert_exporter": "python",
   "pygments_lexer": "ipython3",
   "version": "3.11.3"
  }
 },
 "nbformat": 4,
 "nbformat_minor": 2
}
