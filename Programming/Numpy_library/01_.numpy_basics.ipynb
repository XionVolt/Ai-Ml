{
 "cells": [
  {
   "cell_type": "markdown",
   "metadata": {},
   "source": [
    "# Numpy is a fundamental library for scientific computing in Python. It provides a powerful and efficient way to work with arrays and matrices in Python.\n",
    "\n",
    "## Advantages of using numpy arrays over python lists :\n",
    "\n",
    "### 1. Numpy arrays are faster than python lists.\n",
    "### 2. Numpy arrays are more memory efficient than python lists, as they consume less memory.\n",
    "\n",
    "## Basic difference between arrays and lists :\n",
    "###  List : Comma separated values , Numpy array : Non-comma separated values \n",
    "\n",
    "\n",
    "## numpy provides enormous amount of math functions that operate on these arrays or matrices.\n",
    "\n",
    "\n",
    "## importance of numpy  : \n",
    "### math logical , shape manipulation , sorting , I/O discrete fourier transforms, basic linear algebra , basic statistics operations,random simulation and much more . \n",
    "\n",
    "\n"
   ]
  },
  {
   "cell_type": "code",
   "execution_count": 42,
   "metadata": {},
   "outputs": [
    {
     "name": "stdout",
     "output_type": "stream",
     "text": [
      "<class 'numpy.ndarray'>\n"
     ]
    }
   ],
   "source": [
    "import numpy as np\n",
    "print(type(np.array([1, 2, 3])))# <class 'numpy.ndarray'> --> means some n-dimentional array"
   ]
  },
  {
   "cell_type": "code",
   "execution_count": 43,
   "metadata": {},
   "outputs": [
    {
     "name": "stdout",
     "output_type": "stream",
     "text": [
      "[[1 2 3]\n",
      " [4 5 6]\n",
      " [7 8 9]]\n"
     ]
    }
   ],
   "source": [
    "# Basic matrix \n",
    "\n",
    "matrix = np.array([[1, 2, 3], [4, 5, 6], [7, 8, 9]])\n",
    "print(matrix)"
   ]
  },
  {
   "cell_type": "markdown",
   "metadata": {},
   "source": [
    "#### list vs numpy array speed comparision\n"
   ]
  },
  {
   "cell_type": "code",
   "execution_count": 44,
   "metadata": {},
   "outputs": [
    {
     "name": "stdout",
     "output_type": "stream",
     "text": [
      "19.6 µs ± 924 ns per loop (mean ± std. dev. of 7 runs, 10,000 loops each)\n"
     ]
    }
   ],
   "source": [
    "%timeit [_ for _ in range(1000)]"
   ]
  },
  {
   "cell_type": "code",
   "execution_count": 45,
   "metadata": {},
   "outputs": [
    {
     "name": "stdout",
     "output_type": "stream",
     "text": [
      "4.36 µs ± 1.5 µs per loop (mean ± std. dev. of 7 runs, 1,000,000 loops each)\n"
     ]
    }
   ],
   "source": [
    "\n",
    "import timeit\n",
    "\n",
    "\n",
    "\n",
    "import numpy as np\n",
    "%timeit np.arange(1000)*2 # np.arange is used to create an array with range of numbers , here 0-999  and then we scale it by 2"
   ]
  },
  {
   "cell_type": "code",
   "execution_count": 46,
   "metadata": {},
   "outputs": [
    {
     "name": "stdout",
     "output_type": "stream",
     "text": [
      "119 µs ± 6.87 µs per loop (mean ± std. dev. of 7 runs, 10,000 loops each)\n"
     ]
    }
   ],
   "source": [
    "%timeit np.array([_ for _ in range(1000)])*2 # its very silly thing to do why, just see the time comparison"
   ]
  },
  {
   "cell_type": "markdown",
   "metadata": {},
   "source": [
    "### Why this happened even (np.arange takes very less time than above code , although we are creating an numpy array in both cases)\n",
    "#### The key difference between the two operations lies in how the arrays are created:\n",
    "- 1️⃣ `np.arange(1000)` creates a NumPy array efficiently in C without using Python loops.As python loops are obviously very slow.\n",
    "- Multiplication is applied directly on the NumPy array, utilizing vectorized operations optimized with low-level C implementations.\n",
    "\n",
    "- 2️⃣ `np.array([_ for _ in range(1000)]) * 2`\n",
    "- [ _ for _ in range(1000) ] first creates a Python list using list comprehension.\n",
    "- np.array(...) then converts the list into a NumPy array, which adds overhead.\n",
    "- Multiplication is then performed, but the overhead of list creation + conversion makes this approach significantly slower.\n",
    "\n",
    "##### So Why is np.arange(1000) faster?\n",
    "- Avoids Python loops: np.arange(1000) is implemented in C, making it much faster than list comprehension.\n",
    "- No intermediate list creation: np.array([_ for _ in range(1000)]) first creates a Python list in memory, then converts it to a NumPy array, which is an extra step.\n",
    "- Memory efficiency: np.arange(1000) directly creates an array with efficient memory layout, while the list-comprehension method involves unnecessary memory allocation.\n",
    "\n"
   ]
  }
 ],
 "metadata": {
  "kernelspec": {
   "display_name": "Python 3",
   "language": "python",
   "name": "python3"
  },
  "language_info": {
   "codemirror_mode": {
    "name": "ipython",
    "version": 3
   },
   "file_extension": ".py",
   "mimetype": "text/x-python",
   "name": "python",
   "nbconvert_exporter": "python",
   "pygments_lexer": "ipython3",
   "version": "3.11.3"
  }
 },
 "nbformat": 4,
 "nbformat_minor": 2
}
