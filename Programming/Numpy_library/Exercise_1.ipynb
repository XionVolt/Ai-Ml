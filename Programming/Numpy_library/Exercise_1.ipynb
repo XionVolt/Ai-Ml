{
 "cells": [
  {
   "cell_type": "markdown",
   "metadata": {},
   "source": [
    "# Problem statement\n",
    "#### With your high school reunion fast approaching, you decide to get in shape and lose some weight. You record your weight every day for five weeks starting on a Monday. Given these daily weights, build an array with your average weight per weekend. "
   ]
  },
  {
   "cell_type": "code",
   "execution_count": null,
   "metadata": {},
   "outputs": [
    {
     "data": {
      "text/plain": [
       "array([[185.4, 184.6, 185.1, 184.9, 184.3, 184.2, 183.4],\n",
       "       [184.1, 183.1, 183.6, 182.8, 183.3, 182.4, 182.9],\n",
       "       [182. , 182.5, 182.2, 181.4, 181.2, 181.4, 181. ],\n",
       "       [181.5, 181.2, 180.5, 180.1, 180.4, 180. , 179.8],\n",
       "       [180. , 179.7, 179.7, 179.5, 179.1, 179. , 178.7]])"
      ]
     },
     "execution_count": 50,
     "metadata": {},
     "output_type": "execute_result"
    }
   ],
   "source": [
    "import numpy as np\n",
    "                    # linspace array        +       # random noise array                 \n",
    "weights =  np.round(np.linspace(185.0, 178.5, 35) + np.random.uniform(-0.5, 0.5, 35),1)\n",
    "weights = weights.reshape(5,7) # to make it 5 rows(5 weeks) and 7 columns(7 weekdays) , we just reshape it , so we can index easily\n",
    "weights"
   ]
  },
  {
   "cell_type": "markdown",
   "metadata": {},
   "source": [
    "What is `numpy.linspace()`?\n",
    "numpy.linspace(start, stop, num) generates evenly spaced numbers over a specified range.\n",
    "\n",
    "```python\n",
    "np.linspace(start, stop, num, endpoint=True, retstep=False, dtype=None)\n",
    "```\n",
    "1. `start` → The starting value of the sequence.\n",
    "2. `stop` → The ending value of the sequence.\n",
    "3. `num` → The number of samples to generate (default: 50).\n",
    "4. `endpoint=True` → Includes the stop value in the sequence. If False, the sequence stops before stop.\n",
    "5. `retstep=False` → If True, it returns the step size between numbers.\n",
    "6. `dtype=None` → Specifies the data type (optional).\n"
   ]
  },
  {
   "cell_type": "code",
   "execution_count": 40,
   "metadata": {},
   "outputs": [
    {
     "name": "stdout",
     "output_type": "stream",
     "text": [
      "[ 1  3  5  7 10]\n"
     ]
    },
    {
     "data": {
      "text/plain": [
       "(array([ 1,  3,  5,  7, 10]), 2.25)"
      ]
     },
     "execution_count": 40,
     "metadata": {},
     "output_type": "execute_result"
    }
   ],
   "source": [
    "# Example 1: Generating 5 evenly spaced numbers\n",
    "print(np.linspace(1,10,5,dtype=int))\n",
    "# 💡 Explanation: The range 1 → 10 is divided into 5 equal intervals. (Math : 10/5(num) = 2; from 1 , add 2 to each output element until 10(inclusive))\n",
    "arr_and_step = np.linspace(1, 10, 5,dtype=int, retstep=True) \n",
    "# 💡 Explanation: The difference between consecutive elements is 2.25\n",
    "arr_and_step\n",
    "\n"
   ]
  },
  {
   "cell_type": "markdown",
   "metadata": {},
   "source": [
    "### Conclusion\n",
    "-  linspace() is best when you want a specific number of values (e.g., exactly 35 weights).\n",
    "- arange() is better when using a fixed step size (e.g., every 0.5 units)."
   ]
  },
  {
   "cell_type": "markdown",
   "metadata": {},
   "source": [
    "## Continue from problem statement solution"
   ]
  },
  {
   "cell_type": "code",
   "execution_count": null,
   "metadata": {},
   "outputs": [
    {
     "ename": "IndexError",
     "evalue": "too many indices for array: array is 1-dimensional, but 2 were indexed",
     "output_type": "error",
     "traceback": [
      "\u001b[1;31m---------------------------------------------------------------------------\u001b[0m",
      "\u001b[1;31mIndexError\u001b[0m                                Traceback (most recent call last)",
      "Cell \u001b[1;32mIn[71], line 4\u001b[0m\n\u001b[0;32m      1\u001b[0m \u001b[38;5;66;03m# resultant array , \u001b[39;00m\n\u001b[0;32m      2\u001b[0m \u001b[38;5;66;03m# So each week starts on Monday, so weekends are at index positions [5, 6], [12, 13], [19, 20], [26, 27], and [33, 34].\u001b[39;00m\n\u001b[0;32m      3\u001b[0m avg_weight_for_each_weekend \u001b[38;5;241m=\u001b[39m np\u001b[38;5;241m.\u001b[39mzeros((\u001b[38;5;241m5\u001b[39m))\n\u001b[1;32m----> 4\u001b[0m avg_weight_for_each_weekend[:] \u001b[38;5;241m=\u001b[39m  \u001b[43mweights\u001b[49m\u001b[43m[\u001b[49m\u001b[43m:\u001b[49m\u001b[43m,\u001b[49m\u001b[43m[\u001b[49m\u001b[38;5;241;43m-\u001b[39;49m\u001b[38;5;241;43m1\u001b[39;49m\u001b[43m,\u001b[49m\u001b[38;5;241;43m-\u001b[39;49m\u001b[38;5;241;43m2\u001b[39;49m\u001b[43m]\u001b[49m\u001b[43m]\u001b[49m\n\u001b[0;32m      5\u001b[0m avg_weight_for_each_weekend\n\u001b[0;32m      6\u001b[0m \u001b[38;5;66;03m# will have to complete this befor going further\u001b[39;00m\n",
      "\u001b[1;31mIndexError\u001b[0m: too many indices for array: array is 1-dimensional, but 2 were indexed"
     ]
    }
   ],
   "source": [
    "# resultant array , \n",
    "# So each week starts on Monday, so weekends are at index positions [5, 6], [12, 13], [19, 20], [26, 27], and [33, 34].\n",
    "avg_weight_for_each_weekend = np.zeros((5))\n",
    "# avg_weight_for_each_weekend[:] =  weights[:,[-1,-2]] !! error\n",
    "avg_weight_for_each_weekend\n",
    "# will have to complete this befor going further"
   ]
  }
 ],
 "metadata": {
  "kernelspec": {
   "display_name": "Python 3",
   "language": "python",
   "name": "python3"
  },
  "language_info": {
   "codemirror_mode": {
    "name": "ipython",
    "version": 3
   },
   "file_extension": ".py",
   "mimetype": "text/x-python",
   "name": "python",
   "nbconvert_exporter": "python",
   "pygments_lexer": "ipython3",
   "version": "3.11.3"
  }
 },
 "nbformat": 4,
 "nbformat_minor": 2
}
