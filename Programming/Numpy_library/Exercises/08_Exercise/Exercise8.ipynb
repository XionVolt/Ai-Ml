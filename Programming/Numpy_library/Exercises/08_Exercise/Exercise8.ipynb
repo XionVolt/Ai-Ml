{
 "cells": [
  {
   "cell_type": "markdown",
   "metadata": {},
   "source": [
    "## Problem Statement\n",
    "Ten fish occupy a 5×5×5 grid of water. Each fish decides to move to a new (i, j, k) location given by the matrix below. If multiple fish end up occupying the same cell, the biggest fish eats the smaller fish. Determine which fish will survive."
   ]
  },
  {
   "cell_type": "code",
   "execution_count": 2,
   "metadata": {},
   "outputs": [
    {
     "name": "stdout",
     "output_type": "stream",
     "text": [
      "[-1.69870017  0.53799701 -0.22561399 -1.09020894  0.55391264 -1.50115445\n",
      "  0.44545933  1.3448172  -1.12364327  0.21216015]\n"
     ]
    }
   ],
   "source": [
    "import numpy as np\n",
    "\n",
    "locs = np.array([\n",
    "    [0,0,0],\n",
    "    [1,1,2],\n",
    "    [0,0,0],\n",
    "    [2,1,3],\n",
    "    [5,5,4],\n",
    "    [5,0,0],\n",
    "    [5,0,0],\n",
    "    [0,0,0],\n",
    "    [2,1,3],\n",
    "    [1,3,1]\n",
    "])\n",
    "\n",
    "generator = np.random.default_rng(1010)\n",
    "weights = generator.normal(size=10)\n",
    "\n",
    "print(weights)\n"
   ]
  },
  {
   "cell_type": "code",
   "execution_count": 35,
   "metadata": {},
   "outputs": [
    {
     "name": "stdout",
     "output_type": "stream",
     "text": [
      "[3 1 1 2 2 1]\n",
      "[0 3 4]\n"
     ]
    },
    {
     "data": {
      "text/plain": [
       "array([7, 4, 1, 6, 9, 2, 3, 8, 5, 0])"
      ]
     },
     "execution_count": 35,
     "metadata": {},
     "output_type": "execute_result"
    }
   ],
   "source": [
    "sorted_weights = np.argsort(weights)\n",
    "\n",
    "unique, indices, counts = np.unique(locs,axis=0,return_index=True,return_counts=True)\n",
    "print(counts)\n",
    "print(np.where(counts>1)[0])\n",
    "\n",
    "sorted_weights[::-1]"
   ]
  }
 ],
 "metadata": {
  "kernelspec": {
   "display_name": "Python 3",
   "language": "python",
   "name": "python3"
  },
  "language_info": {
   "codemirror_mode": {
    "name": "ipython",
    "version": 3
   },
   "file_extension": ".py",
   "mimetype": "text/x-python",
   "name": "python",
   "nbconvert_exporter": "python",
   "pygments_lexer": "ipython3",
   "version": "3.13.2"
  }
 },
 "nbformat": 4,
 "nbformat_minor": 2
}
