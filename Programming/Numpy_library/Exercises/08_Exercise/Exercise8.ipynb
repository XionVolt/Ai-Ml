{
 "cells": [
  {
   "cell_type": "markdown",
   "metadata": {},
   "source": [
    "## Problem Statement\n",
    "Ten fish occupy a 5×5×5 grid of water. Each fish decides to move to a new (i, j, k) location given by the matrix below. If multiple fish end up occupying the same cell, the biggest fish eats the smaller fish. Determine which fish will survive."
   ]
  },
  {
   "cell_type": "code",
   "execution_count": 10,
   "metadata": {},
   "outputs": [
    {
     "name": "stdout",
     "output_type": "stream",
     "text": [
      "[-1.69870017  0.53799701 -0.22561399 -1.09020894  0.55391264 -1.50115445\n",
      "  0.44545933  1.3448172  -1.12364327  0.21216015]\n"
     ]
    }
   ],
   "source": [
    "import numpy as np\n",
    "\n",
    "locs = np.array([\n",
    "    [0,0,0],\n",
    "    [1,1,2],\n",
    "    [0,0,0],\n",
    "    [2,1,3],\n",
    "    [5,5,4],\n",
    "    [5,0,0],\n",
    "    [5,0,0],\n",
    "    [0,0,0],\n",
    "    [2,1,3],\n",
    "    [1,3,1]\n",
    "])\n",
    "\n",
    "generator = np.random.default_rng(1010)\n",
    "weights = generator.normal(size=10)\n",
    "\n",
    "print(weights)\n"
   ]
  },
  {
   "cell_type": "code",
   "execution_count": null,
   "metadata": {},
   "outputs": [
    {
     "name": "stdout",
     "output_type": "stream",
     "text": [
      "[0 1 0 3 5 4 4 0 3 2]\n",
      "Surviving Fish Indices: [1, 3, 4, 6, 7, 9]\n",
      "Surviving Fish Weights: [ 0.53799701 -1.09020894  0.55391264  0.44545933  1.3448172   0.21216015]\n"
     ]
    }
   ],
   "source": [
    "\n",
    "# Get unique locations and the inverse indices\n",
    "unique_locs, inverse_indices = np.unique(locs, axis=0, return_inverse=True)\n",
    "\n",
    "print(inverse_indices)\n",
    "# Dictionary to store surviving fish per location\n",
    "surviving_fish = {}\n",
    "\n",
    "# Iterate over each fish and determine survival\n",
    "for fish_index, loc_index in enumerate(inverse_indices):\n",
    "    if loc_index not in surviving_fish or weights[fish_index] > weights[surviving_fish[loc_index]]:\n",
    "        surviving_fish[loc_index] = fish_index  # Store the strongest fish for this location\n",
    "\n",
    "# ascending order, so we get survive fishes in order\n",
    "surviving_fish_indices = sorted(surviving_fish.values())\n",
    "\n",
    "# Print results\n",
    "print(\"Surviving Fish Indices:\", surviving_fish_indices)\n",
    "print(\"Surviving Fish Weights:\", weights[surviving_fish_indices])\n",
    "\n",
    "# only by numpy methods - https://youtu.be/eClQWW_gbFk?si=UPlGsUzBdmmoskjP&t=6134"
   ]
  }
 ],
 "metadata": {
  "kernelspec": {
   "display_name": "Python 3",
   "language": "python",
   "name": "python3"
  },
  "language_info": {
   "codemirror_mode": {
    "name": "ipython",
    "version": 3
   },
   "file_extension": ".py",
   "mimetype": "text/x-python",
   "name": "python",
   "nbconvert_exporter": "python",
   "pygments_lexer": "ipython3",
   "version": "3.13.2"
  }
 },
 "nbformat": 4,
 "nbformat_minor": 2
}
