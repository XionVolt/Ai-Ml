{
 "cells": [
  {
   "cell_type": "markdown",
   "metadata": {},
   "source": [
    "## Problem Statement\n",
    "You're given a 10x2 array of floats where each row represents a movie. The first column represents the movie's rating and the second column represents the director's rating. Your goal is to create a third column to represent the overall rating. The overall rating is equal to the movie rating if it exists, otherwise it's the director's rating."
   ]
  },
  {
   "cell_type": "code",
   "execution_count": 5,
   "metadata": {},
   "outputs": [
    {
     "name": "stdout",
     "output_type": "stream",
     "text": [
      "[[ 7.  1.]\n",
      " [nan  2.]\n",
      " [nan  8.]\n",
      " [ 9.  3.]\n",
      " [ 8.  9.]\n",
      " [ 5.  2.]\n",
      " [ 8.  2.]\n",
      " [nan  6.]\n",
      " [ 9.  2.]\n",
      " [nan  5.]]\n"
     ]
    },
    {
     "data": {
      "text/plain": [
       "array([False,  True,  True, False, False, False, False,  True, False,\n",
       "        True])"
      ]
     },
     "execution_count": 5,
     "metadata": {},
     "output_type": "execute_result"
    }
   ],
   "source": [
    "import numpy as np\n",
    "\n",
    "generator = np.random.default_rng(123)\n",
    "ratings = np.round(generator.uniform(low=0.0, high=10.0, size=(10, 2)))\n",
    "ratings[[1, 2, 7, 9], [0, 0, 0, 0]] = np.nan\n",
    "\n",
    "print(ratings)\n",
    "\n",
    "np.isnan(ratings[:, 0])"
   ]
  },
  {
   "cell_type": "code",
   "execution_count": null,
   "metadata": {},
   "outputs": [
    {
     "data": {
      "text/plain": [
       "array([[ 7.,  1.,  7.],\n",
       "       [nan,  2.,  2.],\n",
       "       [nan,  8.,  8.],\n",
       "       [ 9.,  3.,  9.],\n",
       "       [ 8.,  9.,  8.],\n",
       "       [ 5.,  2.,  5.],\n",
       "       [ 8.,  2.,  8.],\n",
       "       [nan,  6.,  6.],\n",
       "       [ 9.,  2.,  9.],\n",
       "       [nan,  5.,  5.]])"
      ]
     },
     "execution_count": 19,
     "metadata": {},
     "output_type": "execute_result"
    }
   ],
   "source": [
    "count = np.where(np.isnan(ratings[:, 0]), ratings[:, 1], ratings[:, 0]).reshape(10,1)\n",
    "\n",
    "resultant_Array = np.hstack((ratings,count))\n",
    "resultant_Array"
   ]
  },
  {
   "cell_type": "markdown",
   "metadata": {},
   "source": [
    "## This work can also be dony by `np.insert` method , - [see here](https://youtu.be/eClQWW_gbFk?si=8JRBfKOrFLli8HQW&t=5975)"
   ]
  }
 ],
 "metadata": {
  "kernelspec": {
   "display_name": "Python 3",
   "language": "python",
   "name": "python3"
  },
  "language_info": {
   "codemirror_mode": {
    "name": "ipython",
    "version": 3
   },
   "file_extension": ".py",
   "mimetype": "text/x-python",
   "name": "python",
   "nbconvert_exporter": "python",
   "pygments_lexer": "ipython3",
   "version": "3.13.2"
  }
 },
 "nbformat": 4,
 "nbformat_minor": 2
}
