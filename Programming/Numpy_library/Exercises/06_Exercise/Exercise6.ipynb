{
 "cells": [
  {
   "cell_type": "markdown",
   "metadata": {},
   "source": [
    "## Problem Statement\n",
    "\n",
    "Eager to make your mark on the PTA, you decide the best way to hide eggs for the upcoming easter egg hunt is to use NumPy. You represent the field as a 10x10 array of 0s. Now your goal is to insert twenty random normal values at random (non-repeating) locations in the grid that tell you how much candy to hide at each spot and where."
   ]
  },
  {
   "cell_type": "code",
   "execution_count": 31,
   "metadata": {},
   "outputs": [
    {
     "name": "stdout",
     "output_type": "stream",
     "text": [
      "[[0. 0. 0. 0. 0. 0. 0. 0. 0. 0.]\n",
      " [0. 0. 0. 0. 0. 0. 0. 0. 0. 0.]\n",
      " [0. 0. 0. 0. 0. 0. 0. 0. 0. 0.]\n",
      " [0. 0. 0. 0. 0. 0. 0. 0. 0. 0.]\n",
      " [0. 0. 0. 0. 0. 0. 0. 0. 0. 0.]\n",
      " [0. 0. 0. 0. 0. 0. 0. 0. 0. 0.]\n",
      " [0. 0. 0. 0. 0. 0. 0. 0. 0. 0.]\n",
      " [0. 0. 0. 0. 0. 0. 0. 0. 0. 0.]\n",
      " [0. 0. 0. 0. 0. 0. 0. 0. 0. 0.]\n",
      " [0. 0. 0. 0. 0. 0. 0. 0. 0. 0.]]\n"
     ]
    }
   ],
   "source": [
    "import numpy as np\n",
    "\n",
    "field = np.zeros(shape=(10, 10))\n",
    "print(field)\n"
   ]
  },
  {
   "cell_type": "code",
   "execution_count": 32,
   "metadata": {},
   "outputs": [
    {
     "data": {
      "text/plain": [
       "array([19, 12, 88, 70, 16,  4, 72, 65,  9, 10, 84, 71, 48, 13, 66, 39,  6,\n",
       "        8, 81, 32], dtype=int32)"
      ]
     },
     "execution_count": 32,
     "metadata": {},
     "output_type": "execute_result"
    }
   ],
   "source": [
    "num_positions = 20  # Number of candies to hide\n",
    "\n",
    "# Generate 20 unique random positions in a 10x10 grid (total 100 positions)\n",
    "random_positions = np.random.choice(field.size, size=num_positions, replace=False) # replace=false ensures that no number is repeated\n",
    "random_positions\n"
   ]
  },
  {
   "cell_type": "code",
   "execution_count": 33,
   "metadata": {},
   "outputs": [
    {
     "data": {
      "text/plain": [
       "array([ 0.  ,  0.3 , -0.27, -0.89, -0.45, -0.99,  0.06,  1.34, -0.49,\n",
       "       -0.62,  0.49,  0.36,  0.11, -0.93, -0.03,  0.7 , -1.34, -0.46,\n",
       "       -1.9 , -1.29])"
      ]
     },
     "execution_count": 33,
     "metadata": {},
     "output_type": "execute_result"
    }
   ],
   "source": [
    "# Generate 20 random normal values for the candies\n",
    "rng= np.random.default_rng(7)\n",
    "\n",
    "candy_values = np.round(rng.normal(size=20),2)  \n",
    "\n",
    "candy_values\n",
    "\n"
   ]
  },
  {
   "cell_type": "code",
   "execution_count": 34,
   "metadata": {},
   "outputs": [
    {
     "name": "stdout",
     "output_type": "stream",
     "text": [
      "[[ 0.    0.    0.    0.   -0.99  0.   -1.34  0.   -0.46 -0.49]\n",
      " [-0.62  0.    0.3  -0.93  0.    0.   -0.45  0.    0.    0.  ]\n",
      " [ 0.    0.    0.    0.    0.    0.    0.    0.    0.    0.  ]\n",
      " [ 0.    0.   -1.29  0.    0.    0.    0.    0.    0.    0.7 ]\n",
      " [ 0.    0.    0.    0.    0.    0.    0.    0.    0.11  0.  ]\n",
      " [ 0.    0.    0.    0.    0.    0.    0.    0.    0.    0.  ]\n",
      " [ 0.    0.    0.    0.    0.    1.34 -0.03  0.    0.    0.  ]\n",
      " [-0.89  0.36  0.06  0.    0.    0.    0.    0.    0.    0.  ]\n",
      " [ 0.   -1.9   0.    0.    0.49  0.    0.    0.   -0.27  0.  ]\n",
      " [ 0.    0.    0.    0.    0.    0.    0.    0.    0.    0.  ]]\n"
     ]
    }
   ],
   "source": [
    "field.ravel()[random_positions] = candy_values\n",
    "\n",
    "print(field)"
   ]
  }
 ],
 "metadata": {
  "kernelspec": {
   "display_name": "Python 3",
   "language": "python",
   "name": "python3"
  },
  "language_info": {
   "codemirror_mode": {
    "name": "ipython",
    "version": 3
   },
   "file_extension": ".py",
   "mimetype": "text/x-python",
   "name": "python",
   "nbconvert_exporter": "python",
   "pygments_lexer": "ipython3",
   "version": "3.13.2"
  }
 },
 "nbformat": 4,
 "nbformat_minor": 2
}
