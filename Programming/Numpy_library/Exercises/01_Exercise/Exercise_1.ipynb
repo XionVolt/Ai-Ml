{
 "cells": [
  {
   "cell_type": "markdown",
   "metadata": {},
   "source": [
    "# Problem statement\n",
    "#### With your high school reunion fast approaching, you decide to get in shape and lose some weight. You record your weight every day for five weeks starting on a Monday. Given these daily weights, build an array with your average weight per weekend. "
   ]
  },
  {
   "cell_type": "code",
   "execution_count": 2,
   "metadata": {},
   "outputs": [
    {
     "data": {
      "text/plain": [
       "array([[185.3, 184.4, 184.1, 184.8, 184.5, 183.6, 183.4],\n",
       "       [183.8, 183.2, 182.8, 182.8, 183.1, 183.1, 182.4],\n",
       "       [182.8, 181.7, 182.1, 181.9, 181.7, 181.3, 181.6],\n",
       "       [181.5, 180.6, 180.6, 180.3, 180.7, 179.6, 180.2],\n",
       "       [180. , 179.2, 179. , 179.5, 178.6, 179.1, 178.9]])"
      ]
     },
     "execution_count": 2,
     "metadata": {},
     "output_type": "execute_result"
    }
   ],
   "source": [
    "import numpy as np\n",
    "                    # linspace array        +       # random noise array                 \n",
    "weights =  np.round(np.linspace(185.0, 178.5, 35) + np.random.uniform(-0.5, 0.5, 35),1)\n",
    "weights = weights.reshape(5,7) # to make it 5 rows(5 weeks) and 7 columns(7 weekdays) , we just reshape it , so we can index easily\n",
    "weights"
   ]
  },
  {
   "cell_type": "markdown",
   "metadata": {},
   "source": [
    "What is `numpy.linspace()`?\n",
    "numpy.linspace(start, stop, num) generates evenly spaced numbers over a specified range.\n",
    "\n",
    "```python\n",
    "np.linspace(start, stop, num, endpoint=True, retstep=False, dtype=None)\n",
    "```\n",
    "1. `start` → The starting value of the sequence.\n",
    "2. `stop` → The ending value of the sequence.\n",
    "3. `num` → The number of samples to generate (default: 50).\n",
    "4. `endpoint=True` → Includes the stop value in the sequence. If False, the sequence stops before stop.Default:True\n",
    "5. `retstep=False` → If True, it returns the step size between numbers.\n",
    "6. `dtype=None` → Specifies the data type (optional).\n"
   ]
  },
  {
   "cell_type": "code",
   "execution_count": 11,
   "metadata": {},
   "outputs": [
    {
     "name": "stdout",
     "output_type": "stream",
     "text": [
      "[ 1  3  5  7 10]\n"
     ]
    },
    {
     "data": {
      "text/plain": [
       "(array([ 1,  3,  5,  7, 10]), np.float64(2.25))"
      ]
     },
     "execution_count": 11,
     "metadata": {},
     "output_type": "execute_result"
    }
   ],
   "source": [
    "# Example 1: Generating 5 evenly spaced numbers\n",
    "print(np.linspace(1,10,5,dtype=int))\n",
    "# 💡 Explanation: The range 1 → 10 is divided into 5 equal intervals. (Math : 10/5(num) = 2; from 1 , add 2 to each output element until 10(inclusive))\n",
    "arr_and_step = np.linspace(1, 10, 5,dtype=int, retstep=True) \n",
    "# 💡 Explanation: The difference between consecutive elements is 2.25\n",
    "arr_and_step\n"
   ]
  },
  {
   "cell_type": "markdown",
   "metadata": {},
   "source": [
    "### Conclusion\n",
    "-  linspace() is best when you want a specific number of values (e.g., exactly 35 weights).\n",
    "- arange() is better when using a fixed step size (e.g., every 0.5 units)."
   ]
  },
  {
   "cell_type": "markdown",
   "metadata": {},
   "source": [
    "## Continue from problem statement solution"
   ]
  },
  {
   "cell_type": "code",
   "execution_count": 4,
   "metadata": {},
   "outputs": [
    {
     "data": {
      "text/plain": [
       "array([183.5 , 182.75, 181.45, 179.9 , 179.  ])"
      ]
     },
     "execution_count": 4,
     "metadata": {},
     "output_type": "execute_result"
    }
   ],
   "source": [
    "# resultant array , \n",
    "# So each week starts on Monday, so weekends are at index positions [5, 6], [12, 13], [19, 20], [26, 27], and [33, 34].\n",
    "avg_weight_for_each_weekend = np.zeros((5))\n",
    "avg_weight_for_each_weekend[:] =  np.mean(weights[:,5:7], axis=1)\n",
    "avg_weight_for_each_weekend # So here we find the average weight for each weekend"
   ]
  },
  {
   "cell_type": "markdown",
   "metadata": {},
   "source": [
    "## But how axis = 1 works?\n",
    "\n",
    "#### 🧩 Understanding NumPy Axes\n",
    "So Every NumPy array has dimensions we already know, and each dimension has an axis:\n",
    "\n",
    "- 1D array (shape = (n,)) → Only one axis: axis=0\n",
    "- 2D array (shape = (m, n)) → Two axes:\n",
    "   - axis=0 → Operates column-wise (vertical direction)\n",
    "   - axis=1 → Operates row-wise (horizontal direction)\n",
    "- 3D array (shape = (p, m, n)) → Three axes:\n",
    "    - axis=0 → Across depth (layers)\n",
    "    - axis=1 → Across rows\n",
    "    - axis=2 → Across columns\n",
    "\n",
    "...,so on for n number of dimensions...\n",
    "\n",
    "Let's say you have this 2D array:\n"
   ]
  },
  {
   "cell_type": "code",
   "execution_count": 5,
   "metadata": {},
   "outputs": [
    {
     "data": {
      "text/plain": [
       "array([[1, 2, 3],\n",
       "       [4, 5, 6],\n",
       "       [7, 8, 9]])"
      ]
     },
     "execution_count": 5,
     "metadata": {},
     "output_type": "execute_result"
    }
   ],
   "source": [
    "arr = np.array([\n",
    "    [1, 2, 3],   # Row 0\n",
    "    [4, 5, 6],   # Row 1\n",
    "    [7, 8, 9]    # Row 2\n",
    "])\n",
    "\n",
    "arr"
   ]
  },
  {
   "cell_type": "markdown",
   "metadata": {},
   "source": [
    "#### 1️⃣ np.mean(arr, axis=0) → Column-wise (Downward)\n",
    "\n",
    "```python\n",
    "arr =  [[ 1   2   3 ]  \n",
    "        [ 4   5   6 ]  \n",
    "        [ 7   8   9 ]]\n",
    "\n",
    "```\n",
    "\n",
    "Computes mean of each column:\n",
    "- (1 + 4 + 7) / 3 = 4.0\n",
    "- (2 + 5 + 8) / 3 = 5.0\n",
    "- (3 + 6 + 9) / 3 = 6.0\n",
    "\n",
    "***See 👇🏻***"
   ]
  },
  {
   "cell_type": "code",
   "execution_count": 6,
   "metadata": {},
   "outputs": [
    {
     "data": {
      "text/plain": [
       "array([4., 5., 6.])"
      ]
     },
     "execution_count": 6,
     "metadata": {},
     "output_type": "execute_result"
    }
   ],
   "source": [
    "np.mean(arr, axis=0)  \n",
    "# Output: [4.0 5.0 6.0]  (shape = (3,))"
   ]
  },
  {
   "cell_type": "markdown",
   "metadata": {},
   "source": [
    "#### 2️⃣ np.mean(arr, axis=1) → Row-wise (Sideways) \n",
    "\n",
    "```python\n",
    "arr =  [[ 1   2   3 ]  \n",
    "        [ 4   5   6 ]  \n",
    "        [ 7   8   9 ]]\n",
    "\n",
    "```\n",
    "\n",
    "\n",
    "Computes mean of each row(**That' what we did to find solution for our exercise , because what we need **):\n",
    "- (1 + 2 + 3) / 3 = 2.0\n",
    "- (4 + 5 + 6) / 3 = 5.0\n",
    "- (7 + 8 + 9) / 3 = 8.0\n",
    "\n",
    "***See 👇🏻***"
   ]
  },
  {
   "cell_type": "code",
   "execution_count": 7,
   "metadata": {},
   "outputs": [
    {
     "data": {
      "text/plain": [
       "array([2., 5., 8.])"
      ]
     },
     "execution_count": 7,
     "metadata": {},
     "output_type": "execute_result"
    }
   ],
   "source": [
    "np.mean(arr, axis=1)  "
   ]
  },
  {
   "cell_type": "markdown",
   "metadata": {},
   "source": [
    "#### But this  np.mean(arr) , gives us mean of all elements in array , in result we get single value as output "
   ]
  },
  {
   "cell_type": "code",
   "execution_count": 8,
   "metadata": {},
   "outputs": [
    {
     "data": {
      "text/plain": [
       "np.float64(5.0)"
      ]
     },
     "execution_count": 8,
     "metadata": {},
     "output_type": "execute_result"
    }
   ],
   "source": [
    "# 1+2+3+4+5+6+7+8+9 = 45\n",
    "# 45/9 = 5\n",
    "np.mean(arr)"
   ]
  },
  {
   "cell_type": "markdown",
   "metadata": {},
   "source": [
    "#### 🛠 Applying This to our Case (weights[:,5:7])\n",
    "***this gives us array of 👇🏻***"
   ]
  },
  {
   "cell_type": "code",
   "execution_count": 9,
   "metadata": {},
   "outputs": [
    {
     "data": {
      "text/plain": [
       "array([[183.6, 183.4],\n",
       "       [183.1, 182.4],\n",
       "       [181.3, 181.6],\n",
       "       [179.6, 180.2],\n",
       "       [179.1, 178.9]])"
      ]
     },
     "execution_count": 9,
     "metadata": {},
     "output_type": "execute_result"
    }
   ],
   "source": [
    "\n",
    "weekend_weights = weights[:, 5:7]\n",
    "weekend_weights # of 2 dimension"
   ]
  },
  {
   "cell_type": "markdown",
   "metadata": {},
   "source": []
  },
  {
   "cell_type": "markdown",
   "metadata": {},
   "source": [
    "With axis=1\n",
    "```python\n",
    "np.mean(weights[:,5:7], axis=1)\n",
    "```\n",
    "\n",
    "- `weights[:, 5:7]` selects two columns (Sat & Sun) → (5,2) shape.\n",
    "- `axis=1` → Computes mean across each row (each week's Sat & Sun).\n",
    "- Output shape: `(5,)` → One mean per week."
   ]
  },
  {
   "cell_type": "code",
   "execution_count": 10,
   "metadata": {},
   "outputs": [
    {
     "data": {
      "text/plain": [
       "array([183.5 , 182.75, 181.45, 179.9 , 179.  ])"
      ]
     },
     "execution_count": 10,
     "metadata": {},
     "output_type": "execute_result"
    }
   ],
   "source": [
    "# So basically it calaculates the mean of a matrix , but row-wise(Horizontal wise) as axis param is 1\n",
    "np.mean(weights[:,5:7], axis=1) # and each element of this array assign to corresponding element of `avg_weight_for_each_weekend` array"
   ]
  },
  {
   "cell_type": "markdown",
   "metadata": {},
   "source": [
    "[Btw we have one more solution of this exercise from `GormAnalysis`](https://youtu.be/eClQWW_gbFk?si=5ZJ7n7rUB0deOECz&t=1947)"
   ]
  }
 ],
 "metadata": {
  "kernelspec": {
   "display_name": "Python 3",
   "language": "python",
   "name": "python3"
  },
  "language_info": {
   "codemirror_mode": {
    "name": "ipython",
    "version": 3
   },
   "file_extension": ".py",
   "mimetype": "text/x-python",
   "name": "python",
   "nbconvert_exporter": "python",
   "pygments_lexer": "ipython3",
   "version": "3.13.2"
  }
 },
 "nbformat": 4,
 "nbformat_minor": 2
}
