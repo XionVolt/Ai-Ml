{
 "cells": [
  {
   "cell_type": "markdown",
   "metadata": {},
   "source": [
    "## Problem Statement\n",
    "You're a relationship scientist, and you've developed a questionnaire that determines a person's love score, a real-valued number between 0 and 100. Your theory is that two people with similar love scores should make a good match.\n",
    "\n",
    "Given the love scores for 10 different people, create a matrix where (i, j) gives the absolute difference of the love scores for person i and person j."
   ]
  },
  {
   "cell_type": "code",
   "execution_count": 2,
   "metadata": {},
   "outputs": [
    {
     "name": "stdout",
     "output_type": "stream",
     "text": [
      "(10, 1)\n",
      "(1, 10)\n"
     ]
    }
   ],
   "source": [
    "import numpy as np \n",
    "\n",
    "generator = np.random.default_rng(7)\n",
    "\n",
    "love_scores = np.round(generator.uniform(0, 100, 10), 2)\n",
    "\n",
    "print(love_scores[:,None].shape)\n",
    "print(love_scores[None,:].shape)"
   ]
  },
  {
   "cell_type": "code",
   "execution_count": 3,
   "metadata": {},
   "outputs": [
    {
     "data": {
      "text/plain": [
       "array([[ 0.  , 27.21, 15.06, 39.99, 32.49, 24.85, 61.98, 19.61, 17.2 , 15.72],\n",
       "       [27.21,  0.  , 12.15, 67.2 , 59.7 ,  2.36, 89.19,  7.6 , 10.01, 42.93],\n",
       "       [15.06, 12.15,  0.  , 55.05, 47.55,  9.79, 77.04,  4.55,  2.14, 30.78],\n",
       "       [39.99, 67.2 , 55.05,  0.  ,  7.5 , 64.84, 21.99, 59.6 , 57.19, 24.27],\n",
       "       [32.49, 59.7 , 47.55,  7.5 ,  0.  , 57.34, 29.49, 52.1 , 49.69, 16.77],\n",
       "       [24.85,  2.36,  9.79, 64.84, 57.34,  0.  , 86.83,  5.24,  7.65, 40.57],\n",
       "       [61.98, 89.19, 77.04, 21.99, 29.49, 86.83,  0.  , 81.59, 79.18, 46.26],\n",
       "       [19.61,  7.6 ,  4.55, 59.6 , 52.1 ,  5.24, 81.59,  0.  ,  2.41, 35.33],\n",
       "       [17.2 , 10.01,  2.14, 57.19, 49.69,  7.65, 79.18,  2.41,  0.  , 32.92],\n",
       "       [15.72, 42.93, 30.78, 24.27, 16.77, 40.57, 46.26, 35.33, 32.92,  0.  ]])"
      ]
     },
     "execution_count": 3,
     "metadata": {},
     "output_type": "execute_result"
    }
   ],
   "source": [
    "# broadcasting, numpy try to make axis same of both arrays\n",
    "np.set_printoptions(linewidth=999) # means not to wrap text until it reaches 999 characters\n",
    "resultant_matrix =  np.abs(love_scores[:,None] - love_scores[None,:])\n",
    "resultant_matrix\n"
   ]
  },
  {
   "cell_type": "code",
   "execution_count": null,
   "metadata": {},
   "outputs": [
    {
     "data": {
      "text/plain": [
       "array([15.06,  2.36,  2.14,  7.5 ,  7.5 ,  2.36, 21.99,  2.41,  2.14, 15.72])"
      ]
     },
     "execution_count": 4,
     "metadata": {},
     "output_type": "execute_result"
    }
   ],
   "source": [
    "# To remove redundant diagonal part, making it 10x9 from 10x10\n",
    "resultant_matrix_new = resultant_matrix[resultant_matrix!=0] \n",
    "resultant_matrix_new = resultant_matrix_new.reshape(10,-1)\n",
    "np.min(resultant_matrix_new,axis=1)"
   ]
  },
  {
   "cell_type": "markdown",
   "metadata": {},
   "source": [
    "[See explanation of full solution, here](https://youtu.be/eClQWW_gbFk?si=Uams76zFZkZCMeYZ&t=4267)"
   ]
  }
 ],
 "metadata": {
  "kernelspec": {
   "display_name": "Python 3",
   "language": "python",
   "name": "python3"
  },
  "language_info": {
   "codemirror_mode": {
    "name": "ipython",
    "version": 3
   },
   "file_extension": ".py",
   "mimetype": "text/x-python",
   "name": "python",
   "nbconvert_exporter": "python",
   "pygments_lexer": "ipython3",
   "version": "3.11.3"
  }
 },
 "nbformat": 4,
 "nbformat_minor": 2
}
