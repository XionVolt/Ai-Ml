{
 "cells": [
  {
   "cell_type": "markdown",
   "metadata": {},
   "source": [
    "You're a vindictive, hateful professor and one of your pet peeves is when students rush through their exams. To teach them a lesson, you decide to give 0s to the first three students who score less than sixty, in the order they turned in their exams. So, given a 1D array of integers, identify the first three values less than sixty and replace them with zero."
   ]
  },
  {
   "cell_type": "code",
   "execution_count": 1,
   "metadata": {},
   "outputs": [
    {
     "name": "stdout",
     "output_type": "stream",
     "text": [
      "[68. 36. 76. 57. 56. 54. 63. 64. 36. 88. 80. 82. 84. 76. 42.]\n"
     ]
    }
   ],
   "source": [
    "import numpy as np \n",
    "\n",
    "generator = np.random.default_rng(80085)\n",
    "scores = np.round(generator.uniform(low=30, high=100, size=15))\n",
    "\n",
    "print(scores)"
   ]
  },
  {
   "cell_type": "code",
   "execution_count": null,
   "metadata": {},
   "outputs": [
    {
     "name": "stdout",
     "output_type": "stream",
     "text": [
      "[68.  0. 76.  0.  0. 54. 63. 64. 36. 88. 80. 82. 84. 76. 42.]\n"
     ]
    },
    {
     "data": {
      "text/plain": [
       "array([66, 67, 57, 65, 63, 86, 80, 77, 86])"
      ]
     },
     "execution_count": 11,
     "metadata": {},
     "output_type": "execute_result"
    }
   ],
   "source": [
    "allIndicesScrBelow60 = np.argwhere(scores < 60)\n",
    "\n",
    "scores[allIndicesScrBelow60[:3]] = 0\n",
    "\n",
    "# \n",
    "print(scores)\n"
   ]
  }
 ],
 "metadata": {
  "kernelspec": {
   "display_name": "Python 3",
   "language": "python",
   "name": "python3"
  },
  "language_info": {
   "codemirror_mode": {
    "name": "ipython",
    "version": 3
   },
   "file_extension": ".py",
   "mimetype": "text/x-python",
   "name": "python",
   "nbconvert_exporter": "python",
   "pygments_lexer": "ipython3",
   "version": "3.11.3"
  }
 },
 "nbformat": 4,
 "nbformat_minor": 2
}
