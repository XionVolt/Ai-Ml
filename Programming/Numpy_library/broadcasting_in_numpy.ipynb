{
 "cells": [
  {
   "cell_type": "markdown",
   "metadata": {
    "vscode": {
     "languageId": "plaintext"
    }
   },
   "source": [
    "## Broadcasting in arrays\n",
    "\n",
    "[What is BroadCasting, see this clip by `GormAnalysis`](https://youtu.be/eClQWW_gbFk?si=_p78st0bKeELtEcl&t=2485)\n",
    "\n",
    "[BroadCasting Rules](https://youtu.be/eClQWW_gbFk?si=yW_lHKlO6Htdhrp_&t=2555)<br>\n",
    "**For example suppose we want to add two arrays, A and B**\n",
    "- Moving backwards from the last dimension of each array, we check if their dimensions are compatible\n",
    "- Dimensions are compatible if they are equal or either of them is one \n",
    "- If all of A's dimensions are compatible with B's dimensions, or vice versa. they are compatible arrays\n",
    "- [Click here for Examples](https://youtu.be/eClQWW_gbFk?si=wIHKB0LHH0HkBpCG&t=2590)\n"
   ]
  },
  {
   "cell_type": "code",
   "execution_count": 1,
   "metadata": {},
   "outputs": [
    {
     "data": {
      "text/plain": [
       "array([[ 2,  3,  6],\n",
       "       [ 4,  5, 10]])"
      ]
     },
     "execution_count": 1,
     "metadata": {},
     "output_type": "execute_result"
    }
   ],
   "source": [
    "import numpy as np\n",
    "np.array([\n",
    "    [1,2,5],\n",
    "    [3,4,9]\n",
    "]) + 1"
   ]
  }
 ],
 "metadata": {
  "kernelspec": {
   "display_name": "Python 3",
   "language": "python",
   "name": "python3"
  },
  "language_info": {
   "codemirror_mode": {
    "name": "ipython",
    "version": 3
   },
   "file_extension": ".py",
   "mimetype": "text/x-python",
   "name": "python",
   "nbconvert_exporter": "python",
   "pygments_lexer": "ipython3",
   "version": "3.11.3"
  }
 },
 "nbformat": 4,
 "nbformat_minor": 2
}
