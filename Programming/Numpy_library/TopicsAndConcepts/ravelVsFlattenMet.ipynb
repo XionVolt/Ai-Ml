{
 "cells": [
  {
   "cell_type": "markdown",
   "metadata": {},
   "source": [
    "Both ravel() and flatten() convert a NumPy array into a 1D array, but they behave slightly differently.\n",
    "\n",
    "\n",
    "## Difference between ravel() and flatten()\n",
    "\n",
    "| Feature            | ravel()                         | flatten()                  |\n",
    "|--------------------|--------------------------------|----------------------------|\n",
    "| Return Type       | Returns a view (if possible)   | Always returns a copy      |\n",
    "| Memory Usage      | Efficient (modifies original if possible) | Uses extra memory |\n",
    "| Modifies Original? | Yes (if it returns a view)    | No (since it returns a copy) |\n",
    "| Performance       | Faster                          | Slightly slower           |\n"
   ]
  },
  {
   "cell_type": "markdown",
   "metadata": {},
   "source": [
    "#### What's a view : A view in NumPy is an array that shares the same data as the original array but presents it in a different shape or order. Modifying a view also modifies the original array.\n",
    "\n",
    "Note: ravel() returns a 1D view of the original array if possible (i.e., when the array is stored in a contiguous block of memory). This means that modifying elements in ravel() also modifies the original array.\n",
    "\n",
    "However, it does not change the shape of field(original array) itself. The original field remains a 2D array, and the updates happen in place."
   ]
  },
  {
   "cell_type": "code",
   "execution_count": 12,
   "metadata": {},
   "outputs": [
    {
     "name": "stdout",
     "output_type": "stream",
     "text": [
      "[1. 1. 1. 1. 1. 1. 1. 1. 1. 1. 0. 0. 0. 0. 0. 0. 0. 0. 0. 0. 0. 0. 0. 0.\n",
      " 0. 0. 0. 0. 0. 0. 0. 0. 0. 0. 0. 0. 0. 0. 0. 0. 0. 0. 0. 0. 0. 0. 0. 0.\n",
      " 0. 0. 0. 0. 0. 0. 0. 0. 0. 0. 0. 0. 0. 0. 0. 0. 0. 0. 0. 0. 0. 0. 0. 0.\n",
      " 0. 0. 0. 0. 0. 0. 0. 0. 0. 0. 0. 0. 0. 0. 0. 0. 0. 0. 0. 0. 0. 0. 0. 0.\n",
      " 0. 0. 0. 0.]\n",
      "[[1. 1. 1. 1. 1. 1. 1. 1. 1. 1.]\n",
      " [0. 0. 0. 0. 0. 0. 0. 0. 0. 0.]\n",
      " [0. 0. 0. 0. 0. 0. 0. 0. 0. 0.]\n",
      " [0. 0. 0. 0. 0. 0. 0. 0. 0. 0.]\n",
      " [0. 0. 0. 0. 0. 0. 0. 0. 0. 0.]\n",
      " [0. 0. 0. 0. 0. 0. 0. 0. 0. 0.]\n",
      " [0. 0. 0. 0. 0. 0. 0. 0. 0. 0.]\n",
      " [0. 0. 0. 0. 0. 0. 0. 0. 0. 0.]\n",
      " [0. 0. 0. 0. 0. 0. 0. 0. 0. 0.]\n",
      " [0. 0. 0. 0. 0. 0. 0. 0. 0. 0.]]\n"
     ]
    }
   ],
   "source": [
    "import numpy as np\n",
    "\n",
    "field = np.zeros((10, 10))\n",
    "field.ravel()[np.arange(10)] = 1\n",
    "print(field.ravel())\n",
    "# see not change shape of a original array `field`\n",
    "print(field)"
   ]
  }
 ],
 "metadata": {
  "kernelspec": {
   "display_name": "Python 3",
   "language": "python",
   "name": "python3"
  },
  "language_info": {
   "codemirror_mode": {
    "name": "ipython",
    "version": 3
   },
   "file_extension": ".py",
   "mimetype": "text/x-python",
   "name": "python",
   "nbconvert_exporter": "python",
   "pygments_lexer": "ipython3",
   "version": "3.13.2"
  }
 },
 "nbformat": 4,
 "nbformat_minor": 2
}
