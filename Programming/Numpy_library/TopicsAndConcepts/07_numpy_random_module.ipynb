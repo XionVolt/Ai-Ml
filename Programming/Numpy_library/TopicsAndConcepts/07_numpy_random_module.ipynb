{
 "cells": [
  {
   "cell_type": "markdown",
   "metadata": {},
   "source": [
    "[See this video](https://youtu.be/eClQWW_gbFk?si=lhHEswSfZrZFGjmI&t=3547)"
   ]
  },
  {
   "cell_type": "code",
   "execution_count": 81,
   "metadata": {},
   "outputs": [
    {
     "data": {
      "text/plain": [
       "array([[2, 6, 8],\n",
       "       [3, 5, 9],\n",
       "       [2, 3, 2]])"
      ]
     },
     "execution_count": 81,
     "metadata": {},
     "output_type": "execute_result"
    }
   ],
   "source": [
    "import numpy as np\n",
    "np.random.randint(1, 10, size=(3, 3)) # 3x3 array of random integers between 1 and 10, high is exclusive"
   ]
  },
  {
   "cell_type": "code",
   "execution_count": 82,
   "metadata": {},
   "outputs": [
    {
     "data": {
      "text/plain": [
       "array([[0.60306013, 0.54506801, 0.34276383],\n",
       "       [0.30412079, 0.41702221, 0.68130077],\n",
       "       [0.87545684, 0.51042234, 0.66931378]])"
      ]
     },
     "execution_count": 82,
     "metadata": {},
     "output_type": "execute_result"
    }
   ],
   "source": [
    "np.random.rand(3, 3) # 3x3 array of random floats between 0 and 1"
   ]
  },
  {
   "cell_type": "code",
   "execution_count": 83,
   "metadata": {},
   "outputs": [
    {
     "data": {
      "text/plain": [
       "array([[ 1.79988945,  1.23836635,  0.91375695],\n",
       "       [ 0.46626803,  0.12503966, -0.19765092],\n",
       "       [-0.72803492, -0.61031342, -0.87304897]])"
      ]
     },
     "execution_count": 83,
     "metadata": {},
     "output_type": "execute_result"
    }
   ],
   "source": [
    "np.random.randn(3, 3) # 3x3 array of random floats from standard normal distribution\n"
   ]
  },
  {
   "cell_type": "code",
   "execution_count": 84,
   "metadata": {},
   "outputs": [
    {
     "name": "stdout",
     "output_type": "stream",
     "text": [
      "[6 3 5]\n"
     ]
    }
   ],
   "source": [
    "# set seed for reproducibility\n",
    "# old way\n",
    "np.random.seed(123)\n",
    "print(np.random.randint(1, 7, size=3))"
   ]
  },
  {
   "cell_type": "code",
   "execution_count": 85,
   "metadata": {},
   "outputs": [
    {
     "data": {
      "text/plain": [
       "array([3, 2, 4, 3, 4, 2, 2, 1, 2, 2])"
      ]
     },
     "execution_count": 85,
     "metadata": {},
     "output_type": "execute_result"
    }
   ],
   "source": [
    "\n",
    "# numpy.random.choice() - https://youtu.be/eClQWW_gbFk?si=DW8wQdM6ckyfExCv&t=3626\n",
    "\n",
    "my_list = [1,2,3,4,5] # can use string values as well\n",
    "np.random.choice(my_list, size=10, replace=True) # or np.random.choice(5, size=10, replace=True)"
   ]
  },
  {
   "cell_type": "code",
   "execution_count": 86,
   "metadata": {},
   "outputs": [
    {
     "name": "stdout",
     "output_type": "stream",
     "text": [
      "my_array2:\n",
      " [[ 1  2]\n",
      " [ 3  4]\n",
      " [ 5  6]\n",
      " [ 7  8]\n",
      " [ 9 10]]\n"
     ]
    },
    {
     "data": {
      "text/plain": [
       "array([[1, 2],\n",
       "       [1, 2],\n",
       "       [3, 4]])"
      ]
     },
     "execution_count": 86,
     "metadata": {},
     "output_type": "execute_result"
    }
   ],
   "source": [
    "# let's say we want three sample rows from the following array\n",
    "\n",
    "my_array2 = np.arange(1,11).reshape(5,-1) # -1 means as many columns as needed\n",
    "\n",
    "print('my_array2:\\n',my_array2)\n",
    "\n",
    "my_array2[np.random.randint(0,my_array2.shape[0],size=3)]\n",
    "\n"
   ]
  },
  {
   "cell_type": "code",
   "execution_count": 87,
   "metadata": {},
   "outputs": [
    {
     "name": "stdout",
     "output_type": "stream",
     "text": [
      "my_array3 before shuffling:\n",
      " [[ 1  2]\n",
      " [ 3  4]\n",
      " [ 5  6]\n",
      " [ 7  8]\n",
      " [ 9 10]]\n",
      "my_array3 after shuffling:\n",
      " [[ 3  4]\n",
      " [ 9 10]\n",
      " [ 5  6]\n",
      " [ 1  2]\n",
      " [ 7  8]]\n",
      "my_array3_copy:\n",
      " [[ 9 10]\n",
      " [ 7  8]\n",
      " [ 5  6]\n",
      " [ 3  4]\n",
      " [ 1  2]]\n"
     ]
    }
   ],
   "source": [
    "# shuffle an array, np.permutation() for make a new copy, np.random.shuffle() for in place shuffling\n",
    "# but both methods are just shuffle along the first axis, so use default_rng() for more control, for that see below markdown\n",
    "\n",
    "my_array3 = np.arange(1,11).reshape(5,-1)\n",
    "\n",
    "np.random.seed(42)\n",
    "print('my_array3 before shuffling:\\n',my_array3)\n",
    "\n",
    "np.random.shuffle(my_array3)\n",
    "\n",
    "np.random.seed(42)\n",
    "print('my_array3 after shuffling:\\n',my_array3)\n",
    "\n",
    "\n",
    "my_array3_copy = np.random.permutation(my_array3)\n",
    "\n",
    "print('my_array3_copy:\\n',my_array3_copy)"
   ]
  },
  {
   "cell_type": "markdown",
   "metadata": {},
   "source": [
    "[All of the above methods are deprecated, reason,and what to do now? See this clip](https://youtu.be/eClQWW_gbFk?si=u8DGnPOC0Ds7GNsY&t=3987)\n",
    "\n",
    "[Go to : All substitutes of above methods](https://youtu.be/eClQWW_gbFk?si=J_bmxpR1qxBz_BJu&t=4177)"
   ]
  }
 ],
 "metadata": {
  "kernelspec": {
   "display_name": "Python 3",
   "language": "python",
   "name": "python3"
  },
  "language_info": {
   "codemirror_mode": {
    "name": "ipython",
    "version": 3
   },
   "file_extension": ".py",
   "mimetype": "text/x-python",
   "name": "python",
   "nbconvert_exporter": "python",
   "pygments_lexer": "ipython3",
   "version": "3.11.3"
  }
 },
 "nbformat": 4,
 "nbformat_minor": 2
}
