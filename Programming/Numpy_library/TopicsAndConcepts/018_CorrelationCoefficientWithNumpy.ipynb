{
 "cells": [
  {
   "cell_type": "markdown",
   "id": "e63afd32",
   "metadata": {},
   "source": [
    "[Understand Correlation coefficient through this video](https://www.youtube.com/live/jFBpnd0G09o?si=jVaFVeT80RQFDnVm&t=2897)"
   ]
  },
  {
   "cell_type": "code",
   "execution_count": 30,
   "id": "07f8933c",
   "metadata": {},
   "outputs": [
    {
     "name": "stdout",
     "output_type": "stream",
     "text": [
      "[[1.         0.63245553]\n",
      " [0.63245553 1.        ]]\n"
     ]
    }
   ],
   "source": [
    "import numpy as np\n",
    "salary = np.array([1000, 2000, 3000, 4000])\n",
    "experience = np.array([1, 2, 3, 2])\n",
    "correlation_coefficient = np.corrcoef(salary, experience)\n",
    "print(correlation_coefficient)\n",
    "# why it come in this shape? -> https://www.youtube.com/live/jFBpnd0G09o?si=Q_UpqILJUuJD2MtV&t=3021"
   ]
  }
 ],
 "metadata": {
  "kernelspec": {
   "display_name": "Python 3",
   "language": "python",
   "name": "python3"
  },
  "language_info": {
   "codemirror_mode": {
    "name": "ipython",
    "version": 3
   },
   "file_extension": ".py",
   "mimetype": "text/x-python",
   "name": "python",
   "nbconvert_exporter": "python",
   "pygments_lexer": "ipython3",
   "version": "3.13.2"
  }
 },
 "nbformat": 4,
 "nbformat_minor": 5
}
