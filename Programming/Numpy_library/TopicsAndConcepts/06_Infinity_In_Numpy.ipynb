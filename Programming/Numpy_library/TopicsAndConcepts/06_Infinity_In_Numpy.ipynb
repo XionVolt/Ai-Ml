{
 "cells": [
  {
   "cell_type": "markdown",
   "metadata": {},
   "source": [
    "#### Like nan, infinity is also a special value in numpy.\n",
    "It is returned when numbers are divided by zero.\n",
    "\n",
    "\n",
    "[See this video](https://youtu.be/eClQWW_gbFk?si=luiPZjhZ8deOJV8I&t=3457)"
   ]
  },
  {
   "cell_type": "code",
   "execution_count": 10,
   "metadata": {},
   "outputs": [
    {
     "name": "stdout",
     "output_type": "stream",
     "text": [
      "[False False False  True False]\n",
      "[False False False False  True]\n"
     ]
    }
   ],
   "source": [
    "import numpy as np\n",
    "\n",
    "np.array([np.inf, np.inf]) # or np.NINF for negative infinity\n",
    "\n",
    "# To check if a number is infinite\n",
    "\n",
    "# np.isinf(np.array([1,2,3,np.inf,-np.inf]))\n",
    "\n",
    "foo = np.array([1,2,3,np.inf,-np.inf])\n",
    "\n",
    "print(foo == np.inf) \n",
    "\n",
    "print(foo == np.NINF)\n",
    "# or use np.isposinf(), np.isneginf()\n",
    "\n",
    "# To get all inf values\n",
    "\n",
    "\n"
   ]
  }
 ],
 "metadata": {
  "kernelspec": {
   "display_name": "Python 3",
   "language": "python",
   "name": "python3"
  },
  "language_info": {
   "codemirror_mode": {
    "name": "ipython",
    "version": 3
   },
   "file_extension": ".py",
   "mimetype": "text/x-python",
   "name": "python",
   "nbconvert_exporter": "python",
   "pygments_lexer": "ipython3",
   "version": "3.11.3"
  }
 },
 "nbformat": 4,
 "nbformat_minor": 2
}
