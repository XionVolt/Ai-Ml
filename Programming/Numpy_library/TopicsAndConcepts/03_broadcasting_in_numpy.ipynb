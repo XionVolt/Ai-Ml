{
 "cells": [
  {
   "cell_type": "markdown",
   "metadata": {
    "vscode": {
     "languageId": "plaintext"
    }
   },
   "source": [
    "## Broadcasting in arrays\n",
    "\n",
    "[What is BroadCasting, see this clip by `GormAnalysis`](https://youtu.be/eClQWW_gbFk?si=_p78st0bKeELtEcl&t=2485)\n",
    "\n",
    "[BroadCasting Rules](https://youtu.be/eClQWW_gbFk?si=yW_lHKlO6Htdhrp_&t=2555)<br>\n",
    "**For example suppose we want to add two arrays, A and B**\n",
    "- Moving backwards from the last dimension of each array, we check if their dimensions are compatible\n",
    "- Dimensions are compatible if they are equal or either of them is one \n",
    "- If all of A's dimensions are compatible with B's dimensions, or vice versa. they are compatible arrays\n",
    "- [Click here for Examples](https://youtu.be/eClQWW_gbFk?si=wIHKB0LHH0HkBpCG&t=2590)\n"
   ]
  },
  {
   "cell_type": "code",
   "execution_count": 2,
   "metadata": {},
   "outputs": [
    {
     "data": {
      "text/plain": [
       "array([[ 2,  3,  6],\n",
       "       [ 4,  5, 10]])"
      ]
     },
     "execution_count": 2,
     "metadata": {},
     "output_type": "execute_result"
    }
   ],
   "source": [
    "import numpy as np\n",
    "np.array([\n",
    "    [1,2,5],\n",
    "    [3,4,9]\n",
    "]) + 1"
   ]
  },
  {
   "cell_type": "markdown",
   "metadata": {},
   "source": [
    "[Watch this clip to know about newaxis in numpy](https://youtu.be/eClQWW_gbFk?si=MIbVGQl0Do2Pm6qj&t=2780)"
   ]
  },
  {
   "cell_type": "code",
   "execution_count": 3,
   "metadata": {},
   "outputs": [
    {
     "name": "stdout",
     "output_type": "stream",
     "text": [
      "First array:\n",
      " [ 3 11  4  5]\n",
      "Second array:\n",
      " [5 0 3]\n",
      "After reshaping first array:\n",
      " [[ 3]\n",
      " [11]\n",
      " [ 4]\n",
      " [ 5]]\n",
      "Subtraction:\n",
      " [[-2  3  0]\n",
      " [ 6 11  8]\n",
      " [-1  4  1]\n",
      " [ 0  5  2]]\n"
     ]
    }
   ],
   "source": [
    "# So basically we have an 2 arrays :\n",
    "\"\"\"\n",
    "1st array: (1,4) - [3,11,4,5]\n",
    "\n",
    "2nd array: (1,3) - [5,0,3]\n",
    "\n",
    "So basically we have we have to perform subtraction between these two arrays:\n",
    "------------------------------------------------------------------------------ \n",
    "\n",
    "\"\"\"\n",
    "\n",
    "\n",
    "first_array = np.array([\n",
    "    3,11,4,5\n",
    "])\n",
    "print('First array:\\n',first_array)\n",
    "second_array = np.array([5,0,3])\n",
    "print('Second array:\\n',second_array)\n",
    "\n",
    "# After reshaping\n",
    "\n",
    "print('After reshaping first array:\\n',first_array.reshape(4,1)) # means reshape to 4 rows and 1 column\n",
    "print('Subtraction:\\n',first_array.reshape(4,1) - second_array) \n",
    "# How this subtraction is done by numpy, you can see that it here for visualizing - https://youtu.be/eClQWW_gbFk?si=XUItmV2HlJu9NFx7&t=2807"
   ]
  },
  {
   "cell_type": "markdown",
   "metadata": {},
   "source": [
    "using `np.newaxis` or `None` for broadcasting"
   ]
  },
  {
   "cell_type": "code",
   "execution_count": 4,
   "metadata": {},
   "outputs": [
    {
     "name": "stdout",
     "output_type": "stream",
     "text": [
      "[[ 3]\n",
      " [11]\n",
      " [ 4]\n",
      " [ 5]]\n"
     ]
    }
   ],
   "source": [
    "# We can also \n",
    "# first_array[:, None] inserts a new axis, converting it into a 2D column vector with shape (4, 1).\n",
    "# None is used as an alias for np.newaxis, which tells NumPy to add an extra dimension.\n",
    "# so we can also use this way to convert a 1D array into a 2D column vector for proper broadcasting in operations like matrix multiplication(but here subtraction).\n",
    "\n",
    "print(first_array[:,None])  # first_array[:, np.newaxis]  # ✅ Equivalent, does the same thing\n",
    "# But Ensure dimensions match when stacking arrays"
   ]
  },
  {
   "cell_type": "markdown",
   "metadata": {},
   "source": [
    "## Some more facts about `np.resape`\n",
    "**np.reshape** not change in the existing array"
   ]
  },
  {
   "cell_type": "code",
   "execution_count": 5,
   "metadata": {},
   "outputs": [
    {
     "data": {
      "text/plain": [
       "array([[1, 2],\n",
       "       [3, 4],\n",
       "       [5, 6]])"
      ]
     },
     "execution_count": 5,
     "metadata": {},
     "output_type": "execute_result"
    }
   ],
   "source": [
    "# We can specify -1 for exactly one dimension in the shape to let NumPy infer the dimension.\n",
    "myArray = np.array([\n",
    "    [1,2,3],\n",
    "    [4,5,6]\n",
    "])\n",
    "myArray.reshape(-1,2)\n",
    "# OUTPUT:\n",
    "# array([[1, 2, 5],\n",
    "#        [3, 4, 9]])"
   ]
  },
  {
   "cell_type": "markdown",
   "metadata": {},
   "source": [
    "#### **order** parmater in `np.reshape` method\n",
    "[See this video clip to know about order parameter](https://youtu.be/eClQWW_gbFk?si=EX0yolG3drTqUVBW&t=2931)\n"
   ]
  },
  {
   "cell_type": "code",
   "execution_count": 6,
   "metadata": {},
   "outputs": [
    {
     "name": "stdout",
     "output_type": "stream",
     "text": [
      "[[0 1 2]\n",
      " [3 4 5]]\n"
     ]
    }
   ],
   "source": [
    "bar = np.array([\n",
    "    [1,2,3],\n",
    "    [4,5,6]\n",
    "])\n",
    "\n",
    "\"\"\" 'C' (C-style / Row-major order):\n",
    "\n",
    "Default behavior.\n",
    "\n",
    "Elements are read and written row-wise.\n",
    "\n",
    "Traverses the last axis (innermost dimension) first, then moves outward. \"\"\"\n",
    "\n",
    "import numpy as np\n",
    "\n",
    "arr = np.arange(6)  # [0, 1, 2, 3, 4, 5]\n",
    "reshaped = np.reshape(arr, (2, 3), order='C')\n",
    "print(reshaped)\n",
    "# OUTPUT:\n",
    "# [[0 1 2]\n",
    "#  [3 4 5]]\n",
    "# - Elements are filled row-wise.\n",
    "\n",
    "\n"
   ]
  },
  {
   "cell_type": "code",
   "execution_count": 7,
   "metadata": {},
   "outputs": [
    {
     "name": "stdout",
     "output_type": "stream",
     "text": [
      "[[0 2 4]\n",
      " [1 3 5]]\n"
     ]
    }
   ],
   "source": [
    "arr2 = np.arange(6)  # [0, 1, 2, 3, 4, 5]\n",
    "\"\"\" 'F' (Fortran-style / Column-major order):\n",
    "\n",
    "Elements are read and written column-wise.\n",
    "\n",
    "Traverses the first axis (outermost dimension) first, then moves inward. \"\"\"\n",
    "\n",
    "reshaped2 = np.reshape(arr2, (2, 3), order='F')\n",
    "print(reshaped2)\n",
    "\n",
    "# OUTPUT:\n",
    "# [[0 2 4]\n",
    "#  [1 3 5]]\n"
   ]
  },
  {
   "cell_type": "code",
   "execution_count": 8,
   "metadata": {},
   "outputs": [
    {
     "name": "stdout",
     "output_type": "stream",
     "text": [
      "[[0 1]\n",
      " [2 3]\n",
      " [4 5]]\n"
     ]
    }
   ],
   "source": [
    "\"\"\" 'A' (Preserve order):\n",
    "\n",
    "Tries to preserve the original array's memory layout.\n",
    "\n",
    "If the input array is C-contiguous, it behaves like 'C'; if F-contiguous, it behaves like 'F'. \"\"\"\n",
    "\n",
    "\"\"\"\n",
    "Contiguous ? \n",
    "Explain in below cell\n",
    "\"\"\"\n",
    "\n",
    "arr3 = np.arange(6).reshape(2, 3, order='F')  # F-contiguous\n",
    "reshaped3 = np.reshape(arr, (3, 2), order='A')\n",
    "print(reshaped3)\n",
    "\n",
    "# OUTPUT:\n",
    "# [[0 1]\n",
    "#  [2 3]\n",
    "#  [4 5]]"
   ]
  },
  {
   "cell_type": "markdown",
   "metadata": {},
   "source": [
    "#### In NumPy, contiguous refers to how elements of an array are stored in memory. It describes whether the array's elements are arranged in a continuous block of memory and in what order.\n",
    "\n",
    "##### Key Concepts:\n",
    "1. C-contiguous (Row-major):\n",
    "\n",
    "- Elements are stored row-wise in memory.\n",
    "\n",
    "- The last index (innermost dimension) changes the fastest.\n",
    "\n",
    "- Example: For a 2D array, moving across rows first, then down columns.\n",
    "\n",
    "2. F-contiguous (Column-major):\n",
    "\n",
    "- Elements are stored column-wise in memory.\n",
    "\n",
    "- The first index (outermost dimension) changes the fastest.\n",
    "\n",
    "- Example: For a 2D array, moving down columns first, then across rows."
   ]
  },
  {
   "cell_type": "code",
   "execution_count": 24,
   "metadata": {},
   "outputs": [
    {
     "name": "stdout",
     "output_type": "stream",
     "text": [
      "Original arr_c\n",
      " [[0 1 2]\n",
      " [3 4 5]]\n",
      "C-contiguous: True\n",
      "F-contiguous: True\n",
      "Reshaped C-contiguous:\n",
      " [[0 1]\n",
      " [2 3]\n",
      " [4 5]]\n",
      "Reshaped F-contiguous:\n",
      " [[0 4]\n",
      " [3 2]\n",
      " [1 5]]\n"
     ]
    }
   ],
   "source": [
    "# Example\n",
    "\n",
    "# C-contiguous array (default)\n",
    "arr_c = np.arange(6).reshape(2, 3)  # Row-major\n",
    "print('Original arr_c\\n',arr_c)\n",
    "print(\"C-contiguous:\", arr_c.flags['C_CONTIGUOUS'])  # True\n",
    "\n",
    "# F-contiguous array\n",
    "arr_f = np.asfortranarray(arr_c)  # Column-major\n",
    "print(\"F-contiguous:\", arr_f.flags['F_CONTIGUOUS'])  # True\n",
    "\n",
    "# Reshape with order='A'\n",
    "reshaped_c = np.reshape(arr_c, (3, 2), order='A')  # Behaves like 'C'\n",
    "reshaped_f = np.reshape(arr_f, (3, 2), order='A')  # Behaves like 'F'\n",
    "\n",
    "print(\"Reshaped C-contiguous:\\n\", reshaped_c)\n",
    "print(\"Reshaped F-contiguous:\\n\", reshaped_f)"
   ]
  },
  {
   "cell_type": "markdown",
   "metadata": {},
   "source": [
    "#### As we know np.reshape method just create copy of given array, instead of changing in existing array\n",
    "##### Still if we wanna change in existing array we obviously can do this\n",
    "```\n",
    "bar = bar.reshape(n,n) \n",
    "```\n",
    "***but it still makes uncessary copy of bar in memory***\n",
    "\n",
    "##### So instead do this:\n",
    "```bar.shape = (n,n)```"
   ]
  },
  {
   "cell_type": "markdown",
   "metadata": {},
   "source": [
    "[When numpy will broadcast and when not](https://youtu.be/g9g34UIFfMg?si=MdmzAi3Gm-XyICVp&t=427)"
   ]
  }
 ],
 "metadata": {
  "kernelspec": {
   "display_name": "Python 3",
   "language": "python",
   "name": "python3"
  },
  "language_info": {
   "codemirror_mode": {
    "name": "ipython",
    "version": 3
   },
   "file_extension": ".py",
   "mimetype": "text/x-python",
   "name": "python",
   "nbconvert_exporter": "python",
   "pygments_lexer": "ipython3",
   "version": "3.11.3"
  }
 },
 "nbformat": 4,
 "nbformat_minor": 2
}
