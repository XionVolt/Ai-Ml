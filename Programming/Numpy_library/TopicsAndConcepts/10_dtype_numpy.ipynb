{
 "cells": [
  {
   "cell_type": "code",
   "execution_count": 2,
   "metadata": {},
   "outputs": [
    {
     "name": "stdout",
     "output_type": "stream",
     "text": [
      "\n",
      "[1. 2. 3.]\n",
      "[90 75 85]\n"
     ]
    }
   ],
   "source": [
    "import numpy as np\n",
    "# Explanation of this line: \n",
    "data = np.array([(1, 90), (2, 75), (3, 85)], dtype=[('id', float), ('score', int)])\n",
    "print()\n",
    "# creates a structured NumPy array, which allows you to store heterogeneous data types (like a table in SQL or a Pandas DataFrame).\n",
    "\n",
    "# ---------------- Heterogeneous data ----------------------\n",
    "\"\"\" Heterogeneous data refers to data that consists of different data types, structures, formats, or sources, enabling efficient processing and analysis in various fields.\n",
    "This type of data can be ambiguous(having different meanings) and of low quality due to missing values, high data redundancy, and variability in data types and formats.\n",
    "Managing heterogeneous data presents challenges such as data integration, privacy, quality, and computational complexities. \"\"\"\n",
    "#  --------------------------------------------------------\n",
    "\"\"\" \n",
    "B. dtype Explanation\n",
    "\n",
    "dtype=[('id', int), ('score', int)]\n",
    "This defines:\n",
    "\n",
    "A field named \"id\" that stores int values.\n",
    "\n",
    "A field named \"score\" that stores int values.\n",
    "\n",
    "So, NumPy treats this array like a structured table.\n",
    "\n",
    "\"\"\"\n",
    "\n",
    "# We can also do this\n",
    "print(data['id'])     # Extracts only the 'id' column\n",
    "print(data['score'])  # Extracts only the 'score' column\n"
   ]
  },
  {
   "cell_type": "code",
   "execution_count": 3,
   "metadata": {},
   "outputs": [
    {
     "name": "stdout",
     "output_type": "stream",
     "text": [
      "['Alice' 'Bob' 'Charlie']\n"
     ]
    }
   ],
   "source": [
    "# One more example\n",
    "data2 = np.array([\n",
    "    (1, 'Alice', 90.5),\n",
    "    (2, 'Bob', 75.0),\n",
    "    (3, 'Charlie', 85.3)\n",
    "], dtype=[('id', int), ('name', 'U10'), ('score', float)])  # 'U10' means Unicode string of length 10, means maximum length of string can reach upto 10\n",
    "\n",
    "print(data2['name'])  # Extracts the 'name' column\n"
   ]
  },
  {
   "cell_type": "code",
   "execution_count": null,
   "metadata": {},
   "outputs": [
    {
     "name": "stdout",
     "output_type": "stream",
     "text": [
      "ids:\n",
      " [[94 62 68]\n",
      " [89 58 77]] \n",
      "\n",
      "scores:\n",
      " [[22.520719   30.01662849 87.35534454]\n",
      " [ 0.52653046 82.12284184 79.70694288]]\n",
      "\n",
      "initial data22:\n",
      " [[(0, 0.) (0, 0.) (0, 0.)]\n",
      " [(0, 0.) (0, 0.) (0, 0.)]]\n",
      "\n",
      "\n",
      "data22 after assignments:\n",
      " [[(94, 22.520719  ) (62, 30.01662849) (68, 87.35534454)]\n",
      " [(89,  0.52653046) (58, 82.12284184) (77, 79.70694288)]]\n",
      "\n"
     ]
    }
   ],
   "source": [
    "# We can also do with normal numpy array\n",
    "random = np.random.default_rng(7)\n",
    "\n",
    "\n",
    "ids = random.integers(1, 100, size=(2, 3))   # Random integers between 1 and 100\n",
    "print('ids:\\n',ids,'\\n')\n",
    "scores = random.random((2, 3)) * 100         # Random float scores between 0 and 100\n",
    "print('scores:\\n',scores)\n",
    "\n",
    "# Define structured dtype\n",
    "dtype = [('id', int), ('score', float)]\n",
    "\n",
    "# Create structured array\n",
    "data22 = np.zeros((2, 3), dtype=dtype) # because we do `dtype = [('id', int), ('score', float)]`, it make each element in the array a tuple\n",
    "print(f'\\ninitial data22:\\n {data22}\\n')\n",
    "\n",
    "# Assign values\n",
    "data22['id']  = ids\n",
    "data22['score'] = scores\n",
    "print(f'\\ndata22 after assignments:\\n {data22}\\n')"
   ]
  }
 ],
 "metadata": {
  "kernelspec": {
   "display_name": "Python 3",
   "language": "python",
   "name": "python3"
  },
  "language_info": {
   "codemirror_mode": {
    "name": "ipython",
    "version": 3
   },
   "file_extension": ".py",
   "mimetype": "text/x-python",
   "name": "python",
   "nbconvert_exporter": "python",
   "pygments_lexer": "ipython3",
   "version": "3.13.2"
  }
 },
 "nbformat": 4,
 "nbformat_minor": 2
}
