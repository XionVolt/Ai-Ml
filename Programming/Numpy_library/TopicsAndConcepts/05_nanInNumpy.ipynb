{
 "cells": [
  {
   "cell_type": "markdown",
   "metadata": {},
   "source": [
    "## Numpy treats nan as a special value.\n",
    "#### Nan means missing or undefined value in data\n",
    "[See this video](https://youtu.be/eClQWW_gbFk?si=x_V5UDdQZ8Sn6Foi&t=3360)\n",
    "\n"
   ]
  },
  {
   "cell_type": "code",
   "execution_count": 1,
   "metadata": {},
   "outputs": [
    {
     "name": "stdout",
     "output_type": "stream",
     "text": [
      "False\n",
      "True\n"
     ]
    }
   ],
   "source": [
    "import numpy as np\n",
    "print(np.nan == np.nan)\n",
    "print(np.nan != np.nan)\n",
    "\n",
    "# numpy makes nan as it not equal to itself\n"
   ]
  },
  {
   "cell_type": "code",
   "execution_count": 3,
   "metadata": {},
   "outputs": [
    {
     "name": "stdout",
     "output_type": "stream",
     "text": [
      "True\n",
      "False\n"
     ]
    }
   ],
   "source": [
    "## To see which values are nan\n",
    "\n",
    "print(np.isnan(np.nan))\n",
    "\n",
    "## To see which values are not nan\n",
    "\n",
    "print(np.isfinite(np.nan))\n"
   ]
  },
  {
   "cell_type": "code",
   "execution_count": 8,
   "metadata": {},
   "outputs": [
    {
     "name": "stdout",
     "output_type": "stream",
     "text": [
      "[[ 1.  2.  3.]\n",
      " [ 4. nan  6.]\n",
      " [ 7.  8. nan]]\n",
      "[[False False False]\n",
      " [False  True False]\n",
      " [False False  True]]\n"
     ]
    }
   ],
   "source": [
    "# Get all nan values of array\n",
    "\n",
    "matrix = np.array([\n",
    "    [1,2,3], \n",
    "    [4,np.nan,6], \n",
    "    [7,8,np.nan]\n",
    "])\n",
    "\n",
    "# nan can only exist in float type arrays\n",
    "print(matrix)\n",
    "\n",
    "print(np.isnan(matrix))\n"
   ]
  }
 ],
 "metadata": {
  "kernelspec": {
   "display_name": "Python 3",
   "language": "python",
   "name": "python3"
  },
  "language_info": {
   "codemirror_mode": {
    "name": "ipython",
    "version": 3
   },
   "file_extension": ".py",
   "mimetype": "text/x-python",
   "name": "python",
   "nbconvert_exporter": "python",
   "pygments_lexer": "ipython3",
   "version": "3.11.3"
  }
 },
 "nbformat": 4,
 "nbformat_minor": 2
}
