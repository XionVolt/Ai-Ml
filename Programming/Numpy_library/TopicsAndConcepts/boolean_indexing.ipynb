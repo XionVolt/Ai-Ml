{
 "cells": [
  {
   "cell_type": "markdown",
   "metadata": {
    "vscode": {
     "languageId": "plaintext"
    }
   },
   "source": [
    "# Boolean Indexing in arrays\n",
    "#### So basically with the help of boolean indexing we can filter the array based on the condition\n",
    "\n",
    "[Understand boolean indexing by this video](https://youtu.be/eClQWW_gbFk?si=wse9qp08CZziPkvq&t=3157)"
   ]
  },
  {
   "cell_type": "code",
   "execution_count": 3,
   "metadata": {},
   "outputs": [
    {
     "name": "stdout",
     "output_type": "stream",
     "text": [
      "We return True for every element, therefore we get every element of the original array\n",
      " [[[7 8 7]\n",
      "  [4 3 2]\n",
      "  [7 2 7]]] \n",
      "\n",
      "element is 7:\n",
      " [[ True False  True]\n",
      " [False False False]\n",
      " [ True False  True]] \n",
      "\n",
      "filtered_foo array:\n",
      " [7 8 7 7 7] \n",
      "\n",
      "element is between 5 and 7:\n",
      " [[False False False]\n",
      " [False False False]\n",
      " [False False False]] \n",
      "\n",
      "element small than 3 or greater than 7:\n",
      " [array([[False,  True, False],\n",
      "       [False, False,  True],\n",
      "       [False,  True, False]])] \n",
      "\n",
      "Not 3:\n",
      " [array([[ True,  True,  True],\n",
      "       [ True, False,  True],\n",
      "       [ True,  True,  True]])]\n"
     ]
    }
   ],
   "source": [
    "import numpy as np\n",
    "foo = np.array([ \n",
    "    [7,8,7],\n",
    "    [4,3,2],\n",
    "    [7,2,7]\n",
    "])\n",
    "\n",
    "print('We return True for every element, therefore we get every element of the original array\\n',foo[True],'\\n')\n",
    "\n",
    "# it will return the boolean array of same shape as foo array, where it put True at the position where the condition is true\n",
    "print('element is 7:\\n',foo == 7,'\\n')\n",
    "\n",
    "# let's say we want to filter the array based on the condition that the value(that filtered_foo array will contain) should be greater than 5\n",
    "filtered_foo = foo[foo>5] # now it return only those elements in the output array, for which condition(inside []) returns true \n",
    "print('filtered_foo array:\\n',filtered_foo,'\\n')\n",
    "\n",
    "# now we can perform operation on filtered_foo array, its literally very handy in many cases\n",
    "\n",
    "# we can also use this boolean indexing to filter the array based on multiple conditions\n",
    "\n",
    "# can use & , | , ~ for and, or , not in arrays\n",
    "\n",
    "# For AND condition (values between 5 and 7)\n",
    "print('element is between 5 and 7:\\n',(foo > 5) & (foo < 7),'\\n')\n",
    "\n",
    "# For OR condition (values less than 3 or greater than 7)\n",
    "print('element small than 3 or greater than 7:\\n',[(foo < 3) | (foo > 7)],'\\n')\n",
    "\n",
    "# For NOT condition (values not equal to 7)\n",
    "print('Not 3:\\n',[(foo != 3)]) # or print('Not 3:\\n',[~(foo == 3)])\n"
   ]
  },
  {
   "cell_type": "code",
   "execution_count": 4,
   "metadata": {},
   "outputs": [
    {
     "name": "stdout",
     "output_type": "stream",
     "text": [
      "row1_and_3:\n",
      " [[1 2 3]\n",
      " [7 8 9]] \n",
      "\n"
     ]
    }
   ],
   "source": [
    "another_foo = np.array([\n",
    "    [1,2,3],\n",
    "    [4,5,6],\n",
    "    [7,8,9]\n",
    "])\n",
    "\n",
    "row1_and_3 = [True,False,True]\n",
    "\n",
    "print('row1_and_3:\\n',another_foo[row1_and_3],'\\n')"
   ]
  },
  {
   "cell_type": "code",
   "execution_count": 5,
   "metadata": {},
   "outputs": [],
   "source": [
    "# But if we do this:\n",
    "           #  0      1     2      ✕      1    2\n",
    "# another_foo[[True, True, True], [False, True, True]] # shape mismatch: indexing arrays could not be broadcast together with shapes (3,) (2,)"
   ]
  },
  {
   "cell_type": "markdown",
   "metadata": {},
   "source": [
    "## Let's break it down step by step and see what numbers NumPy tries to use, and so gives error\n",
    "\n",
    "\n",
    "#### Step 1: Understanding Boolean Indexing\n",
    "\n",
    "```\n",
    "another_foo[[True, True, True], [False, True, True]]\n",
    "```\n",
    "\n",
    "We need to see how NumPy converts these boolean lists into actual indices.\n",
    "\n",
    "\n",
    "#### Step 2: How NumPy Converts Boolean Arrays\n",
    "Row Indexing: [True, True, True]\n",
    "A boolean list for row indexing selects the rows where the value is True.\n",
    "In this case, [True, True, True] means select all rows.\n",
    "\n",
    "\n",
    "Equivalent numeric indices\n",
    "```\n",
    "[0, 1, 2]  # (Row indices)\n",
    "```\n",
    "\n",
    "Column Indexing: [False, True, True]\n",
    "- You might think NumPy converts [False, True, True] to [0, 1, 1] (wrong).\n",
    "- But actually, NumPy converts [False, True, True] to:\n",
    "\n",
    "```\n",
    "[1, 2]  # (Column indices) # Because its return False for 0th column and True for 1st and 2nd column\n",
    "```\n",
    "\n",
    "#### Step 3: Why This Fails\n",
    "Now, NumPy tries to match the row and column indices element-wise:\n",
    "\n",
    "```\n",
    "Row Index  (shape (3,))   | \tColumn Index (shape (2,))\n",
    "[0, 1, 2]                 |\t    [1, 2]               \n",
    "```\n",
    "\n",
    "- Rows have 3 values, but columns have only 2!\n",
    "- NumPy tries to pick elements like (0, 1), (1, 2), (2, ?), but there's no third column index to match row index 2.\n",
    "- Shape mismatch occurs → NumPy throws an IndexError.\n",
    "\n",
    "####  Step 4: Correct Way to Achieve This\n",
    "✅ If you want to select all rows and specific columns, use:\n",
    "\n",
    "```\n",
    "another_foo[:, [False, True, True]]  # Works, selects columns 1 & 2 for all rows\n",
    "```\n",
    "\n",
    "Output:\n",
    "\n",
    "```\n",
    "array([\n",
    "    [2, 3],\n",
    "    [5, 6],\n",
    "    [8, 9]\n",
    "])\n",
    "```\n",
    "\n",
    "✅ Works because:\n",
    "\n",
    ": → Selects all rows ***(Not interpreted as list indexing(for rows))***<br>\n",
    "[False, True, True] → Selects columns [1, 2] ***Means Select 1st and 2nd column of all rows***\n",
    "\n",
    "\n",
    "\n",
    "\n",
    "\n",
    "\n",
    "\n"
   ]
  },
  {
   "cell_type": "code",
   "execution_count": 6,
   "metadata": {},
   "outputs": [
    {
     "name": "stdout",
     "output_type": "stream",
     "text": [
      "[7 7 7]\n"
     ]
    }
   ],
   "source": [
    "# We can also index arrays like this \n",
    "\n",
    "foo = np.array([\n",
    "    [3,9,7],\n",
    "    [1,2,3],\n",
    "    [7,7,3]\n",
    "])\n",
    "\n",
    "mask= foo ==7\n",
    "\n",
    "# Its Same as this \n",
    "\"\"\" \n",
    "foo[[[False, False,  True],\n",
    "       [False, False, False],\n",
    "       [ True,  True, False]]]  \"\"\"\n",
    "\n",
    "print(foo[mask])\n",
    "\n"
   ]
  },
  {
   "cell_type": "code",
   "execution_count": 12,
   "metadata": {},
   "outputs": [
    {
     "data": {
      "text/plain": [
       "array(['a', 'b', 'y', 'u'], dtype='<U1')"
      ]
     },
     "execution_count": 12,
     "metadata": {},
     "output_type": "execute_result"
    }
   ],
   "source": [
    "# One more Example: \n",
    "# Only wanna get age of male who are above or equal to 44\n",
    "\n",
    "names = np.array(['a','b','x','y','u'])\n",
    "\n",
    "ages = np.array([23,44,56,77,12])\n",
    "\n",
    "gender = np.array(['male','female','male','female','male'])\n",
    "\n",
    "# let's use & for this\n",
    "names[(ages>=44) & (gender == 'male')]\n",
    "\n",
    "# Who's not a male or younger than 44\n",
    "names[~(ages>=44) | (gender == 'female')]"
   ]
  }
 ],
 "metadata": {
  "kernelspec": {
   "display_name": "Python 3",
   "language": "python",
   "name": "python3"
  },
  "language_info": {
   "codemirror_mode": {
    "name": "ipython",
    "version": 3
   },
   "file_extension": ".py",
   "mimetype": "text/x-python",
   "name": "python",
   "nbconvert_exporter": "python",
   "pygments_lexer": "ipython3",
   "version": "3.11.3"
  }
 },
 "nbformat": 4,
 "nbformat_minor": 2
}
