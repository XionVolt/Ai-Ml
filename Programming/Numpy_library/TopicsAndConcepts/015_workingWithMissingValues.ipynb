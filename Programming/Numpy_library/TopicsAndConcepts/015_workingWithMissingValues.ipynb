{
 "cells": [
  {
   "cell_type": "markdown",
   "id": "248819b6",
   "metadata": {},
   "source": [
    "[Working with missing Values](https://www.youtube.com/live/40xGMygHMDU?si=MF29Vy5gCPQC-Hsp&t=4997)"
   ]
  },
  {
   "cell_type": "code",
   "execution_count": 5,
   "id": "f67f22d8",
   "metadata": {},
   "outputs": [
    {
     "data": {
      "text/plain": [
       "array([1., 2., 3., 4.])"
      ]
     },
     "execution_count": 5,
     "metadata": {},
     "output_type": "execute_result"
    }
   ],
   "source": [
    "import numpy as np\n",
    "a = np.array([1,2,np.nan,3,4,np.nan])\n",
    "a[~np.isnan(a)]"
   ]
  }
 ],
 "metadata": {
  "kernelspec": {
   "display_name": "Python 3",
   "language": "python",
   "name": "python3"
  },
  "language_info": {
   "codemirror_mode": {
    "name": "ipython",
    "version": 3
   },
   "file_extension": ".py",
   "mimetype": "text/x-python",
   "name": "python",
   "nbconvert_exporter": "python",
   "pygments_lexer": "ipython3",
   "version": "3.13.2"
  }
 },
 "nbformat": 4,
 "nbformat_minor": 5
}
