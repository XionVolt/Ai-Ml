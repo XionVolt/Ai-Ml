{
 "cells": [
  {
   "cell_type": "markdown",
   "metadata": {},
   "source": [
    "## https://youmtu.be/eClQWW_gbFk?si=aigCeGn7DzmzLrZo&t=1758 , see this clip by `GormAnalysis` to see basic math operations on numpy arrays\n",
    "## [or see this video by `CampusX`](https://www.youtube.com/live/40xGMygHMDU?si=SK8MkJfsiLPWB4tS&t=3865)"
   ]
  },
  {
   "cell_type": "code",
   "execution_count": 2,
   "metadata": {},
   "outputs": [
    {
     "name": "stdout",
     "output_type": "stream",
     "text": [
      "[[19 22]\n",
      " [43 50]]\n"
     ]
    },
    {
     "data": {
      "text/plain": [
       "array([[19, 22],\n",
       "       [43, 50]])"
      ]
     },
     "execution_count": 2,
     "metadata": {},
     "output_type": "execute_result"
    }
   ],
   "source": [
    "# If you wanna perform matrix multiplication\n",
    "\n",
    "import numpy as np\n",
    "\n",
    "a = np.array([[1, 2], [3, 4]])\n",
    "b = np.array([[5, 6], [7, 8]])\n",
    "\n",
    "\n",
    "# So now it do row and column wise multiplication , instead of element wise multiplication\n",
    "print(np.matmul(a, b)) \n",
    "a@b # or simply do this\n"
   ]
  },
  {
   "cell_type": "code",
   "execution_count": 3,
   "metadata": {},
   "outputs": [
    {
     "name": "stdout",
     "output_type": "stream",
     "text": [
      "[[0 7 6]\n",
      " [4 4 8]\n",
      " [0 6 2]]\n"
     ]
    },
    {
     "data": {
      "text/plain": [
       "array([0, 1, 2])"
      ]
     },
     "execution_count": 3,
     "metadata": {},
     "output_type": "execute_result"
    }
   ],
   "source": [
    "# numpy.argmin - https://numpy.org/doc/2.1/reference/generated/numpy.argmin.html \n",
    "# for calculation of index of minimum value in array\n",
    "\n",
    "rng = np.random.default_rng(42)\n",
    "a = rng.integers(0, 10, size=(3, 3))\n",
    "print(a)\n",
    "\n",
    "a.argmin(axis=0) # 0"
   ]
  },
  {
   "cell_type": "code",
   "execution_count": 4,
   "metadata": {},
   "outputs": [
    {
     "name": "stdout",
     "output_type": "stream",
     "text": [
      "[[0 7 6]\n",
      " [4 4 8]\n",
      " [0 6 2]]\n",
      "[ 6 16  8]\n"
     ]
    }
   ],
   "source": [
    "# we also have one more feature of numpy.sum we can use where as a argument in np.sum \n",
    "\n",
    "rng = np.random.default_rng(42)\n",
    "a = rng.integers(0, 10, size=(3, 3))\n",
    "print(a)\n",
    "\n",
    "print(np.sum(a, axis=1, where=(a % 2 == 0))) # so sum of all even elements in each row "
   ]
  },
  {
   "cell_type": "code",
   "execution_count": 5,
   "metadata": {},
   "outputs": [
    {
     "name": "stdout",
     "output_type": "stream",
     "text": [
      "[ 1.000e+00 -1.000e+00  9.999e+03 -9.999e+03  5.000e+00]\n"
     ]
    }
   ],
   "source": [
    "# numpy.nan_to_num replaces NaNs (Not a Number) and infinities in an array with specified values.\n",
    "# numpy.nan_to_num(x, copy=True, nan=0.0, posinf=None, neginf=None)\n",
    "\n",
    "\"\"\" \n",
    "Parameters:\n",
    "x (array-like): Input array.\n",
    "\n",
    "copy (bool, default=True): If True, returns a copy; if False, modifies x in place.\n",
    "\n",
    "nan (float, default=0.0): Value to replace NaNs.\n",
    "\n",
    "posinf (float, default=None): Value to replace positive infinity (+inf). If None, uses finite max value.\n",
    "\n",
    "neginf (float, default=None): Value to replace negative infinity (-inf). If None, uses finite min value. \"\"\"\n",
    "\n",
    "\n",
    "arr = np.array([1, np.nan, np.inf, -np.inf, 5])\n",
    "new_arr = np.nan_to_num(arr, nan=-1, posinf=9999, neginf=-9999)\n",
    "\n",
    "\n",
    "\n",
    "# Output:\n",
    "\"\"\" [    1    -1  9999 -9999     5]\n",
    "Explanation:\n",
    "\n",
    "NaN → -1\n",
    "\n",
    "+inf → 9999\n",
    "-inf → -9999\n",
    "Other values remain unchanged.\n",
    " \"\"\"\n",
    "\n",
    "print(new_arr)\n",
    "\n",
    "\n",
    "\n",
    "\n",
    "\n"
   ]
  },
  {
   "cell_type": "code",
   "execution_count": 6,
   "metadata": {},
   "outputs": [
    {
     "name": "stdout",
     "output_type": "stream",
     "text": [
      "[5. 5. 3.]\n",
      "[5. 5. 3.]\n"
     ]
    }
   ],
   "source": [
    "# numpy.nansum Explanation\n",
    "# numpy.nansum computes the sum of an array while ignoring NaN values(treat them as 0s).\n",
    "\n",
    "# Syntax:\n",
    "\n",
    "# numpy.nansum(a, axis=None, dtype=None, out=None, keepdims=False)\n",
    "\n",
    "# Parameters:\n",
    "\"\"\"\n",
    "a (array-like): Input array.\n",
    "axis (int or tuple, default=None): Axis along which to sum. If None, sums all elements.\n",
    "dtype (data-type, default=None): Specifies output data type.\n",
    "out (ndarray, default=None): Optional array to store results.\n",
    "keepdims (bool, default=False): If True, retains reduced dimensions. \"\"\"\n",
    "\n",
    "import numpy as np\n",
    "\n",
    "output_array = out=np.zeros(3)\n",
    "arr = np.array([[1, np.nan, 3], [4, 5, np.nan]])\n",
    "result = np.nansum(arr, axis=0,out=output_array)\n",
    "\n",
    "\"\"\" Output:\n",
    "\n",
    "[ 5.  5.  3.]\n",
    "Explanation:\n",
    "Ignores NaN while summing.\n",
    "\n",
    "Sum along axis=0 results in:\n",
    "\n",
    "(1 + 4) = 5\n",
    "\n",
    "(NaN ignored, only 5)\n",
    "\n",
    "(3 + NaN ignored) = 3\n",
    "\"\"\"\n",
    "print(result)\n",
    "print(output_array)\n",
    "\n",
    "\n"
   ]
  },
  {
   "cell_type": "code",
   "execution_count": 7,
   "metadata": {},
   "outputs": [
    {
     "name": "stdout",
     "output_type": "stream",
     "text": [
      "[[0 7 6]\n",
      " [4 4 8]\n",
      " [0 6 2]]\n",
      "[[ 0.          0.6569866  -0.2794155 ]\n",
      " [-0.7568025  -0.7568025   0.98935825]\n",
      " [ 0.         -0.2794155   0.90929743]]\n"
     ]
    }
   ],
   "source": [
    "# Trignometric function \n",
    "rng = np.random.default_rng(42)\n",
    "a = rng.integers(0, 10, size=(3, 3))\n",
    "print(a)\n",
    "\n",
    "print(np.sin(a)) # sin of each element in array, you can do cos, tan, arcsin, arccos, arctan, sinh, cosh, tanh, arcsinh, arccosh, arctanh as well"
   ]
  },
  {
   "cell_type": "code",
   "execution_count": 8,
   "metadata": {},
   "outputs": [
    {
     "name": "stdout",
     "output_type": "stream",
     "text": [
      "[[19 22]\n",
      " [43 50]]\n",
      "[[19 22]\n",
      " [43 50]]\n"
     ]
    }
   ],
   "source": [
    "## dot product\n",
    "a = np.array([[1, 2], [3, 4]])\n",
    "b = np.array([[5, 6], [7, 8]])\n",
    "print(np.dot(a, b)) # dot product of two arrays, remember columns of first array should be equal to rows of second array, otherwise it will give error\n",
    "print(a @ b) # or simply do this"
   ]
  },
  {
   "cell_type": "code",
   "execution_count": 20,
   "metadata": {},
   "outputs": [
    {
     "name": "stdout",
     "output_type": "stream",
     "text": [
      "[[0.         0.69314718]\n",
      " [1.09861229 1.38629436]]\n",
      "\n",
      "[[ 2.71828183  7.3890561 ]\n",
      " [20.08553692 54.59815003]]\n",
      "\n",
      "[[ 2.  4.]\n",
      " [ 8. 16.]]\n"
     ]
    }
   ],
   "source": [
    "# log and exp\n",
    "a = np.array([[1, 2], [3, 4]])\n",
    "b = np.array([[5, 6], [7, 8]])\n",
    "\n",
    "print(np.log(a)) # log of each element in array, you can do log2, log10 as well, it take base `e` , euler number - 2.71828\n",
    "\n",
    "print()\n",
    "print(np.exp(a)) # means euler(2.718) raise to the power of each element of array\n",
    "\n",
    "print()\n",
    "print(np.exp2(a)) # means 2 raise to the power of each element of array"
   ]
  },
  {
   "cell_type": "code",
   "execution_count": 10,
   "metadata": {},
   "outputs": [
    {
     "data": {
      "text/plain": [
       "array([1.00000000e+00, 2.71828183e+00, 7.38905610e+00, 2.00855369e+01,\n",
       "       5.45981500e+01, 1.48413159e+02, 4.03428793e+02, 1.09663316e+03,\n",
       "       2.98095799e+03, 8.10308393e+03])"
      ]
     },
     "execution_count": 10,
     "metadata": {},
     "output_type": "execute_result"
    }
   ],
   "source": [
    "# calculating exponent\n",
    "\n",
    "import numpy as np\n",
    "a = np.arange(10)\n",
    "\n",
    "\"\"\" 🔍 What np.exp(a) does:\n",
    "It applies the natural exponential function `e^x` to each element in array a. \"\"\"\n",
    "# So if:\n",
    "# a = np.arange(10)\n",
    "# a = [0, 1, 2, 3, 4, 5, 6, 7, 8, 9]\n",
    "\"\"\" Then:\n",
    "np.exp(a)\n",
    "= [e^0, e^1, e^2, ..., e^9], where e is the euler number ≈ 2.71828, It’s the base of the natural logarithm \"\"\" \n",
    "\n",
    "\n",
    "\n",
    "np.exp(a)\n",
    "\n"
   ]
  },
  {
   "cell_type": "code",
   "execution_count": 11,
   "metadata": {},
   "outputs": [
    {
     "name": "stdout",
     "output_type": "stream",
     "text": [
      "[  1   2   4   8  16  32  64 128 256 512]\n"
     ]
    },
    {
     "data": {
      "text/plain": [
       "array([8, 9, 4])"
      ]
     },
     "execution_count": 11,
     "metadata": {},
     "output_type": "execute_result"
    }
   ],
   "source": [
    "# If you want to compute powers of some other base, like 2^x or 10^x, use:\n",
    "# np.power(base, exponent)\n",
    "\n",
    "a = np.arange(10)\n",
    "# It raises the base 2 to the power of each element in the array a.\n",
    "print(np.power(2, a))\n",
    "\n",
    "# OR element-wise:\n",
    "np.power(np.array([2, 3, 4]), np.array([3, 2, 1]))  # [2^3, 3^2, 4^1] → [8, 9, 4]"
   ]
  },
  {
   "cell_type": "markdown",
   "metadata": {},
   "source": [
    "[Calculate Sigmoid](https://www.youtube.com/live/40xGMygHMDU?si=T_WdisEEbTpLNn2V&t=4007)\n",
    "\n",
    "```math\n",
    "\\frac{1}{1+e^{-x}}\n",
    "\n",
    "```\n",
    "Where:\n",
    "- e is euler number - 2.71828\n",
    "- x is the input array"
   ]
  },
  {
   "cell_type": "code",
   "execution_count": 12,
   "metadata": {},
   "outputs": [
    {
     "data": {
      "text/plain": [
       "array([0.5       , 0.73105858, 0.88079708, 0.95257413, 0.98201379,\n",
       "       0.99330715, 0.99752738, 0.99908895, 0.99966465, 0.99987661])"
      ]
     },
     "execution_count": 12,
     "metadata": {},
     "output_type": "execute_result"
    }
   ],
   "source": [
    "def sigmoid(array):\n",
    "    return 1 / (1 + np.exp(-array))\n",
    "sigmoid(a)"
   ]
  },
  {
   "cell_type": "markdown",
   "metadata": {},
   "source": [
    "- Binary cross entropy already explained in another file\n",
    "Formula \n",
    "\n",
    "```math\n",
    "BCE = \\frac{-1}{N} \\sum_{i=1}^N (y_i \\log(\\hat{y}_i) + (1-y_i) \\log(1-\\hat{y}_i))\n",
    "```"
   ]
  },
  {
   "cell_type": "code",
   "execution_count": 13,
   "metadata": {},
   "outputs": [
    {
     "name": "stdout",
     "output_type": "stream",
     "text": [
      "Binary Cross Entropy Loss: 0.26874052079821825\n"
     ]
    }
   ],
   "source": [
    "\n",
    "actual_labels = np.array([0, 1, 0, 1, 0, 1, 0])\n",
    "predicted_labels = np.array([0.1, 0.9, 0.2, 0.8, 0.3, 0.7, 0.4])\n",
    "\n",
    "# Binary Cross Entropy\n",
    "def binary_cross_entropy(y_true, y_pred):\n",
    "    epsilon = 1e-15  # small constant to avoid log(0), becuase log(0) is undefined\n",
    "    y_true = np.array(y_true).flatten()\n",
    "    y_pred = np.array(y_pred).flatten()\n",
    "\n",
    "    if y_true.shape != y_pred.shape:\n",
    "        raise ValueError(\"y_true and y_pred should have the same shape.\")\n",
    "    \n",
    "    # Clip predictions to avoid log(0)\n",
    "    y_pred = np.clip(y_pred, epsilon, 1 - epsilon)\n",
    "\n",
    "    return -np.mean(y_true * np.log(y_pred) + (1 - y_true) * np.log(1 - y_pred))\n",
    "\n",
    "\n",
    "# Usage\n",
    "loss = binary_cross_entropy(actual_labels, predicted_labels)\n",
    "print(\"Binary Cross Entropy Loss:\", loss)"
   ]
  }
 ],
 "metadata": {
  "kernelspec": {
   "display_name": "Python 3",
   "language": "python",
   "name": "python3"
  },
  "language_info": {
   "codemirror_mode": {
    "name": "ipython",
    "version": 3
   },
   "file_extension": ".py",
   "mimetype": "text/x-python",
   "name": "python",
   "nbconvert_exporter": "python",
   "pygments_lexer": "ipython3",
   "version": "3.13.2"
  }
 },
 "nbformat": 4,
 "nbformat_minor": 2
}
