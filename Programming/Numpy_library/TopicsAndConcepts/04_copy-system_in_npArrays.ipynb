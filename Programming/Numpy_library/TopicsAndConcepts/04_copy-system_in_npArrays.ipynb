{
 "cells": [
  {
   "cell_type": "markdown",
   "metadata": {},
   "source": [
    "# Note: like lists numpy arrays also have shallow copy system, but they also have some kind of new system also\n",
    "\n",
    "# Example:"
   ]
  },
  {
   "cell_type": "code",
   "execution_count": 2,
   "metadata": {},
   "outputs": [
    {
     "name": "stdout",
     "output_type": "stream",
     "text": [
      "b is changed but a is also changed\n",
      "[100   1]\n",
      "[100   1   2   3   4   5   6   7   8   9]\n"
     ]
    }
   ],
   "source": [
    "import numpy as np\n",
    "\n",
    "a = np.arange(10)\n",
    "\n",
    "b = a[0:2]\n",
    "b[0] = 100\n",
    "\n",
    "print('b is changed but a is also changed')\n",
    "print(b)\n",
    "print(a)\n",
    "# So what's happening here is that numpy give part of array reference, to the new variable(b), and therefore it changes the original array also\n",
    "# basically this means these arrays are shallow copy(but arrays can also have shallow copy for spcific part of array)"
   ]
  },
  {
   "cell_type": "markdown",
   "metadata": {},
   "source": [
    "## If you really wanna make copy of the data\n"
   ]
  },
  {
   "cell_type": "code",
   "execution_count": 3,
   "metadata": {},
   "outputs": [
    {
     "name": "stdout",
     "output_type": "stream",
     "text": [
      "b is changed but a is not changed\n",
      "[100   1]\n",
      "[0 1 2 3 4 5 6 7 8 9]\n"
     ]
    }
   ],
   "source": [
    "\n",
    "a_array = np.arange(10)\n",
    "\n",
    "b_array = a_array[0:2].copy()\n",
    "\n",
    "b_array[0] = 100\n",
    "\n",
    "print('b is changed but a is not changed')\n",
    "print(b_array)\n",
    "print(a_array)"
   ]
  }
 ],
 "metadata": {
  "kernelspec": {
   "display_name": "Python 3",
   "language": "python",
   "name": "python3"
  },
  "language_info": {
   "codemirror_mode": {
    "name": "ipython",
    "version": 3
   },
   "file_extension": ".py",
   "mimetype": "text/x-python",
   "name": "python",
   "nbconvert_exporter": "python",
   "pygments_lexer": "ipython3",
   "version": "3.11.3"
  }
 },
 "nbformat": 4,
 "nbformat_minor": 2
}
