{
 "cells": [
  {
   "cell_type": "markdown",
   "metadata": {},
   "source": [
    "## We can delete numpy array elements using np delete function"
   ]
  },
  {
   "cell_type": "code",
   "execution_count": 16,
   "metadata": {},
   "outputs": [
    {
     "data": {
      "text/plain": [
       "array([[0, 7, 6, 4],\n",
       "       [4, 8, 0, 6],\n",
       "       [2, 0, 5, 9]])"
      ]
     },
     "execution_count": 16,
     "metadata": {},
     "output_type": "execute_result"
    }
   ],
   "source": [
    "import numpy as np\n",
    "rng = np.random.default_rng(42)\n",
    "\n",
    "a = rng.integers(10, size=(3, 4))\n",
    "a"
   ]
  },
  {
   "cell_type": "code",
   "execution_count": 17,
   "metadata": {},
   "outputs": [
    {
     "data": {
      "text/plain": [
       "array([[0, 7, 6, 4],\n",
       "       [2, 0, 5, 9]])"
      ]
     },
     "execution_count": 17,
     "metadata": {},
     "output_type": "execute_result"
    }
   ],
   "source": [
    "np.delete(a, 1, axis=0)"
   ]
  },
  {
   "cell_type": "code",
   "execution_count": 18,
   "metadata": {},
   "outputs": [
    {
     "data": {
      "text/plain": [
       "array([[7, 6, 4],\n",
       "       [8, 0, 6],\n",
       "       [0, 5, 9]])"
      ]
     },
     "execution_count": 18,
     "metadata": {},
     "output_type": "execute_result"
    }
   ],
   "source": [
    "np.delete(a, 0, axis=1)"
   ]
  },
  {
   "cell_type": "code",
   "execution_count": 19,
   "metadata": {},
   "outputs": [
    {
     "data": {
      "text/plain": [
       "array([[7, 4],\n",
       "       [8, 6],\n",
       "       [0, 9]])"
      ]
     },
     "execution_count": 19,
     "metadata": {},
     "output_type": "execute_result"
    }
   ],
   "source": [
    "np.delete(a, (0,2), axis=1)"
   ]
  },
  {
   "cell_type": "code",
   "execution_count": 52,
   "metadata": {},
   "outputs": [
    {
     "data": {
      "text/plain": [
       "np.int64(550)"
      ]
     },
     "execution_count": 52,
     "metadata": {},
     "output_type": "execute_result"
    }
   ],
   "source": [
    "import numpy as np\n",
    "\n",
    "# Data structure: [restaurant_id, 2021, 2022, 2023, 2024]\n",
    "\n",
    "sales_data = np.array([\n",
    "    [1, 150000, 180000, 220000, 250000],  # Paradise Biryani\n",
    "    [2, 120000, 140000, 160000, 190000],  # Beijing Bites\n",
    "    [3, 200000, 230000, 260000, 300000],  # Pizza Hub\n",
    "    [4, 180000, 210000, 240000, 270000],  # Burger Point\n",
    "    [5, 160000, 185000, 205000, 230000]   # Chai Point\n",
    "])\n",
    "\n",
    "sales_data[:,1:]\n",
    "\n",
    "\n",
    "# np.max(sales_data[:,1:], axis=0)\n",
    "np.mean(sales_data[:,1:], axis=1)\n",
    "\n",
    "# make 2 vectors\n",
    "vec1 = np.array([1, 2, 3, 4, 5])\n",
    "vec2 = np.array([10, 20, 30, 40, 50])\n",
    "vec1 @ vec2\n"
   ]
  }
 ],
 "metadata": {
  "kernelspec": {
   "display_name": "Python 3",
   "language": "python",
   "name": "python3"
  },
  "language_info": {
   "codemirror_mode": {
    "name": "ipython",
    "version": 3
   },
   "file_extension": ".py",
   "mimetype": "text/x-python",
   "name": "python",
   "nbconvert_exporter": "python",
   "pygments_lexer": "ipython3",
   "version": "3.13.2"
  }
 },
 "nbformat": 4,
 "nbformat_minor": 2
}
