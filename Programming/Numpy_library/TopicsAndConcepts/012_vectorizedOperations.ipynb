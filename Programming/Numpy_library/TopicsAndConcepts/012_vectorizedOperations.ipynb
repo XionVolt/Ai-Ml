{
 "cells": [
  {
   "cell_type": "markdown",
   "metadata": {},
   "source": [
    "vectorize is used to apply a function to each element of an array"
   ]
  },
  {
   "cell_type": "code",
   "execution_count": 50,
   "metadata": {},
   "outputs": [
    {
     "name": "stdout",
     "output_type": "stream",
     "text": [
      "[      0      -1       4 ... -999997 1999996 -999999]\n",
      "Execution time: 0.1882493495941162\n"
     ]
    }
   ],
   "source": [
    "# Example\n",
    "import numpy as np\n",
    "import time\n",
    "import numpy as np\n",
    "\n",
    "timeit = time.time()\n",
    "\n",
    "def slow_func(x):\n",
    "    if x % 2 == 0:\n",
    "        return x * 2\n",
    "    else:\n",
    "        return -x\n",
    "\n",
    "vfunc = np.vectorize(slow_func)\n",
    "\n",
    "arr = np.arange(1_000_000)\n",
    "result = vfunc(arr)\n",
    "\n",
    "print(result)\n",
    "print(\"Execution time:\", time.time() - timeit)\n"
   ]
  },
  {
   "cell_type": "code",
   "execution_count": 51,
   "metadata": {},
   "outputs": [
    {
     "name": "stdout",
     "output_type": "stream",
     "text": [
      "[      0      -1       4 ... -999997 1999996 -999999]\n",
      "Execution time: 0.13185620307922363\n"
     ]
    }
   ],
   "source": [
    "# faster alternatives is numba or np.where\n",
    "from numba import njit\n",
    "import numpy as np\n",
    "import time\n",
    "\n",
    "timeit1 = time.time()\n",
    "\n",
    "@njit\n",
    "def fast_func(arr):\n",
    "    result = np.empty_like(arr)\n",
    "    for i in range(arr.size):\n",
    "        if arr[i] % 2 == 0:\n",
    "            result[i] = arr[i] * 2\n",
    "        else:\n",
    "            result[i] = -arr[i]\n",
    "    return result\n",
    "\n",
    "arr = np.arange(1_000_000)\n",
    "result = fast_func(arr)\n",
    "\n",
    "print(result)\n",
    "print(\"Execution time:\", time.time() - timeit1)\n"
   ]
  },
  {
   "cell_type": "code",
   "execution_count": 52,
   "metadata": {},
   "outputs": [
    {
     "name": "stdout",
     "output_type": "stream",
     "text": [
      "[      0      -1       4 ... -999997 1999996 -999999]\n",
      "Execution time: 0.023250818252563477\n"
     ]
    }
   ],
   "source": [
    "\n",
    "import time \n",
    "timeit2 = time.time()\n",
    "arr = np.arange(1_000_000)\n",
    "result = np.where(arr % 2 == 0, arr * 2, -arr)\n",
    "print(result)\n",
    "print(\"Execution time:\", time.time() - timeit2)"
   ]
  },
  {
   "cell_type": "markdown",
   "metadata": {},
   "source": [
    "# Vectorize explained in detail :\n",
    "\n",
    "🔹 **What is `np.vectorize()`?**  \n",
    "`np.vectorize()` is a convenience function that allows you to apply a scalar function (a function that works on single values) element-wise to arrays, without writing loops.\n",
    "\n",
    "It essentially creates a vectorized wrapper around your function, enabling it to work with NumPy arrays as inputs.\n",
    "\n",
    "---\n",
    "\n",
    "🔹 **Syntax**\n",
    "```python\n",
    "np.vectorize(pyfunc, otypes=None, doc=None, excluded=None, cache=False, signature=None)\n",
    "```\n",
    "\n",
    "---\n",
    "\n",
    "🔸 **Parameters Explained**\n",
    "\n",
    "| Parameter   | Description |\n",
    "|-------------|-------------|\n",
    "| `pyfunc`    | The Python function you want to apply element-wise. |\n",
    "| `otypes`    | A string of output types (e.g., `'i'` for int, `'f'` for float, `'O'` for object). |\n",
    "| `doc`       | *(Optional)* A custom docstring for the returned function. |\n",
    "| `excluded`  | A set or sequence of argument indices or names to exclude from vectorization. |\n",
    "| `cache`     | If `True`, results are cached. Useful for expensive and repeated computations. |\n",
    "| `signature` | A NumPy generalized ufunc signature (for more complex vectorization, like matrix operations). |\n",
    "\n",
    "---\n",
    "\n",
    "🔹 **Basic Example**\n",
    "\n",
    "**Scalar function:**\n",
    "```python\n",
    "def add_one(x):\n",
    "    return x + 1\n",
    "```\n",
    "\n",
    "**Vectorize it:**\n",
    "```python\n",
    "import numpy as np\n",
    "\n",
    "vfunc = np.vectorize(add_one)\n",
    "arr = np.array([1, 2, 3])\n",
    "print(vfunc(arr))  # Output: [2 3 4]\n",
    "```\n",
    "\n",
    "---\n",
    "\n",
    "🔸 **Using `otypes`**\n",
    "\n",
    "If the return type isn't obvious (especially with empty arrays), specify it with `otypes`.\n",
    "\n",
    "```python\n",
    "def stringify(x):\n",
    "    return str(x) + \"!\"\n",
    "\n",
    "vfunc = np.vectorize(stringify, otypes=['O'])  # O = Object (string)\n",
    "print(vfunc([1, 2, 3]))  # Output: ['1!' '2!' '3!']\n",
    "```\n",
    "\n",
    "---\n",
    "\n",
    "🔸 **Using `excluded`**\n",
    "```python\n",
    "def power(base, exponent):\n",
    "    return base ** exponent\n",
    "\n",
    "vec_power = np.vectorize(power, excluded=['exponent'])  # Keep exponent fixed\n",
    "print(vec_power([1, 2, 3], exponent=2))  # Output: [1 4 9]\n",
    "```\n",
    "\n",
    "---\n"
   ]
  },
  {
   "cell_type": "code",
   "execution_count": 53,
   "metadata": {},
   "outputs": [
    {
     "name": "stdout",
     "output_type": "stream",
     "text": [
      "['1!' '2!' '3!']\n"
     ]
    }
   ],
   "source": [
    "def stringify(x):\n",
    "    return str(x) + \"!\"\n",
    "\n",
    "vfunc = np.vectorize(stringify, otypes=[str])  # or O = Object (string)\n",
    "print(vfunc([1, 2, 3]))  # Output: ['1!' '2!' '3!']"
   ]
  },
  {
   "cell_type": "code",
   "execution_count": 58,
   "metadata": {},
   "outputs": [
    {
     "name": "stdout",
     "output_type": "stream",
     "text": [
      "[1 4 9]\n"
     ]
    }
   ],
   "source": [
    "def power(base, exponent):\n",
    "    return base ** exponent\n",
    "\n",
    "vec_power = np.vectorize(power, excluded=['exponent'])  # Keep exponent fixed, but excluded is not such required here\n",
    "print(vec_power([1, 2, 3], exponent=2))  # Output: [1 4 9]"
   ]
  }
 ],
 "metadata": {
  "kernelspec": {
   "display_name": "Python 3",
   "language": "python",
   "name": "python3"
  },
  "language_info": {
   "codemirror_mode": {
    "name": "ipython",
    "version": 3
   },
   "file_extension": ".py",
   "mimetype": "text/x-python",
   "name": "python",
   "nbconvert_exporter": "python",
   "pygments_lexer": "ipython3",
   "version": "3.13.2"
  }
 },
 "nbformat": 4,
 "nbformat_minor": 2
}
