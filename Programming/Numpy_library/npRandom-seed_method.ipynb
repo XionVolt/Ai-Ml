{
    "cells": [
        {
            "cell_type": "markdown",
            "metadata": {},
            "source": [
                "## 1. What is np.random.seed()?\n",
                "`np.random.seed()` sets the seed for NumPy’s pseudo-random number generator (PRNG). It makes random numbers predictable and reproducible. Without setting a seed, NumPy’s random functions generate different numbers every time you run the script."
            ]
        },
        {
            "cell_type": "markdown",
            "metadata": {},
            "source": [
                "## 2. Why Use np.random.seed()?\n",
                "- **Reproducibility**: Ensures the same sequence of random numbers is generated each time the code runs.\n",
                "- **Debugging**: Makes it easier to debug code since you get consistent outputs.\n",
                "- **Controlled randomness**: Useful when testing models in AI/ML to compare results."
            ]
        },
        {
            "cell_type": "markdown",
            "metadata": {},
            "source": [
                "## 3. How Does it Work?\n",
                "NumPy uses the Mersenne Twister algorithm, a pseudo-random number generator. The seed initializes this generator. The same seed always results in the same sequence of random numbers."
            ]
        },
        {
            "cell_type": "markdown",
            "metadata": {},
            "source": [
                "## 4. Example Usage\n",
                "### Without Setting a Seed\n",
                "Each time you run the following code, you will get different random numbers:"
            ]
        },
        {
            "cell_type": "code",
            "execution_count": 2,
            "metadata": {},
            "outputs": [
                {
                    "name": "stdout",
                    "output_type": "stream",
                    "text": [
                        "[79 68 77 70 80]\n"
                    ]
                }
            ],
            "source": [
                "import numpy as np\n",
                "print(np.random.randint(1, 100, 5))  # Generate 5 random integers between 1 and 100"
            ]
        },
        {
            "cell_type": "markdown",
            "metadata": {},
            "source": [
                "### With np.random.seed()\n",
                "Setting a seed ensures the same numbers are generated every time:"
            ]
        },
        {
            "cell_type": "code",
            "execution_count": 3,
            "metadata": {},
            "outputs": [
                {
                    "name": "stdout",
                    "output_type": "stream",
                    "text": [
                        "[52 93 15 72 61]\n"
                    ]
                }
            ],
            "source": [
                "np.random.seed(42)\n",
                "print(np.random.randint(1, 100, 5))"
            ]
        },
        {
            "cell_type": "markdown",
            "metadata": {},
            "source": [
                "## 5. How It Affects Different Random Functions\n",
                "Once the seed is set, all random functions will produce the same sequence on every run of a program:"
            ]
        },
        {
            "cell_type": "code",
            "execution_count": 4,
            "metadata": {},
            "outputs": [
                {
                    "name": "stdout",
                    "output_type": "stream",
                    "text": [
                        "[0.5488135  0.71518937 0.60276338]\n",
                        "[-2.2683282   1.33354538 -0.84272405]\n",
                        "[7 9 9]\n"
                    ]
                }
            ],
            "source": [
                "np.random.seed(0)\n",
                "print(np.random.rand(3))         # Random floats\n",
                "print(np.random.randn(3))        # Standard normal distribution\n",
                "print(np.random.randint(1, 10, 3))  # Random integers"
            ]
        },
        {
            "cell_type": "markdown",
            "metadata": {},
            "source": [
                "## 6. Changing the Seed\n",
                "If you change the seed, you will get a different sequence:"
            ]
        },
        {
            "cell_type": "code",
            "execution_count": 5,
            "metadata": {},
            "outputs": [
                {
                    "name": "stdout",
                    "output_type": "stream",
                    "text": [
                        "[48 69 26 68 84]\n"
                    ]
                }
            ],
            "source": [
                "np.random.seed(7)\n",
                "print(np.random.randint(1, 100, 5))"
            ]
        },
        {
            "cell_type": "markdown",
            "metadata": {},
            "source": [
                "Changing the seed to 42 will produce different numbers:"
            ]
        },
        {
            "cell_type": "code",
            "execution_count": 6,
            "metadata": {},
            "outputs": [
                {
                    "name": "stdout",
                    "output_type": "stream",
                    "text": [
                        "[52 93 15 72 61]\n"
                    ]
                }
            ],
            "source": [
                "np.random.seed(42)\n",
                "print(np.random.randint(1, 100, 5))"
            ]
        },
        {
            "cell_type": "markdown",
            "metadata": {},
            "source": [
                "## 7. Can You Reset the Seed?\n",
                "Yes! If you call `np.random.seed()` again, it resets the generator:"
            ]
        },
        {
            "cell_type": "code",
            "execution_count": 7,
            "metadata": {},
            "outputs": [
                {
                    "name": "stdout",
                    "output_type": "stream",
                    "text": [
                        "[52 93 15 72 61]\n",
                        "[52 93 15 72 61]\n"
                    ]
                }
            ],
            "source": [
                "np.random.seed(42)\n",
                "print(np.random.randint(1, 100, 5))\n",
                "\n",
                "np.random.seed(42)  # Reset to the same seed\n",
                "print(np.random.randint(1, 100, 5))"
            ]
        },
        {
            "cell_type": "markdown",
            "metadata": {},
            "source": [
                "## 8. What Happens If You Don’t Set a Seed?\n",
                "Without `np.random.seed()`, the generated numbers will be different every time:"
            ]
        },
        {
            "cell_type": "code",
            "execution_count": 8,
            "metadata": {},
            "outputs": [
                {
                    "name": "stdout",
                    "output_type": "stream",
                    "text": [
                        "[21 83 87 75 75]\n",
                        "[88 24  3 22 53]\n"
                    ]
                }
            ],
            "source": [
                "print(np.random.randint(1, 100, 5))\n",
                "print(np.random.randint(1, 100, 5))"
            ]
        },
        {
            "cell_type": "markdown",
            "metadata": {},
            "source": [
                "## 9. What Happens If seed=None?\n",
                "Using `None` makes NumPy use the system time or entropy source:"
            ]
        },
        {
            "cell_type": "code",
            "execution_count": 9,
            "metadata": {},
            "outputs": [
                {
                    "name": "stdout",
                    "output_type": "stream",
                    "text": [
                        "[15 23 84 67 75]\n"
                    ]
                }
            ],
            "source": [
                "np.random.seed(None)\n",
                "print(np.random.randint(1, 100, 5))"
            ]
        },
        {
            "cell_type": "markdown",
            "metadata": {},
            "source": [
                "## 10. Seeding for Multi-Threading & Parallel Processing\n",
                "If you use NumPy in a multi-threaded environment, using the same seed across multiple threads might not guarantee reproducibility due to execution order differences. Instead, you should use:"
            ]
        },
        {
            "cell_type": "code",
            "execution_count": 12,
            "metadata": {},
            "outputs": [
                {
                    "name": "stdout",
                    "output_type": "stream",
                    "text": [
                        "[ 9 77 65 44 43]\n"
                    ]
                }
            ],
            "source": [
                "rng = np.random.default_rng(42)  # New-style generator\n",
                "print(rng.integers(1, 100, 5))"
            ]
        },
        {
            "cell_type": "markdown",
            "metadata": {},
            "source": [
                "This is preferred in modern NumPy (1.17+)."
            ]
        },
        {
            "cell_type": "markdown",
            "metadata": {},
            "source": [
                "## 11. Summary\n",
                "| Feature | `np.random.seed()` |\n",
                "|---------|--------------------|\n",
                "| **Purpose** | Sets the seed for reproducibility |\n",
                "| **Input** | Integer seed (None uses system entropy) |\n",
                "| **Output** | Same random sequence if seed is fixed |\n",
                "| **Use Cases** | AI/ML experiments, debugging, unit testing |\n",
                "| **Alternative** | `np.random.default_rng(seed)` (recommended for newer NumPy) |"
            ]
        },
        {
            "cell_type": "markdown",
            "metadata": {},
            "source": [
                "## 12. When Should You Use np.random.seed()?\n",
                "✅ When you want reproducibility in your results.\n",
                "✅ When debugging AI/ML models and need consistency.\n",
                "✅ When testing algorithms that use randomness.\n",
                "\n",
                "❌ Avoid using it globally in production unless necessary—true randomness is usually better in real-world applications."
            ]
        }
    ],
    "metadata": {
        "kernelspec": {
            "display_name": "Python 3",
            "language": "python",
            "name": "python3"
        },
        "language_info": {
            "codemirror_mode": {
                "name": "ipython",
                "version": 3
            },
            "file_extension": ".py",
            "mimetype": "text/x-python",
            "name": "python",
            "nbconvert_exporter": "python",
            "pygments_lexer": "ipython3",
            "version": "3.11.3"
        }
    },
    "nbformat": 4,
    "nbformat_minor": 2
}
