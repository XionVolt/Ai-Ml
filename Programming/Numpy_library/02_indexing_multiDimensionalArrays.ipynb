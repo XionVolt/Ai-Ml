{
 "cells": [
  {
   "cell_type": "code",
   "execution_count": 13,
   "metadata": {},
   "outputs": [
    {
     "ename": "TypeError",
     "evalue": "cannot pickle 'module' object",
     "output_type": "error",
     "traceback": [
      "\u001b[1;31m---------------------------------------------------------------------------\u001b[0m",
      "\u001b[1;31mTypeError\u001b[0m                                 Traceback (most recent call last)",
      "Cell \u001b[1;32mIn[13], line 5\u001b[0m\n\u001b[0;32m      1\u001b[0m \u001b[38;5;66;03m# indexing multiDimensionalArrays\u001b[39;00m\n\u001b[0;32m      3\u001b[0m \u001b[38;5;28;01mimport\u001b[39;00m \u001b[38;5;21;01mnumpy\u001b[39;00m \u001b[38;5;28;01mas\u001b[39;00m \u001b[38;5;21;01mnp\u001b[39;00m\n\u001b[1;32m----> 5\u001b[0m \u001b[43mget_ipython\u001b[49m\u001b[43m(\u001b[49m\u001b[43m)\u001b[49m\u001b[38;5;241;43m.\u001b[39;49m\u001b[43mrun_line_magic\u001b[49m\u001b[43m(\u001b[49m\u001b[38;5;124;43m'\u001b[39;49m\u001b[38;5;124;43mstore\u001b[39;49m\u001b[38;5;124;43m'\u001b[39;49m\u001b[43m,\u001b[49m\u001b[43m \u001b[49m\u001b[38;5;124;43m'\u001b[39;49m\u001b[38;5;124;43mnp\u001b[39;49m\u001b[38;5;124;43m'\u001b[39;49m\u001b[43m)\u001b[49m\n\u001b[0;32m      6\u001b[0m \u001b[38;5;66;03m# indexing 2d array\u001b[39;00m\n\u001b[0;32m      7\u001b[0m arr \u001b[38;5;241m=\u001b[39m np\u001b[38;5;241m.\u001b[39marray([\n\u001b[0;32m      8\u001b[0m     \u001b[38;5;66;03m# --------- axis 1(column axis) --------- \u001b[39;00m\n\u001b[0;32m      9\u001b[0m     [\u001b[38;5;241m1\u001b[39m, \u001b[38;5;241m2\u001b[39m, \u001b[38;5;241m3\u001b[39m],    \u001b[38;5;66;03m# #\u001b[39;00m\n\u001b[0;32m     10\u001b[0m     [\u001b[38;5;241m4\u001b[39m, \u001b[38;5;241m5\u001b[39m, \u001b[38;5;241m6\u001b[39m],    \u001b[38;5;66;03m# --------- axis 0(row axis) ---------\u001b[39;00m\n\u001b[0;32m     11\u001b[0m                   \u001b[38;5;66;03m# #\u001b[39;00m\n\u001b[0;32m     12\u001b[0m ])\n",
      "File \u001b[1;32m~\\AppData\\Roaming\\Python\\Python311\\site-packages\\IPython\\core\\interactiveshell.py:2414\u001b[0m, in \u001b[0;36mInteractiveShell.run_line_magic\u001b[1;34m(self, magic_name, line, _stack_depth)\u001b[0m\n\u001b[0;32m   2412\u001b[0m     kwargs[\u001b[38;5;124m'\u001b[39m\u001b[38;5;124mlocal_ns\u001b[39m\u001b[38;5;124m'\u001b[39m] \u001b[38;5;241m=\u001b[39m \u001b[38;5;28mself\u001b[39m\u001b[38;5;241m.\u001b[39mget_local_scope(stack_depth)\n\u001b[0;32m   2413\u001b[0m \u001b[38;5;28;01mwith\u001b[39;00m \u001b[38;5;28mself\u001b[39m\u001b[38;5;241m.\u001b[39mbuiltin_trap:\n\u001b[1;32m-> 2414\u001b[0m     result \u001b[38;5;241m=\u001b[39m \u001b[43mfn\u001b[49m\u001b[43m(\u001b[49m\u001b[38;5;241;43m*\u001b[39;49m\u001b[43margs\u001b[49m\u001b[43m,\u001b[49m\u001b[43m \u001b[49m\u001b[38;5;241;43m*\u001b[39;49m\u001b[38;5;241;43m*\u001b[39;49m\u001b[43mkwargs\u001b[49m\u001b[43m)\u001b[49m\n\u001b[0;32m   2416\u001b[0m \u001b[38;5;66;03m# The code below prevents the output from being displayed\u001b[39;00m\n\u001b[0;32m   2417\u001b[0m \u001b[38;5;66;03m# when using magics with decodator @output_can_be_silenced\u001b[39;00m\n\u001b[0;32m   2418\u001b[0m \u001b[38;5;66;03m# when the last Python token in the expression is a ';'.\u001b[39;00m\n\u001b[0;32m   2419\u001b[0m \u001b[38;5;28;01mif\u001b[39;00m \u001b[38;5;28mgetattr\u001b[39m(fn, magic\u001b[38;5;241m.\u001b[39mMAGIC_OUTPUT_CAN_BE_SILENCED, \u001b[38;5;28;01mFalse\u001b[39;00m):\n",
      "File \u001b[1;32m~\\AppData\\Roaming\\Python\\Python311\\site-packages\\IPython\\extensions\\storemagic.py:229\u001b[0m, in \u001b[0;36mStoreMagics.store\u001b[1;34m(self, parameter_s)\u001b[0m\n\u001b[0;32m    227\u001b[0m     \u001b[38;5;28;01mreturn\u001b[39;00m\n\u001b[0;32m    228\u001b[0m \u001b[38;5;66;03m#pickled = pickle.dumps(obj)\u001b[39;00m\n\u001b[1;32m--> 229\u001b[0m \u001b[43mdb\u001b[49m\u001b[43m[\u001b[49m\u001b[43m \u001b[49m\u001b[38;5;124;43m'\u001b[39;49m\u001b[38;5;124;43mautorestore/\u001b[39;49m\u001b[38;5;124;43m'\u001b[39;49m\u001b[43m \u001b[49m\u001b[38;5;241;43m+\u001b[39;49m\u001b[43m \u001b[49m\u001b[43marg\u001b[49m\u001b[43m \u001b[49m\u001b[43m]\u001b[49m \u001b[38;5;241m=\u001b[39m obj\n\u001b[0;32m    230\u001b[0m \u001b[38;5;28mprint\u001b[39m(\u001b[38;5;124m\"\u001b[39m\u001b[38;5;124mStored \u001b[39m\u001b[38;5;124m'\u001b[39m\u001b[38;5;132;01m%s\u001b[39;00m\u001b[38;5;124m'\u001b[39m\u001b[38;5;124m (\u001b[39m\u001b[38;5;132;01m%s\u001b[39;00m\u001b[38;5;124m)\u001b[39m\u001b[38;5;124m\"\u001b[39m \u001b[38;5;241m%\u001b[39m (arg, obj\u001b[38;5;241m.\u001b[39m\u001b[38;5;18m__class__\u001b[39m\u001b[38;5;241m.\u001b[39m\u001b[38;5;18m__name__\u001b[39m))\n",
      "File \u001b[1;32m~\\AppData\\Roaming\\Python\\Python311\\site-packages\\pickleshare.py:118\u001b[0m, in \u001b[0;36mPickleShareDB.__setitem__\u001b[1;34m(self, key, value)\u001b[0m\n\u001b[0;32m    115\u001b[0m \u001b[38;5;66;03m# We specify protocol 2, so that we can mostly go between Python 2\u001b[39;00m\n\u001b[0;32m    116\u001b[0m \u001b[38;5;66;03m# and Python 3. We can upgrade to protocol 3 when Python 2 is obsolete.\u001b[39;00m\n\u001b[0;32m    117\u001b[0m \u001b[38;5;28;01mwith\u001b[39;00m fil\u001b[38;5;241m.\u001b[39mopen(\u001b[38;5;124m'\u001b[39m\u001b[38;5;124mwb\u001b[39m\u001b[38;5;124m'\u001b[39m) \u001b[38;5;28;01mas\u001b[39;00m f:\n\u001b[1;32m--> 118\u001b[0m     \u001b[43mpickle\u001b[49m\u001b[38;5;241;43m.\u001b[39;49m\u001b[43mdump\u001b[49m\u001b[43m(\u001b[49m\u001b[43mvalue\u001b[49m\u001b[43m,\u001b[49m\u001b[43m \u001b[49m\u001b[43mf\u001b[49m\u001b[43m,\u001b[49m\u001b[43m \u001b[49m\u001b[43mprotocol\u001b[49m\u001b[38;5;241;43m=\u001b[39;49m\u001b[38;5;241;43m2\u001b[39;49m\u001b[43m)\u001b[49m\n\u001b[0;32m    119\u001b[0m \u001b[38;5;28;01mtry\u001b[39;00m:\n\u001b[0;32m    120\u001b[0m     \u001b[38;5;28mself\u001b[39m\u001b[38;5;241m.\u001b[39mcache[fil] \u001b[38;5;241m=\u001b[39m (value, fil\u001b[38;5;241m.\u001b[39mstat()\u001b[38;5;241m.\u001b[39mst_mtime)\n",
      "\u001b[1;31mTypeError\u001b[0m: cannot pickle 'module' object"
     ]
    }
   ],
   "source": [
    "# indexing multiDimensionalArrays\n",
    "\n",
    "import numpy as np\n",
    "\n",
    "%store np\n",
    "# indexing 2d array\n",
    "arr = np.array([\n",
    "    # --------- axis 1(column axis) --------- \n",
    "    [1, 2, 3],    # #\n",
    "    [4, 5, 6],    # --------- axis 0(row axis) ---------\n",
    "                  # #\n",
    "])\n",
    "print(arr.ndim) # so its a 2d array\n",
    "print(arr) "
   ]
  },
  {
   "cell_type": "code",
   "execution_count": null,
   "metadata": {},
   "outputs": [
    {
     "name": "stdout",
     "output_type": "stream",
     "text": [
      "first row: [1 2 3]\n",
      "first element of first row: 1\n",
      "last element of first row: 3\n",
      "last element of last row: 6\n"
     ]
    },
    {
     "data": {
      "text/plain": [
       "array([[1, 2, 3]])"
      ]
     },
     "execution_count": 12,
     "metadata": {},
     "output_type": "execute_result"
    }
   ],
   "source": [
    "# before we indexing array its important to understand its structure\n",
    "# see this clip -  https://youtu.be/eClQWW_gbFk?si=vWTfD12i-nyfmLhE&t=1419\n",
    "\n",
    "# so if you wanna get full entire row (first element of arr)\n",
    "print('first row:',arr[0]) # or arr[0,None] means also the same , says : first row \n",
    "\n",
    "# now if you wanna get first element of first row\n",
    "print('first element of first row:',arr[0][0])\n",
    "# last element of first row\n",
    "print('last element of first row:',arr[0][2])\n",
    "# last element of last row\n",
    "print('last element of last row:',arr[1][2]) # or arr[][-1][-1]\n",
    "\n",
    "\"\"\"\n",
    "means give us first element arr , but since we give it None(Default is also None) after `,` \n",
    "we saying inside that give all the elements of that selected element \n",
    "\"\"\"\n",
    "arr[0,None] \n"
   ]
  },
  {
   "cell_type": "code",
   "execution_count": null,
   "metadata": {},
   "outputs": [
    {
     "name": "stdout",
     "output_type": "stream",
     "text": [
      "[3]\n"
     ]
    }
   ],
   "source": [
    "# and we can also combine slicing lists,list of indices , negative indexing   , like this:\n",
    "\"\"\"\n",
    "arr[0:1,[1,2]] so this is also doing same , saying: give me a value from 0th element to 1st element(1st is exclusive) of arr \n",
    "and inside it f, give last and first element of it \n",
    "\"\"\"\n",
    "print(arr[0:1,[-1,1]])  \n"
   ]
  },
  {
   "cell_type": "code",
   "execution_count": null,
   "metadata": {},
   "outputs": [
    {
     "name": "stdout",
     "output_type": "stream",
     "text": [
      "[[4 5 6]\n",
      " [1 2 3]]\n"
     ]
    }
   ],
   "source": [
    "# So now let's say we wanna swap rows of any 2d array\n",
    "\n",
    "arr = np.array([\n",
    "    # --------- axis 1(column axis) ---------\n",
    "    [1, 2, 3],    # #\n",
    "    [4, 5, 6],    # --------- axis 0(row axis) ---------\n",
    "                  # #\n",
    "])\n",
    "# LHS                            assign to            # RHS\n",
    "# arr selects all the elements                        # arr selects all the elements but in reverse             \n",
    "arr[:] = arr[::-1]\n",
    "print(arr)"
   ]
  },
  {
   "cell_type": "code",
   "execution_count": null,
   "metadata": {},
   "outputs": [
    {
     "name": "stdout",
     "output_type": "stream",
     "text": [
      "[[0 2 3]\n",
      " [4 0 6]\n",
      " [7 8 0]]\n"
     ]
    }
   ],
   "source": [
    "# Let's we have any matrix , we wanna make its diagonal elements 0\n",
    "\n",
    "arr = np.array([\n",
    "    [1, 2, 3],  \n",
    "    [4, 5, 6],\n",
    "    [7, 8, 9]           \n",
    "])\n",
    "\n",
    "# so in this way we can select multiple elements of arr individually , to access their distinct elements\n",
    "\n",
    "# row 0,1,2, for row 0 element 0 , for row 1 element 1 , for row 2 element 2 ,  access and assign them 0\n",
    "arr[[0,1,2], [0,1,2]] = 0\n",
    "print(arr)\n"
   ]
  },
  {
   "cell_type": "markdown",
   "metadata": {},
   "source": [
    "## So we talk about 2d arrays , but what about 3d and above dimensional Arrays ? \n",
    "- How you should interpret them in your mind ? [See this clip](https://youtu.be/eClQWW_gbFk?si=ZYjXdOMjMIZzxL1K&t=1611)"
   ]
  },
  {
   "cell_type": "code",
   "execution_count": 59,
   "metadata": {},
   "outputs": [
    {
     "name": "stdout",
     "output_type": "stream",
     "text": [
      "3\n"
     ]
    },
    {
     "data": {
      "text/plain": [
       "array([[[1, 2],\n",
       "        [3, 4]],\n",
       "\n",
       "       [[5, 6],\n",
       "        [7, 8]]])"
      ]
     },
     "execution_count": 59,
     "metadata": {},
     "output_type": "execute_result"
    }
   ],
   "source": [
    "# So now comes 3d Array !! Think of 3d array as row of matrices \n",
    "\n",
    "arr_3d = np.array(\n",
    "\n",
    "       [\n",
    "        #    1st row\n",
    "           [\n",
    "            #    matrix of 1st row\n",
    "               [1,2],\n",
    "               [3,4]\n",
    "\n",
    "           ],\n",
    "         # 2nd row\n",
    "           [\n",
    "            #    matrix of 2nd row\n",
    "               [5,6],\n",
    "               [7,8]\n",
    "           ]\n",
    "\n",
    "       ]\n",
    "\n",
    ")\n",
    "print(arr_3d.ndim) # 3\n",
    "\n",
    "arr_3d\n"
   ]
  },
  {
   "cell_type": "code",
   "execution_count": 64,
   "metadata": {},
   "outputs": [
    {
     "name": "stdout",
     "output_type": "stream",
     "text": [
      "[[[1 2]\n",
      "  [3 4]]\n",
      "\n",
      " [[5 6]\n",
      "  [7 8]]]\n"
     ]
    }
   ],
   "source": [
    "# Now indexing in 3d array \n",
    "\"\"\" Watch this clip : https://youtu.be/eClQWW_gbFk?si=o-Uj1mvWApwu4IJp&t=1657 , this will improve your understanding\n",
    "how to think of indexing in 3d array \"\"\"\n",
    "\n",
    "\n",
    "# Now let's say we wanna swap these matrices(rows of matrix that is inside arr_3d)\n",
    "\"\"\" so first it select all rows of arr_3d(which contains matrix) and on RHS (the value that assigned to arr_3d) , \n",
    "selects all rows of arr_3d but in reverse \"\"\"\n",
    "\n",
    "arr_3d[:] = arr_3d[::-1] \n",
    "print(arr_3d)"
   ]
  },
  {
   "cell_type": "code",
   "execution_count": 77,
   "metadata": {},
   "outputs": [
    {
     "name": "stdout",
     "output_type": "stream",
     "text": [
      "[[[1 2]\n",
      "  [7 8]]\n",
      "\n",
      " [[5 6]\n",
      "  [3 4]]]\n"
     ]
    }
   ],
   "source": [
    "# Let's see one more example , that give us intution of indexing in 3d array\n",
    "\n",
    "\"\"\" let's say we wanna swap last row of first matrix that is inside of first row and that first row is\n",
    "inside of arr_3d , to last row of last matrix that is inside last row and that last row is inside of arr_3d\n",
    "\"\"\"\n",
    "\n",
    "arr_3d[:, [-1]] = arr_3d[::-1, [-1]]\n",
    "print(arr_3d)"
   ]
  }
 ],
 "metadata": {
  "kernelspec": {
   "display_name": "Python 3",
   "language": "python",
   "name": "python3"
  },
  "language_info": {
   "codemirror_mode": {
    "name": "ipython",
    "version": 3
   },
   "file_extension": ".py",
   "mimetype": "text/x-python",
   "name": "python",
   "nbconvert_exporter": "python",
   "pygments_lexer": "ipython3",
   "version": "3.11.3"
  }
 },
 "nbformat": 4,
 "nbformat_minor": 2
}
