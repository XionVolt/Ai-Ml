{
 "cells": [
  {
   "cell_type": "code",
   "execution_count": 14,
   "metadata": {},
   "outputs": [
    {
     "name": "stdout",
     "output_type": "stream",
     "text": [
      "2\n",
      "[[1 2 3]\n",
      " [4 5 6]]\n"
     ]
    }
   ],
   "source": [
    "# indexing multiDimensionalArrays\n",
    "\n",
    "import numpy as np\n",
    "\n",
    "# %store np\n",
    "# indexing 2d array\n",
    "arr = np.array([\n",
    "    # --------- axis 1(column axis) --------- \n",
    "    [1, 2, 3],    # #\n",
    "    [4, 5, 6],    # --------- axis 0(row axis) ---------\n",
    "                  # #\n",
    "])\n",
    "print(arr.ndim) # so its a 2d array\n",
    "print(arr) "
   ]
  },
  {
   "cell_type": "code",
   "execution_count": 15,
   "metadata": {},
   "outputs": [
    {
     "name": "stdout",
     "output_type": "stream",
     "text": [
      "first row: [1 2 3]\n",
      "first element of first row: 1\n",
      "last element of first row: 3\n",
      "last element of last row: 6\n"
     ]
    },
    {
     "data": {
      "text/plain": [
       "array([[1, 2, 3]])"
      ]
     },
     "execution_count": 15,
     "metadata": {},
     "output_type": "execute_result"
    }
   ],
   "source": [
    "# before we indexing array its important to understand its structure\n",
    "# see this clip -  https://youtu.be/eClQWW_gbFk?si=vWTfD12i-nyfmLhE&t=1419\n",
    "\n",
    "# so if you wanna get full entire row (first element of arr)\n",
    "print('first row:',arr[0]) # or arr[0,None] means also the same , says : first row \n",
    "\n",
    "# now if you wanna get first element of first row\n",
    "print('first element of first row:',arr[0][0])\n",
    "# last element of first row\n",
    "print('last element of first row:',arr[0][2])\n",
    "# last element of last row\n",
    "print('last element of last row:',arr[1][2]) # or arr[][-1][-1]\n",
    "\n",
    "\"\"\"\n",
    "means give us first element arr , but since we give it None(Default is also None) after `,` \n",
    "we saying inside that give all the elements of that selected element \n",
    "\"\"\"\n",
    "arr[0,None] \n"
   ]
  },
  {
   "cell_type": "code",
   "execution_count": 16,
   "metadata": {},
   "outputs": [
    {
     "name": "stdout",
     "output_type": "stream",
     "text": [
      "[[3 2]]\n"
     ]
    }
   ],
   "source": [
    "# and we can also combine slicing lists,list of indices , negative indexing   , like this:\n",
    "\"\"\"\n",
    "arr[0:1,[1,2]] so this is also doing same , saying: give me a value from 0th element to 1st element(1st is exclusive) of arr \n",
    "and inside it f, give last and first element of it \n",
    "\"\"\"\n",
    "print(arr[0:1,[-1,1]])  \n"
   ]
  },
  {
   "cell_type": "code",
   "execution_count": 17,
   "metadata": {},
   "outputs": [
    {
     "name": "stdout",
     "output_type": "stream",
     "text": [
      "[[4 5 6]\n",
      " [1 2 3]]\n"
     ]
    }
   ],
   "source": [
    "# So now let's say we wanna swap rows of any 2d array\n",
    "\n",
    "arr = np.array([\n",
    "    # --------- axis 1(column axis) ---------\n",
    "    [1, 2, 3],    # #\n",
    "    [4, 5, 6],    # --------- axis 0(row axis) ---------\n",
    "                  # #\n",
    "])\n",
    "# LHS                            assign to            # RHS\n",
    "# arr selects all the elements                        # arr selects all the elements but in reverse             \n",
    "arr[:] = arr[::-1]\n",
    "print(arr)"
   ]
  },
  {
   "cell_type": "code",
   "execution_count": 18,
   "metadata": {},
   "outputs": [
    {
     "name": "stdout",
     "output_type": "stream",
     "text": [
      "[[0 2 3]\n",
      " [4 0 6]\n",
      " [7 8 0]]\n"
     ]
    }
   ],
   "source": [
    "# Let's we have any matrix , we wanna make its diagonal elements 0\n",
    "\n",
    "arr = np.array([\n",
    "    [1, 2, 3],  \n",
    "    [4, 5, 6],\n",
    "    [7, 8, 9]           \n",
    "])\n",
    "\n",
    "# so in this way we can select multiple elements of arr individually , to access their distinct elements\n",
    "\n",
    "# row 0,1,2, for row 0 element 0 , for row 1 element 1 , for row 2 element 2 ,  access and assign them 0\n",
    "arr[[0,1,2], [0,1,2]] = 0\n",
    "print(arr)\n"
   ]
  },
  {
   "cell_type": "markdown",
   "metadata": {},
   "source": [
    "## So we talk about 2d arrays , but what about 3d and above dimensional Arrays ? \n",
    "- How you should interpret them in your mind ? [See this clip](https://youtu.be/eClQWW_gbFk?si=ZYjXdOMjMIZzxL1K&t=1611)"
   ]
  },
  {
   "cell_type": "code",
   "execution_count": 19,
   "metadata": {},
   "outputs": [
    {
     "name": "stdout",
     "output_type": "stream",
     "text": [
      "3\n"
     ]
    },
    {
     "data": {
      "text/plain": [
       "array([[[1, 2],\n",
       "        [3, 4]],\n",
       "\n",
       "       [[5, 6],\n",
       "        [7, 8]]])"
      ]
     },
     "execution_count": 19,
     "metadata": {},
     "output_type": "execute_result"
    }
   ],
   "source": [
    "# So now comes 3d Array !! Think of 3d array as row of matrices \n",
    "\n",
    "arr_3d = np.array(\n",
    "\n",
    "       [\n",
    "        #    1st row\n",
    "           [\n",
    "            #    matrix of 1st row\n",
    "               [1,2],\n",
    "               [3,4]\n",
    "\n",
    "           ],\n",
    "         # 2nd row\n",
    "           [\n",
    "            #    matrix of 2nd row\n",
    "               [5,6],\n",
    "               [7,8]\n",
    "           ]\n",
    "\n",
    "       ]\n",
    "\n",
    ")\n",
    "print(arr_3d.ndim) # 3\n",
    "\n",
    "arr_3d\n"
   ]
  },
  {
   "cell_type": "code",
   "execution_count": 20,
   "metadata": {},
   "outputs": [
    {
     "name": "stdout",
     "output_type": "stream",
     "text": [
      "[[[5 6]\n",
      "  [7 8]]\n",
      "\n",
      " [[1 2]\n",
      "  [3 4]]]\n"
     ]
    }
   ],
   "source": [
    "# Now indexing in 3d array \n",
    "\"\"\" Watch this clip : https://youtu.be/eClQWW_gbFk?si=o-Uj1mvWApwu4IJp&t=1657 , this will improve your understanding\n",
    "how to think of indexing in 3d array \"\"\"\n",
    "\n",
    "\n",
    "# Now let's say we wanna swap these matrices(rows of matrix that is inside arr_3d)\n",
    "\"\"\" so first it select all rows of arr_3d(which contains matrix) and on RHS (the value that assigned to arr_3d) , \n",
    "selects all rows of arr_3d but in reverse \"\"\"\n",
    "\n",
    "arr_3d[:] = arr_3d[::-1] \n",
    "print(arr_3d)"
   ]
  },
  {
   "cell_type": "code",
   "execution_count": 51,
   "metadata": {},
   "outputs": [
    {
     "name": "stdout",
     "output_type": "stream",
     "text": [
      "[[[5 6]\n",
      "  [7 8]]\n",
      "\n",
      " [[1 2]\n",
      "  [3 4]]]\n"
     ]
    }
   ],
   "source": [
    "# Let's see one more example , that give us intution of indexing in 3d array\n",
    "\n",
    "\"\"\" let's say we wanna swap last row of first matrix that is inside of first row and that first row is\n",
    "inside of arr_3d , to last row of last matrix that is inside last row and that last row is inside of arr_3d\n",
    "\"\"\"\n",
    "\n",
    "arr_3d[:, [-1]] = arr_3d[::-1, [-1]]\n",
    "print(arr_3d)"
   ]
  }
 ],
 "metadata": {
  "kernelspec": {
   "display_name": "Python 3",
   "language": "python",
   "name": "python3"
  },
  "language_info": {
   "codemirror_mode": {
    "name": "ipython",
    "version": 3
   },
   "file_extension": ".py",
   "mimetype": "text/x-python",
   "name": "python",
   "nbconvert_exporter": "python",
   "pygments_lexer": "ipython3",
   "version": "3.11.3"
  }
 },
 "nbformat": 4,
 "nbformat_minor": 2
}
