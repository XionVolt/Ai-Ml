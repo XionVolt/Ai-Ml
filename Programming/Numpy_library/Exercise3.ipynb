{
 "cells": [
  {
   "cell_type": "markdown",
   "metadata": {},
   "source": [
    "# Problem Statement\n",
    "#### You decide to invest in a series of billboards along interstate 10 to advertise your stylish new chicken restaurant, Chic-fil-A. You buy three billboards evenly spaced starting on mile marker 17 and ending on mile marker 28. Then you buy another three billboards evenly spaced starting on mile marker 32 and ending on mile marker 36. In order, from mile marker 17 to 36, your billboards display these ads: A, B, C, C, B, A. Determine how far each \"C\" ad is from your restaurant which is located at mile marker 30."
   ]
  },
  {
   "cell_type": "code",
   "execution_count": 1,
   "metadata": {},
   "outputs": [
    {
     "name": "stdout",
     "output_type": "stream",
     "text": [
      "[17 22 28]\n",
      "[32 34 36]\n",
      "[2 6]\n"
     ]
    },
    {
     "data": {
      "text/plain": [
       "4.0"
      ]
     },
     "execution_count": 1,
     "metadata": {},
     "output_type": "execute_result"
    }
   ],
   "source": [
    "# 1st solution\n",
    "\n",
    "import numpy as np\n",
    "first_three_billboards =np.linspace(17, 28, 3,dtype=int)\n",
    "second_three_billboards=np.linspace(32, 36, 3,dtype=int)\n",
    "\n",
    "print(first_three_billboards)\n",
    "print(second_three_billboards)\n",
    "resturantLocation = 30\n",
    "\n",
    "# abs -> absolute value from 0, here to ensure the distance is positive\n",
    "distances_from_restaurant = np.array([abs(resturantLocation - first_three_billboards[-1]), abs(second_three_billboards[-1] - resturantLocation)])\n",
    "print(distances_from_restaurant) \n",
    "\n",
    "\n",
    "# ------------------------------------------------------------ Not required in the question ------------------------------------------------------------\n",
    "distances_from_restaurant.sum() / 2 # average distance from both \"C\" billboards, btw this is not ask in the question\n"
   ]
  },
  {
   "cell_type": "code",
   "execution_count": 2,
   "metadata": {},
   "outputs": [
    {
     "name": "stdout",
     "output_type": "stream",
     "text": [
      "[[17 32]\n",
      " [22 34]\n",
      " [28 36]]\n"
     ]
    },
    {
     "data": {
      "text/plain": [
       "array([2, 6])"
      ]
     },
     "execution_count": 2,
     "metadata": {},
     "output_type": "execute_result"
    }
   ],
   "source": [
    "# 2nd Solution\n",
    "# ----- So we can also pass array value to start and stop parameter in np.linspace() method, we gonna leverage this to optimize 1st solution\n",
    "\n",
    "# Means stop value for 17 is 28 and stop value for 32 is 36\n",
    "all_billboards = np.linspace(start=[17,32], stop=[28,36], num=3 ,dtype=int)\n",
    "print(all_billboards)\n",
    "distances_from_restaurant = np.abs(all_billboards[-1] - resturantLocation)  \n",
    "distances_from_restaurant"
   ]
  },
  {
   "cell_type": "markdown",
   "metadata": {},
   "source": [
    "## We also have axis param in np.linspace method"
   ]
  },
  {
   "cell_type": "code",
   "execution_count": 5,
   "metadata": {},
   "outputs": [
    {
     "name": "stdout",
     "output_type": "stream",
     "text": [
      "[[17 22 28]\n",
      " [32 34 36]\n",
      " [ 1  5 10]]\n"
     ]
    }
   ],
   "source": [
    "# Same like np.mean axis param, axis 0 for column wise, axis 1 for row wise ...\n",
    "example = np.linspace(start=[17,32,1], stop=[28,36,10], num=3 ,dtype=int,axis=1)\n",
    "print(example)\n"
   ]
  }
 ],
 "metadata": {
  "kernelspec": {
   "display_name": "Python 3",
   "language": "python",
   "name": "python3"
  },
  "language_info": {
   "codemirror_mode": {
    "name": "ipython",
    "version": 3
   },
   "file_extension": ".py",
   "mimetype": "text/x-python",
   "name": "python",
   "nbconvert_exporter": "python",
   "pygments_lexer": "ipython3",
   "version": "3.11.3"
  }
 },
 "nbformat": 4,
 "nbformat_minor": 2
}
