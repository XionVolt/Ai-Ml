{
 "cells": [
  {
   "cell_type": "markdown",
   "metadata": {},
   "source": [
    "# Problem statement\n",
    "\n",
    "#### After binge watching the discovery channel, you ditch your job as a trial lawyer to become a gold miner. You decide to prospect five locations underneath a 7x7 grid of land. How much gold do you uncover at each location?"
   ]
  },
  {
   "cell_type": "markdown",
   "metadata": {},
   "source": [
    "## Setup\n",
    "**[Full setup explanation by `GormAnalysis`](https://youtu.be/eClQWW_gbFk?si=tDaU-5Bi2aQ9ctDH&t=2041)**"
   ]
  },
  {
   "cell_type": "code",
   "execution_count": 2,
   "metadata": {},
   "outputs": [
    {
     "name": "stdout",
     "output_type": "stream",
     "text": [
      "[[0 7 6 5 7 2 8]\n",
      " [3 9 3 3 3 3 8]\n",
      " [1 0 9 3 2 7 7]\n",
      " [7 7 6 9 1 7 3]\n",
      " [6 8 4 9 2 7 1]\n",
      " [1 0 8 1 1 4 3]\n",
      " [2 3 3 3 6 1 5]]\n"
     ]
    }
   ],
   "source": [
    "import numpy as np \n",
    "rng = np.random.default_rng(77)\n",
    "gold = rng.integers(low=0, high=10, size=(7, 7)) \n",
    "print(gold)\n"
   ]
  },
  {
   "cell_type": "code",
   "execution_count": 3,
   "metadata": {},
   "outputs": [
    {
     "name": "stdout",
     "output_type": "stream",
     "text": [
      "[[0 4]\n",
      " [2 2]\n",
      " [2 3]\n",
      " [5 1]\n",
      " [6 3]]\n"
     ]
    }
   ],
   "source": [
    "locs = np.array([[0, 4], [2, 2], [2, 3], [5,1], [6,3]])\n",
    "print(locs)"
   ]
  },
  {
   "cell_type": "code",
   "execution_count": 4,
   "metadata": {},
   "outputs": [
    {
     "data": {
      "text/plain": [
       "array([0., 0., 0., 0., 0.])"
      ]
     },
     "execution_count": 4,
     "metadata": {},
     "output_type": "execute_result"
    }
   ],
   "source": [
    "goldDiscoveredAtEachLoc = np.zeros(5) \n",
    "goldDiscoveredAtEachLoc"
   ]
  },
  {
   "cell_type": "code",
   "execution_count": 6,
   "metadata": {},
   "outputs": [
    {
     "name": "stdout",
     "output_type": "stream",
     "text": [
      "Gold discovered at row 0 and column 4 is 7 Unit\n",
      "Gold discovered at row 2 and column 2 is 9 Unit\n",
      "Gold discovered at row 2 and column 3 is 3 Unit\n",
      "Gold discovered at row 5 and column 1 is 0 Unit\n",
      "Gold discovered at row 6 and column 3 is 3 Unit\n"
     ]
    }
   ],
   "source": [
    "#                              This row    This column\n",
    "goldDiscoveredAtEachLoc = gold[locs[:, 0], locs[:, 1]]\n",
    "goldDiscoveredAtEachLoc\n",
    "for i,v in enumerate(goldDiscoveredAtEachLoc):\n",
    "    print(f'Gold discovered at row {locs[i][0]} and column {locs[i][1]} is {v} Unit')"
   ]
  }
 ],
 "metadata": {
  "kernelspec": {
   "display_name": "Python 3",
   "language": "python",
   "name": "python3"
  },
  "language_info": {
   "codemirror_mode": {
    "name": "ipython",
    "version": 3
   },
   "file_extension": ".py",
   "mimetype": "text/x-python",
   "name": "python",
   "nbconvert_exporter": "python",
   "pygments_lexer": "ipython3",
   "version": "3.11.3"
  }
 },
 "nbformat": 4,
 "nbformat_minor": 2
}
