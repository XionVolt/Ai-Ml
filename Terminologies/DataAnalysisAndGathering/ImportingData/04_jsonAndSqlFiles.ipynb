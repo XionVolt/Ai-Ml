{
 "cells": [
  {
   "cell_type": "code",
   "execution_count": null,
   "id": "3ae3f067",
   "metadata": {},
   "outputs": [],
   "source": [
    "# Importing json and sql data -> https://youtu.be/dA6ZksRR6aw?si=p5MduvERgNz_5vmA&t=3867"
   ]
  },
  {
   "cell_type": "code",
   "execution_count": 1,
   "id": "5660eb08",
   "metadata": {},
   "outputs": [],
   "source": [
    "import numpy as np\n",
    "import pandas as pd"
   ]
  },
  {
   "cell_type": "markdown",
   "id": "e7a1e74b",
   "metadata": {},
   "source": [
    "# json data"
   ]
  },
  {
   "cell_type": "code",
   "execution_count": 6,
   "id": "271bc390",
   "metadata": {},
   "outputs": [
    {
     "data": {
      "application/vnd.microsoft.datawrangler.viewer.v0+json": {
       "columns": [
        {
         "name": "index",
         "rawType": "int64",
         "type": "integer"
        },
        {
         "name": "id",
         "rawType": "int64",
         "type": "integer"
        },
        {
         "name": "name",
         "rawType": "object",
         "type": "string"
        },
        {
         "name": "age",
         "rawType": "int64",
         "type": "integer"
        },
        {
         "name": "city",
         "rawType": "object",
         "type": "string"
        },
        {
         "name": "is_student",
         "rawType": "bool",
         "type": "boolean"
        }
       ],
       "conversionMethod": "pd.DataFrame",
       "ref": "bfebde45-3a45-47f8-be7c-d07f6dbb1b72",
       "rows": [
        [
         "0",
         "1",
         "Alice",
         "25",
         "New York",
         "False"
        ],
        [
         "1",
         "2",
         "Bob",
         "30",
         "Los Angeles",
         "True"
        ],
        [
         "2",
         "3",
         "Charlie",
         "22",
         "Chicago",
         "False"
        ],
        [
         "3",
         "4",
         "David",
         "28",
         "San Francisco",
         "True"
        ],
        [
         "4",
         "5",
         "Eve",
         "27",
         "Seattle",
         "False"
        ],
        [
         "5",
         "6",
         "Frank",
         "31",
         "Austin",
         "True"
        ],
        [
         "6",
         "7",
         "Grace",
         "24",
         "Boston",
         "False"
        ]
       ],
       "shape": {
        "columns": 5,
        "rows": 7
       }
      },
      "text/html": [
       "<div>\n",
       "<style scoped>\n",
       "    .dataframe tbody tr th:only-of-type {\n",
       "        vertical-align: middle;\n",
       "    }\n",
       "\n",
       "    .dataframe tbody tr th {\n",
       "        vertical-align: top;\n",
       "    }\n",
       "\n",
       "    .dataframe thead th {\n",
       "        text-align: right;\n",
       "    }\n",
       "</style>\n",
       "<table border=\"1\" class=\"dataframe\">\n",
       "  <thead>\n",
       "    <tr style=\"text-align: right;\">\n",
       "      <th></th>\n",
       "      <th>id</th>\n",
       "      <th>name</th>\n",
       "      <th>age</th>\n",
       "      <th>city</th>\n",
       "      <th>is_student</th>\n",
       "    </tr>\n",
       "  </thead>\n",
       "  <tbody>\n",
       "    <tr>\n",
       "      <th>0</th>\n",
       "      <td>1</td>\n",
       "      <td>Alice</td>\n",
       "      <td>25</td>\n",
       "      <td>New York</td>\n",
       "      <td>False</td>\n",
       "    </tr>\n",
       "    <tr>\n",
       "      <th>1</th>\n",
       "      <td>2</td>\n",
       "      <td>Bob</td>\n",
       "      <td>30</td>\n",
       "      <td>Los Angeles</td>\n",
       "      <td>True</td>\n",
       "    </tr>\n",
       "    <tr>\n",
       "      <th>2</th>\n",
       "      <td>3</td>\n",
       "      <td>Charlie</td>\n",
       "      <td>22</td>\n",
       "      <td>Chicago</td>\n",
       "      <td>False</td>\n",
       "    </tr>\n",
       "    <tr>\n",
       "      <th>3</th>\n",
       "      <td>4</td>\n",
       "      <td>David</td>\n",
       "      <td>28</td>\n",
       "      <td>San Francisco</td>\n",
       "      <td>True</td>\n",
       "    </tr>\n",
       "    <tr>\n",
       "      <th>4</th>\n",
       "      <td>5</td>\n",
       "      <td>Eve</td>\n",
       "      <td>27</td>\n",
       "      <td>Seattle</td>\n",
       "      <td>False</td>\n",
       "    </tr>\n",
       "    <tr>\n",
       "      <th>5</th>\n",
       "      <td>6</td>\n",
       "      <td>Frank</td>\n",
       "      <td>31</td>\n",
       "      <td>Austin</td>\n",
       "      <td>True</td>\n",
       "    </tr>\n",
       "    <tr>\n",
       "      <th>6</th>\n",
       "      <td>7</td>\n",
       "      <td>Grace</td>\n",
       "      <td>24</td>\n",
       "      <td>Boston</td>\n",
       "      <td>False</td>\n",
       "    </tr>\n",
       "  </tbody>\n",
       "</table>\n",
       "</div>"
      ],
      "text/plain": [
       "   id     name  age           city  is_student\n",
       "0   1    Alice   25       New York       False\n",
       "1   2      Bob   30    Los Angeles        True\n",
       "2   3  Charlie   22        Chicago       False\n",
       "3   4    David   28  San Francisco        True\n",
       "4   5      Eve   27        Seattle       False\n",
       "5   6    Frank   31         Austin        True\n",
       "6   7    Grace   24         Boston       False"
      ]
     },
     "execution_count": 6,
     "metadata": {},
     "output_type": "execute_result"
    }
   ],
   "source": [
    "pd.read_json('jsondata.json')"
   ]
  },
  {
   "cell_type": "markdown",
   "id": "c9116f5a",
   "metadata": {},
   "source": [
    "# sql data"
   ]
  },
  {
   "cell_type": "code",
   "execution_count": null,
   "id": "f701a6e9",
   "metadata": {},
   "outputs": [
    {
     "data": {
      "text/plain": [
       "<mysql.connector.connection.MySQLConnection at 0x18c834f5310>"
      ]
     },
     "execution_count": 10,
     "metadata": {},
     "output_type": "execute_result"
    }
   ],
   "source": [
    "# this function explained -> https://youtu.be/dA6ZksRR6aw?si=x67lZ3uk7h8oASYo&t=4547\n",
    "\n",
    "\n",
    "\n",
    "# host: the hostname or IP address of the MySQL server\n",
    "# user: the username to authenticate with(by default it is root, when working with xampp)\n",
    "# password: the password for the given user (if not empty string)\n",
    "# database: the name of the database to connect to \n",
    "\n",
    "import mysql.connector\n",
    "conn = mysql.connector.connect(host='localhost',user='root',password='',database='sample')\n",
    "# -> we get mysql connection object\n",
    "conn "
   ]
  },
  {
   "cell_type": "code",
   "execution_count": null,
   "id": "14c209ab",
   "metadata": {},
   "outputs": [
    {
     "name": "stderr",
     "output_type": "stream",
     "text": [
      "C:\\Users\\Vedansh\\AppData\\Local\\Temp\\ipykernel_36028\\2434865942.py:5: UserWarning: pandas only supports SQLAlchemy connectable (engine/connection) or database string URI or sqlite3 DBAPI2 connection. Other DBAPI2 objects are not tested. Please consider using SQLAlchemy.\n",
      "  pd.read_sql_query(con=conn,sql='SELECT * FROM employees')\n"
     ]
    },
    {
     "data": {
      "application/vnd.microsoft.datawrangler.viewer.v0+json": {
       "columns": [
        {
         "name": "index",
         "rawType": "int64",
         "type": "integer"
        },
        {
         "name": "id",
         "rawType": "int64",
         "type": "integer"
        },
        {
         "name": "name",
         "rawType": "object",
         "type": "string"
        },
        {
         "name": "age",
         "rawType": "int64",
         "type": "integer"
        },
        {
         "name": "department",
         "rawType": "object",
         "type": "string"
        },
        {
         "name": "salary",
         "rawType": "float64",
         "type": "float"
        },
        {
         "name": "join_date",
         "rawType": "object",
         "type": "unknown"
        }
       ],
       "conversionMethod": "pd.DataFrame",
       "ref": "8b822292-7c6c-43ad-b1b8-678423fbc5f3",
       "rows": [
        [
         "0",
         "1",
         "Alice",
         "28",
         "HR",
         "55000.0",
         "2021-06-01"
        ],
        [
         "1",
         "2",
         "Bob",
         "35",
         "Engineering",
         "85000.5",
         "2020-03-15"
        ],
        [
         "2",
         "3",
         "Charlie",
         "30",
         "Sales",
         "60000.0",
         "2019-09-10"
        ],
        [
         "3",
         "4",
         "Diana",
         "24",
         "Marketing",
         "50000.0",
         "2022-01-25"
        ],
        [
         "4",
         "5",
         "Ethan",
         "40",
         "Finance",
         "95000.0",
         "2018-11-05"
        ],
        [
         "5",
         "6",
         "Fay",
         "32",
         "Engineering",
         "88000.75",
         "2020-12-11"
        ],
        [
         "6",
         "7",
         "George",
         "29",
         "HR",
         "57000.0",
         "2021-08-19"
        ]
       ],
       "shape": {
        "columns": 6,
        "rows": 7
       }
      },
      "text/html": [
       "<div>\n",
       "<style scoped>\n",
       "    .dataframe tbody tr th:only-of-type {\n",
       "        vertical-align: middle;\n",
       "    }\n",
       "\n",
       "    .dataframe tbody tr th {\n",
       "        vertical-align: top;\n",
       "    }\n",
       "\n",
       "    .dataframe thead th {\n",
       "        text-align: right;\n",
       "    }\n",
       "</style>\n",
       "<table border=\"1\" class=\"dataframe\">\n",
       "  <thead>\n",
       "    <tr style=\"text-align: right;\">\n",
       "      <th></th>\n",
       "      <th>id</th>\n",
       "      <th>name</th>\n",
       "      <th>age</th>\n",
       "      <th>department</th>\n",
       "      <th>salary</th>\n",
       "      <th>join_date</th>\n",
       "    </tr>\n",
       "  </thead>\n",
       "  <tbody>\n",
       "    <tr>\n",
       "      <th>0</th>\n",
       "      <td>1</td>\n",
       "      <td>Alice</td>\n",
       "      <td>28</td>\n",
       "      <td>HR</td>\n",
       "      <td>55000.00</td>\n",
       "      <td>2021-06-01</td>\n",
       "    </tr>\n",
       "    <tr>\n",
       "      <th>1</th>\n",
       "      <td>2</td>\n",
       "      <td>Bob</td>\n",
       "      <td>35</td>\n",
       "      <td>Engineering</td>\n",
       "      <td>85000.50</td>\n",
       "      <td>2020-03-15</td>\n",
       "    </tr>\n",
       "    <tr>\n",
       "      <th>2</th>\n",
       "      <td>3</td>\n",
       "      <td>Charlie</td>\n",
       "      <td>30</td>\n",
       "      <td>Sales</td>\n",
       "      <td>60000.00</td>\n",
       "      <td>2019-09-10</td>\n",
       "    </tr>\n",
       "    <tr>\n",
       "      <th>3</th>\n",
       "      <td>4</td>\n",
       "      <td>Diana</td>\n",
       "      <td>24</td>\n",
       "      <td>Marketing</td>\n",
       "      <td>50000.00</td>\n",
       "      <td>2022-01-25</td>\n",
       "    </tr>\n",
       "    <tr>\n",
       "      <th>4</th>\n",
       "      <td>5</td>\n",
       "      <td>Ethan</td>\n",
       "      <td>40</td>\n",
       "      <td>Finance</td>\n",
       "      <td>95000.00</td>\n",
       "      <td>2018-11-05</td>\n",
       "    </tr>\n",
       "    <tr>\n",
       "      <th>5</th>\n",
       "      <td>6</td>\n",
       "      <td>Fay</td>\n",
       "      <td>32</td>\n",
       "      <td>Engineering</td>\n",
       "      <td>88000.75</td>\n",
       "      <td>2020-12-11</td>\n",
       "    </tr>\n",
       "    <tr>\n",
       "      <th>6</th>\n",
       "      <td>7</td>\n",
       "      <td>George</td>\n",
       "      <td>29</td>\n",
       "      <td>HR</td>\n",
       "      <td>57000.00</td>\n",
       "      <td>2021-08-19</td>\n",
       "    </tr>\n",
       "  </tbody>\n",
       "</table>\n",
       "</div>"
      ],
      "text/plain": [
       "   id     name  age   department    salary   join_date\n",
       "0   1    Alice   28           HR  55000.00  2021-06-01\n",
       "1   2      Bob   35  Engineering  85000.50  2020-03-15\n",
       "2   3  Charlie   30        Sales  60000.00  2019-09-10\n",
       "3   4    Diana   24    Marketing  50000.00  2022-01-25\n",
       "4   5    Ethan   40      Finance  95000.00  2018-11-05\n",
       "5   6      Fay   32  Engineering  88000.75  2020-12-11\n",
       "6   7   George   29           HR  57000.00  2021-08-19"
      ]
     },
     "execution_count": 13,
     "metadata": {},
     "output_type": "execute_result"
    }
   ],
   "source": [
    "# pd.read_sql_query explained -> https://youtu.be/dA6ZksRR6aw?si=KuaaB6Xf4zqf4cZe&t=4607\n",
    "\n",
    "\n",
    "# it takes to connection object and sql query as arguments\n",
    "# and you can perform all sort of sql queries in `sql` parameter\n",
    "pd.read_sql_query(con=conn,sql='SELECT * FROM employees')"
   ]
  }
 ],
 "metadata": {
  "kernelspec": {
   "display_name": "Python 3",
   "language": "python",
   "name": "python3"
  },
  "language_info": {
   "codemirror_mode": {
    "name": "ipython",
    "version": 3
   },
   "file_extension": ".py",
   "mimetype": "text/x-python",
   "name": "python",
   "nbconvert_exporter": "python",
   "pygments_lexer": "ipython3",
   "version": "3.13.2"
  }
 },
 "nbformat": 4,
 "nbformat_minor": 5
}
