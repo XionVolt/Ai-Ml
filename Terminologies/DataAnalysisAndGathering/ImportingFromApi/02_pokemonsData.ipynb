{
 "cells": [
  {
   "cell_type": "markdown",
   "id": "97a0f8e7",
   "metadata": {},
   "source": [
    "# This file was generated to fetch data of all pokemons"
   ]
  },
  {
   "cell_type": "code",
   "execution_count": 3,
   "id": "6a96bbc4",
   "metadata": {},
   "outputs": [],
   "source": [
    "import time\n",
    "import requests\n",
    "import pandas as pd"
   ]
  },
  {
   "cell_type": "code",
   "execution_count": 6,
   "id": "7a32bf8b",
   "metadata": {},
   "outputs": [],
   "source": [
    "# we use only few urls because i will run this code in google colab, here i just write code\n",
    "urls = [f'https://pokeapi.co/api/v2/pokemon/{i}' for i in range(327,330)]\n",
    "\n",
    "fullJsonAllPokemons = []\n",
    "for url in urls:\n",
    "    response = requests.get(url)\n",
    "    fullJsonAllPokemons.append(response.json())"
   ]
  },
  {
   "cell_type": "code",
   "execution_count": 3,
   "id": "68ef71de",
   "metadata": {},
   "outputs": [
    {
     "data": {
      "application/vnd.microsoft.datawrangler.viewer.v0+json": {
       "columns": [
        {
         "name": "id",
         "rawType": "int64",
         "type": "integer"
        },
        {
         "name": "name",
         "rawType": "object",
         "type": "string"
        },
        {
         "name": "height",
         "rawType": "int64",
         "type": "integer"
        },
        {
         "name": "weight",
         "rawType": "int64",
         "type": "integer"
        },
        {
         "name": "species",
         "rawType": "object",
         "type": "string"
        },
        {
         "name": "base_experience",
         "rawType": "int64",
         "type": "integer"
        },
        {
         "name": "types",
         "rawType": "object",
         "type": "unknown"
        },
        {
         "name": "abilities",
         "rawType": "int64",
         "type": "integer"
        },
        {
         "name": "moves_count",
         "rawType": "int64",
         "type": "integer"
        },
        {
         "name": "forms_count",
         "rawType": "int64",
         "type": "integer"
        }
       ],
       "conversionMethod": "pd.DataFrame",
       "ref": "728082d7-23d6-4181-8b1c-27d6e1a16496",
       "rows": [
        [
         "777",
         "togedemaru",
         "3",
         "33",
         "togedemaru",
         "152",
         "['electric', 'steel']",
         "3",
         "78",
         "1"
        ],
        [
         "778",
         "mimikyu-disguised",
         "2",
         "7",
         "mimikyu",
         "167",
         "['ghost', 'fairy']",
         "1",
         "87",
         "1"
        ],
        [
         "779",
         "bruxish",
         "9",
         "190",
         "bruxish",
         "166",
         "['water', 'psychic']",
         "3",
         "84",
         "1"
        ]
       ],
       "shape": {
        "columns": 9,
        "rows": 3
       }
      },
      "text/html": [
       "<div>\n",
       "<style scoped>\n",
       "    .dataframe tbody tr th:only-of-type {\n",
       "        vertical-align: middle;\n",
       "    }\n",
       "\n",
       "    .dataframe tbody tr th {\n",
       "        vertical-align: top;\n",
       "    }\n",
       "\n",
       "    .dataframe thead th {\n",
       "        text-align: right;\n",
       "    }\n",
       "</style>\n",
       "<table border=\"1\" class=\"dataframe\">\n",
       "  <thead>\n",
       "    <tr style=\"text-align: right;\">\n",
       "      <th></th>\n",
       "      <th>name</th>\n",
       "      <th>height</th>\n",
       "      <th>weight</th>\n",
       "      <th>species</th>\n",
       "      <th>base_experience</th>\n",
       "      <th>types</th>\n",
       "      <th>abilities</th>\n",
       "      <th>moves_count</th>\n",
       "      <th>forms_count</th>\n",
       "    </tr>\n",
       "    <tr>\n",
       "      <th>id</th>\n",
       "      <th></th>\n",
       "      <th></th>\n",
       "      <th></th>\n",
       "      <th></th>\n",
       "      <th></th>\n",
       "      <th></th>\n",
       "      <th></th>\n",
       "      <th></th>\n",
       "      <th></th>\n",
       "    </tr>\n",
       "  </thead>\n",
       "  <tbody>\n",
       "    <tr>\n",
       "      <th>777</th>\n",
       "      <td>togedemaru</td>\n",
       "      <td>3</td>\n",
       "      <td>33</td>\n",
       "      <td>togedemaru</td>\n",
       "      <td>152</td>\n",
       "      <td>[electric, steel]</td>\n",
       "      <td>3</td>\n",
       "      <td>78</td>\n",
       "      <td>1</td>\n",
       "    </tr>\n",
       "    <tr>\n",
       "      <th>778</th>\n",
       "      <td>mimikyu-disguised</td>\n",
       "      <td>2</td>\n",
       "      <td>7</td>\n",
       "      <td>mimikyu</td>\n",
       "      <td>167</td>\n",
       "      <td>[ghost, fairy]</td>\n",
       "      <td>1</td>\n",
       "      <td>87</td>\n",
       "      <td>1</td>\n",
       "    </tr>\n",
       "    <tr>\n",
       "      <th>779</th>\n",
       "      <td>bruxish</td>\n",
       "      <td>9</td>\n",
       "      <td>190</td>\n",
       "      <td>bruxish</td>\n",
       "      <td>166</td>\n",
       "      <td>[water, psychic]</td>\n",
       "      <td>3</td>\n",
       "      <td>84</td>\n",
       "      <td>1</td>\n",
       "    </tr>\n",
       "  </tbody>\n",
       "</table>\n",
       "</div>"
      ],
      "text/plain": [
       "                  name  height  weight     species  base_experience  \\\n",
       "id                                                                    \n",
       "777         togedemaru       3      33  togedemaru              152   \n",
       "778  mimikyu-disguised       2       7     mimikyu              167   \n",
       "779            bruxish       9     190     bruxish              166   \n",
       "\n",
       "                 types  abilities  moves_count  forms_count  \n",
       "id                                                           \n",
       "777  [electric, steel]          3           78            1  \n",
       "778     [ghost, fairy]          1           87            1  \n",
       "779   [water, psychic]          3           84            1  "
      ]
     },
     "execution_count": 3,
     "metadata": {},
     "output_type": "execute_result"
    }
   ],
   "source": [
    "# pokemon_base.csv       \n",
    "\n",
    "basecsv_data = []\n",
    "\n",
    "for json in fullJsonAllPokemons:\n",
    "    if response.status_code == 200:\n",
    "        basecsv_data.append({\n",
    "            'id': json['id'],\n",
    "            'name': json['name'],\n",
    "            'height': json['height'],\n",
    "            'weight': json['weight'],\n",
    "            'species': json['species']['name'],\n",
    "            'base_experience': json['base_experience'],\n",
    "            'types': [t['type']['name'] for t in json['types']],\n",
    "            'abilities': len(json['abilities']),\n",
    "            'moves_count': len(json['moves']),\n",
    "            'forms_count': len(json['forms']),\n",
    "         \n",
    "        })  # dictionaries will store in this list\n",
    "\n",
    "      # time.sleep(0.5)  # To respect API rate limits\n",
    "\n",
    "# Convert to DataFrame\n",
    "pokemon_base = pd.DataFrame(basecsv_data)\n",
    "pokemon_base.set_index('id',inplace=True)\n",
    "pokemon_base"
   ]
  },
  {
   "cell_type": "code",
   "execution_count": 4,
   "id": "b5927902",
   "metadata": {},
   "outputs": [
    {
     "data": {
      "application/vnd.microsoft.datawrangler.viewer.v0+json": {
       "columns": [
        {
         "name": "pokemon_id",
         "rawType": "int64",
         "type": "integer"
        },
        {
         "name": "pokemon_name",
         "rawType": "object",
         "type": "string"
        },
        {
         "name": "moves",
         "rawType": "object",
         "type": "unknown"
        }
       ],
       "conversionMethod": "pd.DataFrame",
       "ref": "c0b68580-d499-4b03-8273-081781857851",
       "rows": [
        [
         "777",
         "togedemaru",
         "['tackle', 'twineedle', 'pin-missile', 'hyper-beam', 'thunder-shock', 'thunderbolt', 'thunder-wave', 'thunder', 'toxic', 'agility', 'double-team', 'defense-curl', 'reflect', 'swift', 'rest', 'super-fang', 'substitute', 'thief', 'snore', 'flail', 'reversal', 'protect', 'endure', 'rollout', 'swagger', 'spark', 'attract', 'sleep-talk', 'return', 'present', 'frustration', 'encore', 'iron-tail', 'hidden-power', 'fake-out', 'facade', 'charge', 'helping-hand', 'role-play', 'wish', 'endeavor', 'tickle', 'bounce', 'covet', 'shock-wave', 'gravity', 'gyro-ball', 'u-turn', 'payback', 'assurance', 'fling', 'last-resort', 'magnet-rise', 'poison-jab', 'giga-impact', 'zen-headbutt', 'discharge', 'iron-head', 'grass-knot', 'charge-beam', 'electro-ball', 'after-you', 'round', 'volt-switch', 'work-up', 'electroweb', 'wild-charge', 'fell-stinger', 'disarming-voice', 'confide', 'spiky-shield', 'eerie-impulse', 'electric-terrain', 'nuzzle', 'zing-zap', 'steel-beam', 'steel-roller', 'rising-voltage']"
        ],
        [
         "778",
         "mimikyu-disguised",
         "['scratch', 'swords-dance', 'take-down', 'hyper-beam', 'thunderbolt', 'thunder-wave', 'thunder', 'toxic', 'psychic', 'night-shade', 'mimic', 'screech', 'double-team', 'confuse-ray', 'light-screen', 'dream-eater', 'leech-life', 'splash', 'rest', 'slash', 'substitute', 'thief', 'nightmare', 'snore', 'curse', 'spite', 'protect', 'feint-attack', 'destiny-bond', 'giga-drain', 'endure', 'charm', 'swagger', 'attract', 'sleep-talk', 'return', 'frustration', 'safeguard', 'pain-split', 'hidden-power', 'rain-dance', 'sunny-day', 'psych-up', 'shadow-ball', 'beat-up', 'will-o-wisp', 'facade', 'taunt', 'trick', 'grudge', 'snatch', 'astonish', 'bulk-up', 'covet', 'payback', 'embargo', 'fling', 'copycat', 'last-resort', 'dark-pulse', 'x-scissor', 'drain-punch', 'giga-impact', 'shadow-claw', 'shadow-sneak', 'trick-room', 'charge-beam', 'wood-hammer', 'hone-claws', 'telekinesis', 'magic-room', 'after-you', 'round', 'hex', 'work-up', 'phantom-force', 'draining-kiss', 'misty-terrain', 'play-rough', 'confide', 'dazzling-gleam', 'baby-doll-eyes', 'infestation', 'burning-jealousy', 'tera-blast', 'pounce', 'trailblaze']"
        ],
        [
         "779",
         "bruxish",
         "['swords-dance', 'take-down', 'bite', 'disable', 'water-gun', 'hydro-pump', 'surf', 'ice-beam', 'blizzard', 'hyper-beam', 'toxic', 'confusion', 'psychic', 'agility', 'rage', 'screech', 'double-team', 'light-screen', 'reflect', 'waterfall', 'dream-eater', 'psywave', 'rest', 'super-fang', 'substitute', 'snore', 'protect', 'scary-face', 'icy-wind', 'endure', 'swagger', 'attract', 'sleep-talk', 'return', 'frustration', 'safeguard', 'pain-split', 'iron-tail', 'hidden-power', 'rain-dance', 'crunch', 'whirlpool', 'uproar', 'torment', 'facade', 'taunt', 'magic-coat', 'snatch', 'poison-fang', 'astonish', 'signal-beam', 'aerial-ace', 'bulk-up', 'calm-mind', 'water-pulse', 'payback', 'embargo', 'fling', 'aqua-tail', 'giga-impact', 'ice-fang', 'trick-room', 'aqua-jet', 'wonder-room', 'psyshock', 'venoshock', 'telekinesis', 'magic-room', 'synchronoise', 'after-you', 'round', 'ally-switch', 'scald', 'frost-breath', 'confide', 'psychic-terrain', 'psychic-fangs', 'liquidation', 'expanding-force', 'flip-turn', 'wave-crash', 'tera-blast', 'chilling-water', 'psychic-noise']"
        ]
       ],
       "shape": {
        "columns": 2,
        "rows": 3
       }
      },
      "text/html": [
       "<div>\n",
       "<style scoped>\n",
       "    .dataframe tbody tr th:only-of-type {\n",
       "        vertical-align: middle;\n",
       "    }\n",
       "\n",
       "    .dataframe tbody tr th {\n",
       "        vertical-align: top;\n",
       "    }\n",
       "\n",
       "    .dataframe thead th {\n",
       "        text-align: right;\n",
       "    }\n",
       "</style>\n",
       "<table border=\"1\" class=\"dataframe\">\n",
       "  <thead>\n",
       "    <tr style=\"text-align: right;\">\n",
       "      <th></th>\n",
       "      <th>pokemon_name</th>\n",
       "      <th>moves</th>\n",
       "    </tr>\n",
       "    <tr>\n",
       "      <th>pokemon_id</th>\n",
       "      <th></th>\n",
       "      <th></th>\n",
       "    </tr>\n",
       "  </thead>\n",
       "  <tbody>\n",
       "    <tr>\n",
       "      <th>777</th>\n",
       "      <td>togedemaru</td>\n",
       "      <td>[tackle, twineedle, pin-missile, hyper-beam, t...</td>\n",
       "    </tr>\n",
       "    <tr>\n",
       "      <th>778</th>\n",
       "      <td>mimikyu-disguised</td>\n",
       "      <td>[scratch, swords-dance, take-down, hyper-beam,...</td>\n",
       "    </tr>\n",
       "    <tr>\n",
       "      <th>779</th>\n",
       "      <td>bruxish</td>\n",
       "      <td>[swords-dance, take-down, bite, disable, water...</td>\n",
       "    </tr>\n",
       "  </tbody>\n",
       "</table>\n",
       "</div>"
      ],
      "text/plain": [
       "                 pokemon_name  \\\n",
       "pokemon_id                      \n",
       "777                togedemaru   \n",
       "778         mimikyu-disguised   \n",
       "779                   bruxish   \n",
       "\n",
       "                                                        moves  \n",
       "pokemon_id                                                     \n",
       "777         [tackle, twineedle, pin-missile, hyper-beam, t...  \n",
       "778         [scratch, swords-dance, take-down, hyper-beam,...  \n",
       "779         [swords-dance, take-down, bite, disable, water...  "
      ]
     },
     "execution_count": 4,
     "metadata": {},
     "output_type": "execute_result"
    }
   ],
   "source": [
    "# pokemon_moves.csv\n",
    "\n",
    "move_data = []\n",
    "\n",
    "\n",
    "for data in fullJsonAllPokemons:\n",
    "    pokemon_id = data['id']\n",
    "    pokemon_name = data['name']\n",
    "    move_list = [m['move']['name'] for m in data['moves']]\n",
    "\n",
    "    move_data.append({\n",
    "        'pokemon_id': pokemon_id,\n",
    "        'pokemon_name': pokemon_name,\n",
    "        'moves': move_list,  # list in one cell\n",
    "    })\n",
    "\n",
    "pokemon_moves = pd.DataFrame(move_data)\n",
    "\n",
    "\n",
    "pokemon_moves.set_index('pokemon_id',inplace=True)\n",
    "pokemon_moves"
   ]
  },
  {
   "cell_type": "code",
   "execution_count": 8,
   "id": "d0e16a10",
   "metadata": {},
   "outputs": [
    {
     "data": {
      "application/vnd.microsoft.datawrangler.viewer.v0+json": {
       "columns": [
        {
         "name": "index",
         "rawType": "int64",
         "type": "integer"
        },
        {
         "name": "pokemon_id",
         "rawType": "int64",
         "type": "integer"
        },
        {
         "name": "pokemon_name",
         "rawType": "object",
         "type": "string"
        },
        {
         "name": "ability_1",
         "rawType": "object",
         "type": "string"
        },
        {
         "name": "ability_2",
         "rawType": "object",
         "type": "unknown"
        },
        {
         "name": "hidden_ability",
         "rawType": "object",
         "type": "unknown"
        }
       ],
       "conversionMethod": "pd.DataFrame",
       "ref": "6c8aab61-788a-47ed-af93-f82f5ad8f90d",
       "rows": [
        [
         "0",
         "777",
         "togedemaru",
         "iron-barbs",
         "lightning-rod",
         "sturdy"
        ],
        [
         "1",
         "778",
         "mimikyu-disguised",
         "disguise",
         null,
         null
        ],
        [
         "2",
         "779",
         "bruxish",
         "dazzling",
         "strong-jaw",
         "wonder-skin"
        ]
       ],
       "shape": {
        "columns": 5,
        "rows": 3
       }
      },
      "text/html": [
       "<div>\n",
       "<style scoped>\n",
       "    .dataframe tbody tr th:only-of-type {\n",
       "        vertical-align: middle;\n",
       "    }\n",
       "\n",
       "    .dataframe tbody tr th {\n",
       "        vertical-align: top;\n",
       "    }\n",
       "\n",
       "    .dataframe thead th {\n",
       "        text-align: right;\n",
       "    }\n",
       "</style>\n",
       "<table border=\"1\" class=\"dataframe\">\n",
       "  <thead>\n",
       "    <tr style=\"text-align: right;\">\n",
       "      <th></th>\n",
       "      <th>pokemon_id</th>\n",
       "      <th>pokemon_name</th>\n",
       "      <th>ability_1</th>\n",
       "      <th>ability_2</th>\n",
       "      <th>hidden_ability</th>\n",
       "    </tr>\n",
       "  </thead>\n",
       "  <tbody>\n",
       "    <tr>\n",
       "      <th>0</th>\n",
       "      <td>777</td>\n",
       "      <td>togedemaru</td>\n",
       "      <td>iron-barbs</td>\n",
       "      <td>lightning-rod</td>\n",
       "      <td>sturdy</td>\n",
       "    </tr>\n",
       "    <tr>\n",
       "      <th>1</th>\n",
       "      <td>778</td>\n",
       "      <td>mimikyu-disguised</td>\n",
       "      <td>disguise</td>\n",
       "      <td>None</td>\n",
       "      <td>None</td>\n",
       "    </tr>\n",
       "    <tr>\n",
       "      <th>2</th>\n",
       "      <td>779</td>\n",
       "      <td>bruxish</td>\n",
       "      <td>dazzling</td>\n",
       "      <td>strong-jaw</td>\n",
       "      <td>wonder-skin</td>\n",
       "    </tr>\n",
       "  </tbody>\n",
       "</table>\n",
       "</div>"
      ],
      "text/plain": [
       "   pokemon_id       pokemon_name   ability_1      ability_2 hidden_ability\n",
       "0         777         togedemaru  iron-barbs  lightning-rod         sturdy\n",
       "1         778  mimikyu-disguised    disguise           None           None\n",
       "2         779            bruxish    dazzling     strong-jaw    wonder-skin"
      ]
     },
     "execution_count": 8,
     "metadata": {},
     "output_type": "execute_result"
    }
   ],
   "source": [
    "# pokemon_abilities.csv\n",
    "\n",
    "ability_data = []\n",
    "for data in fullJsonAllPokemons:\n",
    "\n",
    "    ab1 = None\n",
    "    ab2 = None\n",
    "    hidden_ab = None\n",
    "\n",
    "    for ab in data['abilities']:\n",
    "        name = ab['ability']['name']\n",
    "        if ab['is_hidden']:\n",
    "            hidden_ab = name\n",
    "        elif ab['slot'] == 1:\n",
    "            ab1 = name\n",
    "        elif ab['slot'] == 2:\n",
    "            ab2 = name\n",
    "    \n",
    "    ability_dict = {\n",
    "        'pokemon_id': data['id'],\n",
    "        'pokemon_name': data['name'],\n",
    "        'ability_1': ab1,\n",
    "        'ability_2': ab2,\n",
    "        'hidden_ability': hidden_ab\n",
    "    }\n",
    "\n",
    "    ability_data.append(ability_dict)\n",
    "\n",
    "# Convert to DataFrame\n",
    "pokemon_abilities = pd.DataFrame(ability_data)\n",
    "\n",
    "# Save if needed\n",
    "# pokemon_abilities.to_csv(\"pokemon_abilities.csv\", index=False)\n",
    "\n",
    "# Preview\n",
    "pokemon_abilities"
   ]
  },
  {
   "cell_type": "code",
   "execution_count": 9,
   "id": "804535ea",
   "metadata": {},
   "outputs": [
    {
     "data": {
      "application/vnd.microsoft.datawrangler.viewer.v0+json": {
       "columns": [
        {
         "name": "index",
         "rawType": "int64",
         "type": "integer"
        },
        {
         "name": "pokemon_id",
         "rawType": "int64",
         "type": "integer"
        },
        {
         "name": "pokemon_name",
         "rawType": "object",
         "type": "string"
        },
        {
         "name": "form_name",
         "rawType": "object",
         "type": "unknown"
        },
        {
         "name": "is_default",
         "rawType": "bool",
         "type": "boolean"
        },
        {
         "name": "is_mega",
         "rawType": "bool",
         "type": "boolean"
        },
        {
         "name": "is_battle_only",
         "rawType": "bool",
         "type": "boolean"
        },
        {
         "name": "form_order",
         "rawType": "int64",
         "type": "integer"
        },
        {
         "name": "form_id",
         "rawType": "int64",
         "type": "integer"
        }
       ],
       "conversionMethod": "pd.DataFrame",
       "ref": "b74c6fa8-ea47-46cb-8c0e-4c50a57d592b",
       "rows": [
        [
         "0",
         "327",
         "spinda",
         null,
         "True",
         "False",
         "False",
         "467",
         "327"
        ],
        [
         "1",
         "328",
         "trapinch",
         null,
         "True",
         "False",
         "False",
         "468",
         "328"
        ],
        [
         "2",
         "329",
         "vibrava",
         null,
         "True",
         "False",
         "False",
         "469",
         "329"
        ]
       ],
       "shape": {
        "columns": 8,
        "rows": 3
       }
      },
      "text/html": [
       "<div>\n",
       "<style scoped>\n",
       "    .dataframe tbody tr th:only-of-type {\n",
       "        vertical-align: middle;\n",
       "    }\n",
       "\n",
       "    .dataframe tbody tr th {\n",
       "        vertical-align: top;\n",
       "    }\n",
       "\n",
       "    .dataframe thead th {\n",
       "        text-align: right;\n",
       "    }\n",
       "</style>\n",
       "<table border=\"1\" class=\"dataframe\">\n",
       "  <thead>\n",
       "    <tr style=\"text-align: right;\">\n",
       "      <th></th>\n",
       "      <th>pokemon_id</th>\n",
       "      <th>pokemon_name</th>\n",
       "      <th>form_name</th>\n",
       "      <th>is_default</th>\n",
       "      <th>is_mega</th>\n",
       "      <th>is_battle_only</th>\n",
       "      <th>form_order</th>\n",
       "      <th>form_id</th>\n",
       "    </tr>\n",
       "  </thead>\n",
       "  <tbody>\n",
       "    <tr>\n",
       "      <th>0</th>\n",
       "      <td>327</td>\n",
       "      <td>spinda</td>\n",
       "      <td>None</td>\n",
       "      <td>True</td>\n",
       "      <td>False</td>\n",
       "      <td>False</td>\n",
       "      <td>467</td>\n",
       "      <td>327</td>\n",
       "    </tr>\n",
       "    <tr>\n",
       "      <th>1</th>\n",
       "      <td>328</td>\n",
       "      <td>trapinch</td>\n",
       "      <td>None</td>\n",
       "      <td>True</td>\n",
       "      <td>False</td>\n",
       "      <td>False</td>\n",
       "      <td>468</td>\n",
       "      <td>328</td>\n",
       "    </tr>\n",
       "    <tr>\n",
       "      <th>2</th>\n",
       "      <td>329</td>\n",
       "      <td>vibrava</td>\n",
       "      <td>None</td>\n",
       "      <td>True</td>\n",
       "      <td>False</td>\n",
       "      <td>False</td>\n",
       "      <td>469</td>\n",
       "      <td>329</td>\n",
       "    </tr>\n",
       "  </tbody>\n",
       "</table>\n",
       "</div>"
      ],
      "text/plain": [
       "   pokemon_id pokemon_name form_name  is_default  is_mega  is_battle_only  \\\n",
       "0         327       spinda      None        True    False           False   \n",
       "1         328     trapinch      None        True    False           False   \n",
       "2         329      vibrava      None        True    False           False   \n",
       "\n",
       "   form_order  form_id  \n",
       "0         467      327  \n",
       "1         468      328  \n",
       "2         469      329  "
      ]
     },
     "execution_count": 9,
     "metadata": {},
     "output_type": "execute_result"
    }
   ],
   "source": [
    "# forms.csv\n",
    "\n",
    "form_data = []\n",
    "\n",
    "for data in fullJsonAllPokemons:\n",
    "    pokemon_id = data['id']\n",
    "    pokemon_name = data['name']\n",
    "\n",
    "    for form in data['forms']:\n",
    "        form_url = form['url']\n",
    "        form_response = requests.get(form_url)\n",
    "        if form_response.status_code != 200:\n",
    "            continue\n",
    "        form_details = form_response.json()\n",
    "\n",
    "        form_entry = {\n",
    "            'pokemon_id': pokemon_id,\n",
    "            'pokemon_name': pokemon_name,\n",
    "            'form_name': form_details['form_name'] or None ,\n",
    "            'is_default': form_details['is_default'],\n",
    "            'is_mega': form_details['is_mega'],\n",
    "            'is_battle_only': form_details['is_battle_only'],\n",
    "            'form_order': form_details['order'],\n",
    "            'form_id': form_details['id']\n",
    "        }\n",
    "\n",
    "        form_data.append(form_entry)\n",
    "\n",
    "# Convert to DataFrame\n",
    "pokemon_forms = pd.DataFrame(form_data)\n",
    "\n",
    "# Optional: save to CSV\n",
    "# pokemon_forms.to_csv(\"pokemon_forms.csv\", index=False)\n",
    "\n",
    "pokemon_forms\n"
   ]
  },
  {
   "cell_type": "code",
   "execution_count": null,
   "id": "048698ef",
   "metadata": {},
   "outputs": [],
   "source": []
  }
 ],
 "metadata": {
  "kernelspec": {
   "display_name": "Python 3",
   "language": "python",
   "name": "python3"
  },
  "language_info": {
   "codemirror_mode": {
    "name": "ipython",
    "version": 3
   },
   "file_extension": ".py",
   "mimetype": "text/x-python",
   "name": "python",
   "nbconvert_exporter": "python",
   "pygments_lexer": "ipython3",
   "version": "3.13.2"
  }
 },
 "nbformat": 4,
 "nbformat_minor": 5
}
