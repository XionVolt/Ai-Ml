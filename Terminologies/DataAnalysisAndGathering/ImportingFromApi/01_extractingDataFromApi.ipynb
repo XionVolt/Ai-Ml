{
 "cells": [
  {
   "cell_type": "code",
   "execution_count": 1,
   "id": "3ec96213",
   "metadata": {},
   "outputs": [],
   "source": [
    "import numpy as np\n",
    "import pandas as pd"
   ]
  },
  {
   "cell_type": "code",
   "execution_count": null,
   "id": "82d8ea21",
   "metadata": {},
   "outputs": [],
   "source": [
    "# extracting data from an api -> https://youtu.be/dA6ZksRR6aw?si=7SSgjPuKtYlFgcOW&t=6727\n",
    "\n",
    "# let's convert pokemons data to datframe, using `pokewto` api\n",
    "# name, height, weight, types as columns names\n",
    "# each index for each pokemon\n"
   ]
  },
  {
   "cell_type": "code",
   "execution_count": null,
   "id": "88550747",
   "metadata": {},
   "outputs": [],
   "source": [
    "import time\n",
    "import requests\n",
    "\n",
    "# Function to fetch detailed data\n",
    "def fetch_pokemon_details(url):\n",
    "    response = requests.get(url)\n",
    "    if response.status_code == 200:\n",
    "        data = response.json()\n",
    "        return {\n",
    "            'id': data['id'],\n",
    "            'name': data['name'],\n",
    "            'height': data['height'],\n",
    "            'weight': data['weight'],\n",
    "            'species': data['species']['name'],\n",
    "            'base_experience': data['base_experience'],\n",
    "            'types': [t['type']['name'] for t in data['types']],\n",
    "            'abilities': [a['ability']['name'] for a in data['abilities']],\n",
    "            'moves': [m['move']['name'] for m in data['moves']],\n",
    "            'forms': [f['name'] for f in data['forms']],\n",
    "            'hp': data['stats'][0]['base_stat'],\n",
    "            'attack': data['stats'][1]['base_stat'],\n",
    "            'defense': data['stats'][2]['base_stat'],\n",
    "            'special-attack': data['stats'][3]['base_stat'],\n",
    "            'special-defense': data['stats'][4]['base_stat'],\n",
    "            'speed': data['stats'][5]['base_stat']\n",
    "        }\n",
    "    else:\n",
    "        return None\n",
    "\n",
    "# Create a DataFrame with Pokémon URLs, 7 pokemons\n",
    "urls =  [f'https://pokeapi.co/api/v2/pokemon/{i}' for i in range(1,3)]\n",
    "\n",
    "# Fetch details for the first 7 Pokemons\n",
    "detailed_data = []\n",
    "for url in urls:\n",
    "    details = fetch_pokemon_details(url)\n",
    "    if details:\n",
    "        detailed_data.append(details)\n",
    "    # time.sleep(0.5)  # To respect API rate limits\n",
    "\n",
    "# Convert to DataFrame\n",
    "detailed_df = pd.DataFrame(detailed_data)"
   ]
  },
  {
   "cell_type": "code",
   "execution_count": 39,
   "id": "355dd1b3",
   "metadata": {},
   "outputs": [
    {
     "data": {
      "application/vnd.microsoft.datawrangler.viewer.v0+json": {
       "columns": [
        {
         "name": "index",
         "rawType": "int64",
         "type": "integer"
        },
        {
         "name": "name",
         "rawType": "object",
         "type": "string"
        },
        {
         "name": "height",
         "rawType": "int64",
         "type": "integer"
        },
        {
         "name": "weight",
         "rawType": "int64",
         "type": "integer"
        },
        {
         "name": "types",
         "rawType": "object",
         "type": "unknown"
        },
        {
         "name": "abilities",
         "rawType": "object",
         "type": "unknown"
        },
        {
         "name": "moves",
         "rawType": "object",
         "type": "unknown"
        },
        {
         "name": "hp",
         "rawType": "int64",
         "type": "integer"
        },
        {
         "name": "attack",
         "rawType": "int64",
         "type": "integer"
        },
        {
         "name": "defense",
         "rawType": "int64",
         "type": "integer"
        },
        {
         "name": "special-attack",
         "rawType": "int64",
         "type": "integer"
        },
        {
         "name": "special-defense",
         "rawType": "int64",
         "type": "integer"
        },
        {
         "name": "speed",
         "rawType": "int64",
         "type": "integer"
        }
       ],
       "conversionMethod": "pd.DataFrame",
       "ref": "807966e0-8373-4fc4-aeb1-902b9ead9e03",
       "rows": [
        [
         "0",
         "bulbasaur",
         "7",
         "69",
         "['grass', 'poison']",
         "['overgrow', 'chlorophyll']",
         "['razor-wind', 'swords-dance', 'cut', 'bind', 'vine-whip', 'headbutt', 'tackle', 'body-slam', 'take-down', 'double-edge', 'growl', 'strength', 'mega-drain', 'leech-seed', 'growth', 'razor-leaf', 'solar-beam', 'poison-powder', 'sleep-powder', 'petal-dance', 'string-shot', 'toxic', 'rage', 'mimic', 'double-team', 'defense-curl', 'light-screen', 'reflect', 'bide', 'sludge', 'skull-bash', 'amnesia', 'flash', 'rest', 'substitute', 'snore', 'curse', 'protect', 'sludge-bomb', 'mud-slap', 'outrage', 'giga-drain', 'endure', 'charm', 'false-swipe', 'swagger', 'fury-cutter', 'attract', 'sleep-talk', 'return', 'frustration', 'safeguard', 'sweet-scent', 'synthesis', 'hidden-power', 'sunny-day', 'rock-smash', 'facade', 'nature-power', 'helping-hand', 'ingrain', 'knock-off', 'secret-power', 'weather-ball', 'grass-whistle', 'bullet-seed', 'magical-leaf', 'natural-gift', 'worry-seed', 'seed-bomb', 'energy-ball', 'leaf-storm', 'power-whip', 'captivate', 'grass-knot', 'venoshock', 'acid-spray', 'round', 'echoed-voice', 'grass-pledge', 'work-up', 'grassy-terrain', 'confide', 'grassy-glide', 'tera-blast', 'trailblaze']",
         "45",
         "49",
         "49",
         "65",
         "65",
         "45"
        ],
        [
         "1",
         "ivysaur",
         "10",
         "130",
         "['grass', 'poison']",
         "['overgrow', 'chlorophyll']",
         "['swords-dance', 'cut', 'bind', 'vine-whip', 'headbutt', 'tackle', 'body-slam', 'take-down', 'double-edge', 'growl', 'roar', 'strength', 'mega-drain', 'leech-seed', 'growth', 'razor-leaf', 'solar-beam', 'poison-powder', 'sleep-powder', 'petal-dance', 'string-shot', 'toxic', 'rage', 'mimic', 'double-team', 'defense-curl', 'light-screen', 'reflect', 'bide', 'amnesia', 'flash', 'rest', 'substitute', 'snore', 'curse', 'protect', 'sludge-bomb', 'mud-slap', 'outrage', 'giga-drain', 'endure', 'charm', 'false-swipe', 'swagger', 'fury-cutter', 'attract', 'sleep-talk', 'return', 'frustration', 'safeguard', 'sweet-scent', 'synthesis', 'hidden-power', 'sunny-day', 'rock-smash', 'facade', 'nature-power', 'helping-hand', 'ingrain', 'knock-off', 'secret-power', 'weather-ball', 'bullet-seed', 'magical-leaf', 'natural-gift', 'worry-seed', 'seed-bomb', 'energy-ball', 'leaf-storm', 'power-whip', 'captivate', 'grass-knot', 'venoshock', 'acid-spray', 'round', 'echoed-voice', 'grass-pledge', 'work-up', 'grassy-terrain', 'confide', 'grassy-glide', 'tera-blast', 'trailblaze']",
         "60",
         "62",
         "63",
         "80",
         "80",
         "60"
        ]
       ],
       "shape": {
        "columns": 12,
        "rows": 2
       }
      },
      "text/html": [
       "<div>\n",
       "<style scoped>\n",
       "    .dataframe tbody tr th:only-of-type {\n",
       "        vertical-align: middle;\n",
       "    }\n",
       "\n",
       "    .dataframe tbody tr th {\n",
       "        vertical-align: top;\n",
       "    }\n",
       "\n",
       "    .dataframe thead th {\n",
       "        text-align: right;\n",
       "    }\n",
       "</style>\n",
       "<table border=\"1\" class=\"dataframe\">\n",
       "  <thead>\n",
       "    <tr style=\"text-align: right;\">\n",
       "      <th></th>\n",
       "      <th>name</th>\n",
       "      <th>height</th>\n",
       "      <th>weight</th>\n",
       "      <th>types</th>\n",
       "      <th>abilities</th>\n",
       "      <th>moves</th>\n",
       "      <th>hp</th>\n",
       "      <th>attack</th>\n",
       "      <th>defense</th>\n",
       "      <th>special-attack</th>\n",
       "      <th>special-defense</th>\n",
       "      <th>speed</th>\n",
       "    </tr>\n",
       "  </thead>\n",
       "  <tbody>\n",
       "    <tr>\n",
       "      <th>0</th>\n",
       "      <td>bulbasaur</td>\n",
       "      <td>7</td>\n",
       "      <td>69</td>\n",
       "      <td>[grass, poison]</td>\n",
       "      <td>[overgrow, chlorophyll]</td>\n",
       "      <td>[razor-wind, swords-dance, cut, bind, vine-whi...</td>\n",
       "      <td>45</td>\n",
       "      <td>49</td>\n",
       "      <td>49</td>\n",
       "      <td>65</td>\n",
       "      <td>65</td>\n",
       "      <td>45</td>\n",
       "    </tr>\n",
       "    <tr>\n",
       "      <th>1</th>\n",
       "      <td>ivysaur</td>\n",
       "      <td>10</td>\n",
       "      <td>130</td>\n",
       "      <td>[grass, poison]</td>\n",
       "      <td>[overgrow, chlorophyll]</td>\n",
       "      <td>[swords-dance, cut, bind, vine-whip, headbutt,...</td>\n",
       "      <td>60</td>\n",
       "      <td>62</td>\n",
       "      <td>63</td>\n",
       "      <td>80</td>\n",
       "      <td>80</td>\n",
       "      <td>60</td>\n",
       "    </tr>\n",
       "  </tbody>\n",
       "</table>\n",
       "</div>"
      ],
      "text/plain": [
       "        name  height  weight            types                abilities  \\\n",
       "0  bulbasaur       7      69  [grass, poison]  [overgrow, chlorophyll]   \n",
       "1    ivysaur      10     130  [grass, poison]  [overgrow, chlorophyll]   \n",
       "\n",
       "                                               moves  hp  attack  defense  \\\n",
       "0  [razor-wind, swords-dance, cut, bind, vine-whi...  45      49       49   \n",
       "1  [swords-dance, cut, bind, vine-whip, headbutt,...  60      62       63   \n",
       "\n",
       "   special-attack  special-defense  speed  \n",
       "0              65               65     45  \n",
       "1              80               80     60  "
      ]
     },
     "execution_count": 39,
     "metadata": {},
     "output_type": "execute_result"
    }
   ],
   "source": [
    "detailed_df"
   ]
  },
  {
   "cell_type": "code",
   "execution_count": null,
   "id": "b78c716e",
   "metadata": {},
   "outputs": [],
   "source": [
    "# now we can post this dataset on kaggle -> https://youtu.be/dA6ZksRR6aw?si=GpCCCMTBaXGcc96Y&t=7927\n",
    "# RapidApi explain -> https://youtu.be/dA6ZksRR6aw?si=C2_EEhwZZvx6eiUW&t=8007"
   ]
  }
 ],
 "metadata": {
  "kernelspec": {
   "display_name": "Python 3",
   "language": "python",
   "name": "python3"
  },
  "language_info": {
   "codemirror_mode": {
    "name": "ipython",
    "version": 3
   },
   "file_extension": ".py",
   "mimetype": "text/x-python",
   "name": "python",
   "nbconvert_exporter": "python",
   "pygments_lexer": "ipython3",
   "version": "3.13.2"
  }
 },
 "nbformat": 4,
 "nbformat_minor": 5
}
