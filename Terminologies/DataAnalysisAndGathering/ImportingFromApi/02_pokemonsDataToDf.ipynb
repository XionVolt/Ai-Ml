{
  "cells": [
    {
      "cell_type": "markdown",
      "id": "97a0f8e7",
      "metadata": {
        "id": "97a0f8e7"
      },
      "source": [
        "# This file was generated to fetch data of all pokemons"
      ]
    },
    {
      "cell_type": "code",
      "execution_count": 1,
      "id": "6a96bbc4",
      "metadata": {
        "id": "6a96bbc4"
      },
      "outputs": [],
      "source": [
        "import time\n",
        "import requests\n",
        "import pandas as pd"
      ]
    },
    {
      "cell_type": "code",
      "execution_count": 2,
      "id": "7a32bf8b",
      "metadata": {
        "id": "7a32bf8b"
      },
      "outputs": [],
      "source": [
        "urls = [f'https://pokeapi.co/api/v2/pokemon/{i}' for i in range(1,1026)]\n",
        "\n",
        "fullJsonAllPokemons = []\n",
        "for url in urls:\n",
        "    response = requests.get(url)\n",
        "    fullJsonAllPokemons.append(response.json())"
      ]
    },
    {
      "cell_type": "code",
      "execution_count": 3,
      "id": "kethdK46bjO1",
      "metadata": {
        "colab": {
          "base_uri": "https://localhost:8080/"
        },
        "id": "kethdK46bjO1",
        "outputId": "8dc3d603-1076-488c-d935-22651f415b47"
      },
      "outputs": [
        {
          "data": {
            "text/plain": [
              "1025"
            ]
          },
          "execution_count": 3,
          "metadata": {},
          "output_type": "execute_result"
        }
      ],
      "source": [
        "len(urls)"
      ]
    },
    {
      "cell_type": "code",
      "execution_count": null,
      "id": "68ef71de",
      "metadata": {
        "id": "68ef71de"
      },
      "outputs": [],
      "source": [
        "# pokemon_base.csv       \n",
        "\n",
        "basecsv_data = []\n",
        "\n",
        "for json in fullJsonAllPokemons:\n",
        "    if response.status_code == 200:\n",
        "        basecsv_data.append({\n",
        "            'pokemon_id': json['id'],\n",
        "            'pokemon_name': json['name'],\n",
        "            'height': json['height'],\n",
        "            'weight': json['weight'],\n",
        "            'species': json['species']['name'],\n",
        "            'base_experience': json['base_experience'],\n",
        "            'types_count': len(json['types']),\n",
        "            'abilities_count': len(json['abilities']),\n",
        "            'moves_count': len(json['moves']),\n",
        "            'forms_count': len(json['forms']),\n",
        "            'items_count': len(json['held_items'])\n",
        "         \n",
        "        })  # dictionaries will store in this list\n",
        "\n",
        "\n",
        "# Convert to DataFrame\n",
        "pokemon_base = pd.DataFrame(basecsv_data)\n",
        "pokemon_base.set_index('pokemon_id',inplace=True)\n",
        "pokemon_base.to_csv('pokemon_base.csv')"
      ]
    },
    {
      "cell_type": "code",
      "execution_count": 4,
      "id": "b5927902",
      "metadata": {
        "id": "b5927902"
      },
      "outputs": [],
      "source": [
        "# pokemon_moves.csv\n",
        "\n",
        "move_data = []\n",
        "\n",
        "\n",
        "for data in fullJsonAllPokemons:\n",
        "    pokemon_id = data['id']\n",
        "    pokemon_name = data['name']\n",
        "    move_list = [m['move']['name'] for m in data['moves']]\n",
        "\n",
        "    move_data.append({\n",
        "        'pokemon_id': pokemon_id,\n",
        "        'pokemon_name': pokemon_name,\n",
        "        'moves': move_list,  # list in one cell\n",
        "    })\n",
        "\n",
        "pokemon_moves = pd.DataFrame(move_data)\n",
        "\n",
        "\n",
        "pokemon_moves.set_index('pokemon_id',inplace=True)\n",
        "pokemon_moves.to_csv('pokemon_moves.csv')"
      ]
    },
    {
      "cell_type": "code",
      "execution_count": 11,
      "id": "d0e16a10",
      "metadata": {
        "id": "d0e16a10"
      },
      "outputs": [],
      "source": [
        "# pokemon_abilities.csv\n",
        "\n",
        "ability_data = []\n",
        "for data in fullJsonAllPokemons:\n",
        "    pokemon_id = data['id']\n",
        "    pokemon_name = data['name']\n",
        "    ab1 = None\n",
        "    ab2 = None\n",
        "    hidden_ab = None\n",
        "\n",
        "    for ab in data['abilities']:\n",
        "        name = ab['ability']['name']\n",
        "        if ab['is_hidden']:\n",
        "            hidden_ab = name\n",
        "        elif ab['slot'] == 1:\n",
        "            ab1 = name\n",
        "        elif ab['slot'] == 2:\n",
        "            ab2 = name\n",
        "\n",
        "    ability_dict = {\n",
        "        'pokemon_id': pokemon_id,\n",
        "        'pokemon_name': pokemon_name,\n",
        "        'ability_1': ab1,\n",
        "        'ability_2': ab2,\n",
        "        'hidden_ability': hidden_ab\n",
        "    }\n",
        "\n",
        "    ability_data.append(ability_dict)\n",
        "\n",
        "# Convert to DataFrame\n",
        "pokemon_abilities = pd.DataFrame(ability_data)\n",
        "\n",
        "\n",
        "pokemon_abilities.set_index('pokemon_id',inplace=True)\n",
        "\n",
        "\n",
        "pokemon_abilities.to_csv('pokemon_abilities.csv')"
      ]
    },
    {
      "cell_type": "code",
      "execution_count": null,
      "id": "804535ea",
      "metadata": {
        "id": "804535ea"
      },
      "outputs": [],
      "source": [
        "# pokemon_forms.csv\n",
        "\n",
        "form_data = []\n",
        "\n",
        "for data in fullJsonAllPokemons:\n",
        "    pokemon_id = data['id']\n",
        "    pokemon_name = data['name']\n",
        "\n",
        "    for form in data['forms']:\n",
        "        form_url = form['url']\n",
        "        form_response = requests.get(form_url)\n",
        "        if form_response.status_code != 200:\n",
        "            continue\n",
        "        form_details = form_response.json()\n",
        "\n",
        "        form_entry = {\n",
        "            'pokemon_id': pokemon_id,\n",
        "            'pokemon_name': pokemon_name,\n",
        "            'form_name': form_details['form_name'] or None ,\n",
        "            'is_default': form_details['is_default'],\n",
        "            'is_mega': form_details['is_mega'],\n",
        "            'is_battle_only': form_details['is_battle_only'],\n",
        "            'form_order': form_details['order'],\n",
        "            'form_id': form_details['id']\n",
        "        }\n",
        "\n",
        "        form_data.append(form_entry)\n",
        "\n",
        "# Convert to DataFrame\n",
        "pokemon_forms = pd.DataFrame(form_data)\n",
        "\n",
        "pokemon_forms.set_index('pokemon_id',inplace=True)\n",
        "pokemon_forms.to_csv('pokemon_forms.csv')\n"
      ]
    },
    {
      "cell_type": "code",
      "execution_count": null,
      "id": "16120191",
      "metadata": {
        "colab": {
          "base_uri": "https://localhost:8080/"
        },
        "collapsed": true,
        "id": "16120191",
        "outputId": "67391cd5-4ea1-4635-e172-6b305cd36e10"
      },
      "outputs": [],
      "source": [
        "# pokemon_heldItems.csv\n",
        "\n",
        "held_items_data = []\n",
        "\n",
        "for data in fullJsonAllPokemons:\n",
        "    pokemon_id = data['id']\n",
        "    pokemon_name = data['name']\n",
        "    print(pokemon_id)\n",
        "    for item_entry in data.get('held_items', []):\n",
        "        item_name = item_entry['item']['name']\n",
        "        versions = [v['version']['name'] for v in item_entry.get('version_details', [])]\n",
        "\n",
        "        held_items_data.append({\n",
        "            'pokemon_id': pokemon_id,\n",
        "            'pokemon_name': pokemon_name,\n",
        "            'item_name': item_name,\n",
        "            'versions': versions\n",
        "        })\n",
        "\n",
        "    # handle that pokemon that not have item_name and versions\n",
        "    if  not(data.get('held_items')):\n",
        "        held_items_data.append({\n",
        "            'pokemon_id': pokemon_id,\n",
        "            'pokemon_name': pokemon_name,\n",
        "            'item_name': None,\n",
        "            'versions': None\n",
        "        })\n",
        "\n",
        "pokemon_held_items = pd.DataFrame(held_items_data)\n",
        "\n",
        "\n",
        "\n",
        "pokemon_held_items.set_index('pokemon_id',inplace=True)\n",
        "pokemon_held_items.to_csv('pokemon_heldItems.csv')"
      ]
    },
    {
      "cell_type": "code",
      "execution_count": null,
      "id": "77f72798",
      "metadata": {},
      "outputs": [],
      "source": [
        "# pokemon_types.csv\n",
        "\n",
        "pokemon_types = []\n",
        "\n",
        "for data in fullJsonAllPokemons:\n",
        "    pokemon_id = data['id']\n",
        "    pokemon_name = data['name']\n",
        "    types = [t['type']['name'] for t in data['types']]\n",
        "    type1 = None\n",
        "    type2 = None\n",
        "    if len(types) ==1:\n",
        "      type1 = types[0] \n",
        "    elif len(types) ==2:\n",
        "      type1 = types[0]\n",
        "      type2 = types[1]\n",
        "\n",
        "\n",
        "    pokemon_types.append({\n",
        "        'pokemon_id': pokemon_id,\n",
        "        'pokemon_name': pokemon_name,\n",
        "        'type1': type1,\n",
        "        'type2': type2\n",
        "    })\n",
        "\n",
        "# Convert to DataFrame\n",
        "pokemon_types = pd.DataFrame(pokemon_types)\n",
        "pokemon_types.set_index('pokemon_id',inplace=True)\n",
        "pokemon_types.to_csv('pokemon_types.csv')"
      ]
    }
  ],
  "metadata": {
    "colab": {
      "provenance": []
    },
    "kernelspec": {
      "display_name": "Python 3",
      "language": "python",
      "name": "python3"
    },
    "language_info": {
      "codemirror_mode": {
        "name": "ipython",
        "version": 3
      },
      "file_extension": ".py",
      "mimetype": "text/x-python",
      "name": "python",
      "nbconvert_exporter": "python",
      "pygments_lexer": "ipython3",
      "version": "3.13.2"
    }
  },
  "nbformat": 4,
  "nbformat_minor": 5
}
