{
 "cells": [
  {
   "cell_type": "code",
   "execution_count": 2,
   "id": "9141e8b0",
   "metadata": {},
   "outputs": [],
   "source": [
    "import numpy as np\n",
    "import pandas as pd"
   ]
  },
  {
   "cell_type": "code",
   "execution_count": 13,
   "id": "dba8cfa7",
   "metadata": {},
   "outputs": [
    {
     "data": {
      "application/vnd.microsoft.datawrangler.viewer.v0+json": {
       "columns": [
        {
         "name": "index",
         "rawType": "object",
         "type": "string"
        },
        {
         "name": "ArticleTitle",
         "rawType": "object",
         "type": "string"
        },
        {
         "name": "Question",
         "rawType": "object",
         "type": "string"
        },
        {
         "name": "Answer",
         "rawType": "object",
         "type": "string"
        },
        {
         "name": "DifficultyFromQuestioner",
         "rawType": "object",
         "type": "string"
        },
        {
         "name": "DifficultyFromAnswerer",
         "rawType": "object",
         "type": "string"
        },
        {
         "name": "ArticleFile",
         "rawType": "object",
         "type": "string"
        }
       ],
       "conversionMethod": "pd.DataFrame",
       "ref": "6d166c7d-a035-46a2-9595-eaa78798635f",
       "rows": [
        [
         "Abraham_Lincoln",
         "Was Abraham Lincoln the sixteenth President of the United States?",
         "Yes.",
         "yes",
         "easy",
         "easy",
         "Was Abraham Lincoln the sixteenth President of the United States?"
        ],
        [
         "Abraham_Lincoln",
         "Did Lincoln sign the National Banking Act of 1863?",
         "Yes.",
         "yes",
         "easy",
         "medium",
         "Did Lincoln sign the National Banking Act of 1863?"
        ],
        [
         "Abraham_Lincoln",
         "Did his mother die of pneumonia?",
         "No.",
         "easy",
         "medium",
         "S08_set3_a4",
         "Did his mother die of pneumonia?"
        ],
        [
         "Abraham_Lincoln",
         "Was Lincoln born in Kentucky?",
         "Yes.",
         "easy",
         "easy",
         "S08_set3_a4",
         "Was Lincoln born in Kentucky?"
        ],
        [
         "Abraham_Lincoln",
         "Did Abraham Lincoln abolish slavery?",
         "Yes.",
         "medium",
         "hard",
         "S08_set3_a4",
         "Did Abraham Lincoln abolish slavery?"
        ],
        [
         "Abraham_Lincoln",
         "Was Lincoln assassinated in a theater?",
         "Yes.",
         "easy",
         "medium",
         "S08_set3_a4",
         "Was Lincoln assassinated in a theater?"
        ]
       ],
       "shape": {
        "columns": 6,
        "rows": 6
       }
      },
      "text/html": [
       "<div>\n",
       "<style scoped>\n",
       "    .dataframe tbody tr th:only-of-type {\n",
       "        vertical-align: middle;\n",
       "    }\n",
       "\n",
       "    .dataframe tbody tr th {\n",
       "        vertical-align: top;\n",
       "    }\n",
       "\n",
       "    .dataframe thead th {\n",
       "        text-align: right;\n",
       "    }\n",
       "</style>\n",
       "<table border=\"1\" class=\"dataframe\">\n",
       "  <thead>\n",
       "    <tr style=\"text-align: right;\">\n",
       "      <th></th>\n",
       "      <th>ArticleTitle</th>\n",
       "      <th>Question</th>\n",
       "      <th>Answer</th>\n",
       "      <th>DifficultyFromQuestioner</th>\n",
       "      <th>DifficultyFromAnswerer</th>\n",
       "      <th>ArticleFile</th>\n",
       "    </tr>\n",
       "  </thead>\n",
       "  <tbody>\n",
       "    <tr>\n",
       "      <th>Abraham_Lincoln</th>\n",
       "      <td>Was Abraham Lincoln the sixteenth President of...</td>\n",
       "      <td>Yes.</td>\n",
       "      <td>yes</td>\n",
       "      <td>easy</td>\n",
       "      <td>easy</td>\n",
       "      <td>Was Abraham Lincoln the sixteenth President of...</td>\n",
       "    </tr>\n",
       "    <tr>\n",
       "      <th>Abraham_Lincoln</th>\n",
       "      <td>Did Lincoln sign the National Banking Act of 1...</td>\n",
       "      <td>Yes.</td>\n",
       "      <td>yes</td>\n",
       "      <td>easy</td>\n",
       "      <td>medium</td>\n",
       "      <td>Did Lincoln sign the National Banking Act of 1...</td>\n",
       "    </tr>\n",
       "    <tr>\n",
       "      <th>Abraham_Lincoln</th>\n",
       "      <td>Did his mother die of pneumonia?</td>\n",
       "      <td>No.</td>\n",
       "      <td>easy</td>\n",
       "      <td>medium</td>\n",
       "      <td>S08_set3_a4</td>\n",
       "      <td>Did his mother die of pneumonia?</td>\n",
       "    </tr>\n",
       "    <tr>\n",
       "      <th>Abraham_Lincoln</th>\n",
       "      <td>Was Lincoln born in Kentucky?</td>\n",
       "      <td>Yes.</td>\n",
       "      <td>easy</td>\n",
       "      <td>easy</td>\n",
       "      <td>S08_set3_a4</td>\n",
       "      <td>Was Lincoln born in Kentucky?</td>\n",
       "    </tr>\n",
       "    <tr>\n",
       "      <th>Abraham_Lincoln</th>\n",
       "      <td>Did Abraham Lincoln abolish slavery?</td>\n",
       "      <td>Yes.</td>\n",
       "      <td>medium</td>\n",
       "      <td>hard</td>\n",
       "      <td>S08_set3_a4</td>\n",
       "      <td>Did Abraham Lincoln abolish slavery?</td>\n",
       "    </tr>\n",
       "    <tr>\n",
       "      <th>Abraham_Lincoln</th>\n",
       "      <td>Was Lincoln assassinated in a theater?</td>\n",
       "      <td>Yes.</td>\n",
       "      <td>easy</td>\n",
       "      <td>medium</td>\n",
       "      <td>S08_set3_a4</td>\n",
       "      <td>Was Lincoln assassinated in a theater?</td>\n",
       "    </tr>\n",
       "  </tbody>\n",
       "</table>\n",
       "</div>"
      ],
      "text/plain": [
       "                                                      ArticleTitle Question  \\\n",
       "Abraham_Lincoln  Was Abraham Lincoln the sixteenth President of...     Yes.   \n",
       "Abraham_Lincoln  Did Lincoln sign the National Banking Act of 1...     Yes.   \n",
       "Abraham_Lincoln                   Did his mother die of pneumonia?      No.   \n",
       "Abraham_Lincoln                      Was Lincoln born in Kentucky?     Yes.   \n",
       "Abraham_Lincoln               Did Abraham Lincoln abolish slavery?     Yes.   \n",
       "Abraham_Lincoln             Was Lincoln assassinated in a theater?     Yes.   \n",
       "\n",
       "                 Answer DifficultyFromQuestioner DifficultyFromAnswerer  \\\n",
       "Abraham_Lincoln     yes                     easy                   easy   \n",
       "Abraham_Lincoln     yes                     easy                 medium   \n",
       "Abraham_Lincoln    easy                   medium            S08_set3_a4   \n",
       "Abraham_Lincoln    easy                     easy            S08_set3_a4   \n",
       "Abraham_Lincoln  medium                     hard            S08_set3_a4   \n",
       "Abraham_Lincoln    easy                   medium            S08_set3_a4   \n",
       "\n",
       "                                                       ArticleFile  \n",
       "Abraham_Lincoln  Was Abraham Lincoln the sixteenth President of...  \n",
       "Abraham_Lincoln  Did Lincoln sign the National Banking Act of 1...  \n",
       "Abraham_Lincoln                   Did his mother die of pneumonia?  \n",
       "Abraham_Lincoln                      Was Lincoln born in Kentucky?  \n",
       "Abraham_Lincoln               Did Abraham Lincoln abolish slavery?  \n",
       "Abraham_Lincoln             Was Lincoln assassinated in a theater?  "
      ]
     },
     "execution_count": 13,
     "metadata": {},
     "output_type": "execute_result"
    }
   ],
   "source": [
    "data = pd.read_csv('data.txt',sep='\\t')\n",
    "data['ArticleFile'] = data['ArticleTitle'].ffill()\n",
    "data"
   ]
  },
  {
   "cell_type": "code",
   "execution_count": null,
   "id": "c4366a7b",
   "metadata": {},
   "outputs": [],
   "source": []
  }
 ],
 "metadata": {
  "kernelspec": {
   "display_name": "Python 3",
   "language": "python",
   "name": "python3"
  },
  "language_info": {
   "codemirror_mode": {
    "name": "ipython",
    "version": 3
   },
   "file_extension": ".py",
   "mimetype": "text/x-python",
   "name": "python",
   "nbconvert_exporter": "python",
   "pygments_lexer": "ipython3",
   "version": "3.13.2"
  }
 },
 "nbformat": 4,
 "nbformat_minor": 5
}
