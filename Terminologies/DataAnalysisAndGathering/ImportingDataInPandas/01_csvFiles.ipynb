{
 "cells": [
  {
   "cell_type": "code",
   "execution_count": 1,
   "id": "9fd9e8f9",
   "metadata": {},
   "outputs": [],
   "source": [
    "import numpy as np\n",
    "import pandas as pd"
   ]
  },
  {
   "cell_type": "markdown",
   "id": "b1d60fd6",
   "metadata": {},
   "source": [
    "## [`pd.read_csv` explained in detailed](https://youtu.be/dA6ZksRR6aw?si=MEloRuwU6XGGKCEx&t=1567)"
   ]
  },
  {
   "cell_type": "code",
   "execution_count": 32,
   "id": "3300d368",
   "metadata": {},
   "outputs": [
    {
     "data": {
      "application/vnd.microsoft.datawrangler.viewer.v0+json": {
       "columns": [
        {
         "name": "index",
         "rawType": "int64",
         "type": "integer"
        },
        {
         "name": "Name",
         "rawType": "object",
         "type": "string"
        },
        {
         "name": "Code",
         "rawType": "object",
         "type": "unknown"
        }
       ],
       "conversionMethod": "pd.DataFrame",
       "ref": "2667527f-2c1f-4081-bec8-3959dc4e1579",
       "rows": [
        [
         "0",
         "Afghanistan",
         "AF"
        ],
        [
         "1",
         "Åland Islands",
         "AX"
        ],
        [
         "2",
         "Albania",
         "AL"
        ],
        [
         "3",
         "Algeria",
         "DZ"
        ],
        [
         "4",
         "American Samoa",
         "AS"
        ],
        [
         "5",
         "Andorra",
         "AD"
        ],
        [
         "6",
         "Angola",
         "AO"
        ],
        [
         "7",
         "Anguilla",
         "AI"
        ],
        [
         "8",
         "Antarctica",
         "AQ"
        ],
        [
         "9",
         "Antigua and Barbuda",
         "AG"
        ],
        [
         "10",
         "Argentina",
         "AR"
        ],
        [
         "11",
         "Armenia",
         "AM"
        ],
        [
         "12",
         "Aruba",
         "AW"
        ],
        [
         "13",
         "Australia",
         "AU"
        ],
        [
         "14",
         "Austria",
         "AT"
        ],
        [
         "15",
         "Azerbaijan",
         "AZ"
        ],
        [
         "16",
         "Bahamas",
         "BS"
        ],
        [
         "17",
         "Bahrain",
         "BH"
        ],
        [
         "18",
         "Bangladesh",
         "BD"
        ],
        [
         "19",
         "Barbados",
         "BB"
        ],
        [
         "20",
         "Belarus",
         "BY"
        ],
        [
         "21",
         "Belgium",
         "BE"
        ],
        [
         "22",
         "Belize",
         "BZ"
        ],
        [
         "23",
         "Benin",
         "BJ"
        ],
        [
         "24",
         "Bermuda",
         "BM"
        ],
        [
         "25",
         "Bhutan",
         "BT"
        ],
        [
         "26",
         "Bolivia, Plurinational State of",
         "BO"
        ],
        [
         "27",
         "Bonaire, Sint Eustatius and Saba",
         "BQ"
        ],
        [
         "28",
         "Bosnia and Herzegovina",
         "BA"
        ],
        [
         "29",
         "Botswana",
         "BW"
        ],
        [
         "30",
         "Bouvet Island",
         "BV"
        ],
        [
         "31",
         "Brazil",
         "BR"
        ],
        [
         "32",
         "British Indian Ocean Territory",
         "IO"
        ],
        [
         "33",
         "Brunei Darussalam",
         "BN"
        ],
        [
         "34",
         "Bulgaria",
         "BG"
        ],
        [
         "35",
         "Burkina Faso",
         "BF"
        ],
        [
         "36",
         "Burundi",
         "BI"
        ],
        [
         "37",
         "Cambodia",
         "KH"
        ],
        [
         "38",
         "Cameroon",
         "CM"
        ],
        [
         "39",
         "Canada",
         "CA"
        ],
        [
         "40",
         "Cape Verde",
         "CV"
        ],
        [
         "41",
         "Cayman Islands",
         "KY"
        ],
        [
         "42",
         "Central African Republic",
         "CF"
        ],
        [
         "43",
         "Chad",
         "TD"
        ],
        [
         "44",
         "Chile",
         "CL"
        ],
        [
         "45",
         "China",
         "CN"
        ],
        [
         "46",
         "Christmas Island",
         "CX"
        ],
        [
         "47",
         "Cocos (Keeling) Islands",
         "CC"
        ],
        [
         "48",
         "Colombia",
         "CO"
        ],
        [
         "49",
         "Comoros",
         "KM"
        ]
       ],
       "shape": {
        "columns": 2,
        "rows": 249
       }
      },
      "text/html": [
       "<div>\n",
       "<style scoped>\n",
       "    .dataframe tbody tr th:only-of-type {\n",
       "        vertical-align: middle;\n",
       "    }\n",
       "\n",
       "    .dataframe tbody tr th {\n",
       "        vertical-align: top;\n",
       "    }\n",
       "\n",
       "    .dataframe thead th {\n",
       "        text-align: right;\n",
       "    }\n",
       "</style>\n",
       "<table border=\"1\" class=\"dataframe\">\n",
       "  <thead>\n",
       "    <tr style=\"text-align: right;\">\n",
       "      <th></th>\n",
       "      <th>Name</th>\n",
       "      <th>Code</th>\n",
       "    </tr>\n",
       "  </thead>\n",
       "  <tbody>\n",
       "    <tr>\n",
       "      <th>0</th>\n",
       "      <td>Afghanistan</td>\n",
       "      <td>AF</td>\n",
       "    </tr>\n",
       "    <tr>\n",
       "      <th>1</th>\n",
       "      <td>Åland Islands</td>\n",
       "      <td>AX</td>\n",
       "    </tr>\n",
       "    <tr>\n",
       "      <th>2</th>\n",
       "      <td>Albania</td>\n",
       "      <td>AL</td>\n",
       "    </tr>\n",
       "    <tr>\n",
       "      <th>3</th>\n",
       "      <td>Algeria</td>\n",
       "      <td>DZ</td>\n",
       "    </tr>\n",
       "    <tr>\n",
       "      <th>4</th>\n",
       "      <td>American Samoa</td>\n",
       "      <td>AS</td>\n",
       "    </tr>\n",
       "    <tr>\n",
       "      <th>...</th>\n",
       "      <td>...</td>\n",
       "      <td>...</td>\n",
       "    </tr>\n",
       "    <tr>\n",
       "      <th>244</th>\n",
       "      <td>Wallis and Futuna</td>\n",
       "      <td>WF</td>\n",
       "    </tr>\n",
       "    <tr>\n",
       "      <th>245</th>\n",
       "      <td>Western Sahara</td>\n",
       "      <td>EH</td>\n",
       "    </tr>\n",
       "    <tr>\n",
       "      <th>246</th>\n",
       "      <td>Yemen</td>\n",
       "      <td>YE</td>\n",
       "    </tr>\n",
       "    <tr>\n",
       "      <th>247</th>\n",
       "      <td>Zambia</td>\n",
       "      <td>ZM</td>\n",
       "    </tr>\n",
       "    <tr>\n",
       "      <th>248</th>\n",
       "      <td>Zimbabwe</td>\n",
       "      <td>ZW</td>\n",
       "    </tr>\n",
       "  </tbody>\n",
       "</table>\n",
       "<p>249 rows × 2 columns</p>\n",
       "</div>"
      ],
      "text/plain": [
       "                  Name Code\n",
       "0          Afghanistan   AF\n",
       "1        Åland Islands   AX\n",
       "2              Albania   AL\n",
       "3              Algeria   DZ\n",
       "4       American Samoa   AS\n",
       "..                 ...  ...\n",
       "244  Wallis and Futuna   WF\n",
       "245     Western Sahara   EH\n",
       "246              Yemen   YE\n",
       "247             Zambia   ZM\n",
       "248           Zimbabwe   ZW\n",
       "\n",
       "[249 rows x 2 columns]"
      ]
     },
     "execution_count": 32,
     "metadata": {},
     "output_type": "execute_result"
    }
   ],
   "source": [
    "# opening the csv file that ison the internet\n",
    "import requests\n",
    "from io import StringIO\n",
    "import pandas as pd\n",
    "\n",
    "# Use the raw URL, not the GitHub webpage URL\n",
    "url = \"https://raw.githubusercontent.com/datasets/country-list/main/data.csv\"\n",
    "headers = {\"User-Agent\": \"Mozilla/5.0\"}\n",
    "\n",
    "# Make the request\n",
    "req = requests.get(url, headers=headers)\n",
    "\n",
    "# Convert to CSV using StringIO\n",
    "data = StringIO(req.text)\n",
    "\n",
    "# Load into pandas DataFrame\n",
    "df = pd.read_csv(data)\n",
    "\n",
    "# Show the first few rows\n",
    "df"
   ]
  },
  {
   "cell_type": "code",
   "execution_count": 33,
   "id": "c575749b",
   "metadata": {},
   "outputs": [
    {
     "data": {
      "application/vnd.microsoft.datawrangler.viewer.v0+json": {
       "columns": [
        {
         "name": "index",
         "rawType": "int64",
         "type": "integer"
        },
        {
         "name": "Name",
         "rawType": "object",
         "type": "string"
        },
        {
         "name": "Code",
         "rawType": "object",
         "type": "unknown"
        }
       ],
       "conversionMethod": "pd.DataFrame",
       "ref": "916914ed-c7f7-498e-a125-94e0b4620ba0",
       "rows": [
        [
         "0",
         "Afghanistan",
         "AF"
        ],
        [
         "1",
         "Åland Islands",
         "AX"
        ],
        [
         "2",
         "Albania",
         "AL"
        ],
        [
         "3",
         "Algeria",
         "DZ"
        ],
        [
         "4",
         "American Samoa",
         "AS"
        ],
        [
         "5",
         "Andorra",
         "AD"
        ],
        [
         "6",
         "Angola",
         "AO"
        ],
        [
         "7",
         "Anguilla",
         "AI"
        ],
        [
         "8",
         "Antarctica",
         "AQ"
        ],
        [
         "9",
         "Antigua and Barbuda",
         "AG"
        ],
        [
         "10",
         "Argentina",
         "AR"
        ],
        [
         "11",
         "Armenia",
         "AM"
        ],
        [
         "12",
         "Aruba",
         "AW"
        ],
        [
         "13",
         "Australia",
         "AU"
        ],
        [
         "14",
         "Austria",
         "AT"
        ],
        [
         "15",
         "Azerbaijan",
         "AZ"
        ],
        [
         "16",
         "Bahamas",
         "BS"
        ],
        [
         "17",
         "Bahrain",
         "BH"
        ],
        [
         "18",
         "Bangladesh",
         "BD"
        ],
        [
         "19",
         "Barbados",
         "BB"
        ],
        [
         "20",
         "Belarus",
         "BY"
        ],
        [
         "21",
         "Belgium",
         "BE"
        ],
        [
         "22",
         "Belize",
         "BZ"
        ],
        [
         "23",
         "Benin",
         "BJ"
        ],
        [
         "24",
         "Bermuda",
         "BM"
        ],
        [
         "25",
         "Bhutan",
         "BT"
        ],
        [
         "26",
         "Bolivia, Plurinational State of",
         "BO"
        ],
        [
         "27",
         "Bonaire, Sint Eustatius and Saba",
         "BQ"
        ],
        [
         "28",
         "Bosnia and Herzegovina",
         "BA"
        ],
        [
         "29",
         "Botswana",
         "BW"
        ],
        [
         "30",
         "Bouvet Island",
         "BV"
        ],
        [
         "31",
         "Brazil",
         "BR"
        ],
        [
         "32",
         "British Indian Ocean Territory",
         "IO"
        ],
        [
         "33",
         "Brunei Darussalam",
         "BN"
        ],
        [
         "34",
         "Bulgaria",
         "BG"
        ],
        [
         "35",
         "Burkina Faso",
         "BF"
        ],
        [
         "36",
         "Burundi",
         "BI"
        ],
        [
         "37",
         "Cambodia",
         "KH"
        ],
        [
         "38",
         "Cameroon",
         "CM"
        ],
        [
         "39",
         "Canada",
         "CA"
        ],
        [
         "40",
         "Cape Verde",
         "CV"
        ],
        [
         "41",
         "Cayman Islands",
         "KY"
        ],
        [
         "42",
         "Central African Republic",
         "CF"
        ],
        [
         "43",
         "Chad",
         "TD"
        ],
        [
         "44",
         "Chile",
         "CL"
        ],
        [
         "45",
         "China",
         "CN"
        ],
        [
         "46",
         "Christmas Island",
         "CX"
        ],
        [
         "47",
         "Cocos (Keeling) Islands",
         "CC"
        ],
        [
         "48",
         "Colombia",
         "CO"
        ],
        [
         "49",
         "Comoros",
         "KM"
        ]
       ],
       "shape": {
        "columns": 2,
        "rows": 249
       }
      },
      "text/html": [
       "<div>\n",
       "<style scoped>\n",
       "    .dataframe tbody tr th:only-of-type {\n",
       "        vertical-align: middle;\n",
       "    }\n",
       "\n",
       "    .dataframe tbody tr th {\n",
       "        vertical-align: top;\n",
       "    }\n",
       "\n",
       "    .dataframe thead th {\n",
       "        text-align: right;\n",
       "    }\n",
       "</style>\n",
       "<table border=\"1\" class=\"dataframe\">\n",
       "  <thead>\n",
       "    <tr style=\"text-align: right;\">\n",
       "      <th></th>\n",
       "      <th>Name</th>\n",
       "      <th>Code</th>\n",
       "    </tr>\n",
       "  </thead>\n",
       "  <tbody>\n",
       "    <tr>\n",
       "      <th>0</th>\n",
       "      <td>Afghanistan</td>\n",
       "      <td>AF</td>\n",
       "    </tr>\n",
       "    <tr>\n",
       "      <th>1</th>\n",
       "      <td>Åland Islands</td>\n",
       "      <td>AX</td>\n",
       "    </tr>\n",
       "    <tr>\n",
       "      <th>2</th>\n",
       "      <td>Albania</td>\n",
       "      <td>AL</td>\n",
       "    </tr>\n",
       "    <tr>\n",
       "      <th>3</th>\n",
       "      <td>Algeria</td>\n",
       "      <td>DZ</td>\n",
       "    </tr>\n",
       "    <tr>\n",
       "      <th>4</th>\n",
       "      <td>American Samoa</td>\n",
       "      <td>AS</td>\n",
       "    </tr>\n",
       "    <tr>\n",
       "      <th>...</th>\n",
       "      <td>...</td>\n",
       "      <td>...</td>\n",
       "    </tr>\n",
       "    <tr>\n",
       "      <th>244</th>\n",
       "      <td>Wallis and Futuna</td>\n",
       "      <td>WF</td>\n",
       "    </tr>\n",
       "    <tr>\n",
       "      <th>245</th>\n",
       "      <td>Western Sahara</td>\n",
       "      <td>EH</td>\n",
       "    </tr>\n",
       "    <tr>\n",
       "      <th>246</th>\n",
       "      <td>Yemen</td>\n",
       "      <td>YE</td>\n",
       "    </tr>\n",
       "    <tr>\n",
       "      <th>247</th>\n",
       "      <td>Zambia</td>\n",
       "      <td>ZM</td>\n",
       "    </tr>\n",
       "    <tr>\n",
       "      <th>248</th>\n",
       "      <td>Zimbabwe</td>\n",
       "      <td>ZW</td>\n",
       "    </tr>\n",
       "  </tbody>\n",
       "</table>\n",
       "<p>249 rows × 2 columns</p>\n",
       "</div>"
      ],
      "text/plain": [
       "                  Name Code\n",
       "0          Afghanistan   AF\n",
       "1        Åland Islands   AX\n",
       "2              Albania   AL\n",
       "3              Algeria   DZ\n",
       "4       American Samoa   AS\n",
       "..                 ...  ...\n",
       "244  Wallis and Futuna   WF\n",
       "245     Western Sahara   EH\n",
       "246              Yemen   YE\n",
       "247             Zambia   ZM\n",
       "248           Zimbabwe   ZW\n",
       "\n",
       "[249 rows x 2 columns]"
      ]
     },
     "execution_count": 33,
     "metadata": {},
     "output_type": "execute_result"
    }
   ],
   "source": [
    "# or we can do directly like this\n",
    "pd.read_csv('https://raw.githubusercontent.com/datasets/country-list/main/data.csv')"
   ]
  },
  {
   "cell_type": "code",
   "execution_count": 34,
   "id": "b6d3811d",
   "metadata": {},
   "outputs": [
    {
     "data": {
      "application/vnd.microsoft.datawrangler.viewer.v0+json": {
       "columns": [
        {
         "name": "index",
         "rawType": "int64",
         "type": "integer"
        },
        {
         "name": "Language",
         "rawType": "object",
         "type": "string"
        },
        {
         "name": "Year",
         "rawType": "int64",
         "type": "integer"
        },
        {
         "name": "Feeling",
         "rawType": "object",
         "type": "string"
        }
       ],
       "conversionMethod": "pd.DataFrame",
       "ref": "6acb0278-665a-4ccf-ad0c-69eafb7deb17",
       "rows": [
        [
         "0",
         "Python",
         "1992",
         "Golden💛"
        ],
        [
         "1",
         "JS",
         "1995",
         "WebGod🕸️"
        ],
        [
         "2",
         "C++",
         "1986",
         "Pointers👈🏻👉🏻👈🏻🫵🏻👆🏻👇🏻"
        ],
        [
         "3",
         "C",
         "1980",
         "Creator⚡"
        ]
       ],
       "shape": {
        "columns": 3,
        "rows": 4
       }
      },
      "text/html": [
       "<div>\n",
       "<style scoped>\n",
       "    .dataframe tbody tr th:only-of-type {\n",
       "        vertical-align: middle;\n",
       "    }\n",
       "\n",
       "    .dataframe tbody tr th {\n",
       "        vertical-align: top;\n",
       "    }\n",
       "\n",
       "    .dataframe thead th {\n",
       "        text-align: right;\n",
       "    }\n",
       "</style>\n",
       "<table border=\"1\" class=\"dataframe\">\n",
       "  <thead>\n",
       "    <tr style=\"text-align: right;\">\n",
       "      <th></th>\n",
       "      <th>Language</th>\n",
       "      <th>Year</th>\n",
       "      <th>Feeling</th>\n",
       "    </tr>\n",
       "  </thead>\n",
       "  <tbody>\n",
       "    <tr>\n",
       "      <th>0</th>\n",
       "      <td>Python</td>\n",
       "      <td>1992</td>\n",
       "      <td>Golden💛</td>\n",
       "    </tr>\n",
       "    <tr>\n",
       "      <th>1</th>\n",
       "      <td>JS</td>\n",
       "      <td>1995</td>\n",
       "      <td>WebGod🕸️</td>\n",
       "    </tr>\n",
       "    <tr>\n",
       "      <th>2</th>\n",
       "      <td>C++</td>\n",
       "      <td>1986</td>\n",
       "      <td>Pointers👈🏻👉🏻👈🏻🫵🏻👆🏻👇🏻</td>\n",
       "    </tr>\n",
       "    <tr>\n",
       "      <th>3</th>\n",
       "      <td>C</td>\n",
       "      <td>1980</td>\n",
       "      <td>Creator⚡</td>\n",
       "    </tr>\n",
       "  </tbody>\n",
       "</table>\n",
       "</div>"
      ],
      "text/plain": [
       "  Language  Year               Feeling\n",
       "0   Python  1992               Golden💛\n",
       "1       JS  1995              WebGod🕸️\n",
       "2      C++  1986  Pointers👈🏻👉🏻👈🏻🫵🏻👆🏻👇🏻\n",
       "3        C  1980              Creator⚡"
      ]
     },
     "execution_count": 34,
     "metadata": {},
     "output_type": "execute_result"
    }
   ],
   "source": [
    "# sep parameter -> https://youtu.be/dA6ZksRR6aw?si=v41TeJGpcSoZy5PW&t=1857\n",
    "\n",
    "# so what sep param is did is it will separate the columns by comma, for tsv file we can use sep='\\t'\n",
    "\n",
    "pd.read_csv('languages_perferences.csv',sep=',')"
   ]
  },
  {
   "cell_type": "code",
   "execution_count": null,
   "id": "9cc4ea5f",
   "metadata": {},
   "outputs": [
    {
     "data": {
      "application/vnd.microsoft.datawrangler.viewer.v0+json": {
       "columns": [
        {
         "name": "index",
         "rawType": "int64",
         "type": "integer"
        },
        {
         "name": "Lang_Name",
         "rawType": "object",
         "type": "string"
        },
        {
         "name": "Year_of_Release",
         "rawType": "object",
         "type": "string"
        },
        {
         "name": "Feeling",
         "rawType": "object",
         "type": "string"
        }
       ],
       "conversionMethod": "pd.DataFrame",
       "ref": "696e845e-ba28-4d58-82e0-b763936ec7e3",
       "rows": [
        [
         "0",
         "Language",
         "Year",
         "Feeling"
        ],
        [
         "1",
         "Python",
         "1992",
         "Golden💛"
        ],
        [
         "2",
         "JS",
         "1995",
         "WebGod🕸️"
        ],
        [
         "3",
         "C++",
         "1986",
         "Pointers👈🏻👉🏻👈🏻🫵🏻👆🏻👇🏻"
        ],
        [
         "4",
         "C",
         "1980",
         "Creator⚡"
        ]
       ],
       "shape": {
        "columns": 3,
        "rows": 5
       }
      },
      "text/html": [
       "<div>\n",
       "<style scoped>\n",
       "    .dataframe tbody tr th:only-of-type {\n",
       "        vertical-align: middle;\n",
       "    }\n",
       "\n",
       "    .dataframe tbody tr th {\n",
       "        vertical-align: top;\n",
       "    }\n",
       "\n",
       "    .dataframe thead th {\n",
       "        text-align: right;\n",
       "    }\n",
       "</style>\n",
       "<table border=\"1\" class=\"dataframe\">\n",
       "  <thead>\n",
       "    <tr style=\"text-align: right;\">\n",
       "      <th></th>\n",
       "      <th>Lang_Name</th>\n",
       "      <th>Year_of_Release</th>\n",
       "      <th>Feeling</th>\n",
       "    </tr>\n",
       "  </thead>\n",
       "  <tbody>\n",
       "    <tr>\n",
       "      <th>0</th>\n",
       "      <td>Language</td>\n",
       "      <td>Year</td>\n",
       "      <td>Feeling</td>\n",
       "    </tr>\n",
       "    <tr>\n",
       "      <th>1</th>\n",
       "      <td>Python</td>\n",
       "      <td>1992</td>\n",
       "      <td>Golden💛</td>\n",
       "    </tr>\n",
       "    <tr>\n",
       "      <th>2</th>\n",
       "      <td>JS</td>\n",
       "      <td>1995</td>\n",
       "      <td>WebGod🕸️</td>\n",
       "    </tr>\n",
       "    <tr>\n",
       "      <th>3</th>\n",
       "      <td>C++</td>\n",
       "      <td>1986</td>\n",
       "      <td>Pointers👈🏻👉🏻👈🏻🫵🏻👆🏻👇🏻</td>\n",
       "    </tr>\n",
       "    <tr>\n",
       "      <th>4</th>\n",
       "      <td>C</td>\n",
       "      <td>1980</td>\n",
       "      <td>Creator⚡</td>\n",
       "    </tr>\n",
       "  </tbody>\n",
       "</table>\n",
       "</div>"
      ],
      "text/plain": [
       "  Lang_Name Year_of_Release               Feeling\n",
       "0  Language            Year               Feeling\n",
       "1    Python            1992               Golden💛\n",
       "2        JS            1995              WebGod🕸️\n",
       "3       C++            1986  Pointers👈🏻👉🏻👈🏻🫵🏻👆🏻👇🏻\n",
       "4         C            1980              Creator⚡"
      ]
     },
     "execution_count": 20,
     "metadata": {},
     "output_type": "execute_result"
    }
   ],
   "source": [
    "# names param to change column names -> https://youtu.be/dA6ZksRR6aw?si=tFU9vq0ko9KKBfe4&t=1947\n",
    "pd.read_csv('languages_perferences.csv',sep=',',names=['Lang_Name', 'Year_of_Release', 'Feeling'])"
   ]
  },
  {
   "cell_type": "code",
   "execution_count": 21,
   "id": "7c2ffb51",
   "metadata": {},
   "outputs": [
    {
     "data": {
      "application/vnd.microsoft.datawrangler.viewer.v0+json": {
       "columns": [
        {
         "name": "Language",
         "rawType": "object",
         "type": "string"
        },
        {
         "name": "Year",
         "rawType": "int64",
         "type": "integer"
        },
        {
         "name": "Feeling",
         "rawType": "object",
         "type": "string"
        }
       ],
       "conversionMethod": "pd.DataFrame",
       "ref": "e149fd29-c943-49f8-b00c-11ee4c03b378",
       "rows": [
        [
         "Python",
         "1992",
         "Golden💛"
        ],
        [
         "JS",
         "1995",
         "WebGod🕸️"
        ],
        [
         "C++",
         "1986",
         "Pointers👈🏻👉🏻👈🏻🫵🏻👆🏻👇🏻"
        ],
        [
         "C",
         "1980",
         "Creator⚡"
        ]
       ],
       "shape": {
        "columns": 2,
        "rows": 4
       }
      },
      "text/html": [
       "<div>\n",
       "<style scoped>\n",
       "    .dataframe tbody tr th:only-of-type {\n",
       "        vertical-align: middle;\n",
       "    }\n",
       "\n",
       "    .dataframe tbody tr th {\n",
       "        vertical-align: top;\n",
       "    }\n",
       "\n",
       "    .dataframe thead th {\n",
       "        text-align: right;\n",
       "    }\n",
       "</style>\n",
       "<table border=\"1\" class=\"dataframe\">\n",
       "  <thead>\n",
       "    <tr style=\"text-align: right;\">\n",
       "      <th></th>\n",
       "      <th>Year</th>\n",
       "      <th>Feeling</th>\n",
       "    </tr>\n",
       "    <tr>\n",
       "      <th>Language</th>\n",
       "      <th></th>\n",
       "      <th></th>\n",
       "    </tr>\n",
       "  </thead>\n",
       "  <tbody>\n",
       "    <tr>\n",
       "      <th>Python</th>\n",
       "      <td>1992</td>\n",
       "      <td>Golden💛</td>\n",
       "    </tr>\n",
       "    <tr>\n",
       "      <th>JS</th>\n",
       "      <td>1995</td>\n",
       "      <td>WebGod🕸️</td>\n",
       "    </tr>\n",
       "    <tr>\n",
       "      <th>C++</th>\n",
       "      <td>1986</td>\n",
       "      <td>Pointers👈🏻👉🏻👈🏻🫵🏻👆🏻👇🏻</td>\n",
       "    </tr>\n",
       "    <tr>\n",
       "      <th>C</th>\n",
       "      <td>1980</td>\n",
       "      <td>Creator⚡</td>\n",
       "    </tr>\n",
       "  </tbody>\n",
       "</table>\n",
       "</div>"
      ],
      "text/plain": [
       "          Year               Feeling\n",
       "Language                            \n",
       "Python    1992               Golden💛\n",
       "JS        1995              WebGod🕸️\n",
       "C++       1986  Pointers👈🏻👉🏻👈🏻🫵🏻👆🏻👇🏻\n",
       "C         1980              Creator⚡"
      ]
     },
     "execution_count": 21,
     "metadata": {},
     "output_type": "execute_result"
    }
   ],
   "source": [
    "# index col param(for converting particular column into index)  -> https://youtu.be/dA6ZksRR6aw?si=DxgLkntKdmj2cgqM&t=2047\n",
    "\n",
    "pd.read_csv('languages_perferences.csv',index_col='Language')\n",
    "# or \n",
    "# pd.read_csv('languages_perferences.csv').set_index('Language')"
   ]
  },
  {
   "cell_type": "code",
   "execution_count": 22,
   "id": "959dbd73",
   "metadata": {},
   "outputs": [
    {
     "data": {
      "application/vnd.microsoft.datawrangler.viewer.v0+json": {
       "columns": [
        {
         "name": "index",
         "rawType": "int64",
         "type": "integer"
        },
        {
         "name": "0",
         "rawType": "object",
         "type": "string"
        },
        {
         "name": "1",
         "rawType": "object",
         "type": "string"
        },
        {
         "name": "2",
         "rawType": "object",
         "type": "string"
        }
       ],
       "conversionMethod": "pd.DataFrame",
       "ref": "5cf185f4-fbb8-4c7c-9609-aa2c4a9774e5",
       "rows": [
        [
         "0",
         "Language",
         "Year",
         "Feeling"
        ],
        [
         "1",
         "Python",
         "1992",
         "Golden💛"
        ],
        [
         "2",
         "JS",
         "1995",
         "WebGod🕸️"
        ],
        [
         "3",
         "C++",
         "1986",
         "Pointers👈🏻👉🏻👈🏻🫵🏻👆🏻👇🏻"
        ],
        [
         "4",
         "C",
         "1980",
         "Creator⚡"
        ]
       ],
       "shape": {
        "columns": 3,
        "rows": 5
       }
      },
      "text/html": [
       "<div>\n",
       "<style scoped>\n",
       "    .dataframe tbody tr th:only-of-type {\n",
       "        vertical-align: middle;\n",
       "    }\n",
       "\n",
       "    .dataframe tbody tr th {\n",
       "        vertical-align: top;\n",
       "    }\n",
       "\n",
       "    .dataframe thead th {\n",
       "        text-align: right;\n",
       "    }\n",
       "</style>\n",
       "<table border=\"1\" class=\"dataframe\">\n",
       "  <thead>\n",
       "    <tr style=\"text-align: right;\">\n",
       "      <th></th>\n",
       "      <th>0</th>\n",
       "      <th>1</th>\n",
       "      <th>2</th>\n",
       "    </tr>\n",
       "  </thead>\n",
       "  <tbody>\n",
       "    <tr>\n",
       "      <th>0</th>\n",
       "      <td>Language</td>\n",
       "      <td>Year</td>\n",
       "      <td>Feeling</td>\n",
       "    </tr>\n",
       "    <tr>\n",
       "      <th>1</th>\n",
       "      <td>Python</td>\n",
       "      <td>1992</td>\n",
       "      <td>Golden💛</td>\n",
       "    </tr>\n",
       "    <tr>\n",
       "      <th>2</th>\n",
       "      <td>JS</td>\n",
       "      <td>1995</td>\n",
       "      <td>WebGod🕸️</td>\n",
       "    </tr>\n",
       "    <tr>\n",
       "      <th>3</th>\n",
       "      <td>C++</td>\n",
       "      <td>1986</td>\n",
       "      <td>Pointers👈🏻👉🏻👈🏻🫵🏻👆🏻👇🏻</td>\n",
       "    </tr>\n",
       "    <tr>\n",
       "      <th>4</th>\n",
       "      <td>C</td>\n",
       "      <td>1980</td>\n",
       "      <td>Creator⚡</td>\n",
       "    </tr>\n",
       "  </tbody>\n",
       "</table>\n",
       "</div>"
      ],
      "text/plain": [
       "          0     1                     2\n",
       "0  Language  Year               Feeling\n",
       "1    Python  1992               Golden💛\n",
       "2        JS  1995              WebGod🕸️\n",
       "3       C++  1986  Pointers👈🏻👉🏻👈🏻🫵🏻👆🏻👇🏻\n",
       "4         C  1980              Creator⚡"
      ]
     },
     "execution_count": 22,
     "metadata": {},
     "output_type": "execute_result"
    }
   ],
   "source": [
    "# header param(for converting particular row into column) -> https://youtu.be/dA6ZksRR6aw?si=YGb9i-tBPBWHNsTe&t=2107\n",
    "pd.read_csv('languages_perferences.csv',header=None) # header=None will convert column into first row"
   ]
  },
  {
   "cell_type": "code",
   "execution_count": 23,
   "id": "50ca7193",
   "metadata": {},
   "outputs": [
    {
     "data": {
      "application/vnd.microsoft.datawrangler.viewer.v0+json": {
       "columns": [
        {
         "name": "index",
         "rawType": "int64",
         "type": "integer"
        },
        {
         "name": "Language",
         "rawType": "object",
         "type": "string"
        },
        {
         "name": "Feeling",
         "rawType": "object",
         "type": "string"
        }
       ],
       "conversionMethod": "pd.DataFrame",
       "ref": "6f165dbb-728f-414a-96c9-3df7f823a98a",
       "rows": [
        [
         "0",
         "Python",
         "Golden💛"
        ],
        [
         "1",
         "JS",
         "WebGod🕸️"
        ],
        [
         "2",
         "C++",
         "Pointers👈🏻👉🏻👈🏻🫵🏻👆🏻👇🏻"
        ],
        [
         "3",
         "C",
         "Creator⚡"
        ]
       ],
       "shape": {
        "columns": 2,
        "rows": 4
       }
      },
      "text/html": [
       "<div>\n",
       "<style scoped>\n",
       "    .dataframe tbody tr th:only-of-type {\n",
       "        vertical-align: middle;\n",
       "    }\n",
       "\n",
       "    .dataframe tbody tr th {\n",
       "        vertical-align: top;\n",
       "    }\n",
       "\n",
       "    .dataframe thead th {\n",
       "        text-align: right;\n",
       "    }\n",
       "</style>\n",
       "<table border=\"1\" class=\"dataframe\">\n",
       "  <thead>\n",
       "    <tr style=\"text-align: right;\">\n",
       "      <th></th>\n",
       "      <th>Language</th>\n",
       "      <th>Feeling</th>\n",
       "    </tr>\n",
       "  </thead>\n",
       "  <tbody>\n",
       "    <tr>\n",
       "      <th>0</th>\n",
       "      <td>Python</td>\n",
       "      <td>Golden💛</td>\n",
       "    </tr>\n",
       "    <tr>\n",
       "      <th>1</th>\n",
       "      <td>JS</td>\n",
       "      <td>WebGod🕸️</td>\n",
       "    </tr>\n",
       "    <tr>\n",
       "      <th>2</th>\n",
       "      <td>C++</td>\n",
       "      <td>Pointers👈🏻👉🏻👈🏻🫵🏻👆🏻👇🏻</td>\n",
       "    </tr>\n",
       "    <tr>\n",
       "      <th>3</th>\n",
       "      <td>C</td>\n",
       "      <td>Creator⚡</td>\n",
       "    </tr>\n",
       "  </tbody>\n",
       "</table>\n",
       "</div>"
      ],
      "text/plain": [
       "  Language               Feeling\n",
       "0   Python               Golden💛\n",
       "1       JS              WebGod🕸️\n",
       "2      C++  Pointers👈🏻👉🏻👈🏻🫵🏻👆🏻👇🏻\n",
       "3        C              Creator⚡"
      ]
     },
     "execution_count": 23,
     "metadata": {},
     "output_type": "execute_result"
    }
   ],
   "source": [
    "# use_cols param(to fetch only given columns) -> https://youtu.be/dA6ZksRR6aw?si=-_GCz-N0PDe36iEA&t=2177\n",
    "pd.read_csv('languages_perferences.csv',usecols=['Language','Feeling'])"
   ]
  },
  {
   "cell_type": "code",
   "execution_count": 24,
   "id": "6c1f26f1",
   "metadata": {},
   "outputs": [
    {
     "data": {
      "text/plain": [
       "0    Python\n",
       "1        JS\n",
       "2       C++\n",
       "3         C\n",
       "Name: Language, dtype: object"
      ]
     },
     "execution_count": 24,
     "metadata": {},
     "output_type": "execute_result"
    }
   ],
   "source": [
    "# squeeze function to convert dataframe into series\n",
    "pd.read_csv('languages_perferences.csv',usecols=['Language']).squeeze()"
   ]
  },
  {
   "cell_type": "code",
   "execution_count": 25,
   "id": "f3618eb4",
   "metadata": {},
   "outputs": [
    {
     "data": {
      "application/vnd.microsoft.datawrangler.viewer.v0+json": {
       "columns": [
        {
         "name": "index",
         "rawType": "int64",
         "type": "integer"
        },
        {
         "name": "Language",
         "rawType": "object",
         "type": "string"
        },
        {
         "name": "Year",
         "rawType": "int64",
         "type": "integer"
        },
        {
         "name": "Feeling",
         "rawType": "object",
         "type": "string"
        }
       ],
       "conversionMethod": "pd.DataFrame",
       "ref": "532a4710-3e69-43bc-852c-f6f0ead68d24",
       "rows": [
        [
         "0",
         "Python",
         "1992",
         "Golden💛"
        ],
        [
         "1",
         "JS",
         "1995",
         "WebGod🕸️"
        ]
       ],
       "shape": {
        "columns": 3,
        "rows": 2
       }
      },
      "text/html": [
       "<div>\n",
       "<style scoped>\n",
       "    .dataframe tbody tr th:only-of-type {\n",
       "        vertical-align: middle;\n",
       "    }\n",
       "\n",
       "    .dataframe tbody tr th {\n",
       "        vertical-align: top;\n",
       "    }\n",
       "\n",
       "    .dataframe thead th {\n",
       "        text-align: right;\n",
       "    }\n",
       "</style>\n",
       "<table border=\"1\" class=\"dataframe\">\n",
       "  <thead>\n",
       "    <tr style=\"text-align: right;\">\n",
       "      <th></th>\n",
       "      <th>Language</th>\n",
       "      <th>Year</th>\n",
       "      <th>Feeling</th>\n",
       "    </tr>\n",
       "  </thead>\n",
       "  <tbody>\n",
       "    <tr>\n",
       "      <th>0</th>\n",
       "      <td>Python</td>\n",
       "      <td>1992</td>\n",
       "      <td>Golden💛</td>\n",
       "    </tr>\n",
       "    <tr>\n",
       "      <th>1</th>\n",
       "      <td>JS</td>\n",
       "      <td>1995</td>\n",
       "      <td>WebGod🕸️</td>\n",
       "    </tr>\n",
       "  </tbody>\n",
       "</table>\n",
       "</div>"
      ],
      "text/plain": [
       "  Language  Year   Feeling\n",
       "0   Python  1992   Golden💛\n",
       "1       JS  1995  WebGod🕸️"
      ]
     },
     "execution_count": 25,
     "metadata": {},
     "output_type": "execute_result"
    }
   ],
   "source": [
    "# skiprows and nrows params -> https://youtu.be/dA6ZksRR6aw?si=S41J_Fan6SDUyis7&t=2307\n",
    "pd.read_csv('languages_perferences.csv',nrows=2) # will read only first two rows"
   ]
  },
  {
   "cell_type": "code",
   "execution_count": 26,
   "id": "4a01f336",
   "metadata": {},
   "outputs": [
    {
     "data": {
      "application/vnd.microsoft.datawrangler.viewer.v0+json": {
       "columns": [
        {
         "name": "index",
         "rawType": "int64",
         "type": "integer"
        },
        {
         "name": "Python",
         "rawType": "object",
         "type": "string"
        },
        {
         "name": "1992",
         "rawType": "int64",
         "type": "integer"
        },
        {
         "name": "Golden💛",
         "rawType": "object",
         "type": "string"
        }
       ],
       "conversionMethod": "pd.DataFrame",
       "ref": "5c7b831f-62d9-4bbf-87a8-b2248b67b2d8",
       "rows": [
        [
         "0",
         "JS",
         "1995",
         "WebGod🕸️"
        ],
        [
         "1",
         "C",
         "1980",
         "Creator⚡"
        ]
       ],
       "shape": {
        "columns": 3,
        "rows": 2
       }
      },
      "text/html": [
       "<div>\n",
       "<style scoped>\n",
       "    .dataframe tbody tr th:only-of-type {\n",
       "        vertical-align: middle;\n",
       "    }\n",
       "\n",
       "    .dataframe tbody tr th {\n",
       "        vertical-align: top;\n",
       "    }\n",
       "\n",
       "    .dataframe thead th {\n",
       "        text-align: right;\n",
       "    }\n",
       "</style>\n",
       "<table border=\"1\" class=\"dataframe\">\n",
       "  <thead>\n",
       "    <tr style=\"text-align: right;\">\n",
       "      <th></th>\n",
       "      <th>Python</th>\n",
       "      <th>1992</th>\n",
       "      <th>Golden💛</th>\n",
       "    </tr>\n",
       "  </thead>\n",
       "  <tbody>\n",
       "    <tr>\n",
       "      <th>0</th>\n",
       "      <td>JS</td>\n",
       "      <td>1995</td>\n",
       "      <td>WebGod🕸️</td>\n",
       "    </tr>\n",
       "    <tr>\n",
       "      <th>1</th>\n",
       "      <td>C</td>\n",
       "      <td>1980</td>\n",
       "      <td>Creator⚡</td>\n",
       "    </tr>\n",
       "  </tbody>\n",
       "</table>\n",
       "</div>"
      ],
      "text/plain": [
       "  Python  1992   Golden💛\n",
       "0     JS  1995  WebGod🕸️\n",
       "1      C  1980  Creator⚡"
      ]
     },
     "execution_count": 26,
     "metadata": {},
     "output_type": "execute_result"
    }
   ],
   "source": [
    "pd.read_csv('languages_perferences.csv',skiprows=2) # will skip first two rows\n",
    "pd.read_csv('languages_perferences.csv',skiprows=[0,3]) # will skip first and third rows"
   ]
  },
  {
   "cell_type": "code",
   "execution_count": 27,
   "id": "10d9b610",
   "metadata": {},
   "outputs": [
    {
     "data": {
      "application/vnd.microsoft.datawrangler.viewer.v0+json": {
       "columns": [
        {
         "name": "index",
         "rawType": "int64",
         "type": "integer"
        },
        {
         "name": "Language",
         "rawType": "object",
         "type": "string"
        },
        {
         "name": "Year",
         "rawType": "int64",
         "type": "integer"
        },
        {
         "name": "Feeling",
         "rawType": "object",
         "type": "string"
        }
       ],
       "conversionMethod": "pd.DataFrame",
       "ref": "85c76b68-6d39-482a-89c5-09fbf747e680",
       "rows": [
        [
         "0",
         "Python",
         "1992",
         "Golden💛"
        ],
        [
         "1",
         "JS",
         "1995",
         "WebGod🕸️"
        ]
       ],
       "shape": {
        "columns": 3,
        "rows": 2
       }
      },
      "text/html": [
       "<div>\n",
       "<style scoped>\n",
       "    .dataframe tbody tr th:only-of-type {\n",
       "        vertical-align: middle;\n",
       "    }\n",
       "\n",
       "    .dataframe tbody tr th {\n",
       "        vertical-align: top;\n",
       "    }\n",
       "\n",
       "    .dataframe thead th {\n",
       "        text-align: right;\n",
       "    }\n",
       "</style>\n",
       "<table border=\"1\" class=\"dataframe\">\n",
       "  <thead>\n",
       "    <tr style=\"text-align: right;\">\n",
       "      <th></th>\n",
       "      <th>Language</th>\n",
       "      <th>Year</th>\n",
       "      <th>Feeling</th>\n",
       "    </tr>\n",
       "  </thead>\n",
       "  <tbody>\n",
       "    <tr>\n",
       "      <th>0</th>\n",
       "      <td>Python</td>\n",
       "      <td>1992</td>\n",
       "      <td>Golden💛</td>\n",
       "    </tr>\n",
       "    <tr>\n",
       "      <th>1</th>\n",
       "      <td>JS</td>\n",
       "      <td>1995</td>\n",
       "      <td>WebGod🕸️</td>\n",
       "    </tr>\n",
       "  </tbody>\n",
       "</table>\n",
       "</div>"
      ],
      "text/plain": [
       "  Language  Year   Feeling\n",
       "0   Python  1992   Golden💛\n",
       "1       JS  1995  WebGod🕸️"
      ]
     },
     "execution_count": 27,
     "metadata": {},
     "output_type": "execute_result"
    }
   ],
   "source": [
    "# skip rows on logic\n",
    "\n",
    "pd.read_csv('languages_perferences.csv',skiprows=lambda row : row>2) # will skip first two "
   ]
  },
  {
   "cell_type": "code",
   "execution_count": 28,
   "id": "46abfbbf",
   "metadata": {},
   "outputs": [],
   "source": [
    "# encoding parameter -> https://youtu.be/dA6ZksRR6aw?si=tdfoSRxlWdRNpi6L&t=2477\n"
   ]
  },
  {
   "cell_type": "code",
   "execution_count": 29,
   "id": "cacbc294",
   "metadata": {},
   "outputs": [],
   "source": [
    "# skip bad lines(error_bad_line=False) ->  https://youtu.be/dA6ZksRR6aw?si=Ne7QJn7qxZT_XL1w&t=2657\n"
   ]
  },
  {
   "cell_type": "code",
   "execution_count": 44,
   "id": "9e7ced64",
   "metadata": {},
   "outputs": [
    {
     "name": "stdout",
     "output_type": "stream",
     "text": [
      "<class 'pandas.core.frame.DataFrame'>\n",
      "RangeIndex: 4 entries, 0 to 3\n",
      "Data columns (total 3 columns):\n",
      " #   Column    Non-Null Count  Dtype \n",
      "---  ------    --------------  ----- \n",
      " 0   Language  4 non-null      object\n",
      " 1   Year      4 non-null      int32 \n",
      " 2   Feeling   4 non-null      object\n",
      "dtypes: int32(1), object(2)\n",
      "memory usage: 212.0+ bytes\n"
     ]
    }
   ],
   "source": [
    "# dtype param -> https://youtu.be/dA6ZksRR6aw?si=4GDCKERBWJmS6gCe&t=2717\n",
    "pd.read_csv('languages_perferences.csv',dtype={'Year':np.int32}).info()"
   ]
  },
  {
   "cell_type": "code",
   "execution_count": 68,
   "id": "def84952",
   "metadata": {},
   "outputs": [
    {
     "data": {
      "application/vnd.microsoft.datawrangler.viewer.v0+json": {
       "columns": [
        {
         "name": "index",
         "rawType": "int64",
         "type": "integer"
        },
        {
         "name": "Language",
         "rawType": "object",
         "type": "string"
        },
        {
         "name": "Year",
         "rawType": "datetime64[ns]",
         "type": "datetime"
        },
        {
         "name": "Feeling",
         "rawType": "object",
         "type": "string"
        }
       ],
       "conversionMethod": "pd.DataFrame",
       "ref": "4481ca51-039e-49c1-ac8b-981295d0f99a",
       "rows": [
        [
         "0",
         "Python",
         "1992-01-01 00:00:00",
         "Golden💛"
        ],
        [
         "1",
         "JS",
         "1995-01-01 00:00:00",
         "WebGod🕸️"
        ],
        [
         "2",
         "C++",
         "1986-01-01 00:00:00",
         "Pointers👈🏻👉🏻👈🏻🫵🏻👆🏻👇🏻"
        ],
        [
         "3",
         "C",
         "1980-01-01 00:00:00",
         "Creator⚡"
        ]
       ],
       "shape": {
        "columns": 3,
        "rows": 4
       }
      },
      "text/html": [
       "<div>\n",
       "<style scoped>\n",
       "    .dataframe tbody tr th:only-of-type {\n",
       "        vertical-align: middle;\n",
       "    }\n",
       "\n",
       "    .dataframe tbody tr th {\n",
       "        vertical-align: top;\n",
       "    }\n",
       "\n",
       "    .dataframe thead th {\n",
       "        text-align: right;\n",
       "    }\n",
       "</style>\n",
       "<table border=\"1\" class=\"dataframe\">\n",
       "  <thead>\n",
       "    <tr style=\"text-align: right;\">\n",
       "      <th></th>\n",
       "      <th>Language</th>\n",
       "      <th>Year</th>\n",
       "      <th>Feeling</th>\n",
       "    </tr>\n",
       "  </thead>\n",
       "  <tbody>\n",
       "    <tr>\n",
       "      <th>0</th>\n",
       "      <td>Python</td>\n",
       "      <td>1992-01-01</td>\n",
       "      <td>Golden💛</td>\n",
       "    </tr>\n",
       "    <tr>\n",
       "      <th>1</th>\n",
       "      <td>JS</td>\n",
       "      <td>1995-01-01</td>\n",
       "      <td>WebGod🕸️</td>\n",
       "    </tr>\n",
       "    <tr>\n",
       "      <th>2</th>\n",
       "      <td>C++</td>\n",
       "      <td>1986-01-01</td>\n",
       "      <td>Pointers👈🏻👉🏻👈🏻🫵🏻👆🏻👇🏻</td>\n",
       "    </tr>\n",
       "    <tr>\n",
       "      <th>3</th>\n",
       "      <td>C</td>\n",
       "      <td>1980-01-01</td>\n",
       "      <td>Creator⚡</td>\n",
       "    </tr>\n",
       "  </tbody>\n",
       "</table>\n",
       "</div>"
      ],
      "text/plain": [
       "  Language       Year               Feeling\n",
       "0   Python 1992-01-01               Golden💛\n",
       "1       JS 1995-01-01              WebGod🕸️\n",
       "2      C++ 1986-01-01  Pointers👈🏻👉🏻👈🏻🫵🏻👆🏻👇🏻\n",
       "3        C 1980-01-01              Creator⚡"
      ]
     },
     "execution_count": 68,
     "metadata": {},
     "output_type": "execute_result"
    }
   ],
   "source": [
    "# Handling dates using `parse_dates` -> https://youtu.be/dA6ZksRR6aw?si=cd8udkNbBCayhR4H&t=2827\n",
    "# we can also pass list of indexes of columns to parse as dates(each column separately)\n",
    "\n",
    "pd.read_csv('languages_perferences.csv',parse_dates=['Year'])  "
   ]
  },
  {
   "cell_type": "code",
   "execution_count": null,
   "id": "a5267a50",
   "metadata": {},
   "outputs": [
    {
     "name": "stderr",
     "output_type": "stream",
     "text": [
      "C:\\Users\\Vedansh\\AppData\\Local\\Temp\\ipykernel_16944\\894734175.py:4: FutureWarning: Support for nested sequences for 'parse_dates' in pd.read_csv is deprecated. Combine the desired columns with pd.to_datetime after parsing instead.\n",
      "  pd.read_csv('languages_perferences.csv',parse_dates=[['Year','Month']])\n",
      "C:\\Users\\Vedansh\\AppData\\Local\\Temp\\ipykernel_16944\\894734175.py:4: UserWarning: Could not infer format, so each element will be parsed individually, falling back to `dateutil`. To ensure parsing is consistent and as-expected, please specify a format.\n",
      "  pd.read_csv('languages_perferences.csv',parse_dates=[['Year','Month']])\n",
      "C:\\Users\\Vedansh\\AppData\\Local\\Temp\\ipykernel_16944\\894734175.py:5: FutureWarning: Support for nested sequences for 'parse_dates' in pd.read_csv is deprecated. Combine the desired columns with pd.to_datetime after parsing instead.\n",
      "  pd.read_csv('languages_perferences.csv',parse_dates={'Date':['Year','Month']})\n",
      "C:\\Users\\Vedansh\\AppData\\Local\\Temp\\ipykernel_16944\\894734175.py:5: UserWarning: Could not infer format, so each element will be parsed individually, falling back to `dateutil`. To ensure parsing is consistent and as-expected, please specify a format.\n",
      "  pd.read_csv('languages_perferences.csv',parse_dates={'Date':['Year','Month']})\n"
     ]
    },
    {
     "data": {
      "application/vnd.microsoft.datawrangler.viewer.v0+json": {
       "columns": [
        {
         "name": "index",
         "rawType": "int64",
         "type": "integer"
        },
        {
         "name": "Date",
         "rawType": "datetime64[ns]",
         "type": "datetime"
        },
        {
         "name": "Language",
         "rawType": "object",
         "type": "string"
        },
        {
         "name": "Feeling",
         "rawType": "object",
         "type": "string"
        }
       ],
       "conversionMethod": "pd.DataFrame",
       "ref": "f14875f3-99f2-456f-bdc2-f415902652be",
       "rows": [
        [
         "0",
         "1992-12-01 00:00:00",
         "Python",
         "Golden💛"
        ],
        [
         "1",
         "1995-02-01 00:00:00",
         "JS",
         "WebGod🕸️"
        ],
        [
         "2",
         "1986-07-01 00:00:00",
         "C++",
         "Pointers👈🏻👉🏻👈🏻🫵🏻👆🏻👇🏻"
        ],
        [
         "3",
         "1980-09-01 00:00:00",
         "C",
         "Creator⚡"
        ]
       ],
       "shape": {
        "columns": 3,
        "rows": 4
       }
      },
      "text/html": [
       "<div>\n",
       "<style scoped>\n",
       "    .dataframe tbody tr th:only-of-type {\n",
       "        vertical-align: middle;\n",
       "    }\n",
       "\n",
       "    .dataframe tbody tr th {\n",
       "        vertical-align: top;\n",
       "    }\n",
       "\n",
       "    .dataframe thead th {\n",
       "        text-align: right;\n",
       "    }\n",
       "</style>\n",
       "<table border=\"1\" class=\"dataframe\">\n",
       "  <thead>\n",
       "    <tr style=\"text-align: right;\">\n",
       "      <th></th>\n",
       "      <th>Date</th>\n",
       "      <th>Language</th>\n",
       "      <th>Feeling</th>\n",
       "    </tr>\n",
       "  </thead>\n",
       "  <tbody>\n",
       "    <tr>\n",
       "      <th>0</th>\n",
       "      <td>1992-12-01</td>\n",
       "      <td>Python</td>\n",
       "      <td>Golden💛</td>\n",
       "    </tr>\n",
       "    <tr>\n",
       "      <th>1</th>\n",
       "      <td>1995-02-01</td>\n",
       "      <td>JS</td>\n",
       "      <td>WebGod🕸️</td>\n",
       "    </tr>\n",
       "    <tr>\n",
       "      <th>2</th>\n",
       "      <td>1986-07-01</td>\n",
       "      <td>C++</td>\n",
       "      <td>Pointers👈🏻👉🏻👈🏻🫵🏻👆🏻👇🏻</td>\n",
       "    </tr>\n",
       "    <tr>\n",
       "      <th>3</th>\n",
       "      <td>1980-09-01</td>\n",
       "      <td>C</td>\n",
       "      <td>Creator⚡</td>\n",
       "    </tr>\n",
       "  </tbody>\n",
       "</table>\n",
       "</div>"
      ],
      "text/plain": [
       "        Date Language               Feeling\n",
       "0 1992-12-01   Python               Golden💛\n",
       "1 1995-02-01       JS              WebGod🕸️\n",
       "2 1986-07-01      C++  Pointers👈🏻👉🏻👈🏻🫵🏻👆🏻👇🏻\n",
       "3 1980-09-01        C              Creator⚡"
      ]
     },
     "execution_count": 67,
     "metadata": {},
     "output_type": "execute_result"
    }
   ],
   "source": [
    "\n",
    "\n",
    "\n",
    "# i just change this dataset for 2 minutes\n",
    "\n",
    "# when we pass indexes in list of list to parse as dates, it try to combine all those\n",
    "pd.read_csv('languages_perferences.csv',parse_dates=[['Year','Month']])\n",
    "\n",
    "# for give combined column specific name\n",
    "pd.read_csv('languages_perferences.csv',parse_dates={'Date':['Year','Month']})"
   ]
  },
  {
   "cell_type": "code",
   "execution_count": 70,
   "id": "35fabbb2",
   "metadata": {},
   "outputs": [
    {
     "data": {
      "application/vnd.microsoft.datawrangler.viewer.v0+json": {
       "columns": [
        {
         "name": "index",
         "rawType": "int64",
         "type": "integer"
        },
        {
         "name": "Language",
         "rawType": "object",
         "type": "string"
        },
        {
         "name": "Year",
         "rawType": "int64",
         "type": "integer"
        },
        {
         "name": "Feeling",
         "rawType": "object",
         "type": "string"
        }
       ],
       "conversionMethod": "pd.DataFrame",
       "ref": "76abaecd-7008-42d7-838b-59733f66fc73",
       "rows": [
        [
         "0",
         "Python",
         "1992",
         "Golden💛"
        ],
        [
         "1",
         "JavaScript",
         "1995",
         "WebGod🕸️"
        ],
        [
         "2",
         "C++",
         "1986",
         "Pointers👈🏻👉🏻👈🏻🫵🏻👆🏻👇🏻"
        ],
        [
         "3",
         "C",
         "1980",
         "Creator⚡"
        ]
       ],
       "shape": {
        "columns": 3,
        "rows": 4
       }
      },
      "text/html": [
       "<div>\n",
       "<style scoped>\n",
       "    .dataframe tbody tr th:only-of-type {\n",
       "        vertical-align: middle;\n",
       "    }\n",
       "\n",
       "    .dataframe tbody tr th {\n",
       "        vertical-align: top;\n",
       "    }\n",
       "\n",
       "    .dataframe thead th {\n",
       "        text-align: right;\n",
       "    }\n",
       "</style>\n",
       "<table border=\"1\" class=\"dataframe\">\n",
       "  <thead>\n",
       "    <tr style=\"text-align: right;\">\n",
       "      <th></th>\n",
       "      <th>Language</th>\n",
       "      <th>Year</th>\n",
       "      <th>Feeling</th>\n",
       "    </tr>\n",
       "  </thead>\n",
       "  <tbody>\n",
       "    <tr>\n",
       "      <th>0</th>\n",
       "      <td>Python</td>\n",
       "      <td>1992</td>\n",
       "      <td>Golden💛</td>\n",
       "    </tr>\n",
       "    <tr>\n",
       "      <th>1</th>\n",
       "      <td>JavaScript</td>\n",
       "      <td>1995</td>\n",
       "      <td>WebGod🕸️</td>\n",
       "    </tr>\n",
       "    <tr>\n",
       "      <th>2</th>\n",
       "      <td>C++</td>\n",
       "      <td>1986</td>\n",
       "      <td>Pointers👈🏻👉🏻👈🏻🫵🏻👆🏻👇🏻</td>\n",
       "    </tr>\n",
       "    <tr>\n",
       "      <th>3</th>\n",
       "      <td>C</td>\n",
       "      <td>1980</td>\n",
       "      <td>Creator⚡</td>\n",
       "    </tr>\n",
       "  </tbody>\n",
       "</table>\n",
       "</div>"
      ],
      "text/plain": [
       "     Language  Year               Feeling\n",
       "0      Python  1992               Golden💛\n",
       "1  JavaScript  1995              WebGod🕸️\n",
       "2         C++  1986  Pointers👈🏻👉🏻👈🏻🫵🏻👆🏻👇🏻\n",
       "3           C  1980              Creator⚡"
      ]
     },
     "execution_count": 70,
     "metadata": {},
     "output_type": "execute_result"
    }
   ],
   "source": [
    "# convertors -> https://youtu.be/dA6ZksRR6aw?si=0TC62ofTYnPHt0Xf&t=3007\n",
    "pd.read_csv('languages_perferences.csv',converters={'Language':lambda x : 'JavaScript' if x == 'JS' else x} )"
   ]
  },
  {
   "cell_type": "code",
   "execution_count": 3,
   "id": "4269940f",
   "metadata": {},
   "outputs": [
    {
     "data": {
      "application/vnd.microsoft.datawrangler.viewer.v0+json": {
       "columns": [
        {
         "name": "index",
         "rawType": "int64",
         "type": "integer"
        },
        {
         "name": "Language",
         "rawType": "object",
         "type": "unknown"
        },
        {
         "name": "Year",
         "rawType": "int64",
         "type": "integer"
        },
        {
         "name": "Feeling",
         "rawType": "object",
         "type": "string"
        }
       ],
       "conversionMethod": "pd.DataFrame",
       "ref": "a57b9b85-3038-46d4-83cc-9831648c2017",
       "rows": [
        [
         "0",
         "Python",
         "1992",
         "Golden💛"
        ],
        [
         "1",
         "JS",
         "1995",
         "WebGod🕸️"
        ],
        [
         "2",
         null,
         "1986",
         "Pointers👈🏻👉🏻👈🏻🫵🏻👆🏻👇🏻"
        ],
        [
         "3",
         "C",
         "1980",
         "Creator⚡"
        ]
       ],
       "shape": {
        "columns": 3,
        "rows": 4
       }
      },
      "text/html": [
       "<div>\n",
       "<style scoped>\n",
       "    .dataframe tbody tr th:only-of-type {\n",
       "        vertical-align: middle;\n",
       "    }\n",
       "\n",
       "    .dataframe tbody tr th {\n",
       "        vertical-align: top;\n",
       "    }\n",
       "\n",
       "    .dataframe thead th {\n",
       "        text-align: right;\n",
       "    }\n",
       "</style>\n",
       "<table border=\"1\" class=\"dataframe\">\n",
       "  <thead>\n",
       "    <tr style=\"text-align: right;\">\n",
       "      <th></th>\n",
       "      <th>Language</th>\n",
       "      <th>Year</th>\n",
       "      <th>Feeling</th>\n",
       "    </tr>\n",
       "  </thead>\n",
       "  <tbody>\n",
       "    <tr>\n",
       "      <th>0</th>\n",
       "      <td>Python</td>\n",
       "      <td>1992</td>\n",
       "      <td>Golden💛</td>\n",
       "    </tr>\n",
       "    <tr>\n",
       "      <th>1</th>\n",
       "      <td>JS</td>\n",
       "      <td>1995</td>\n",
       "      <td>WebGod🕸️</td>\n",
       "    </tr>\n",
       "    <tr>\n",
       "      <th>2</th>\n",
       "      <td>NaN</td>\n",
       "      <td>1986</td>\n",
       "      <td>Pointers👈🏻👉🏻👈🏻🫵🏻👆🏻👇🏻</td>\n",
       "    </tr>\n",
       "    <tr>\n",
       "      <th>3</th>\n",
       "      <td>C</td>\n",
       "      <td>1980</td>\n",
       "      <td>Creator⚡</td>\n",
       "    </tr>\n",
       "  </tbody>\n",
       "</table>\n",
       "</div>"
      ],
      "text/plain": [
       "  Language  Year               Feeling\n",
       "0   Python  1992               Golden💛\n",
       "1       JS  1995              WebGod🕸️\n",
       "2      NaN  1986  Pointers👈🏻👉🏻👈🏻🫵🏻👆🏻👇🏻\n",
       "3        C  1980              Creator⚡"
      ]
     },
     "execution_count": 3,
     "metadata": {},
     "output_type": "execute_result"
    }
   ],
   "source": [
    "# `na_values` param -> https://youtu.be/dA6ZksRR6aw?si=upYdQr1CTQzxmKdc&t=3127\n",
    "\n",
    "# so the value we passed in the na_values will be considered as NaN\n",
    "pd.read_csv('languages_perferences.csv',na_values=['C++'])"
   ]
  },
  {
   "cell_type": "code",
   "execution_count": 101,
   "id": "a3c5f006",
   "metadata": {},
   "outputs": [
    {
     "data": {
      "text/plain": [
       "<pandas.io.parsers.readers.TextFileReader at 0x1c946a10ff0>"
      ]
     },
     "execution_count": 101,
     "metadata": {},
     "output_type": "execute_result"
    }
   ],
   "source": [
    "# loading a huge dataset in chunks -> https://youtu.be/dA6ZksRR6aw?si=Xcq9GQ00O7XQzjyD&t=3247\n",
    "\n",
    "chunkCsv = pd.read_csv('languages_perferences.csv',chunksize=2)\n",
    "chunkCsv"
   ]
  },
  {
   "cell_type": "code",
   "execution_count": 102,
   "id": "b511a02e",
   "metadata": {},
   "outputs": [
    {
     "name": "stdout",
     "output_type": "stream",
     "text": [
      "0    1992\n",
      "1    1995\n",
      "Name: Year, dtype: int64\n",
      "\n",
      "\n",
      "2    1986\n",
      "3    1980\n",
      "Name: Year, dtype: int64\n",
      "\n",
      "\n"
     ]
    }
   ],
   "source": [
    "# but not its like an iterator, once it exhaust it will return nothing\n",
    "for chunk in chunkCsv:\n",
    "    print(chunk['Year'])\n",
    "    print('\\n')"
   ]
  }
 ],
 "metadata": {
  "kernelspec": {
   "display_name": "Python 3",
   "language": "python",
   "name": "python3"
  },
  "language_info": {
   "codemirror_mode": {
    "name": "ipython",
    "version": 3
   },
   "file_extension": ".py",
   "mimetype": "text/x-python",
   "name": "python",
   "nbconvert_exporter": "python",
   "pygments_lexer": "ipython3",
   "version": "3.13.2"
  }
 },
 "nbformat": 4,
 "nbformat_minor": 5
}
